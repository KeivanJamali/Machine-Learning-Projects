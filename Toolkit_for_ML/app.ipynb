{
 "cells": [
  {
   "cell_type": "code",
   "execution_count": 4,
   "id": "initial_id",
   "metadata": {
    "collapsed": true,
    "ExecuteTime": {
     "end_time": "2024-01-26T07:47:51.081786700Z",
     "start_time": "2024-01-26T07:47:51.024179Z"
    }
   },
   "outputs": [
    {
     "name": "stdout",
     "output_type": "stream",
     "text": [
      "The autoreload extension is already loaded. To reload it, use:\n",
      "  %reload_ext autoreload\n"
     ]
    }
   ],
   "source": [
    "%load_ext autoreload\n",
    "%autoreload 2"
   ]
  },
  {
   "cell_type": "code",
   "outputs": [],
   "source": [
    "data_path = \"path.csv\""
   ],
   "metadata": {
    "collapsed": false,
    "ExecuteTime": {
     "end_time": "2024-01-26T07:54:54.049883200Z",
     "start_time": "2024-01-26T07:54:53.932503400Z"
    }
   },
   "id": "ed4664c2855fc843",
   "execution_count": 18
  },
  {
   "cell_type": "code",
   "outputs": [
    {
     "name": "stdout",
     "output_type": "stream",
     "text": [
      "1 1 1\n"
     ]
    },
    {
     "data": {
      "text/plain": "  0%|          | 0/100 [00:00<?, ?it/s]",
      "application/vnd.jupyter.widget-view+json": {
       "version_major": 2,
       "version_minor": 0,
       "model_id": "5098f5972fd74a67ad72559f0512b724"
      }
     },
     "metadata": {},
     "output_type": "display_data"
    },
    {
     "name": "stdout",
     "output_type": "stream",
     "text": [
      "Epoch 0 | train: Loss 0.435684 Accuracy -13.0904 | validation: Loss 0.307923 Accuracy -29.0311\n",
      "Epoch 1 | train: Loss 0.371185 Accuracy -11.0045 | validation: Loss 0.252801 Accuracy -23.6551\n",
      "Epoch 2 | train: Loss 0.311617 Accuracy -9.0780 | validation: Loss 0.202569 Accuracy -18.7561\n",
      "Epoch 3 | train: Loss 0.256973 Accuracy -7.3108 | validation: Loss 0.157324 Accuracy -14.3435\n",
      "Epoch 4 | train: Loss 0.207354 Accuracy -5.7060 | validation: Loss 0.117286 Accuracy -10.4387\n",
      "Epoch 5 | train: Loss 0.162985 Accuracy -4.2711 | validation: Loss 0.082803 Accuracy -7.0756\n",
      "Epoch 6 | train: Loss 0.124230 Accuracy -3.0177 | validation: Loss 0.054326 Accuracy -4.2983\n",
      "Epoch 7 | train: Loss 0.091559 Accuracy -1.9611 | validation: Loss 0.032360 Accuracy -2.1560\n",
      "Epoch 8 | train: Loss 0.065505 Accuracy -1.1185 | validation: Loss 0.017360 Accuracy -0.6931\n",
      "Epoch 9 | train: Loss 0.046562 Accuracy -0.5059 | validation: Loss 0.009570 Accuracy 0.0666\n",
      "Epoch 10 | train: Loss 0.035030 Accuracy -0.1329 | validation: Loss 0.008782 Accuracy 0.1435\n",
      "Epoch 11 | train: Loss 0.030773 Accuracy 0.0048 | validation: Loss 0.014017 Accuracy -0.3671\n",
      "Epoch 12 | train: Loss 0.032909 Accuracy -0.0643 | validation: Loss 0.023296 Accuracy -1.2720\n",
      "Epoch 13 | train: Loss 0.039561 Accuracy -0.2794 | validation: Loss 0.033802 Accuracy -2.2967\n",
      "Epoch 14 | train: Loss 0.048013 Accuracy -0.5528 | validation: Loss 0.042694 Accuracy -3.1639\n",
      "Epoch 15 | train: Loss 0.055470 Accuracy -0.7939 | validation: Loss 0.048047 Accuracy -3.6859\n",
      "Epoch 16 | train: Loss 0.059998 Accuracy -0.9404 | validation: Loss 0.049232 Accuracy -3.8015\n",
      "Epoch 17 | train: Loss 0.060913 Accuracy -0.9700 | validation: Loss 0.046692 Accuracy -3.5538\n",
      "Epoch 18 | train: Loss 0.058580 Accuracy -0.8945 | validation: Loss 0.041476 Accuracy -3.0450\n",
      "Epoch 19 | train: Loss 0.053962 Accuracy -0.7452 | validation: Loss 0.034818 Accuracy -2.3957\n",
      "Epoch 20 | train: Loss 0.048206 Accuracy -0.5590 | validation: Loss 0.027849 Accuracy -1.7161\n",
      "Epoch 21 | train: Loss 0.042360 Accuracy -0.3700 | validation: Loss 0.021440 Accuracy -1.0910\n",
      "Epoch 22 | train: Loss 0.037215 Accuracy -0.2036 | validation: Loss 0.016140 Accuracy -0.5741\n",
      "Epoch 23 | train: Loss 0.033248 Accuracy -0.0753 | validation: Loss 0.012199 Accuracy -0.1897\n",
      "Epoch 24 | train: Loss 0.030642 Accuracy 0.0090 | validation: Loss 0.009615 Accuracy 0.0623\n",
      "Epoch 25 | train: Loss 0.029339 Accuracy 0.0511 | validation: Loss 0.008214 Accuracy 0.1989\n",
      "Epoch 26 | train: Loss 0.029119 Accuracy 0.0583 | validation: Loss 0.007727 Accuracy 0.2464\n",
      "Epoch 27 | train: Loss 0.029675 Accuracy 0.0403 | validation: Loss 0.007849 Accuracy 0.2345\n",
      "Epoch 28 | train: Loss 0.030677 Accuracy 0.0079 | validation: Loss 0.008293 Accuracy 0.1912\n",
      "Epoch 29 | train: Loss 0.031822 Accuracy -0.0291 | validation: Loss 0.008822 Accuracy 0.1396\n",
      "Epoch 30 | train: Loss 0.032864 Accuracy -0.0628 | validation: Loss 0.009261 Accuracy 0.0967\n",
      "Epoch 31 | train: Loss 0.033629 Accuracy -0.0876 | validation: Loss 0.009507 Accuracy 0.0728\n",
      "Epoch 32 | train: Loss 0.034018 Accuracy -0.1002 | validation: Loss 0.009516 Accuracy 0.0719\n",
      "Epoch 33 | train: Loss 0.034001 Accuracy -0.0996 | validation: Loss 0.009302 Accuracy 0.0928\n",
      "Epoch 34 | train: Loss 0.033604 Accuracy -0.0868 | validation: Loss 0.008916 Accuracy 0.1304\n",
      "Epoch 35 | train: Loss 0.032897 Accuracy -0.0639 | validation: Loss 0.008437 Accuracy 0.1771\n",
      "Epoch 36 | train: Loss 0.031978 Accuracy -0.0342 | validation: Loss 0.007953 Accuracy 0.2244\n",
      "Epoch 37 | train: Loss 0.030955 Accuracy -0.0011 | validation: Loss 0.007550 Accuracy 0.2636\n",
      "Epoch 38 | train: Loss 0.029938 Accuracy 0.0318 | validation: Loss 0.007302 Accuracy 0.2879\n",
      "Epoch 39 | train: Loss 0.029023 Accuracy 0.0614 | validation: Loss 0.007255 Accuracy 0.2925\n",
      "Epoch 40 | train: Loss 0.028282 Accuracy 0.0853 | validation: Loss 0.007428 Accuracy 0.2755\n",
      "Epoch 41 | train: Loss 0.027757 Accuracy 0.1023 | validation: Loss 0.007808 Accuracy 0.2385\n",
      "Epoch 42 | train: Loss 0.027457 Accuracy 0.1120 | validation: Loss 0.008349 Accuracy 0.1858\n",
      "Epoch 43 | train: Loss 0.027359 Accuracy 0.1152 | validation: Loss 0.008984 Accuracy 0.1238\n",
      "Epoch 44 | train: Loss 0.027415 Accuracy 0.1134 | validation: Loss 0.009632 Accuracy 0.0606\n",
      "Epoch 45 | train: Loss 0.027561 Accuracy 0.1087 | validation: Loss 0.010212 Accuracy 0.0041\n",
      "Epoch 46 | train: Loss 0.027728 Accuracy 0.1033 | validation: Loss 0.010655 Accuracy -0.0391\n",
      "Epoch 47 | train: Loss 0.027855 Accuracy 0.0991 | validation: Loss 0.010914 Accuracy -0.0644\n",
      "Epoch 48 | train: Loss 0.027898 Accuracy 0.0978 | validation: Loss 0.010968 Accuracy -0.0696\n",
      "Epoch 49 | train: Loss 0.027834 Accuracy 0.0998 | validation: Loss 0.010824 Accuracy -0.0556\n",
      "Epoch 50 | train: Loss 0.027666 Accuracy 0.1053 | validation: Loss 0.010513 Accuracy -0.0253\n",
      "Epoch 51 | train: Loss 0.027412 Accuracy 0.1135 | validation: Loss 0.010081 Accuracy 0.0169\n",
      "Epoch 52 | train: Loss 0.027105 Accuracy 0.1234 | validation: Loss 0.009579 Accuracy 0.0658\n",
      "Epoch 53 | train: Loss 0.026782 Accuracy 0.1339 | validation: Loss 0.009058 Accuracy 0.1166\n",
      "Epoch 54 | train: Loss 0.026476 Accuracy 0.1437 | validation: Loss 0.008561 Accuracy 0.1651\n",
      "Epoch 55 | train: Loss 0.026213 Accuracy 0.1522 | validation: Loss 0.008118 Accuracy 0.2083\n",
      "Epoch 56 | train: Loss 0.026007 Accuracy 0.1589 | validation: Loss 0.007745 Accuracy 0.2446\n",
      "Epoch 57 | train: Loss 0.025859 Accuracy 0.1637 | validation: Loss 0.007449 Accuracy 0.2736\n",
      "Epoch 58 | train: Loss 0.025762 Accuracy 0.1668 | validation: Loss 0.007224 Accuracy 0.2955\n",
      "Epoch 59 | train: Loss 0.025700 Accuracy 0.1688 | validation: Loss 0.007062 Accuracy 0.3113\n",
      "Epoch 60 | train: Loss 0.025655 Accuracy 0.1703 | validation: Loss 0.006950 Accuracy 0.3222\n",
      "Epoch 61 | train: Loss 0.025609 Accuracy 0.1718 | validation: Loss 0.006878 Accuracy 0.3292\n",
      "Epoch 62 | train: Loss 0.025549 Accuracy 0.1737 | validation: Loss 0.006837 Accuracy 0.3332\n",
      "Epoch 63 | train: Loss 0.025465 Accuracy 0.1764 | validation: Loss 0.006821 Accuracy 0.3348\n",
      "Epoch 64 | train: Loss 0.025355 Accuracy 0.1800 | validation: Loss 0.006829 Accuracy 0.3340\n",
      "Epoch 65 | train: Loss 0.025220 Accuracy 0.1844 | validation: Loss 0.006861 Accuracy 0.3308\n",
      "Epoch 66 | train: Loss 0.025067 Accuracy 0.1893 | validation: Loss 0.006919 Accuracy 0.3252\n",
      "Epoch 67 | train: Loss 0.024904 Accuracy 0.1946 | validation: Loss 0.007003 Accuracy 0.3170\n",
      "Epoch 68 | train: Loss 0.024742 Accuracy 0.1998 | validation: Loss 0.007112 Accuracy 0.3063\n",
      "Epoch 69 | train: Loss 0.024587 Accuracy 0.2048 | validation: Loss 0.007243 Accuracy 0.2937\n",
      "Epoch 70 | train: Loss 0.024444 Accuracy 0.2094 | validation: Loss 0.007386 Accuracy 0.2796\n",
      "Epoch 71 | train: Loss 0.024317 Accuracy 0.2136 | validation: Loss 0.007535 Accuracy 0.2651\n",
      "Epoch 72 | train: Loss 0.024204 Accuracy 0.2172 | validation: Loss 0.007677 Accuracy 0.2513\n",
      "Epoch 73 | train: Loss 0.024100 Accuracy 0.2206 | validation: Loss 0.007801 Accuracy 0.2392\n",
      "Epoch 74 | train: Loss 0.024002 Accuracy 0.2238 | validation: Loss 0.007898 Accuracy 0.2297\n",
      "Epoch 75 | train: Loss 0.023903 Accuracy 0.2270 | validation: Loss 0.007961 Accuracy 0.2236\n",
      "Epoch 76 | train: Loss 0.023799 Accuracy 0.2303 | validation: Loss 0.007987 Accuracy 0.2210\n",
      "Epoch 77 | train: Loss 0.023688 Accuracy 0.2339 | validation: Loss 0.007977 Accuracy 0.2220\n",
      "Epoch 78 | train: Loss 0.023568 Accuracy 0.2378 | validation: Loss 0.007934 Accuracy 0.2263\n",
      "Epoch 79 | train: Loss 0.023441 Accuracy 0.2419 | validation: Loss 0.007864 Accuracy 0.2330\n",
      "Epoch 80 | train: Loss 0.023310 Accuracy 0.2461 | validation: Loss 0.007778 Accuracy 0.2415\n",
      "Epoch 81 | train: Loss 0.023177 Accuracy 0.2504 | validation: Loss 0.007682 Accuracy 0.2508\n",
      "Epoch 82 | train: Loss 0.023045 Accuracy 0.2547 | validation: Loss 0.007585 Accuracy 0.2602\n",
      "Epoch 83 | train: Loss 0.022916 Accuracy 0.2589 | validation: Loss 0.007495 Accuracy 0.2690\n",
      "Epoch 84 | train: Loss 0.022792 Accuracy 0.2629 | validation: Loss 0.007417 Accuracy 0.2767\n",
      "Epoch 85 | train: Loss 0.022671 Accuracy 0.2668 | validation: Loss 0.007353 Accuracy 0.2829\n",
      "Epoch 86 | train: Loss 0.022553 Accuracy 0.2706 | validation: Loss 0.007307 Accuracy 0.2873\n",
      "Epoch 87 | train: Loss 0.022436 Accuracy 0.2744 | validation: Loss 0.007280 Accuracy 0.2900\n",
      "Epoch 88 | train: Loss 0.022319 Accuracy 0.2782 | validation: Loss 0.007271 Accuracy 0.2909\n",
      "Epoch 89 | train: Loss 0.022199 Accuracy 0.2820 | validation: Loss 0.007280 Accuracy 0.2900\n",
      "Epoch 90 | train: Loss 0.022077 Accuracy 0.2860 | validation: Loss 0.007307 Accuracy 0.2874\n",
      "Epoch 91 | train: Loss 0.021951 Accuracy 0.2901 | validation: Loss 0.007349 Accuracy 0.2833\n",
      "Epoch 92 | train: Loss 0.021823 Accuracy 0.2942 | validation: Loss 0.007404 Accuracy 0.2779\n",
      "Epoch 93 | train: Loss 0.021694 Accuracy 0.2984 | validation: Loss 0.007471 Accuracy 0.2713\n",
      "Epoch 94 | train: Loss 0.021563 Accuracy 0.3026 | validation: Loss 0.007547 Accuracy 0.2640\n",
      "Epoch 95 | train: Loss 0.021433 Accuracy 0.3068 | validation: Loss 0.007627 Accuracy 0.2562\n",
      "Epoch 96 | train: Loss 0.021304 Accuracy 0.3110 | validation: Loss 0.007709 Accuracy 0.2482\n",
      "Epoch 97 | train: Loss 0.021176 Accuracy 0.3152 | validation: Loss 0.007788 Accuracy 0.2405\n",
      "Epoch 98 | train: Loss 0.021048 Accuracy 0.3193 | validation: Loss 0.007861 Accuracy 0.2333\n",
      "Epoch 99 | train: Loss 0.020920 Accuracy 0.3234 | validation: Loss 0.007926 Accuracy 0.2270\n"
     ]
    }
   ],
   "source": [
    "import DataLoader, Machine_Model, Engine\n",
    "import torch\n",
    "\n",
    "train_percent = 0.8\n",
    "val_percent = 0.1\n",
    "random_state = 42\n",
    "batch_size = 100\n",
    "\n",
    "dataloader = DataLoader.MyDataloader(file_path=data_path, train_percent=train_percent, val_percent=val_percent,\n",
    "                                     random_state=random_state, batch_size=batch_size)\n",
    "train, val, test = dataloader.fit()\n",
    "\n",
    "if len(train) == 0 or len(val) == 0 or len(test) == 0:\n",
    "    raise \"Data with zero item. Not working. Change the sequence or the batch size.\"\n",
    "\n",
    "INPUT_SIZE = len(train.dataset[0][0][0])  # number of features\n",
    "HIDDEN_UNITS = 128\n",
    "OUTPUT_SIZE = 1\n",
    "\n",
    "model0 = Machine_Model.RNN_V0(input_size=INPUT_SIZE, hidden_size=HIDDEN_UNITS, output_size=OUTPUT_SIZE)\n",
    "\n",
    "EPOCHS = 100\n",
    "loss_fn = torch.nn.MSELoss()\n",
    "learning_rate = 0.0001\n",
    "optimizer = torch.optim.Adam(model0.parameters(), learning_rate)\n",
    "\n",
    "engine = Engine.Machine_Engine(model=model0, train_dataloader=train, val_dataloader=val, test_dataloader=test)\n",
    "model0_results = engine.train(loss_fn=loss_fn, optimizer=optimizer, epochs_num=EPOCHS,\n",
    "                              early_stop_patience=None, writer=False)\n"
   ],
   "metadata": {
    "collapsed": false,
    "ExecuteTime": {
     "end_time": "2024-01-26T08:23:26.895140100Z",
     "start_time": "2024-01-26T08:23:25.272074300Z"
    }
   },
   "id": "9b64ea059743de69",
   "execution_count": 46
  },
  {
   "cell_type": "code",
   "outputs": [
    {
     "data": {
      "text/plain": "<Figure size 640x480 with 1 Axes>",
      "image/png": "[encoded data removed]"
     },
     "metadata": {},
     "output_type": "display_data"
    }
   ],
   "source": [
    "engine.plot_loss()\n",
    "engine.plot_acc()"
   ],
   "metadata": {
    "collapsed": false
   },
   "id": "f3ec3501bda43728",
   "execution_count": 47
  },
  {
   "cell_type": "code",
   "outputs": [
    {
     "name": "stdout",
     "output_type": "stream",
     "text": [
      "[!!!IMPORTANT NOTE!!!]\n",
      "The test_function provided here is intended solely for the final model analysis and reporting purposes.\n",
      "Please refrain from using it as a general-purpose function in your own projects. Always refer to\n",
      "the appropriate train and validation data for developing and fine-tuning your own models.\n"
     ]
    },
    {
     "data": {
      "text/plain": "0.9942651575594049"
     },
     "execution_count": 34,
     "metadata": {},
     "output_type": "execute_result"
    }
   ],
   "source": [
    "test_loss, test_acc, true_predict_list = engine.test(loss_fn=loss_fn)\n",
    "test_acc"
   ],
   "metadata": {
    "collapsed": false,
    "ExecuteTime": {
     "end_time": "2024-01-26T08:04:42.000902500Z",
     "start_time": "2024-01-26T08:04:41.867310600Z"
    }
   },
   "id": "e4d5f56384295ece",
   "execution_count": 34
  }
 ],
 "metadata": {
  "kernelspec": {
   "display_name": "Python 3",
   "language": "python",
   "name": "python3"
  },
  "language_info": {
   "codemirror_mode": {
    "name": "ipython",
    "version": 2
   },
   "file_extension": ".py",
   "mimetype": "text/x-python",
   "name": "python",
   "nbconvert_exporter": "python",
   "pygments_lexer": "ipython2",
   "version": "2.7.6"
  }
 },
 "nbformat": 4,
 "nbformat_minor": 5
}
