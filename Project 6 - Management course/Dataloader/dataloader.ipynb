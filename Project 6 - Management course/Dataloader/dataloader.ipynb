{
 "cells": [
  {
   "cell_type": "code",
   "execution_count": 174,
   "id": "initial_id",
   "metadata": {
    "collapsed": true,
    "ExecuteTime": {
     "end_time": "2023-12-31T02:23:27.326464700Z",
     "start_time": "2023-12-31T02:23:27.219269600Z"
    }
   },
   "outputs": [
    {
     "name": "stdout",
     "output_type": "stream",
     "text": [
      "The autoreload extension is already loaded. To reload it, use:\n",
      "  %reload_ext autoreload\n"
     ]
    }
   ],
   "source": [
    "%load_ext autoreload\n",
    "%autoreload 2"
   ]
  },
  {
   "cell_type": "code",
   "outputs": [],
   "source": [
    "import pandas as pd"
   ],
   "metadata": {
    "collapsed": false,
    "ExecuteTime": {
     "end_time": "2023-12-31T02:23:27.560708600Z",
     "start_time": "2023-12-31T02:23:27.452749500Z"
    }
   },
   "id": "bd25377b7af1321d",
   "execution_count": 175
  },
  {
   "cell_type": "markdown",
   "source": [
    "conference events in last 5 years in the university of \"A\". this data should contains these columns: \"name of event\", \"the place which it performs\", \"datetime\", \"duration\", \"number of attendance\", \"if the conference is international\", \"subject of the conference\", \"quality of sound systems in place\", \"capacity of the place\", \"the money that spend for that event\", \"any income amount if available\"."
   ],
   "metadata": {
    "collapsed": false
   },
   "id": "96163d49fddfb143"
  },
  {
   "cell_type": "code",
   "outputs": [],
   "source": [
    "data = pd.read_csv(\"conference_data.csv\")"
   ],
   "metadata": {
    "collapsed": false,
    "ExecuteTime": {
     "end_time": "2023-12-31T02:23:28.807392600Z",
     "start_time": "2023-12-31T02:23:28.676788100Z"
    }
   },
   "id": "49ceba29908ff124",
   "execution_count": 176
  },
  {
   "cell_type": "code",
   "outputs": [
    {
     "data": {
      "text/plain": "                                            Event_name        Date  Duration  \\\n0                           Global Summit Data Science  2019-01-04       180   \n1                     Virtual Event Sentiment Analysis  2019-01-04       292   \n2    International Congress Natural Language Proces...  2019-01-09       243   \n3                  International Workshop Smart Cities  2019-01-11       281   \n4                       Global Summit Machine Learning  2019-01-17        74   \n..                                                 ...         ...       ...   \n995                 Virtual Event Explainable Robotics  2023-12-28        53   \n996                        Symposium Computer Graphics  2023-12-28       109   \n997                       Expert Panel Cloud Computing  2023-12-30       139   \n998  Virtual Event Computer-Assisted Language Learning  2023-12-30       218   \n999  Technical Colloquium Privacy-Preserving Techno...  2023-12-31        54   \n\n     Number_of_Attendance  International  Expenses     Place  Renting  \\\n0                      94           True        69  Mechanic       30   \n1                     223           True        15     Jaber       20   \n2                      60           True       108   Kahroba      120   \n3                     143          False        59  Mechanic       30   \n4                      43          False        17  Mechanic       30   \n..                    ...            ...       ...       ...      ...   \n995                    84           True        28    Rabiee       25   \n996                   116          False        11  Mechanic       30   \n997                   125           True       102  Mechanic       30   \n998                   113          False        86  Mechanic       30   \n999                   233           True       167    Jabari       10   \n\n     Capacity  Sound_System_quality  \n0         150                     5  \n1         280                     5  \n2         100                     3  \n3         150                     5  \n4         150                     5  \n..        ...                   ...  \n995       300                     4  \n996       150                     5  \n997       150                     5  \n998       150                     5  \n999      1000                     1  \n\n[1000 rows x 10 columns]",
      "text/html": "<div>\n<style scoped>\n    .dataframe tbody tr th:only-of-type {\n        vertical-align: middle;\n    }\n\n    .dataframe tbody tr th {\n        vertical-align: top;\n    }\n\n    .dataframe thead th {\n        text-align: right;\n    }\n</style>\n<table border=\"1\" class=\"dataframe\">\n  <thead>\n    <tr style=\"text-align: right;\">\n      <th></th>\n      <th>Event_name</th>\n      <th>Date</th>\n      <th>Duration</th>\n      <th>Number_of_Attendance</th>\n      <th>International</th>\n      <th>Expenses</th>\n      <th>Place</th>\n      <th>Renting</th>\n      <th>Capacity</th>\n      <th>Sound_System_quality</th>\n    </tr>\n  </thead>\n  <tbody>\n    <tr>\n      <th>0</th>\n      <td>Global Summit Data Science</td>\n      <td>2019-01-04</td>\n      <td>180</td>\n      <td>94</td>\n      <td>True</td>\n      <td>69</td>\n      <td>Mechanic</td>\n      <td>30</td>\n      <td>150</td>\n      <td>5</td>\n    </tr>\n    <tr>\n      <th>1</th>\n      <td>Virtual Event Sentiment Analysis</td>\n      <td>2019-01-04</td>\n      <td>292</td>\n      <td>223</td>\n      <td>True</td>\n      <td>15</td>\n      <td>Jaber</td>\n      <td>20</td>\n      <td>280</td>\n      <td>5</td>\n    </tr>\n    <tr>\n      <th>2</th>\n      <td>International Congress Natural Language Proces...</td>\n      <td>2019-01-09</td>\n      <td>243</td>\n      <td>60</td>\n      <td>True</td>\n      <td>108</td>\n      <td>Kahroba</td>\n      <td>120</td>\n      <td>100</td>\n      <td>3</td>\n    </tr>\n    <tr>\n      <th>3</th>\n      <td>International Workshop Smart Cities</td>\n      <td>2019-01-11</td>\n      <td>281</td>\n      <td>143</td>\n      <td>False</td>\n      <td>59</td>\n      <td>Mechanic</td>\n      <td>30</td>\n      <td>150</td>\n      <td>5</td>\n    </tr>\n    <tr>\n      <th>4</th>\n      <td>Global Summit Machine Learning</td>\n      <td>2019-01-17</td>\n      <td>74</td>\n      <td>43</td>\n      <td>False</td>\n      <td>17</td>\n      <td>Mechanic</td>\n      <td>30</td>\n      <td>150</td>\n      <td>5</td>\n    </tr>\n    <tr>\n      <th>...</th>\n      <td>...</td>\n      <td>...</td>\n      <td>...</td>\n      <td>...</td>\n      <td>...</td>\n      <td>...</td>\n      <td>...</td>\n      <td>...</td>\n      <td>...</td>\n      <td>...</td>\n    </tr>\n    <tr>\n      <th>995</th>\n      <td>Virtual Event Explainable Robotics</td>\n      <td>2023-12-28</td>\n      <td>53</td>\n      <td>84</td>\n      <td>True</td>\n      <td>28</td>\n      <td>Rabiee</td>\n      <td>25</td>\n      <td>300</td>\n      <td>4</td>\n    </tr>\n    <tr>\n      <th>996</th>\n      <td>Symposium Computer Graphics</td>\n      <td>2023-12-28</td>\n      <td>109</td>\n      <td>116</td>\n      <td>False</td>\n      <td>11</td>\n      <td>Mechanic</td>\n      <td>30</td>\n      <td>150</td>\n      <td>5</td>\n    </tr>\n    <tr>\n      <th>997</th>\n      <td>Expert Panel Cloud Computing</td>\n      <td>2023-12-30</td>\n      <td>139</td>\n      <td>125</td>\n      <td>True</td>\n      <td>102</td>\n      <td>Mechanic</td>\n      <td>30</td>\n      <td>150</td>\n      <td>5</td>\n    </tr>\n    <tr>\n      <th>998</th>\n      <td>Virtual Event Computer-Assisted Language Learning</td>\n      <td>2023-12-30</td>\n      <td>218</td>\n      <td>113</td>\n      <td>False</td>\n      <td>86</td>\n      <td>Mechanic</td>\n      <td>30</td>\n      <td>150</td>\n      <td>5</td>\n    </tr>\n    <tr>\n      <th>999</th>\n      <td>Technical Colloquium Privacy-Preserving Techno...</td>\n      <td>2023-12-31</td>\n      <td>54</td>\n      <td>233</td>\n      <td>True</td>\n      <td>167</td>\n      <td>Jabari</td>\n      <td>10</td>\n      <td>1000</td>\n      <td>1</td>\n    </tr>\n  </tbody>\n</table>\n<p>1000 rows × 10 columns</p>\n</div>"
     },
     "execution_count": 177,
     "metadata": {},
     "output_type": "execute_result"
    }
   ],
   "source": [
    "data"
   ],
   "metadata": {
    "collapsed": false,
    "ExecuteTime": {
     "end_time": "2023-12-31T02:23:29.398713100Z",
     "start_time": "2023-12-31T02:23:29.265213400Z"
    }
   },
   "id": "5fc55b51ef94d84b",
   "execution_count": 177
  },
  {
   "cell_type": "code",
   "outputs": [],
   "source": [
    "import torch\n",
    "from torch import nn\n"
   ],
   "metadata": {
    "collapsed": false,
    "ExecuteTime": {
     "end_time": "2023-12-31T02:46:45.421392400Z",
     "start_time": "2023-12-31T02:46:44.713107900Z"
    }
   },
   "id": "20ee1fc6b1875206",
   "execution_count": 224
  },
  {
   "cell_type": "code",
   "outputs": [],
   "source": [
    "import DataLoader\n",
    "\n",
    "seq = 10\n",
    "\n",
    "dataloader = DataLoader.Dataloader(\"conference_data.csv\", sequence_length=seq)\n",
    "train_data, val_data, test_data = dataloader.creat_dataloaders(batch_size=32)\n"
   ],
   "metadata": {
    "collapsed": false,
    "ExecuteTime": {
     "end_time": "2023-12-31T03:10:30.746010300Z",
     "start_time": "2023-12-31T03:10:30.627494800Z"
    }
   },
   "id": "4ebedec3fb826d0c",
   "execution_count": 279
  },
  {
   "cell_type": "code",
   "outputs": [
    {
     "name": "stdout",
     "output_type": "stream",
     "text": [
      "[INFO] create SummaryWriter saving to runs\\2023-12-31-07\\Conference_V0_32\\LSTM\\100epoch\n"
     ]
    },
    {
     "data": {
      "text/plain": "  0%|          | 0/100 [00:00<?, ?it/s]",
      "application/vnd.jupyter.widget-view+json": {
       "version_major": 2,
       "version_minor": 0,
       "model_id": "d20fc6695dd54c3299bf94bdcd262444"
      }
     },
     "metadata": {},
     "output_type": "display_data"
    },
    {
     "name": "stdout",
     "output_type": "stream",
     "text": [
      "Epoch 0 | train: Loss 0.213781 Accuracy -0.58 | validation: Loss 0.204902 Accuracy -0.48\n",
      "Epoch 1 | train: Loss 0.212178 Accuracy -0.58 | validation: Loss 0.198819 Accuracy -0.49\n",
      "Epoch 2 | train: Loss 0.211157 Accuracy -0.55 | validation: Loss 0.211873 Accuracy -0.48\n",
      "Epoch 3 | train: Loss 0.209200 Accuracy -0.53 | validation: Loss 0.200180 Accuracy -0.44\n",
      "Epoch 4 | train: Loss 0.208513 Accuracy -0.51 | validation: Loss 0.181022 Accuracy -0.35\n",
      "Epoch 5 | train: Loss 0.206410 Accuracy -0.50 | validation: Loss 0.186418 Accuracy -0.40\n",
      "Epoch 6 | train: Loss 0.203582 Accuracy -0.47 | validation: Loss 0.179515 Accuracy -0.38\n",
      "Epoch 7 | train: Loss 0.203191 Accuracy -0.45 | validation: Loss 0.178871 Accuracy -0.35\n",
      "Epoch 8 | train: Loss 0.201131 Accuracy -0.45 | validation: Loss 0.185250 Accuracy -0.33\n",
      "Epoch 9 | train: Loss 0.198367 Accuracy -0.45 | validation: Loss 0.184852 Accuracy -0.33\n",
      "Epoch 10 | train: Loss 0.194972 Accuracy -0.41 | validation: Loss 0.198357 Accuracy -0.38\n",
      "Epoch 11 | train: Loss 0.195569 Accuracy -0.41 | validation: Loss 0.184311 Accuracy -0.31\n",
      "Epoch 12 | train: Loss 0.193328 Accuracy -0.39 | validation: Loss 0.193488 Accuracy -0.33\n",
      "Epoch 13 | train: Loss 0.189936 Accuracy -0.37 | validation: Loss 0.175331 Accuracy -0.30\n",
      "Epoch 14 | train: Loss 0.191283 Accuracy -0.39 | validation: Loss 0.186450 Accuracy -0.32\n",
      "Epoch 15 | train: Loss 0.188667 Accuracy -0.38 | validation: Loss 0.193601 Accuracy -0.34\n",
      "Epoch 16 | train: Loss 0.187942 Accuracy -0.35 | validation: Loss 0.192709 Accuracy -0.31\n",
      "Epoch 17 | train: Loss 0.184983 Accuracy -0.33 | validation: Loss 0.161493 Accuracy -0.25\n",
      "Epoch 18 | train: Loss 0.182758 Accuracy -0.32 | validation: Loss 0.160733 Accuracy -0.21\n",
      "Epoch 19 | train: Loss 0.181953 Accuracy -0.31 | validation: Loss 0.158822 Accuracy -0.21\n",
      "Epoch 20 | train: Loss 0.180685 Accuracy -0.31 | validation: Loss 0.166531 Accuracy -0.21\n",
      "Epoch 21 | train: Loss 0.180002 Accuracy -0.30 | validation: Loss 0.171001 Accuracy -0.22\n",
      "Epoch 22 | train: Loss 0.179134 Accuracy -0.29 | validation: Loss 0.155367 Accuracy -0.19\n",
      "Epoch 23 | train: Loss 0.177228 Accuracy -0.27 | validation: Loss 0.177445 Accuracy -0.28\n",
      "Epoch 24 | train: Loss 0.174383 Accuracy -0.27 | validation: Loss 0.167815 Accuracy -0.22\n",
      "Epoch 25 | train: Loss 0.173875 Accuracy -0.26 | validation: Loss 0.156465 Accuracy -0.17\n",
      "Epoch 26 | train: Loss 0.172326 Accuracy -0.26 | validation: Loss 0.176553 Accuracy -0.23\n",
      "Epoch 27 | train: Loss 0.173307 Accuracy -0.25 | validation: Loss 0.149103 Accuracy -0.15\n",
      "Epoch 28 | train: Loss 0.170406 Accuracy -0.26 | validation: Loss 0.159016 Accuracy -0.19\n",
      "Epoch 29 | train: Loss 0.169193 Accuracy -0.23 | validation: Loss 0.151450 Accuracy -0.16\n",
      "Epoch 30 | train: Loss 0.168766 Accuracy -0.24 | validation: Loss 0.139999 Accuracy -0.13\n",
      "Epoch 31 | train: Loss 0.166412 Accuracy -0.23 | validation: Loss 0.157585 Accuracy -0.16\n",
      "Epoch 32 | train: Loss 0.165796 Accuracy -0.22 | validation: Loss 0.154589 Accuracy -0.15\n",
      "Epoch 33 | train: Loss 0.165640 Accuracy -0.22 | validation: Loss 0.157259 Accuracy -0.22\n",
      "Epoch 34 | train: Loss 0.163194 Accuracy -0.21 | validation: Loss 0.148956 Accuracy -0.14\n",
      "Epoch 35 | train: Loss 0.162040 Accuracy -0.21 | validation: Loss 0.166755 Accuracy -0.29\n",
      "Epoch 36 | train: Loss 0.163113 Accuracy -0.21 | validation: Loss 0.166800 Accuracy -0.20\n",
      "Epoch 37 | train: Loss 0.161586 Accuracy -0.21 | validation: Loss 0.146049 Accuracy -0.12\n",
      "Epoch 38 | train: Loss 0.161573 Accuracy -0.20 | validation: Loss 0.153785 Accuracy -0.17\n",
      "Epoch 39 | train: Loss 0.158780 Accuracy -0.22 | validation: Loss 0.170192 Accuracy -0.19\n",
      "Epoch 40 | train: Loss 0.159888 Accuracy -0.19 | validation: Loss 0.142611 Accuracy -0.13\n",
      "Early_Stop_at_ 40 Epoch\n"
     ]
    }
   ],
   "source": [
    "import Model, Engine\n",
    "\n",
    "device = \"cuda\" if torch.cuda.is_available() else \"cpu\"\n",
    "\n",
    "INPUT_SIZE = len(train_data.dataset[0][0][0])  # number of features\n",
    "HIDDEN_UNITS = 64\n",
    "NUM_LAYERS = 5\n",
    "OUTPUT_SIZE = 3\n",
    "EPOCHS = 100\n",
    "\n",
    "model_name = \"Conference_V0_32\"\n",
    "# experiment = \"RNN\"\n",
    "# experiment = \"GRU\"\n",
    "experiment = \"LSTM\"\n",
    "\n",
    "model0 = Model.RNN_V0(INPUT_SIZE, HIDDEN_UNITS, NUM_LAYERS, OUTPUT_SIZE)\n",
    "\n",
    "loss_fn = nn.MSELoss()\n",
    "learning_rate = 0.0001\n",
    "optimizer = torch.optim.SGD(model0.parameters(), learning_rate)\n",
    "\n",
    "model0_results, model0_true_predict = Engine.train(model=model0,\n",
    "                                                   train_dataloader=train_data,\n",
    "                                                   test_dataloader=val_data,\n",
    "                                                   loss_fn=loss_fn,\n",
    "                                                   optimizer=optimizer,\n",
    "                                                   epochs=EPOCHS,\n",
    "                                                   experiment_name=model_name,\n",
    "                                                   model_name=experiment,\n",
    "                                                   early_stop_patience=10,\n",
    "                                                   device=device)\n",
    "\n"
   ],
   "metadata": {
    "collapsed": false,
    "ExecuteTime": {
     "end_time": "2023-12-31T03:35:18.717127400Z",
     "start_time": "2023-12-31T03:35:12.421633400Z"
    }
   },
   "id": "4f81cb94e7ccb77c",
   "execution_count": 305
  },
  {
   "cell_type": "code",
   "outputs": [],
   "source": [],
   "metadata": {
    "collapsed": false
   },
   "id": "6387db9989cd1669"
  }
 ],
 "metadata": {
  "kernelspec": {
   "display_name": "Python 3",
   "language": "python",
   "name": "python3"
  },
  "language_info": {
   "codemirror_mode": {
    "name": "ipython",
    "version": 2
   },
   "file_extension": ".py",
   "mimetype": "text/x-python",
   "name": "python",
   "nbconvert_exporter": "python",
   "pygments_lexer": "ipython2",
   "version": "2.7.6"
  }
 },
 "nbformat": 4,
 "nbformat_minor": 5
}
