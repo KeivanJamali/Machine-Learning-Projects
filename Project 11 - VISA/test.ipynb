{
 "cells": [
  {
   "cell_type": "code",
   "execution_count": 3,
   "metadata": {},
   "outputs": [
    {
     "data": {
      "text/plain": [
       "'<!DOCTYPE html>\\n<html>\\n <head>\\n  <meta charset=\"utf-8\"/>\\n  <title>\\n   Exported Data\\n  </title>\\n  <meta content=\"width=device-width, initial-scale=1.0\" name=\"viewport\"/>\\n  <link href=\"css/style.css\" rel=\"stylesheet\"/>\\n  <script src=\"js/script.js\" type=\"text/javascript\">\\n  </script>\\n </head>\\n <body onload=\"CheckLocation();\">\\n  <div class=\"page_wrap\">\\n   <div class=\"page_header\">\\n    <div class=\"content\">\\n     <div class=\"text bold\">\\n      US visa clearance details reported by Iranian students\\n     </div>\\n    </div>\\n   </div>\\n   <div class=\"page_body chat_page\">\\n    <div class=\"history\">\\n     <div class=\"message service\" id=\"message-1\">\\n      <div class=\"body details\">\\n       26 January 2024\\n      </div>\\n     </div>\\n     <div class=\"message service\" id=\"message1\">\\n      <div class=\"body details\">\\n       Channel «US visa clearance details reported by Iranian students» created\\n      </div>\\n     </div>\\n     <div class=\"message service\" id=\"message3\">\\n      <div class=\"body details\">\\n       US visa clearance details reported by Iranian students pinned\\n       <a href=\"#go_to_message2\" onclick=\"return GoToMessage(2)\">\\n        this message\\n       </a>\\n      </div>\\n     </div>\\n     <div class=\"message default clearfix\" id=\"message4\">\\n      <div class=\"pull_left userpic_wrap\">\\n       <div class=\"userpic userpic1\" style=\"width: 42px; height: 42px\">\\n        <div class=\"initials\" style=\"line-height: 42px\">\\n         U\\n        </div>\\n       </div>\\n      </div>\\n      <div class=\"body\">\\n       <div class=\"pull_right date details\" title=\"26.01.2024 17:28:03 UTC+03:30\">\\n        17:28\\n       </div>\\n       <div class=\"from_name\">\\n        US visa clearance details reported by Iranian students\\n       </div>\\n       <div class=\"media_wrap clearfix\">\\n        <div class=\"media clearfix pull_left media_photo\">\\n         <div class=\"fill pull_left\">\\n         </div>\\n         <div class=\"body\">\\n          <div class=\"title bold\">\\n           Photo\\n          </div>\\n          <div class=\"description\">\\n '"
      ]
     },
     "execution_count": 3,
     "metadata": {},
     "output_type": "execute_result"
    }
   ],
   "source": [
    "from bs4 import BeautifulSoup\n",
    "import pandas as pd\n",
    "\n",
    "# Load the HTML content\n",
    "file_path = r\"D:\\All Python\\Machine-Learning-Projects\\Project 11 - VISA\\raw-data\\messages.html\"\n",
    "\n",
    "# Read the HTML file\n",
    "with open(file_path, 'r', encoding='utf-8') as file:\n",
    "    html_content = file.read()\n",
    "\n",
    "# Parse the HTML with BeautifulSoup\n",
    "soup = BeautifulSoup(html_content, 'html.parser')\n",
    "\n",
    "# Check the structure of the HTML to understand how data is organized\n",
    "soup.prettify()[:2000]  # Show first 2000 characters to analyze structure\n"
   ]
  },
  {
   "cell_type": "code",
   "execution_count": 11,
   "metadata": {},
   "outputs": [
    {
     "name": "stdout",
     "output_type": "stream",
     "text": [
      "\n",
      "\n",
      "\n",
      "\n",
      "U\n",
      "        \n",
      "\n",
      "\n",
      "\n",
      "\n",
      "13:25\n",
      "       \n",
      "\n",
      "US visa clearance details reported by Iranian students \n",
      "       \n",
      "\n",
      "#پیام_ناشناسسلام من بالاخره ایمیل رو گرفتم. کیسم رو جمع و جور یه بار دیگه میگم. امیدوارم سریع ویزای همه بیاد و از این شرایط رد بشیم. تاریخ مصاحبه: ۳۱ می ۲۰۲۳تاریخ اپدیت با تغییر استتوس ای پی: ۵ مارچ ۲۰۲۴تاریخ اپدیت دوم: ۱۲ مارچ وضعیت ریفیوز ۸ خطی شدتاریخ دریافت ایمیل: ۱۳ مارچ ۲۰۲۴سفارت: دوبینوع ویزا: F2خدمت سربازی: نیروی انتظامی همراه با کسری پروژهآفیسر: ستاریتوضیحات:۲ بار ایمیل زده بودم به سفارت و ًشرایط رو توضیح داده بودم. آخرین باز حدود یکماه پیش بود. پروگرم خانومم ۱۲ ماهه بود و توی آخرین ایمیل گفته بودم که چون ۱۲ ماهه هست ما امکان این رو نداریم توی ایران همدیگه رو ببینیم و شرایط سختی رو سپری میکنیم و این چیزا. [نمیدونم اصلا تاثیر داشته یا نه، ولی نمیخواستم کلا زیاد ایمیل به سفارت بزنم و سعی کردم بعد ۸ ماه بزنم و کمی دلیلم قانع کننده باشه]\n",
      "       \n",
      "\n",
      "S S\n",
      "       \n",
      "\n",
      "\n"
     ]
    },
    {
     "ename": "RuntimeError",
     "evalue": "No active exception to reraise",
     "output_type": "error",
     "traceback": [
      "\u001b[1;31m---------------------------------------------------------------------------\u001b[0m",
      "\u001b[1;31mRuntimeError\u001b[0m                              Traceback (most recent call last)",
      "Cell \u001b[1;32mIn[11], line 29\u001b[0m\n\u001b[0;32m     27\u001b[0m \u001b[38;5;28;01mif\u001b[39;00m i \u001b[38;5;241m>\u001b[39m \u001b[38;5;241m60\u001b[39m:\n\u001b[0;32m     28\u001b[0m     \u001b[38;5;28mprint\u001b[39m(text_content)\n\u001b[1;32m---> 29\u001b[0m     \u001b[38;5;28;01mraise\u001b[39;00m\n\u001b[0;32m     31\u001b[0m \u001b[38;5;28;01mif\u001b[39;00m \u001b[38;5;124m\"\u001b[39m\u001b[38;5;124mUSA\u001b[39m\u001b[38;5;124m\"\u001b[39m \u001b[38;5;129;01min\u001b[39;00m text_content:\n\u001b[0;32m     32\u001b[0m     case_data[\u001b[38;5;124m\"\u001b[39m\u001b[38;5;124mcountry\u001b[39m\u001b[38;5;124m\"\u001b[39m] \u001b[38;5;241m=\u001b[39m \u001b[38;5;124m\"\u001b[39m\u001b[38;5;124mUSA\u001b[39m\u001b[38;5;124m\"\u001b[39m\n",
      "\u001b[1;31mRuntimeError\u001b[0m: No active exception to reraise"
     ]
    }
   ],
   "source": [
    "# Extract and process the data for each case\n",
    "\n",
    "data = []\n",
    "\n",
    "# Loop through all messages (assuming each case is a separate 'message')\n",
    "messages = soup.find_all(\"div\", class_=\"message default clearfix\")\n",
    "\n",
    "# Fields to extract\n",
    "fields = [\"سفارت\", \"تاریخ مصاحبه\", \"تاریخ کلیر شدن\", \"تعداد سوالات\", \n",
    "          \"نوع ویزا\", \"وضعیت تاهل\", \"آفیسر\", \"رشته\", \"مقطع\", \"وضعیت فاند\", \n",
    "          \"تاریخ شروع ترم\", \"جنسیت\", \"سربازی\", \"گپ\", \"مقاله\", \"فامیل درجه یک\", \"سابقه کار\", \"سفر خارجی\",\n",
    "          \"سابقه ریجکتی\"]\n",
    "i = 0\n",
    "# Iterate over each message to extract the data\n",
    "for message in messages:\n",
    "    i+=1\n",
    "    # Initialize empty dictionary for the case\n",
    "    case_data = {field: None for field in fields}\n",
    "    \n",
    "    # Extract interview date (assumed to be in the 'details' class or in some date attribute)\n",
    "    date_div = message.find(\"div\", class_=\"pull_right date details\")\n",
    "    if date_div:\n",
    "        case_data[\"time\"] = date_div.get(\"title\")  # Extract date part\n",
    "    \n",
    "    # Extract other fields if available (these fields are hypothetical placeholders)\n",
    "    text_content = message.get_text()\n",
    "    if i > 60:\n",
    "        print(text_content)\n",
    "        raise\n",
    "    \n",
    "    if \"USA\" in text_content:\n",
    "        case_data[\"country\"] = \"USA\"\n",
    "    \n",
    "    if \"PhD\" in text_content:\n",
    "        case_data[\"phd_or_ms\"] = \"PhD\"\n",
    "    \n",
    "    if \"married\" in text_content.lower():\n",
    "        case_data[\"married\"] = \"Yes\"\n",
    "    \n",
    "    # Append the case data to the main list\n",
    "    data.append(case_data)\n",
    "\n",
    "# Convert the data into a DataFrame\n",
    "df = pd.DataFrame(data)\n",
    "\n",
    "# Save to CSV\n",
    "csv_output_path = \"/mnt/data/visa_clearance_cases.csv\"\n",
    "df.to_csv(csv_output_path, index=False)\n",
    "\n",
    "df.head(), csv_output_path\n"
   ]
  }
 ],
 "metadata": {
  "kernelspec": {
   "display_name": "Python 3",
   "language": "python",
   "name": "python3"
  },
  "language_info": {
   "codemirror_mode": {
    "name": "ipython",
    "version": 3
   },
   "file_extension": ".py",
   "mimetype": "text/x-python",
   "name": "python",
   "nbconvert_exporter": "python",
   "pygments_lexer": "ipython3",
   "version": "3.11.5"
  }
 },
 "nbformat": 4,
 "nbformat_minor": 2
}
