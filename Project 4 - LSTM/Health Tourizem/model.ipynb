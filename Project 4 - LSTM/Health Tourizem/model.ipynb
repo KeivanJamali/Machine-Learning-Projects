{
 "cells": [
  {
   "cell_type": "code",
   "execution_count": 210,
   "id": "initial_id",
   "metadata": {
    "collapsed": true,
    "ExecuteTime": {
     "end_time": "2023-09-12T14:00:33.717930600Z",
     "start_time": "2023-09-12T14:00:33.533993300Z"
    }
   },
   "outputs": [
    {
     "name": "stdout",
     "output_type": "stream",
     "text": [
      "The autoreload extension is already loaded. To reload it, use:\n",
      "  %reload_ext autoreload\n"
     ]
    }
   ],
   "source": [
    "%load_ext autoreload\n",
    "%autoreload 2\n",
    "import numpy as np\n",
    "import pandas as pd\n",
    "import torch\n",
    "from torch import nn\n",
    "import ML\n",
    "import itertools\n",
    "import matplotlib.pyplot as plt"
   ]
  },
  {
   "cell_type": "markdown",
   "source": [
    "# Features\n",
    "> Season\n",
    "> Number_of_beds\n",
    "> Economical_state"
   ],
   "metadata": {
    "collapsed": false
   },
   "id": "edb863f618b3db50"
  },
  {
   "cell_type": "code",
   "execution_count": 288,
   "outputs": [],
   "source": [
    "Number_of_beds = np.arange(80, 140)\n",
    "Economical_state = np.random.random(60)\n",
    "Season = []\n",
    "temp = 0\n",
    "for i in itertools.cycle([1, 2, 3, 4]):\n",
    "    temp += 1\n",
    "    Season.append(i)\n",
    "    Season.append(i)\n",
    "    Season.append(i)\n",
    "    if temp == 20:\n",
    "        break\n",
    "\n",
    "Number_of_persons = range(1, 61)"
   ],
   "metadata": {
    "collapsed": false,
    "ExecuteTime": {
     "end_time": "2023-09-12T14:16:02.924942900Z",
     "start_time": "2023-09-12T14:16:01.988955100Z"
    }
   },
   "id": "f401d0bb2ab82b2e"
  },
  {
   "cell_type": "code",
   "execution_count": 289,
   "outputs": [
    {
     "data": {
      "text/plain": "    Number_of_persons  Season  Number_of_beds  Economical_state\n1                   1       1              80          0.254575\n2                   2       1              81          0.239712\n3                   3       1              82          0.126250\n4                   4       2              83          0.431263\n5                   5       2              84          0.828004\n6                   6       2              85          0.539602\n7                   7       3              86          0.017219\n8                   8       3              87          0.390419\n9                   9       3              88          0.288135\n10                 10       4              89          0.673010\n11                 11       4              90          0.504320\n12                 12       4              91          0.377142\n13                 13       1              92          0.837074\n14                 14       1              93          0.014511\n15                 15       1              94          0.641851\n16                 16       2              95          0.271314\n17                 17       2              96          0.041395\n18                 18       2              97          0.777742\n19                 19       3              98          0.520959\n20                 20       3              99          0.670097\n21                 21       3             100          0.067253\n22                 22       4             101          0.371794\n23                 23       4             102          0.568367\n24                 24       4             103          0.243646\n25                 25       1             104          0.071971\n26                 26       1             105          0.941586\n27                 27       1             106          0.913477\n28                 28       2             107          0.825498\n29                 29       2             108          0.529767\n30                 30       2             109          0.515766\n31                 31       3             110          0.102288\n32                 32       3             111          0.502138\n33                 33       3             112          0.845856\n34                 34       4             113          0.119986\n35                 35       4             114          0.865737\n36                 36       4             115          0.779529\n37                 37       1             116          0.528365\n38                 38       1             117          0.770622\n39                 39       1             118          0.091172\n40                 40       2             119          0.322944\n41                 41       2             120          0.587514\n42                 42       2             121          0.908705\n43                 43       3             122          0.362230\n44                 44       3             123          0.754484\n45                 45       3             124          0.472247\n46                 46       4             125          0.654176\n47                 47       4             126          0.254066\n48                 48       4             127          0.768497\n49                 49       1             128          0.411550\n50                 50       1             129          0.495822\n51                 51       1             130          0.040767\n52                 52       2             131          0.515955\n53                 53       2             132          0.051515\n54                 54       2             133          0.951960\n55                 55       3             134          0.414225\n56                 56       3             135          0.536403\n57                 57       3             136          0.386214\n58                 58       4             137          0.286893\n59                 59       4             138          0.520125\n60                 60       4             139          0.561062",
      "text/html": "<div>\n<style scoped>\n    .dataframe tbody tr th:only-of-type {\n        vertical-align: middle;\n    }\n\n    .dataframe tbody tr th {\n        vertical-align: top;\n    }\n\n    .dataframe thead th {\n        text-align: right;\n    }\n</style>\n<table border=\"1\" class=\"dataframe\">\n  <thead>\n    <tr style=\"text-align: right;\">\n      <th></th>\n      <th>Number_of_persons</th>\n      <th>Season</th>\n      <th>Number_of_beds</th>\n      <th>Economical_state</th>\n    </tr>\n  </thead>\n  <tbody>\n    <tr>\n      <th>1</th>\n      <td>1</td>\n      <td>1</td>\n      <td>80</td>\n      <td>0.254575</td>\n    </tr>\n    <tr>\n      <th>2</th>\n      <td>2</td>\n      <td>1</td>\n      <td>81</td>\n      <td>0.239712</td>\n    </tr>\n    <tr>\n      <th>3</th>\n      <td>3</td>\n      <td>1</td>\n      <td>82</td>\n      <td>0.126250</td>\n    </tr>\n    <tr>\n      <th>4</th>\n      <td>4</td>\n      <td>2</td>\n      <td>83</td>\n      <td>0.431263</td>\n    </tr>\n    <tr>\n      <th>5</th>\n      <td>5</td>\n      <td>2</td>\n      <td>84</td>\n      <td>0.828004</td>\n    </tr>\n    <tr>\n      <th>6</th>\n      <td>6</td>\n      <td>2</td>\n      <td>85</td>\n      <td>0.539602</td>\n    </tr>\n    <tr>\n      <th>7</th>\n      <td>7</td>\n      <td>3</td>\n      <td>86</td>\n      <td>0.017219</td>\n    </tr>\n    <tr>\n      <th>8</th>\n      <td>8</td>\n      <td>3</td>\n      <td>87</td>\n      <td>0.390419</td>\n    </tr>\n    <tr>\n      <th>9</th>\n      <td>9</td>\n      <td>3</td>\n      <td>88</td>\n      <td>0.288135</td>\n    </tr>\n    <tr>\n      <th>10</th>\n      <td>10</td>\n      <td>4</td>\n      <td>89</td>\n      <td>0.673010</td>\n    </tr>\n    <tr>\n      <th>11</th>\n      <td>11</td>\n      <td>4</td>\n      <td>90</td>\n      <td>0.504320</td>\n    </tr>\n    <tr>\n      <th>12</th>\n      <td>12</td>\n      <td>4</td>\n      <td>91</td>\n      <td>0.377142</td>\n    </tr>\n    <tr>\n      <th>13</th>\n      <td>13</td>\n      <td>1</td>\n      <td>92</td>\n      <td>0.837074</td>\n    </tr>\n    <tr>\n      <th>14</th>\n      <td>14</td>\n      <td>1</td>\n      <td>93</td>\n      <td>0.014511</td>\n    </tr>\n    <tr>\n      <th>15</th>\n      <td>15</td>\n      <td>1</td>\n      <td>94</td>\n      <td>0.641851</td>\n    </tr>\n    <tr>\n      <th>16</th>\n      <td>16</td>\n      <td>2</td>\n      <td>95</td>\n      <td>0.271314</td>\n    </tr>\n    <tr>\n      <th>17</th>\n      <td>17</td>\n      <td>2</td>\n      <td>96</td>\n      <td>0.041395</td>\n    </tr>\n    <tr>\n      <th>18</th>\n      <td>18</td>\n      <td>2</td>\n      <td>97</td>\n      <td>0.777742</td>\n    </tr>\n    <tr>\n      <th>19</th>\n      <td>19</td>\n      <td>3</td>\n      <td>98</td>\n      <td>0.520959</td>\n    </tr>\n    <tr>\n      <th>20</th>\n      <td>20</td>\n      <td>3</td>\n      <td>99</td>\n      <td>0.670097</td>\n    </tr>\n    <tr>\n      <th>21</th>\n      <td>21</td>\n      <td>3</td>\n      <td>100</td>\n      <td>0.067253</td>\n    </tr>\n    <tr>\n      <th>22</th>\n      <td>22</td>\n      <td>4</td>\n      <td>101</td>\n      <td>0.371794</td>\n    </tr>\n    <tr>\n      <th>23</th>\n      <td>23</td>\n      <td>4</td>\n      <td>102</td>\n      <td>0.568367</td>\n    </tr>\n    <tr>\n      <th>24</th>\n      <td>24</td>\n      <td>4</td>\n      <td>103</td>\n      <td>0.243646</td>\n    </tr>\n    <tr>\n      <th>25</th>\n      <td>25</td>\n      <td>1</td>\n      <td>104</td>\n      <td>0.071971</td>\n    </tr>\n    <tr>\n      <th>26</th>\n      <td>26</td>\n      <td>1</td>\n      <td>105</td>\n      <td>0.941586</td>\n    </tr>\n    <tr>\n      <th>27</th>\n      <td>27</td>\n      <td>1</td>\n      <td>106</td>\n      <td>0.913477</td>\n    </tr>\n    <tr>\n      <th>28</th>\n      <td>28</td>\n      <td>2</td>\n      <td>107</td>\n      <td>0.825498</td>\n    </tr>\n    <tr>\n      <th>29</th>\n      <td>29</td>\n      <td>2</td>\n      <td>108</td>\n      <td>0.529767</td>\n    </tr>\n    <tr>\n      <th>30</th>\n      <td>30</td>\n      <td>2</td>\n      <td>109</td>\n      <td>0.515766</td>\n    </tr>\n    <tr>\n      <th>31</th>\n      <td>31</td>\n      <td>3</td>\n      <td>110</td>\n      <td>0.102288</td>\n    </tr>\n    <tr>\n      <th>32</th>\n      <td>32</td>\n      <td>3</td>\n      <td>111</td>\n      <td>0.502138</td>\n    </tr>\n    <tr>\n      <th>33</th>\n      <td>33</td>\n      <td>3</td>\n      <td>112</td>\n      <td>0.845856</td>\n    </tr>\n    <tr>\n      <th>34</th>\n      <td>34</td>\n      <td>4</td>\n      <td>113</td>\n      <td>0.119986</td>\n    </tr>\n    <tr>\n      <th>35</th>\n      <td>35</td>\n      <td>4</td>\n      <td>114</td>\n      <td>0.865737</td>\n    </tr>\n    <tr>\n      <th>36</th>\n      <td>36</td>\n      <td>4</td>\n      <td>115</td>\n      <td>0.779529</td>\n    </tr>\n    <tr>\n      <th>37</th>\n      <td>37</td>\n      <td>1</td>\n      <td>116</td>\n      <td>0.528365</td>\n    </tr>\n    <tr>\n      <th>38</th>\n      <td>38</td>\n      <td>1</td>\n      <td>117</td>\n      <td>0.770622</td>\n    </tr>\n    <tr>\n      <th>39</th>\n      <td>39</td>\n      <td>1</td>\n      <td>118</td>\n      <td>0.091172</td>\n    </tr>\n    <tr>\n      <th>40</th>\n      <td>40</td>\n      <td>2</td>\n      <td>119</td>\n      <td>0.322944</td>\n    </tr>\n    <tr>\n      <th>41</th>\n      <td>41</td>\n      <td>2</td>\n      <td>120</td>\n      <td>0.587514</td>\n    </tr>\n    <tr>\n      <th>42</th>\n      <td>42</td>\n      <td>2</td>\n      <td>121</td>\n      <td>0.908705</td>\n    </tr>\n    <tr>\n      <th>43</th>\n      <td>43</td>\n      <td>3</td>\n      <td>122</td>\n      <td>0.362230</td>\n    </tr>\n    <tr>\n      <th>44</th>\n      <td>44</td>\n      <td>3</td>\n      <td>123</td>\n      <td>0.754484</td>\n    </tr>\n    <tr>\n      <th>45</th>\n      <td>45</td>\n      <td>3</td>\n      <td>124</td>\n      <td>0.472247</td>\n    </tr>\n    <tr>\n      <th>46</th>\n      <td>46</td>\n      <td>4</td>\n      <td>125</td>\n      <td>0.654176</td>\n    </tr>\n    <tr>\n      <th>47</th>\n      <td>47</td>\n      <td>4</td>\n      <td>126</td>\n      <td>0.254066</td>\n    </tr>\n    <tr>\n      <th>48</th>\n      <td>48</td>\n      <td>4</td>\n      <td>127</td>\n      <td>0.768497</td>\n    </tr>\n    <tr>\n      <th>49</th>\n      <td>49</td>\n      <td>1</td>\n      <td>128</td>\n      <td>0.411550</td>\n    </tr>\n    <tr>\n      <th>50</th>\n      <td>50</td>\n      <td>1</td>\n      <td>129</td>\n      <td>0.495822</td>\n    </tr>\n    <tr>\n      <th>51</th>\n      <td>51</td>\n      <td>1</td>\n      <td>130</td>\n      <td>0.040767</td>\n    </tr>\n    <tr>\n      <th>52</th>\n      <td>52</td>\n      <td>2</td>\n      <td>131</td>\n      <td>0.515955</td>\n    </tr>\n    <tr>\n      <th>53</th>\n      <td>53</td>\n      <td>2</td>\n      <td>132</td>\n      <td>0.051515</td>\n    </tr>\n    <tr>\n      <th>54</th>\n      <td>54</td>\n      <td>2</td>\n      <td>133</td>\n      <td>0.951960</td>\n    </tr>\n    <tr>\n      <th>55</th>\n      <td>55</td>\n      <td>3</td>\n      <td>134</td>\n      <td>0.414225</td>\n    </tr>\n    <tr>\n      <th>56</th>\n      <td>56</td>\n      <td>3</td>\n      <td>135</td>\n      <td>0.536403</td>\n    </tr>\n    <tr>\n      <th>57</th>\n      <td>57</td>\n      <td>3</td>\n      <td>136</td>\n      <td>0.386214</td>\n    </tr>\n    <tr>\n      <th>58</th>\n      <td>58</td>\n      <td>4</td>\n      <td>137</td>\n      <td>0.286893</td>\n    </tr>\n    <tr>\n      <th>59</th>\n      <td>59</td>\n      <td>4</td>\n      <td>138</td>\n      <td>0.520125</td>\n    </tr>\n    <tr>\n      <th>60</th>\n      <td>60</td>\n      <td>4</td>\n      <td>139</td>\n      <td>0.561062</td>\n    </tr>\n  </tbody>\n</table>\n</div>"
     },
     "execution_count": 289,
     "metadata": {},
     "output_type": "execute_result"
    }
   ],
   "source": [
    "data = pd.DataFrame(data={\"Number_of_persons\": Number_of_persons,\n",
    "                          \"Season\": Season,\n",
    "                          \"Number_of_beds\": Number_of_beds,\n",
    "                          \"Economical_state\": Economical_state}, index=range(1, 61))\n",
    "data"
   ],
   "metadata": {
    "collapsed": false,
    "ExecuteTime": {
     "end_time": "2023-09-12T14:16:03.042442300Z",
     "start_time": "2023-09-12T14:16:02.893454100Z"
    }
   },
   "id": "bd36282816ab0778"
  },
  {
   "cell_type": "code",
   "execution_count": 332,
   "outputs": [],
   "source": [
    "input_size = 4\n",
    "hidden_size = 128\n",
    "output_size = 1\n",
    "num_layer = 12\n",
    "epochs = 100\n",
    "learning_rate = 0.1"
   ],
   "metadata": {
    "collapsed": false,
    "ExecuteTime": {
     "end_time": "2023-09-12T15:42:05.259516600Z",
     "start_time": "2023-09-12T15:42:05.115354Z"
    }
   },
   "id": "844521cbb3fc94e2"
  },
  {
   "cell_type": "code",
   "execution_count": 333,
   "outputs": [],
   "source": [
    "dataloader = ML.DataLoader_Me(data=data, seq=12, batch_size=8, dr=True)\n",
    "train, test = dataloader.train, dataloader.test\n",
    "model = ML.Health(input_size=input_size, hidden_size=hidden_size, output_size=output_size, num_layer=num_layer)\n",
    "loss_fn = nn.MSELoss()\n",
    "optimizer = torch.optim.Adam(model.parameters(), lr=learning_rate)"
   ],
   "metadata": {
    "collapsed": false,
    "ExecuteTime": {
     "end_time": "2023-09-12T15:42:05.542784700Z",
     "start_time": "2023-09-12T15:42:05.389458600Z"
    }
   },
   "id": "bb13b2b4df0ac15c"
  },
  {
   "cell_type": "code",
   "execution_count": 334,
   "outputs": [
    {
     "data": {
      "text/plain": "  0%|          | 0/100 [00:00<?, ?it/s]",
      "application/vnd.jupyter.widget-view+json": {
       "version_major": 2,
       "version_minor": 0,
       "model_id": "a59fc66b659f42089b493a64faa2ab28"
      }
     },
     "metadata": {},
     "output_type": "display_data"
    },
    {
     "data": {
      "text/plain": "<Figure size 640x480 with 1 Axes>",
      "image/png": "[encoded data removed]"
     },
     "metadata": {},
     "output_type": "display_data"
    }
   ],
   "source": [
    "[epoch_count, loss_values], model = ML.train_model(model=model, train=train, loss_fn=loss_fn, optimizer=optimizer,\n",
    "                                                   epochs=epochs)\n",
    "with torch.inference_mode():\n",
    "    plt.plot(epoch_count, loss_values)"
   ],
   "metadata": {
    "collapsed": false,
    "ExecuteTime": {
     "end_time": "2023-09-12T15:42:25.532560900Z",
     "start_time": "2023-09-12T15:42:05.974805800Z"
    }
   },
   "id": "22ea97388236df2"
  },
  {
   "cell_type": "code",
   "execution_count": 335,
   "outputs": [
    {
     "name": "stdout",
     "output_type": "stream",
     "text": [
      "Test Loss is 718.875000 and R2 is -7100\n"
     ]
    }
   ],
   "source": [
    "[test_loss, r2] = ML.test_model(model=model, test=test, loss_fn=loss_fn)\n",
    "print(f\"Test Loss is {test_loss:.6f} and R2 is {r2 * 100:.0f}\")"
   ],
   "metadata": {
    "collapsed": false,
    "ExecuteTime": {
     "end_time": "2023-09-12T15:42:28.830415400Z",
     "start_time": "2023-09-12T15:42:28.640671500Z"
    }
   },
   "id": "419ffb2b15be6e57"
  },
  {
   "cell_type": "code",
   "execution_count": 320,
   "outputs": [
    {
     "name": "stderr",
     "output_type": "stream",
     "text": [
      "C:\\Users\\keipj\\AppData\\Local\\Temp\\ipykernel_2848\\1191488478.py:8: UserWarning: To copy construct from a tensor, it is recommended to use sourceTensor.clone().detach() or sourceTensor.clone().detach().requires_grad_(True), rather than torch.tensor(sourceTensor).\n",
      "  y = model(torch.tensor(x))\n"
     ]
    },
    {
     "data": {
      "text/plain": "tensor([[30.4540]])"
     },
     "execution_count": 320,
     "metadata": {},
     "output_type": "execute_result"
    }
   ],
   "source": [
    "x = [[56, 3, 134, 0.181], [57, 3, 135, 0.111], [58, 4, 136, 0.281]]\n",
    "\n",
    "# x = dataloader.scaler.transform(x)\n",
    "# print(x)\n",
    "x = torch.tensor([x], dtype=torch.float)\n",
    "\n",
    "with torch.inference_mode():\n",
    "    y = model(torch.tensor(x))\n",
    "    \n",
    "y"
   ],
   "metadata": {
    "collapsed": false,
    "ExecuteTime": {
     "end_time": "2023-09-12T14:18:48.235353200Z",
     "start_time": "2023-09-12T14:18:48.027224400Z"
    }
   },
   "id": "eb324b82dc19bac7"
  },
  {
   "cell_type": "code",
   "execution_count": 322,
   "outputs": [
    {
     "name": "stdout",
     "output_type": "stream",
     "text": [
      "0\n",
      "1\n",
      "tensor([[30.5812],\n",
      "        [30.5812],\n",
      "        [30.5812],\n",
      "        [30.5812]]) tensor([[57.],\n",
      "        [54.],\n",
      "        [55.],\n",
      "        [52.]])\n"
     ]
    }
   ],
   "source": [
    "with torch.inference_mode():\n",
    "    for batch,(x, y) in enumerate(test):\n",
    "        print(batch)\n",
    "        if batch == 1:\n",
    "            # print(x)\n",
    "            y_pred = model(x)\n",
    "            print(y_pred, y)\n",
    "            "
   ],
   "metadata": {
    "collapsed": false,
    "ExecuteTime": {
     "end_time": "2023-09-12T14:18:57.745411800Z",
     "start_time": "2023-09-12T14:18:57.587846200Z"
    }
   },
   "id": "110e2509e958fbb0"
  },
  {
   "cell_type": "code",
   "execution_count": 284,
   "outputs": [
    {
     "data": {
      "text/plain": "[(tensor([[4.6000e+01, 4.0000e+00, 1.2500e+02, 6.8159e-01],\n          [4.7000e+01, 4.0000e+00, 1.2600e+02, 9.5027e-01],\n          [4.8000e+01, 4.0000e+00, 1.2700e+02, 1.2037e-01]]),\n  tensor([49.])),\n (tensor([[4.7000e+01, 4.0000e+00, 1.2600e+02, 9.5027e-01],\n          [4.8000e+01, 4.0000e+00, 1.2700e+02, 1.2037e-01],\n          [4.9000e+01, 1.0000e+00, 1.2800e+02, 9.7247e-02]]),\n  tensor([50.])),\n (tensor([[4.8000e+01, 4.0000e+00, 1.2700e+02, 1.2037e-01],\n          [4.9000e+01, 1.0000e+00, 1.2800e+02, 9.7247e-02],\n          [5.0000e+01, 1.0000e+00, 1.2900e+02, 3.8799e-01]]),\n  tensor([51.])),\n (tensor([[4.9000e+01, 1.0000e+00, 1.2800e+02, 9.7247e-02],\n          [5.0000e+01, 1.0000e+00, 1.2900e+02, 3.8799e-01],\n          [5.1000e+01, 1.0000e+00, 1.3000e+02, 6.8712e-01]]),\n  tensor([52.])),\n (tensor([[ 50.0000,   1.0000, 129.0000,   0.3880],\n          [ 51.0000,   1.0000, 130.0000,   0.6871],\n          [ 52.0000,   2.0000, 131.0000,   0.5007]]),\n  tensor([53.])),\n (tensor([[ 51.0000,   1.0000, 130.0000,   0.6871],\n          [ 52.0000,   2.0000, 131.0000,   0.5007],\n          [ 53.0000,   2.0000, 132.0000,   0.2710]]),\n  tensor([54.])),\n (tensor([[ 52.0000,   2.0000, 131.0000,   0.5007],\n          [ 53.0000,   2.0000, 132.0000,   0.2710],\n          [ 54.0000,   2.0000, 133.0000,   0.9536]]),\n  tensor([55.])),\n (tensor([[ 53.0000,   2.0000, 132.0000,   0.2710],\n          [ 54.0000,   2.0000, 133.0000,   0.9536],\n          [ 55.0000,   3.0000, 134.0000,   0.7126]]),\n  tensor([56.])),\n (tensor([[ 54.0000,   2.0000, 133.0000,   0.9536],\n          [ 55.0000,   3.0000, 134.0000,   0.7126],\n          [ 56.0000,   3.0000, 135.0000,   0.6681]]),\n  tensor([57.])),\n (tensor([[ 55.0000,   3.0000, 134.0000,   0.7126],\n          [ 56.0000,   3.0000, 135.0000,   0.6681],\n          [ 57.0000,   3.0000, 136.0000,   0.3675]]),\n  tensor([58.])),\n (tensor([[ 56.0000,   3.0000, 135.0000,   0.6681],\n          [ 57.0000,   3.0000, 136.0000,   0.3675],\n          [ 58.0000,   4.0000, 137.0000,   0.2684]]),\n  tensor([59.])),\n (tensor([[ 57.0000,   3.0000, 136.0000,   0.3675],\n          [ 58.0000,   4.0000, 137.0000,   0.2684],\n          [ 59.0000,   4.0000, 138.0000,   0.2222]]),\n  tensor([60.]))]"
     },
     "execution_count": 284,
     "metadata": {},
     "output_type": "execute_result"
    }
   ],
   "source": [
    "test.dataset"
   ],
   "metadata": {
    "collapsed": false,
    "ExecuteTime": {
     "end_time": "2023-09-12T14:14:45.446607600Z",
     "start_time": "2023-09-12T14:14:45.291805700Z"
    }
   },
   "id": "11fdd79b3a804153"
  },
  {
   "cell_type": "code",
   "execution_count": null,
   "outputs": [],
   "source": [],
   "metadata": {
    "collapsed": false
   },
   "id": "1d6ed8e8cdfec554"
  }
 ],
 "metadata": {
  "kernelspec": {
   "display_name": "Python 3",
   "language": "python",
   "name": "python3"
  },
  "language_info": {
   "codemirror_mode": {
    "name": "ipython",
    "version": 2
   },
   "file_extension": ".py",
   "mimetype": "text/x-python",
   "name": "python",
   "nbconvert_exporter": "python",
   "pygments_lexer": "ipython2",
   "version": "2.7.6"
  }
 },
 "nbformat": 4,
 "nbformat_minor": 5
}
