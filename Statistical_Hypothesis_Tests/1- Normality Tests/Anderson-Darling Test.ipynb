{
 "cells": [
  {
   "cell_type": "code",
   "execution_count": 10,
   "id": "initial_id",
   "metadata": {
    "collapsed": true,
    "ExecuteTime": {
     "end_time": "2023-08-08T20:21:11.617356Z",
     "start_time": "2023-08-08T20:21:11.492255700Z"
    }
   },
   "outputs": [
    {
     "name": "stdout",
     "output_type": "stream",
     "text": [
      "stat=1.505\n",
      "Probably not Gaussian at the 15.0% level\n",
      "Probably not Gaussian at the 10.0% level\n",
      "Probably not Gaussian at the 5.0% level\n",
      "Probably not Gaussian at the 2.5% level\n",
      "Probably not Gaussian at the 1.0% level\n"
     ]
    }
   ],
   "source": [
    "# Example of the Anderson-Darling Normality Test\n",
    "from scipy.stats import anderson\n",
    "\n",
    "data = [0.873, 2.817, 0.121, -0.945, -0.055, -1.436, 0.360, -1.478, -1.637, -1.869, 12]\n",
    "result = anderson(data)\n",
    "print('stat=%.3f' % (result.statistic))\n",
    "for i in range(len(result.critical_values)):\n",
    "    sl, cv = result.significance_level[i], result.critical_values[i]\n",
    "    if result.statistic < cv:\n",
    "        print(f\"Probably Gaussian at the {sl:.1f}% level\")\n",
    "    else:\n",
    "        print(f\"Probably not Gaussian at the {sl:.1f}% level\")"
   ]
  },
  {
   "cell_type": "code",
   "execution_count": null,
   "outputs": [],
   "source": [],
   "metadata": {
    "collapsed": false
   },
   "id": "e7420e0bc1cfc4ab"
  }
 ],
 "metadata": {
  "kernelspec": {
   "display_name": "Python 3",
   "language": "python",
   "name": "python3"
  },
  "language_info": {
   "codemirror_mode": {
    "name": "ipython",
    "version": 2
   },
   "file_extension": ".py",
   "mimetype": "text/x-python",
   "name": "python",
   "nbconvert_exporter": "python",
   "pygments_lexer": "ipython2",
   "version": "2.7.6"
  }
 },
 "nbformat": 4,
 "nbformat_minor": 5
}
