{
 "cells": [
  {
   "cell_type": "code",
   "execution_count": 1,
   "id": "initial_id",
   "metadata": {
    "collapsed": true,
    "ExecuteTime": {
     "end_time": "2023-08-09T11:06:24.317499900Z",
     "start_time": "2023-08-09T11:06:23.831259900Z"
    }
   },
   "outputs": [],
   "source": [
    "%load_ext autoreload\n",
    "%autoreload 2\n",
    "from numpy import random\n",
    "import pandas as pd"
   ]
  },
  {
   "cell_type": "markdown",
   "source": [
    "# Make Data"
   ],
   "metadata": {
    "collapsed": false
   },
   "id": "bbd024ca600c3aca"
  },
  {
   "cell_type": "code",
   "execution_count": 44,
   "outputs": [],
   "source": [
    "courses = [\"Chemical Engineering\", \"Civil Engineering\", \"Electrical Engineering\", \"Mechanical Engineering\",\n",
    "           \"Aerospace Engineering\", \"Agricultural Engineering\", \"Biomedical Engineering\",\n",
    "           \"Computer Hardware Engineering\", \"Environmental Engineering\", \"Health and Safety Engineering\",\n",
    "           \"Industrial Engineering\", \"Marine Engineering\", \"Materials Engineering\", \"Nuclear Engineering\",\n",
    "           \"Petroleum Engineering\", \"Mining and Geological Engineering\"]\n",
    "data = pd.DataFrame(index=range(len(courses) * 100), columns=[\"Id\", \"Group\", \"Test Score\"])\n",
    "\n",
    "for i in range(len(courses)):\n",
    "    for j in range(100):\n",
    "        data.iloc[100 * i + j, 0] = 100 * i + j + 1\n",
    "        data.iloc[100 * i + j, 1] = i\n",
    "        if i < 5:\n",
    "            data.iloc[100 * i + j, 2] = random.randint(18, 19) + random.rand()\n",
    "        elif i < 10:\n",
    "            data.iloc[100 * i + j, 2] = random.randint(12, 18) + random.rand()\n",
    "        else:\n",
    "            data.iloc[100 * i + j, 2] = random.randint(7, 19) + random.rand()\n",
    "\n",
    "data.to_csv(\"test3.csv\")"
   ],
   "metadata": {
    "collapsed": false,
    "ExecuteTime": {
     "end_time": "2023-08-09T10:32:34.781548200Z",
     "start_time": "2023-08-09T10:32:33.640133600Z"
    }
   },
   "id": "a0f4a187f0bd46c9"
  },
  {
   "cell_type": "code",
   "execution_count": 45,
   "outputs": [
    {
     "data": {
      "text/plain": "        Id Group Test Score\n0        1     0  18.915814\n1        2     0  18.261529\n2        3     0   18.30378\n3        4     0   18.36319\n4        5     0  18.383547\n...    ...   ...        ...\n1595  1596    15   7.714453\n1596  1597    15  14.246288\n1597  1598    15   16.32499\n1598  1599    15  11.351041\n1599  1600    15   9.649698\n\n[1600 rows x 3 columns]",
      "text/html": "<div>\n<style scoped>\n    .dataframe tbody tr th:only-of-type {\n        vertical-align: middle;\n    }\n\n    .dataframe tbody tr th {\n        vertical-align: top;\n    }\n\n    .dataframe thead th {\n        text-align: right;\n    }\n</style>\n<table border=\"1\" class=\"dataframe\">\n  <thead>\n    <tr style=\"text-align: right;\">\n      <th></th>\n      <th>Id</th>\n      <th>Group</th>\n      <th>Test Score</th>\n    </tr>\n  </thead>\n  <tbody>\n    <tr>\n      <th>0</th>\n      <td>1</td>\n      <td>0</td>\n      <td>18.915814</td>\n    </tr>\n    <tr>\n      <th>1</th>\n      <td>2</td>\n      <td>0</td>\n      <td>18.261529</td>\n    </tr>\n    <tr>\n      <th>2</th>\n      <td>3</td>\n      <td>0</td>\n      <td>18.30378</td>\n    </tr>\n    <tr>\n      <th>3</th>\n      <td>4</td>\n      <td>0</td>\n      <td>18.36319</td>\n    </tr>\n    <tr>\n      <th>4</th>\n      <td>5</td>\n      <td>0</td>\n      <td>18.383547</td>\n    </tr>\n    <tr>\n      <th>...</th>\n      <td>...</td>\n      <td>...</td>\n      <td>...</td>\n    </tr>\n    <tr>\n      <th>1595</th>\n      <td>1596</td>\n      <td>15</td>\n      <td>7.714453</td>\n    </tr>\n    <tr>\n      <th>1596</th>\n      <td>1597</td>\n      <td>15</td>\n      <td>14.246288</td>\n    </tr>\n    <tr>\n      <th>1597</th>\n      <td>1598</td>\n      <td>15</td>\n      <td>16.32499</td>\n    </tr>\n    <tr>\n      <th>1598</th>\n      <td>1599</td>\n      <td>15</td>\n      <td>11.351041</td>\n    </tr>\n    <tr>\n      <th>1599</th>\n      <td>1600</td>\n      <td>15</td>\n      <td>9.649698</td>\n    </tr>\n  </tbody>\n</table>\n<p>1600 rows × 3 columns</p>\n</div>"
     },
     "execution_count": 45,
     "metadata": {},
     "output_type": "execute_result"
    }
   ],
   "source": [
    "data"
   ],
   "metadata": {
    "collapsed": false,
    "ExecuteTime": {
     "end_time": "2023-08-09T10:32:37.142511500Z",
     "start_time": "2023-08-09T10:32:37.014900Z"
    }
   },
   "id": "f61d6a0b388004ee"
  },
  {
   "cell_type": "markdown",
   "source": [
    "# Test Data"
   ],
   "metadata": {
    "collapsed": false
   },
   "id": "39cf79e2dade3b01"
  },
  {
   "cell_type": "code",
   "execution_count": 37,
   "outputs": [
    {
     "data": {
      "text/plain": "        Id                              Group  Test Score\n0        1               Chemical Engineering   12.112489\n1        2               Chemical Engineering   17.432999\n2        3               Chemical Engineering   18.514041\n3        4               Chemical Engineering   15.935324\n4        5               Chemical Engineering   10.957160\n...    ...                                ...         ...\n1595  1596  Mining and Geological Engineering   14.891710\n1596  1597  Mining and Geological Engineering   10.012972\n1597  1598  Mining and Geological Engineering    6.669773\n1598  1599  Mining and Geological Engineering   11.359953\n1599  1600  Mining and Geological Engineering    8.205697\n\n[1600 rows x 3 columns]",
      "text/html": "<div>\n<style scoped>\n    .dataframe tbody tr th:only-of-type {\n        vertical-align: middle;\n    }\n\n    .dataframe tbody tr th {\n        vertical-align: top;\n    }\n\n    .dataframe thead th {\n        text-align: right;\n    }\n</style>\n<table border=\"1\" class=\"dataframe\">\n  <thead>\n    <tr style=\"text-align: right;\">\n      <th></th>\n      <th>Id</th>\n      <th>Group</th>\n      <th>Test Score</th>\n    </tr>\n  </thead>\n  <tbody>\n    <tr>\n      <th>0</th>\n      <td>1</td>\n      <td>Chemical Engineering</td>\n      <td>12.112489</td>\n    </tr>\n    <tr>\n      <th>1</th>\n      <td>2</td>\n      <td>Chemical Engineering</td>\n      <td>17.432999</td>\n    </tr>\n    <tr>\n      <th>2</th>\n      <td>3</td>\n      <td>Chemical Engineering</td>\n      <td>18.514041</td>\n    </tr>\n    <tr>\n      <th>3</th>\n      <td>4</td>\n      <td>Chemical Engineering</td>\n      <td>15.935324</td>\n    </tr>\n    <tr>\n      <th>4</th>\n      <td>5</td>\n      <td>Chemical Engineering</td>\n      <td>10.957160</td>\n    </tr>\n    <tr>\n      <th>...</th>\n      <td>...</td>\n      <td>...</td>\n      <td>...</td>\n    </tr>\n    <tr>\n      <th>1595</th>\n      <td>1596</td>\n      <td>Mining and Geological Engineering</td>\n      <td>14.891710</td>\n    </tr>\n    <tr>\n      <th>1596</th>\n      <td>1597</td>\n      <td>Mining and Geological Engineering</td>\n      <td>10.012972</td>\n    </tr>\n    <tr>\n      <th>1597</th>\n      <td>1598</td>\n      <td>Mining and Geological Engineering</td>\n      <td>6.669773</td>\n    </tr>\n    <tr>\n      <th>1598</th>\n      <td>1599</td>\n      <td>Mining and Geological Engineering</td>\n      <td>11.359953</td>\n    </tr>\n    <tr>\n      <th>1599</th>\n      <td>1600</td>\n      <td>Mining and Geological Engineering</td>\n      <td>8.205697</td>\n    </tr>\n  </tbody>\n</table>\n<p>1600 rows × 3 columns</p>\n</div>"
     },
     "execution_count": 37,
     "metadata": {},
     "output_type": "execute_result"
    }
   ],
   "source": [
    "data = pd.read_csv(\"test1.csv\")\n",
    "data[\"Test Score\"].astype(int)\n",
    "data.iloc[:, 1:]"
   ],
   "metadata": {
    "collapsed": false,
    "ExecuteTime": {
     "end_time": "2023-08-09T10:27:28.734779Z",
     "start_time": "2023-08-09T10:27:28.612910500Z"
    }
   },
   "id": "5a54278436a7768c"
  },
  {
   "cell_type": "code",
   "execution_count": 12,
   "outputs": [
    {
     "data": {
      "text/plain": "        Id  Group  Test Score\n0        1      0   18.471700\n1        2      0    7.309833\n2        3      0   11.368376\n3        4      0   17.410944\n4        5      0   13.612998\n...    ...    ...         ...\n1595  1596     15   16.544607\n1596  1597     15    6.927980\n1597  1598     15   16.117298\n1598  1599     15   16.988268\n1599  1600     15   15.257647\n\n[1600 rows x 3 columns]",
      "text/html": "<div>\n<style scoped>\n    .dataframe tbody tr th:only-of-type {\n        vertical-align: middle;\n    }\n\n    .dataframe tbody tr th {\n        vertical-align: top;\n    }\n\n    .dataframe thead th {\n        text-align: right;\n    }\n</style>\n<table border=\"1\" class=\"dataframe\">\n  <thead>\n    <tr style=\"text-align: right;\">\n      <th></th>\n      <th>Id</th>\n      <th>Group</th>\n      <th>Test Score</th>\n    </tr>\n  </thead>\n  <tbody>\n    <tr>\n      <th>0</th>\n      <td>1</td>\n      <td>0</td>\n      <td>18.471700</td>\n    </tr>\n    <tr>\n      <th>1</th>\n      <td>2</td>\n      <td>0</td>\n      <td>7.309833</td>\n    </tr>\n    <tr>\n      <th>2</th>\n      <td>3</td>\n      <td>0</td>\n      <td>11.368376</td>\n    </tr>\n    <tr>\n      <th>3</th>\n      <td>4</td>\n      <td>0</td>\n      <td>17.410944</td>\n    </tr>\n    <tr>\n      <th>4</th>\n      <td>5</td>\n      <td>0</td>\n      <td>13.612998</td>\n    </tr>\n    <tr>\n      <th>...</th>\n      <td>...</td>\n      <td>...</td>\n      <td>...</td>\n    </tr>\n    <tr>\n      <th>1595</th>\n      <td>1596</td>\n      <td>15</td>\n      <td>16.544607</td>\n    </tr>\n    <tr>\n      <th>1596</th>\n      <td>1597</td>\n      <td>15</td>\n      <td>6.927980</td>\n    </tr>\n    <tr>\n      <th>1597</th>\n      <td>1598</td>\n      <td>15</td>\n      <td>16.117298</td>\n    </tr>\n    <tr>\n      <th>1598</th>\n      <td>1599</td>\n      <td>15</td>\n      <td>16.988268</td>\n    </tr>\n    <tr>\n      <th>1599</th>\n      <td>1600</td>\n      <td>15</td>\n      <td>15.257647</td>\n    </tr>\n  </tbody>\n</table>\n<p>1600 rows × 3 columns</p>\n</div>"
     },
     "execution_count": 12,
     "metadata": {},
     "output_type": "execute_result"
    }
   ],
   "source": [
    "data2 = pd.read_csv(\"test2.csv\")\n",
    "data2[\"Test Score\"].astype(int)\n",
    "data2.iloc[:, 1:]"
   ],
   "metadata": {
    "collapsed": false,
    "ExecuteTime": {
     "end_time": "2023-08-09T11:07:27.914950500Z",
     "start_time": "2023-08-09T11:07:27.778043Z"
    }
   },
   "id": "8ce983b826ee0c11"
  },
  {
   "cell_type": "code",
   "execution_count": 9,
   "outputs": [
    {
     "data": {
      "text/plain": "        Id  Group  Test Score\n0        1      0   18.915814\n1        2      0   18.261529\n2        3      0   18.303780\n3        4      0   18.363190\n4        5      0   18.383547\n...    ...    ...         ...\n1595  1596     15    7.714453\n1596  1597     15   14.246288\n1597  1598     15   16.324990\n1598  1599     15   11.351041\n1599  1600     15    9.649698\n\n[1600 rows x 3 columns]",
      "text/html": "<div>\n<style scoped>\n    .dataframe tbody tr th:only-of-type {\n        vertical-align: middle;\n    }\n\n    .dataframe tbody tr th {\n        vertical-align: top;\n    }\n\n    .dataframe thead th {\n        text-align: right;\n    }\n</style>\n<table border=\"1\" class=\"dataframe\">\n  <thead>\n    <tr style=\"text-align: right;\">\n      <th></th>\n      <th>Id</th>\n      <th>Group</th>\n      <th>Test Score</th>\n    </tr>\n  </thead>\n  <tbody>\n    <tr>\n      <th>0</th>\n      <td>1</td>\n      <td>0</td>\n      <td>18.915814</td>\n    </tr>\n    <tr>\n      <th>1</th>\n      <td>2</td>\n      <td>0</td>\n      <td>18.261529</td>\n    </tr>\n    <tr>\n      <th>2</th>\n      <td>3</td>\n      <td>0</td>\n      <td>18.303780</td>\n    </tr>\n    <tr>\n      <th>3</th>\n      <td>4</td>\n      <td>0</td>\n      <td>18.363190</td>\n    </tr>\n    <tr>\n      <th>4</th>\n      <td>5</td>\n      <td>0</td>\n      <td>18.383547</td>\n    </tr>\n    <tr>\n      <th>...</th>\n      <td>...</td>\n      <td>...</td>\n      <td>...</td>\n    </tr>\n    <tr>\n      <th>1595</th>\n      <td>1596</td>\n      <td>15</td>\n      <td>7.714453</td>\n    </tr>\n    <tr>\n      <th>1596</th>\n      <td>1597</td>\n      <td>15</td>\n      <td>14.246288</td>\n    </tr>\n    <tr>\n      <th>1597</th>\n      <td>1598</td>\n      <td>15</td>\n      <td>16.324990</td>\n    </tr>\n    <tr>\n      <th>1598</th>\n      <td>1599</td>\n      <td>15</td>\n      <td>11.351041</td>\n    </tr>\n    <tr>\n      <th>1599</th>\n      <td>1600</td>\n      <td>15</td>\n      <td>9.649698</td>\n    </tr>\n  </tbody>\n</table>\n<p>1600 rows × 3 columns</p>\n</div>"
     },
     "execution_count": 9,
     "metadata": {},
     "output_type": "execute_result"
    }
   ],
   "source": [
    "data3 = pd.read_csv(\"test3.csv\")\n",
    "data3[\"Test Score\"].astype(int)\n",
    "data3.iloc[:, 1:]"
   ],
   "metadata": {
    "collapsed": false,
    "ExecuteTime": {
     "end_time": "2023-08-09T11:07:07.930939Z",
     "start_time": "2023-08-09T11:07:07.803703900Z"
    }
   },
   "id": "82733da5429935e7"
  },
  {
   "cell_type": "code",
   "execution_count": 2,
   "outputs": [
    {
     "data": {
      "text/plain": "                   Group  Subject  Test_Score\nStudent_ID                                   \n1           Experimental     Math          78\n2           Experimental     Math          80\n3           Experimental     Math          85\n4           Experimental     Math          89\n5           Experimental     Math          94\n...                  ...      ...         ...\n248         Experimental  History          77\n249         Experimental  History          89\n250         Experimental  History          84\n251         Experimental  English          83\n252         Experimental  English          87\n\n[252 rows x 3 columns]",
      "text/html": "<div>\n<style scoped>\n    .dataframe tbody tr th:only-of-type {\n        vertical-align: middle;\n    }\n\n    .dataframe tbody tr th {\n        vertical-align: top;\n    }\n\n    .dataframe thead th {\n        text-align: right;\n    }\n</style>\n<table border=\"1\" class=\"dataframe\">\n  <thead>\n    <tr style=\"text-align: right;\">\n      <th></th>\n      <th>Group</th>\n      <th>Subject</th>\n      <th>Test_Score</th>\n    </tr>\n    <tr>\n      <th>Student_ID</th>\n      <th></th>\n      <th></th>\n      <th></th>\n    </tr>\n  </thead>\n  <tbody>\n    <tr>\n      <th>1</th>\n      <td>Experimental</td>\n      <td>Math</td>\n      <td>78</td>\n    </tr>\n    <tr>\n      <th>2</th>\n      <td>Experimental</td>\n      <td>Math</td>\n      <td>80</td>\n    </tr>\n    <tr>\n      <th>3</th>\n      <td>Experimental</td>\n      <td>Math</td>\n      <td>85</td>\n    </tr>\n    <tr>\n      <th>4</th>\n      <td>Experimental</td>\n      <td>Math</td>\n      <td>89</td>\n    </tr>\n    <tr>\n      <th>5</th>\n      <td>Experimental</td>\n      <td>Math</td>\n      <td>94</td>\n    </tr>\n    <tr>\n      <th>...</th>\n      <td>...</td>\n      <td>...</td>\n      <td>...</td>\n    </tr>\n    <tr>\n      <th>248</th>\n      <td>Experimental</td>\n      <td>History</td>\n      <td>77</td>\n    </tr>\n    <tr>\n      <th>249</th>\n      <td>Experimental</td>\n      <td>History</td>\n      <td>89</td>\n    </tr>\n    <tr>\n      <th>250</th>\n      <td>Experimental</td>\n      <td>History</td>\n      <td>84</td>\n    </tr>\n    <tr>\n      <th>251</th>\n      <td>Experimental</td>\n      <td>English</td>\n      <td>83</td>\n    </tr>\n    <tr>\n      <th>252</th>\n      <td>Experimental</td>\n      <td>English</td>\n      <td>87</td>\n    </tr>\n  </tbody>\n</table>\n<p>252 rows × 3 columns</p>\n</div>"
     },
     "execution_count": 2,
     "metadata": {},
     "output_type": "execute_result"
    }
   ],
   "source": [
    "data4 = pd.read_csv(\"test4.csv\")\n",
    "data4.index = data4.Student_ID\n",
    "data4.iloc[:, 1:]"
   ],
   "metadata": {
    "collapsed": false,
    "ExecuteTime": {
     "end_time": "2023-08-09T11:06:31.361666500Z",
     "start_time": "2023-08-09T11:06:31.263678700Z"
    }
   },
   "id": "d45f1c8286e6790f"
  },
  {
   "cell_type": "code",
   "execution_count": 32,
   "outputs": [
    {
     "data": {
      "text/plain": "                   Group  Subject  Test_Score\nStudent_ID                                   \n1           Experimental     Math          78\n2           Experimental     Math          80\n3           Experimental     Math          85\n4           Experimental     Math          89\n5           Experimental     Math          94\n...                  ...      ...         ...\n248         Experimental  History          77\n249         Experimental  History          89\n250         Experimental  History          84\n251         Experimental  English          83\n252         Experimental  English          87\n\n[252 rows x 3 columns]",
      "text/html": "<div>\n<style scoped>\n    .dataframe tbody tr th:only-of-type {\n        vertical-align: middle;\n    }\n\n    .dataframe tbody tr th {\n        vertical-align: top;\n    }\n\n    .dataframe thead th {\n        text-align: right;\n    }\n</style>\n<table border=\"1\" class=\"dataframe\">\n  <thead>\n    <tr style=\"text-align: right;\">\n      <th></th>\n      <th>Group</th>\n      <th>Subject</th>\n      <th>Test_Score</th>\n    </tr>\n    <tr>\n      <th>Student_ID</th>\n      <th></th>\n      <th></th>\n      <th></th>\n    </tr>\n  </thead>\n  <tbody>\n    <tr>\n      <th>1</th>\n      <td>Experimental</td>\n      <td>Math</td>\n      <td>78</td>\n    </tr>\n    <tr>\n      <th>2</th>\n      <td>Experimental</td>\n      <td>Math</td>\n      <td>80</td>\n    </tr>\n    <tr>\n      <th>3</th>\n      <td>Experimental</td>\n      <td>Math</td>\n      <td>85</td>\n    </tr>\n    <tr>\n      <th>4</th>\n      <td>Experimental</td>\n      <td>Math</td>\n      <td>89</td>\n    </tr>\n    <tr>\n      <th>5</th>\n      <td>Experimental</td>\n      <td>Math</td>\n      <td>94</td>\n    </tr>\n    <tr>\n      <th>...</th>\n      <td>...</td>\n      <td>...</td>\n      <td>...</td>\n    </tr>\n    <tr>\n      <th>248</th>\n      <td>Experimental</td>\n      <td>History</td>\n      <td>77</td>\n    </tr>\n    <tr>\n      <th>249</th>\n      <td>Experimental</td>\n      <td>History</td>\n      <td>89</td>\n    </tr>\n    <tr>\n      <th>250</th>\n      <td>Experimental</td>\n      <td>History</td>\n      <td>84</td>\n    </tr>\n    <tr>\n      <th>251</th>\n      <td>Experimental</td>\n      <td>English</td>\n      <td>83</td>\n    </tr>\n    <tr>\n      <th>252</th>\n      <td>Experimental</td>\n      <td>English</td>\n      <td>87</td>\n    </tr>\n  </tbody>\n</table>\n<p>252 rows × 3 columns</p>\n</div>"
     },
     "execution_count": 32,
     "metadata": {},
     "output_type": "execute_result"
    }
   ],
   "source": [
    "data5 = pd.read_csv(\"test4.csv\")\n",
    "data5.index = data5.Student_ID\n",
    "data5 = data5.iloc[:, 1:]\n",
    "# data5.replace(\"Experimental\", 0, inplace=True)\n",
    "# data5.replace(\"Control\", 1, inplace=True)\n",
    "# data5.replace(\"Math\", 1, inplace=True)\n",
    "# data5.replace(\"Science\", 2, inplace=True)\n",
    "# data5.replace(\"History\", 3, inplace=True)\n",
    "# data5.replace(\"English\", 4, inplace=True)\n",
    "data5"
   ],
   "metadata": {
    "collapsed": false,
    "ExecuteTime": {
     "end_time": "2023-08-09T11:19:25.823559500Z",
     "start_time": "2023-08-09T11:19:25.681901400Z"
    }
   },
   "id": "d085eac6c5a82697"
  },
  {
   "cell_type": "code",
   "execution_count": 46,
   "outputs": [],
   "source": [
    "# d1 = data.Group\n",
    "# d2 = data[\"Test Score\"]\n",
    "# c1 = data2.Group\n",
    "# c2 = data2[\"Test Score\"]\n",
    "# b1 = data3.Group\n",
    "# b2 = data3[\"Test Score\"]\n",
    "# a1, a2, a3 = data4.Group, data4.Subject, data4.Test_Score\n",
    "# a1, a2, a3 = data5.Group, data5.Subject, data5.Test_Score\n",
    "a1 = data5[data5.Group == \"Experimental\"][\"Test_Score\"][0:80]\n",
    "a2 = data5[data5.Group == \"Control\"][\"Test_Score\"][0:80]"
   ],
   "metadata": {
    "collapsed": false,
    "ExecuteTime": {
     "end_time": "2023-08-09T11:23:09.896649700Z",
     "start_time": "2023-08-09T11:23:09.739533700Z"
    }
   },
   "id": "a2a3660d1c3cb922"
  },
  {
   "cell_type": "code",
   "execution_count": 48,
   "outputs": [
    {
     "data": {
      "text/plain": "Student_ID\n1     78\n2     80\n3     85\n4     89\n5     94\n      ..\n76    85\n77    90\n78    80\n79    94\n80    87\nName: Test_Score, Length: 80, dtype: int64"
     },
     "execution_count": 48,
     "metadata": {},
     "output_type": "execute_result"
    }
   ],
   "source": [
    "a1"
   ],
   "metadata": {
    "collapsed": false,
    "ExecuteTime": {
     "end_time": "2023-08-09T11:23:14.229462100Z",
     "start_time": "2023-08-09T11:23:14.109922700Z"
    }
   },
   "id": "3087a28baf498543"
  },
  {
   "cell_type": "code",
   "execution_count": 5,
   "outputs": [
    {
     "name": "stdout",
     "output_type": "stream",
     "text": [
      "stat=1.405\n",
      "Probably not Gaussian at the 15.0% level\n",
      "Probably not Gaussian at the 10.0% level\n",
      "Probably not Gaussian at the 5.0% level\n",
      "Probably not Gaussian at the 2.5% level\n",
      "Probably not Gaussian at the 1.0% level\n"
     ]
    }
   ],
   "source": [
    "# test normality\n",
    "from Statistical_Hypothesis_Tests import Normality\n",
    "\n",
    "norm = Normality()\n",
    "# norm.shapiro(a3)\n",
    "# norm.d_agostinos_k2_test(a3)\n",
    "norm.anderson_darling(a3)"
   ],
   "metadata": {
    "collapsed": false,
    "ExecuteTime": {
     "end_time": "2023-08-09T11:06:52.787010Z",
     "start_time": "2023-08-09T11:06:51.977809900Z"
    }
   },
   "id": "cda50f749c126bec"
  },
  {
   "cell_type": "code",
   "execution_count": 6,
   "outputs": [],
   "source": [
    "# test correlation\n",
    "from Statistical_Hypothesis_Tests import Correlation\n",
    "\n",
    "corr = Correlation()\n",
    "# corr.kendall(a2,a3)\n",
    "# corr.spearman(a2,a3)\n",
    "# corr.pearson(a1,a3)\n",
    "# corr.chi_squared(a1,a3) # some problem I think"
   ],
   "metadata": {
    "collapsed": false,
    "ExecuteTime": {
     "end_time": "2023-08-09T11:06:55.196357600Z",
     "start_time": "2023-08-09T11:06:55.085083300Z"
    }
   },
   "id": "35e8097f94a63cea"
  },
  {
   "cell_type": "code",
   "execution_count": 50,
   "outputs": [
    {
     "name": "stdout",
     "output_type": "stream",
     "text": [
      "stat=8.488, p=0.000\n",
      "Probably different distributions\n",
      "stat=nan, p=nan\n",
      "Probably different distributions\n",
      "stat=72.045, p=0.000\n",
      "Probably different distributions\n"
     ]
    }
   ],
   "source": [
    "# test \n",
    "from Statistical_Hypothesis_Tests import Parametric_Statistical_Hypothesis\n",
    "\n",
    "corr = Parametric_Statistical_Hypothesis()\n",
    "corr.t_test(a1, a2)\n",
    "corr.paired_t_test(a2, a2)\n",
    "corr.anova(a1, a2)\n"
   ],
   "metadata": {
    "collapsed": false,
    "ExecuteTime": {
     "end_time": "2023-08-09T11:30:40.190437800Z",
     "start_time": "2023-08-09T11:30:40.070776200Z"
    }
   },
   "id": "e8d7822f5277f339"
  },
  {
   "cell_type": "code",
   "execution_count": 49,
   "outputs": [
    {
     "name": "stdout",
     "output_type": "stream",
     "text": [
      "stat=0.000, p=0.000\n",
      "Probably different distributions\n",
      "stat=5250.000, p=0.000\n",
      "Probably different distributions\n",
      "stat=49.069, p=0.000\n",
      "Probably different distributions\n"
     ]
    },
    {
     "ename": "ValueError",
     "evalue": "At least 3 sets of samples must be given for Friedman test, got 2.",
     "output_type": "error",
     "traceback": [
      "\u001B[1;31m---------------------------------------------------------------------------\u001B[0m",
      "\u001B[1;31mValueError\u001B[0m                                Traceback (most recent call last)",
      "\u001B[1;32m~\\AppData\\Local\\Temp\\ipykernel_13964\\1016840340.py\u001B[0m in \u001B[0;36m?\u001B[1;34m()\u001B[0m\n\u001B[0;32m      4\u001B[0m \u001B[0mcorr\u001B[0m \u001B[1;33m=\u001B[0m \u001B[0mNonparametric_Statistical_Hypothesis\u001B[0m\u001B[1;33m(\u001B[0m\u001B[1;33m)\u001B[0m\u001B[1;33m\u001B[0m\u001B[1;33m\u001B[0m\u001B[0m\n\u001B[0;32m      5\u001B[0m \u001B[0mcorr\u001B[0m\u001B[1;33m.\u001B[0m\u001B[0mwilcoxon\u001B[0m\u001B[1;33m(\u001B[0m\u001B[0ma1\u001B[0m\u001B[1;33m,\u001B[0m\u001B[0ma2\u001B[0m\u001B[1;33m)\u001B[0m\u001B[1;33m\u001B[0m\u001B[1;33m\u001B[0m\u001B[0m\n\u001B[0;32m      6\u001B[0m \u001B[0mcorr\u001B[0m\u001B[1;33m.\u001B[0m\u001B[0mmann_whitney_u\u001B[0m\u001B[1;33m(\u001B[0m\u001B[0ma1\u001B[0m\u001B[1;33m,\u001B[0m\u001B[0ma2\u001B[0m\u001B[1;33m)\u001B[0m\u001B[1;33m\u001B[0m\u001B[1;33m\u001B[0m\u001B[0m\n\u001B[0;32m      7\u001B[0m \u001B[0mcorr\u001B[0m\u001B[1;33m.\u001B[0m\u001B[0mkruskal_wallis_h\u001B[0m\u001B[1;33m(\u001B[0m\u001B[0ma1\u001B[0m\u001B[1;33m,\u001B[0m\u001B[0ma2\u001B[0m\u001B[1;33m)\u001B[0m\u001B[1;33m\u001B[0m\u001B[1;33m\u001B[0m\u001B[0m\n\u001B[1;32m----> 8\u001B[1;33m \u001B[0mcorr\u001B[0m\u001B[1;33m.\u001B[0m\u001B[0mfriedman\u001B[0m\u001B[1;33m(\u001B[0m\u001B[0ma1\u001B[0m\u001B[1;33m,\u001B[0m\u001B[0ma2\u001B[0m\u001B[1;33m)\u001B[0m\u001B[1;33m\u001B[0m\u001B[1;33m\u001B[0m\u001B[0m\n\u001B[0m",
      "\u001B[1;32mD:\\All Python\\ML\\Statistical_Hypothesis_Tests\\Test_Your Project\\01- test and try\\Statistical_Hypothesis_Tests.py\u001B[0m in \u001B[0;36m?\u001B[1;34m(self, *args)\u001B[0m\n\u001B[0;32m    435\u001B[0m \u001B[1;33m\u001B[0m\u001B[0m\n\u001B[0;32m    436\u001B[0m         \u001B[1;33m:\u001B[0m\u001B[0mparam\u001B[0m \u001B[0margs\u001B[0m\u001B[1;33m:\u001B[0m\u001B[1;33m\u001B[0m\u001B[1;33m\u001B[0m\u001B[0m\n\u001B[0;32m    437\u001B[0m         \u001B[1;33m:\u001B[0m\u001B[1;32mreturn\u001B[0m\u001B[1;33m:\u001B[0m\u001B[1;33m\u001B[0m\u001B[1;33m\u001B[0m\u001B[0m\n\u001B[0;32m    438\u001B[0m         \"\"\"\n\u001B[1;32m--> 439\u001B[1;33m         \u001B[0mstat\u001B[0m\u001B[1;33m,\u001B[0m \u001B[0mp\u001B[0m \u001B[1;33m=\u001B[0m \u001B[0mfriedmanchisquare\u001B[0m\u001B[1;33m(\u001B[0m\u001B[1;33m*\u001B[0m\u001B[0margs\u001B[0m\u001B[1;33m)\u001B[0m\u001B[1;33m\u001B[0m\u001B[1;33m\u001B[0m\u001B[0m\n\u001B[0m\u001B[0;32m    440\u001B[0m         \u001B[0mprint\u001B[0m\u001B[1;33m(\u001B[0m\u001B[1;34mf\"stat={stat:.3f}, p={p:.3f}\"\u001B[0m\u001B[1;33m)\u001B[0m\u001B[1;33m\u001B[0m\u001B[1;33m\u001B[0m\u001B[0m\n\u001B[0;32m    441\u001B[0m         \u001B[1;32mif\u001B[0m \u001B[0mp\u001B[0m \u001B[1;33m>\u001B[0m \u001B[1;36m0.05\u001B[0m\u001B[1;33m:\u001B[0m\u001B[1;33m\u001B[0m\u001B[1;33m\u001B[0m\u001B[0m\n\u001B[0;32m    442\u001B[0m             \u001B[0mprint\u001B[0m\u001B[1;33m(\u001B[0m\u001B[1;34m\"Probably the same distribution\"\u001B[0m\u001B[1;33m)\u001B[0m\u001B[1;33m\u001B[0m\u001B[1;33m\u001B[0m\u001B[0m\n",
      "\u001B[1;32mD:\\All Python\\ML\\venv\\Lib\\site-packages\\scipy\\stats\\_stats_py.py\u001B[0m in \u001B[0;36m?\u001B[1;34m(*samples)\u001B[0m\n\u001B[0;32m   9400\u001B[0m \u001B[1;33m\u001B[0m\u001B[0m\n\u001B[0;32m   9401\u001B[0m     \"\"\"\n\u001B[0;32m   9402\u001B[0m     \u001B[0mk\u001B[0m \u001B[1;33m=\u001B[0m \u001B[0mlen\u001B[0m\u001B[1;33m(\u001B[0m\u001B[0msamples\u001B[0m\u001B[1;33m)\u001B[0m\u001B[1;33m\u001B[0m\u001B[1;33m\u001B[0m\u001B[0m\n\u001B[0;32m   9403\u001B[0m     \u001B[1;32mif\u001B[0m \u001B[0mk\u001B[0m \u001B[1;33m<\u001B[0m \u001B[1;36m3\u001B[0m\u001B[1;33m:\u001B[0m\u001B[1;33m\u001B[0m\u001B[1;33m\u001B[0m\u001B[0m\n\u001B[1;32m-> 9404\u001B[1;33m         raise ValueError('At least 3 sets of samples must be given '\n\u001B[0m\u001B[0;32m   9405\u001B[0m                          'for Friedman test, got {}.'.format(k))\n\u001B[0;32m   9406\u001B[0m \u001B[1;33m\u001B[0m\u001B[0m\n\u001B[0;32m   9407\u001B[0m     \u001B[0mn\u001B[0m \u001B[1;33m=\u001B[0m \u001B[0mlen\u001B[0m\u001B[1;33m(\u001B[0m\u001B[0msamples\u001B[0m\u001B[1;33m[\u001B[0m\u001B[1;36m0\u001B[0m\u001B[1;33m]\u001B[0m\u001B[1;33m)\u001B[0m\u001B[1;33m\u001B[0m\u001B[1;33m\u001B[0m\u001B[0m\n",
      "\u001B[1;31mValueError\u001B[0m: At least 3 sets of samples must be given for Friedman test, got 2."
     ]
    }
   ],
   "source": [
    "# test 5\n",
    "from Statistical_Hypothesis_Tests import Nonparametric_Statistical_Hypothesis\n",
    "\n",
    "corr = Nonparametric_Statistical_Hypothesis()\n",
    "corr.wilcoxon(a1,a2)\n",
    "corr.mann_whitney_u(a1,a2)\n",
    "corr.kruskal_wallis_h(a1,a2)\n",
    "# corr.friedman(a1,a2)"
   ],
   "metadata": {
    "collapsed": false,
    "ExecuteTime": {
     "end_time": "2023-08-09T11:23:19.753958500Z",
     "start_time": "2023-08-09T11:23:19.626706900Z"
    }
   },
   "id": "7e1693523b4017a6"
  },
  {
   "cell_type": "code",
   "execution_count": null,
   "outputs": [],
   "source": [],
   "metadata": {
    "collapsed": false
   },
   "id": "495e0771fec3dcb8"
  }
 ],
 "metadata": {
  "kernelspec": {
   "display_name": "Python 3",
   "language": "python",
   "name": "python3"
  },
  "language_info": {
   "codemirror_mode": {
    "name": "ipython",
    "version": 2
   },
   "file_extension": ".py",
   "mimetype": "text/x-python",
   "name": "python",
   "nbconvert_exporter": "python",
   "pygments_lexer": "ipython2",
   "version": "2.7.6"
  }
 },
 "nbformat": 4,
 "nbformat_minor": 5
}
