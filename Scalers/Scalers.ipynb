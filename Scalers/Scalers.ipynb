{
 "cells": [
  {
   "metadata": {},
   "cell_type": "markdown",
   "source": "# Example",
   "id": "9c55fac399d4818b"
  },
  {
   "metadata": {
    "ExecuteTime": {
     "end_time": "2024-05-22T12:39:36.025065Z",
     "start_time": "2024-05-22T12:39:36.021241Z"
    }
   },
   "cell_type": "code",
   "source": [
    "import torch\n",
    "import numpy as np\n",
    "\n",
    "data = np.array([[1.0, 2.0, 3.0],\n",
    "                 [4.0, 5.0, 6.0],\n",
    "                 [7.0, 8.0, 9.0]])\n",
    "data_shape = data.shape"
   ],
   "id": "c359ef34f6ca63a4",
   "outputs": [],
   "execution_count": 89
  },
  {
   "metadata": {},
   "cell_type": "markdown",
   "source": "# MinMaxScaler Normal",
   "id": "dd63ffc2c9f0357a"
  },
  {
   "metadata": {
    "ExecuteTime": {
     "end_time": "2024-05-22T12:09:53.495705Z",
     "start_time": "2024-05-22T12:09:53.491062Z"
    }
   },
   "cell_type": "code",
   "source": [
    "# Min-max scaling\n",
    "min_val = data.min()\n",
    "max_val = data.max()\n",
    "scaled_data = (data - min_val) / (max_val - min_val)\n",
    "\n",
    "print(\"Scaled Data (MinMaxScaler):\\n\", scaled_data)\n"
   ],
   "id": "6042e4ac2954e24f",
   "outputs": [
    {
     "name": "stdout",
     "output_type": "stream",
     "text": [
      "Scaled Data (MinMaxScaler):\n",
      " [[0.    0.125 0.25 ]\n",
      " [0.375 0.5   0.625]\n",
      " [0.75  0.875 1.   ]]\n"
     ]
    }
   ],
   "execution_count": 56
  },
  {
   "metadata": {},
   "cell_type": "markdown",
   "source": [
    "# MinMaxScaler - sklearn\n",
    "X_std = (X - X.min(axis=0)) / (X.max(axis=0) - X.min(axis=0))\n",
    "\n",
    "X_scaled = X_std * (max - min) + min"
   ],
   "id": "28c98856692e3ff"
  },
  {
   "metadata": {
    "ExecuteTime": {
     "end_time": "2024-05-22T12:09:53.868196Z",
     "start_time": "2024-05-22T12:09:53.862734Z"
    }
   },
   "cell_type": "code",
   "source": [
    "from sklearn.preprocessing import MinMaxScaler\n",
    "\n",
    "# Create MinMaxScaler object\n",
    "scaler = MinMaxScaler(feature_range=(0.0, 1.0))\n",
    "\n",
    "# Fit the scaler to the data and transform the data\n",
    "scaled_data = scaler.fit_transform(data.reshape(-1, 1)).reshape(data_shape)\n",
    "\n",
    "print(\"Original Data:\\n\", data)\n",
    "print(\"\\nScaled Data (MinMaxScaler):\\n\", scaled_data)"
   ],
   "id": "9ec2754bcd99e730",
   "outputs": [
    {
     "name": "stdout",
     "output_type": "stream",
     "text": [
      "Original Data:\n",
      " [[1. 2. 3.]\n",
      " [4. 5. 6.]\n",
      " [7. 8. 9.]]\n",
      "\n",
      "Scaled Data (MinMaxScaler):\n",
      " [[0.    0.125 0.25 ]\n",
      " [0.375 0.5   0.625]\n",
      " [0.75  0.875 1.   ]]\n"
     ]
    }
   ],
   "execution_count": 57
  },
  {
   "metadata": {},
   "cell_type": "markdown",
   "source": [
    "# StandardScaler\n",
    "The standard score of a sample x is calculated as:\n",
    "\n",
    "z = (x - u) / s\n",
    "\n",
    "where u is the mean of the training samples or zero if with_mean=False, and s is the standard deviation of the training samples or one if with_std=False."
   ],
   "id": "7f3c3b5cad45a955"
  },
  {
   "metadata": {
    "ExecuteTime": {
     "end_time": "2024-05-22T12:09:54.214762Z",
     "start_time": "2024-05-22T12:09:54.207348Z"
    }
   },
   "cell_type": "code",
   "source": [
    "mean = data.mean()\n",
    "std_dev = data.std()\n",
    "standardized_data = (data - mean) / std_dev\n",
    "\n",
    "print(\"Standardized Data (StandardScaler):\\n\", standardized_data)\n"
   ],
   "id": "8c83cc7326672f7d",
   "outputs": [
    {
     "name": "stdout",
     "output_type": "stream",
     "text": [
      "Standardized Data (StandardScaler):\n",
      " [[-1.54919334 -1.161895   -0.77459667]\n",
      " [-0.38729833  0.          0.38729833]\n",
      " [ 0.77459667  1.161895    1.54919334]]\n"
     ]
    }
   ],
   "execution_count": 58
  },
  {
   "metadata": {
    "ExecuteTime": {
     "end_time": "2024-05-22T12:09:54.406319Z",
     "start_time": "2024-05-22T12:09:54.399877Z"
    }
   },
   "cell_type": "code",
   "source": [
    "from sklearn.preprocessing import StandardScaler\n",
    "data_n = data.reshape(-1, 1)\n",
    "\n",
    "scaler = StandardScaler()\n",
    "scaler.fit(data_n)\n",
    "scaler.transform(data_n).reshape(data_shape)"
   ],
   "id": "59994a199d04acf2",
   "outputs": [
    {
     "data": {
      "text/plain": [
       "array([[-1.54919334, -1.161895  , -0.77459667],\n",
       "       [-0.38729833,  0.        ,  0.38729833],\n",
       "       [ 0.77459667,  1.161895  ,  1.54919334]])"
      ]
     },
     "execution_count": 59,
     "metadata": {},
     "output_type": "execute_result"
    }
   ],
   "execution_count": 59
  },
  {
   "metadata": {},
   "cell_type": "markdown",
   "source": "# RobustScaler",
   "id": "7b1e30636d19b090"
  },
  {
   "metadata": {
    "ExecuteTime": {
     "end_time": "2024-05-22T12:10:18.580556Z",
     "start_time": "2024-05-22T12:10:18.573584Z"
    }
   },
   "cell_type": "code",
   "source": [
    "from sklearn.preprocessing import RobustScaler\n",
    "scaler = RobustScaler()\n",
    "scaler.fit_transform(data.reshape(-1, 1)).reshape(data_shape)"
   ],
   "id": "f90ea912cb1cb3da",
   "outputs": [
    {
     "data": {
      "text/plain": [
       "array([[-1.  , -0.75, -0.5 ],\n",
       "       [-0.25,  0.  ,  0.25],\n",
       "       [ 0.5 ,  0.75,  1.  ]])"
      ]
     },
     "execution_count": 62,
     "metadata": {},
     "output_type": "execute_result"
    }
   ],
   "execution_count": 62
  },
  {
   "metadata": {},
   "cell_type": "markdown",
   "source": "# MaxAbsScaler",
   "id": "64afcb2354ea6817"
  },
  {
   "metadata": {
    "ExecuteTime": {
     "end_time": "2024-05-22T12:11:52.161638Z",
     "start_time": "2024-05-22T12:11:52.155822Z"
    }
   },
   "cell_type": "code",
   "source": [
    "from sklearn.preprocessing import MaxAbsScaler\n",
    "scaler = MaxAbsScaler()\n",
    "scaler.fit_transform(data.reshape(-1, 1)).reshape(data_shape)"
   ],
   "id": "761ac1d34b5b4093",
   "outputs": [
    {
     "data": {
      "text/plain": [
       "array([[0.11111111, 0.22222222, 0.33333333],\n",
       "       [0.44444444, 0.55555556, 0.66666667],\n",
       "       [0.77777778, 0.88888889, 1.        ]])"
      ]
     },
     "execution_count": 63,
     "metadata": {},
     "output_type": "execute_result"
    }
   ],
   "execution_count": 63
  },
  {
   "metadata": {},
   "cell_type": "markdown",
   "source": "# PowerTransformer",
   "id": "bdc361cf5a17ccaf"
  },
  {
   "metadata": {
    "ExecuteTime": {
     "end_time": "2024-05-22T12:15:40.427431Z",
     "start_time": "2024-05-22T12:15:40.413265Z"
    }
   },
   "cell_type": "code",
   "source": [
    "from sklearn.preprocessing import PowerTransformer\n",
    "scaler = PowerTransformer(method=\"box-cox\")\n",
    "scaler.fit_transform(data.reshape(-1, 1)).reshape(data_shape)\n"
   ],
   "id": "ea7cdfa5ce2be1b4",
   "outputs": [
    {
     "data": {
      "text/plain": [
       "array([[-1.69300617, -1.16788746, -0.71478085],\n",
       "       [-0.30290105,  0.08080817,  0.44346554],\n",
       "       [ 0.78950339,  1.12192248,  1.44287594]])"
      ]
     },
     "execution_count": 69,
     "metadata": {},
     "output_type": "execute_result"
    }
   ],
   "execution_count": 69
  },
  {
   "metadata": {},
   "cell_type": "markdown",
   "source": "# QuantileTransformer",
   "id": "d04951e7c955ff0c"
  },
  {
   "metadata": {
    "ExecuteTime": {
     "end_time": "2024-05-22T12:18:17.995522Z",
     "start_time": "2024-05-22T12:18:17.987994Z"
    }
   },
   "cell_type": "code",
   "source": [
    "from sklearn.preprocessing import QuantileTransformer\n",
    "scaler = QuantileTransformer(n_quantiles=5, random_state=42)\n",
    "scaler.fit_transform(data.reshape(-1, 1)).reshape(data_shape)\n"
   ],
   "id": "f1e64f1f07eab8f8",
   "outputs": [
    {
     "data": {
      "text/plain": [
       "array([[0.   , 0.125, 0.25 ],\n",
       "       [0.375, 0.5  , 0.625],\n",
       "       [0.75 , 0.875, 1.   ]])"
      ]
     },
     "execution_count": 73,
     "metadata": {},
     "output_type": "execute_result"
    }
   ],
   "execution_count": 73
  },
  {
   "metadata": {},
   "cell_type": "markdown",
   "source": "# FunctionTransformer",
   "id": "975650f13520888"
  },
  {
   "metadata": {
    "ExecuteTime": {
     "end_time": "2024-05-22T12:27:38.352570Z",
     "start_time": "2024-05-22T12:27:38.346249Z"
    }
   },
   "cell_type": "code",
   "source": [
    "from sklearn.preprocessing import FunctionTransformer\n",
    "\n",
    "def tf(x):\n",
    "    return x/len(x)\n",
    "\n",
    "def tf_inverse(x):\n",
    "    return x*len(x)\n",
    "\n",
    "scaler = FunctionTransformer(func=tf, inverse_func=tf_inverse, validate=True)\n",
    "scaler.fit_transform(data.reshape(-1, 1)).reshape(data_shape)\n",
    "\n",
    "# scaler.transform(np.array([10, 11]).reshape(-1, 1))"
   ],
   "id": "b2d3a10b582c3813",
   "outputs": [
    {
     "data": {
      "text/plain": [
       "array([[0.11111111, 0.22222222, 0.33333333],\n",
       "       [0.44444444, 0.55555556, 0.66666667],\n",
       "       [0.77777778, 0.88888889, 1.        ]])"
      ]
     },
     "execution_count": 88,
     "metadata": {},
     "output_type": "execute_result"
    }
   ],
   "execution_count": 88
  },
  {
   "metadata": {},
   "cell_type": "code",
   "outputs": [],
   "execution_count": null,
   "source": "",
   "id": "cbc70881bcec109"
  }
 ],
 "metadata": {
  "kernelspec": {
   "display_name": "Python 3",
   "language": "python",
   "name": "python3"
  },
  "language_info": {
   "codemirror_mode": {
    "name": "ipython",
    "version": 2
   },
   "file_extension": ".py",
   "mimetype": "text/x-python",
   "name": "python",
   "nbconvert_exporter": "python",
   "pygments_lexer": "ipython2",
   "version": "2.7.6"
  }
 },
 "nbformat": 4,
 "nbformat_minor": 5
}
