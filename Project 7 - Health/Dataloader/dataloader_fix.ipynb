{
 "cells": [
  {
   "cell_type": "code",
   "execution_count": 4,
   "id": "initial_id",
   "metadata": {
    "collapsed": true,
    "ExecuteTime": {
     "end_time": "2024-01-26T07:54:21.642346100Z",
     "start_time": "2024-01-26T07:54:21.597335300Z"
    }
   },
   "outputs": [
    {
     "data": {
      "text/plain": "   Unnamed: 0       y  number_of_beds  markaze_behdasht  number_of_labs  \\\n0     1394_01  1664.0          2107.0              83.0           290.0   \n1     1394_02  2027.0          2107.0              83.0           290.0   \n2     1394_03  2186.0          2107.0              83.0           290.0   \n3     1394_04  1800.0          2107.0              83.0           290.0   \n4     1394_05  2216.0          2107.0              83.0           290.0   \n..        ...     ...             ...               ...             ...   \n91    1401_08  3581.0             NaN               NaN             NaN   \n92    1401_09  3570.0             NaN               NaN             NaN   \n93    1401_10  3049.0             NaN               NaN             NaN   \n94    1401_11  3122.0             NaN               NaN             NaN   \n95    1401_12  3228.0             NaN               NaN             NaN   \n\n    number_of_active_beds  number_of_employees  number_of_doctors  \\\n0                  1747.0               4665.0              545.0   \n1                  1747.0               4665.0              545.0   \n2                  1747.0               4665.0              545.0   \n3                  1747.0               4665.0              545.0   \n4                  1747.0               4665.0              545.0   \n..                    ...                  ...                ...   \n91                    NaN                  NaN                NaN   \n92                    NaN                  NaN                NaN   \n93                    NaN                  NaN                NaN   \n94                    NaN                  NaN                NaN   \n95                    NaN                  NaN                NaN   \n\n    number_of_pir_doctors  number_of_stuff  ...  \\\n0                  2421.0           1699.0  ...   \n1                  2421.0           1699.0  ...   \n2                  2421.0           1699.0  ...   \n3                  2421.0           1699.0  ...   \n4                  2421.0           1699.0  ...   \n..                    ...              ...  ...   \n91                    NaN              NaN  ...   \n92                    NaN              NaN  ...   \n93                    NaN              NaN  ...   \n94                    NaN              NaN  ...   \n95                    NaN              NaN  ...   \n\n    number_of_travels_minibus_inside  number_of_travels_minibus_outside  \\\n0                             1949.0                              733.0   \n1                             1949.0                              733.0   \n2                             1949.0                              733.0   \n3                             1949.0                              733.0   \n4                             1949.0                              733.0   \n..                               ...                                ...   \n91                            9487.0                             2312.0   \n92                            9487.0                             2312.0   \n93                            9487.0                             2312.0   \n94                            9487.0                             2312.0   \n95                            9487.0                             2312.0   \n\n    number_of_travels_car_inside  number_of_travels_car_outside  \\\n0                          615.0                         1565.0   \n1                          615.0                         1565.0   \n2                          615.0                         1565.0   \n3                          615.0                         1565.0   \n4                          615.0                         1565.0   \n..                           ...                            ...   \n91                        2048.0                         4270.0   \n92                        2048.0                         4270.0   \n93                        2048.0                         4270.0   \n94                        2048.0                         4270.0   \n95                        2048.0                         4270.0   \n\n    number_of_person_bus_inside  number_of_person_bus_outside  \\\n0                      155352.0                      618303.0   \n1                      155352.0                      618303.0   \n2                      155352.0                      618303.0   \n3                      155352.0                      618303.0   \n4                      155352.0                      618303.0   \n..                          ...                           ...   \n91                     208977.0                      822597.0   \n92                     208977.0                      822597.0   \n93                     208977.0                      822597.0   \n94                     208977.0                      822597.0   \n95                     208977.0                      822597.0   \n\n    number_of_person_minibus_inside  number_of_person_minibus_outside  \\\n0                           12874.0                            9411.0   \n1                           12874.0                            9411.0   \n2                           12874.0                            9411.0   \n3                           12874.0                            9411.0   \n4                           12874.0                            9411.0   \n..                              ...                               ...   \n91                          13863.0                            6923.0   \n92                          13863.0                            6923.0   \n93                          13863.0                            6923.0   \n94                          13863.0                            6923.0   \n95                          13863.0                            6923.0   \n\n    number_of_person_car_inside  number_of_person_car_outside  \n0                         755.0                        2500.0  \n1                         755.0                        2500.0  \n2                         755.0                        2500.0  \n3                         755.0                        2500.0  \n4                         755.0                        2500.0  \n..                          ...                           ...  \n91                       2227.0                        4639.0  \n92                       2227.0                        4639.0  \n93                       2227.0                        4639.0  \n94                       2227.0                        4639.0  \n95                       2227.0                        4639.0  \n\n[96 rows x 23 columns]",
      "text/html": "<div>\n<style scoped>\n    .dataframe tbody tr th:only-of-type {\n        vertical-align: middle;\n    }\n\n    .dataframe tbody tr th {\n        vertical-align: top;\n    }\n\n    .dataframe thead th {\n        text-align: right;\n    }\n</style>\n<table border=\"1\" class=\"dataframe\">\n  <thead>\n    <tr style=\"text-align: right;\">\n      <th></th>\n      <th>Unnamed: 0</th>\n      <th>y</th>\n      <th>number_of_beds</th>\n      <th>markaze_behdasht</th>\n      <th>number_of_labs</th>\n      <th>number_of_active_beds</th>\n      <th>number_of_employees</th>\n      <th>number_of_doctors</th>\n      <th>number_of_pir_doctors</th>\n      <th>number_of_stuff</th>\n      <th>...</th>\n      <th>number_of_travels_minibus_inside</th>\n      <th>number_of_travels_minibus_outside</th>\n      <th>number_of_travels_car_inside</th>\n      <th>number_of_travels_car_outside</th>\n      <th>number_of_person_bus_inside</th>\n      <th>number_of_person_bus_outside</th>\n      <th>number_of_person_minibus_inside</th>\n      <th>number_of_person_minibus_outside</th>\n      <th>number_of_person_car_inside</th>\n      <th>number_of_person_car_outside</th>\n    </tr>\n  </thead>\n  <tbody>\n    <tr>\n      <th>0</th>\n      <td>1394_01</td>\n      <td>1664.0</td>\n      <td>2107.0</td>\n      <td>83.0</td>\n      <td>290.0</td>\n      <td>1747.0</td>\n      <td>4665.0</td>\n      <td>545.0</td>\n      <td>2421.0</td>\n      <td>1699.0</td>\n      <td>...</td>\n      <td>1949.0</td>\n      <td>733.0</td>\n      <td>615.0</td>\n      <td>1565.0</td>\n      <td>155352.0</td>\n      <td>618303.0</td>\n      <td>12874.0</td>\n      <td>9411.0</td>\n      <td>755.0</td>\n      <td>2500.0</td>\n    </tr>\n    <tr>\n      <th>1</th>\n      <td>1394_02</td>\n      <td>2027.0</td>\n      <td>2107.0</td>\n      <td>83.0</td>\n      <td>290.0</td>\n      <td>1747.0</td>\n      <td>4665.0</td>\n      <td>545.0</td>\n      <td>2421.0</td>\n      <td>1699.0</td>\n      <td>...</td>\n      <td>1949.0</td>\n      <td>733.0</td>\n      <td>615.0</td>\n      <td>1565.0</td>\n      <td>155352.0</td>\n      <td>618303.0</td>\n      <td>12874.0</td>\n      <td>9411.0</td>\n      <td>755.0</td>\n      <td>2500.0</td>\n    </tr>\n    <tr>\n      <th>2</th>\n      <td>1394_03</td>\n      <td>2186.0</td>\n      <td>2107.0</td>\n      <td>83.0</td>\n      <td>290.0</td>\n      <td>1747.0</td>\n      <td>4665.0</td>\n      <td>545.0</td>\n      <td>2421.0</td>\n      <td>1699.0</td>\n      <td>...</td>\n      <td>1949.0</td>\n      <td>733.0</td>\n      <td>615.0</td>\n      <td>1565.0</td>\n      <td>155352.0</td>\n      <td>618303.0</td>\n      <td>12874.0</td>\n      <td>9411.0</td>\n      <td>755.0</td>\n      <td>2500.0</td>\n    </tr>\n    <tr>\n      <th>3</th>\n      <td>1394_04</td>\n      <td>1800.0</td>\n      <td>2107.0</td>\n      <td>83.0</td>\n      <td>290.0</td>\n      <td>1747.0</td>\n      <td>4665.0</td>\n      <td>545.0</td>\n      <td>2421.0</td>\n      <td>1699.0</td>\n      <td>...</td>\n      <td>1949.0</td>\n      <td>733.0</td>\n      <td>615.0</td>\n      <td>1565.0</td>\n      <td>155352.0</td>\n      <td>618303.0</td>\n      <td>12874.0</td>\n      <td>9411.0</td>\n      <td>755.0</td>\n      <td>2500.0</td>\n    </tr>\n    <tr>\n      <th>4</th>\n      <td>1394_05</td>\n      <td>2216.0</td>\n      <td>2107.0</td>\n      <td>83.0</td>\n      <td>290.0</td>\n      <td>1747.0</td>\n      <td>4665.0</td>\n      <td>545.0</td>\n      <td>2421.0</td>\n      <td>1699.0</td>\n      <td>...</td>\n      <td>1949.0</td>\n      <td>733.0</td>\n      <td>615.0</td>\n      <td>1565.0</td>\n      <td>155352.0</td>\n      <td>618303.0</td>\n      <td>12874.0</td>\n      <td>9411.0</td>\n      <td>755.0</td>\n      <td>2500.0</td>\n    </tr>\n    <tr>\n      <th>...</th>\n      <td>...</td>\n      <td>...</td>\n      <td>...</td>\n      <td>...</td>\n      <td>...</td>\n      <td>...</td>\n      <td>...</td>\n      <td>...</td>\n      <td>...</td>\n      <td>...</td>\n      <td>...</td>\n      <td>...</td>\n      <td>...</td>\n      <td>...</td>\n      <td>...</td>\n      <td>...</td>\n      <td>...</td>\n      <td>...</td>\n      <td>...</td>\n      <td>...</td>\n      <td>...</td>\n    </tr>\n    <tr>\n      <th>91</th>\n      <td>1401_08</td>\n      <td>3581.0</td>\n      <td>NaN</td>\n      <td>NaN</td>\n      <td>NaN</td>\n      <td>NaN</td>\n      <td>NaN</td>\n      <td>NaN</td>\n      <td>NaN</td>\n      <td>NaN</td>\n      <td>...</td>\n      <td>9487.0</td>\n      <td>2312.0</td>\n      <td>2048.0</td>\n      <td>4270.0</td>\n      <td>208977.0</td>\n      <td>822597.0</td>\n      <td>13863.0</td>\n      <td>6923.0</td>\n      <td>2227.0</td>\n      <td>4639.0</td>\n    </tr>\n    <tr>\n      <th>92</th>\n      <td>1401_09</td>\n      <td>3570.0</td>\n      <td>NaN</td>\n      <td>NaN</td>\n      <td>NaN</td>\n      <td>NaN</td>\n      <td>NaN</td>\n      <td>NaN</td>\n      <td>NaN</td>\n      <td>NaN</td>\n      <td>...</td>\n      <td>9487.0</td>\n      <td>2312.0</td>\n      <td>2048.0</td>\n      <td>4270.0</td>\n      <td>208977.0</td>\n      <td>822597.0</td>\n      <td>13863.0</td>\n      <td>6923.0</td>\n      <td>2227.0</td>\n      <td>4639.0</td>\n    </tr>\n    <tr>\n      <th>93</th>\n      <td>1401_10</td>\n      <td>3049.0</td>\n      <td>NaN</td>\n      <td>NaN</td>\n      <td>NaN</td>\n      <td>NaN</td>\n      <td>NaN</td>\n      <td>NaN</td>\n      <td>NaN</td>\n      <td>NaN</td>\n      <td>...</td>\n      <td>9487.0</td>\n      <td>2312.0</td>\n      <td>2048.0</td>\n      <td>4270.0</td>\n      <td>208977.0</td>\n      <td>822597.0</td>\n      <td>13863.0</td>\n      <td>6923.0</td>\n      <td>2227.0</td>\n      <td>4639.0</td>\n    </tr>\n    <tr>\n      <th>94</th>\n      <td>1401_11</td>\n      <td>3122.0</td>\n      <td>NaN</td>\n      <td>NaN</td>\n      <td>NaN</td>\n      <td>NaN</td>\n      <td>NaN</td>\n      <td>NaN</td>\n      <td>NaN</td>\n      <td>NaN</td>\n      <td>...</td>\n      <td>9487.0</td>\n      <td>2312.0</td>\n      <td>2048.0</td>\n      <td>4270.0</td>\n      <td>208977.0</td>\n      <td>822597.0</td>\n      <td>13863.0</td>\n      <td>6923.0</td>\n      <td>2227.0</td>\n      <td>4639.0</td>\n    </tr>\n    <tr>\n      <th>95</th>\n      <td>1401_12</td>\n      <td>3228.0</td>\n      <td>NaN</td>\n      <td>NaN</td>\n      <td>NaN</td>\n      <td>NaN</td>\n      <td>NaN</td>\n      <td>NaN</td>\n      <td>NaN</td>\n      <td>NaN</td>\n      <td>...</td>\n      <td>9487.0</td>\n      <td>2312.0</td>\n      <td>2048.0</td>\n      <td>4270.0</td>\n      <td>208977.0</td>\n      <td>822597.0</td>\n      <td>13863.0</td>\n      <td>6923.0</td>\n      <td>2227.0</td>\n      <td>4639.0</td>\n    </tr>\n  </tbody>\n</table>\n<p>96 rows × 23 columns</p>\n</div>"
     },
     "execution_count": 4,
     "metadata": {},
     "output_type": "execute_result"
    }
   ],
   "source": [
    "import pandas as pd\n",
    "data = pd.read_csv(\"data/data_complete.csv\")\n",
    "data"
   ]
  },
  {
   "cell_type": "code",
   "outputs": [],
   "source": [
    "data.fillna(data.mean(), inplace=True)\n",
    "data.to_csv(\"data/data_complete.csv\")"
   ],
   "metadata": {
    "collapsed": false,
    "ExecuteTime": {
     "end_time": "2024-01-26T07:54:50.653153800Z",
     "start_time": "2024-01-26T07:54:50.540566600Z"
    }
   },
   "id": "3675e76c9eb3300e",
   "execution_count": 6
  },
  {
   "cell_type": "code",
   "outputs": [],
   "source": [],
   "metadata": {
    "collapsed": false
   },
   "id": "74c24cb90bf6398e"
  }
 ],
 "metadata": {
  "kernelspec": {
   "display_name": "Python 3",
   "language": "python",
   "name": "python3"
  },
  "language_info": {
   "codemirror_mode": {
    "name": "ipython",
    "version": 2
   },
   "file_extension": ".py",
   "mimetype": "text/x-python",
   "name": "python",
   "nbconvert_exporter": "python",
   "pygments_lexer": "ipython2",
   "version": "2.7.6"
  }
 },
 "nbformat": 4,
 "nbformat_minor": 5
}
