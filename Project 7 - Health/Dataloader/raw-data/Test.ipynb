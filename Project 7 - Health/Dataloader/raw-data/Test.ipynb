{
 "cells": [
  {
   "cell_type": "code",
   "execution_count": 67,
   "id": "initial_id",
   "metadata": {
    "collapsed": true,
    "ExecuteTime": {
     "end_time": "2024-01-26T07:23:58.977820300Z",
     "start_time": "2024-01-26T07:23:58.958271700Z"
    }
   },
   "outputs": [],
   "source": [
    "import pandas as pd"
   ]
  },
  {
   "cell_type": "code",
   "outputs": [],
   "source": [
    "data_y_1 = pd.read_csv(\"raw-data/Non-Native-1.csv\")\n",
    "data_y_2 = pd.read_csv(\"raw-data/Non-Native-2.csv\")\n",
    "data_y_3 = pd.read_csv(\"raw-data/Non-Native-3.csv\")\n",
    "data_y_4 = pd.read_csv(\"raw-data/Non-Native-4.csv\")"
   ],
   "metadata": {
    "collapsed": false,
    "ExecuteTime": {
     "end_time": "2024-01-26T07:23:59.294598400Z",
     "start_time": "2024-01-26T07:23:59.278045400Z"
    }
   },
   "id": "931e450de8056c1c",
   "execution_count": 68
  },
  {
   "cell_type": "code",
   "outputs": [],
   "source": [
    "non_native = data_y_1.iloc[:, 1:-1].values + data_y_2.iloc[:, 1:].values + data_y_3.iloc[:, 1:].values + data_y_4.iloc[\n",
    "                                                                                                         :, 1:].values"
   ],
   "metadata": {
    "collapsed": false,
    "ExecuteTime": {
     "end_time": "2024-01-26T07:23:59.692353800Z",
     "start_time": "2024-01-26T07:23:59.675427900Z"
    }
   },
   "id": "e216022bd00bdc6a",
   "execution_count": 69
  },
  {
   "cell_type": "code",
   "outputs": [],
   "source": [
    "non_native = pd.DataFrame(non_native, index=[1394, 1395, 1396, 1397, 1398, 1399, 1400, 1401],\n",
    "                          columns=[1, 2, 3, 4, 5, 6, 7, 8, 9, 10, 11, 12])"
   ],
   "metadata": {
    "collapsed": false,
    "ExecuteTime": {
     "end_time": "2024-01-26T07:24:00.076713200Z",
     "start_time": "2024-01-26T07:24:00.070197300Z"
    }
   },
   "id": "fdff13566784f192",
   "execution_count": 70
  },
  {
   "cell_type": "code",
   "outputs": [
    {
     "data": {
      "text/plain": "        1     2     3     4     5     6     7     8     9     10    11    12\n1394  1664  2027  2186  1800  2216  2341  1971  2136  2182  2085  2272  2172\n1395  2116  2688  2912  2387  2864  2563  2408  2608  2281  2386  2286  2210\n1396  1828  2565  2347  2727  2945  2781  2532  2532  2556  2691  2725  2463\n1397  2118  3040  2489  3488  3270  3067  3161  2781  2923  2976  2756  2781\n1398  2163  3049  2904  3755  3224  3291  2946  2908  2838  2814  2807  1193\n1399   569  1344  1925  2362  2414  2684  2354  1396  1403  2138  2297  2407\n1400  1992  2122  3277  2873  2523  3178  3102  3420  3295  2938  2870  2780\n1401  2319  2901  3933  3519  3583  3870  3162  3581  3570  3049  3122  3228",
      "text/html": "<div>\n<style scoped>\n    .dataframe tbody tr th:only-of-type {\n        vertical-align: middle;\n    }\n\n    .dataframe tbody tr th {\n        vertical-align: top;\n    }\n\n    .dataframe thead th {\n        text-align: right;\n    }\n</style>\n<table border=\"1\" class=\"dataframe\">\n  <thead>\n    <tr style=\"text-align: right;\">\n      <th></th>\n      <th>1</th>\n      <th>2</th>\n      <th>3</th>\n      <th>4</th>\n      <th>5</th>\n      <th>6</th>\n      <th>7</th>\n      <th>8</th>\n      <th>9</th>\n      <th>10</th>\n      <th>11</th>\n      <th>12</th>\n    </tr>\n  </thead>\n  <tbody>\n    <tr>\n      <th>1394</th>\n      <td>1664</td>\n      <td>2027</td>\n      <td>2186</td>\n      <td>1800</td>\n      <td>2216</td>\n      <td>2341</td>\n      <td>1971</td>\n      <td>2136</td>\n      <td>2182</td>\n      <td>2085</td>\n      <td>2272</td>\n      <td>2172</td>\n    </tr>\n    <tr>\n      <th>1395</th>\n      <td>2116</td>\n      <td>2688</td>\n      <td>2912</td>\n      <td>2387</td>\n      <td>2864</td>\n      <td>2563</td>\n      <td>2408</td>\n      <td>2608</td>\n      <td>2281</td>\n      <td>2386</td>\n      <td>2286</td>\n      <td>2210</td>\n    </tr>\n    <tr>\n      <th>1396</th>\n      <td>1828</td>\n      <td>2565</td>\n      <td>2347</td>\n      <td>2727</td>\n      <td>2945</td>\n      <td>2781</td>\n      <td>2532</td>\n      <td>2532</td>\n      <td>2556</td>\n      <td>2691</td>\n      <td>2725</td>\n      <td>2463</td>\n    </tr>\n    <tr>\n      <th>1397</th>\n      <td>2118</td>\n      <td>3040</td>\n      <td>2489</td>\n      <td>3488</td>\n      <td>3270</td>\n      <td>3067</td>\n      <td>3161</td>\n      <td>2781</td>\n      <td>2923</td>\n      <td>2976</td>\n      <td>2756</td>\n      <td>2781</td>\n    </tr>\n    <tr>\n      <th>1398</th>\n      <td>2163</td>\n      <td>3049</td>\n      <td>2904</td>\n      <td>3755</td>\n      <td>3224</td>\n      <td>3291</td>\n      <td>2946</td>\n      <td>2908</td>\n      <td>2838</td>\n      <td>2814</td>\n      <td>2807</td>\n      <td>1193</td>\n    </tr>\n    <tr>\n      <th>1399</th>\n      <td>569</td>\n      <td>1344</td>\n      <td>1925</td>\n      <td>2362</td>\n      <td>2414</td>\n      <td>2684</td>\n      <td>2354</td>\n      <td>1396</td>\n      <td>1403</td>\n      <td>2138</td>\n      <td>2297</td>\n      <td>2407</td>\n    </tr>\n    <tr>\n      <th>1400</th>\n      <td>1992</td>\n      <td>2122</td>\n      <td>3277</td>\n      <td>2873</td>\n      <td>2523</td>\n      <td>3178</td>\n      <td>3102</td>\n      <td>3420</td>\n      <td>3295</td>\n      <td>2938</td>\n      <td>2870</td>\n      <td>2780</td>\n    </tr>\n    <tr>\n      <th>1401</th>\n      <td>2319</td>\n      <td>2901</td>\n      <td>3933</td>\n      <td>3519</td>\n      <td>3583</td>\n      <td>3870</td>\n      <td>3162</td>\n      <td>3581</td>\n      <td>3570</td>\n      <td>3049</td>\n      <td>3122</td>\n      <td>3228</td>\n    </tr>\n  </tbody>\n</table>\n</div>"
     },
     "execution_count": 71,
     "metadata": {},
     "output_type": "execute_result"
    }
   ],
   "source": [
    "non_native"
   ],
   "metadata": {
    "collapsed": false,
    "ExecuteTime": {
     "end_time": "2024-01-26T07:24:00.538899300Z",
     "start_time": "2024-01-26T07:24:00.522090800Z"
    }
   },
   "id": "1a729217c712ac3c",
   "execution_count": 71
  },
  {
   "cell_type": "code",
   "outputs": [],
   "source": [
    "index = []\n",
    "for y in range(1394,1402):\n",
    "    for i in range(1,13):\n",
    "        if len(str(i)) == 1:\n",
    "            index.append(str(y)+\"_0\"+str(i))\n",
    "        else:\n",
    "            index.append(str(y)+\"_\"+str(i))\n",
    "            \n",
    "non_natives = []\n",
    "b = 0\n",
    "for i in non_native.values:\n",
    "    for j in i:\n",
    "        non_natives.append(j)\n",
    "        \n",
    "\n",
    "non_native = pd.DataFrame(non_natives, index=index, columns=[\"non_native\"])\n",
    "non_native.to_csv(\"data/data.csv\")"
   ],
   "metadata": {
    "collapsed": false,
    "ExecuteTime": {
     "end_time": "2024-01-26T07:24:02.137364500Z",
     "start_time": "2024-01-26T07:24:02.110743500Z"
    }
   },
   "id": "826b4b7df6dfe52b",
   "execution_count": 72
  },
  {
   "cell_type": "markdown",
   "source": [
    "# part 2"
   ],
   "metadata": {
    "collapsed": false
   },
   "id": "9aaba3cb66384be0"
  },
  {
   "cell_type": "code",
   "outputs": [],
   "source": [
    "data_some = pd.read_csv(\"raw-data/some-data.csv\")\n",
    "data = non_native\n"
   ],
   "metadata": {
    "collapsed": false,
    "ExecuteTime": {
     "end_time": "2024-01-26T07:24:33.976651900Z",
     "start_time": "2024-01-26T07:24:33.959205300Z"
    }
   },
   "id": "95d1aed1630c8a76",
   "execution_count": 75
  },
  {
   "cell_type": "code",
   "outputs": [
    {
     "data": {
      "text/plain": "   year    beds  marakez behdashti   labs  active beds  working employee  \\\n0  1394  2107.0               83.0  290.0       1747.0            4665.0   \n1  1395  2120.0               83.0  317.0       1756.0            4571.0   \n2  1396  2307.0               82.0  338.0       1938.0            4662.0   \n3  1397  2308.0               85.0  354.0       1896.0            4651.0   \n4  1398  2308.0               87.0  372.0       1941.0            4677.0   \n5  1399  2313.0               89.0  401.0       1901.0            4791.0   \n6  1400  2313.0               89.0  424.0       1930.0            5614.0   \n7  1401     NaN                NaN    NaN          NaN               NaN   \n\n   number of doctors  Unnamed: 7  doctors pir   stuff  \n0              545.0      2421.0       2421.0  1699.0  \n1              606.0      2376.0       2376.0  1589.0  \n2              607.0      2544.0       2544.0  1511.0  \n3              658.0      2531.0       2531.0  1462.0  \n4              693.0      2592.0       2592.0  1392.0  \n5              740.0      2714.0       2714.0  1337.0  \n6              790.0      3262.0       3262.0  1562.0  \n7                NaN         NaN          NaN     NaN  ",
      "text/html": "<div>\n<style scoped>\n    .dataframe tbody tr th:only-of-type {\n        vertical-align: middle;\n    }\n\n    .dataframe tbody tr th {\n        vertical-align: top;\n    }\n\n    .dataframe thead th {\n        text-align: right;\n    }\n</style>\n<table border=\"1\" class=\"dataframe\">\n  <thead>\n    <tr style=\"text-align: right;\">\n      <th></th>\n      <th>year</th>\n      <th>beds</th>\n      <th>marakez behdashti</th>\n      <th>labs</th>\n      <th>active beds</th>\n      <th>working employee</th>\n      <th>number of doctors</th>\n      <th>Unnamed: 7</th>\n      <th>doctors pir</th>\n      <th>stuff</th>\n    </tr>\n  </thead>\n  <tbody>\n    <tr>\n      <th>0</th>\n      <td>1394</td>\n      <td>2107.0</td>\n      <td>83.0</td>\n      <td>290.0</td>\n      <td>1747.0</td>\n      <td>4665.0</td>\n      <td>545.0</td>\n      <td>2421.0</td>\n      <td>2421.0</td>\n      <td>1699.0</td>\n    </tr>\n    <tr>\n      <th>1</th>\n      <td>1395</td>\n      <td>2120.0</td>\n      <td>83.0</td>\n      <td>317.0</td>\n      <td>1756.0</td>\n      <td>4571.0</td>\n      <td>606.0</td>\n      <td>2376.0</td>\n      <td>2376.0</td>\n      <td>1589.0</td>\n    </tr>\n    <tr>\n      <th>2</th>\n      <td>1396</td>\n      <td>2307.0</td>\n      <td>82.0</td>\n      <td>338.0</td>\n      <td>1938.0</td>\n      <td>4662.0</td>\n      <td>607.0</td>\n      <td>2544.0</td>\n      <td>2544.0</td>\n      <td>1511.0</td>\n    </tr>\n    <tr>\n      <th>3</th>\n      <td>1397</td>\n      <td>2308.0</td>\n      <td>85.0</td>\n      <td>354.0</td>\n      <td>1896.0</td>\n      <td>4651.0</td>\n      <td>658.0</td>\n      <td>2531.0</td>\n      <td>2531.0</td>\n      <td>1462.0</td>\n    </tr>\n    <tr>\n      <th>4</th>\n      <td>1398</td>\n      <td>2308.0</td>\n      <td>87.0</td>\n      <td>372.0</td>\n      <td>1941.0</td>\n      <td>4677.0</td>\n      <td>693.0</td>\n      <td>2592.0</td>\n      <td>2592.0</td>\n      <td>1392.0</td>\n    </tr>\n    <tr>\n      <th>5</th>\n      <td>1399</td>\n      <td>2313.0</td>\n      <td>89.0</td>\n      <td>401.0</td>\n      <td>1901.0</td>\n      <td>4791.0</td>\n      <td>740.0</td>\n      <td>2714.0</td>\n      <td>2714.0</td>\n      <td>1337.0</td>\n    </tr>\n    <tr>\n      <th>6</th>\n      <td>1400</td>\n      <td>2313.0</td>\n      <td>89.0</td>\n      <td>424.0</td>\n      <td>1930.0</td>\n      <td>5614.0</td>\n      <td>790.0</td>\n      <td>3262.0</td>\n      <td>3262.0</td>\n      <td>1562.0</td>\n    </tr>\n    <tr>\n      <th>7</th>\n      <td>1401</td>\n      <td>NaN</td>\n      <td>NaN</td>\n      <td>NaN</td>\n      <td>NaN</td>\n      <td>NaN</td>\n      <td>NaN</td>\n      <td>NaN</td>\n      <td>NaN</td>\n      <td>NaN</td>\n    </tr>\n  </tbody>\n</table>\n</div>"
     },
     "execution_count": 76,
     "metadata": {},
     "output_type": "execute_result"
    }
   ],
   "source": [
    "data_some"
   ],
   "metadata": {
    "collapsed": false,
    "ExecuteTime": {
     "end_time": "2024-01-26T07:24:34.878722100Z",
     "start_time": "2024-01-26T07:24:34.847819500Z"
    }
   },
   "id": "5aa185531e27b794",
   "execution_count": 76
  },
  {
   "cell_type": "code",
   "outputs": [],
   "source": [
    "beds = []\n",
    "marakez_behdasht = []\n",
    "labs = []\n",
    "active_beds =[]\n",
    "n_employee = []\n",
    "n_doctors = []\n",
    "n_doctors_pir = []\n",
    "stuff = []\n",
    "for i in data_some.values:\n",
    "    for _ in range(12):\n",
    "        beds.append(i[1])\n",
    "        marakez_behdasht.append(i[2])\n",
    "        labs.append(i[3])\n",
    "        active_beds.append(i[4])\n",
    "        n_employee.append(i[5])\n",
    "        n_doctors.append(i[6])\n",
    "        n_doctors_pir.append(i[8])\n",
    "        stuff.append(i[9])\n",
    "        "
   ],
   "metadata": {
    "collapsed": false,
    "ExecuteTime": {
     "end_time": "2024-01-26T07:24:36.905622300Z",
     "start_time": "2024-01-26T07:24:36.898272400Z"
    }
   },
   "id": "f3f8b82f9f2085e8",
   "execution_count": 77
  },
  {
   "cell_type": "code",
   "outputs": [],
   "source": [
    "data_hotel = pd.read_csv(\"raw-data/hotel.csv\")\n"
   ],
   "metadata": {
    "collapsed": false,
    "ExecuteTime": {
     "end_time": "2024-01-26T07:25:33.872223900Z",
     "start_time": "2024-01-26T07:25:33.847133600Z"
    }
   },
   "id": "bcc36c48c325afa2",
   "execution_count": 78
  },
  {
   "cell_type": "code",
   "outputs": [
    {
     "data": {
      "text/plain": "96"
     },
     "execution_count": 79,
     "metadata": {},
     "output_type": "execute_result"
    }
   ],
   "source": [
    "hotel = []\n",
    "b = 0\n",
    "for i in data_hotel.iloc[:,1:].values:\n",
    "    for j in i:\n",
    "        hotel.append(j)\n",
    "len(hotel)"
   ],
   "metadata": {
    "collapsed": false,
    "ExecuteTime": {
     "end_time": "2024-01-26T07:25:35.361441800Z",
     "start_time": "2024-01-26T07:25:35.349544300Z"
    }
   },
   "id": "b23d78ff436c6162",
   "execution_count": 79
  },
  {
   "cell_type": "code",
   "outputs": [],
   "source": [
    "data_travel_inside = pd.read_csv(\"raw-data/travel-person-inside.csv\")\n",
    "data_travel_outside = pd.read_csv(\"raw-data/travel-person-outside.csv\")"
   ],
   "metadata": {
    "collapsed": false,
    "ExecuteTime": {
     "end_time": "2024-01-26T07:25:39.119396600Z",
     "start_time": "2024-01-26T07:25:39.109977300Z"
    }
   },
   "id": "12cb48169b9561d2",
   "execution_count": 80
  },
  {
   "cell_type": "code",
   "outputs": [
    {
     "data": {
      "text/plain": "   سال   تعداد سفر   اتوبوس  مینی بوس   سواری   تعداد مسافر   اتوبوس.1  \\\n0  1394       12060    9496       1949     615        168981    155352   \n1  1395       22714   12896       6783    3035        236641    214739   \n2  1396       26611   12793      10508    3310        256651    228844   \n3  1397       23860   12321       9053    2486        219801    196746   \n4  1398       23660   11098       9543    3019        203867    179258   \n5  1399       21219    9307       9020    2892        146638    130409   \n6  1400       21719    9911       9468    2340        165911    153304   \n7  1401       22829   11294       9487    2048        225067    208977   \n\n   مینی بوس .1  سواری .1  \n0        12874       755  \n1        18385      3517  \n2        23942      3865  \n3        20403      2652  \n4        21314      3295  \n5        13206      3023  \n6        10266      2341  \n7        13863      2227  ",
      "text/html": "<div>\n<style scoped>\n    .dataframe tbody tr th:only-of-type {\n        vertical-align: middle;\n    }\n\n    .dataframe tbody tr th {\n        vertical-align: top;\n    }\n\n    .dataframe thead th {\n        text-align: right;\n    }\n</style>\n<table border=\"1\" class=\"dataframe\">\n  <thead>\n    <tr style=\"text-align: right;\">\n      <th></th>\n      <th>سال</th>\n      <th>تعداد سفر</th>\n      <th>اتوبوس</th>\n      <th>مینی بوس</th>\n      <th>سواری</th>\n      <th>تعداد مسافر</th>\n      <th>اتوبوس.1</th>\n      <th>مینی بوس .1</th>\n      <th>سواری .1</th>\n    </tr>\n  </thead>\n  <tbody>\n    <tr>\n      <th>0</th>\n      <td>1394</td>\n      <td>12060</td>\n      <td>9496</td>\n      <td>1949</td>\n      <td>615</td>\n      <td>168981</td>\n      <td>155352</td>\n      <td>12874</td>\n      <td>755</td>\n    </tr>\n    <tr>\n      <th>1</th>\n      <td>1395</td>\n      <td>22714</td>\n      <td>12896</td>\n      <td>6783</td>\n      <td>3035</td>\n      <td>236641</td>\n      <td>214739</td>\n      <td>18385</td>\n      <td>3517</td>\n    </tr>\n    <tr>\n      <th>2</th>\n      <td>1396</td>\n      <td>26611</td>\n      <td>12793</td>\n      <td>10508</td>\n      <td>3310</td>\n      <td>256651</td>\n      <td>228844</td>\n      <td>23942</td>\n      <td>3865</td>\n    </tr>\n    <tr>\n      <th>3</th>\n      <td>1397</td>\n      <td>23860</td>\n      <td>12321</td>\n      <td>9053</td>\n      <td>2486</td>\n      <td>219801</td>\n      <td>196746</td>\n      <td>20403</td>\n      <td>2652</td>\n    </tr>\n    <tr>\n      <th>4</th>\n      <td>1398</td>\n      <td>23660</td>\n      <td>11098</td>\n      <td>9543</td>\n      <td>3019</td>\n      <td>203867</td>\n      <td>179258</td>\n      <td>21314</td>\n      <td>3295</td>\n    </tr>\n    <tr>\n      <th>5</th>\n      <td>1399</td>\n      <td>21219</td>\n      <td>9307</td>\n      <td>9020</td>\n      <td>2892</td>\n      <td>146638</td>\n      <td>130409</td>\n      <td>13206</td>\n      <td>3023</td>\n    </tr>\n    <tr>\n      <th>6</th>\n      <td>1400</td>\n      <td>21719</td>\n      <td>9911</td>\n      <td>9468</td>\n      <td>2340</td>\n      <td>165911</td>\n      <td>153304</td>\n      <td>10266</td>\n      <td>2341</td>\n    </tr>\n    <tr>\n      <th>7</th>\n      <td>1401</td>\n      <td>22829</td>\n      <td>11294</td>\n      <td>9487</td>\n      <td>2048</td>\n      <td>225067</td>\n      <td>208977</td>\n      <td>13863</td>\n      <td>2227</td>\n    </tr>\n  </tbody>\n</table>\n</div>"
     },
     "execution_count": 81,
     "metadata": {},
     "output_type": "execute_result"
    }
   ],
   "source": [
    "data_travel_inside"
   ],
   "metadata": {
    "collapsed": false,
    "ExecuteTime": {
     "end_time": "2024-01-26T07:25:39.820042600Z",
     "start_time": "2024-01-26T07:25:39.798396400Z"
    }
   },
   "id": "54aae84daf1bb588",
   "execution_count": 81
  },
  {
   "cell_type": "code",
   "outputs": [
    {
     "name": "stdout",
     "output_type": "stream",
     "text": [
      "[  1394  12060   9496   1949    615 168981 155352  12874    755]\n",
      "9496\n",
      "1949\n",
      "615\n",
      "155352 [12874, 755]\n",
      "[  1395  22714  12896   6783   3035 236641 214739  18385   3517]\n",
      "12896\n",
      "6783\n",
      "3035\n",
      "214739 [18385, 3517]\n",
      "[  1396  26611  12793  10508   3310 256651 228844  23942   3865]\n",
      "12793\n",
      "10508\n",
      "3310\n",
      "228844 [23942, 3865]\n",
      "[  1397  23860  12321   9053   2486 219801 196746  20403   2652]\n",
      "12321\n",
      "9053\n",
      "2486\n",
      "196746 [20403, 2652]\n",
      "[  1398  23660  11098   9543   3019 203867 179258  21314   3295]\n",
      "11098\n",
      "9543\n",
      "3019\n",
      "179258 [21314, 3295]\n",
      "[  1399  21219   9307   9020   2892 146638 130409  13206   3023]\n",
      "9307\n",
      "9020\n",
      "2892\n",
      "130409 [13206, 3023]\n",
      "[  1400  21719   9911   9468   2340 165911 153304  10266   2341]\n",
      "9911\n",
      "9468\n",
      "2340\n",
      "153304 [10266, 2341]\n",
      "[  1401  22829  11294   9487   2048 225067 208977  13863   2227]\n",
      "11294\n",
      "9487\n",
      "2048\n",
      "208977 [13863, 2227]\n"
     ]
    },
    {
     "data": {
      "text/plain": "(96, 96)"
     },
     "execution_count": 82,
     "metadata": {},
     "output_type": "execute_result"
    }
   ],
   "source": [
    "bus_travel_inside = []\n",
    "mini_bus_travel_inside = []\n",
    "car_travel_inside = []\n",
    "\n",
    "bus_travel_outside = []\n",
    "mini_bus_travel_outside = []\n",
    "car_travel_outside = []\n",
    "\n",
    "bus_person_travel_inside = []\n",
    "mini_bus_person_travel_inside = []\n",
    "car_person_travel_inside = []\n",
    "\n",
    "bus_person_travel_outside = []\n",
    "mini_bus_person_travel_outside = []\n",
    "car_person_travel_outside = []\n",
    "\n",
    "\n",
    "for i in data_travel_inside.values:\n",
    "    print(i)\n",
    "    print(i[2])\n",
    "    print(i[3])\n",
    "    print(i[4])\n",
    "    print(i[6],[i[7],i[8]])\n",
    "    for _ in range(12):\n",
    "        bus_travel_inside.append(i[2])\n",
    "        mini_bus_travel_inside.append(i[3])\n",
    "        car_travel_inside.append(i[4])\n",
    "        bus_person_travel_inside.append(i[6])\n",
    "        mini_bus_person_travel_inside.append(i[7])\n",
    "        car_person_travel_inside.append(i[8])\n",
    "\n",
    "for i in data_travel_outside.values:\n",
    "    for _ in range(12):\n",
    "        bus_travel_outside.append(i[2])\n",
    "        mini_bus_travel_outside.append(i[3])\n",
    "        car_travel_outside.append(i[4])\n",
    "        bus_person_travel_outside.append(i[6])\n",
    "        mini_bus_person_travel_outside.append(i[7])\n",
    "        car_person_travel_outside.append(i[8])\n",
    "        \n",
    "len(bus_travel_outside), len(bus_travel_inside)"
   ],
   "metadata": {
    "collapsed": false,
    "ExecuteTime": {
     "end_time": "2024-01-26T07:25:47.628876500Z",
     "start_time": "2024-01-26T07:25:47.603161500Z"
    }
   },
   "id": "21ae19bd2f3661a9",
   "execution_count": 82
  },
  {
   "cell_type": "code",
   "outputs": [
    {
     "name": "stdout",
     "output_type": "stream",
     "text": [
      "96\n",
      "22\n",
      "96\n"
     ]
    },
    {
     "data": {
      "text/plain": "              y  number_of_beds  markaze_behdasht  number_of_labs  \\\n1394_01  1664.0          2107.0              83.0           290.0   \n1394_02  2027.0          2107.0              83.0           290.0   \n1394_03  2186.0          2107.0              83.0           290.0   \n1394_04  1800.0          2107.0              83.0           290.0   \n1394_05  2216.0          2107.0              83.0           290.0   \n...         ...             ...               ...             ...   \n1401_08  3581.0             NaN               NaN             NaN   \n1401_09  3570.0             NaN               NaN             NaN   \n1401_10  3049.0             NaN               NaN             NaN   \n1401_11  3122.0             NaN               NaN             NaN   \n1401_12  3228.0             NaN               NaN             NaN   \n\n         number_of_active_beds  number_of_employees  number_of_doctors  \\\n1394_01                 1747.0               4665.0              545.0   \n1394_02                 1747.0               4665.0              545.0   \n1394_03                 1747.0               4665.0              545.0   \n1394_04                 1747.0               4665.0              545.0   \n1394_05                 1747.0               4665.0              545.0   \n...                        ...                  ...                ...   \n1401_08                    NaN                  NaN                NaN   \n1401_09                    NaN                  NaN                NaN   \n1401_10                    NaN                  NaN                NaN   \n1401_11                    NaN                  NaN                NaN   \n1401_12                    NaN                  NaN                NaN   \n\n         number_of_pir_doctors  number_of_stuff  number_of_persons_in_hotels  \\\n1394_01                 2421.0           1699.0                          NaN   \n1394_02                 2421.0           1699.0                          NaN   \n1394_03                 2421.0           1699.0                          NaN   \n1394_04                 2421.0           1699.0                          NaN   \n1394_05                 2421.0           1699.0                          NaN   \n...                        ...              ...                          ...   \n1401_08                    NaN              NaN                       9200.0   \n1401_09                    NaN              NaN                       9225.0   \n1401_10                    NaN              NaN                       9225.0   \n1401_11                    NaN              NaN                       9238.0   \n1401_12                    NaN              NaN                       9240.0   \n\n         ...  number_of_travels_minibus_inside  \\\n1394_01  ...                            1949.0   \n1394_02  ...                            1949.0   \n1394_03  ...                            1949.0   \n1394_04  ...                            1949.0   \n1394_05  ...                            1949.0   \n...      ...                               ...   \n1401_08  ...                            9487.0   \n1401_09  ...                            9487.0   \n1401_10  ...                            9487.0   \n1401_11  ...                            9487.0   \n1401_12  ...                            9487.0   \n\n         number_of_travels_minibus_outside  number_of_travels_car_inside  \\\n1394_01                              733.0                         615.0   \n1394_02                              733.0                         615.0   \n1394_03                              733.0                         615.0   \n1394_04                              733.0                         615.0   \n1394_05                              733.0                         615.0   \n...                                    ...                           ...   \n1401_08                             2312.0                        2048.0   \n1401_09                             2312.0                        2048.0   \n1401_10                             2312.0                        2048.0   \n1401_11                             2312.0                        2048.0   \n1401_12                             2312.0                        2048.0   \n\n         number_of_travels_car_outside  number_of_person_bus_inside  \\\n1394_01                         1565.0                     155352.0   \n1394_02                         1565.0                     155352.0   \n1394_03                         1565.0                     155352.0   \n1394_04                         1565.0                     155352.0   \n1394_05                         1565.0                     155352.0   \n...                                ...                          ...   \n1401_08                         4270.0                     208977.0   \n1401_09                         4270.0                     208977.0   \n1401_10                         4270.0                     208977.0   \n1401_11                         4270.0                     208977.0   \n1401_12                         4270.0                     208977.0   \n\n         number_of_person_bus_outside  number_of_person_minibus_inside  \\\n1394_01                      618303.0                          12874.0   \n1394_02                      618303.0                          12874.0   \n1394_03                      618303.0                          12874.0   \n1394_04                      618303.0                          12874.0   \n1394_05                      618303.0                          12874.0   \n...                               ...                              ...   \n1401_08                      822597.0                          13863.0   \n1401_09                      822597.0                          13863.0   \n1401_10                      822597.0                          13863.0   \n1401_11                      822597.0                          13863.0   \n1401_12                      822597.0                          13863.0   \n\n         number_of_person_minibus_outside  number_of_person_car_inside  \\\n1394_01                            9411.0                        755.0   \n1394_02                            9411.0                        755.0   \n1394_03                            9411.0                        755.0   \n1394_04                            9411.0                        755.0   \n1394_05                            9411.0                        755.0   \n...                                   ...                          ...   \n1401_08                            6923.0                       2227.0   \n1401_09                            6923.0                       2227.0   \n1401_10                            6923.0                       2227.0   \n1401_11                            6923.0                       2227.0   \n1401_12                            6923.0                       2227.0   \n\n         number_of_person_car_outside  \n1394_01                        2500.0  \n1394_02                        2500.0  \n1394_03                        2500.0  \n1394_04                        2500.0  \n1394_05                        2500.0  \n...                               ...  \n1401_08                        4639.0  \n1401_09                        4639.0  \n1401_10                        4639.0  \n1401_11                        4639.0  \n1401_12                        4639.0  \n\n[96 rows x 22 columns]",
      "text/html": "<div>\n<style scoped>\n    .dataframe tbody tr th:only-of-type {\n        vertical-align: middle;\n    }\n\n    .dataframe tbody tr th {\n        vertical-align: top;\n    }\n\n    .dataframe thead th {\n        text-align: right;\n    }\n</style>\n<table border=\"1\" class=\"dataframe\">\n  <thead>\n    <tr style=\"text-align: right;\">\n      <th></th>\n      <th>y</th>\n      <th>number_of_beds</th>\n      <th>markaze_behdasht</th>\n      <th>number_of_labs</th>\n      <th>number_of_active_beds</th>\n      <th>number_of_employees</th>\n      <th>number_of_doctors</th>\n      <th>number_of_pir_doctors</th>\n      <th>number_of_stuff</th>\n      <th>number_of_persons_in_hotels</th>\n      <th>...</th>\n      <th>number_of_travels_minibus_inside</th>\n      <th>number_of_travels_minibus_outside</th>\n      <th>number_of_travels_car_inside</th>\n      <th>number_of_travels_car_outside</th>\n      <th>number_of_person_bus_inside</th>\n      <th>number_of_person_bus_outside</th>\n      <th>number_of_person_minibus_inside</th>\n      <th>number_of_person_minibus_outside</th>\n      <th>number_of_person_car_inside</th>\n      <th>number_of_person_car_outside</th>\n    </tr>\n  </thead>\n  <tbody>\n    <tr>\n      <th>1394_01</th>\n      <td>1664.0</td>\n      <td>2107.0</td>\n      <td>83.0</td>\n      <td>290.0</td>\n      <td>1747.0</td>\n      <td>4665.0</td>\n      <td>545.0</td>\n      <td>2421.0</td>\n      <td>1699.0</td>\n      <td>NaN</td>\n      <td>...</td>\n      <td>1949.0</td>\n      <td>733.0</td>\n      <td>615.0</td>\n      <td>1565.0</td>\n      <td>155352.0</td>\n      <td>618303.0</td>\n      <td>12874.0</td>\n      <td>9411.0</td>\n      <td>755.0</td>\n      <td>2500.0</td>\n    </tr>\n    <tr>\n      <th>1394_02</th>\n      <td>2027.0</td>\n      <td>2107.0</td>\n      <td>83.0</td>\n      <td>290.0</td>\n      <td>1747.0</td>\n      <td>4665.0</td>\n      <td>545.0</td>\n      <td>2421.0</td>\n      <td>1699.0</td>\n      <td>NaN</td>\n      <td>...</td>\n      <td>1949.0</td>\n      <td>733.0</td>\n      <td>615.0</td>\n      <td>1565.0</td>\n      <td>155352.0</td>\n      <td>618303.0</td>\n      <td>12874.0</td>\n      <td>9411.0</td>\n      <td>755.0</td>\n      <td>2500.0</td>\n    </tr>\n    <tr>\n      <th>1394_03</th>\n      <td>2186.0</td>\n      <td>2107.0</td>\n      <td>83.0</td>\n      <td>290.0</td>\n      <td>1747.0</td>\n      <td>4665.0</td>\n      <td>545.0</td>\n      <td>2421.0</td>\n      <td>1699.0</td>\n      <td>NaN</td>\n      <td>...</td>\n      <td>1949.0</td>\n      <td>733.0</td>\n      <td>615.0</td>\n      <td>1565.0</td>\n      <td>155352.0</td>\n      <td>618303.0</td>\n      <td>12874.0</td>\n      <td>9411.0</td>\n      <td>755.0</td>\n      <td>2500.0</td>\n    </tr>\n    <tr>\n      <th>1394_04</th>\n      <td>1800.0</td>\n      <td>2107.0</td>\n      <td>83.0</td>\n      <td>290.0</td>\n      <td>1747.0</td>\n      <td>4665.0</td>\n      <td>545.0</td>\n      <td>2421.0</td>\n      <td>1699.0</td>\n      <td>NaN</td>\n      <td>...</td>\n      <td>1949.0</td>\n      <td>733.0</td>\n      <td>615.0</td>\n      <td>1565.0</td>\n      <td>155352.0</td>\n      <td>618303.0</td>\n      <td>12874.0</td>\n      <td>9411.0</td>\n      <td>755.0</td>\n      <td>2500.0</td>\n    </tr>\n    <tr>\n      <th>1394_05</th>\n      <td>2216.0</td>\n      <td>2107.0</td>\n      <td>83.0</td>\n      <td>290.0</td>\n      <td>1747.0</td>\n      <td>4665.0</td>\n      <td>545.0</td>\n      <td>2421.0</td>\n      <td>1699.0</td>\n      <td>NaN</td>\n      <td>...</td>\n      <td>1949.0</td>\n      <td>733.0</td>\n      <td>615.0</td>\n      <td>1565.0</td>\n      <td>155352.0</td>\n      <td>618303.0</td>\n      <td>12874.0</td>\n      <td>9411.0</td>\n      <td>755.0</td>\n      <td>2500.0</td>\n    </tr>\n    <tr>\n      <th>...</th>\n      <td>...</td>\n      <td>...</td>\n      <td>...</td>\n      <td>...</td>\n      <td>...</td>\n      <td>...</td>\n      <td>...</td>\n      <td>...</td>\n      <td>...</td>\n      <td>...</td>\n      <td>...</td>\n      <td>...</td>\n      <td>...</td>\n      <td>...</td>\n      <td>...</td>\n      <td>...</td>\n      <td>...</td>\n      <td>...</td>\n      <td>...</td>\n      <td>...</td>\n      <td>...</td>\n    </tr>\n    <tr>\n      <th>1401_08</th>\n      <td>3581.0</td>\n      <td>NaN</td>\n      <td>NaN</td>\n      <td>NaN</td>\n      <td>NaN</td>\n      <td>NaN</td>\n      <td>NaN</td>\n      <td>NaN</td>\n      <td>NaN</td>\n      <td>9200.0</td>\n      <td>...</td>\n      <td>9487.0</td>\n      <td>2312.0</td>\n      <td>2048.0</td>\n      <td>4270.0</td>\n      <td>208977.0</td>\n      <td>822597.0</td>\n      <td>13863.0</td>\n      <td>6923.0</td>\n      <td>2227.0</td>\n      <td>4639.0</td>\n    </tr>\n    <tr>\n      <th>1401_09</th>\n      <td>3570.0</td>\n      <td>NaN</td>\n      <td>NaN</td>\n      <td>NaN</td>\n      <td>NaN</td>\n      <td>NaN</td>\n      <td>NaN</td>\n      <td>NaN</td>\n      <td>NaN</td>\n      <td>9225.0</td>\n      <td>...</td>\n      <td>9487.0</td>\n      <td>2312.0</td>\n      <td>2048.0</td>\n      <td>4270.0</td>\n      <td>208977.0</td>\n      <td>822597.0</td>\n      <td>13863.0</td>\n      <td>6923.0</td>\n      <td>2227.0</td>\n      <td>4639.0</td>\n    </tr>\n    <tr>\n      <th>1401_10</th>\n      <td>3049.0</td>\n      <td>NaN</td>\n      <td>NaN</td>\n      <td>NaN</td>\n      <td>NaN</td>\n      <td>NaN</td>\n      <td>NaN</td>\n      <td>NaN</td>\n      <td>NaN</td>\n      <td>9225.0</td>\n      <td>...</td>\n      <td>9487.0</td>\n      <td>2312.0</td>\n      <td>2048.0</td>\n      <td>4270.0</td>\n      <td>208977.0</td>\n      <td>822597.0</td>\n      <td>13863.0</td>\n      <td>6923.0</td>\n      <td>2227.0</td>\n      <td>4639.0</td>\n    </tr>\n    <tr>\n      <th>1401_11</th>\n      <td>3122.0</td>\n      <td>NaN</td>\n      <td>NaN</td>\n      <td>NaN</td>\n      <td>NaN</td>\n      <td>NaN</td>\n      <td>NaN</td>\n      <td>NaN</td>\n      <td>NaN</td>\n      <td>9238.0</td>\n      <td>...</td>\n      <td>9487.0</td>\n      <td>2312.0</td>\n      <td>2048.0</td>\n      <td>4270.0</td>\n      <td>208977.0</td>\n      <td>822597.0</td>\n      <td>13863.0</td>\n      <td>6923.0</td>\n      <td>2227.0</td>\n      <td>4639.0</td>\n    </tr>\n    <tr>\n      <th>1401_12</th>\n      <td>3228.0</td>\n      <td>NaN</td>\n      <td>NaN</td>\n      <td>NaN</td>\n      <td>NaN</td>\n      <td>NaN</td>\n      <td>NaN</td>\n      <td>NaN</td>\n      <td>NaN</td>\n      <td>9240.0</td>\n      <td>...</td>\n      <td>9487.0</td>\n      <td>2312.0</td>\n      <td>2048.0</td>\n      <td>4270.0</td>\n      <td>208977.0</td>\n      <td>822597.0</td>\n      <td>13863.0</td>\n      <td>6923.0</td>\n      <td>2227.0</td>\n      <td>4639.0</td>\n    </tr>\n  </tbody>\n</table>\n<p>96 rows × 22 columns</p>\n</div>"
     },
     "execution_count": 86,
     "metadata": {},
     "output_type": "execute_result"
    }
   ],
   "source": [
    "import numpy as np\n",
    "values = np.array([non_natives, beds, marakez_behdasht, labs, active_beds, n_employee, n_doctors, n_doctors_pir, stuff, hotel, bus_travel_inside, bus_travel_outside, mini_bus_travel_inside, mini_bus_travel_outside, car_travel_inside, car_travel_outside, bus_person_travel_inside, bus_person_travel_outside, mini_bus_person_travel_inside, mini_bus_person_travel_outside, car_person_travel_inside, car_person_travel_outside]).transpose()\n",
    "\n",
    "columns = [\"y\", \"number_of_beds\", \"markaze_behdasht\", \"number_of_labs\", \"number_of_active_beds\", \"number_of_employees\", \"number_of_doctors\", \"number_of_pir_doctors\", \"number_of_stuff\", \"number_of_persons_in_hotels\", \"number_of_travels_bus_inside\", \"number_of_travels_bus_outside\", \"number_of_travels_minibus_inside\", \"number_of_travels_minibus_outside\", \"number_of_travels_car_inside\", \"number_of_travels_car_outside\", \"number_of_person_bus_inside\", \"number_of_person_bus_outside\",\"number_of_person_minibus_inside\", \"number_of_person_minibus_outside\", \"number_of_person_car_inside\", \"number_of_person_car_outside\"]\n",
    "\n",
    "index = index\n",
    "\n",
    "print(len(values))\n",
    "print(len(columns))\n",
    "print(len(index))\n",
    "\n",
    "data = pd.DataFrame(values, index=index, columns=columns)\n",
    "data"
   ],
   "metadata": {
    "collapsed": false,
    "ExecuteTime": {
     "end_time": "2024-01-26T07:34:24.742424600Z",
     "start_time": "2024-01-26T07:34:24.727951400Z"
    }
   },
   "id": "2fa0207436485c69",
   "execution_count": 86
  },
  {
   "cell_type": "code",
   "outputs": [],
   "source": [
    "data.to_csv(\"data/data_complete.csv\")"
   ],
   "metadata": {
    "collapsed": false,
    "ExecuteTime": {
     "end_time": "2024-01-26T07:35:02.195670200Z",
     "start_time": "2024-01-26T07:35:02.127599900Z"
    }
   },
   "id": "d447527e6baa9a07",
   "execution_count": 87
  },
  {
   "cell_type": "code",
   "outputs": [],
   "source": [],
   "metadata": {
    "collapsed": false
   },
   "id": "5970d03eaad17755"
  }
 ],
 "metadata": {
  "kernelspec": {
   "display_name": "Python 3",
   "language": "python",
   "name": "python3"
  },
  "language_info": {
   "codemirror_mode": {
    "name": "ipython",
    "version": 2
   },
   "file_extension": ".py",
   "mimetype": "text/x-python",
   "name": "python",
   "nbconvert_exporter": "python",
   "pygments_lexer": "ipython2",
   "version": "2.7.6"
  }
 },
 "nbformat": 4,
 "nbformat_minor": 5
}
