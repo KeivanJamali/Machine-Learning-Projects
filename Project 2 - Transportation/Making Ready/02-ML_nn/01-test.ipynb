{
 "cells": [
  {
   "cell_type": "code",
   "execution_count": 46,
   "id": "initial_id",
   "metadata": {
    "collapsed": true,
    "ExecuteTime": {
     "end_time": "2023-08-08T11:40:27.572641400Z",
     "start_time": "2023-08-08T11:40:27.462783Z"
    }
   },
   "outputs": [],
   "source": [
    "import numpy as np\n",
    "import torch\n",
    "import torch.nn as nn\n",
    "import torch.optim as optim"
   ]
  },
  {
   "cell_type": "code",
   "execution_count": 47,
   "outputs": [],
   "source": [
    "# load the dataset, split into input (X) and output (y) variables\n",
    "dataset = np.loadtxt('pima-indians-diabetes.csv', delimiter=',')\n",
    "X = dataset[:, 0:8]\n",
    "y = dataset[:, 8]"
   ],
   "metadata": {
    "collapsed": false,
    "ExecuteTime": {
     "end_time": "2023-08-08T11:40:27.732098600Z",
     "start_time": "2023-08-08T11:40:27.700935700Z"
    }
   },
   "id": "f90deafae0da180b"
  },
  {
   "cell_type": "code",
   "execution_count": 48,
   "outputs": [
    {
     "data": {
      "text/plain": "array([[  6.   , 148.   ,  72.   , ...,  33.6  ,   0.627,  50.   ],\n       [  1.   ,  85.   ,  66.   , ...,  26.6  ,   0.351,  31.   ],\n       [  8.   , 183.   ,  64.   , ...,  23.3  ,   0.672,  32.   ],\n       ...,\n       [  5.   , 121.   ,  72.   , ...,  26.2  ,   0.245,  30.   ],\n       [  1.   , 126.   ,  60.   , ...,  30.1  ,   0.349,  47.   ],\n       [  1.   ,  93.   ,  70.   , ...,  30.4  ,   0.315,  23.   ]])"
     },
     "execution_count": 48,
     "metadata": {},
     "output_type": "execute_result"
    }
   ],
   "source": [
    "X"
   ],
   "metadata": {
    "collapsed": false,
    "ExecuteTime": {
     "end_time": "2023-08-08T11:40:27.898383700Z",
     "start_time": "2023-08-08T11:40:27.867002800Z"
    }
   },
   "id": "3d2fd63bc994fde4"
  },
  {
   "cell_type": "code",
   "execution_count": 49,
   "outputs": [],
   "source": [
    "X = torch.tensor(X, dtype=torch.float32)\n",
    "\n",
    "# should be column\n",
    "y = torch.tensor(y, dtype=torch.float32).reshape(-1, 1)\n"
   ],
   "metadata": {
    "collapsed": false,
    "ExecuteTime": {
     "end_time": "2023-08-08T11:40:28.068979Z",
     "start_time": "2023-08-08T11:40:28.025591300Z"
    }
   },
   "id": "1681686a1aba0b4e"
  },
  {
   "cell_type": "code",
   "execution_count": 50,
   "outputs": [
    {
     "data": {
      "text/plain": "array([[1],\n       [2],\n       [3]])"
     },
     "execution_count": 50,
     "metadata": {},
     "output_type": "execute_result"
    }
   ],
   "source": [
    "ex = np.array([1, 2, 3])\n",
    "ex.reshape(-1, 1)"
   ],
   "metadata": {
    "collapsed": false,
    "ExecuteTime": {
     "end_time": "2023-08-08T11:40:28.224171100Z",
     "start_time": "2023-08-08T11:40:28.218872100Z"
    }
   },
   "id": "56b6af7d13f1e736"
  },
  {
   "cell_type": "markdown",
   "source": [
    "# first way"
   ],
   "metadata": {
    "collapsed": false
   },
   "id": "ccb94f8e3bb9f8de"
  },
  {
   "cell_type": "code",
   "execution_count": 51,
   "outputs": [
    {
     "name": "stdout",
     "output_type": "stream",
     "text": [
      "Sequential(\n",
      "  (0): Linear(in_features=8, out_features=12, bias=True)\n",
      "  (1): ReLU()\n",
      "  (2): Linear(in_features=12, out_features=8, bias=True)\n",
      "  (3): ReLU()\n",
      "  (4): Linear(in_features=8, out_features=1, bias=True)\n",
      "  (5): Sigmoid()\n",
      ")\n"
     ]
    }
   ],
   "source": [
    "model = nn.Sequential(\n",
    "    nn.Linear(8, 12),\n",
    "    nn.ReLU(),\n",
    "    nn.Linear(12, 8),\n",
    "    nn.ReLU(),\n",
    "    nn.Linear(8, 1),\n",
    "    nn.Sigmoid()\n",
    ")\n",
    "print(model)"
   ],
   "metadata": {
    "collapsed": false,
    "ExecuteTime": {
     "end_time": "2023-08-08T11:40:28.546805300Z",
     "start_time": "2023-08-08T11:40:28.526306500Z"
    }
   },
   "id": "a3bcc0131071baff"
  },
  {
   "cell_type": "markdown",
   "source": [
    "# better way"
   ],
   "metadata": {
    "collapsed": false
   },
   "id": "f98717c4d29bc649"
  },
  {
   "cell_type": "code",
   "execution_count": 52,
   "outputs": [
    {
     "name": "stdout",
     "output_type": "stream",
     "text": [
      "PrimeClassifier(\n",
      "  (hidden1): Linear(in_features=8, out_features=12, bias=True)\n",
      "  (act1): ReLU()\n",
      "  (hidden2): Linear(in_features=12, out_features=8, bias=True)\n",
      "  (act2): ReLU()\n",
      "  (output): Linear(in_features=8, out_features=1, bias=True)\n",
      "  (act_output): Sigmoid()\n",
      ")\n"
     ]
    }
   ],
   "source": [
    "class PrimeClassifier(nn.Module):\n",
    "    def __init__(self):\n",
    "        # super(PrimeClassifier, self).__init__()\n",
    "        super().__init__()\n",
    "        self.hidden1 = nn.Linear(8, 12)\n",
    "        self.act1 = nn.ReLU()\n",
    "        self.hidden2 = nn.Linear(12, 8)\n",
    "        self.act2 = nn.ReLU()\n",
    "        self.output = nn.Linear(8, 1)\n",
    "        self.act_output = nn.Sigmoid()\n",
    "\n",
    "    def forward(self, x):\n",
    "        x = self.act1(self.hidden1(x))\n",
    "        x = self.act2(self.hidden2(x))\n",
    "        x = self.act_output(self.output(x))\n",
    "        return x\n",
    "\n",
    "\n",
    "model = PrimeClassifier()\n",
    "print(model)"
   ],
   "metadata": {
    "collapsed": false,
    "ExecuteTime": {
     "end_time": "2023-08-08T11:40:29.222825400Z",
     "start_time": "2023-08-08T11:40:29.207088100Z"
    }
   },
   "id": "91740320581e85a6"
  },
  {
   "cell_type": "code",
   "execution_count": 53,
   "outputs": [],
   "source": [
    "loss_fun = nn.BCELoss()  # binary cross entropy\n",
    "optimizer = optim.Adam(model.parameters(), lr=0.001)"
   ],
   "metadata": {
    "collapsed": false,
    "ExecuteTime": {
     "end_time": "2023-08-08T11:40:29.500427Z",
     "start_time": "2023-08-08T11:40:29.500427Z"
    }
   },
   "id": "873f61331d7c41a2"
  },
  {
   "cell_type": "code",
   "execution_count": 54,
   "outputs": [
    {
     "name": "stdout",
     "output_type": "stream",
     "text": [
      "Finished epoch 0, latest loss 0.6970937848091125\n",
      "Finished epoch 1, latest loss 0.6729878783226013\n",
      "Finished epoch 2, latest loss 0.6429826617240906\n",
      "Finished epoch 3, latest loss 0.6255437731742859\n",
      "Finished epoch 4, latest loss 0.6032555103302002\n",
      "Finished epoch 5, latest loss 0.5957046747207642\n",
      "Finished epoch 6, latest loss 0.5865129232406616\n",
      "Finished epoch 7, latest loss 0.5794280767440796\n",
      "Finished epoch 8, latest loss 0.5678671002388\n",
      "Finished epoch 9, latest loss 0.5553832054138184\n",
      "Finished epoch 10, latest loss 0.5499396920204163\n",
      "Finished epoch 11, latest loss 0.5397990345954895\n",
      "Finished epoch 12, latest loss 0.5283559560775757\n",
      "Finished epoch 13, latest loss 0.5250282287597656\n",
      "Finished epoch 14, latest loss 0.5136772394180298\n",
      "Finished epoch 15, latest loss 0.5071898698806763\n",
      "Finished epoch 16, latest loss 0.5033526420593262\n",
      "Finished epoch 17, latest loss 0.49520179629325867\n",
      "Finished epoch 18, latest loss 0.4963397979736328\n",
      "Finished epoch 19, latest loss 0.48769259452819824\n",
      "Finished epoch 20, latest loss 0.48534712195396423\n",
      "Finished epoch 21, latest loss 0.4839910566806793\n",
      "Finished epoch 22, latest loss 0.47907909750938416\n",
      "Finished epoch 23, latest loss 0.4740919768810272\n",
      "Finished epoch 24, latest loss 0.4728498160839081\n",
      "Finished epoch 25, latest loss 0.4655836224555969\n",
      "Finished epoch 26, latest loss 0.4708668887615204\n",
      "Finished epoch 27, latest loss 0.47061002254486084\n",
      "Finished epoch 28, latest loss 0.4703904986381531\n",
      "Finished epoch 29, latest loss 0.4685812294483185\n",
      "Finished epoch 30, latest loss 0.47156623005867004\n",
      "Finished epoch 31, latest loss 0.4596059024333954\n",
      "Finished epoch 32, latest loss 0.4665207266807556\n",
      "Finished epoch 33, latest loss 0.4663943350315094\n",
      "Finished epoch 34, latest loss 0.4723198115825653\n",
      "Finished epoch 35, latest loss 0.46487051248550415\n",
      "Finished epoch 36, latest loss 0.46676555275917053\n",
      "Finished epoch 37, latest loss 0.46751871705055237\n",
      "Finished epoch 38, latest loss 0.46851903200149536\n",
      "Finished epoch 39, latest loss 0.46670567989349365\n",
      "Finished epoch 40, latest loss 0.4678385555744171\n",
      "Finished epoch 41, latest loss 0.46561089158058167\n",
      "Finished epoch 42, latest loss 0.46683090925216675\n",
      "Finished epoch 43, latest loss 0.46761128306388855\n",
      "Finished epoch 44, latest loss 0.4566758871078491\n",
      "Finished epoch 45, latest loss 0.4719192683696747\n",
      "Finished epoch 46, latest loss 0.46332257986068726\n",
      "Finished epoch 47, latest loss 0.45415234565734863\n",
      "Finished epoch 48, latest loss 0.47000446915626526\n",
      "Finished epoch 49, latest loss 0.4611472189426422\n",
      "Finished epoch 50, latest loss 0.45958030223846436\n",
      "Finished epoch 51, latest loss 0.4590466618537903\n",
      "Finished epoch 52, latest loss 0.46057385206222534\n",
      "Finished epoch 53, latest loss 0.46046510338783264\n",
      "Finished epoch 54, latest loss 0.4565478563308716\n",
      "Finished epoch 55, latest loss 0.45626100897789\n",
      "Finished epoch 56, latest loss 0.45855236053466797\n",
      "Finished epoch 57, latest loss 0.45990899205207825\n",
      "Finished epoch 58, latest loss 0.45910051465034485\n",
      "Finished epoch 59, latest loss 0.4607287347316742\n",
      "Finished epoch 60, latest loss 0.4610867500305176\n",
      "Finished epoch 61, latest loss 0.46123531460762024\n",
      "Finished epoch 62, latest loss 0.4632970690727234\n",
      "Finished epoch 63, latest loss 0.46358856558799744\n",
      "Finished epoch 64, latest loss 0.46550875902175903\n",
      "Finished epoch 65, latest loss 0.46467626094818115\n",
      "Finished epoch 66, latest loss 0.46441078186035156\n",
      "Finished epoch 67, latest loss 0.4636561870574951\n",
      "Finished epoch 68, latest loss 0.4661022126674652\n",
      "Finished epoch 69, latest loss 0.46447449922561646\n",
      "Finished epoch 70, latest loss 0.4706101417541504\n",
      "Finished epoch 71, latest loss 0.47144976258277893\n",
      "Finished epoch 72, latest loss 0.47140058875083923\n",
      "Finished epoch 73, latest loss 0.46980899572372437\n",
      "Finished epoch 74, latest loss 0.4687524735927582\n",
      "Finished epoch 75, latest loss 0.4679771661758423\n",
      "Finished epoch 76, latest loss 0.46723318099975586\n",
      "Finished epoch 77, latest loss 0.46986207365989685\n",
      "Finished epoch 78, latest loss 0.47061237692832947\n",
      "Finished epoch 79, latest loss 0.4701046943664551\n",
      "Finished epoch 80, latest loss 0.46870914101600647\n",
      "Finished epoch 81, latest loss 0.468879371881485\n",
      "Finished epoch 82, latest loss 0.46938231587409973\n",
      "Finished epoch 83, latest loss 0.4679205119609833\n",
      "Finished epoch 84, latest loss 0.4678131937980652\n",
      "Finished epoch 85, latest loss 0.467904657125473\n",
      "Finished epoch 86, latest loss 0.4671861231327057\n",
      "Finished epoch 87, latest loss 0.46653005480766296\n",
      "Finished epoch 88, latest loss 0.4629121422767639\n",
      "Finished epoch 89, latest loss 0.4651079475879669\n",
      "Finished epoch 90, latest loss 0.45747607946395874\n",
      "Finished epoch 91, latest loss 0.45362353324890137\n",
      "Finished epoch 92, latest loss 0.4584284722805023\n",
      "Finished epoch 93, latest loss 0.45391643047332764\n",
      "Finished epoch 94, latest loss 0.4510211944580078\n",
      "Finished epoch 95, latest loss 0.4473208785057068\n",
      "Finished epoch 96, latest loss 0.4427242577075958\n",
      "Finished epoch 97, latest loss 0.4391055703163147\n",
      "Finished epoch 98, latest loss 0.4357392191886902\n",
      "Finished epoch 99, latest loss 0.4323192238807678\n"
     ]
    }
   ],
   "source": [
    "n_epochs = 100\n",
    "batch_size = 10\n",
    "\n",
    "for epoch in range(n_epochs):\n",
    "    for i in range(0, len(X), batch_size):\n",
    "        Xbatch = X[i:i + batch_size]\n",
    "        y_pred = model(Xbatch)\n",
    "        ybatch = y[i:i+batch_size]\n",
    "        loss = loss_fun(y_pred, ybatch)\n",
    "        optimizer.zero_grad()\n",
    "        loss.backward()\n",
    "        optimizer.step()\n",
    "    print(f\"Finished epoch {epoch}, latest loss {loss}\")"
   ],
   "metadata": {
    "collapsed": false,
    "ExecuteTime": {
     "end_time": "2023-08-08T11:40:35.762524600Z",
     "start_time": "2023-08-08T11:40:29.853566700Z"
    }
   },
   "id": "688cd810b8e6cc28"
  },
  {
   "cell_type": "code",
   "execution_count": 55,
   "outputs": [
    {
     "name": "stdout",
     "output_type": "stream",
     "text": [
      "Accuracy 0.765625\n"
     ]
    }
   ],
   "source": [
    "# compute accuracy (no_grad is optional)\n",
    "with torch.no_grad():\n",
    "    y_pred = model(X)\n",
    "    \n",
    "accuracy = (y_pred.round() == y).float().mean()\n",
    "print(f\"Accuracy {accuracy}\")"
   ],
   "metadata": {
    "collapsed": false,
    "ExecuteTime": {
     "end_time": "2023-08-08T11:40:35.762524600Z",
     "start_time": "2023-08-08T11:40:35.755909300Z"
    }
   },
   "id": "40faf75fcf697c95"
  },
  {
   "cell_type": "code",
   "execution_count": null,
   "outputs": [],
   "source": [],
   "metadata": {
    "collapsed": false
   },
   "id": "9fb81fe74e4ced7e"
  }
 ],
 "metadata": {
  "kernelspec": {
   "display_name": "Python 3",
   "language": "python",
   "name": "python3"
  },
  "language_info": {
   "codemirror_mode": {
    "name": "ipython",
    "version": 2
   },
   "file_extension": ".py",
   "mimetype": "text/x-python",
   "name": "python",
   "nbconvert_exporter": "python",
   "pygments_lexer": "ipython2",
   "version": "2.7.6"
  }
 },
 "nbformat": 4,
 "nbformat_minor": 5
}
