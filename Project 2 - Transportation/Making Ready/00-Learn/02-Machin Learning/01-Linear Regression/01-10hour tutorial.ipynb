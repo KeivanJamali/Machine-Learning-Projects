{
 "cells": [
  {
   "cell_type": "code",
   "execution_count": null,
   "metadata": {
    "collapsed": true
   },
   "outputs": [],
   "source": [
    "import pandas as pd\n",
    "import numpy as np"
   ]
  },
  {
   "cell_type": "code",
   "execution_count": 30,
   "outputs": [
    {
     "name": "stdout",
     "output_type": "stream",
     "text": [
      "y = 0.2*x + 2.1999999999999997\n"
     ]
    }
   ],
   "source": [
    "data = pd.read_csv(\"testcase1.csv\")\n",
    "# print(data)\n",
    "up = 0\n",
    "down = 0\n",
    "xm = np.mean(data[\"X(m)\"])\n",
    "ym = np.mean(data[\"Y(m)\"])\n",
    "for i in range(len(data)):\n",
    "    x = data.loc[i, \"X(m)\"]\n",
    "    y = data.loc[i, \"Y(m)\",]\n",
    "    up += (x - xm) * (y - ym)\n",
    "    down += (x - xm) ** 2\n",
    "m = up / down\n",
    "c = ym - m * xm\n",
    "print(f\"y = {m}*x + {c}\")"
   ],
   "metadata": {
    "collapsed": false,
    "ExecuteTime": {
     "end_time": "2023-06-26T20:56:14.396342600Z",
     "start_time": "2023-06-26T20:56:14.303387700Z"
    }
   }
  },
  {
   "cell_type": "code",
   "execution_count": 33,
   "outputs": [
    {
     "name": "stdout",
     "output_type": "stream",
     "text": [
      "   X(m)  Y(m)   yp  err\n",
      "0     1     3  2.4 -0.6\n",
      "1     2     2  2.6  0.6\n",
      "2     3     2  2.8  0.8\n",
      "3     4     4  3.0 -1.0\n",
      "4     5     3  3.2  0.2\n"
     ]
    }
   ],
   "source": [
    "yp = []\n",
    "err = []\n",
    "for i in range(len(data)):\n",
    "    yp.append(data[\"X(m)\"][i] * m + c)\n",
    "    err.append(yp[i] - data[\"Y(m)\"][i])\n",
    "data[\"yp\"] = yp\n",
    "data[\"err\"] = err\n",
    "print(data)"
   ],
   "metadata": {
    "collapsed": false,
    "ExecuteTime": {
     "end_time": "2023-06-26T20:58:07.095679500Z",
     "start_time": "2023-06-26T20:58:07.091310200Z"
    }
   }
  },
  {
   "cell_type": "code",
   "execution_count": null,
   "outputs": [],
   "source": [],
   "metadata": {
    "collapsed": false
   }
  }
 ],
 "metadata": {
  "kernelspec": {
   "display_name": "Python 3",
   "language": "python",
   "name": "python3"
  },
  "language_info": {
   "codemirror_mode": {
    "name": "ipython",
    "version": 2
   },
   "file_extension": ".py",
   "mimetype": "text/x-python",
   "name": "python",
   "nbconvert_exporter": "python",
   "pygments_lexer": "ipython2",
   "version": "2.7.6"
  }
 },
 "nbformat": 4,
 "nbformat_minor": 0
}
