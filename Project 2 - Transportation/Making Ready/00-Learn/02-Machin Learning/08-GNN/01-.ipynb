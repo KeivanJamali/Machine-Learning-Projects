{
 "cells": [
  {
   "cell_type": "code",
   "execution_count": 1,
   "metadata": {
    "collapsed": true,
    "ExecuteTime": {
     "end_time": "2023-07-09T09:55:55.063984600Z",
     "start_time": "2023-07-09T09:55:54.886588500Z"
    }
   },
   "outputs": [],
   "source": [
    "import networkx as nx\n",
    "\n",
    "G = nx.DiGraph()\n",
    "\n",
    "# add nodes to the graph\n",
    "G.add_node(1, pos=(0, 0))\n",
    "G.add_node(2, pos=(1, 0))\n",
    "G.add_node(3, pos=(1, 1))\n",
    "G.add_node(4, pos=(0, 1))\n",
    "\n",
    "# add edges to the graph\n",
    "G.add_edge(1, 2, weight=1)\n",
    "G.add_edge(2, 3, weight=1)\n",
    "G.add_edge(3, 4, weight=1)\n",
    "G.add_edge(4, 1, weight=1)\n",
    "# G.edges"
   ]
  },
  {
   "cell_type": "code",
   "execution_count": 2,
   "outputs": [],
   "source": [
    "import torch\n",
    "import torch.nn.functional as F\n",
    "from torch_geometric.nn import GCNConv\n",
    "\n",
    "class GNN(torch.nn.Module):\n",
    "    def __init__(self, in_channels, hidden_channels, out_channels):\n",
    "        super(GNN, self).__init__()\n",
    "\n",
    "        self.conv1 = GCNConv(in_channels, hidden_channels)\n",
    "        self.conv2 = GCNConv(hidden_channels, out_channels)\n",
    "\n",
    "    def forward(self, x, edge_index):\n",
    "        x = F.relu(self.conv1(x, edge_index))\n",
    "        x = self.conv2(x, edge_index)\n",
    "        return x"
   ],
   "metadata": {
    "collapsed": false,
    "ExecuteTime": {
     "end_time": "2023-07-09T09:56:02.100660200Z",
     "start_time": "2023-07-09T09:55:59.557363100Z"
    }
   }
  },
  {
   "cell_type": "code",
   "execution_count": 3,
   "outputs": [],
   "source": [
    "# import networkx as nx\n",
    "# from torch_geometric.utils import to_undirected\n",
    "# from torch_geometric.data import Data\n",
    "#\n",
    "# # # Create a directed graph using networkx\n",
    "# # G = nx.DiGraph()\n",
    "# # G.add_edge(0, 1)\n",
    "# # G.add_edge(1, 2)\n",
    "# # G.add_edge(2, 0)\n",
    "#\n",
    "# # Convert the directed graph to a PyTorch Geometric Data object\n",
    "# edge_index = torch.tensor(list(G.edges)).t().contiguous()\n",
    "# data = Data(edge_index=edge_index)\n",
    "#\n",
    "# # Convert the directed graph to an undirected graph\n",
    "# G_undirected = to_undirected(data)"
   ],
   "metadata": {
    "collapsed": false,
    "ExecuteTime": {
     "end_time": "2023-07-09T09:56:02.677741500Z",
     "start_time": "2023-07-09T09:56:02.673171800Z"
    }
   }
  },
  {
   "cell_type": "code",
   "execution_count": 6,
   "outputs": [
    {
     "ename": "KeyError",
     "evalue": "0",
     "output_type": "error",
     "traceback": [
      "\u001B[1;31m---------------------------------------------------------------------------\u001B[0m",
      "\u001B[1;31mKeyError\u001B[0m                                  Traceback (most recent call last)",
      "Cell \u001B[1;32mIn[6], line 5\u001B[0m\n\u001B[0;32m      2\u001B[0m \u001B[38;5;28;01mfrom\u001B[39;00m \u001B[38;5;21;01mtorch_geometric\u001B[39;00m\u001B[38;5;21;01m.\u001B[39;00m\u001B[38;5;21;01mdata\u001B[39;00m \u001B[38;5;28;01mimport\u001B[39;00m Data, DataLoader\n\u001B[0;32m      4\u001B[0m \u001B[38;5;66;03m# convert the directed graph to an undirected graph\u001B[39;00m\n\u001B[1;32m----> 5\u001B[0m G_undirected \u001B[38;5;241m=\u001B[39m \u001B[43mto_undirected\u001B[49m\u001B[43m(\u001B[49m\u001B[43mG\u001B[49m\u001B[43m)\u001B[49m\n\u001B[0;32m      6\u001B[0m edge_index \u001B[38;5;241m=\u001B[39m torch\u001B[38;5;241m.\u001B[39mtensor(\u001B[38;5;28mlist\u001B[39m(G\u001B[38;5;241m.\u001B[39medges()))\u001B[38;5;241m.\u001B[39mt()\u001B[38;5;241m.\u001B[39mcontiguous()\n\u001B[0;32m      7\u001B[0m G_undirected \u001B[38;5;241m=\u001B[39m to_undirected(edge_index\u001B[38;5;241m=\u001B[39medge_index)\n",
      "File \u001B[1;32mD:\\All Python\\Summer Project\\venv\\Lib\\site-packages\\torch_geometric\\utils\\undirected.py:164\u001B[0m, in \u001B[0;36mto_undirected\u001B[1;34m(edge_index, edge_attr, num_nodes, reduce)\u001B[0m\n\u001B[0;32m    161\u001B[0m     edge_attr \u001B[38;5;241m=\u001B[39m MISSING\n\u001B[0;32m    162\u001B[0m     num_nodes \u001B[38;5;241m=\u001B[39m edge_attr\n\u001B[1;32m--> 164\u001B[0m row, col \u001B[38;5;241m=\u001B[39m \u001B[43medge_index\u001B[49m\u001B[43m[\u001B[49m\u001B[38;5;241;43m0\u001B[39;49m\u001B[43m]\u001B[49m, edge_index[\u001B[38;5;241m1\u001B[39m]\n\u001B[0;32m    165\u001B[0m row, col \u001B[38;5;241m=\u001B[39m torch\u001B[38;5;241m.\u001B[39mcat([row, col], dim\u001B[38;5;241m=\u001B[39m\u001B[38;5;241m0\u001B[39m), torch\u001B[38;5;241m.\u001B[39mcat([col, row], dim\u001B[38;5;241m=\u001B[39m\u001B[38;5;241m0\u001B[39m)\n\u001B[0;32m    166\u001B[0m edge_index \u001B[38;5;241m=\u001B[39m torch\u001B[38;5;241m.\u001B[39mstack([row, col], dim\u001B[38;5;241m=\u001B[39m\u001B[38;5;241m0\u001B[39m)\n",
      "File \u001B[1;32mD:\\All Python\\Summer Project\\venv\\Lib\\site-packages\\networkx\\classes\\graph.py:513\u001B[0m, in \u001B[0;36mGraph.__getitem__\u001B[1;34m(self, n)\u001B[0m\n\u001B[0;32m    489\u001B[0m \u001B[38;5;28;01mdef\u001B[39;00m \u001B[38;5;21m__getitem__\u001B[39m(\u001B[38;5;28mself\u001B[39m, n):\n\u001B[0;32m    490\u001B[0m \u001B[38;5;250m    \u001B[39m\u001B[38;5;124;03m\"\"\"Returns a dict of neighbors of node n.  Use: 'G[n]'.\u001B[39;00m\n\u001B[0;32m    491\u001B[0m \n\u001B[0;32m    492\u001B[0m \u001B[38;5;124;03m    Parameters\u001B[39;00m\n\u001B[1;32m   (...)\u001B[0m\n\u001B[0;32m    511\u001B[0m \u001B[38;5;124;03m    AtlasView({1: {}})\u001B[39;00m\n\u001B[0;32m    512\u001B[0m \u001B[38;5;124;03m    \"\"\"\u001B[39;00m\n\u001B[1;32m--> 513\u001B[0m     \u001B[38;5;28;01mreturn\u001B[39;00m \u001B[38;5;28;43mself\u001B[39;49m\u001B[38;5;241;43m.\u001B[39;49m\u001B[43madj\u001B[49m\u001B[43m[\u001B[49m\u001B[43mn\u001B[49m\u001B[43m]\u001B[49m\n",
      "File \u001B[1;32mD:\\All Python\\Summer Project\\venv\\Lib\\site-packages\\networkx\\classes\\coreviews.py:81\u001B[0m, in \u001B[0;36mAdjacencyView.__getitem__\u001B[1;34m(self, name)\u001B[0m\n\u001B[0;32m     80\u001B[0m \u001B[38;5;28;01mdef\u001B[39;00m \u001B[38;5;21m__getitem__\u001B[39m(\u001B[38;5;28mself\u001B[39m, name):\n\u001B[1;32m---> 81\u001B[0m     \u001B[38;5;28;01mreturn\u001B[39;00m AtlasView(\u001B[38;5;28;43mself\u001B[39;49m\u001B[38;5;241;43m.\u001B[39;49m\u001B[43m_atlas\u001B[49m\u001B[43m[\u001B[49m\u001B[43mname\u001B[49m\u001B[43m]\u001B[49m)\n",
      "\u001B[1;31mKeyError\u001B[0m: 0"
     ]
    }
   ],
   "source": [
    "from torch_geometric.utils import to_undirected\n",
    "from torch_geometric.data import Data, DataLoader\n",
    "\n",
    "# convert the directed graph to an undirected graph\n",
    "G_undirected = to_undirected(G)\n",
    "edge_index = torch.tensor(list(G.edges())).t().contiguous()\n",
    "G_undirected = to_undirected(edge_index=edge_index)\n",
    "# create a node feature matrix\n",
    "x = torch.randn(G_undirected.number_of_nodes(), 2)\n",
    "\n",
    "# create a target node feature matrix\n",
    "y = torch.randn(G_undirected.number_of_nodes(), 1)\n",
    "\n",
    "# create a PyTorch Geometric Data object\n",
    "data = Data(x=x, edge_index=torch.tensor(G_undirected.edges()).T, y=y)\n",
    "\n",
    "# create a DataLoader object\n",
    "loader = DataLoader([data], batch_size=1)\n",
    "\n",
    "# create a GNN model\n",
    "model = GNN(in_channels=2, hidden_channels=16, out_channels=1)\n",
    "\n",
    "# define the loss function and optimizer\n",
    "criterion = torch.nn.MSELoss()\n",
    "optimizer = torch.optim.Adam(model.parameters(), lr=0.01)\n",
    "\n",
    "# train the model\n",
    "for epoch in range(100):\n",
    "    for batch in loader:\n",
    "        optimizer.zero_grad()\n",
    "        out = model(batch.x, batch.edge_index)\n",
    "        loss = criterion(out, batch.y)\n",
    "        loss.backward()\n",
    "        optimizer.step()\n",
    "    print(f'Epoch {epoch}, Loss: {loss.item():.4f}')"
   ],
   "metadata": {
    "collapsed": false,
    "ExecuteTime": {
     "end_time": "2023-07-09T10:00:22.020981500Z",
     "start_time": "2023-07-09T10:00:21.973964400Z"
    }
   }
  },
  {
   "cell_type": "code",
   "execution_count": 5,
   "outputs": [
    {
     "data": {
      "text/plain": "4"
     },
     "execution_count": 5,
     "metadata": {},
     "output_type": "execute_result"
    }
   ],
   "source": [
    "G.number_of_nodes()"
   ],
   "metadata": {
    "collapsed": false,
    "ExecuteTime": {
     "end_time": "2023-07-09T09:59:02.083267100Z",
     "start_time": "2023-07-09T09:59:02.072400800Z"
    }
   }
  },
  {
   "cell_type": "code",
   "execution_count": null,
   "outputs": [],
   "source": [],
   "metadata": {
    "collapsed": false
   }
  }
 ],
 "metadata": {
  "kernelspec": {
   "display_name": "Python 3",
   "language": "python",
   "name": "python3"
  },
  "language_info": {
   "codemirror_mode": {
    "name": "ipython",
    "version": 2
   },
   "file_extension": ".py",
   "mimetype": "text/x-python",
   "name": "python",
   "nbconvert_exporter": "python",
   "pygments_lexer": "ipython2",
   "version": "2.7.6"
  }
 },
 "nbformat": 4,
 "nbformat_minor": 0
}
