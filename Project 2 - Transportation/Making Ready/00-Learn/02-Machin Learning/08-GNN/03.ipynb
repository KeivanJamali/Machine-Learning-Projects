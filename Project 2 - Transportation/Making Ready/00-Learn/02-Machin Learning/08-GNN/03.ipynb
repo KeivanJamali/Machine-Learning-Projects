{
 "cells": [
  {
   "cell_type": "code",
   "execution_count": null,
   "metadata": {
    "collapsed": true
   },
   "outputs": [],
   "source": [
    "from torch_geometric.datasets import PPI\n",
    "import torch_geometric.transforms as T\n",
    "\n",
    "# load the PPI dataset\n",
    "dataset = PPI(root='data/PPI', split='train', transform=T.Compose([\n",
    "    T.NormalizeFeatures(),\n",
    "    T.AddTrainValTestMask(split='train', num_classes=4)\n",
    "]))\n",
    "\n",
    "# split the dataset into training, validation, and test sets\n",
    "train_data = dataset[dataset.train_mask]\n",
    "val_data = dataset[dataset.val_mask]\n",
    "test_data = dataset[dataset.test_mask]"
   ]
  },
  {
   "cell_type": "code",
   "execution_count": null,
   "outputs": [],
   "source": [
    "import torch\n",
    "import torch.nn.functional as F\n",
    "from torch_geometric.nn import GCNConv\n",
    "\n",
    "# define the model\n",
    "class GCN(torch.nn.Module):\n",
    "    def __init__(self, num_features, hidden_size, num_classes):\n",
    "        super(GCN, self).__init__()\n",
    "        self.conv1 = GCNConv(num_features, hidden_size)\n",
    "        self.conv2 = GCNConv(hidden_size, num_classes)\n",
    "\n",
    "    def forward(self, x, edge_index):\n",
    "        x = F.relu(self.conv1(x, edge_index))\n",
    "        x = F.dropout(x, training=self.training)\n",
    "        x = self.conv2(x, edge_index)\n",
    "        return F.log_softmax(x, dim=1)\n",
    "\n",
    "# initialize the model and optimizer\n",
    "model = GCN(num_features=dataset.num_features, hidden_size=256, num_classes=dataset.num_classes)\n",
    "optimizer = torch.optim.Adam(model.parameters(), lr=0.01)\n",
    "\n",
    "# train the model\n",
    "for epoch in range(100):\n",
    "    model.train()\n",
    "    optimizer.zero_grad()\n",
    "    out = model(train_data.x, train_data.edge_index)\n",
    "    loss = F.nll_loss(out[train_data.train_mask], train_data.y[train_data.train_mask])\n",
    "    loss.backward()\n",
    "    optimizer.step()\n",
    "    model.eval()\n",
    "    with torch.no_grad():\n",
    "        pred = model(val_data.x, val_data.edge_index).argmax(dim=1)\n",
    "        acc = (pred[val_data.val_mask] == val_data.y[val_data.val_mask]).float().mean()\n",
    "        print(f\"Epoch {epoch + 1:03d}, Val Acc: {acc:.4f}\")"
   ],
   "metadata": {
    "collapsed": false
   }
  }
 ],
 "metadata": {
  "kernelspec": {
   "display_name": "Python 3",
   "language": "python",
   "name": "python3"
  },
  "language_info": {
   "codemirror_mode": {
    "name": "ipython",
    "version": 2
   },
   "file_extension": ".py",
   "mimetype": "text/x-python",
   "name": "python",
   "nbconvert_exporter": "python",
   "pygments_lexer": "ipython2",
   "version": "2.7.6"
  }
 },
 "nbformat": 4,
 "nbformat_minor": 0
}
