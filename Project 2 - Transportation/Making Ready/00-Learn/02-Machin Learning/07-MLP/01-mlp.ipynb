{
 "cells": [
  {
   "cell_type": "code",
   "execution_count": 1,
   "metadata": {
    "collapsed": true,
    "ExecuteTime": {
     "end_time": "2023-07-06T15:07:37.579156200Z",
     "start_time": "2023-07-06T15:07:35.502358100Z"
    }
   },
   "outputs": [],
   "source": [
    "import torch\n",
    "import torch.nn as nn\n",
    "import torch.optim as optim\n",
    "from torchvision import datasets, transforms"
   ]
  },
  {
   "cell_type": "code",
   "execution_count": 5,
   "outputs": [],
   "source": [
    "input_size = 28 * 28  # start cells.\n",
    "hidden_size = 128  # middle cells.\n",
    "num_classes = 10  # answer cells.\n",
    "num_epochs = 10  # how many times it goes through data.\n",
    "batch_size = 100  # how many data I give it every time.\n",
    "learning_rate = 0.001  # how big its steps will be."
   ],
   "metadata": {
    "collapsed": false,
    "ExecuteTime": {
     "end_time": "2023-07-06T15:17:17.048698900Z",
     "start_time": "2023-07-06T15:17:17.033024600Z"
    }
   }
  },
  {
   "cell_type": "code",
   "execution_count": 7,
   "outputs": [
    {
     "name": "stdout",
     "output_type": "stream",
     "text": [
      "Downloading http://yann.lecun.com/exdb/mnist/train-images-idx3-ubyte.gz\n",
      "Downloading http://yann.lecun.com/exdb/mnist/train-images-idx3-ubyte.gz to ./data\\MNIST\\raw\\train-images-idx3-ubyte.gz\n"
     ]
    },
    {
     "name": "stderr",
     "output_type": "stream",
     "text": [
      "100.0%\n"
     ]
    },
    {
     "name": "stdout",
     "output_type": "stream",
     "text": [
      "Extracting ./data\\MNIST\\raw\\train-images-idx3-ubyte.gz to ./data\\MNIST\\raw\n",
      "\n",
      "Downloading http://yann.lecun.com/exdb/mnist/train-labels-idx1-ubyte.gz\n",
      "Downloading http://yann.lecun.com/exdb/mnist/train-labels-idx1-ubyte.gz to ./data\\MNIST\\raw\\train-labels-idx1-ubyte.gz\n"
     ]
    },
    {
     "name": "stderr",
     "output_type": "stream",
     "text": [
      "100.0%\n"
     ]
    },
    {
     "name": "stdout",
     "output_type": "stream",
     "text": [
      "Extracting ./data\\MNIST\\raw\\train-labels-idx1-ubyte.gz to ./data\\MNIST\\raw\n",
      "\n",
      "Downloading http://yann.lecun.com/exdb/mnist/t10k-images-idx3-ubyte.gz\n",
      "Downloading http://yann.lecun.com/exdb/mnist/t10k-images-idx3-ubyte.gz to ./data\\MNIST\\raw\\t10k-images-idx3-ubyte.gz\n"
     ]
    },
    {
     "name": "stderr",
     "output_type": "stream",
     "text": [
      "100.0%\n"
     ]
    },
    {
     "name": "stdout",
     "output_type": "stream",
     "text": [
      "Extracting ./data\\MNIST\\raw\\t10k-images-idx3-ubyte.gz to ./data\\MNIST\\raw\n",
      "\n",
      "Downloading http://yann.lecun.com/exdb/mnist/t10k-labels-idx1-ubyte.gz\n",
      "Downloading http://yann.lecun.com/exdb/mnist/t10k-labels-idx1-ubyte.gz to ./data\\MNIST\\raw\\t10k-labels-idx1-ubyte.gz\n"
     ]
    },
    {
     "name": "stderr",
     "output_type": "stream",
     "text": [
      "100.0%"
     ]
    },
    {
     "name": "stdout",
     "output_type": "stream",
     "text": [
      "Extracting ./data\\MNIST\\raw\\t10k-labels-idx1-ubyte.gz to ./data\\MNIST\\raw\n",
      "\n"
     ]
    },
    {
     "name": "stderr",
     "output_type": "stream",
     "text": [
      "\n"
     ]
    }
   ],
   "source": [
    "transform = transforms.Compose([transforms.ToTensor(), transforms.Normalize((0.1307,), (0.3081,))])\n",
    "# print(transform)\n",
    "train_dataset = datasets.MNIST(root='./data', train=True, transform=transform, download=True)\n",
    "test_dataset = datasets.MNIST(root='./data', train=False, transform=transform)\n",
    "\n",
    "train_loader = torch.utils.data.DataLoader(train_dataset, batch_size=batch_size, shuffle=True)\n",
    "test_loader = torch.utils.data.DataLoader(test_dataset, batch_size=batch_size, shuffle=False)"
   ],
   "metadata": {
    "collapsed": false,
    "ExecuteTime": {
     "end_time": "2023-07-06T15:19:45.146734300Z",
     "start_time": "2023-07-06T15:18:06.155826Z"
    }
   }
  },
  {
   "cell_type": "markdown",
   "source": [
    "# with one hidden layer"
   ],
   "metadata": {
    "collapsed": false
   }
  },
  {
   "cell_type": "code",
   "execution_count": 8,
   "outputs": [],
   "source": [
    "class MLP(nn.Module):\n",
    "    def __init__(self, input_size, hidden_size, num_classes):\n",
    "        super(MLP, self).__init__()\n",
    "        self.fc1 = nn.Linear(input_size, hidden_size)\n",
    "        self.relu = nn.ReLU()\n",
    "        self.fc2 = nn.Linear(hidden_size, num_classes)\n",
    "\n",
    "    def forward(self, x):\n",
    "        out = self.fc1(x)\n",
    "        out = self.relu(out)\n",
    "        out = self.fc2(out)\n",
    "        return out\n",
    "\n",
    "\n",
    "model = MLP(input_size, hidden_size, num_classes)"
   ],
   "metadata": {
    "collapsed": false,
    "ExecuteTime": {
     "end_time": "2023-07-06T15:37:25.289391Z",
     "start_time": "2023-07-06T15:37:25.288377300Z"
    }
   }
  },
  {
   "cell_type": "code",
   "execution_count": 11,
   "outputs": [
    {
     "name": "stdout",
     "output_type": "stream",
     "text": [
      "Epoch [1/10], Step [100/600], Loss: 0.4036\n",
      "Epoch [1/10], Step [200/600], Loss: 0.5317\n",
      "Epoch [1/10], Step [300/600], Loss: 0.2899\n",
      "Epoch [1/10], Step [400/600], Loss: 0.1805\n",
      "Epoch [1/10], Step [500/600], Loss: 0.1753\n",
      "Epoch [1/10], Step [600/600], Loss: 0.1475\n",
      "Epoch [2/10], Step [100/600], Loss: 0.1545\n",
      "Epoch [2/10], Step [200/600], Loss: 0.1956\n",
      "Epoch [2/10], Step [300/600], Loss: 0.1970\n",
      "Epoch [2/10], Step [400/600], Loss: 0.0617\n",
      "Epoch [2/10], Step [500/600], Loss: 0.0872\n",
      "Epoch [2/10], Step [600/600], Loss: 0.0681\n",
      "Epoch [3/10], Step [100/600], Loss: 0.0496\n",
      "Epoch [3/10], Step [200/600], Loss: 0.0858\n",
      "Epoch [3/10], Step [300/600], Loss: 0.2329\n",
      "Epoch [3/10], Step [400/600], Loss: 0.2138\n",
      "Epoch [3/10], Step [500/600], Loss: 0.1555\n",
      "Epoch [3/10], Step [600/600], Loss: 0.0833\n",
      "Epoch [4/10], Step [100/600], Loss: 0.0226\n",
      "Epoch [4/10], Step [200/600], Loss: 0.1241\n",
      "Epoch [4/10], Step [300/600], Loss: 0.0169\n",
      "Epoch [4/10], Step [400/600], Loss: 0.0193\n",
      "Epoch [4/10], Step [500/600], Loss: 0.0213\n",
      "Epoch [4/10], Step [600/600], Loss: 0.0267\n",
      "Epoch [5/10], Step [100/600], Loss: 0.0207\n",
      "Epoch [5/10], Step [200/600], Loss: 0.0773\n",
      "Epoch [5/10], Step [300/600], Loss: 0.0411\n",
      "Epoch [5/10], Step [400/600], Loss: 0.0593\n",
      "Epoch [5/10], Step [500/600], Loss: 0.0349\n",
      "Epoch [5/10], Step [600/600], Loss: 0.0678\n",
      "Epoch [6/10], Step [100/600], Loss: 0.1014\n",
      "Epoch [6/10], Step [200/600], Loss: 0.0080\n",
      "Epoch [6/10], Step [300/600], Loss: 0.0530\n",
      "Epoch [6/10], Step [400/600], Loss: 0.1084\n",
      "Epoch [6/10], Step [500/600], Loss: 0.0189\n",
      "Epoch [6/10], Step [600/600], Loss: 0.0259\n",
      "Epoch [7/10], Step [100/600], Loss: 0.0259\n",
      "Epoch [7/10], Step [200/600], Loss: 0.0210\n",
      "Epoch [7/10], Step [300/600], Loss: 0.0343\n",
      "Epoch [7/10], Step [400/600], Loss: 0.0350\n",
      "Epoch [7/10], Step [500/600], Loss: 0.0497\n",
      "Epoch [7/10], Step [600/600], Loss: 0.0219\n",
      "Epoch [8/10], Step [100/600], Loss: 0.0161\n",
      "Epoch [8/10], Step [200/600], Loss: 0.0168\n",
      "Epoch [8/10], Step [300/600], Loss: 0.0082\n",
      "Epoch [8/10], Step [400/600], Loss: 0.0014\n",
      "Epoch [8/10], Step [500/600], Loss: 0.0367\n",
      "Epoch [8/10], Step [600/600], Loss: 0.0207\n",
      "Epoch [9/10], Step [100/600], Loss: 0.0286\n",
      "Epoch [9/10], Step [200/600], Loss: 0.0077\n",
      "Epoch [9/10], Step [300/600], Loss: 0.0077\n",
      "Epoch [9/10], Step [400/600], Loss: 0.0193\n",
      "Epoch [9/10], Step [500/600], Loss: 0.0232\n",
      "Epoch [9/10], Step [600/600], Loss: 0.0050\n",
      "Epoch [10/10], Step [100/600], Loss: 0.0228\n",
      "Epoch [10/10], Step [200/600], Loss: 0.0018\n",
      "Epoch [10/10], Step [300/600], Loss: 0.0076\n",
      "Epoch [10/10], Step [400/600], Loss: 0.0325\n",
      "Epoch [10/10], Step [500/600], Loss: 0.0334\n",
      "Epoch [10/10], Step [600/600], Loss: 0.0159\n"
     ]
    }
   ],
   "source": [
    "criterion = nn.CrossEntropyLoss()\n",
    "optimizer = optim.Adam(model.parameters(), lr=learning_rate)\n",
    "for epoch in range(num_epochs):\n",
    "    for i, (images, labels) in enumerate(train_loader):\n",
    "        images = images.reshape(-1, 28*28)\n",
    "        labels = labels\n",
    "\n",
    "\n",
    "\n",
    "        optimizer.zero_grad()\n",
    "        outputs = model(images)\n",
    "        loss = criterion(outputs, labels)\n",
    "        loss.backward()\n",
    "        optimizer.step()\n",
    "        if (i+1) % 100 == 0:\n",
    "            print('Epoch [{}/{}], Step [{}/{}], Loss: {:.4f}'.format(epoch+1, num_epochs, i+1, len(train_loader), loss.item()))"
   ],
   "metadata": {
    "collapsed": false,
    "ExecuteTime": {
     "end_time": "2023-07-06T15:50:35.375758500Z",
     "start_time": "2023-07-06T15:48:25.248487200Z"
    }
   }
  },
  {
   "cell_type": "code",
   "execution_count": 12,
   "outputs": [
    {
     "name": "stdout",
     "output_type": "stream",
     "text": [
      "Accuracy of the MLP on the test images: 97.8 %\n"
     ]
    }
   ],
   "source": [
    "with torch.no_grad():\n",
    "    correct = 0\n",
    "    total = 0\n",
    "    for images, labels in test_loader:\n",
    "        images = images.reshape(-1, 28*28)\n",
    "        labels = labels\n",
    "        outputs = model(images)\n",
    "        _, predicted = torch.max(outputs.data, 1)\n",
    "        total += labels.size(0)\n",
    "        correct += (predicted == labels).sum().item()\n",
    "\n",
    "    print('Accuracy of the MLP on the test images: {} %'.format(100 * correct / total))"
   ],
   "metadata": {
    "collapsed": false,
    "ExecuteTime": {
     "end_time": "2023-07-06T15:51:49.015880400Z",
     "start_time": "2023-07-06T15:51:46.706294600Z"
    }
   }
  },
  {
   "cell_type": "code",
   "execution_count": null,
   "outputs": [],
   "source": [],
   "metadata": {
    "collapsed": false
   }
  }
 ],
 "metadata": {
  "kernelspec": {
   "display_name": "Python 3",
   "language": "python",
   "name": "python3"
  },
  "language_info": {
   "codemirror_mode": {
    "name": "ipython",
    "version": 2
   },
   "file_extension": ".py",
   "mimetype": "text/x-python",
   "name": "python",
   "nbconvert_exporter": "python",
   "pygments_lexer": "ipython2",
   "version": "2.7.6"
  }
 },
 "nbformat": 4,
 "nbformat_minor": 0
}
