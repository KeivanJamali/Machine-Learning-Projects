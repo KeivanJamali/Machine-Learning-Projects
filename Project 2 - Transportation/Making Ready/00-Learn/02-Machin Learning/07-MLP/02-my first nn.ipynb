{
 "cells": [
  {
   "cell_type": "code",
   "execution_count": 28,
   "metadata": {
    "collapsed": true,
    "ExecuteTime": {
     "end_time": "2023-07-15T09:57:46.161751500Z",
     "start_time": "2023-07-15T09:57:46.154690300Z"
    }
   },
   "outputs": [],
   "source": [
    "import numpy as np"
   ]
  },
  {
   "cell_type": "code",
   "execution_count": 29,
   "outputs": [
    {
     "name": "stdout",
     "output_type": "stream",
     "text": [
      "The prediction result is : [0.7985731]\n"
     ]
    }
   ],
   "source": [
    "input_vector1 = np.array([1.66, 1.56])\n",
    "weight_1 = np.array([1.45, -0.66])\n",
    "bias = np.array([0.0])\n",
    "\n",
    "def sigmoid(x:float)->float:\n",
    "    return 1/(1+np.exp(-x))\n",
    "\n",
    "def make_prediction(input_vector:np.array, weight:np.array, bias:np.array) -> np.array:\n",
    "    layer_1 = np.dot(input_vector, weight) + bias\n",
    "    layer_2 = sigmoid(layer_1)\n",
    "    return layer_2\n",
    "\n",
    "prediction = make_prediction(input_vector1, weight_1, bias)\n",
    "print(f\"The prediction result is : {prediction}\")"
   ],
   "metadata": {
    "collapsed": false,
    "ExecuteTime": {
     "end_time": "2023-07-15T09:57:46.453296500Z",
     "start_time": "2023-07-15T09:57:46.445295Z"
    }
   }
  },
  {
   "cell_type": "code",
   "execution_count": 30,
   "outputs": [
    {
     "name": "stdout",
     "output_type": "stream",
     "text": [
      "The prediction result is : [0.87101915]\n"
     ]
    }
   ],
   "source": [
    "input_vector2 = np.array([2,1.5])\n",
    "prediction = make_prediction(input_vector2, weight_1, bias)\n",
    "print(f\"The prediction result is : {prediction}\") #wrong"
   ],
   "metadata": {
    "collapsed": false,
    "ExecuteTime": {
     "end_time": "2023-07-15T09:57:46.909499800Z",
     "start_time": "2023-07-15T09:57:46.901126800Z"
    }
   }
  },
  {
   "cell_type": "code",
   "execution_count": 31,
   "outputs": [
    {
     "name": "stdout",
     "output_type": "stream",
     "text": [
      "Prediction : [0.87101915], Error : [0.75867436]\n"
     ]
    }
   ],
   "source": [
    "target = 0\n",
    "mse = np.square(prediction - target)\n",
    "print(f\"Prediction : {prediction}, Error : {mse}\")"
   ],
   "metadata": {
    "collapsed": false,
    "ExecuteTime": {
     "end_time": "2023-07-15T09:57:47.663704500Z",
     "start_time": "2023-07-15T09:57:47.650981200Z"
    }
   }
  },
  {
   "cell_type": "code",
   "execution_count": 32,
   "outputs": [
    {
     "name": "stdout",
     "output_type": "stream",
     "text": [
      "the derivative is [1.7420383]\n"
     ]
    }
   ],
   "source": [
    "# derivative is 2x\n",
    "\n",
    "derivative = 2 * (prediction - target)\n",
    "print(f\"the derivative is {derivative}\")"
   ],
   "metadata": {
    "collapsed": false,
    "ExecuteTime": {
     "end_time": "2023-07-15T09:57:48.253680600Z",
     "start_time": "2023-07-15T09:57:48.245850700Z"
    }
   }
  },
  {
   "cell_type": "code",
   "execution_count": 33,
   "outputs": [
    {
     "name": "stdout",
     "output_type": "stream",
     "text": [
      "prediction : [0.01496248], Error : [0.00022388]\n"
     ]
    }
   ],
   "source": [
    "#updating the weight\n",
    "weight_1 = weight_1 - derivative\n",
    "\n",
    "prediction = make_prediction(input_vector2, weight_1, bias)\n",
    "error = (prediction - target)**2\n",
    "print(f\"prediction : {prediction}, Error : {error}\")"
   ],
   "metadata": {
    "collapsed": false,
    "ExecuteTime": {
     "end_time": "2023-07-15T09:57:48.920792400Z",
     "start_time": "2023-07-15T09:57:48.879430200Z"
    }
   }
  },
  {
   "cell_type": "code",
   "execution_count": null,
   "outputs": [],
   "source": [
    "# new update\n",
    "\n",
    "def sigmoid_deriv(x):\n",
    "    return sigmoid(x) * (1-sigmoid(x))\n",
    "\n",
    "derror_dprediction = 2 * (prediction - target)\n",
    "layer1 = np.dot(input_vector2, weight_1) + bias\n",
    "dprediction_dlayer1 = sigmoid_deriv(layer1)\n",
    "dlayer1_dbias = 1\n",
    "derror_dbias = derror_dprediction * dprediction_dlayer1 * dlayer1_dbias\n"
   ],
   "metadata": {
    "collapsed": false
   }
  }
 ],
 "metadata": {
  "kernelspec": {
   "display_name": "Python 3",
   "language": "python",
   "name": "python3"
  },
  "language_info": {
   "codemirror_mode": {
    "name": "ipython",
    "version": 2
   },
   "file_extension": ".py",
   "mimetype": "text/x-python",
   "name": "python",
   "nbconvert_exporter": "python",
   "pygments_lexer": "ipython2",
   "version": "2.7.6"
  }
 },
 "nbformat": 4,
 "nbformat_minor": 0
}
