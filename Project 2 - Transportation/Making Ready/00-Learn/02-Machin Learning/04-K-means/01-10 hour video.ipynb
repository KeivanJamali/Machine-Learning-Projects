{
 "cells": [
  {
   "cell_type": "code",
   "execution_count": 1,
   "metadata": {
    "collapsed": true,
    "ExecuteTime": {
     "end_time": "2023-07-06T14:56:16.934501600Z",
     "start_time": "2023-07-06T14:56:16.036567500Z"
    }
   },
   "outputs": [],
   "source": [
    "import numpy as np\n",
    "import pandas as pd\n",
    "import matplotlib.pyplot as plt\n",
    "%load_ext autoreload\n",
    "%autoreload 2"
   ]
  },
  {
   "cell_type": "code",
   "execution_count": 2,
   "outputs": [
    {
     "data": {
      "text/plain": "      mpg   cylinders  cubicinches   hp  weightlbs   time-to-60   year  \\\n0    14.0           8          350  165       4209           12   1972   \n1    31.9           4           89   71       1925           14   1980   \n2    17.0           8          302  140       3449           11   1971   \n3    15.0           8          400  150       3761           10   1971   \n4    30.5           4           98   63       2051           17   1978   \n..    ...         ...          ...  ...        ...          ...    ...   \n256  17.0           8          305  130       3840           15   1980   \n257  36.1           4           91   60       1800           16   1979   \n258  22.0           6          232  112       2835           15   1983   \n259  18.0           6          232  100       3288           16   1972   \n260  22.0           6          250  105       3353           15   1977   \n\n       brand  \n0     Toyota  \n1      Honda  \n2     Toyota  \n3     Toyota  \n4     Toyota  \n..       ...  \n256   Toyota  \n257   Nissan  \n258   Toyota  \n259   Toyota  \n260   Toyota  \n\n[261 rows x 8 columns]",
      "text/html": "<div>\n<style scoped>\n    .dataframe tbody tr th:only-of-type {\n        vertical-align: middle;\n    }\n\n    .dataframe tbody tr th {\n        vertical-align: top;\n    }\n\n    .dataframe thead th {\n        text-align: right;\n    }\n</style>\n<table border=\"1\" class=\"dataframe\">\n  <thead>\n    <tr style=\"text-align: right;\">\n      <th></th>\n      <th>mpg</th>\n      <th>cylinders</th>\n      <th>cubicinches</th>\n      <th>hp</th>\n      <th>weightlbs</th>\n      <th>time-to-60</th>\n      <th>year</th>\n      <th>brand</th>\n    </tr>\n  </thead>\n  <tbody>\n    <tr>\n      <th>0</th>\n      <td>14.0</td>\n      <td>8</td>\n      <td>350</td>\n      <td>165</td>\n      <td>4209</td>\n      <td>12</td>\n      <td>1972</td>\n      <td>Toyota</td>\n    </tr>\n    <tr>\n      <th>1</th>\n      <td>31.9</td>\n      <td>4</td>\n      <td>89</td>\n      <td>71</td>\n      <td>1925</td>\n      <td>14</td>\n      <td>1980</td>\n      <td>Honda</td>\n    </tr>\n    <tr>\n      <th>2</th>\n      <td>17.0</td>\n      <td>8</td>\n      <td>302</td>\n      <td>140</td>\n      <td>3449</td>\n      <td>11</td>\n      <td>1971</td>\n      <td>Toyota</td>\n    </tr>\n    <tr>\n      <th>3</th>\n      <td>15.0</td>\n      <td>8</td>\n      <td>400</td>\n      <td>150</td>\n      <td>3761</td>\n      <td>10</td>\n      <td>1971</td>\n      <td>Toyota</td>\n    </tr>\n    <tr>\n      <th>4</th>\n      <td>30.5</td>\n      <td>4</td>\n      <td>98</td>\n      <td>63</td>\n      <td>2051</td>\n      <td>17</td>\n      <td>1978</td>\n      <td>Toyota</td>\n    </tr>\n    <tr>\n      <th>...</th>\n      <td>...</td>\n      <td>...</td>\n      <td>...</td>\n      <td>...</td>\n      <td>...</td>\n      <td>...</td>\n      <td>...</td>\n      <td>...</td>\n    </tr>\n    <tr>\n      <th>256</th>\n      <td>17.0</td>\n      <td>8</td>\n      <td>305</td>\n      <td>130</td>\n      <td>3840</td>\n      <td>15</td>\n      <td>1980</td>\n      <td>Toyota</td>\n    </tr>\n    <tr>\n      <th>257</th>\n      <td>36.1</td>\n      <td>4</td>\n      <td>91</td>\n      <td>60</td>\n      <td>1800</td>\n      <td>16</td>\n      <td>1979</td>\n      <td>Nissan</td>\n    </tr>\n    <tr>\n      <th>258</th>\n      <td>22.0</td>\n      <td>6</td>\n      <td>232</td>\n      <td>112</td>\n      <td>2835</td>\n      <td>15</td>\n      <td>1983</td>\n      <td>Toyota</td>\n    </tr>\n    <tr>\n      <th>259</th>\n      <td>18.0</td>\n      <td>6</td>\n      <td>232</td>\n      <td>100</td>\n      <td>3288</td>\n      <td>16</td>\n      <td>1972</td>\n      <td>Toyota</td>\n    </tr>\n    <tr>\n      <th>260</th>\n      <td>22.0</td>\n      <td>6</td>\n      <td>250</td>\n      <td>105</td>\n      <td>3353</td>\n      <td>15</td>\n      <td>1977</td>\n      <td>Toyota</td>\n    </tr>\n  </tbody>\n</table>\n<p>261 rows × 8 columns</p>\n</div>"
     },
     "execution_count": 2,
     "metadata": {},
     "output_type": "execute_result"
    }
   ],
   "source": [
    "initial_data = pd.read_csv(\"cars (dataset for k means).csv\")\n",
    "initial_data"
   ],
   "metadata": {
    "collapsed": false,
    "ExecuteTime": {
     "end_time": "2023-07-06T14:56:17.164511Z",
     "start_time": "2023-07-06T14:56:16.935500400Z"
    }
   }
  },
  {
   "cell_type": "code",
   "execution_count": 3,
   "outputs": [
    {
     "data": {
      "text/plain": "      mpg   cylinders  cubicinches   hp  weightlbs   time-to-60   year\n0    14.0           8          350  165       4209           12   1972\n1    31.9           4           89   71       1925           14   1980\n2    17.0           8          302  140       3449           11   1971\n3    15.0           8          400  150       3761           10   1971\n4    30.5           4           98   63       2051           17   1978\n..    ...         ...          ...  ...        ...          ...    ...\n256  17.0           8          305  130       3840           15   1980\n257  36.1           4           91   60       1800           16   1979\n258  22.0           6          232  112       2835           15   1983\n259  18.0           6          232  100       3288           16   1972\n260  22.0           6          250  105       3353           15   1977\n\n[261 rows x 7 columns]",
      "text/html": "<div>\n<style scoped>\n    .dataframe tbody tr th:only-of-type {\n        vertical-align: middle;\n    }\n\n    .dataframe tbody tr th {\n        vertical-align: top;\n    }\n\n    .dataframe thead th {\n        text-align: right;\n    }\n</style>\n<table border=\"1\" class=\"dataframe\">\n  <thead>\n    <tr style=\"text-align: right;\">\n      <th></th>\n      <th>mpg</th>\n      <th>cylinders</th>\n      <th>cubicinches</th>\n      <th>hp</th>\n      <th>weightlbs</th>\n      <th>time-to-60</th>\n      <th>year</th>\n    </tr>\n  </thead>\n  <tbody>\n    <tr>\n      <th>0</th>\n      <td>14.0</td>\n      <td>8</td>\n      <td>350</td>\n      <td>165</td>\n      <td>4209</td>\n      <td>12</td>\n      <td>1972</td>\n    </tr>\n    <tr>\n      <th>1</th>\n      <td>31.9</td>\n      <td>4</td>\n      <td>89</td>\n      <td>71</td>\n      <td>1925</td>\n      <td>14</td>\n      <td>1980</td>\n    </tr>\n    <tr>\n      <th>2</th>\n      <td>17.0</td>\n      <td>8</td>\n      <td>302</td>\n      <td>140</td>\n      <td>3449</td>\n      <td>11</td>\n      <td>1971</td>\n    </tr>\n    <tr>\n      <th>3</th>\n      <td>15.0</td>\n      <td>8</td>\n      <td>400</td>\n      <td>150</td>\n      <td>3761</td>\n      <td>10</td>\n      <td>1971</td>\n    </tr>\n    <tr>\n      <th>4</th>\n      <td>30.5</td>\n      <td>4</td>\n      <td>98</td>\n      <td>63</td>\n      <td>2051</td>\n      <td>17</td>\n      <td>1978</td>\n    </tr>\n    <tr>\n      <th>...</th>\n      <td>...</td>\n      <td>...</td>\n      <td>...</td>\n      <td>...</td>\n      <td>...</td>\n      <td>...</td>\n      <td>...</td>\n    </tr>\n    <tr>\n      <th>256</th>\n      <td>17.0</td>\n      <td>8</td>\n      <td>305</td>\n      <td>130</td>\n      <td>3840</td>\n      <td>15</td>\n      <td>1980</td>\n    </tr>\n    <tr>\n      <th>257</th>\n      <td>36.1</td>\n      <td>4</td>\n      <td>91</td>\n      <td>60</td>\n      <td>1800</td>\n      <td>16</td>\n      <td>1979</td>\n    </tr>\n    <tr>\n      <th>258</th>\n      <td>22.0</td>\n      <td>6</td>\n      <td>232</td>\n      <td>112</td>\n      <td>2835</td>\n      <td>15</td>\n      <td>1983</td>\n    </tr>\n    <tr>\n      <th>259</th>\n      <td>18.0</td>\n      <td>6</td>\n      <td>232</td>\n      <td>100</td>\n      <td>3288</td>\n      <td>16</td>\n      <td>1972</td>\n    </tr>\n    <tr>\n      <th>260</th>\n      <td>22.0</td>\n      <td>6</td>\n      <td>250</td>\n      <td>105</td>\n      <td>3353</td>\n      <td>15</td>\n      <td>1977</td>\n    </tr>\n  </tbody>\n</table>\n<p>261 rows × 7 columns</p>\n</div>"
     },
     "execution_count": 3,
     "metadata": {},
     "output_type": "execute_result"
    }
   ],
   "source": [
    "X = initial_data.drop(\" brand\", axis=\"columns\")\n",
    "X"
   ],
   "metadata": {
    "collapsed": false,
    "ExecuteTime": {
     "end_time": "2023-07-06T14:56:17.310472400Z",
     "start_time": "2023-07-06T14:56:17.166513700Z"
    }
   }
  },
  {
   "cell_type": "code",
   "execution_count": 4,
   "outputs": [
    {
     "name": "stdout",
     "output_type": "stream",
     "text": [
      "<class 'str'>\n",
      "<class 'str'>\n",
      "<class 'str'>\n",
      "<class 'str'>\n",
      "<class 'str'>\n",
      "<class 'str'>\n",
      "<class 'str'>\n",
      "<class 'str'>\n",
      "<class 'str'>\n",
      "<class 'str'>\n",
      "<class 'str'>\n",
      "<class 'str'>\n",
      "<class 'str'>\n",
      "<class 'str'>\n",
      "<class 'str'>\n",
      "<class 'str'>\n",
      "<class 'str'>\n",
      "<class 'str'>\n",
      "<class 'str'>\n",
      "<class 'str'>\n",
      "<class 'str'>\n",
      "<class 'str'>\n",
      "<class 'str'>\n",
      "<class 'str'>\n",
      "<class 'str'>\n",
      "<class 'str'>\n",
      "<class 'str'>\n",
      "<class 'str'>\n",
      "<class 'str'>\n",
      "<class 'str'>\n",
      "<class 'str'>\n",
      "<class 'str'>\n",
      "<class 'str'>\n",
      "<class 'str'>\n",
      "<class 'str'>\n",
      "<class 'str'>\n",
      "<class 'str'>\n",
      "<class 'str'>\n",
      "<class 'str'>\n",
      "<class 'str'>\n",
      "<class 'str'>\n",
      "<class 'str'>\n",
      "<class 'str'>\n",
      "<class 'str'>\n",
      "<class 'str'>\n",
      "<class 'str'>\n",
      "<class 'str'>\n",
      "<class 'str'>\n",
      "<class 'str'>\n",
      "<class 'str'>\n",
      "<class 'str'>\n",
      "<class 'str'>\n",
      "<class 'str'>\n",
      "<class 'str'>\n"
     ]
    }
   ],
   "source": [
    "h = 0\n",
    "hh = 0\n",
    "for i in X.columns:\n",
    "    for j in i:\n",
    "        h += 1\n",
    "        if j == int:\n",
    "            pass\n",
    "        else:\n",
    "            hh += 1\n",
    "            print(type(j))\n"
   ],
   "metadata": {
    "collapsed": false,
    "ExecuteTime": {
     "end_time": "2023-07-06T14:56:17.430189300Z",
     "start_time": "2023-07-06T14:56:17.284442300Z"
    }
   }
  },
  {
   "cell_type": "markdown",
   "source": [
    "# they all are strings\n",
    "# so we need to convert it:"
   ],
   "metadata": {
    "collapsed": false
   }
  },
  {
   "cell_type": "code",
   "execution_count": 5,
   "outputs": [
    {
     "name": "stdout",
     "output_type": "stream",
     "text": [
      "<class 'str'>\n",
      "<class 'str'>\n",
      "<class 'str'>\n",
      "<class 'str'>\n",
      "<class 'str'>\n",
      "<class 'str'>\n",
      "<class 'str'>\n",
      "<class 'str'>\n",
      "<class 'str'>\n",
      "<class 'str'>\n",
      "<class 'str'>\n",
      "<class 'str'>\n",
      "<class 'str'>\n",
      "<class 'str'>\n",
      "<class 'str'>\n",
      "<class 'str'>\n",
      "<class 'str'>\n",
      "<class 'str'>\n",
      "<class 'str'>\n",
      "<class 'str'>\n",
      "<class 'str'>\n",
      "<class 'str'>\n",
      "<class 'str'>\n",
      "<class 'str'>\n",
      "<class 'str'>\n",
      "<class 'str'>\n",
      "<class 'str'>\n",
      "<class 'str'>\n",
      "<class 'str'>\n",
      "<class 'str'>\n",
      "<class 'str'>\n",
      "<class 'str'>\n",
      "<class 'str'>\n",
      "<class 'str'>\n",
      "<class 'str'>\n",
      "<class 'str'>\n",
      "<class 'str'>\n",
      "<class 'str'>\n",
      "<class 'str'>\n",
      "<class 'str'>\n",
      "<class 'str'>\n",
      "<class 'str'>\n",
      "<class 'str'>\n",
      "<class 'str'>\n",
      "<class 'str'>\n",
      "<class 'str'>\n",
      "<class 'str'>\n",
      "<class 'str'>\n",
      "<class 'str'>\n",
      "<class 'str'>\n",
      "<class 'str'>\n",
      "<class 'str'>\n",
      "<class 'str'>\n",
      "<class 'str'>\n",
      "54\n",
      "54\n"
     ]
    }
   ],
   "source": [
    "h = 0\n",
    "hh = 0\n",
    "for i in X.columns:\n",
    "    for j in i:\n",
    "        h += 1\n",
    "        if j == int:\n",
    "            pass\n",
    "        else:\n",
    "            hh += 1\n",
    "            print(type(j))\n",
    "print(h)\n",
    "print(hh)"
   ],
   "metadata": {
    "collapsed": false,
    "ExecuteTime": {
     "end_time": "2023-07-06T14:56:17.509725800Z",
     "start_time": "2023-07-06T14:56:17.395158700Z"
    }
   }
  },
  {
   "cell_type": "markdown",
   "source": [
    "# first raplace all \" \" to nan\n",
    "# retype str to int"
   ],
   "metadata": {
    "collapsed": false
   }
  },
  {
   "cell_type": "code",
   "execution_count": 6,
   "outputs": [
    {
     "ename": "ValueError",
     "evalue": "Must specify a fill 'value' or 'method'.",
     "output_type": "error",
     "traceback": [
      "\u001B[1;31m---------------------------------------------------------------------------\u001B[0m",
      "\u001B[1;31mValueError\u001B[0m                                Traceback (most recent call last)",
      "Cell \u001B[1;32mIn[6], line 3\u001B[0m\n\u001B[0;32m      1\u001B[0m pd\u001B[38;5;241m.\u001B[39mset_option(\u001B[38;5;124m'\u001B[39m\u001B[38;5;124mdisplay.max_columns\u001B[39m\u001B[38;5;124m'\u001B[39m, \u001B[38;5;28;01mNone\u001B[39;00m)\n\u001B[0;32m      2\u001B[0m \u001B[38;5;66;03m# X.replace(np.nan,\" \", regex=True)\u001B[39;00m\n\u001B[1;32m----> 3\u001B[0m \u001B[43mX\u001B[49m\u001B[38;5;241;43m.\u001B[39;49m\u001B[43mfillna\u001B[49m\u001B[43m(\u001B[49m\u001B[43m)\u001B[49m\n\u001B[0;32m      4\u001B[0m X\u001B[38;5;241m.\u001B[39mto_csv(\u001B[38;5;124m\"\u001B[39m\u001B[38;5;124mouttest.csv\u001B[39m\u001B[38;5;124m\"\u001B[39m)\n\u001B[0;32m      5\u001B[0m X\n",
      "File \u001B[1;32mD:\\All Python\\Summer Project\\venv\\Lib\\site-packages\\pandas\\core\\frame.py:5493\u001B[0m, in \u001B[0;36mDataFrame.fillna\u001B[1;34m(self, value, method, axis, inplace, limit, downcast)\u001B[0m\n\u001B[0;32m   5482\u001B[0m \u001B[38;5;129m@doc\u001B[39m(NDFrame\u001B[38;5;241m.\u001B[39mfillna, \u001B[38;5;241m*\u001B[39m\u001B[38;5;241m*\u001B[39m_shared_doc_kwargs)\n\u001B[0;32m   5483\u001B[0m \u001B[38;5;28;01mdef\u001B[39;00m \u001B[38;5;21mfillna\u001B[39m(\n\u001B[0;32m   5484\u001B[0m     \u001B[38;5;28mself\u001B[39m,\n\u001B[1;32m   (...)\u001B[0m\n\u001B[0;32m   5491\u001B[0m     downcast: \u001B[38;5;28mdict\u001B[39m \u001B[38;5;241m|\u001B[39m \u001B[38;5;28;01mNone\u001B[39;00m \u001B[38;5;241m=\u001B[39m \u001B[38;5;28;01mNone\u001B[39;00m,\n\u001B[0;32m   5492\u001B[0m ) \u001B[38;5;241m-\u001B[39m\u001B[38;5;241m>\u001B[39m DataFrame \u001B[38;5;241m|\u001B[39m \u001B[38;5;28;01mNone\u001B[39;00m:\n\u001B[1;32m-> 5493\u001B[0m     \u001B[38;5;28;01mreturn\u001B[39;00m \u001B[38;5;28;43msuper\u001B[39;49m\u001B[43m(\u001B[49m\u001B[43m)\u001B[49m\u001B[38;5;241;43m.\u001B[39;49m\u001B[43mfillna\u001B[49m\u001B[43m(\u001B[49m\n\u001B[0;32m   5494\u001B[0m \u001B[43m        \u001B[49m\u001B[43mvalue\u001B[49m\u001B[38;5;241;43m=\u001B[39;49m\u001B[43mvalue\u001B[49m\u001B[43m,\u001B[49m\n\u001B[0;32m   5495\u001B[0m \u001B[43m        \u001B[49m\u001B[43mmethod\u001B[49m\u001B[38;5;241;43m=\u001B[39;49m\u001B[43mmethod\u001B[49m\u001B[43m,\u001B[49m\n\u001B[0;32m   5496\u001B[0m \u001B[43m        \u001B[49m\u001B[43maxis\u001B[49m\u001B[38;5;241;43m=\u001B[39;49m\u001B[43maxis\u001B[49m\u001B[43m,\u001B[49m\n\u001B[0;32m   5497\u001B[0m \u001B[43m        \u001B[49m\u001B[43minplace\u001B[49m\u001B[38;5;241;43m=\u001B[39;49m\u001B[43minplace\u001B[49m\u001B[43m,\u001B[49m\n\u001B[0;32m   5498\u001B[0m \u001B[43m        \u001B[49m\u001B[43mlimit\u001B[49m\u001B[38;5;241;43m=\u001B[39;49m\u001B[43mlimit\u001B[49m\u001B[43m,\u001B[49m\n\u001B[0;32m   5499\u001B[0m \u001B[43m        \u001B[49m\u001B[43mdowncast\u001B[49m\u001B[38;5;241;43m=\u001B[39;49m\u001B[43mdowncast\u001B[49m\u001B[43m,\u001B[49m\n\u001B[0;32m   5500\u001B[0m \u001B[43m    \u001B[49m\u001B[43m)\u001B[49m\n",
      "File \u001B[1;32mD:\\All Python\\Summer Project\\venv\\Lib\\site-packages\\pandas\\core\\generic.py:6859\u001B[0m, in \u001B[0;36mNDFrame.fillna\u001B[1;34m(self, value, method, axis, inplace, limit, downcast)\u001B[0m\n\u001B[0;32m   6746\u001B[0m \u001B[38;5;250m\u001B[39m\u001B[38;5;124;03m\"\"\"\u001B[39;00m\n\u001B[0;32m   6747\u001B[0m \u001B[38;5;124;03mFill NA/NaN values using the specified method.\u001B[39;00m\n\u001B[0;32m   6748\u001B[0m \n\u001B[1;32m   (...)\u001B[0m\n\u001B[0;32m   6856\u001B[0m \u001B[38;5;124;03mNote that column D is not affected since it is not present in df2.\u001B[39;00m\n\u001B[0;32m   6857\u001B[0m \u001B[38;5;124;03m\"\"\"\u001B[39;00m\n\u001B[0;32m   6858\u001B[0m inplace \u001B[38;5;241m=\u001B[39m validate_bool_kwarg(inplace, \u001B[38;5;124m\"\u001B[39m\u001B[38;5;124minplace\u001B[39m\u001B[38;5;124m\"\u001B[39m)\n\u001B[1;32m-> 6859\u001B[0m value, method \u001B[38;5;241m=\u001B[39m \u001B[43mvalidate_fillna_kwargs\u001B[49m\u001B[43m(\u001B[49m\u001B[43mvalue\u001B[49m\u001B[43m,\u001B[49m\u001B[43m \u001B[49m\u001B[43mmethod\u001B[49m\u001B[43m)\u001B[49m\n\u001B[0;32m   6861\u001B[0m \u001B[38;5;66;03m# set the default here, so functions examining the signaure\u001B[39;00m\n\u001B[0;32m   6862\u001B[0m \u001B[38;5;66;03m# can detect if something was set (e.g. in groupby) (GH9221)\u001B[39;00m\n\u001B[0;32m   6863\u001B[0m \u001B[38;5;28;01mif\u001B[39;00m axis \u001B[38;5;129;01mis\u001B[39;00m \u001B[38;5;28;01mNone\u001B[39;00m:\n",
      "File \u001B[1;32mD:\\All Python\\Summer Project\\venv\\Lib\\site-packages\\pandas\\util\\_validators.py:288\u001B[0m, in \u001B[0;36mvalidate_fillna_kwargs\u001B[1;34m(value, method, validate_scalar_dict_value)\u001B[0m\n\u001B[0;32m    285\u001B[0m \u001B[38;5;28;01mfrom\u001B[39;00m \u001B[38;5;21;01mpandas\u001B[39;00m\u001B[38;5;21;01m.\u001B[39;00m\u001B[38;5;21;01mcore\u001B[39;00m\u001B[38;5;21;01m.\u001B[39;00m\u001B[38;5;21;01mmissing\u001B[39;00m \u001B[38;5;28;01mimport\u001B[39;00m clean_fill_method\n\u001B[0;32m    287\u001B[0m \u001B[38;5;28;01mif\u001B[39;00m value \u001B[38;5;129;01mis\u001B[39;00m \u001B[38;5;28;01mNone\u001B[39;00m \u001B[38;5;129;01mand\u001B[39;00m method \u001B[38;5;129;01mis\u001B[39;00m \u001B[38;5;28;01mNone\u001B[39;00m:\n\u001B[1;32m--> 288\u001B[0m     \u001B[38;5;28;01mraise\u001B[39;00m \u001B[38;5;167;01mValueError\u001B[39;00m(\u001B[38;5;124m\"\u001B[39m\u001B[38;5;124mMust specify a fill \u001B[39m\u001B[38;5;124m'\u001B[39m\u001B[38;5;124mvalue\u001B[39m\u001B[38;5;124m'\u001B[39m\u001B[38;5;124m or \u001B[39m\u001B[38;5;124m'\u001B[39m\u001B[38;5;124mmethod\u001B[39m\u001B[38;5;124m'\u001B[39m\u001B[38;5;124m.\u001B[39m\u001B[38;5;124m\"\u001B[39m)\n\u001B[0;32m    289\u001B[0m \u001B[38;5;28;01mif\u001B[39;00m value \u001B[38;5;129;01mis\u001B[39;00m \u001B[38;5;28;01mNone\u001B[39;00m \u001B[38;5;129;01mand\u001B[39;00m method \u001B[38;5;129;01mis\u001B[39;00m \u001B[38;5;129;01mnot\u001B[39;00m \u001B[38;5;28;01mNone\u001B[39;00m:\n\u001B[0;32m    290\u001B[0m     method \u001B[38;5;241m=\u001B[39m clean_fill_method(method)\n",
      "\u001B[1;31mValueError\u001B[0m: Must specify a fill 'value' or 'method'."
     ]
    }
   ],
   "source": [
    "pd.set_option('display.max_columns', None)\n",
    "# X.replace(np.nan,\" \", regex=True)\n",
    "X.fillna()\n",
    "X.to_csv(\"outtest.csv\")\n",
    "X\n",
    "# for i in X.columns:\n",
    "#     X[i] = pd.to_numeric(X[i])\n",
    "#     X[i].fillna(X[i].mean)"
   ],
   "metadata": {
    "collapsed": false,
    "ExecuteTime": {
     "end_time": "2023-07-06T14:56:18.925006700Z",
     "start_time": "2023-07-06T14:56:17.501696200Z"
    }
   }
  },
  {
   "cell_type": "code",
   "execution_count": null,
   "outputs": [],
   "source": [
    "datatest = pd.read_csv(\"outtest2.csv\", index_col=0)\n",
    "datatest"
   ],
   "metadata": {
    "collapsed": false
   }
  },
  {
   "cell_type": "code",
   "execution_count": null,
   "outputs": [],
   "source": [
    "y = 0\n",
    "x = 0\n",
    "print(type(datatest.iloc[y, x]))\n",
    "print(datatest.iloc[y, x])"
   ],
   "metadata": {
    "collapsed": false
   }
  },
  {
   "cell_type": "code",
   "execution_count": null,
   "outputs": [],
   "source": [
    "datatest.fillna(1000, inplace=True)\n",
    "datatest\n"
   ],
   "metadata": {
    "collapsed": false
   }
  },
  {
   "cell_type": "code",
   "execution_count": null,
   "outputs": [],
   "source": [
    "datatest.replace(to_replace=\" \", value=1000, inplace=True)\n",
    "datatest"
   ],
   "metadata": {
    "collapsed": false
   }
  },
  {
   "cell_type": "markdown",
   "source": [
    "print(hh)\n",
    "# first raplace all \" \" to nan\n",
    "# retype str to int"
   ],
   "metadata": {
    "collapsed": false
   }
  },
  {
   "cell_type": "code",
   "execution_count": 7,
   "outputs": [
    {
     "name": "stdout",
     "output_type": "stream",
     "text": [
      "      mpg   cylinders  cubicinches   hp  weightlbs   time-to-60   year\n",
      "0    14.0           8          350  165       4209           12   1972\n",
      "1    31.9           4           89   71       1925           14   1980\n",
      "2    17.0           8          302  140       3449           11   1971\n",
      "3    15.0           8          400  150       3761           10   1971\n",
      "4    30.5           4           98   63       2051           17   1978\n",
      "..    ...         ...          ...  ...        ...          ...    ...\n",
      "256  17.0           8          305  130       3840           15   1980\n",
      "257  36.1           4           91   60       1800           16   1979\n",
      "258  22.0           6          232  112       2835           15   1983\n",
      "259  18.0           6          232  100       3288           16   1972\n",
      "260  22.0           6          250  105       3353           15   1977\n",
      "\n",
      "[261 rows x 7 columns]\n"
     ]
    }
   ],
   "source": [
    "initial_data = pd.read_csv(\"cars (dataset for k means).csv\")\n",
    "X = initial_data.drop([' brand'], axis=\"columns\")\n",
    "print(X)\n",
    "\n",
    "X.replace(to_replace=\" \", value=0, inplace=True)\n",
    "X = X.astype(int)\n",
    "X.replace(to_replace=0, value=np.NaN, inplace=True)\n",
    "# X.to_csv(\"outtest.csv\")\n",
    "\n",
    "for i in X.columns:\n",
    "    X[i].fillna(X[i].mean(), inplace=True)"
   ],
   "metadata": {
    "collapsed": false,
    "ExecuteTime": {
     "end_time": "2023-07-06T14:56:20.349211200Z",
     "start_time": "2023-07-06T14:56:20.243426400Z"
    }
   }
  },
  {
   "cell_type": "code",
   "execution_count": 8,
   "outputs": [],
   "source": [
    "# print(X)\n",
    "# print(X.isnull().sum())\n",
    "# print((X==\"nan\").sum())  # doesn't work\n",
    "# X==\"\"\n",
    "# print(X.iloc[14,4])\n",
    "# print(type(X.iloc[14,4]))"
   ],
   "metadata": {
    "collapsed": false,
    "ExecuteTime": {
     "end_time": "2023-07-06T14:56:21.064661100Z",
     "start_time": "2023-07-06T14:56:20.964936500Z"
    }
   }
  },
  {
   "cell_type": "code",
   "execution_count": 9,
   "outputs": [
    {
     "data": {
      "text/plain": "<Figure size 640x480 with 1 Axes>",
      "image/png": "[encoded data removed]"
     },
     "metadata": {},
     "output_type": "display_data"
    }
   ],
   "source": [
    "from sklearn.cluster import KMeans\n",
    "\n",
    "wcss = []\n",
    "\n",
    "for i in range(1, 11):\n",
    "    kmeans = KMeans(n_clusters=i, init=\"k-means++\", max_iter=300, n_init=10, random_state=0)\n",
    "    kmeans.fit(X)\n",
    "    wcss.append(kmeans.inertia_)\n",
    "\n",
    "plt.plot(range(1, 11), wcss)\n",
    "plt.ylabel(\"wcss\")\n",
    "plt.xlabel(\"number of cluster\")\n",
    "plt.title(\"The Elbow Method\")\n",
    "plt.show()"
   ],
   "metadata": {
    "collapsed": false,
    "ExecuteTime": {
     "end_time": "2023-07-06T14:56:23.091150600Z",
     "start_time": "2023-07-06T14:56:21.429685100Z"
    }
   }
  },
  {
   "cell_type": "code",
   "execution_count": 10,
   "outputs": [
    {
     "name": "stdout",
     "output_type": "stream",
     "text": [
      "     mpg   cylinders   cubicinches   hp   weightlbs   time-to-60   year\n",
      "0     14           8         350.0  165      4209.0           12   1972\n",
      "1     31           4          89.0   71      1925.0           14   1980\n",
      "2     17           8         302.0  140      3449.0           11   1971\n",
      "3     15           8         400.0  150      3761.0           10   1971\n",
      "4     30           4          98.0   63      2051.0           17   1978\n",
      "..   ...         ...           ...  ...         ...          ...    ...\n",
      "256   17           8         305.0  130      3840.0           15   1980\n",
      "257   36           4          91.0   60      1800.0           16   1979\n",
      "258   22           6         232.0  112      2835.0           15   1983\n",
      "259   18           6         232.0  100      3288.0           16   1972\n",
      "260   22           6         250.0  105      3353.0           15   1977\n",
      "\n",
      "[261 rows x 7 columns]\n",
      "     mpg   cylinders   cubicinches   hp   weightlbs   time-to-60   year  type  \\\n",
      "0     14           8         350.0  165      4209.0           12   1972     2   \n",
      "1     31           4          89.0   71      1925.0           14   1980     0   \n",
      "2     17           8         302.0  140      3449.0           11   1971     1   \n",
      "3     15           8         400.0  150      3761.0           10   1971     2   \n",
      "4     30           4          98.0   63      2051.0           17   1978     0   \n",
      "..   ...         ...           ...  ...         ...          ...    ...   ...   \n",
      "256   17           8         305.0  130      3840.0           15   1980     2   \n",
      "257   36           4          91.0   60      1800.0           16   1979     0   \n",
      "258   22           6         232.0  112      2835.0           15   1983     1   \n",
      "259   18           6         232.0  100      3288.0           16   1972     1   \n",
      "260   22           6         250.0  105      3353.0           15   1977     1   \n",
      "\n",
      "       name  \n",
      "0     Honda  \n",
      "1    Toyota  \n",
      "2    Nissan  \n",
      "3     Honda  \n",
      "4    Toyota  \n",
      "..      ...  \n",
      "256   Honda  \n",
      "257  Toyota  \n",
      "258  Nissan  \n",
      "259  Nissan  \n",
      "260  Nissan  \n",
      "\n",
      "[261 rows x 9 columns]\n"
     ]
    }
   ],
   "source": [
    "model = KMeans(n_clusters=3, init=\"k-means++\", max_iter=300, n_init=10, random_state=0)\n",
    "y_predict = model.fit_predict(X)\n",
    "print(X)\n",
    "X[\"type\"] = y_predict\n",
    "\n",
    "\n",
    "def ap(x):\n",
    "    if x == 0:\n",
    "        return \"Toyota\"\n",
    "    if x == 1:\n",
    "        return \"Nissan\"\n",
    "    if x == 2:\n",
    "        return \"Honda\"\n",
    "\n",
    "\n",
    "X[\"name\"] = X.type.apply(lambda x:ap(x))\n",
    "print(X)"
   ],
   "metadata": {
    "collapsed": false,
    "ExecuteTime": {
     "end_time": "2023-07-06T14:56:23.777581600Z",
     "start_time": "2023-07-06T14:56:23.597521Z"
    }
   }
  },
  {
   "cell_type": "markdown",
   "source": [
    "# compar with hp and weight"
   ],
   "metadata": {
    "collapsed": false
   }
  },
  {
   "cell_type": "code",
   "execution_count": 11,
   "outputs": [
    {
     "name": "stdout",
     "output_type": "stream",
     "text": [
      "1      31\n",
      "4      30\n",
      "9      37\n",
      "10     34\n",
      "11     34\n",
      "       ..\n",
      "249    29\n",
      "250    32\n",
      "251    24\n",
      "255    24\n",
      "257    36\n",
      "Name: mpg, Length: 118, dtype: int32\n"
     ]
    },
    {
     "data": {
      "text/plain": "<Figure size 640x480 with 1 Axes>",
      "image/png": "[encoded data removed]"
     },
     "metadata": {},
     "output_type": "display_data"
    }
   ],
   "source": [
    "plt.scatter(X[X[\"name\"]==\"Toyota\"].iloc[:,3], X[X[\"name\"]==\"Toyota\"].iloc[:,4], marker=\"o\", color=\"yellow\", label=\"Toyota\")\n",
    "plt.scatter(X[X[\"name\"]==\"Nissan\"].iloc[:,3], X[X[\"name\"]==\"Nissan\"].iloc[:,4], marker=\"o\", color=\"black\", label=\"Nissan\")\n",
    "plt.scatter(X[X[\"name\"]==\"Honda\"].iloc[:,3], X[X[\"name\"]==\"Honda\"].iloc[:,4], marker=\"o\", color=\"blue\", label=\"Honda\")\n",
    "plt.scatter(model.cluster_centers_[:,3], model.cluster_centers_[:,4], marker=\"o\", color=\"Red\", label=\"centers\")\n",
    "plt.legend()\n",
    "plt.title(\"Cluster for cars\")\n",
    "print(X[X[\"name\"]==\"Toyota\"].iloc[:,0])"
   ],
   "metadata": {
    "collapsed": false,
    "ExecuteTime": {
     "end_time": "2023-07-06T14:56:25.309377900Z",
     "start_time": "2023-07-06T14:56:24.830685900Z"
    }
   }
  },
  {
   "cell_type": "markdown",
   "source": [
    "# compare mpg and cylandrs"
   ],
   "metadata": {
    "collapsed": false
   }
  },
  {
   "cell_type": "code",
   "execution_count": 12,
   "outputs": [
    {
     "name": "stdout",
     "output_type": "stream",
     "text": [
      "1      31\n",
      "4      30\n",
      "9      37\n",
      "10     34\n",
      "11     34\n",
      "       ..\n",
      "249    29\n",
      "250    32\n",
      "251    24\n",
      "255    24\n",
      "257    36\n",
      "Name: mpg, Length: 118, dtype: int32\n"
     ]
    },
    {
     "data": {
      "text/plain": "<Figure size 640x480 with 1 Axes>",
      "image/png": "[encoded data removed]"
     },
     "metadata": {},
     "output_type": "display_data"
    }
   ],
   "source": [
    "plt.scatter(X[X[\"name\"]==\"Toyota\"].iloc[:,0], X[X[\"name\"]==\"Toyota\"].iloc[:,1], marker=\"o\", color=\"yellow\", label=\"Toyota\")\n",
    "plt.scatter(X[X[\"name\"]==\"Nissan\"].iloc[:,0], X[X[\"name\"]==\"Nissan\"].iloc[:,1], marker=\"o\", color=\"black\", label=\"Nissan\")\n",
    "\n",
    "plt.scatter(X[X[\"name\"]==\"Honda\"].iloc[:,0], X[X[\"name\"]==\"Honda\"].iloc[:,1], marker=\"o\", color=\"blue\", label=\"Honda\")\n",
    "plt.scatter(model.cluster_centers_[:,0], model.cluster_centers_[:,1], marker=\"o\", color=\"Red\", label=\"centers\")\n",
    "plt.legend()\n",
    "plt.title(\"Cluster for cars\")\n",
    "print(X[X[\"name\"]==\"Toyota\"].iloc[:,0])"
   ],
   "metadata": {
    "collapsed": false,
    "ExecuteTime": {
     "end_time": "2023-07-06T14:56:27.115724700Z",
     "start_time": "2023-07-06T14:56:26.751355Z"
    }
   }
  },
  {
   "cell_type": "code",
   "execution_count": 13,
   "outputs": [
    {
     "name": "stdout",
     "output_type": "stream",
     "text": [
      "      mpg   cylinders  cubicinches     hp  weightlbs   time-to-60    year\n",
      "0    14.0         8.0        350.0  165.0     4209.0         12.0  1972.0\n",
      "1    31.9         4.0         89.0   71.0     1925.0         14.0  1980.0\n",
      "2    17.0         8.0        302.0  140.0     3449.0         11.0  1971.0\n",
      "3    15.0         8.0        400.0  150.0     3761.0         10.0  1971.0\n",
      "4    30.5         4.0         98.0   63.0     2051.0         17.0  1978.0\n",
      "..    ...         ...          ...    ...        ...          ...     ...\n",
      "256  17.0         8.0        305.0  130.0     3840.0         15.0  1980.0\n",
      "257  36.1         4.0         91.0   60.0     1800.0         16.0  1979.0\n",
      "258  22.0         6.0        232.0  112.0     2835.0         15.0  1983.0\n",
      "259  18.0         6.0        232.0  100.0     3288.0         16.0  1972.0\n",
      "260  22.0         6.0        250.0  105.0     3353.0         15.0  1977.0\n",
      "\n",
      "[256 rows x 7 columns]\n"
     ]
    }
   ],
   "source": [
    "import ML_toolkit as ml\n",
    "X = pd.read_csv(\"cars (dataset for k means).csv\")\n",
    "X.drop(\" brand\", inplace=True, axis=1)\n",
    "X.replace(\" \", 0, inplace=True)\n",
    "X = X.astype(float)\n",
    "X.replace(0, pd.NA, inplace=True)\n",
    "X.dropna(inplace=True)\n",
    "print(X)"
   ],
   "metadata": {
    "collapsed": false,
    "ExecuteTime": {
     "end_time": "2023-07-06T14:56:28.244950500Z",
     "start_time": "2023-07-06T14:56:28.085554200Z"
    }
   }
  },
  {
   "cell_type": "code",
   "execution_count": 19,
   "outputs": [
    {
     "data": {
      "text/plain": "          mpg  cylinders  cubicinches        hp  weightlbs  time-to-60  year\n0    1.983607       10.0     7.545455  6.820652   7.904255    3.117647  1.75\n1    6.385246        2.8     1.444156  2.222826   1.829787    4.176471  7.75\n2    2.721311       10.0     6.423377  5.597826   5.882979    2.588235   1.0\n3    2.229508       10.0     8.714286  6.086957   6.712766    2.058824   1.0\n4    6.040984        2.8     1.654545  1.831522   2.164894    5.764706  6.25\n..        ...        ...          ...       ...        ...         ...   ...\n256  2.721311       10.0     6.493506  5.108696   6.922872    4.705882  7.75\n257  7.418033        2.8     1.490909  1.684783    1.49734    5.235294   7.0\n258   3.95082        6.4     4.787013  4.228261       4.25    4.705882  10.0\n259  2.967213        6.4     4.787013  3.641304   5.454787    5.235294  1.75\n260   3.95082        6.4     5.207792   3.88587    5.62766    4.705882   5.5\n\n[256 rows x 7 columns]",
      "text/html": "<div>\n<style scoped>\n    .dataframe tbody tr th:only-of-type {\n        vertical-align: middle;\n    }\n\n    .dataframe tbody tr th {\n        vertical-align: top;\n    }\n\n    .dataframe thead th {\n        text-align: right;\n    }\n</style>\n<table border=\"1\" class=\"dataframe\">\n  <thead>\n    <tr style=\"text-align: right;\">\n      <th></th>\n      <th>mpg</th>\n      <th>cylinders</th>\n      <th>cubicinches</th>\n      <th>hp</th>\n      <th>weightlbs</th>\n      <th>time-to-60</th>\n      <th>year</th>\n    </tr>\n  </thead>\n  <tbody>\n    <tr>\n      <th>0</th>\n      <td>1.983607</td>\n      <td>10.0</td>\n      <td>7.545455</td>\n      <td>6.820652</td>\n      <td>7.904255</td>\n      <td>3.117647</td>\n      <td>1.75</td>\n    </tr>\n    <tr>\n      <th>1</th>\n      <td>6.385246</td>\n      <td>2.8</td>\n      <td>1.444156</td>\n      <td>2.222826</td>\n      <td>1.829787</td>\n      <td>4.176471</td>\n      <td>7.75</td>\n    </tr>\n    <tr>\n      <th>2</th>\n      <td>2.721311</td>\n      <td>10.0</td>\n      <td>6.423377</td>\n      <td>5.597826</td>\n      <td>5.882979</td>\n      <td>2.588235</td>\n      <td>1.0</td>\n    </tr>\n    <tr>\n      <th>3</th>\n      <td>2.229508</td>\n      <td>10.0</td>\n      <td>8.714286</td>\n      <td>6.086957</td>\n      <td>6.712766</td>\n      <td>2.058824</td>\n      <td>1.0</td>\n    </tr>\n    <tr>\n      <th>4</th>\n      <td>6.040984</td>\n      <td>2.8</td>\n      <td>1.654545</td>\n      <td>1.831522</td>\n      <td>2.164894</td>\n      <td>5.764706</td>\n      <td>6.25</td>\n    </tr>\n    <tr>\n      <th>...</th>\n      <td>...</td>\n      <td>...</td>\n      <td>...</td>\n      <td>...</td>\n      <td>...</td>\n      <td>...</td>\n      <td>...</td>\n    </tr>\n    <tr>\n      <th>256</th>\n      <td>2.721311</td>\n      <td>10.0</td>\n      <td>6.493506</td>\n      <td>5.108696</td>\n      <td>6.922872</td>\n      <td>4.705882</td>\n      <td>7.75</td>\n    </tr>\n    <tr>\n      <th>257</th>\n      <td>7.418033</td>\n      <td>2.8</td>\n      <td>1.490909</td>\n      <td>1.684783</td>\n      <td>1.49734</td>\n      <td>5.235294</td>\n      <td>7.0</td>\n    </tr>\n    <tr>\n      <th>258</th>\n      <td>3.95082</td>\n      <td>6.4</td>\n      <td>4.787013</td>\n      <td>4.228261</td>\n      <td>4.25</td>\n      <td>4.705882</td>\n      <td>10.0</td>\n    </tr>\n    <tr>\n      <th>259</th>\n      <td>2.967213</td>\n      <td>6.4</td>\n      <td>4.787013</td>\n      <td>3.641304</td>\n      <td>5.454787</td>\n      <td>5.235294</td>\n      <td>1.75</td>\n    </tr>\n    <tr>\n      <th>260</th>\n      <td>3.95082</td>\n      <td>6.4</td>\n      <td>5.207792</td>\n      <td>3.88587</td>\n      <td>5.62766</td>\n      <td>4.705882</td>\n      <td>5.5</td>\n    </tr>\n  </tbody>\n</table>\n<p>256 rows × 7 columns</p>\n</div>"
     },
     "execution_count": 19,
     "metadata": {},
     "output_type": "execute_result"
    }
   ],
   "source": [
    "X = ml.scale_data(X)\n",
    "X"
   ],
   "metadata": {
    "collapsed": false,
    "ExecuteTime": {
     "end_time": "2023-07-06T14:57:27.727703200Z",
     "start_time": "2023-07-06T14:57:27.492989700Z"
    }
   }
  },
  {
   "cell_type": "code",
   "execution_count": 15,
   "outputs": [
    {
     "name": "stderr",
     "output_type": "stream",
     "text": [
      "D:\\All Python\\Summer Project\\00-Learn\\02-Machin Learning\\04-K-means\\ML_toolkit.py:27: FutureWarning: Calling float on a single element Series is deprecated and will raise a TypeError in the future. Use float(ser.iloc[0]) instead\n",
      "  centroid = self.data.apply(lambda x: float(x.sample()))\n"
     ]
    },
    {
     "ename": "TypeError",
     "evalue": "loop of ufunc does not support argument 0 of type numpy.float64 which has no callable sqrt method",
     "output_type": "error",
     "traceback": [
      "\u001B[1;31m---------------------------------------------------------------------------\u001B[0m",
      "\u001B[1;31mAttributeError\u001B[0m                            Traceback (most recent call last)",
      "\u001B[1;31mAttributeError\u001B[0m: 'numpy.float64' object has no attribute 'sqrt'",
      "\nThe above exception was the direct cause of the following exception:\n",
      "\u001B[1;31mTypeError\u001B[0m                                 Traceback (most recent call last)",
      "Cell \u001B[1;32mIn[15], line 2\u001B[0m\n\u001B[0;32m      1\u001B[0m model \u001B[38;5;241m=\u001B[39m ml\u001B[38;5;241m.\u001B[39mK_means(X, \u001B[38;5;241m2\u001B[39m, \u001B[38;5;241m100\u001B[39m)\n\u001B[1;32m----> 2\u001B[0m \u001B[43mmodel\u001B[49m\u001B[38;5;241;43m.\u001B[39;49m\u001B[43mkmeans\u001B[49m\u001B[43m(\u001B[49m\u001B[43m)\u001B[49m\n",
      "File \u001B[1;32mD:\\All Python\\Summer Project\\00-Learn\\02-Machin Learning\\04-K-means\\ML_toolkit.py:19\u001B[0m, in \u001B[0;36mK_means.kmeans\u001B[1;34m(self, iteration)\u001B[0m\n\u001B[0;32m     17\u001B[0m \u001B[38;5;28;01mwhile\u001B[39;00m iteration \u001B[38;5;241m<\u001B[39m \u001B[38;5;28mself\u001B[39m\u001B[38;5;241m.\u001B[39mmax_iteration \u001B[38;5;129;01mand\u001B[39;00m \u001B[38;5;129;01mnot\u001B[39;00m centroids\u001B[38;5;241m.\u001B[39mequals(old_centroid):\n\u001B[0;32m     18\u001B[0m     old_centroid \u001B[38;5;241m=\u001B[39m centroids\n\u001B[1;32m---> 19\u001B[0m     labels \u001B[38;5;241m=\u001B[39m \u001B[38;5;28;43mself\u001B[39;49m\u001B[38;5;241;43m.\u001B[39;49m\u001B[43mget_labels\u001B[49m\u001B[43m(\u001B[49m\u001B[43mcentroids\u001B[49m\u001B[43m)\u001B[49m\n\u001B[0;32m     20\u001B[0m     centroids \u001B[38;5;241m=\u001B[39m \u001B[38;5;28mself\u001B[39m\u001B[38;5;241m.\u001B[39mnew_centroid(labels)\n\u001B[0;32m     21\u001B[0m     \u001B[38;5;28mself\u001B[39m\u001B[38;5;241m.\u001B[39mplot_clusters(labels, centroids, iteration)\n",
      "File \u001B[1;32mD:\\All Python\\Summer Project\\00-Learn\\02-Machin Learning\\04-K-means\\ML_toolkit.py:32\u001B[0m, in \u001B[0;36mK_means.get_labels\u001B[1;34m(self, centroids)\u001B[0m\n\u001B[0;32m     31\u001B[0m \u001B[38;5;28;01mdef\u001B[39;00m \u001B[38;5;21mget_labels\u001B[39m(\u001B[38;5;28mself\u001B[39m, centroids: pd\u001B[38;5;241m.\u001B[39mDataFrame) \u001B[38;5;241m-\u001B[39m\u001B[38;5;241m>\u001B[39m pd\u001B[38;5;241m.\u001B[39mDataFrame:\n\u001B[1;32m---> 32\u001B[0m     distance \u001B[38;5;241m=\u001B[39m \u001B[43mcentroids\u001B[49m\u001B[38;5;241;43m.\u001B[39;49m\u001B[43mapply\u001B[49m\u001B[43m(\u001B[49m\u001B[38;5;28;43;01mlambda\u001B[39;49;00m\u001B[43m \u001B[49m\u001B[43mx\u001B[49m\u001B[43m:\u001B[49m\u001B[43m \u001B[49m\u001B[43mnp\u001B[49m\u001B[38;5;241;43m.\u001B[39;49m\u001B[43msqrt\u001B[49m\u001B[43m(\u001B[49m\u001B[43m(\u001B[49m\u001B[43m(\u001B[49m\u001B[38;5;28;43mself\u001B[39;49m\u001B[38;5;241;43m.\u001B[39;49m\u001B[43mdata\u001B[49m\u001B[43m \u001B[49m\u001B[38;5;241;43m-\u001B[39;49m\u001B[43m \u001B[49m\u001B[43mx\u001B[49m\u001B[43m)\u001B[49m\u001B[43m \u001B[49m\u001B[38;5;241;43m*\u001B[39;49m\u001B[38;5;241;43m*\u001B[39;49m\u001B[43m \u001B[49m\u001B[38;5;241;43m2\u001B[39;49m\u001B[43m)\u001B[49m\u001B[38;5;241;43m.\u001B[39;49m\u001B[43msum\u001B[49m\u001B[43m(\u001B[49m\u001B[43maxis\u001B[49m\u001B[38;5;241;43m=\u001B[39;49m\u001B[38;5;241;43m1\u001B[39;49m\u001B[43m)\u001B[49m\u001B[43m)\u001B[49m\u001B[43m)\u001B[49m\n\u001B[0;32m     33\u001B[0m     \u001B[38;5;28;01mreturn\u001B[39;00m distance\u001B[38;5;241m.\u001B[39midxmin(axis\u001B[38;5;241m=\u001B[39m\u001B[38;5;241m1\u001B[39m)\n",
      "File \u001B[1;32mD:\\All Python\\Summer Project\\venv\\Lib\\site-packages\\pandas\\core\\frame.py:9423\u001B[0m, in \u001B[0;36mDataFrame.apply\u001B[1;34m(self, func, axis, raw, result_type, args, **kwargs)\u001B[0m\n\u001B[0;32m   9412\u001B[0m \u001B[38;5;28;01mfrom\u001B[39;00m \u001B[38;5;21;01mpandas\u001B[39;00m\u001B[38;5;21;01m.\u001B[39;00m\u001B[38;5;21;01mcore\u001B[39;00m\u001B[38;5;21;01m.\u001B[39;00m\u001B[38;5;21;01mapply\u001B[39;00m \u001B[38;5;28;01mimport\u001B[39;00m frame_apply\n\u001B[0;32m   9414\u001B[0m op \u001B[38;5;241m=\u001B[39m frame_apply(\n\u001B[0;32m   9415\u001B[0m     \u001B[38;5;28mself\u001B[39m,\n\u001B[0;32m   9416\u001B[0m     func\u001B[38;5;241m=\u001B[39mfunc,\n\u001B[1;32m   (...)\u001B[0m\n\u001B[0;32m   9421\u001B[0m     kwargs\u001B[38;5;241m=\u001B[39mkwargs,\n\u001B[0;32m   9422\u001B[0m )\n\u001B[1;32m-> 9423\u001B[0m \u001B[38;5;28;01mreturn\u001B[39;00m \u001B[43mop\u001B[49m\u001B[38;5;241;43m.\u001B[39;49m\u001B[43mapply\u001B[49m\u001B[43m(\u001B[49m\u001B[43m)\u001B[49m\u001B[38;5;241m.\u001B[39m__finalize__(\u001B[38;5;28mself\u001B[39m, method\u001B[38;5;241m=\u001B[39m\u001B[38;5;124m\"\u001B[39m\u001B[38;5;124mapply\u001B[39m\u001B[38;5;124m\"\u001B[39m)\n",
      "File \u001B[1;32mD:\\All Python\\Summer Project\\venv\\Lib\\site-packages\\pandas\\core\\apply.py:678\u001B[0m, in \u001B[0;36mFrameApply.apply\u001B[1;34m(self)\u001B[0m\n\u001B[0;32m    675\u001B[0m \u001B[38;5;28;01melif\u001B[39;00m \u001B[38;5;28mself\u001B[39m\u001B[38;5;241m.\u001B[39mraw:\n\u001B[0;32m    676\u001B[0m     \u001B[38;5;28;01mreturn\u001B[39;00m \u001B[38;5;28mself\u001B[39m\u001B[38;5;241m.\u001B[39mapply_raw()\n\u001B[1;32m--> 678\u001B[0m \u001B[38;5;28;01mreturn\u001B[39;00m \u001B[38;5;28;43mself\u001B[39;49m\u001B[38;5;241;43m.\u001B[39;49m\u001B[43mapply_standard\u001B[49m\u001B[43m(\u001B[49m\u001B[43m)\u001B[49m\n",
      "File \u001B[1;32mD:\\All Python\\Summer Project\\venv\\Lib\\site-packages\\pandas\\core\\apply.py:798\u001B[0m, in \u001B[0;36mFrameApply.apply_standard\u001B[1;34m(self)\u001B[0m\n\u001B[0;32m    797\u001B[0m \u001B[38;5;28;01mdef\u001B[39;00m \u001B[38;5;21mapply_standard\u001B[39m(\u001B[38;5;28mself\u001B[39m):\n\u001B[1;32m--> 798\u001B[0m     results, res_index \u001B[38;5;241m=\u001B[39m \u001B[38;5;28;43mself\u001B[39;49m\u001B[38;5;241;43m.\u001B[39;49m\u001B[43mapply_series_generator\u001B[49m\u001B[43m(\u001B[49m\u001B[43m)\u001B[49m\n\u001B[0;32m    800\u001B[0m     \u001B[38;5;66;03m# wrap results\u001B[39;00m\n\u001B[0;32m    801\u001B[0m     \u001B[38;5;28;01mreturn\u001B[39;00m \u001B[38;5;28mself\u001B[39m\u001B[38;5;241m.\u001B[39mwrap_results(results, res_index)\n",
      "File \u001B[1;32mD:\\All Python\\Summer Project\\venv\\Lib\\site-packages\\pandas\\core\\apply.py:814\u001B[0m, in \u001B[0;36mFrameApply.apply_series_generator\u001B[1;34m(self)\u001B[0m\n\u001B[0;32m    811\u001B[0m \u001B[38;5;28;01mwith\u001B[39;00m option_context(\u001B[38;5;124m\"\u001B[39m\u001B[38;5;124mmode.chained_assignment\u001B[39m\u001B[38;5;124m\"\u001B[39m, \u001B[38;5;28;01mNone\u001B[39;00m):\n\u001B[0;32m    812\u001B[0m     \u001B[38;5;28;01mfor\u001B[39;00m i, v \u001B[38;5;129;01min\u001B[39;00m \u001B[38;5;28menumerate\u001B[39m(series_gen):\n\u001B[0;32m    813\u001B[0m         \u001B[38;5;66;03m# ignore SettingWithCopy here in case the user mutates\u001B[39;00m\n\u001B[1;32m--> 814\u001B[0m         results[i] \u001B[38;5;241m=\u001B[39m \u001B[38;5;28;43mself\u001B[39;49m\u001B[38;5;241;43m.\u001B[39;49m\u001B[43mf\u001B[49m\u001B[43m(\u001B[49m\u001B[43mv\u001B[49m\u001B[43m)\u001B[49m\n\u001B[0;32m    815\u001B[0m         \u001B[38;5;28;01mif\u001B[39;00m \u001B[38;5;28misinstance\u001B[39m(results[i], ABCSeries):\n\u001B[0;32m    816\u001B[0m             \u001B[38;5;66;03m# If we have a view on v, we need to make a copy because\u001B[39;00m\n\u001B[0;32m    817\u001B[0m             \u001B[38;5;66;03m#  series_generator will swap out the underlying data\u001B[39;00m\n\u001B[0;32m    818\u001B[0m             results[i] \u001B[38;5;241m=\u001B[39m results[i]\u001B[38;5;241m.\u001B[39mcopy(deep\u001B[38;5;241m=\u001B[39m\u001B[38;5;28;01mFalse\u001B[39;00m)\n",
      "File \u001B[1;32mD:\\All Python\\Summer Project\\00-Learn\\02-Machin Learning\\04-K-means\\ML_toolkit.py:32\u001B[0m, in \u001B[0;36mK_means.get_labels.<locals>.<lambda>\u001B[1;34m(x)\u001B[0m\n\u001B[0;32m     31\u001B[0m \u001B[38;5;28;01mdef\u001B[39;00m \u001B[38;5;21mget_labels\u001B[39m(\u001B[38;5;28mself\u001B[39m, centroids: pd\u001B[38;5;241m.\u001B[39mDataFrame) \u001B[38;5;241m-\u001B[39m\u001B[38;5;241m>\u001B[39m pd\u001B[38;5;241m.\u001B[39mDataFrame:\n\u001B[1;32m---> 32\u001B[0m     distance \u001B[38;5;241m=\u001B[39m centroids\u001B[38;5;241m.\u001B[39mapply(\u001B[38;5;28;01mlambda\u001B[39;00m x: \u001B[43mnp\u001B[49m\u001B[38;5;241;43m.\u001B[39;49m\u001B[43msqrt\u001B[49m\u001B[43m(\u001B[49m\u001B[43m(\u001B[49m\u001B[43m(\u001B[49m\u001B[38;5;28;43mself\u001B[39;49m\u001B[38;5;241;43m.\u001B[39;49m\u001B[43mdata\u001B[49m\u001B[43m \u001B[49m\u001B[38;5;241;43m-\u001B[39;49m\u001B[43m \u001B[49m\u001B[43mx\u001B[49m\u001B[43m)\u001B[49m\u001B[43m \u001B[49m\u001B[38;5;241;43m*\u001B[39;49m\u001B[38;5;241;43m*\u001B[39;49m\u001B[43m \u001B[49m\u001B[38;5;241;43m2\u001B[39;49m\u001B[43m)\u001B[49m\u001B[38;5;241;43m.\u001B[39;49m\u001B[43msum\u001B[49m\u001B[43m(\u001B[49m\u001B[43maxis\u001B[49m\u001B[38;5;241;43m=\u001B[39;49m\u001B[38;5;241;43m1\u001B[39;49m\u001B[43m)\u001B[49m\u001B[43m)\u001B[49m)\n\u001B[0;32m     33\u001B[0m     \u001B[38;5;28;01mreturn\u001B[39;00m distance\u001B[38;5;241m.\u001B[39midxmin(axis\u001B[38;5;241m=\u001B[39m\u001B[38;5;241m1\u001B[39m)\n",
      "File \u001B[1;32mD:\\All Python\\Summer Project\\venv\\Lib\\site-packages\\pandas\\core\\generic.py:2016\u001B[0m, in \u001B[0;36mNDFrame.__array_ufunc__\u001B[1;34m(self, ufunc, method, *inputs, **kwargs)\u001B[0m\n\u001B[0;32m   2012\u001B[0m \u001B[38;5;129m@final\u001B[39m\n\u001B[0;32m   2013\u001B[0m \u001B[38;5;28;01mdef\u001B[39;00m \u001B[38;5;21m__array_ufunc__\u001B[39m(\n\u001B[0;32m   2014\u001B[0m     \u001B[38;5;28mself\u001B[39m, ufunc: np\u001B[38;5;241m.\u001B[39mufunc, method: \u001B[38;5;28mstr\u001B[39m, \u001B[38;5;241m*\u001B[39minputs: Any, \u001B[38;5;241m*\u001B[39m\u001B[38;5;241m*\u001B[39mkwargs: Any\n\u001B[0;32m   2015\u001B[0m ):\n\u001B[1;32m-> 2016\u001B[0m     \u001B[38;5;28;01mreturn\u001B[39;00m \u001B[43marraylike\u001B[49m\u001B[38;5;241;43m.\u001B[39;49m\u001B[43marray_ufunc\u001B[49m\u001B[43m(\u001B[49m\u001B[38;5;28;43mself\u001B[39;49m\u001B[43m,\u001B[49m\u001B[43m \u001B[49m\u001B[43mufunc\u001B[49m\u001B[43m,\u001B[49m\u001B[43m \u001B[49m\u001B[43mmethod\u001B[49m\u001B[43m,\u001B[49m\u001B[43m \u001B[49m\u001B[38;5;241;43m*\u001B[39;49m\u001B[43minputs\u001B[49m\u001B[43m,\u001B[49m\u001B[43m \u001B[49m\u001B[38;5;241;43m*\u001B[39;49m\u001B[38;5;241;43m*\u001B[39;49m\u001B[43mkwargs\u001B[49m\u001B[43m)\u001B[49m\n",
      "File \u001B[1;32mD:\\All Python\\Summer Project\\venv\\Lib\\site-packages\\pandas\\core\\arraylike.py:396\u001B[0m, in \u001B[0;36marray_ufunc\u001B[1;34m(self, ufunc, method, *inputs, **kwargs)\u001B[0m\n\u001B[0;32m    393\u001B[0m \u001B[38;5;28;01melif\u001B[39;00m \u001B[38;5;28mself\u001B[39m\u001B[38;5;241m.\u001B[39mndim \u001B[38;5;241m==\u001B[39m \u001B[38;5;241m1\u001B[39m:\n\u001B[0;32m    394\u001B[0m     \u001B[38;5;66;03m# ufunc(series, ...)\u001B[39;00m\n\u001B[0;32m    395\u001B[0m     inputs \u001B[38;5;241m=\u001B[39m \u001B[38;5;28mtuple\u001B[39m(extract_array(x, extract_numpy\u001B[38;5;241m=\u001B[39m\u001B[38;5;28;01mTrue\u001B[39;00m) \u001B[38;5;28;01mfor\u001B[39;00m x \u001B[38;5;129;01min\u001B[39;00m inputs)\n\u001B[1;32m--> 396\u001B[0m     result \u001B[38;5;241m=\u001B[39m \u001B[38;5;28;43mgetattr\u001B[39;49m\u001B[43m(\u001B[49m\u001B[43mufunc\u001B[49m\u001B[43m,\u001B[49m\u001B[43m \u001B[49m\u001B[43mmethod\u001B[49m\u001B[43m)\u001B[49m\u001B[43m(\u001B[49m\u001B[38;5;241;43m*\u001B[39;49m\u001B[43minputs\u001B[49m\u001B[43m,\u001B[49m\u001B[43m \u001B[49m\u001B[38;5;241;43m*\u001B[39;49m\u001B[38;5;241;43m*\u001B[39;49m\u001B[43mkwargs\u001B[49m\u001B[43m)\u001B[49m\n\u001B[0;32m    397\u001B[0m \u001B[38;5;28;01melse\u001B[39;00m:\n\u001B[0;32m    398\u001B[0m     \u001B[38;5;66;03m# ufunc(dataframe)\u001B[39;00m\n\u001B[0;32m    399\u001B[0m     \u001B[38;5;28;01mif\u001B[39;00m method \u001B[38;5;241m==\u001B[39m \u001B[38;5;124m\"\u001B[39m\u001B[38;5;124m__call__\u001B[39m\u001B[38;5;124m\"\u001B[39m \u001B[38;5;129;01mand\u001B[39;00m \u001B[38;5;129;01mnot\u001B[39;00m kwargs:\n\u001B[0;32m    400\u001B[0m         \u001B[38;5;66;03m# for np.<ufunc>(..) calls\u001B[39;00m\n\u001B[0;32m    401\u001B[0m         \u001B[38;5;66;03m# kwargs cannot necessarily be handled block-by-block, so only\u001B[39;00m\n\u001B[0;32m    402\u001B[0m         \u001B[38;5;66;03m# take this path if there are no kwargs\u001B[39;00m\n",
      "\u001B[1;31mTypeError\u001B[0m: loop of ufunc does not support argument 0 of type numpy.float64 which has no callable sqrt method"
     ]
    }
   ],
   "source": [
    "model = ml.K_means(X, 2, 100)\n",
    "model.kmeans()"
   ],
   "metadata": {
    "collapsed": false,
    "ExecuteTime": {
     "end_time": "2023-07-06T14:56:31.278581800Z",
     "start_time": "2023-07-06T14:56:30.812712800Z"
    }
   }
  },
  {
   "cell_type": "code",
   "execution_count": 16,
   "outputs": [
    {
     "name": "stdout",
     "output_type": "stream",
     "text": [
      "0      1\n",
      "1      1\n",
      "2      1\n",
      "3      1\n",
      "4      1\n",
      "      ..\n",
      "251    0\n",
      "252    1\n",
      "253    0\n",
      "254    1\n",
      "255    0\n",
      "Length: 256, dtype: int64\n"
     ]
    },
    {
     "name": "stderr",
     "output_type": "stream",
     "text": [
      "D:\\All Python\\Summer Project\\00-Learn\\02-Machin Learning\\04-K-means\\ML_toolkit.py:27: FutureWarning: Calling float on a single element Series is deprecated and will raise a TypeError in the future. Use float(ser.iloc[0]) instead\n",
      "  centroid = self.data.apply(lambda x: float(x.sample()))\n"
     ]
    }
   ],
   "source": [
    "X = ml.scale_data(X)\n",
    "center = model.random_centroid()\n",
    "# print(center.T)\n",
    "l = []\n",
    "l2 = []\n",
    "for i in range(len(X)):\n",
    "    s2 = 1000000000000\n",
    "    la = None\n",
    "    for k in range(2):\n",
    "        s = 0\n",
    "        for j in range(len(X.columns)):\n",
    "            s+= np.sqrt((X.iloc[i,j] - center.iloc[j, k])**2)\n",
    "        if s2>s:\n",
    "            la = k\n",
    "            s2 = s\n",
    "    l2.append(la)\n",
    "label = pd.Series(l2)\n",
    "print(label)"
   ],
   "metadata": {
    "collapsed": false,
    "ExecuteTime": {
     "end_time": "2023-07-06T14:56:33.587941700Z",
     "start_time": "2023-07-06T14:56:33.318320400Z"
    }
   }
  },
  {
   "cell_type": "code",
   "execution_count": 17,
   "outputs": [
    {
     "name": "stdout",
     "output_type": "stream",
     "text": [
      "0      1\n",
      "1      1\n",
      "2      1\n",
      "3      1\n",
      "4      1\n",
      "      ..\n",
      "251    0\n",
      "252    1\n",
      "253    0\n",
      "254    1\n",
      "255    0\n",
      "Length: 256, dtype: int64\n"
     ]
    }
   ],
   "source": [
    "# print(l)\n",
    "# print(l2)\n",
    "label = pd.Series(l2)\n",
    "print(label)"
   ],
   "metadata": {
    "collapsed": false,
    "ExecuteTime": {
     "end_time": "2023-07-06T14:56:34.243069500Z",
     "start_time": "2023-07-06T14:56:34.100702700Z"
    }
   }
  },
  {
   "cell_type": "code",
   "execution_count": 17,
   "outputs": [],
   "source": [],
   "metadata": {
    "collapsed": false,
    "ExecuteTime": {
     "end_time": "2023-07-06T14:56:34.877018400Z",
     "start_time": "2023-07-06T14:56:34.849339400Z"
    }
   }
  },
  {
   "cell_type": "code",
   "execution_count": null,
   "outputs": [],
   "source": [],
   "metadata": {
    "collapsed": false
   }
  }
 ],
 "metadata": {
  "kernelspec": {
   "display_name": "Python 3",
   "language": "python",
   "name": "python3"
  },
  "language_info": {
   "codemirror_mode": {
    "name": "ipython",
    "version": 2
   },
   "file_extension": ".py",
   "mimetype": "text/x-python",
   "name": "python",
   "nbconvert_exporter": "python",
   "pygments_lexer": "ipython2",
   "version": "2.7.6"
  }
 },
 "nbformat": 4,
 "nbformat_minor": 0
}
