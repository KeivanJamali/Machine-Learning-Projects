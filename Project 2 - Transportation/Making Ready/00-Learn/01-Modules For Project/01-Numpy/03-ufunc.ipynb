{
 "cells": [
  {
   "cell_type": "code",
   "execution_count": 2,
   "metadata": {
    "collapsed": true,
    "ExecuteTime": {
     "end_time": "2023-06-21T22:32:49.988142100Z",
     "start_time": "2023-06-21T22:32:49.832327600Z"
    }
   },
   "outputs": [],
   "source": [
    "import numpy as np\n"
   ]
  },
  {
   "cell_type": "code",
   "execution_count": 8,
   "outputs": [
    {
     "name": "stdout",
     "output_type": "stream",
     "text": [
      "[2 4 6 8]\n",
      "[1, 2, 3, 4, 1, 2, 3, 4]\n"
     ]
    }
   ],
   "source": [
    "a = [1, 2, 3, 4]\n",
    "b = [1, 2, 3, 4]\n",
    "print(np.add(a, b))\n",
    "print(a + b)"
   ],
   "metadata": {
    "collapsed": false,
    "ExecuteTime": {
     "end_time": "2023-06-19T05:59:10.704714900Z",
     "start_time": "2023-06-19T05:59:10.702164Z"
    }
   }
  },
  {
   "cell_type": "markdown",
   "source": [
    "# creat function"
   ],
   "metadata": {
    "collapsed": false
   }
  },
  {
   "cell_type": "code",
   "execution_count": 9,
   "outputs": [
    {
     "name": "stdout",
     "output_type": "stream",
     "text": [
      "[2 4]\n"
     ]
    }
   ],
   "source": [
    "def myadd(x, y):\n",
    "    return x + y\n",
    "\n",
    "\n",
    "myadd = np.frompyfunc(myadd, 2, 1)\n",
    "print(myadd([1, 2], [1, 2]))"
   ],
   "metadata": {
    "collapsed": false,
    "ExecuteTime": {
     "end_time": "2023-06-19T05:59:12.965815500Z",
     "start_time": "2023-06-19T05:59:12.962806200Z"
    }
   }
  },
  {
   "cell_type": "markdown",
   "source": [
    "# add"
   ],
   "metadata": {
    "collapsed": false
   }
  },
  {
   "cell_type": "code",
   "execution_count": 10,
   "outputs": [
    {
     "name": "stdout",
     "output_type": "stream",
     "text": [
      "[30 32 34 36 38 40]\n"
     ]
    }
   ],
   "source": [
    "arr1 = np.array([10, 11, 12, 13, 14, 15])\n",
    "arr2 = np.array([20, 21, 22, 23, 24, 25])\n",
    "\n",
    "newarr = np.add(arr1, arr2)\n",
    "\n",
    "print(newarr)"
   ],
   "metadata": {
    "collapsed": false,
    "ExecuteTime": {
     "end_time": "2023-06-19T05:59:22.053463600Z",
     "start_time": "2023-06-19T05:59:22.037575500Z"
    }
   }
  },
  {
   "cell_type": "markdown",
   "source": [
    "# subtraction"
   ],
   "metadata": {
    "collapsed": false
   }
  },
  {
   "cell_type": "code",
   "execution_count": 11,
   "outputs": [
    {
     "name": "stdout",
     "output_type": "stream",
     "text": [
      "[-10  -1   8  17  26  35]\n"
     ]
    }
   ],
   "source": [
    "arr1 = np.array([10, 20, 30, 40, 50, 60])\n",
    "arr2 = np.array([20, 21, 22, 23, 24, 25])\n",
    "\n",
    "newarr = np.subtract(arr1, arr2)\n",
    "\n",
    "print(newarr)"
   ],
   "metadata": {
    "collapsed": false,
    "ExecuteTime": {
     "end_time": "2023-06-19T05:59:30.440461800Z",
     "start_time": "2023-06-19T05:59:30.424500600Z"
    }
   }
  },
  {
   "cell_type": "markdown",
   "source": [
    "# multiplication"
   ],
   "metadata": {
    "collapsed": false
   }
  },
  {
   "cell_type": "code",
   "execution_count": 12,
   "outputs": [
    {
     "name": "stdout",
     "output_type": "stream",
     "text": [
      "[ 200  420  660  920 1200 1500]\n"
     ]
    }
   ],
   "source": [
    "arr1 = np.array([10, 20, 30, 40, 50, 60])\n",
    "arr2 = np.array([20, 21, 22, 23, 24, 25])\n",
    "\n",
    "newarr = np.multiply(arr1, arr2)\n",
    "\n",
    "print(newarr)"
   ],
   "metadata": {
    "collapsed": false,
    "ExecuteTime": {
     "end_time": "2023-06-19T05:59:35.162002900Z",
     "start_time": "2023-06-19T05:59:35.150951400Z"
    }
   }
  },
  {
   "cell_type": "markdown",
   "source": [
    "# division"
   ],
   "metadata": {
    "collapsed": false
   }
  },
  {
   "cell_type": "code",
   "execution_count": 15,
   "outputs": [
    {
     "name": "stdout",
     "output_type": "stream",
     "text": [
      "[        inf  4.          3.          5.         25.          1.81818182]\n"
     ]
    },
    {
     "name": "stderr",
     "output_type": "stream",
     "text": [
      "C:\\Users\\keipj\\AppData\\Local\\Temp\\ipykernel_15036\\365774750.py:4: RuntimeWarning: divide by zero encountered in divide\n",
      "  newarr = np.divide(arr1, arr2)\n"
     ]
    }
   ],
   "source": [
    "arr1 = np.array([10, 20, 30, 40, 50, 60])\n",
    "arr2 = np.array([0, 5, 10, 8, 2, 33])\n",
    "\n",
    "newarr = np.divide(arr1, arr2)\n",
    "\n",
    "print(newarr)"
   ],
   "metadata": {
    "collapsed": false,
    "ExecuteTime": {
     "end_time": "2023-06-19T05:59:54.940493900Z",
     "start_time": "2023-06-19T05:59:54.922003400Z"
    }
   }
  },
  {
   "cell_type": "markdown",
   "source": [
    "# power"
   ],
   "metadata": {
    "collapsed": false
   }
  },
  {
   "cell_type": "code",
   "execution_count": 16,
   "outputs": [
    {
     "name": "stdout",
     "output_type": "stream",
     "text": [
      "[      1000    3200000  729000000 -520093696       2500          0]\n"
     ]
    }
   ],
   "source": [
    "arr1 = np.array([10, 20, 30, 40, 50, 60])\n",
    "arr2 = np.array([3, 5, 6, 8, 2, 33])\n",
    "\n",
    "newarr = np.power(arr1, arr2)\n",
    "\n",
    "print(newarr)"
   ],
   "metadata": {
    "collapsed": false,
    "ExecuteTime": {
     "end_time": "2023-06-19T05:59:57.759331300Z",
     "start_time": "2023-06-19T05:59:57.749789200Z"
    }
   }
  },
  {
   "cell_type": "markdown",
   "source": [
    "# Reminder / mod"
   ],
   "metadata": {
    "collapsed": false
   }
  },
  {
   "cell_type": "code",
   "execution_count": 17,
   "outputs": [
    {
     "name": "stdout",
     "output_type": "stream",
     "text": [
      "[ 1  6  3  0  0 27]\n",
      "[ 1  6  3  0  0 27]\n"
     ]
    }
   ],
   "source": [
    "arr1 = np.array([10, 20, 30, 40, 50, 60])\n",
    "arr2 = np.array([3, 7, 9, 8, 2, 33])\n",
    "\n",
    "newarr = np.mod(arr1, arr2)\n",
    "\n",
    "print(newarr)\n",
    "\n",
    "arr1 = np.array([10, 20, 30, 40, 50, 60])\n",
    "arr2 = np.array([3, 7, 9, 8, 2, 33])\n",
    "\n",
    "newarr = np.remainder(arr1, arr2)\n",
    "\n",
    "print(newarr)"
   ],
   "metadata": {
    "collapsed": false,
    "ExecuteTime": {
     "end_time": "2023-06-19T06:00:32.376192700Z",
     "start_time": "2023-06-19T06:00:32.371243300Z"
    }
   }
  },
  {
   "cell_type": "markdown",
   "source": [
    "# quotient and mod"
   ],
   "metadata": {
    "collapsed": false
   }
  },
  {
   "cell_type": "code",
   "execution_count": 18,
   "outputs": [
    {
     "name": "stdout",
     "output_type": "stream",
     "text": [
      "(array([ 3,  2,  3,  5, 25,  1]), array([ 1,  6,  3,  0,  0, 27]))\n"
     ]
    }
   ],
   "source": [
    "arr1 = np.array([10, 20, 30, 40, 50, 60])\n",
    "arr2 = np.array([3, 7, 9, 8, 2, 33])\n",
    "\n",
    "newarr = np.divmod(arr1, arr2)\n",
    "\n",
    "print(newarr)"
   ],
   "metadata": {
    "collapsed": false,
    "ExecuteTime": {
     "end_time": "2023-06-19T06:01:07.878110200Z",
     "start_time": "2023-06-19T06:01:07.862408400Z"
    }
   }
  },
  {
   "cell_type": "markdown",
   "source": [
    "# abs"
   ],
   "metadata": {
    "collapsed": false
   }
  },
  {
   "cell_type": "code",
   "execution_count": 19,
   "outputs": [
    {
     "name": "stdout",
     "output_type": "stream",
     "text": [
      "[1 2 1 2 3 4]\n"
     ]
    }
   ],
   "source": [
    "arr = np.array([-1, -2, 1, 2, 3, -4])\n",
    "\n",
    "newarr = np.absolute(arr)\n",
    "\n",
    "print(newarr)"
   ],
   "metadata": {
    "collapsed": false,
    "ExecuteTime": {
     "end_time": "2023-06-19T06:01:32.684121800Z",
     "start_time": "2023-06-19T06:01:32.680072200Z"
    }
   }
  },
  {
   "cell_type": "markdown",
   "source": [
    "# rounding"
   ],
   "metadata": {
    "collapsed": false
   }
  },
  {
   "cell_type": "code",
   "execution_count": 20,
   "outputs": [
    {
     "name": "stdout",
     "output_type": "stream",
     "text": [
      "[ 1.  1.  1. 12.]\n",
      "[ 1.  1.  1. 12.]\n"
     ]
    }
   ],
   "source": [
    "arr = np.array([1.3324, 1.563, 1.5, 12.4])\n",
    "print(np.trunc(arr))\n",
    "print(np.fix(arr))\n"
   ],
   "metadata": {
    "collapsed": false,
    "ExecuteTime": {
     "end_time": "2023-06-19T06:01:58.316193200Z",
     "start_time": "2023-06-19T06:01:58.300490100Z"
    }
   }
  },
  {
   "cell_type": "code",
   "execution_count": 3,
   "outputs": [
    {
     "name": "stdout",
     "output_type": "stream",
     "text": [
      "[10.  4.  4.]\n"
     ]
    }
   ],
   "source": [
    "arr = np.around([10, 3.515, 3.5113])\n",
    "print(arr)"
   ],
   "metadata": {
    "collapsed": false,
    "ExecuteTime": {
     "end_time": "2023-06-21T22:32:55.725673400Z",
     "start_time": "2023-06-21T22:32:55.705714700Z"
    }
   }
  },
  {
   "cell_type": "code",
   "execution_count": 19,
   "outputs": [
    {
     "name": "stdout",
     "output_type": "stream",
     "text": [
      "[ 2. 52.  0.  0.]\n",
      "[ 3. 53.  1.  1.]\n"
     ]
    }
   ],
   "source": [
    "print(np.floor([2.34, 52.93, 0.2, 0.5]))\n",
    "print(np.ceil([2.34, 52.93, 0.2, 0.5]))"
   ],
   "metadata": {
    "collapsed": false,
    "ExecuteTime": {
     "end_time": "2023-06-16T14:58:04.939466200Z",
     "start_time": "2023-06-16T14:58:04.908529100Z"
    }
   }
  },
  {
   "cell_type": "markdown",
   "source": [
    "# Log at Base 2"
   ],
   "metadata": {
    "collapsed": false
   }
  },
  {
   "cell_type": "code",
   "execution_count": 24,
   "outputs": [
    {
     "name": "stdout",
     "output_type": "stream",
     "text": [
      "[1 2 3 4 5 6 7 8 9]\n",
      "[0.         1.         1.5849625  2.         2.32192809 2.5849625\n",
      " 2.80735492 3.         3.169925  ]\n"
     ]
    }
   ],
   "source": [
    "arr = np.arange(1, 10)\n",
    "a = np.array([i for i in range(1, 10)])\n",
    "print(a)\n",
    "\n",
    "print(np.log2(arr))"
   ],
   "metadata": {
    "collapsed": false,
    "ExecuteTime": {
     "end_time": "2023-06-19T06:04:24.537607300Z",
     "start_time": "2023-06-19T06:04:24.506154800Z"
    }
   }
  },
  {
   "cell_type": "markdown",
   "source": [
    "### Log at Base 10"
   ],
   "metadata": {
    "collapsed": false
   }
  },
  {
   "cell_type": "code",
   "execution_count": 25,
   "outputs": [
    {
     "name": "stdout",
     "output_type": "stream",
     "text": [
      "[0.         0.30103    0.47712125 0.60205999 0.69897    0.77815125\n",
      " 0.84509804 0.90308999 0.95424251]\n"
     ]
    }
   ],
   "source": [
    "arr = np.arange(1, 10)\n",
    "\n",
    "print(np.log10(arr))"
   ],
   "metadata": {
    "collapsed": false,
    "ExecuteTime": {
     "end_time": "2023-06-19T06:04:33.059229Z",
     "start_time": "2023-06-19T06:04:33.043365600Z"
    }
   }
  },
  {
   "cell_type": "markdown",
   "source": [
    "## Log at Base e"
   ],
   "metadata": {
    "collapsed": false
   }
  },
  {
   "cell_type": "code",
   "execution_count": 26,
   "outputs": [
    {
     "name": "stdout",
     "output_type": "stream",
     "text": [
      "[0.         0.69314718 1.09861229 1.38629436 1.60943791 1.79175947\n",
      " 1.94591015 2.07944154 2.19722458]\n"
     ]
    }
   ],
   "source": [
    "arr = np.arange(1, 10)\n",
    "\n",
    "print(np.log(arr))\n"
   ],
   "metadata": {
    "collapsed": false,
    "ExecuteTime": {
     "end_time": "2023-06-19T06:05:17.948928700Z",
     "start_time": "2023-06-19T06:05:17.933089500Z"
    }
   }
  },
  {
   "cell_type": "markdown",
   "source": [
    "# Summation"
   ],
   "metadata": {
    "collapsed": false
   }
  },
  {
   "cell_type": "code",
   "execution_count": 31,
   "outputs": [
    {
     "name": "stdout",
     "output_type": "stream",
     "text": [
      "29\n"
     ]
    }
   ],
   "source": [
    "arr1 = np.array([[1, 2, 3]])\n",
    "arr2 = np.array([[1, 2, 3]])\n",
    "arr3 = np.array([[3, 3, 3]])\n",
    "arr4 = np.array([[10, -1, -1]])\n",
    "newarr = np.sum([[arr1, arr2], [arr3, arr4]])\n",
    "\n",
    "print(newarr)"
   ],
   "metadata": {
    "collapsed": false,
    "ExecuteTime": {
     "end_time": "2023-06-19T06:08:05.925722800Z",
     "start_time": "2023-06-19T06:08:05.923364Z"
    }
   }
  },
  {
   "cell_type": "code",
   "execution_count": 41,
   "outputs": [
    {
     "name": "stdout",
     "output_type": "stream",
     "text": [
      "[[[ 1  2  3]\n",
      "  [ 1  2  3]]\n",
      "\n",
      " [[ 3  3  3]\n",
      "  [10 -1 -1]]]\n",
      "####\n",
      "[[2 4 6]]\n"
     ]
    }
   ],
   "source": [
    "arr1 = np.array([[1, 2, 3]])\n",
    "arr2 = np.array([[1, 2, 3]])\n",
    "arr3 = np.array([[3, 3, 3]])\n",
    "arr4 = np.array([[10, -1, -1]])\n",
    "\n",
    "newar = np.sum([[arr1, arr2], [arr3, arr4]], axis=2)\n",
    "newarr = np.sum([arr1, arr2], axis=0)\n",
    "print(newar)\n",
    "print(\"####\")\n",
    "print(newarr)"
   ],
   "metadata": {
    "collapsed": false,
    "ExecuteTime": {
     "end_time": "2023-06-19T06:12:24.744935100Z",
     "start_time": "2023-06-19T06:12:24.725302300Z"
    }
   }
  },
  {
   "cell_type": "code",
   "execution_count": 42,
   "outputs": [
    {
     "name": "stdout",
     "output_type": "stream",
     "text": [
      "[1 3 6]\n"
     ]
    }
   ],
   "source": [
    "# Cummulative Sum\n",
    "arr = np.array([1, 2, 3])\n",
    "\n",
    "newarr = np.cumsum(arr)\n",
    "\n",
    "print(newarr)"
   ],
   "metadata": {
    "collapsed": false,
    "ExecuteTime": {
     "end_time": "2023-06-19T06:12:53.996824Z",
     "start_time": "2023-06-19T06:12:53.985057300Z"
    }
   }
  },
  {
   "cell_type": "markdown",
   "source": [
    "# Products"
   ],
   "metadata": {
    "collapsed": false
   }
  },
  {
   "cell_type": "code",
   "execution_count": 43,
   "outputs": [
    {
     "name": "stdout",
     "output_type": "stream",
     "text": [
      "24\n"
     ]
    }
   ],
   "source": [
    "arr = np.array([1, 2, 3, 4])\n",
    "\n",
    "x = np.prod(arr)\n",
    "\n",
    "print(x)"
   ],
   "metadata": {
    "collapsed": false,
    "ExecuteTime": {
     "end_time": "2023-06-19T06:14:54.958424600Z",
     "start_time": "2023-06-19T06:14:54.958424600Z"
    }
   }
  },
  {
   "cell_type": "code",
   "execution_count": 44,
   "outputs": [
    {
     "name": "stdout",
     "output_type": "stream",
     "text": [
      "40320\n"
     ]
    }
   ],
   "source": [
    "arr1 = np.array([1, 2, 3, 4])\n",
    "arr2 = np.array([5, 6, 7, 8])\n",
    "\n",
    "x = np.prod([arr1, arr2])\n",
    "\n",
    "print(x)"
   ],
   "metadata": {
    "collapsed": false,
    "ExecuteTime": {
     "end_time": "2023-06-19T06:15:25.977191600Z",
     "start_time": "2023-06-19T06:15:25.977191600Z"
    }
   }
  },
  {
   "cell_type": "code",
   "execution_count": 47,
   "outputs": [
    {
     "name": "stdout",
     "output_type": "stream",
     "text": [
      "[  24 1680]\n"
     ]
    }
   ],
   "source": [
    "arr1 = np.array([1, 2, 3, 4])\n",
    "arr2 = np.array([5, 6, 7, 8])\n",
    "\n",
    "newarr = np.prod([arr1, arr2], axis=1)\n",
    "\n",
    "print(newarr)"
   ],
   "metadata": {
    "collapsed": false,
    "ExecuteTime": {
     "end_time": "2023-06-19T13:12:14.865092400Z",
     "start_time": "2023-06-19T13:12:14.848632600Z"
    }
   }
  },
  {
   "cell_type": "code",
   "execution_count": 48,
   "outputs": [
    {
     "name": "stdout",
     "output_type": "stream",
     "text": [
      "[   5   30  210 1680]\n"
     ]
    }
   ],
   "source": [
    "arr = np.array([5, 6, 7, 8])\n",
    "\n",
    "newarr = np.cumprod(arr)\n",
    "\n",
    "print(newarr)"
   ],
   "metadata": {
    "collapsed": false,
    "ExecuteTime": {
     "end_time": "2023-06-19T13:12:43.213786900Z",
     "start_time": "2023-06-19T13:12:43.195788100Z"
    }
   }
  },
  {
   "cell_type": "markdown",
   "source": [
    "# Differences"
   ],
   "metadata": {
    "collapsed": false
   }
  },
  {
   "cell_type": "code",
   "execution_count": 49,
   "outputs": [
    {
     "name": "stdout",
     "output_type": "stream",
     "text": [
      "[  5  10 -20]\n"
     ]
    }
   ],
   "source": [
    "arr = np.array([10, 15, 25, 5])\n",
    "\n",
    "newarr = np.diff(arr)\n",
    "\n",
    "print(newarr)"
   ],
   "metadata": {
    "collapsed": false,
    "ExecuteTime": {
     "end_time": "2023-06-19T13:19:19.194396300Z",
     "start_time": "2023-06-19T13:19:19.178197Z"
    }
   }
  },
  {
   "cell_type": "code",
   "execution_count": 50,
   "outputs": [
    {
     "name": "stdout",
     "output_type": "stream",
     "text": [
      "[  5 -30]\n"
     ]
    }
   ],
   "source": [
    "arr = np.array([10, 15, 25, 5])\n",
    "\n",
    "newarr = np.diff(arr, n=2)\n",
    "\n",
    "print(newarr)"
   ],
   "metadata": {
    "collapsed": false,
    "ExecuteTime": {
     "end_time": "2023-06-19T13:19:47.150875800Z",
     "start_time": "2023-06-19T13:19:47.134745800Z"
    }
   }
  },
  {
   "cell_type": "markdown",
   "source": [
    "# LCM (Lowest Common Multiple)"
   ],
   "metadata": {
    "collapsed": false
   }
  },
  {
   "cell_type": "code",
   "execution_count": 52,
   "outputs": [
    {
     "name": "stdout",
     "output_type": "stream",
     "text": [
      "12\n"
     ]
    }
   ],
   "source": [
    "num1 = 4\n",
    "num2 = 6\n",
    "\n",
    "x = np.lcm(num1, num2)\n",
    "\n",
    "print(x)"
   ],
   "metadata": {
    "collapsed": false,
    "ExecuteTime": {
     "end_time": "2023-06-19T13:21:10.415354300Z",
     "start_time": "2023-06-19T13:21:10.412106800Z"
    }
   }
  },
  {
   "cell_type": "code",
   "execution_count": 55,
   "outputs": [
    {
     "name": "stdout",
     "output_type": "stream",
     "text": [
      "18\n"
     ]
    }
   ],
   "source": [
    "arr = np.array([3, 6, 9])\n",
    "\n",
    "x = np.lcm.reduce(arr)\n",
    "\n",
    "print(x)"
   ],
   "metadata": {
    "collapsed": false,
    "ExecuteTime": {
     "end_time": "2023-06-19T13:22:16.777815600Z",
     "start_time": "2023-06-19T13:22:16.767758300Z"
    }
   }
  },
  {
   "cell_type": "code",
   "execution_count": 56,
   "outputs": [
    {
     "name": "stdout",
     "output_type": "stream",
     "text": [
      "2520\n"
     ]
    }
   ],
   "source": [
    "arr = np.arange(1, 11)\n",
    "\n",
    "x = np.lcm.reduce(arr)\n",
    "\n",
    "print(x)"
   ],
   "metadata": {
    "collapsed": false,
    "ExecuteTime": {
     "end_time": "2023-06-19T13:22:57.395839800Z",
     "start_time": "2023-06-19T13:22:57.374682200Z"
    }
   }
  },
  {
   "cell_type": "markdown",
   "source": [
    "# GCD (Greatest Common Denominator)"
   ],
   "metadata": {
    "collapsed": false
   }
  },
  {
   "cell_type": "code",
   "execution_count": 57,
   "outputs": [
    {
     "name": "stdout",
     "output_type": "stream",
     "text": [
      "3\n"
     ]
    }
   ],
   "source": [
    "num1 = 6\n",
    "num2 = 9\n",
    "\n",
    "x = np.gcd(num1, num2)\n",
    "\n",
    "print(x)"
   ],
   "metadata": {
    "collapsed": false,
    "ExecuteTime": {
     "end_time": "2023-06-19T13:23:24.297736300Z",
     "start_time": "2023-06-19T13:23:24.275952600Z"
    }
   }
  },
  {
   "cell_type": "code",
   "execution_count": 58,
   "outputs": [
    {
     "name": "stdout",
     "output_type": "stream",
     "text": [
      "4\n"
     ]
    }
   ],
   "source": [
    "arr = np.array([20, 8, 32, 36, 16])\n",
    "\n",
    "x = np.gcd.reduce(arr)\n",
    "\n",
    "print(x)"
   ],
   "metadata": {
    "collapsed": false,
    "ExecuteTime": {
     "end_time": "2023-06-19T13:23:32.267862Z",
     "start_time": "2023-06-19T13:23:32.243681700Z"
    }
   }
  },
  {
   "cell_type": "code",
   "execution_count": 59,
   "outputs": [
    {
     "name": "stdout",
     "output_type": "stream",
     "text": [
      "1.0\n"
     ]
    }
   ],
   "source": [
    "x = np.sin(np.pi / 2)\n",
    "\n",
    "print(x)"
   ],
   "metadata": {
    "collapsed": false,
    "ExecuteTime": {
     "end_time": "2023-06-19T13:23:56.431775200Z",
     "start_time": "2023-06-19T13:23:56.407997Z"
    }
   }
  },
  {
   "cell_type": "code",
   "execution_count": 60,
   "outputs": [
    {
     "name": "stdout",
     "output_type": "stream",
     "text": [
      "[1.         0.8660254  0.70710678 0.58778525]\n"
     ]
    }
   ],
   "source": [
    "arr = np.array([np.pi / 2, np.pi / 3, np.pi / 4, np.pi / 5])\n",
    "\n",
    "x = np.sin(arr)\n",
    "\n",
    "print(x)"
   ],
   "metadata": {
    "collapsed": false,
    "ExecuteTime": {
     "end_time": "2023-06-19T13:24:06.241002800Z",
     "start_time": "2023-06-19T13:24:06.221491200Z"
    }
   }
  },
  {
   "cell_type": "code",
   "execution_count": 61,
   "outputs": [
    {
     "name": "stdout",
     "output_type": "stream",
     "text": [
      "[1.57079633 3.14159265 4.71238898 6.28318531]\n"
     ]
    }
   ],
   "source": [
    "arr = np.array([90, 180, 270, 360])\n",
    "\n",
    "x = np.deg2rad(arr)\n",
    "\n",
    "print(x)"
   ],
   "metadata": {
    "collapsed": false,
    "ExecuteTime": {
     "end_time": "2023-06-19T13:24:40.260498400Z",
     "start_time": "2023-06-19T13:24:40.243018500Z"
    }
   }
  },
  {
   "cell_type": "code",
   "execution_count": 62,
   "outputs": [
    {
     "name": "stdout",
     "output_type": "stream",
     "text": [
      "[ 90. 180. 270. 360.]\n"
     ]
    }
   ],
   "source": [
    "arr = np.array([np.pi / 2, np.pi, 1.5 * np.pi, 2 * np.pi])\n",
    "\n",
    "x = np.rad2deg(arr)\n",
    "\n",
    "print(x)"
   ],
   "metadata": {
    "collapsed": false,
    "ExecuteTime": {
     "end_time": "2023-06-19T13:24:56.663784Z",
     "start_time": "2023-06-19T13:24:56.563927500Z"
    }
   }
  },
  {
   "cell_type": "code",
   "execution_count": 64,
   "outputs": [
    {
     "name": "stdout",
     "output_type": "stream",
     "text": [
      "1.5707963267948966\n",
      "90.0\n"
     ]
    }
   ],
   "source": [
    "x = np.arcsin(1.0)\n",
    "\n",
    "print(x)\n",
    "print(np.rad2deg(x))"
   ],
   "metadata": {
    "collapsed": false,
    "ExecuteTime": {
     "end_time": "2023-06-19T13:25:32.101844Z",
     "start_time": "2023-06-19T13:25:32.094774800Z"
    }
   }
  },
  {
   "cell_type": "code",
   "execution_count": 67,
   "outputs": [
    {
     "name": "stdout",
     "output_type": "stream",
     "text": [
      "5.0\n"
     ]
    }
   ],
   "source": [
    "base = 3\n",
    "perp = 4\n",
    "\n",
    "x = np.hypot(base, perp)\n",
    "\n",
    "print(x)"
   ],
   "metadata": {
    "collapsed": false,
    "ExecuteTime": {
     "end_time": "2023-06-19T13:26:58.800494600Z",
     "start_time": "2023-06-19T13:26:58.797893Z"
    }
   }
  },
  {
   "cell_type": "code",
   "execution_count": 68,
   "outputs": [
    {
     "name": "stdout",
     "output_type": "stream",
     "text": [
      "[2.50917848 1.60028686 1.32460909 1.20397209]\n"
     ]
    }
   ],
   "source": [
    "arr = np.array([np.pi / 2, np.pi / 3, np.pi / 4, np.pi / 5])\n",
    "\n",
    "x = np.cosh(arr)\n",
    "\n",
    "print(x)"
   ],
   "metadata": {
    "collapsed": false,
    "ExecuteTime": {
     "end_time": "2023-06-19T13:27:20.968680900Z",
     "start_time": "2023-06-19T13:27:20.942719700Z"
    }
   }
  },
  {
   "cell_type": "code",
   "execution_count": 69,
   "outputs": [
    {
     "name": "stdout",
     "output_type": "stream",
     "text": [
      "[0.10033535 0.20273255 0.54930614]\n"
     ]
    }
   ],
   "source": [
    "arr = np.array([0.1, 0.2, 0.5])\n",
    "\n",
    "x = np.arctanh(arr)\n",
    "\n",
    "print(x)"
   ],
   "metadata": {
    "collapsed": false,
    "ExecuteTime": {
     "end_time": "2023-06-19T13:27:33.394797900Z",
     "start_time": "2023-06-19T13:27:33.374658900Z"
    }
   }
  },
  {
   "cell_type": "markdown",
   "source": [
    "# NumPy Set Operations"
   ],
   "metadata": {
    "collapsed": false
   }
  },
  {
   "cell_type": "code",
   "execution_count": 70,
   "outputs": [
    {
     "name": "stdout",
     "output_type": "stream",
     "text": [
      "[1 2 3 4 5 6 7]\n"
     ]
    }
   ],
   "source": [
    "arr = np.array([1, 1, 1, 2, 3, 4, 5, 5, 6, 7])\n",
    "\n",
    "x = np.unique(arr)\n",
    "\n",
    "print(x)"
   ],
   "metadata": {
    "collapsed": false,
    "ExecuteTime": {
     "end_time": "2023-06-19T13:29:29.954969700Z",
     "start_time": "2023-06-19T13:29:29.937376100Z"
    }
   }
  },
  {
   "cell_type": "code",
   "execution_count": 71,
   "outputs": [
    {
     "name": "stdout",
     "output_type": "stream",
     "text": [
      "[1 2 3 4 5 6]\n"
     ]
    }
   ],
   "source": [
    "arr1 = np.array([1, 2, 3, 4])\n",
    "arr2 = np.array([3, 4, 5, 6])\n",
    "\n",
    "newarr = np.union1d(arr1, arr2)\n",
    "\n",
    "print(newarr)"
   ],
   "metadata": {
    "collapsed": false,
    "ExecuteTime": {
     "end_time": "2023-06-19T13:29:45.629299500Z",
     "start_time": "2023-06-19T13:29:45.608102200Z"
    }
   }
  },
  {
   "cell_type": "code",
   "execution_count": 79,
   "outputs": [
    {
     "name": "stdout",
     "output_type": "stream",
     "text": [
      "[3 4]\n",
      "[1 3 4 6]\n"
     ]
    }
   ],
   "source": [
    "arr1 = np.array([1, 2, 3, 4, 1])\n",
    "arr2 = np.array([3, 4, 5, 6, 6])\n",
    "\n",
    "newarr = np.intersect1d(arr1, arr2, assume_unique=False)\n",
    "\n",
    "print(newarr)\n",
    "newarr = np.intersect1d(arr1, arr2, assume_unique=True)\n",
    "\n",
    "print(newarr)"
   ],
   "metadata": {
    "collapsed": false,
    "ExecuteTime": {
     "end_time": "2023-06-19T13:32:40.474071600Z",
     "start_time": "2023-06-19T13:32:40.453934Z"
    }
   }
  },
  {
   "cell_type": "code",
   "execution_count": 84,
   "outputs": [
    {
     "name": "stdout",
     "output_type": "stream",
     "text": [
      "[1 2 1]\n"
     ]
    }
   ],
   "source": [
    "set1 = np.array([1, 2, 3, 4, 4, 1])\n",
    "set2 = np.array([3, 4, 5, 6])\n",
    "\n",
    "newarr = np.setdiff1d(set1, set2, assume_unique=True)\n",
    "\n",
    "print(newarr)"
   ],
   "metadata": {
    "collapsed": false,
    "ExecuteTime": {
     "end_time": "2023-06-19T13:33:32.422176800Z",
     "start_time": "2023-06-19T13:33:32.411724300Z"
    }
   }
  },
  {
   "cell_type": "code",
   "execution_count": 85,
   "outputs": [
    {
     "name": "stdout",
     "output_type": "stream",
     "text": [
      "[1 2 5 6]\n"
     ]
    }
   ],
   "source": [
    "set1 = np.array([1, 2, 3, 4])\n",
    "set2 = np.array([3, 4, 5, 6])\n",
    "\n",
    "newarr = np.setxor1d(set1, set2, assume_unique=True)\n",
    "\n",
    "print(newarr)"
   ],
   "metadata": {
    "collapsed": false,
    "ExecuteTime": {
     "end_time": "2023-06-19T13:34:12.341900500Z",
     "start_time": "2023-06-19T13:34:12.307271600Z"
    }
   }
  },
  {
   "cell_type": "code",
   "execution_count": null,
   "outputs": [],
   "source": [],
   "metadata": {
    "collapsed": false
   }
  }
 ],
 "metadata": {
  "kernelspec": {
   "display_name": "Python 3",
   "language": "python",
   "name": "python3"
  },
  "language_info": {
   "codemirror_mode": {
    "name": "ipython",
    "version": 2
   },
   "file_extension": ".py",
   "mimetype": "text/x-python",
   "name": "python",
   "nbconvert_exporter": "python",
   "pygments_lexer": "ipython2",
   "version": "2.7.6"
  }
 },
 "nbformat": 4,
 "nbformat_minor": 0
}
