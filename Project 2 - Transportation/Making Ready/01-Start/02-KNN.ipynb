{
 "cells": [
  {
   "cell_type": "code",
   "execution_count": 53,
   "metadata": {
    "collapsed": true,
    "ExecuteTime": {
     "end_time": "2023-07-06T18:28:17.175272500Z",
     "start_time": "2023-07-06T18:28:17.034391600Z"
    }
   },
   "outputs": [
    {
     "name": "stdout",
     "output_type": "stream",
     "text": [
      "The autoreload extension is already loaded. To reload it, use:\n",
      "  %reload_ext autoreload\n"
     ]
    }
   ],
   "source": [
    "%load_ext autoreload\n",
    "%autoreload 2\n",
    "import pandas as pd\n",
    "from sklearn.neighbors import KNeighborsClassifier\n",
    "import Toolkit_01 as ml"
   ]
  },
  {
   "cell_type": "code",
   "execution_count": 54,
   "outputs": [
    {
     "name": "stderr",
     "output_type": "stream",
     "text": [
      "C:\\Users\\keipj\\AppData\\Local\\Temp\\ipykernel_17884\\4148447108.py:15: SettingWithCopyWarning: \n",
      "A value is trying to be set on a copy of a slice from a DataFrame.\n",
      "Try using .loc[row_indexer,col_indexer] = value instead\n",
      "\n",
      "See the caveats in the documentation: https://pandas.pydata.org/pandas-docs/stable/user_guide/indexing.html#returning-a-view-versus-a-copy\n",
      "  data[\"str chance\"] = data[\"Chance of Admit\"].apply(lambda x: to_str(x))\n"
     ]
    },
    {
     "data": {
      "text/plain": "     Serial No.  GRE Score  TOEFL Score  University Rating  SOP  LOR   CGPA  \\\n0             1      337.0        118.0                  4  4.5   4.5  9.65   \n4             5      314.0        103.0                  2  2.0   3.0  8.21   \n5             6      330.0        115.0                  5  4.5   3.0  9.34   \n7             8      308.0        101.0                  2  3.0   4.0  7.90   \n8             9      302.0        102.0                  1  2.0   1.5  8.00   \n..          ...        ...          ...                ...  ...   ...   ...   \n394         395      329.0        111.0                  4  4.5   4.0  9.23   \n395         396      324.0        110.0                  3  3.5   3.5  9.04   \n397         398      330.0        116.0                  4  5.0   4.5  9.45   \n398         399      312.0        103.0                  3  3.5   4.0  8.78   \n399         400      333.0        117.0                  4  5.0   4.0  9.66   \n\n     Research  Chance of Admit str chance  \n0           1             0.92       high  \n4           0             0.65     normal  \n5           1             0.90       high  \n7           0             0.68     normal  \n8           0             0.50        low  \n..        ...              ...        ...  \n394         1             0.89       high  \n395         1             0.82       high  \n397         1             0.91       high  \n398         0             0.67     normal  \n399         1             0.95       high  \n\n[330 rows x 10 columns]",
      "text/html": "<div>\n<style scoped>\n    .dataframe tbody tr th:only-of-type {\n        vertical-align: middle;\n    }\n\n    .dataframe tbody tr th {\n        vertical-align: top;\n    }\n\n    .dataframe thead th {\n        text-align: right;\n    }\n</style>\n<table border=\"1\" class=\"dataframe\">\n  <thead>\n    <tr style=\"text-align: right;\">\n      <th></th>\n      <th>Serial No.</th>\n      <th>GRE Score</th>\n      <th>TOEFL Score</th>\n      <th>University Rating</th>\n      <th>SOP</th>\n      <th>LOR</th>\n      <th>CGPA</th>\n      <th>Research</th>\n      <th>Chance of Admit</th>\n      <th>str chance</th>\n    </tr>\n  </thead>\n  <tbody>\n    <tr>\n      <th>0</th>\n      <td>1</td>\n      <td>337.0</td>\n      <td>118.0</td>\n      <td>4</td>\n      <td>4.5</td>\n      <td>4.5</td>\n      <td>9.65</td>\n      <td>1</td>\n      <td>0.92</td>\n      <td>high</td>\n    </tr>\n    <tr>\n      <th>4</th>\n      <td>5</td>\n      <td>314.0</td>\n      <td>103.0</td>\n      <td>2</td>\n      <td>2.0</td>\n      <td>3.0</td>\n      <td>8.21</td>\n      <td>0</td>\n      <td>0.65</td>\n      <td>normal</td>\n    </tr>\n    <tr>\n      <th>5</th>\n      <td>6</td>\n      <td>330.0</td>\n      <td>115.0</td>\n      <td>5</td>\n      <td>4.5</td>\n      <td>3.0</td>\n      <td>9.34</td>\n      <td>1</td>\n      <td>0.90</td>\n      <td>high</td>\n    </tr>\n    <tr>\n      <th>7</th>\n      <td>8</td>\n      <td>308.0</td>\n      <td>101.0</td>\n      <td>2</td>\n      <td>3.0</td>\n      <td>4.0</td>\n      <td>7.90</td>\n      <td>0</td>\n      <td>0.68</td>\n      <td>normal</td>\n    </tr>\n    <tr>\n      <th>8</th>\n      <td>9</td>\n      <td>302.0</td>\n      <td>102.0</td>\n      <td>1</td>\n      <td>2.0</td>\n      <td>1.5</td>\n      <td>8.00</td>\n      <td>0</td>\n      <td>0.50</td>\n      <td>low</td>\n    </tr>\n    <tr>\n      <th>...</th>\n      <td>...</td>\n      <td>...</td>\n      <td>...</td>\n      <td>...</td>\n      <td>...</td>\n      <td>...</td>\n      <td>...</td>\n      <td>...</td>\n      <td>...</td>\n      <td>...</td>\n    </tr>\n    <tr>\n      <th>394</th>\n      <td>395</td>\n      <td>329.0</td>\n      <td>111.0</td>\n      <td>4</td>\n      <td>4.5</td>\n      <td>4.0</td>\n      <td>9.23</td>\n      <td>1</td>\n      <td>0.89</td>\n      <td>high</td>\n    </tr>\n    <tr>\n      <th>395</th>\n      <td>396</td>\n      <td>324.0</td>\n      <td>110.0</td>\n      <td>3</td>\n      <td>3.5</td>\n      <td>3.5</td>\n      <td>9.04</td>\n      <td>1</td>\n      <td>0.82</td>\n      <td>high</td>\n    </tr>\n    <tr>\n      <th>397</th>\n      <td>398</td>\n      <td>330.0</td>\n      <td>116.0</td>\n      <td>4</td>\n      <td>5.0</td>\n      <td>4.5</td>\n      <td>9.45</td>\n      <td>1</td>\n      <td>0.91</td>\n      <td>high</td>\n    </tr>\n    <tr>\n      <th>398</th>\n      <td>399</td>\n      <td>312.0</td>\n      <td>103.0</td>\n      <td>3</td>\n      <td>3.5</td>\n      <td>4.0</td>\n      <td>8.78</td>\n      <td>0</td>\n      <td>0.67</td>\n      <td>normal</td>\n    </tr>\n    <tr>\n      <th>399</th>\n      <td>400</td>\n      <td>333.0</td>\n      <td>117.0</td>\n      <td>4</td>\n      <td>5.0</td>\n      <td>4.0</td>\n      <td>9.66</td>\n      <td>1</td>\n      <td>0.95</td>\n      <td>high</td>\n    </tr>\n  </tbody>\n</table>\n<p>330 rows × 10 columns</p>\n</div>"
     },
     "execution_count": 54,
     "metadata": {},
     "output_type": "execute_result"
    }
   ],
   "source": [
    "init_data = pd.read_csv(\"AdmissionPredict.csv\")\n",
    "\n",
    "data = init_data.dropna()\n",
    "\n",
    "\n",
    "def to_str(x):\n",
    "    if x > 0.78:\n",
    "        return \"high\"\n",
    "    elif x > 0.50:\n",
    "        return \"normal\"\n",
    "    else:\n",
    "        return \"low\"\n",
    "\n",
    "\n",
    "data[\"str chance\"] = data[\"Chance of Admit\"].apply(lambda x: to_str(x))\n",
    "data"
   ],
   "metadata": {
    "collapsed": false,
    "ExecuteTime": {
     "end_time": "2023-07-06T18:28:17.776703100Z",
     "start_time": "2023-07-06T18:28:17.626417400Z"
    }
   }
  },
  {
   "cell_type": "code",
   "execution_count": 55,
   "outputs": [],
   "source": [
    "data_x = data.drop([\"Chance of Admit\", 'str chance', \"Serial No.\"], axis=1)\n",
    "y = data[\"str chance\"]"
   ],
   "metadata": {
    "collapsed": false,
    "ExecuteTime": {
     "end_time": "2023-07-06T18:28:20.136782500Z",
     "start_time": "2023-07-06T18:28:20.001397Z"
    }
   }
  },
  {
   "cell_type": "code",
   "execution_count": 56,
   "outputs": [
    {
     "name": "stdout",
     "output_type": "stream",
     "text": [
      "accuracy is : 0.85 %\n"
     ]
    }
   ],
   "source": [
    "data_train, data_test, y_train, y_test = ml.split_scale(data_x, y, random_state=None)\n",
    "\n",
    "k = 10\n",
    "model = KNeighborsClassifier(n_neighbors=k)\n",
    "model.fit(data_train, y_train)\n",
    "acc = model.score(data_test, y_test)\n",
    "print(f\"accuracy is : {acc:.2f} %\")\n",
    "\n"
   ],
   "metadata": {
    "collapsed": false,
    "ExecuteTime": {
     "end_time": "2023-07-06T18:28:23.540776Z",
     "start_time": "2023-07-06T18:28:23.401110100Z"
    }
   }
  },
  {
   "cell_type": "code",
   "execution_count": 57,
   "outputs": [
    {
     "name": "stdout",
     "output_type": "stream",
     "text": [
      "high\n",
      "high\n",
      "high\n",
      "high\n",
      "high\n"
     ]
    }
   ],
   "source": [
    "print(model.predict([[340, 120, 5, 4.5, 4.5, 9.6, 1]])[0])\n",
    "print(model.predict([[340, 120, 5, 4, 4, 9, 1]])[0])\n",
    "print(model.predict([[315, 110, 5, 4, 4, 9, 1]])[0])\n",
    "print(model.predict([[290, 80, 1, 1, 1, 1, 0]])[0])\n",
    "print(model.predict([[304, 100, 4, 1.5, 2.5, 7.84, 0]])[0])\n"
   ],
   "metadata": {
    "collapsed": false,
    "ExecuteTime": {
     "end_time": "2023-07-06T18:28:25.107449500Z",
     "start_time": "2023-07-06T18:28:24.968583300Z"
    }
   }
  },
  {
   "cell_type": "code",
   "execution_count": 52,
   "outputs": [
    {
     "name": "stdout",
     "output_type": "stream",
     "text": [
      "super high\n",
      "super high\n",
      "super high\n",
      "super high\n",
      "super high\n"
     ]
    }
   ],
   "source": [
    "print(model.predict([[340, 120, 5, 4.5, 4.5, 9.6, 1]])[0])\n",
    "print(model.predict([[340, 120, 5, 4, 4, 9, 1]])[0])\n",
    "print(model.predict([[315, 110, 5, 4, 4, 9, 1]])[0])\n",
    "print(model.predict([[290, 80, 1, 1, 1, 1, 0]])[0])\n",
    "print(model.predict([[304, 100, 4, 1.5, 2.5, 7.84, 0]])[0])\n"
   ],
   "metadata": {
    "collapsed": false,
    "ExecuteTime": {
     "end_time": "2023-07-06T18:19:06.090525800Z",
     "start_time": "2023-07-06T18:19:05.939319500Z"
    }
   }
  },
  {
   "cell_type": "code",
   "execution_count": null,
   "outputs": [],
   "source": [],
   "metadata": {
    "collapsed": false
   }
  }
 ],
 "metadata": {
  "kernelspec": {
   "display_name": "Python 3",
   "language": "python",
   "name": "python3"
  },
  "language_info": {
   "codemirror_mode": {
    "name": "ipython",
    "version": 2
   },
   "file_extension": ".py",
   "mimetype": "text/x-python",
   "name": "python",
   "nbconvert_exporter": "python",
   "pygments_lexer": "ipython2",
   "version": "2.7.6"
  }
 },
 "nbformat": 4,
 "nbformat_minor": 0
}
