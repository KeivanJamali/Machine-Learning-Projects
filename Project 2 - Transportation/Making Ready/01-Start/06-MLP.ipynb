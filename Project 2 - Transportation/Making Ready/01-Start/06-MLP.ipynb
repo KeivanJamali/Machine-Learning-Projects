{
 "cells": [
  {
   "cell_type": "code",
   "execution_count": 2,
   "metadata": {
    "collapsed": true,
    "ExecuteTime": {
     "end_time": "2023-07-08T12:35:45.164443500Z",
     "start_time": "2023-07-08T12:35:45.152709600Z"
    }
   },
   "outputs": [],
   "source": [
    "import torch\n",
    "import torch.nn as nn\n",
    "import torch.optim as optim\n",
    "import pandas as pd\n",
    "import Toolkit_01 as ml"
   ]
  },
  {
   "cell_type": "markdown",
   "source": [
    "# Step 1: Load the data"
   ],
   "metadata": {
    "collapsed": false
   }
  },
  {
   "cell_type": "code",
   "execution_count": 24,
   "outputs": [
    {
     "data": {
      "text/plain": "array([[337.  , 118.  ,   4.  , ...,   4.5 ,   9.65,   1.  ],\n       [314.  , 103.  ,   2.  , ...,   3.  ,   8.21,   0.  ],\n       [330.  , 115.  ,   5.  , ...,   3.  ,   9.34,   1.  ],\n       ...,\n       [330.  , 116.  ,   4.  , ...,   4.5 ,   9.45,   1.  ],\n       [312.  , 103.  ,   3.  , ...,   4.  ,   8.78,   0.  ],\n       [333.  , 117.  ,   4.  , ...,   4.  ,   9.66,   1.  ]])"
     },
     "execution_count": 24,
     "metadata": {},
     "output_type": "execute_result"
    }
   ],
   "source": [
    "init_data = pd.read_csv(\"AdmissionPredict.csv\")\n",
    "data = init_data.copy().dropna()\n",
    "data_x = data.iloc[:, 1:-1].values\n",
    "y = data.iloc[:, -1].values"
   ],
   "metadata": {
    "collapsed": false,
    "ExecuteTime": {
     "end_time": "2023-07-08T13:28:18.920542Z",
     "start_time": "2023-07-08T13:28:18.897703700Z"
    }
   }
  },
  {
   "cell_type": "markdown",
   "source": [
    "# Step 2: Split the data into training and validation sets"
   ],
   "metadata": {
    "collapsed": false
   }
  },
  {
   "cell_type": "code",
   "execution_count": 4,
   "outputs": [],
   "source": [
    "data_train, data_test, y_train, y_test = ml.split_scale(data_x, y, test_size=0.2, random_state=1)"
   ],
   "metadata": {
    "collapsed": false,
    "ExecuteTime": {
     "end_time": "2023-07-08T12:37:18.030054Z",
     "start_time": "2023-07-08T12:37:18.009732600Z"
    }
   }
  },
  {
   "cell_type": "markdown",
   "source": [
    "# Step 3: Define the MLP"
   ],
   "metadata": {
    "collapsed": false
   }
  },
  {
   "cell_type": "code",
   "execution_count": 5,
   "outputs": [],
   "source": [
    "class MLP(nn.Module):\n",
    "    def __init__(self, input_size, hidden_size, output_size):\n",
    "        super(MLP, self).__init__()\n",
    "        self.fc1 = nn.Linear(input_size, hidden_size)\n",
    "        self.relu = nn.ReLU()\n",
    "        self.fc2 = nn.Linear(hidden_size, output_size)\n",
    "\n",
    "    def forward(self, x):\n",
    "        out = self.fc1(x)\n",
    "        out = self.relu(out)\n",
    "        out = self.fc2(out)\n",
    "        return out"
   ],
   "metadata": {
    "collapsed": false,
    "ExecuteTime": {
     "end_time": "2023-07-08T12:37:20.495159300Z",
     "start_time": "2023-07-08T12:37:20.490150200Z"
    }
   }
  },
  {
   "cell_type": "markdown",
   "source": [
    "# Step 4: Define the hyperparameters"
   ],
   "metadata": {
    "collapsed": false
   }
  },
  {
   "cell_type": "code",
   "execution_count": 28,
   "outputs": [],
   "source": [
    "print(data_x.shape[1])  # it is 7 here\n",
    "input_size = 7\n",
    "hidden_size = 3\n",
    "output_size = 1\n",
    "num_epochs = 100\n",
    "batch_size = 100\n",
    "learning_rate = 0.001"
   ],
   "metadata": {
    "collapsed": false,
    "ExecuteTime": {
     "end_time": "2023-07-08T13:48:04.724036600Z",
     "start_time": "2023-07-08T13:48:04.717585300Z"
    }
   }
  },
  {
   "cell_type": "markdown",
   "source": [
    "# Step 5: Define Data Loaders"
   ],
   "metadata": {
    "collapsed": false
   }
  },
  {
   "cell_type": "code",
   "execution_count": 29,
   "outputs": [],
   "source": [
    "temp_x = torch.Tensor(data_train)\n",
    "temp_y = torch.Tensor(y_train)\n",
    "train_data = torch.utils.data.TensorDataset(temp_x, temp_y)\n",
    "\n",
    "train_loader = torch.utils.data.DataLoader(train_data, batch_size=batch_size, shuffle=True)"
   ],
   "metadata": {
    "collapsed": false,
    "ExecuteTime": {
     "end_time": "2023-07-08T13:48:05.856672700Z",
     "start_time": "2023-07-08T13:48:05.844419100Z"
    }
   }
  },
  {
   "cell_type": "code",
   "execution_count": 30,
   "outputs": [],
   "source": [
    "temp_x = torch.Tensor(data_test)\n",
    "temp_y = torch.Tensor(y_test)\n",
    "test_data = torch.utils.data.TensorDataset(temp_x, temp_y)\n",
    "\n",
    "test_loader = torch.utils.data.DataLoader(test_data, batch_size=batch_size, shuffle=True)"
   ],
   "metadata": {
    "collapsed": false,
    "ExecuteTime": {
     "end_time": "2023-07-08T13:48:06.255753300Z",
     "start_time": "2023-07-08T13:48:06.235788400Z"
    }
   }
  },
  {
   "cell_type": "markdown",
   "source": [
    "# Step 6: Train the MLP"
   ],
   "metadata": {
    "collapsed": false
   }
  },
  {
   "cell_type": "code",
   "execution_count": 31,
   "outputs": [],
   "source": [
    "model = MLP(input_size, hidden_size, output_size)\n",
    "criterion = nn.MSELoss()\n",
    "optimizer = optim.Adam(model.parameters(), lr=learning_rate)"
   ],
   "metadata": {
    "collapsed": false,
    "ExecuteTime": {
     "end_time": "2023-07-08T13:48:07.139207600Z",
     "start_time": "2023-07-08T13:48:07.105867600Z"
    }
   }
  },
  {
   "cell_type": "code",
   "execution_count": 32,
   "outputs": [
    {
     "name": "stdout",
     "output_type": "stream",
     "text": [
      "Epoch 1/100, Training Loss: 1.0359, Validation Loss: 0.2738\n",
      "Epoch 2/100, Training Loss: 1.0667, Validation Loss: 0.2478\n",
      "Epoch 3/100, Training Loss: 0.8569, Validation Loss: 0.2220\n",
      "Epoch 4/100, Training Loss: 0.6369, Validation Loss: 0.1962\n",
      "Epoch 5/100, Training Loss: 0.7945, Validation Loss: 0.1714\n",
      "Epoch 6/100, Training Loss: 0.5014, Validation Loss: 0.1493\n",
      "Epoch 7/100, Training Loss: 0.6136, Validation Loss: 0.1305\n",
      "Epoch 8/100, Training Loss: 0.4076, Validation Loss: 0.1155\n",
      "Epoch 9/100, Training Loss: 0.1559, Validation Loss: 0.1041\n",
      "Epoch 10/100, Training Loss: 0.3344, Validation Loss: 0.0954\n",
      "Epoch 11/100, Training Loss: 0.3649, Validation Loss: 0.0889\n",
      "Epoch 12/100, Training Loss: 0.5345, Validation Loss: 0.0836\n",
      "Epoch 13/100, Training Loss: 0.3222, Validation Loss: 0.0790\n",
      "Epoch 14/100, Training Loss: 0.1389, Validation Loss: 0.0748\n",
      "Epoch 15/100, Training Loss: 0.3019, Validation Loss: 0.0709\n",
      "Epoch 16/100, Training Loss: 0.1733, Validation Loss: 0.0668\n",
      "Epoch 17/100, Training Loss: 0.2581, Validation Loss: 0.0629\n",
      "Epoch 18/100, Training Loss: 0.1876, Validation Loss: 0.0590\n",
      "Epoch 19/100, Training Loss: 0.3163, Validation Loss: 0.0551\n",
      "Epoch 20/100, Training Loss: 0.1111, Validation Loss: 0.0502\n",
      "Epoch 21/100, Training Loss: 0.2248, Validation Loss: 0.0432\n",
      "Epoch 22/100, Training Loss: 0.1167, Validation Loss: 0.0349\n",
      "Epoch 23/100, Training Loss: 0.1179, Validation Loss: 0.0300\n",
      "Epoch 24/100, Training Loss: 0.0496, Validation Loss: 0.0280\n",
      "Epoch 25/100, Training Loss: 0.1921, Validation Loss: 0.0263\n",
      "Epoch 26/100, Training Loss: 0.0537, Validation Loss: 0.0242\n",
      "Epoch 27/100, Training Loss: 0.0888, Validation Loss: 0.0225\n",
      "Epoch 28/100, Training Loss: 0.0444, Validation Loss: 0.0208\n",
      "Epoch 29/100, Training Loss: 0.0513, Validation Loss: 0.0190\n",
      "Epoch 30/100, Training Loss: 0.0542, Validation Loss: 0.0174\n",
      "Epoch 31/100, Training Loss: 0.0722, Validation Loss: 0.0159\n",
      "Epoch 32/100, Training Loss: 0.1166, Validation Loss: 0.0144\n",
      "Epoch 33/100, Training Loss: 0.1213, Validation Loss: 0.0129\n",
      "Epoch 34/100, Training Loss: 0.0374, Validation Loss: 0.0114\n",
      "Epoch 35/100, Training Loss: 0.0342, Validation Loss: 0.0103\n",
      "Epoch 36/100, Training Loss: 0.0182, Validation Loss: 0.0091\n",
      "Epoch 37/100, Training Loss: 0.0138, Validation Loss: 0.0080\n",
      "Epoch 38/100, Training Loss: 0.0407, Validation Loss: 0.0070\n",
      "Epoch 39/100, Training Loss: 0.0060, Validation Loss: 0.0062\n",
      "Epoch 40/100, Training Loss: 0.0178, Validation Loss: 0.0055\n",
      "Epoch 41/100, Training Loss: 0.0136, Validation Loss: 0.0049\n",
      "Epoch 42/100, Training Loss: 0.0088, Validation Loss: 0.0044\n",
      "Epoch 43/100, Training Loss: 0.0206, Validation Loss: 0.0039\n",
      "Epoch 44/100, Training Loss: 0.0267, Validation Loss: 0.0035\n",
      "Epoch 45/100, Training Loss: 0.0063, Validation Loss: 0.0031\n",
      "Epoch 46/100, Training Loss: 0.0119, Validation Loss: 0.0029\n",
      "Epoch 47/100, Training Loss: 0.0068, Validation Loss: 0.0026\n",
      "Epoch 48/100, Training Loss: 0.0194, Validation Loss: 0.0024\n",
      "Epoch 49/100, Training Loss: 0.0062, Validation Loss: 0.0022\n",
      "Epoch 50/100, Training Loss: 0.0026, Validation Loss: 0.0021\n",
      "Epoch 51/100, Training Loss: 0.0046, Validation Loss: 0.0019\n",
      "Epoch 52/100, Training Loss: 0.0071, Validation Loss: 0.0018\n",
      "Epoch 53/100, Training Loss: 0.0031, Validation Loss: 0.0017\n",
      "Epoch 54/100, Training Loss: 0.0017, Validation Loss: 0.0016\n",
      "Epoch 55/100, Training Loss: 0.0074, Validation Loss: 0.0016\n",
      "Epoch 56/100, Training Loss: 0.0038, Validation Loss: 0.0015\n",
      "Epoch 57/100, Training Loss: 0.0050, Validation Loss: 0.0014\n",
      "Epoch 58/100, Training Loss: 0.0077, Validation Loss: 0.0014\n",
      "Epoch 59/100, Training Loss: 0.0027, Validation Loss: 0.0013\n",
      "Epoch 60/100, Training Loss: 0.0113, Validation Loss: 0.0013\n",
      "Epoch 61/100, Training Loss: 0.0035, Validation Loss: 0.0012\n",
      "Epoch 62/100, Training Loss: 0.0022, Validation Loss: 0.0012\n",
      "Epoch 63/100, Training Loss: 0.0040, Validation Loss: 0.0012\n",
      "Epoch 64/100, Training Loss: 0.0043, Validation Loss: 0.0011\n",
      "Epoch 65/100, Training Loss: 0.0041, Validation Loss: 0.0011\n",
      "Epoch 66/100, Training Loss: 0.0034, Validation Loss: 0.0011\n",
      "Epoch 67/100, Training Loss: 0.0113, Validation Loss: 0.0011\n",
      "Epoch 68/100, Training Loss: 0.0011, Validation Loss: 0.0010\n",
      "Epoch 69/100, Training Loss: 0.0042, Validation Loss: 0.0010\n",
      "Epoch 70/100, Training Loss: 0.0030, Validation Loss: 0.0010\n",
      "Epoch 71/100, Training Loss: 0.0080, Validation Loss: 0.0010\n",
      "Epoch 72/100, Training Loss: 0.0029, Validation Loss: 0.0010\n",
      "Epoch 73/100, Training Loss: 0.0044, Validation Loss: 0.0010\n",
      "Epoch 74/100, Training Loss: 0.0026, Validation Loss: 0.0010\n",
      "Epoch 75/100, Training Loss: 0.0081, Validation Loss: 0.0009\n",
      "Epoch 76/100, Training Loss: 0.0047, Validation Loss: 0.0009\n",
      "Epoch 77/100, Training Loss: 0.0064, Validation Loss: 0.0009\n",
      "Epoch 78/100, Training Loss: 0.0040, Validation Loss: 0.0009\n",
      "Epoch 79/100, Training Loss: 0.0047, Validation Loss: 0.0009\n",
      "Epoch 80/100, Training Loss: 0.0039, Validation Loss: 0.0009\n",
      "Epoch 81/100, Training Loss: 0.0014, Validation Loss: 0.0009\n",
      "Epoch 82/100, Training Loss: 0.0003, Validation Loss: 0.0009\n",
      "Epoch 83/100, Training Loss: 0.0021, Validation Loss: 0.0009\n",
      "Epoch 84/100, Training Loss: 0.0002, Validation Loss: 0.0009\n",
      "Epoch 85/100, Training Loss: 0.0052, Validation Loss: 0.0009\n",
      "Epoch 86/100, Training Loss: 0.0013, Validation Loss: 0.0009\n",
      "Epoch 87/100, Training Loss: 0.0039, Validation Loss: 0.0009\n",
      "Epoch 88/100, Training Loss: 0.0084, Validation Loss: 0.0009\n",
      "Epoch 89/100, Training Loss: 0.0111, Validation Loss: 0.0009\n",
      "Epoch 90/100, Training Loss: 0.0012, Validation Loss: 0.0009\n",
      "Epoch 91/100, Training Loss: 0.0173, Validation Loss: 0.0009\n",
      "Epoch 92/100, Training Loss: 0.0080, Validation Loss: 0.0009\n",
      "Epoch 93/100, Training Loss: 0.0158, Validation Loss: 0.0009\n",
      "Epoch 94/100, Training Loss: 0.0041, Validation Loss: 0.0009\n",
      "Epoch 95/100, Training Loss: 0.0056, Validation Loss: 0.0009\n",
      "Epoch 96/100, Training Loss: 0.0050, Validation Loss: 0.0008\n",
      "Epoch 97/100, Training Loss: 0.0067, Validation Loss: 0.0008\n",
      "Epoch 98/100, Training Loss: 0.0027, Validation Loss: 0.0009\n",
      "Epoch 99/100, Training Loss: 0.0095, Validation Loss: 0.0008\n",
      "Epoch 100/100, Training Loss: 0.0019, Validation Loss: 0.0008\n"
     ]
    }
   ],
   "source": [
    "for epoch in range(num_epochs):\n",
    "    for i, (inputs, labels) in enumerate(train_loader):\n",
    "        output = model(inputs)\n",
    "        loss = criterion(output, labels.unsqueeze(1))\n",
    "        optimizer.zero_grad()\n",
    "        loss.backward()\n",
    "        optimizer.step()\n",
    "\n",
    "    with torch.no_grad():\n",
    "        val_loss = 0.0\n",
    "        for inputs, labels in test_loader:\n",
    "            output = model(inputs)\n",
    "            val_loss += criterion(output, labels.unsqueeze(1)).item() * inputs.size(0)\n",
    "        val_loss /= len(train_loader.dataset)\n",
    "        print(f\"Epoch {epoch + 1}/{num_epochs}, Training Loss: {loss.item():.4f}, Validation Loss: {val_loss:.4f}\")\n"
   ],
   "metadata": {
    "collapsed": false,
    "ExecuteTime": {
     "end_time": "2023-07-08T13:57:42.144797Z",
     "start_time": "2023-07-08T13:57:40.065648600Z"
    }
   }
  },
  {
   "cell_type": "code",
   "execution_count": 34,
   "outputs": [
    {
     "name": "stdout",
     "output_type": "stream",
     "text": [
      "Predicted chance of admission: 0.9039\n",
      "Predicted chance of admission: 0.7877\n",
      "Predicted chance of admission: 0.4946\n"
     ]
    }
   ],
   "source": [
    "new_data = torch.Tensor([[340, 120, 5, 4, 4, 9, 1]])\n",
    "prediction = model(new_data).item()\n",
    "print(f\"Predicted chance of admission: {prediction:.4f}\")\n",
    "new_data = torch.Tensor([[315, 110, 5, 4, 4, 9, 1]])\n",
    "prediction = model(new_data).item()\n",
    "print(f\"Predicted chance of admission: {prediction:.4f}\")\n",
    "new_data = torch.Tensor([[290, 80, 1, 1, 1, 1, 0]])\n",
    "prediction = model(new_data).item()\n",
    "print(f\"Predicted chance of admission: {prediction:.4f}\")"
   ],
   "metadata": {
    "collapsed": false,
    "ExecuteTime": {
     "end_time": "2023-07-08T13:58:35.087113900Z",
     "start_time": "2023-07-08T13:58:35.055827400Z"
    }
   }
  },
  {
   "cell_type": "code",
   "execution_count": null,
   "outputs": [],
   "source": [],
   "metadata": {
    "collapsed": false
   }
  }
 ],
 "metadata": {
  "kernelspec": {
   "display_name": "Python 3",
   "language": "python",
   "name": "python3"
  },
  "language_info": {
   "codemirror_mode": {
    "name": "ipython",
    "version": 2
   },
   "file_extension": ".py",
   "mimetype": "text/x-python",
   "name": "python",
   "nbconvert_exporter": "python",
   "pygments_lexer": "ipython2",
   "version": "2.7.6"
  }
 },
 "nbformat": 4,
 "nbformat_minor": 0
}
