{
 "cells": [
  {
   "cell_type": "code",
   "execution_count": 1,
   "id": "initial_id",
   "metadata": {
    "collapsed": true,
    "ExecuteTime": {
     "end_time": "2024-02-08T15:01:12.585614300Z",
     "start_time": "2024-02-08T15:01:11.868747700Z"
    }
   },
   "outputs": [],
   "source": [
    "import pandas as pd\n",
    "import numpy as np"
   ]
  },
  {
   "cell_type": "code",
   "execution_count": 23,
   "outputs": [],
   "source": [
    "file = pd.read_csv(\"data/Anaheim/Scaled/random_0/)"
   ],
   "metadata": {
    "collapsed": false,
    "ExecuteTime": {
     "end_time": "2023-10-01T06:09:28.952302400Z",
     "start_time": "2023-10-01T06:09:28.933615Z"
    }
   },
   "id": "3207fb81fcf12e22"
  },
  {
   "cell_type": "code",
   "execution_count": 26,
   "outputs": [],
   "source": [
    "file = file.iloc[:,:-1]"
   ],
   "metadata": {
    "collapsed": false,
    "ExecuteTime": {
     "end_time": "2023-10-01T06:10:13.250758500Z",
     "start_time": "2023-10-01T06:10:13.230919100Z"
    }
   },
   "id": "bbc161fbffb3e8a7"
  },
  {
   "cell_type": "code",
   "execution_count": 8,
   "outputs": [],
   "source": [
    "file2 = pd.read_csv(\"raw_data/Anaheim/Anaheim_node.csv\")"
   ],
   "metadata": {
    "collapsed": false,
    "ExecuteTime": {
     "end_time": "2023-10-01T06:07:33.461235600Z",
     "start_time": "2023-10-01T06:07:33.428622200Z"
    }
   },
   "id": "d33895a8b6f30e2d"
  },
  {
   "cell_type": "code",
   "execution_count": 9,
   "outputs": [
    {
     "data": {
      "text/plain": "      Id           X          Y\n0      1 -117.880142  33.871156\n1      2 -117.815161  33.850173\n2      3 -117.831044  33.759772\n3      4 -117.867542  33.767953\n4      5 -118.010965  33.774600\n..   ...         ...        ...\n411  412 -118.001856  33.788513\n412  413 -118.002092  33.802835\n413  414 -118.002033  33.817394\n414  415 -118.002270  33.832013\n415  416 -118.002206  33.846710\n\n[416 rows x 3 columns]",
      "text/html": "<div>\n<style scoped>\n    .dataframe tbody tr th:only-of-type {\n        vertical-align: middle;\n    }\n\n    .dataframe tbody tr th {\n        vertical-align: top;\n    }\n\n    .dataframe thead th {\n        text-align: right;\n    }\n</style>\n<table border=\"1\" class=\"dataframe\">\n  <thead>\n    <tr style=\"text-align: right;\">\n      <th></th>\n      <th>Id</th>\n      <th>X</th>\n      <th>Y</th>\n    </tr>\n  </thead>\n  <tbody>\n    <tr>\n      <th>0</th>\n      <td>1</td>\n      <td>-117.880142</td>\n      <td>33.871156</td>\n    </tr>\n    <tr>\n      <th>1</th>\n      <td>2</td>\n      <td>-117.815161</td>\n      <td>33.850173</td>\n    </tr>\n    <tr>\n      <th>2</th>\n      <td>3</td>\n      <td>-117.831044</td>\n      <td>33.759772</td>\n    </tr>\n    <tr>\n      <th>3</th>\n      <td>4</td>\n      <td>-117.867542</td>\n      <td>33.767953</td>\n    </tr>\n    <tr>\n      <th>4</th>\n      <td>5</td>\n      <td>-118.010965</td>\n      <td>33.774600</td>\n    </tr>\n    <tr>\n      <th>...</th>\n      <td>...</td>\n      <td>...</td>\n      <td>...</td>\n    </tr>\n    <tr>\n      <th>411</th>\n      <td>412</td>\n      <td>-118.001856</td>\n      <td>33.788513</td>\n    </tr>\n    <tr>\n      <th>412</th>\n      <td>413</td>\n      <td>-118.002092</td>\n      <td>33.802835</td>\n    </tr>\n    <tr>\n      <th>413</th>\n      <td>414</td>\n      <td>-118.002033</td>\n      <td>33.817394</td>\n    </tr>\n    <tr>\n      <th>414</th>\n      <td>415</td>\n      <td>-118.002270</td>\n      <td>33.832013</td>\n    </tr>\n    <tr>\n      <th>415</th>\n      <td>416</td>\n      <td>-118.002206</td>\n      <td>33.846710</td>\n    </tr>\n  </tbody>\n</table>\n<p>416 rows × 3 columns</p>\n</div>"
     },
     "execution_count": 9,
     "metadata": {},
     "output_type": "execute_result"
    }
   ],
   "source": [
    "file2"
   ],
   "metadata": {
    "collapsed": false,
    "ExecuteTime": {
     "end_time": "2023-10-01T06:07:33.648618700Z",
     "start_time": "2023-10-01T06:07:33.635197800Z"
    }
   },
   "id": "12bc62b45b712a5a"
  },
  {
   "cell_type": "code",
   "execution_count": 29,
   "outputs": [],
   "source": [
    "file.to_csv(\"raw_data/GoldCoast/GoldCoast_node.csv\", index_label=False)"
   ],
   "metadata": {
    "collapsed": false,
    "ExecuteTime": {
     "end_time": "2023-10-01T06:12:44.575304200Z",
     "start_time": "2023-10-01T06:12:44.544060100Z"
    }
   },
   "id": "5abb6fbd62be5e00"
  },
  {
   "cell_type": "code",
   "execution_count": 30,
   "outputs": [
    {
     "data": {
      "text/plain": "      node           x          y\n0        1  153.298331 -28.002117\n1        2  153.529365 -28.197058\n2        3  153.541420 -28.188706\n3        4  153.313156 -27.873778\n4        5  153.314272 -27.871566\n...    ...         ...        ...\n4802  4803  153.398574 -27.975851\n4803  4804  153.408059 -27.952699\n4804  4805  153.408099 -27.953954\n4805  4806  153.406625 -27.957170\n4806  4807  153.400017 -27.932003\n\n[4807 rows x 3 columns]",
      "text/html": "<div>\n<style scoped>\n    .dataframe tbody tr th:only-of-type {\n        vertical-align: middle;\n    }\n\n    .dataframe tbody tr th {\n        vertical-align: top;\n    }\n\n    .dataframe thead th {\n        text-align: right;\n    }\n</style>\n<table border=\"1\" class=\"dataframe\">\n  <thead>\n    <tr style=\"text-align: right;\">\n      <th></th>\n      <th>node</th>\n      <th>x</th>\n      <th>y</th>\n    </tr>\n  </thead>\n  <tbody>\n    <tr>\n      <th>0</th>\n      <td>1</td>\n      <td>153.298331</td>\n      <td>-28.002117</td>\n    </tr>\n    <tr>\n      <th>1</th>\n      <td>2</td>\n      <td>153.529365</td>\n      <td>-28.197058</td>\n    </tr>\n    <tr>\n      <th>2</th>\n      <td>3</td>\n      <td>153.541420</td>\n      <td>-28.188706</td>\n    </tr>\n    <tr>\n      <th>3</th>\n      <td>4</td>\n      <td>153.313156</td>\n      <td>-27.873778</td>\n    </tr>\n    <tr>\n      <th>4</th>\n      <td>5</td>\n      <td>153.314272</td>\n      <td>-27.871566</td>\n    </tr>\n    <tr>\n      <th>...</th>\n      <td>...</td>\n      <td>...</td>\n      <td>...</td>\n    </tr>\n    <tr>\n      <th>4802</th>\n      <td>4803</td>\n      <td>153.398574</td>\n      <td>-27.975851</td>\n    </tr>\n    <tr>\n      <th>4803</th>\n      <td>4804</td>\n      <td>153.408059</td>\n      <td>-27.952699</td>\n    </tr>\n    <tr>\n      <th>4804</th>\n      <td>4805</td>\n      <td>153.408099</td>\n      <td>-27.953954</td>\n    </tr>\n    <tr>\n      <th>4805</th>\n      <td>4806</td>\n      <td>153.406625</td>\n      <td>-27.957170</td>\n    </tr>\n    <tr>\n      <th>4806</th>\n      <td>4807</td>\n      <td>153.400017</td>\n      <td>-27.932003</td>\n    </tr>\n  </tbody>\n</table>\n<p>4807 rows × 3 columns</p>\n</div>"
     },
     "execution_count": 30,
     "metadata": {},
     "output_type": "execute_result"
    }
   ],
   "source": [
    "pd.read_csv(\"raw_data/GoldCoast/GoldCoast_node.csv\")"
   ],
   "metadata": {
    "collapsed": false,
    "ExecuteTime": {
     "end_time": "2023-10-01T06:12:45.980420900Z",
     "start_time": "2023-10-01T06:12:45.965544600Z"
    }
   },
   "id": "5c9b1360ed8f6f0"
  },
  {
   "cell_type": "code",
   "execution_count": null,
   "outputs": [],
   "source": [],
   "metadata": {
    "collapsed": false
   },
   "id": "ad4ded72a1b0b3b9"
  }
 ],
 "metadata": {
  "kernelspec": {
   "display_name": "Python 3",
   "language": "python",
   "name": "python3"
  },
  "language_info": {
   "codemirror_mode": {
    "name": "ipython",
    "version": 2
   },
   "file_extension": ".py",
   "mimetype": "text/x-python",
   "name": "python",
   "nbconvert_exporter": "python",
   "pygments_lexer": "ipython2",
   "version": "2.7.6"
  }
 },
 "nbformat": 4,
 "nbformat_minor": 5
}
