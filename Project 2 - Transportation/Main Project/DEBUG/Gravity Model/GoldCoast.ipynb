{
 "cells": [
  {
   "cell_type": "code",
   "execution_count": 1,
   "outputs": [],
   "source": [
    "import numpy as np\n",
    "%load_ext autoreload\n",
    "%autoreload 2\n",
    "import Gravity_Model as Js"
   ],
   "metadata": {
    "collapsed": false,
    "ExecuteTime": {
     "end_time": "2023-10-12T09:21:59.801117600Z",
     "start_time": "2023-10-12T09:21:58.120469400Z"
    }
   },
   "id": "bab5693ffaaf435f"
  },
  {
   "cell_type": "markdown",
   "source": [
    "# Scaled"
   ],
   "metadata": {
    "collapsed": false
   },
   "id": "5f6633acdc4fecab"
  },
  {
   "cell_type": "code",
   "execution_count": 32,
   "outputs": [],
   "source": [
    "# mis = [0.1, 0.2, 0.3, 0.4, 0.5, 0.6, 0.7, 0.8, 0.9]\n",
    "mis = [0.97]\n",
    "# random_state = [0, 5, 10, 15, 20, 25, 30, 35, 40, 50]\n",
    "random_state = [0]\n",
    "num = 0\n",
    "for _ in random_state:\n",
    "    num += 1\n",
    "    # model_guess = Js.GM()\n",
    "    # model_guess.pass_data_from_folder_scaled(folder=f\"prepared_data/prepared_data-{num}/Scaled/GoldCoast\", missing_rate=mis, approach=\"guess\",\n",
    "    #                                          scale_time_period=5, saved_plot_folder=f\"All_plots/Plots{num}/Scaled/GoldCoast_plots/guess\",\n",
    "    #                                          saved_data_folder=f\"All_results/Results{num}/Scaled/GoldCoast_data\")\n",
    "\n",
    "    model_exp = Js.GM()\n",
    "    model_exp.pass_data_from_folder_scaled(folder=f\"prepared_data/prepared_data-{num}/Scaled/GoldCoast\",\n",
    "                                           missing_rate=mis, approach=\"exp\",\n",
    "                                           saved_plot_folder=f\"All_plots/Plots{num}/GoldCoast_plots/exp\",\n",
    "                                           saved_data_folder=f\"All_results/Results{num}/GoldCoast_data\",\n",
    "                                           bins=np.arange(-0.5, 0.55, 0.05))\n",
    "\n",
    "    # model_power = Js.GM()\n",
    "    # model_power.pass_data_from_folder_scaled(folder=f\"prepared_data/prepared_data-{num}/Scaled/GoldCoast\",\n",
    "    #                                          missing_rate=mis, approach=\"power\",\n",
    "    #                                          saved_plot_folder=f\"All_plots/Plots{num}/GoldCoast_plots/power\",\n",
    "    #                                          saved_data_folder=f\"All_results/Results{num}/GoldCoast_data\",\n",
    "    #                                          bins=np.arange(-0.5, 0.55, 0.05))\n",
    "\n",
    "    # model_tanner = Js.GM()\n",
    "    # model_tanner.pass_data_from_folder_scaled(folder=f\"prepared_data/prepared_data-{num}/Scaled/GoldCoast\", missing_rate=mis, approach=\"tanner\",\n",
    "    #                                           saved_plot_folder=f\"All_plots/Plots{num}/Scaled/GoldCoast_plots/tanner\",\n",
    "    #                                           saved_data_folder=f\"All_results/Results{num}/Scaled/GoldCoast_data\")"
   ],
   "metadata": {
    "collapsed": false,
    "ExecuteTime": {
     "end_time": "2023-10-12T09:41:07.528142400Z",
     "start_time": "2023-10-12T09:41:05.027872500Z"
    }
   },
   "id": "f0e2892bdf1eb7bf"
  },
  {
   "cell_type": "markdown",
   "source": [
    "# Debuginh done.\n",
    "> to fix the problem in large missing rates: i change the line 565 from:\n",
    "            od = pd.read_csv(f\"{folder}/{sub_folder}/at_miss{i:.2f}_train_od_matrix.csv\")\n",
    "to od = pd.read_csv(f\"{folder}/{sub_folder}/at_miss{i:.2f}_train_od_matrix.csv\", low_memory=False)"
   ],
   "metadata": {
    "collapsed": false
   },
   "id": "c54e7b763bc0840e"
  },
  {
   "cell_type": "code",
   "execution_count": 24,
   "outputs": [],
   "source": [
    "\n",
    "mask = ~model_exp.od_matrix_init.isin([\"False\", \"No_connection\"])\n",
    "a = (model_exp.attraction.values[:] * model_exp.production.values[:, None])[mask]\n",
    "b = model_exp.od_matrix_init.values[mask.values].astype(float)"
   ],
   "metadata": {
    "collapsed": false,
    "ExecuteTime": {
     "end_time": "2023-10-12T09:38:51.348377300Z",
     "start_time": "2023-10-12T09:38:51.215137Z"
    }
   },
   "id": "37f7ffb5578c1235"
  },
  {
   "cell_type": "code",
   "execution_count": 30,
   "outputs": [
    {
     "data": {
      "text/plain": "array([5.11361669e-03, 3.53067899e-03, 4.25963178e-05, ...,\n       7.68343555e-03, 1.03981724e-02, 4.65091836e-02])"
     },
     "execution_count": 30,
     "metadata": {},
     "output_type": "execute_result"
    }
   ],
   "source": [
    "model_exp"
   ],
   "metadata": {
    "collapsed": false,
    "ExecuteTime": {
     "end_time": "2023-10-12T09:40:12.992686600Z",
     "start_time": "2023-10-12T09:40:12.927705100Z"
    }
   },
   "id": "2d7117739e515de0"
  },
  {
   "cell_type": "markdown",
   "source": [
    "# Not Scaled"
   ],
   "metadata": {
    "collapsed": false
   },
   "id": "6b24e46728095259"
  },
  {
   "cell_type": "code",
   "execution_count": 2,
   "outputs": [
    {
     "name": "stderr",
     "output_type": "stream",
     "text": [
      "C:\\All Python Projects\\Project 1 - Transportation\\Code\\Gravity Model\\Gravity_Model.py:277: RuntimeWarning: divide by zero encountered in power\n",
      "  * self.travel_time.values ** -u)\n",
      "C:\\All Python Projects\\Project 1 - Transportation\\Code\\Gravity Model\\Gravity_Model.py:277: RuntimeWarning: divide by zero encountered in power\n",
      "  * self.travel_time.values ** -u)\n",
      "C:\\All Python Projects\\Project 1 - Transportation\\Code\\Gravity Model\\Gravity_Model.py:277: RuntimeWarning: divide by zero encountered in power\n",
      "  * self.travel_time.values ** -u)\n",
      "C:\\All Python Projects\\Project 1 - Transportation\\Code\\Gravity Model\\Gravity_Model.py:277: RuntimeWarning: divide by zero encountered in power\n",
      "  * self.travel_time.values ** -u)\n",
      "C:\\All Python Projects\\Project 1 - Transportation\\Code\\Gravity Model\\Gravity_Model.py:277: RuntimeWarning: divide by zero encountered in power\n",
      "  * self.travel_time.values ** -u)\n",
      "C:\\All Python Projects\\Project 1 - Transportation\\Code\\Gravity Model\\Gravity_Model.py:277: RuntimeWarning: divide by zero encountered in power\n",
      "  * self.travel_time.values ** -u)\n",
      "C:\\All Python Projects\\Project 1 - Transportation\\Code\\Gravity Model\\Gravity_Model.py:277: RuntimeWarning: divide by zero encountered in power\n",
      "  * self.travel_time.values ** -u)\n",
      "C:\\All Python Projects\\Project 1 - Transportation\\Code\\Gravity Model\\Gravity_Model.py:277: RuntimeWarning: divide by zero encountered in power\n",
      "  * self.travel_time.values ** -u)\n",
      "C:\\All Python Projects\\Project 1 - Transportation\\Code\\Gravity Model\\Gravity_Model.py:277: RuntimeWarning: divide by zero encountered in power\n",
      "  * self.travel_time.values ** -u)\n",
      "C:\\All Python Projects\\Project 1 - Transportation\\Code\\Gravity Model\\Gravity_Model.py:277: RuntimeWarning: divide by zero encountered in power\n",
      "  * self.travel_time.values ** -u)\n",
      "C:\\All Python Projects\\Project 1 - Transportation\\Code\\Gravity Model\\Gravity_Model.py:277: RuntimeWarning: divide by zero encountered in power\n",
      "  * self.travel_time.values ** -u)\n",
      "C:\\All Python Projects\\Project 1 - Transportation\\Code\\Gravity Model\\Gravity_Model.py:277: RuntimeWarning: divide by zero encountered in power\n",
      "  * self.travel_time.values ** -u)\n",
      "C:\\All Python Projects\\Project 1 - Transportation\\Code\\Gravity Model\\Gravity_Model.py:277: RuntimeWarning: divide by zero encountered in power\n",
      "  * self.travel_time.values ** -u)\n",
      "C:\\All Python Projects\\Project 1 - Transportation\\Code\\Gravity Model\\Gravity_Model.py:277: RuntimeWarning: divide by zero encountered in power\n",
      "  * self.travel_time.values ** -u)\n",
      "C:\\All Python Projects\\Project 1 - Transportation\\Code\\Gravity Model\\Gravity_Model.py:277: RuntimeWarning: divide by zero encountered in power\n",
      "  * self.travel_time.values ** -u)\n",
      "C:\\All Python Projects\\Project 1 - Transportation\\Code\\Gravity Model\\Gravity_Model.py:277: RuntimeWarning: divide by zero encountered in power\n",
      "  * self.travel_time.values ** -u)\n",
      "C:\\All Python Projects\\Project 1 - Transportation\\Code\\Gravity Model\\Gravity_Model.py:277: RuntimeWarning: divide by zero encountered in power\n",
      "  * self.travel_time.values ** -u)\n",
      "C:\\All Python Projects\\Project 1 - Transportation\\Code\\Gravity Model\\Gravity_Model.py:277: RuntimeWarning: divide by zero encountered in power\n",
      "  * self.travel_time.values ** -u)\n",
      "C:\\All Python Projects\\Project 1 - Transportation\\Code\\Gravity Model\\Gravity_Model.py:277: RuntimeWarning: divide by zero encountered in power\n",
      "  * self.travel_time.values ** -u)\n",
      "C:\\All Python Projects\\Project 1 - Transportation\\Code\\Gravity Model\\Gravity_Model.py:277: RuntimeWarning: divide by zero encountered in power\n",
      "  * self.travel_time.values ** -u)\n",
      "C:\\All Python Projects\\Project 1 - Transportation\\Code\\Gravity Model\\Gravity_Model.py:277: RuntimeWarning: divide by zero encountered in power\n",
      "  * self.travel_time.values ** -u)\n",
      "C:\\All Python Projects\\Project 1 - Transportation\\Code\\Gravity Model\\Gravity_Model.py:277: RuntimeWarning: divide by zero encountered in power\n",
      "  * self.travel_time.values ** -u)\n",
      "C:\\All Python Projects\\Project 1 - Transportation\\Code\\Gravity Model\\Gravity_Model.py:277: RuntimeWarning: divide by zero encountered in power\n",
      "  * self.travel_time.values ** -u)\n",
      "C:\\All Python Projects\\Project 1 - Transportation\\Code\\Gravity Model\\Gravity_Model.py:277: RuntimeWarning: divide by zero encountered in power\n",
      "  * self.travel_time.values ** -u)\n",
      "C:\\All Python Projects\\Project 1 - Transportation\\Code\\Gravity Model\\Gravity_Model.py:277: RuntimeWarning: divide by zero encountered in power\n",
      "  * self.travel_time.values ** -u)\n",
      "C:\\All Python Projects\\Project 1 - Transportation\\Code\\Gravity Model\\Gravity_Model.py:277: RuntimeWarning: divide by zero encountered in power\n",
      "  * self.travel_time.values ** -u)\n",
      "C:\\All Python Projects\\Project 1 - Transportation\\Code\\Gravity Model\\Gravity_Model.py:277: RuntimeWarning: divide by zero encountered in power\n",
      "  * self.travel_time.values ** -u)\n",
      "C:\\All Python Projects\\Project 1 - Transportation\\Code\\Gravity Model\\Gravity_Model.py:277: RuntimeWarning: divide by zero encountered in power\n",
      "  * self.travel_time.values ** -u)\n",
      "C:\\All Python Projects\\Project 1 - Transportation\\Code\\Gravity Model\\Gravity_Model.py:277: RuntimeWarning: divide by zero encountered in power\n",
      "  * self.travel_time.values ** -u)\n",
      "C:\\All Python Projects\\Project 1 - Transportation\\Code\\Gravity Model\\Gravity_Model.py:277: RuntimeWarning: divide by zero encountered in power\n",
      "  * self.travel_time.values ** -u)\n",
      "C:\\All Python Projects\\Project 1 - Transportation\\Code\\Gravity Model\\Gravity_Model.py:277: RuntimeWarning: divide by zero encountered in power\n",
      "  * self.travel_time.values ** -u)\n",
      "C:\\All Python Projects\\Project 1 - Transportation\\Code\\Gravity Model\\Gravity_Model.py:277: RuntimeWarning: divide by zero encountered in power\n",
      "  * self.travel_time.values ** -u)\n",
      "C:\\All Python Projects\\Project 1 - Transportation\\Code\\Gravity Model\\Gravity_Model.py:277: RuntimeWarning: divide by zero encountered in power\n",
      "  * self.travel_time.values ** -u)\n",
      "C:\\All Python Projects\\Project 1 - Transportation\\Code\\Gravity Model\\Gravity_Model.py:277: RuntimeWarning: divide by zero encountered in power\n",
      "  * self.travel_time.values ** -u)\n",
      "C:\\All Python Projects\\Project 1 - Transportation\\Code\\Gravity Model\\Gravity_Model.py:277: RuntimeWarning: divide by zero encountered in power\n",
      "  * self.travel_time.values ** -u)\n",
      "C:\\All Python Projects\\Project 1 - Transportation\\Code\\Gravity Model\\Gravity_Model.py:277: RuntimeWarning: divide by zero encountered in power\n",
      "  * self.travel_time.values ** -u)\n",
      "C:\\All Python Projects\\Project 1 - Transportation\\Code\\Gravity Model\\Gravity_Model.py:277: RuntimeWarning: divide by zero encountered in power\n",
      "  * self.travel_time.values ** -u)\n",
      "C:\\All Python Projects\\Project 1 - Transportation\\Code\\Gravity Model\\Gravity_Model.py:277: RuntimeWarning: divide by zero encountered in power\n",
      "  * self.travel_time.values ** -u)\n",
      "C:\\All Python Projects\\Project 1 - Transportation\\Code\\Gravity Model\\Gravity_Model.py:277: RuntimeWarning: divide by zero encountered in power\n",
      "  * self.travel_time.values ** -u)\n",
      "C:\\All Python Projects\\Project 1 - Transportation\\Code\\Gravity Model\\Gravity_Model.py:277: RuntimeWarning: divide by zero encountered in power\n",
      "  * self.travel_time.values ** -u)\n",
      "C:\\All Python Projects\\Project 1 - Transportation\\Code\\Gravity Model\\Gravity_Model.py:277: RuntimeWarning: divide by zero encountered in power\n",
      "  * self.travel_time.values ** -u)\n",
      "C:\\All Python Projects\\Project 1 - Transportation\\Code\\Gravity Model\\Gravity_Model.py:277: RuntimeWarning: divide by zero encountered in power\n",
      "  * self.travel_time.values ** -u)\n",
      "C:\\All Python Projects\\Project 1 - Transportation\\Code\\Gravity Model\\Gravity_Model.py:277: RuntimeWarning: divide by zero encountered in power\n",
      "  * self.travel_time.values ** -u)\n",
      "C:\\All Python Projects\\Project 1 - Transportation\\Code\\Gravity Model\\Gravity_Model.py:277: RuntimeWarning: divide by zero encountered in power\n",
      "  * self.travel_time.values ** -u)\n",
      "C:\\All Python Projects\\Project 1 - Transportation\\Code\\Gravity Model\\Gravity_Model.py:277: RuntimeWarning: divide by zero encountered in power\n",
      "  * self.travel_time.values ** -u)\n",
      "C:\\All Python Projects\\Project 1 - Transportation\\Code\\Gravity Model\\Gravity_Model.py:277: RuntimeWarning: divide by zero encountered in power\n",
      "  * self.travel_time.values ** -u)\n",
      "C:\\All Python Projects\\Project 1 - Transportation\\Code\\Gravity Model\\Gravity_Model.py:277: RuntimeWarning: divide by zero encountered in power\n",
      "  * self.travel_time.values ** -u)\n",
      "C:\\All Python Projects\\Project 1 - Transportation\\Code\\Gravity Model\\Gravity_Model.py:277: RuntimeWarning: divide by zero encountered in power\n",
      "  * self.travel_time.values ** -u)\n",
      "C:\\All Python Projects\\Project 1 - Transportation\\Code\\Gravity Model\\Gravity_Model.py:277: RuntimeWarning: divide by zero encountered in power\n",
      "  * self.travel_time.values ** -u)\n",
      "C:\\All Python Projects\\Project 1 - Transportation\\Code\\Gravity Model\\Gravity_Model.py:277: RuntimeWarning: divide by zero encountered in power\n",
      "  * self.travel_time.values ** -u)\n",
      "C:\\All Python Projects\\Project 1 - Transportation\\Code\\Gravity Model\\Gravity_Model.py:277: RuntimeWarning: divide by zero encountered in power\n",
      "  * self.travel_time.values ** -u)\n",
      "C:\\All Python Projects\\Project 1 - Transportation\\Code\\Gravity Model\\Gravity_Model.py:277: RuntimeWarning: divide by zero encountered in power\n",
      "  * self.travel_time.values ** -u)\n",
      "C:\\All Python Projects\\Project 1 - Transportation\\Code\\Gravity Model\\Gravity_Model.py:277: RuntimeWarning: divide by zero encountered in power\n",
      "  * self.travel_time.values ** -u)\n",
      "C:\\All Python Projects\\Project 1 - Transportation\\Code\\Gravity Model\\Gravity_Model.py:277: RuntimeWarning: divide by zero encountered in power\n",
      "  * self.travel_time.values ** -u)\n",
      "C:\\All Python Projects\\Project 1 - Transportation\\Code\\Gravity Model\\Gravity_Model.py:277: RuntimeWarning: divide by zero encountered in power\n",
      "  * self.travel_time.values ** -u)\n",
      "C:\\All Python Projects\\Project 1 - Transportation\\Code\\Gravity Model\\Gravity_Model.py:277: RuntimeWarning: divide by zero encountered in power\n",
      "  * self.travel_time.values ** -u)\n",
      "C:\\All Python Projects\\Project 1 - Transportation\\Code\\Gravity Model\\Gravity_Model.py:277: RuntimeWarning: divide by zero encountered in power\n",
      "  * self.travel_time.values ** -u)\n",
      "C:\\All Python Projects\\Project 1 - Transportation\\Code\\Gravity Model\\Gravity_Model.py:277: RuntimeWarning: divide by zero encountered in power\n",
      "  * self.travel_time.values ** -u)\n",
      "C:\\All Python Projects\\Project 1 - Transportation\\Code\\Gravity Model\\Gravity_Model.py:277: RuntimeWarning: divide by zero encountered in power\n",
      "  * self.travel_time.values ** -u)\n",
      "C:\\All Python Projects\\Project 1 - Transportation\\Code\\Gravity Model\\Gravity_Model.py:277: RuntimeWarning: divide by zero encountered in power\n",
      "  * self.travel_time.values ** -u)\n",
      "C:\\All Python Projects\\Project 1 - Transportation\\Code\\Gravity Model\\Gravity_Model.py:277: RuntimeWarning: divide by zero encountered in power\n",
      "  * self.travel_time.values ** -u)\n",
      "C:\\All Python Projects\\Project 1 - Transportation\\Code\\Gravity Model\\Gravity_Model.py:277: RuntimeWarning: divide by zero encountered in power\n",
      "  * self.travel_time.values ** -u)\n",
      "C:\\All Python Projects\\Project 1 - Transportation\\Code\\Gravity Model\\Gravity_Model.py:277: RuntimeWarning: divide by zero encountered in power\n",
      "  * self.travel_time.values ** -u)\n",
      "C:\\All Python Projects\\Project 1 - Transportation\\Code\\Gravity Model\\Gravity_Model.py:277: RuntimeWarning: divide by zero encountered in power\n",
      "  * self.travel_time.values ** -u)\n",
      "C:\\All Python Projects\\Project 1 - Transportation\\Code\\Gravity Model\\Gravity_Model.py:277: RuntimeWarning: divide by zero encountered in power\n",
      "  * self.travel_time.values ** -u)\n",
      "C:\\All Python Projects\\Project 1 - Transportation\\Code\\Gravity Model\\Gravity_Model.py:277: RuntimeWarning: divide by zero encountered in power\n",
      "  * self.travel_time.values ** -u)\n",
      "C:\\All Python Projects\\Project 1 - Transportation\\Code\\Gravity Model\\Gravity_Model.py:277: RuntimeWarning: divide by zero encountered in power\n",
      "  * self.travel_time.values ** -u)\n",
      "C:\\All Python Projects\\Project 1 - Transportation\\Code\\Gravity Model\\Gravity_Model.py:277: RuntimeWarning: divide by zero encountered in power\n",
      "  * self.travel_time.values ** -u)\n",
      "C:\\All Python Projects\\Project 1 - Transportation\\Code\\Gravity Model\\Gravity_Model.py:277: RuntimeWarning: divide by zero encountered in power\n",
      "  * self.travel_time.values ** -u)\n",
      "C:\\All Python Projects\\Project 1 - Transportation\\Code\\Gravity Model\\Gravity_Model.py:277: RuntimeWarning: divide by zero encountered in power\n",
      "  * self.travel_time.values ** -u)\n",
      "C:\\All Python Projects\\Project 1 - Transportation\\Code\\Gravity Model\\Gravity_Model.py:277: RuntimeWarning: divide by zero encountered in power\n",
      "  * self.travel_time.values ** -u)\n",
      "C:\\All Python Projects\\Project 1 - Transportation\\Code\\Gravity Model\\Gravity_Model.py:277: RuntimeWarning: divide by zero encountered in power\n",
      "  * self.travel_time.values ** -u)\n",
      "C:\\All Python Projects\\Project 1 - Transportation\\Code\\Gravity Model\\Gravity_Model.py:277: RuntimeWarning: divide by zero encountered in power\n",
      "  * self.travel_time.values ** -u)\n",
      "C:\\All Python Projects\\Project 1 - Transportation\\Code\\Gravity Model\\Gravity_Model.py:277: RuntimeWarning: divide by zero encountered in power\n",
      "  * self.travel_time.values ** -u)\n",
      "C:\\All Python Projects\\Project 1 - Transportation\\Code\\Gravity Model\\Gravity_Model.py:277: RuntimeWarning: divide by zero encountered in power\n",
      "  * self.travel_time.values ** -u)\n",
      "C:\\All Python Projects\\Project 1 - Transportation\\Code\\Gravity Model\\Gravity_Model.py:277: RuntimeWarning: divide by zero encountered in power\n",
      "  * self.travel_time.values ** -u)\n",
      "C:\\All Python Projects\\Project 1 - Transportation\\Code\\Gravity Model\\Gravity_Model.py:277: RuntimeWarning: divide by zero encountered in power\n",
      "  * self.travel_time.values ** -u)\n",
      "C:\\All Python Projects\\Project 1 - Transportation\\Code\\Gravity Model\\Gravity_Model.py:277: RuntimeWarning: divide by zero encountered in power\n",
      "  * self.travel_time.values ** -u)\n",
      "C:\\All Python Projects\\Project 1 - Transportation\\Code\\Gravity Model\\Gravity_Model.py:277: RuntimeWarning: divide by zero encountered in power\n",
      "  * self.travel_time.values ** -u)\n",
      "C:\\All Python Projects\\Project 1 - Transportation\\Code\\Gravity Model\\Gravity_Model.py:277: RuntimeWarning: divide by zero encountered in power\n",
      "  * self.travel_time.values ** -u)\n",
      "C:\\All Python Projects\\Project 1 - Transportation\\Code\\Gravity Model\\Gravity_Model.py:277: RuntimeWarning: divide by zero encountered in power\n",
      "  * self.travel_time.values ** -u)\n",
      "C:\\All Python Projects\\Project 1 - Transportation\\Code\\Gravity Model\\Gravity_Model.py:277: RuntimeWarning: divide by zero encountered in power\n",
      "  * self.travel_time.values ** -u)\n",
      "C:\\All Python Projects\\Project 1 - Transportation\\Code\\Gravity Model\\Gravity_Model.py:277: RuntimeWarning: divide by zero encountered in power\n",
      "  * self.travel_time.values ** -u)\n",
      "C:\\All Python Projects\\Project 1 - Transportation\\Code\\Gravity Model\\Gravity_Model.py:277: RuntimeWarning: divide by zero encountered in power\n",
      "  * self.travel_time.values ** -u)\n",
      "C:\\All Python Projects\\Project 1 - Transportation\\Code\\Gravity Model\\Gravity_Model.py:277: RuntimeWarning: divide by zero encountered in power\n",
      "  * self.travel_time.values ** -u)\n",
      "C:\\All Python Projects\\Project 1 - Transportation\\Code\\Gravity Model\\Gravity_Model.py:277: RuntimeWarning: divide by zero encountered in power\n",
      "  * self.travel_time.values ** -u)\n",
      "C:\\All Python Projects\\Project 1 - Transportation\\Code\\Gravity Model\\Gravity_Model.py:277: RuntimeWarning: divide by zero encountered in power\n",
      "  * self.travel_time.values ** -u)\n",
      "C:\\All Python Projects\\Project 1 - Transportation\\Code\\Gravity Model\\Gravity_Model.py:277: RuntimeWarning: divide by zero encountered in power\n",
      "  * self.travel_time.values ** -u)\n",
      "C:\\All Python Projects\\Project 1 - Transportation\\Code\\Gravity Model\\Gravity_Model.py:277: RuntimeWarning: divide by zero encountered in power\n",
      "  * self.travel_time.values ** -u)\n",
      "C:\\All Python Projects\\Project 1 - Transportation\\Code\\Gravity Model\\Gravity_Model.py:277: RuntimeWarning: divide by zero encountered in power\n",
      "  * self.travel_time.values ** -u)\n"
     ]
    }
   ],
   "source": [
    "mis = [0.1, 0.2, 0.3, 0.4, 0.5, 0.6, 0.7, 0.8, 0.9]\n",
    "random_state = [0, 5, 10, 15, 20, 25, 30, 35, 40, 50]\n",
    "# mis=[0.1]\n",
    "# random_state=[0]\n",
    "num = 0\n",
    "for _ in random_state:\n",
    "    num += 1\n",
    "    # model_guess = Js.GM()\n",
    "    # model_guess.pass_data_from_folder_not_scaled(folder=f\"prepared_data/prepared_data-{num}/Not_Scaled/GoldCoast\", missing_rate=mis,\n",
    "    #                                              approach=\"guess\", scale_time_period=5,\n",
    "    #                                              saved_plot_folder=f\"All_plots/Plots{num}/Not_Scaled/GoldCoast_plots/guess\",\n",
    "    #                                              saved_data_folder=f\"All_results/Results{num}/Not_Scaled/GoldCoast_data\")\n",
    "\n",
    "    model_exp = Js.GM()\n",
    "    model_exp.pass_data_from_folder_not_scaled(folder=f\"prepared_data/prepared_data-{num}/Not_Scaled/GoldCoast\",\n",
    "                                               missing_rate=mis,\n",
    "                                               approach=\"exp\",\n",
    "                                               saved_plot_folder=f\"All_plots/Plots{num}/Not_Scaled/GoldCoast_plots/exp\",\n",
    "                                               saved_data_folder=f\"All_results/Results{num}/Not_Scaled/GoldCoast_data\")\n",
    "\n",
    "    model_power = Js.GM()\n",
    "    model_power.pass_data_from_folder_not_scaled(folder=f\"prepared_data/prepared_data-{num}/Not_Scaled/GoldCoast\",\n",
    "                                                 missing_rate=mis,\n",
    "                                                 approach=\"power\",\n",
    "                                                 saved_plot_folder=f\"All_plots/Plots{num}/Not_Scaled/GoldCoast_plots/power\",\n",
    "                                                 saved_data_folder=f\"All_results/Results{num}/Not_Scaled/GoldCoast_data\")\n",
    "\n",
    "    # model_tanner = Js.GM()\n",
    "    # model_tanner.pass_data_from_folder_not_scaled(folder=f\"prepared_data/prepared_data-{num}/Not_Scaled/GoldCoast\", missing_rate=mis,\n",
    "    #                                               approach=\"tanner\",\n",
    "    #                                              saved_plot_folder=f\"All_plots/Plots{num}/Not_Scaled/GoldCoast_plots/tanner\",\n",
    "    #                                              saved_data_folder=f\"All_results/Results{num}/Not_Scaled/GoldCoast_data\")"
   ],
   "metadata": {
    "collapsed": false
   },
   "id": "e6bf7e8b39235eb5"
  }
 ],
 "metadata": {
  "kernelspec": {
   "display_name": "Python 3",
   "language": "python",
   "name": "python3"
  },
  "language_info": {
   "codemirror_mode": {
    "name": "ipython",
    "version": 2
   },
   "file_extension": ".py",
   "mimetype": "text/x-python",
   "name": "python",
   "nbconvert_exporter": "python",
   "pygments_lexer": "ipython2",
   "version": "2.7.6"
  }
 },
 "nbformat": 4,
 "nbformat_minor": 5
}
