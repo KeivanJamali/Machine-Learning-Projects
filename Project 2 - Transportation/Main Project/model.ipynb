{
 "cells": [
  {
   "cell_type": "code",
   "execution_count": 1,
   "outputs": [
    {
     "name": "stdout",
     "output_type": "stream",
     "text": [
      "usage: main.py [-h] [--scale] [--new_data]\n",
      "               [--zone {SiouxFalls,Anaheim,Chicago_Sketch,Chicago_Regional}]\n",
      "               [--seed SEED] [--missing_rates MISSING_RATES] [--drop_last]\n",
      "               [-g GRAVITY_MODEL] [-n NEURAL_NETWORK] [--bin BIN]\n",
      "\n",
      "options:\n",
      "  -h, --help            show this help message and exit\n",
      "  --scale               if you want your scaled data through model.\n",
      "  --new_data            if you want to model on new random data.\n",
      "  --zone {SiouxFalls,Anaheim,Chicago_Sketch,Chicago_Regional}\n",
      "                        which zone are you looking at?\n",
      "  --seed SEED           what is the random you want to model on it?\n",
      "  --missing_rates MISSING_RATES\n",
      "                        what are the list for missing rates?\n",
      "  --drop_last           want to drop the last item of batch?\n",
      "  -g GRAVITY_MODEL, --gravity_model GRAVITY_MODEL\n",
      "                        write a list to specify which approach of gravity\n",
      "                        models you want to be done?\n",
      "  -n NEURAL_NETWORK, --neural_network NEURAL_NETWORK\n",
      "                        specify hyper parameters of neural_network in order\n",
      "                        to: hidden_units, batch_size, epochs, learning_rate\n",
      "  --bin BIN             set the scale of histogram.[start, stop, step] you\n",
      "                        only set start.\n"
     ]
    }
   ],
   "source": [
    "!python going_modular/main.py -h"
   ],
   "metadata": {
    "collapsed": false,
    "ExecuteTime": {
     "end_time": "2023-09-18T14:49:29.855561100Z",
     "start_time": "2023-09-18T14:49:25.927711Z"
    }
   },
   "id": "1b360dfc5f0d1cfd"
  },
  {
   "cell_type": "code",
   "execution_count": 2,
   "outputs": [
    {
     "data": {
      "text/plain": "10"
     },
     "execution_count": 2,
     "metadata": {},
     "output_type": "execute_result"
    }
   ],
   "source": [
    "seed = [0, 5, 10, 15, 20, 25, 30, 35, 40, 50]\n",
    "len(seed)"
   ],
   "metadata": {
    "collapsed": false,
    "ExecuteTime": {
     "end_time": "2023-09-18T14:49:29.866814500Z",
     "start_time": "2023-09-18T14:49:29.852639600Z"
    }
   },
   "id": "6549154755c45ffa"
  },
  {
   "cell_type": "code",
   "execution_count": 4,
   "outputs": [],
   "source": [
    "%%capture\n",
    "!python going_modular/main.py --scale --seed 0 --zone SiouxFalls --missing_rate 0.2,0.5,0.9 -n 8,32,500,0.001 --new_data --bin 0.5 -g exp,power"
   ],
   "metadata": {
    "collapsed": false,
    "ExecuteTime": {
     "end_time": "2023-09-18T14:58:34.662093100Z",
     "start_time": "2023-09-18T14:58:23.315609800Z"
    }
   },
   "id": "53520fb8ecdc5e59"
  },
  {
   "cell_type": "code",
   "execution_count": 5,
   "outputs": [],
   "source": [
    "%%capture\n",
    "!python going_modular/main.py --scale --seed 0 --zone Anaheim --missing_rate 0.2,0.5,0.9 -n 8,32,500,0.001 --drop_last --new_data --bin 0.05 -g exp,power"
   ],
   "metadata": {
    "collapsed": false,
    "ExecuteTime": {
     "end_time": "2023-09-18T14:58:49.201318300Z",
     "start_time": "2023-09-18T14:58:34.666080200Z"
    }
   },
   "id": "607760416719e77a"
  },
  {
   "cell_type": "code",
   "execution_count": null,
   "outputs": [],
   "source": [
    "!python going_modular/main.py --scale --seed 0 --zone Chicago_Sketch --missing_rate 0.2 -n 8,512,500,0.0001 --drop_last --new_data --bin 0.005 -g exp,power"
   ],
   "metadata": {
    "collapsed": false
   },
   "id": "62e851f5bd988b94"
  },
  {
   "cell_type": "code",
   "execution_count": 6,
   "outputs": [],
   "source": [
    "from going_modular import Results_preparation as rp\n",
    "\n",
    "zones = [\"SiouxFalls\", \"Anaheim\", \"Chicago_sketch\"]\n",
    "zones = [\"SiouxFalls\", \"Anaheim\"]\n",
    "ap = [\"exp\", \"power\", \"model\"]\n",
    "ml = [\"NN\", \"GM\"]\n",
    "rand = [0]\n",
    "miss = [0.2, 0.5, 0.9]\n",
    "rp.prepare(zones, ap, ml, rand, miss)"
   ],
   "metadata": {
    "collapsed": false,
    "ExecuteTime": {
     "end_time": "2023-09-18T14:58:49.250711700Z",
     "start_time": "2023-09-18T14:58:49.205319400Z"
    }
   },
   "id": "c725dd1aef2acdce"
  },
  {
   "cell_type": "code",
   "execution_count": 8,
   "outputs": [],
   "source": [
    "places = [\"Anaheim\", \"SiouxFalls\", \"Chicago_Sketch\"]\n",
    "places = [\"Anaheim\", \"SiouxFalls\"]\n",
    "types = [\"GM_exp\", \"GM_power\", \"Neural_Net\", \"Graph_Neural_Net\"]\n",
    "rp.make_excel(places, types, miss)"
   ],
   "metadata": {
    "collapsed": false,
    "ExecuteTime": {
     "end_time": "2023-09-18T14:59:55.620289400Z",
     "start_time": "2023-09-18T14:59:55.544200900Z"
    }
   },
   "id": "b746b046529a1f1a"
  },
  {
   "cell_type": "code",
   "execution_count": null,
   "outputs": [],
   "source": [],
   "metadata": {
    "collapsed": false
   },
   "id": "bf2531b672f59fd3"
  }
 ],
 "metadata": {
  "kernelspec": {
   "display_name": "Python 3",
   "language": "python",
   "name": "python3"
  },
  "language_info": {
   "codemirror_mode": {
    "name": "ipython",
    "version": 2
   },
   "file_extension": ".py",
   "mimetype": "text/x-python",
   "name": "python",
   "nbconvert_exporter": "python",
   "pygments_lexer": "ipython2",
   "version": "2.7.6"
  }
 },
 "nbformat": 4,
 "nbformat_minor": 5
}
