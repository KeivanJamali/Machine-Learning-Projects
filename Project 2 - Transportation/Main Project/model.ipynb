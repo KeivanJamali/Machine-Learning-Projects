{
 "cells": [
  {
   "cell_type": "code",
   "execution_count": null,
   "id": "1b360dfc5f0d1cfd",
   "metadata": {
    "ExecuteTime": {
     "end_time": "2023-09-24T12:35:21.707346900Z",
     "start_time": "2023-09-24T12:35:12.583277200Z"
    },
    "collapsed": false
   },
   "outputs": [],
   "source": [
    "!python going_modular/main.py -h"
   ]
  },
  {
   "cell_type": "code",
   "execution_count": null,
   "id": "6549154755c45ffa",
   "metadata": {
    "ExecuteTime": {
     "end_time": "2023-09-24T12:35:21.712954100Z",
     "start_time": "2023-09-24T12:35:21.705010Z"
    },
    "collapsed": false
   },
   "outputs": [],
   "source": [
    "seed = [0, 5, 10, 15, 20, 25, 30, 35, 40, 50]\n",
    "len(seed)"
   ]
  },
  {
   "cell_type": "code",
   "execution_count": 1,
   "id": "53520fb8ecdc5e59",
   "metadata": {
    "collapsed": false,
    "ExecuteTime": {
     "end_time": "2023-10-12T10:36:23.817846900Z",
     "start_time": "2023-10-12T10:31:45.686442600Z"
    }
   },
   "outputs": [],
   "source": [
    "%%capture\n",
    "!python going_modular/main.py --scale --seed 0 --zone SiouxFalls --missing_rate 0.1,0.2,0.3,0.4,0.5,0.6,0.7,0.8,0.9,0.95,0.97 -n 8,32,500,0.001 -g exp,power --bin 0.5\n",
    "!python going_modular/main.py --scale --seed 5 --zone SiouxFalls --missing_rate 0.1,0.2,0.3,0.4,0.5,0.6,0.7,0.8,0.9,0.95,0.97 -n 8,32,500,0.001 -g exp,power --bin 0.5\n",
    "!python going_modular/main.py --scale --seed 10 --zone SiouxFalls --missing_rate 0.1,0.2,0.3,0.4,0.5,0.6,0.7,0.8,0.9,0.95,0.97 -n 8,32,500,0.001 -g exp,power --bin 0.5\n",
    "!python going_modular/main.py --scale --seed 15 --zone SiouxFalls --missing_rate 0.1,0.2,0.3,0.4,0.5,0.6,0.7,0.8,0.9,0.95,0.97 -n 8,32,500,0.001 -g exp,power --bin 0.5\n",
    "!python going_modular/main.py --scale --seed 20 --zone SiouxFalls --missing_rate 0.1,0.2,0.3,0.4,0.5,0.6,0.7,0.8,0.9,0.95,0.97 -n 8,32,500,0.001 -g exp,power --bin 0.5\n",
    "!python going_modular/main.py --scale --seed 25 --zone SiouxFalls --missing_rate 0.1,0.2,0.3,0.4,0.5,0.6,0.7,0.8,0.9,0.95,0.97 -n 8,32,500,0.001 -g exp,power --bin 0.5\n",
    "!python going_modular/main.py --scale --seed 30 --zone SiouxFalls --missing_rate 0.1,0.2,0.3,0.4,0.5,0.6,0.7,0.8,0.9,0.95,0.97 -n 8,32,500,0.001 -g exp,power --bin 0.5\n",
    "!python going_modular/main.py --scale --seed 35 --zone SiouxFalls --missing_rate 0.1,0.2,0.3,0.4,0.5,0.6,0.7,0.8,0.9,0.95,0.97 -n 8,32,500,0.001 -g exp,power --bin 0.5\n",
    "!python going_modular/main.py --scale --seed 40 --zone SiouxFalls --missing_rate 0.1,0.2,0.3,0.4,0.5,0.6,0.7,0.8,0.9,0.95,0.97 -n 8,32,500,0.001 -g exp,power --bin 0.5\n",
    "!python going_modular/main.py --scale --seed 50 --zone SiouxFalls --missing_rate 0.1,0.2,0.3,0.4,0.5,0.6,0.7,0.8,0.9,0.95,0.97 -n 8,32,500,0.001 -g exp,power --bin 0.5"
   ]
  },
  {
   "cell_type": "code",
   "execution_count": 2,
   "id": "607760416719e77a",
   "metadata": {
    "collapsed": false,
    "ExecuteTime": {
     "end_time": "2023-10-12T10:41:15.570852800Z",
     "start_time": "2023-10-12T10:36:23.824854Z"
    }
   },
   "outputs": [],
   "source": [
    "%%capture\n",
    "!python going_modular/main.py --scale --seed 0 --zone Anaheim --missing_rate 0.1,0.2,0.3,0.4,0.5,0.6,0.7,0.8,0.9,0.95,0.97 -n 8,32,500,0.001 -g exp,power --drop_last --bin 0.05\n",
    "!python going_modular/main.py --scale --seed 5 --zone Anaheim --missing_rate 0.1,0.2,0.3,0.4,0.5,0.6,0.7,0.8,0.9,0.95,0.97 -n 8,32,500,0.001 -g exp,power --drop_last --bin 0.05\n",
    "!python going_modular/main.py --scale --seed 10 --zone Anaheim --missing_rate 0.1,0.2,0.3,0.4,0.5,0.6,0.7,0.8,0.9,0.95,0.97 -n 8,32,500,0.001 -g exp,power --drop_last --bin 0.05\n",
    "!python going_modular/main.py --scale --seed 15 --zone Anaheim --missing_rate 0.1,0.2,0.3,0.4,0.5,0.6,0.7,0.8,0.9,0.95,0.97 -n 8,32,500,0.001 -g exp,power --drop_last --bin 0.05\n",
    "!python going_modular/main.py --scale --seed 20 --zone Anaheim --missing_rate 0.1,0.2,0.3,0.4,0.5,0.6,0.7,0.8,0.9,0.95,0.97 -n 8,32,500,0.001 -g exp,power --drop_last --bin 0.05\n",
    "!python going_modular/main.py --scale --seed 25 --zone Anaheim --missing_rate 0.1,0.2,0.3,0.4,0.5,0.6,0.7,0.8,0.9,0.95,0.97 -n 8,32,500,0.001 -g exp,power --drop_last --bin 0.05\n",
    "!python going_modular/main.py --scale --seed 30 --zone Anaheim --missing_rate 0.1,0.2,0.3,0.4,0.5,0.6,0.7,0.8,0.9,0.95,0.97 -n 8,32,500,0.001 -g exp,power --drop_last --bin 0.05\n",
    "!python going_modular/main.py --scale --seed 35 --zone Anaheim --missing_rate 0.1,0.2,0.3,0.4,0.5,0.6,0.7,0.8,0.9,0.95,0.97 -n 8,32,500,0.001 -g exp,power --drop_last --bin 0.05\n",
    "!python going_modular/main.py --scale --seed 40 --zone Anaheim --missing_rate 0.1,0.2,0.3,0.4,0.5,0.6,0.7,0.8,0.9,0.95,0.97 -n 8,32,500,0.001 -g exp,power --drop_last --bin 0.05\n",
    "!python going_modular/main.py --scale --seed 50 --zone Anaheim --missing_rate 0.1,0.2,0.3,0.4,0.5,0.6,0.7,0.8,0.9,0.95,0.97 -n 8,32,500,0.001 -g exp,power --drop_last --bin 0.05"
   ]
  },
  {
   "cell_type": "code",
   "execution_count": 3,
   "id": "62e851f5bd988b94",
   "metadata": {
    "collapsed": false,
    "ExecuteTime": {
     "end_time": "2023-10-12T12:29:27.326504600Z",
     "start_time": "2023-10-12T10:41:15.575872600Z"
    }
   },
   "outputs": [
    {
     "name": "stderr",
     "output_type": "stream",
     "text": [
      "D:\\All Python\\Machine-Learning-Projects\\Project 2 - Transportation\\Main Project\\going_modular\\Gravity_Model_engine.py:277: RuntimeWarning: divide by zero encountered in power\n",
      "  * self.travel_time.values ** -u)\n",
      "D:\\All Python\\Machine-Learning-Projects\\Project 2 - Transportation\\Main Project\\going_modular\\Gravity_Model_engine.py:277: RuntimeWarning: divide by zero encountered in power\n",
      "  * self.travel_time.values ** -u)\n",
      "D:\\All Python\\Machine-Learning-Projects\\Project 2 - Transportation\\Main Project\\going_modular\\Gravity_Model_engine.py:277: RuntimeWarning: divide by zero encountered in power\n",
      "  * self.travel_time.values ** -u)\n",
      "D:\\All Python\\Machine-Learning-Projects\\Project 2 - Transportation\\Main Project\\going_modular\\Gravity_Model_engine.py:277: RuntimeWarning: divide by zero encountered in power\n",
      "  * self.travel_time.values ** -u)\n",
      "D:\\All Python\\Machine-Learning-Projects\\Project 2 - Transportation\\Main Project\\going_modular\\Gravity_Model_engine.py:277: RuntimeWarning: divide by zero encountered in power\n",
      "  * self.travel_time.values ** -u)\n",
      "D:\\All Python\\Machine-Learning-Projects\\Project 2 - Transportation\\Main Project\\going_modular\\Gravity_Model_engine.py:277: RuntimeWarning: divide by zero encountered in power\n",
      "  * self.travel_time.values ** -u)\n",
      "D:\\All Python\\Machine-Learning-Projects\\Project 2 - Transportation\\Main Project\\going_modular\\Gravity_Model_engine.py:277: RuntimeWarning: divide by zero encountered in power\n",
      "  * self.travel_time.values ** -u)\n",
      "D:\\All Python\\Machine-Learning-Projects\\Project 2 - Transportation\\Main Project\\going_modular\\Gravity_Model_engine.py:277: RuntimeWarning: divide by zero encountered in power\n",
      "  * self.travel_time.values ** -u)\n",
      "D:\\All Python\\Machine-Learning-Projects\\Project 2 - Transportation\\Main Project\\going_modular\\Gravity_Model_engine.py:277: RuntimeWarning: divide by zero encountered in power\n",
      "  * self.travel_time.values ** -u)\n",
      "D:\\All Python\\Machine-Learning-Projects\\Project 2 - Transportation\\Main Project\\going_modular\\Gravity_Model_engine.py:277: RuntimeWarning: divide by zero encountered in power\n",
      "  * self.travel_time.values ** -u)\n",
      "D:\\All Python\\Machine-Learning-Projects\\Project 2 - Transportation\\Main Project\\going_modular\\Gravity_Model_engine.py:277: RuntimeWarning: divide by zero encountered in power\n",
      "  * self.travel_time.values ** -u)\n"
     ]
    }
   ],
   "source": [
    "%%capture\n",
    "!python going_modular/main.py --scale --seed 0 --zone Chicago_Sketch --missing_rate 0.1,0.2,0.3,0.4,0.5,0.6,0.7,0.8,0.9,0.95,0.97 -n 8,512,500,0.0001 -g exp,power --drop_last --bin 0.005\n",
    "!python going_modular/main.py --scale --seed 5 --zone Chicago_Sketch --missing_rate 0.1,0.2,0.3,0.4,0.5,0.6,0.7,0.8,0.9,0.95,0.97 -n 8,512,500,0.0001 -g exp,power --drop_last --bin 0.005\n",
    "!python going_modular/main.py --scale --seed 10 --zone Chicago_Sketch --missing_rate 0.1,0.2,0.3,0.4,0.5,0.6,0.7,0.8,0.9,0.95,0.97 -n 8,512,500,0.0001 -g exp,power --drop_last --bin 0.005\n",
    "!python going_modular/main.py --scale --seed 15 --zone Chicago_Sketch --missing_rate 0.1,0.2,0.3,0.4,0.5,0.6,0.7,0.8,0.9,0.95,0.97 -n 8,512,500,0.0001 -g exp,power --drop_last --bin 0.005\n",
    "!python going_modular/main.py --scale --seed 20 --zone Chicago_Sketch --missing_rate 0.1,0.2,0.3,0.4,0.5,0.6,0.7,0.8,0.9,0.95,0.97 -n 8,512,500,0.0001 -g exp,power --drop_last --bin 0.005\n",
    "!python going_modular/main.py --scale --seed 25 --zone Chicago_Sketch --missing_rate 0.1,0.2,0.3,0.4,0.5,0.6,0.7,0.8,0.9,0.95,0.97 -n 8,512,500,0.0001 -g exp,power --drop_last --bin 0.005\n",
    "!python going_modular/main.py --scale --seed 30 --zone Chicago_Sketch --missing_rate 0.1,0.2,0.3,0.4,0.5,0.6,0.7,0.8,0.9,0.95,0.97 -n 8,512,500,0.0001 -g exp,power --drop_last --bin 0.005\n",
    "!python going_modular/main.py --scale --seed 35 --zone Chicago_Sketch --missing_rate 0.1,0.2,0.3,0.4,0.5,0.6,0.7,0.8,0.9,0.95,0.97 -n 8,512,500,0.0001 -g exp,power --drop_last --bin 0.005\n",
    "!python going_modular/main.py --scale --seed 40 --zone Chicago_Sketch --missing_rate 0.1,0.2,0.3,0.4,0.5,0.6,0.7,0.8,0.9,0.95,0.97 -n 8,512,500,0.0001 -g exp,power --drop_last --bin 0.005\n",
    "!python going_modular/main.py --scale --seed 50 --zone Chicago_Sketch --missing_rate 0.1,0.2,0.3,0.4,0.5,0.6,0.7,0.8,0.9,0.95,0.97 -n 8,512,500,0.0001 -g exp,power --drop_last --bin 0.005"
   ]
  },
  {
   "cell_type": "code",
   "execution_count": 4,
   "id": "f88e55110093cf88",
   "metadata": {
    "collapsed": false,
    "ExecuteTime": {
     "end_time": "2023-10-12T16:10:14.482653700Z",
     "start_time": "2023-10-12T12:29:27.326504600Z"
    }
   },
   "outputs": [],
   "source": [
    "%%capture\n",
    "!python going_modular/main.py --scale --seed 0 --zone GoldCoast --missing_rate 0.1,0.2,0.3,0.4,0.5,0.6,0.7,0.8,0.9,0.95,0.97 --drop_last --bin 0.0005 -n 8,512,500,0.0001\n",
    "!python going_modular/main.py --scale --seed 5 --zone GoldCoast --missing_rate 0.1,0.2,0.3,0.4,0.5,0.6,0.7,0.8,0.9,0.95,0.97 --drop_last --bin 0.0005 -n 8,512,500,0.0001\n",
    "!python going_modular/main.py --scale --seed 10 --zone GoldCoast --missing_rate 0.1,0.2,0.3,0.4,0.5,0.6,0.7,0.8,0.9,0.95,0.97 --drop_last --bin 0.0005 -n 8,512,500,0.0001\n",
    "!python going_modular/main.py --scale --seed 15 --zone GoldCoast --missing_rate 0.1,0.2,0.3,0.4,0.5,0.6,0.7,0.8,0.9,0.95,0.97 --drop_last --bin 0.0005 -n 8,512,500,0.0001\n",
    "!python going_modular/main.py --scale --seed 20 --zone GoldCoast --missing_rate 0.1,0.2,0.3,0.4,0.5,0.6,0.7,0.8,0.9,0.95,0.97 --drop_last --bin 0.0005 -n 8,512,500,0.0001\n",
    "!python going_modular/main.py --scale --seed 25 --zone GoldCoast --missing_rate 0.1,0.2,0.3,0.4,0.5,0.6,0.7,0.8,0.9,0.95,0.97 --drop_last --bin 0.0005 -n 8,512,500,0.0001\n",
    "!python going_modular/main.py --scale --seed 30 --zone GoldCoast --missing_rate 0.1,0.2,0.3,0.4,0.5,0.6,0.7,0.8,0.9,0.95,0.97 --drop_last --bin 0.0005 -n 8,512,500,0.0001\n",
    "!python going_modular/main.py --scale --seed 35 --zone GoldCoast --missing_rate 0.1,0.2,0.3,0.4,0.5,0.6,0.7,0.8,0.9,0.95,0.97 --drop_last --bin 0.0005 -n 8,512,500,0.0001\n",
    "!python going_modular/main.py --scale --seed 40 --zone GoldCoast --missing_rate 0.1,0.2,0.3,0.4,0.5,0.6,0.7,0.8,0.9,0.95,0.97 --drop_last --bin 0.0005 -n 8,512,500,0.0001\n",
    "!python going_modular/main.py --scale --seed 50 --zone GoldCoast --missing_rate 0.1,0.2,0.3,0.4,0.5,0.6,0.7,0.8,0.9,0.95,0.97 --drop_last --bin 0.0005 -n 8,512,500,0.0001"
   ]
  },
  {
   "cell_type": "code",
   "execution_count": 5,
   "outputs": [],
   "source": [
    "%%capture\n",
    "!python going_modular/main.py --scale --seed 0 --zone GoldCoast --missing_rate 0.1,0.2,0.3,0.4,0.5,0.6,0.7,0.8,0.9,0.95,0.97 --drop_last --bin 0.0005 -g exp,power\n",
    "!python going_modular/main.py --scale --seed 5 --zone GoldCoast --missing_rate 0.1,0.2,0.3,0.4,0.5,0.6,0.7,0.8,0.9,0.95,0.97 --drop_last --bin 0.0005 -g exp,power\n",
    "!python going_modular/main.py --scale --seed 10 --zone GoldCoast --missing_rate 0.1,0.2,0.3,0.4,0.5,0.6,0.7,0.8,0.9,0.95,0.97 --drop_last --bin 0.0005 -g exp,power\n",
    "!python going_modular/main.py --scale --seed 15 --zone GoldCoast --missing_rate 0.1,0.2,0.3,0.4,0.5,0.6,0.7,0.8,0.9,0.95,0.97 --drop_last --bin 0.0005 -g exp,power\n",
    "!python going_modular/main.py --scale --seed 20 --zone GoldCoast --missing_rate 0.1,0.2,0.3,0.4,0.5,0.6,0.7,0.8,0.9,0.95,0.97 --drop_last --bin 0.0005 -g exp,power\n",
    "!python going_modular/main.py --scale --seed 25 --zone GoldCoast --missing_rate 0.1,0.2,0.3,0.4,0.5,0.6,0.7,0.8,0.9,0.95,0.97 --drop_last --bin 0.0005 -g exp,power\n",
    "!python going_modular/main.py --scale --seed 30 --zone GoldCoast --missing_rate 0.1,0.2,0.3,0.4,0.5,0.6,0.7,0.8,0.9,0.95,0.97 --drop_last --bin 0.0005 -g exp,power\n",
    "!python going_modular/main.py --scale --seed 35 --zone GoldCoast --missing_rate 0.1,0.2,0.3,0.4,0.5,0.6,0.7,0.8,0.9,0.95,0.97 --drop_last --bin 0.0005 -g exp,power\n",
    "!python going_modular/main.py --scale --seed 40 --zone GoldCoast --missing_rate 0.1,0.2,0.3,0.4,0.5,0.6,0.7,0.8,0.9,0.95,0.97 --drop_last --bin 0.0005 -g exp,power\n",
    "!python going_modular/main.py --scale --seed 50 --zone GoldCoast --missing_rate 0.1,0.2,0.3,0.4,0.5,0.6,0.7,0.8,0.9,0.95,0.97 --drop_last --bin 0.0005 -g exp,power"
   ],
   "metadata": {
    "collapsed": false,
    "ExecuteTime": {
     "end_time": "2023-10-12T16:22:21.564860500Z",
     "start_time": "2023-10-12T16:10:14.498261100Z"
    }
   },
   "id": "4f6eb91f5ff33046"
  },
  {
   "cell_type": "code",
   "execution_count": 6,
   "id": "c725dd1aef2acdce",
   "metadata": {
    "collapsed": false,
    "ExecuteTime": {
     "end_time": "2023-10-12T16:39:57.803420Z",
     "start_time": "2023-10-12T16:39:56.252301100Z"
    }
   },
   "outputs": [
    {
     "name": "stdout",
     "output_type": "stream",
     "text": [
      "we are in SiouxFalls\n",
      "model\n",
      "0\n",
      "1\n",
      "2\n",
      "3\n",
      "4\n",
      "5\n",
      "6\n",
      "7\n",
      "8\n",
      "9\n",
      "we are in Anaheim\n",
      "model\n",
      "0\n",
      "1\n",
      "2\n",
      "3\n",
      "4\n",
      "5\n",
      "6\n",
      "7\n",
      "8\n",
      "9\n",
      "we are in Chicago_sketch\n",
      "model\n",
      "0\n",
      "1\n",
      "2\n",
      "3\n",
      "4\n",
      "5\n",
      "6\n",
      "7\n",
      "8\n",
      "9\n",
      "we are in GoldCoast\n",
      "model\n",
      "0\n",
      "1\n",
      "2\n",
      "3\n",
      "4\n",
      "5\n",
      "6\n",
      "7\n",
      "8\n",
      "9\n",
      "we are in SiouxFalls\n",
      "exp\n",
      "0\n",
      "1\n",
      "2\n",
      "3\n",
      "4\n",
      "5\n",
      "6\n",
      "7\n",
      "8\n",
      "9\n",
      "power\n",
      "0\n",
      "1\n",
      "2\n",
      "3\n",
      "4\n",
      "5\n",
      "6\n",
      "7\n",
      "8\n",
      "9\n",
      "we are in Anaheim\n",
      "exp\n",
      "0\n",
      "1\n",
      "2\n",
      "3\n",
      "4\n",
      "5\n",
      "6\n",
      "7\n",
      "8\n",
      "9\n",
      "power\n",
      "0\n",
      "1\n",
      "2\n",
      "3\n",
      "4\n",
      "5\n",
      "6\n",
      "7\n",
      "8\n",
      "9\n",
      "we are in Chicago_sketch\n",
      "exp\n",
      "0\n",
      "1\n",
      "2\n",
      "3\n",
      "4\n",
      "5\n",
      "6\n",
      "7\n",
      "8\n",
      "9\n",
      "power\n",
      "0\n",
      "1\n",
      "2\n",
      "3\n",
      "4\n",
      "5\n",
      "6\n",
      "7\n",
      "8\n",
      "9\n",
      "we are in GoldCoast\n",
      "exp\n",
      "0\n",
      "1\n",
      "2\n",
      "3\n",
      "4\n",
      "5\n",
      "6\n",
      "7\n",
      "8\n",
      "9\n",
      "power\n",
      "0\n",
      "1\n",
      "2\n",
      "3\n",
      "4\n",
      "5\n",
      "6\n",
      "7\n",
      "8\n",
      "9\n"
     ]
    }
   ],
   "source": [
    "from going_modular import Results_preparation as rp\n",
    "\n",
    "zones = [\"SiouxFalls\", \"Anaheim\", \"Chicago_sketch\", \"GoldCoast\"]\n",
    "ap = [\"exp\", \"power\", \"model\"]\n",
    "\n",
    "ml = [\"NN\", \"GM\"]\n",
    "rand = [0,5,10,15,20,25,30,35,40,50]\n",
    "miss = [0.1,0.2,0.3,0.4,0.5,0.6,0.7,0.8,0.9,0.95,0.97]\n",
    "rp.prepare(zones, ap, ml, rand, miss)"
   ]
  },
  {
   "cell_type": "code",
   "execution_count": 7,
   "id": "b746b046529a1f1a",
   "metadata": {
    "collapsed": false,
    "ExecuteTime": {
     "end_time": "2023-10-12T16:40:02.433396400Z",
     "start_time": "2023-10-12T16:40:01.625105500Z"
    }
   },
   "outputs": [],
   "source": [
    "places = [\"Anaheim\", \"SiouxFalls\", \"Chicago_Sketch\", \"GoldCoast\"]\n",
    "types = [\"GM_exp\", \"GM_power\", \"Neural_Net\", \"Graph_Neural_Net\"]\n",
    "rp.make_excel(places, types, miss)"
   ]
  },
  {
   "cell_type": "code",
   "execution_count": null,
   "id": "bd6da335d707c197",
   "metadata": {
    "collapsed": false
   },
   "outputs": [],
   "source": []
  }
 ],
 "metadata": {
  "kernelspec": {
   "display_name": "Python 3",
   "language": "python",
   "name": "python3"
  },
  "language_info": {
   "codemirror_mode": {
    "name": "ipython",
    "version": 2
   },
   "file_extension": ".py",
   "mimetype": "text/x-python",
   "name": "python",
   "nbconvert_exporter": "python",
   "pygments_lexer": "ipython2",
   "version": "2.7.6"
  }
 },
 "nbformat": 4,
 "nbformat_minor": 5
}
