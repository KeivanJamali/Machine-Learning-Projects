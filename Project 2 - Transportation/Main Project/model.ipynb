{
 "cells": [
  {
   "cell_type": "code",
   "execution_count": null,
   "id": "1b360dfc5f0d1cfd",
   "metadata": {
    "ExecuteTime": {
     "end_time": "2023-09-24T12:35:21.707346900Z",
     "start_time": "2023-09-24T12:35:12.583277200Z"
    },
    "collapsed": false
   },
   "outputs": [],
   "source": [
    "!python going_modular/main.py -h"
   ]
  },
  {
   "cell_type": "code",
   "execution_count": null,
   "id": "6549154755c45ffa",
   "metadata": {
    "ExecuteTime": {
     "end_time": "2023-09-24T12:35:21.712954100Z",
     "start_time": "2023-09-24T12:35:21.705010Z"
    },
    "collapsed": false
   },
   "outputs": [],
   "source": [
    "seed = [0, 5, 10, 15, 20, 25, 30, 35, 40, 50]\n",
    "len(seed)"
   ]
  },
  {
   "cell_type": "code",
   "execution_count": null,
   "id": "53520fb8ecdc5e59",
   "metadata": {
    "ExecuteTime": {
     "end_time": "2023-10-03T11:08:21.971557500Z",
     "start_time": "2023-10-03T11:05:06.897612Z"
    },
    "collapsed": false
   },
   "outputs": [],
   "source": [
    "# %%capture\n",
    "!python going_modular/main.py --scale --seed 0 --zone SiouxFalls --missing_rate 0.1,0.2,0.3,0.4,0.5,0.6,0.7,0.8,0.9,0.95,0.97 -n 8,32,500,0.001 -g exp,power --bin 0.5\n",
    "!python going_modular/main.py --scale --seed 5 --zone SiouxFalls --missing_rate 0.1,0.2,0.3,0.4,0.5,0.6,0.7,0.8,0.9,0.95,0.97 -n 8,32,500,0.001 -g exp,power --bin 0.5\n",
    "!python going_modular/main.py --scale --seed 10 --zone SiouxFalls --missing_rate 0.1,0.2,0.3,0.4,0.5,0.6,0.7,0.8,0.9,0.95,0.97 -n 8,32,500,0.001 -g exp,power --bin 0.5\n",
    "!python going_modular/main.py --scale --seed 15 --zone SiouxFalls --missing_rate 0.1,0.2,0.3,0.4,0.5,0.6,0.7,0.8,0.9,0.95,0.97 -n 8,32,500,0.001 -g exp,power --bin 0.5\n",
    "!python going_modular/main.py --scale --seed 20 --zone SiouxFalls --missing_rate 0.1,0.2,0.3,0.4,0.5,0.6,0.7,0.8,0.9,0.95,0.97 -n 8,32,500,0.001 -g exp,power --bin 0.5\n",
    "!python going_modular/main.py --scale --seed 25 --zone SiouxFalls --missing_rate 0.1,0.2,0.3,0.4,0.5,0.6,0.7,0.8,0.9,0.95,0.97 -n 8,32,500,0.001 -g exp,power --bin 0.5\n",
    "!python going_modular/main.py --scale --seed 30 --zone SiouxFalls --missing_rate 0.1,0.2,0.3,0.4,0.5,0.6,0.7,0.8,0.9,0.95,0.97 -n 8,32,500,0.001 -g exp,power --bin 0.5\n",
    "!python going_modular/main.py --scale --seed 35 --zone SiouxFalls --missing_rate 0.1,0.2,0.3,0.4,0.5,0.6,0.7,0.8,0.9,0.95,0.97 -n 8,32,500,0.001 -g exp,power --bin 0.5\n",
    "!python going_modular/main.py --scale --seed 40 --zone SiouxFalls --missing_rate 0.1,0.2,0.3,0.4,0.5,0.6,0.7,0.8,0.9,0.95,0.97 -n 8,32,500,0.001 -g exp,power --bin 0.5\n",
    "!python going_modular/main.py --scale --seed 50 --zone SiouxFalls --missing_rate 0.1,0.2,0.3,0.4,0.5,0.6,0.7,0.8,0.9,0.95,0.97 -n 8,32,500,0.001 -g exp,power --bin 0.5"
   ]
  },
  {
   "cell_type": "code",
   "execution_count": null,
   "id": "607760416719e77a",
   "metadata": {
    "ExecuteTime": {
     "end_time": "2023-09-27T08:42:11.889911400Z",
     "start_time": "2023-09-27T08:36:19.110988500Z"
    },
    "collapsed": false
   },
   "outputs": [],
   "source": [
    "# %%capture\n",
    "!python going_modular/main.py --scale --seed 0 --zone Anaheim --missing_rate 0.1,0.2,0.3,0.4,0.5,0.6,0.7,0.8,0.9,0.95,0.97 -n 8,32,500,0.001 -g exp,power --drop_last --bin 0.05\n",
    "!python going_modular/main.py --scale --seed 5 --zone Anaheim --missing_rate 0.1,0.2,0.3,0.4,0.5,0.6,0.7,0.8,0.9,0.95,0.97 -n 8,32,500,0.001 -g exp,power --drop_last --bin 0.05\n",
    "!python going_modular/main.py --scale --seed 10 --zone Anaheim --missing_rate 0.1,0.2,0.3,0.4,0.5,0.6,0.7,0.8,0.9,0.95,0.97 -n 8,32,500,0.001 -g exp,power --drop_last --bin 0.05\n",
    "!python going_modular/main.py --scale --seed 15 --zone Anaheim --missing_rate 0.1,0.2,0.3,0.4,0.5,0.6,0.7,0.8,0.9,0.95,0.97 -n 8,32,500,0.001 -g exp,power --drop_last --bin 0.05\n",
    "!python going_modular/main.py --scale --seed 20 --zone Anaheim --missing_rate 0.1,0.2,0.3,0.4,0.5,0.6,0.7,0.8,0.9,0.95,0.97 -n 8,32,500,0.001 -g exp,power --drop_last --bin 0.05\n",
    "!python going_modular/main.py --scale --seed 25 --zone Anaheim --missing_rate 0.1,0.2,0.3,0.4,0.5,0.6,0.7,0.8,0.9,0.95,0.97 -n 8,32,500,0.001 -g exp,power --drop_last --bin 0.05\n",
    "!python going_modular/main.py --scale --seed 30 --zone Anaheim --missing_rate 0.1,0.2,0.3,0.4,0.5,0.6,0.7,0.8,0.9,0.95,0.97 -n 8,32,500,0.001 -g exp,power --drop_last --bin 0.05\n",
    "!python going_modular/main.py --scale --seed 35 --zone Anaheim --missing_rate 0.1,0.2,0.3,0.4,0.5,0.6,0.7,0.8,0.9,0.95,0.97 -n 8,32,500,0.001 -g exp,power --drop_last --bin 0.05\n",
    "!python going_modular/main.py --scale --seed 40 --zone Anaheim --missing_rate 0.1,0.2,0.3,0.4,0.5,0.6,0.7,0.8,0.9,0.95,0.97 -n 8,32,500,0.001 -g exp,power --drop_last --bin 0.05\n",
    "!python going_modular/main.py --scale --seed 50 --zone Anaheim --missing_rate 0.1,0.2,0.3,0.4,0.5,0.6,0.7,0.8,0.9,0.95,0.97 -n 8,32,500,0.001 -g exp,power --drop_last --bin 0.05"
   ]
  },
  {
   "cell_type": "code",
   "execution_count": null,
   "id": "62e851f5bd988b94",
   "metadata": {
    "ExecuteTime": {
     "end_time": "2023-09-27T10:34:24.040795600Z",
     "start_time": "2023-09-27T08:42:11.910560700Z"
    },
    "collapsed": false
   },
   "outputs": [],
   "source": [
    "# %%capture\n",
    "!python going_modular/main.py --scale --seed 0 --zone Chicago_Sketch --missing_rate 0.1,0.2,0.3,0.4,0.5,0.6,0.7,0.8,0.9,0.95,0.97 -n 8,512,500,0.0001 -g exp,power --drop_last --bin 0.005\n",
    "!python going_modular/main.py --scale --seed 5 --zone Chicago_Sketch --missing_rate 0.1,0.2,0.3,0.4,0.5,0.6,0.7,0.8,0.9,0.95,0.97 -n 8,512,500,0.0001 -g exp,power --drop_last --bin 0.005\n",
    "!python going_modular/main.py --scale --seed 10 --zone Chicago_Sketch --missing_rate 0.1,0.2,0.3,0.4,0.5,0.6,0.7,0.8,0.9,0.95,0.97 -n 8,512,500,0.0001 -g exp,power --drop_last --bin 0.005\n",
    "!python going_modular/main.py --scale --seed 15 --zone Chicago_Sketch --missing_rate 0.1,0.2,0.3,0.4,0.5,0.6,0.7,0.8,0.9,0.95,0.97 -n 8,512,500,0.0001 -g exp,power --drop_last --bin 0.005\n",
    "!python going_modular/main.py --scale --seed 20 --zone Chicago_Sketch --missing_rate 0.1,0.2,0.3,0.4,0.5,0.6,0.7,0.8,0.9,0.95,0.97 -n 8,512,500,0.0001 -g exp,power --drop_last --bin 0.005\n",
    "!python going_modular/main.py --scale --seed 25 --zone Chicago_Sketch --missing_rate 0.1,0.2,0.3,0.4,0.5,0.6,0.7,0.8,0.9,0.95,0.97 -n 8,512,500,0.0001 -g exp,power --drop_last --bin 0.005\n",
    "!python going_modular/main.py --scale --seed 30 --zone Chicago_Sketch --missing_rate 0.1,0.2,0.3,0.4,0.5,0.6,0.7,0.8,0.9,0.95,0.97 -n 8,512,500,0.0001 -g exp,power --drop_last --bin 0.005\n",
    "!python going_modular/main.py --scale --seed 35 --zone Chicago_Sketch --missing_rate 0.1,0.2,0.3,0.4,0.5,0.6,0.7,0.8,0.9,0.95,0.97 -n 8,512,500,0.0001 -g exp,power --drop_last --bin 0.005\n",
    "!python going_modular/main.py --scale --seed 40 --zone Chicago_Sketch --missing_rate 0.1,0.2,0.3,0.4,0.5,0.6,0.7,0.8,0.9,0.95,0.97 -n 8,512,500,0.0001 -g exp,power --drop_last --bin 0.005\n",
    "!python going_modular/main.py --scale --seed 50 --zone Chicago_Sketch --missing_rate 0.1,0.2,0.3,0.4,0.5,0.6,0.7,0.8,0.9,0.95,0.97 -n 8,512,500,0.0001 -g exp,power --drop_last --bin 0.005"
   ]
  },
  {
   "cell_type": "code",
   "execution_count": null,
   "id": "f88e55110093cf88",
   "metadata": {
    "ExecuteTime": {
     "end_time": "2023-10-03T10:42:45.585120500Z",
     "start_time": "2023-10-03T10:33:00.815298700Z"
    },
    "collapsed": false
   },
   "outputs": [],
   "source": [
    "# %%capture\n",
    "!python going_modular/main.py --scale --seed 0 --zone GoldCoast --missing_rate 0.1,0.2,0.3,0.4,0.5,0.6,0.7,0.8,0.9,0.95 --drop_last --bin 0.0005 -g exp,power\n",
    "!python going_modular/main.py --scale --seed 5 --zone GoldCoast --missing_rate 0.1,0.2,0.3,0.4,0.5,0.6,0.7,0.8,0.9,0.95 --drop_last --bin 0.0005 -g exp,power\n",
    "!python going_modular/main.py --scale --seed 10 --zone GoldCoast --missing_rate 0.1,0.2,0.3,0.4,0.5,0.6,0.7,0.8,0.9,0.95 --drop_last --bin 0.0005 -g exp,power\n",
    "!python going_modular/main.py --scale --seed 15 --zone GoldCoast --missing_rate 0.1,0.2,0.3,0.4,0.5,0.6,0.7,0.8,0.9,0.95 --drop_last --bin 0.0005 -g exp,power\n",
    "!python going_modular/main.py --scale --seed 20 --zone GoldCoast --missing_rate 0.1,0.2,0.3,0.4,0.5,0.6,0.7,0.8,0.9,0.95 --drop_last --bin 0.0005 -g exp,power\n",
    "!python going_modular/main.py --scale --seed 25 --zone GoldCoast --missing_rate 0.1,0.2,0.3,0.4,0.5,0.6,0.7,0.8,0.9,0.95 --drop_last --bin 0.0005 -g exp,power\n",
    "!python going_modular/main.py --scale --seed 30 --zone GoldCoast --missing_rate 0.1,0.2,0.3,0.4,0.5,0.6,0.7,0.8,0.9,0.95 --drop_last --bin 0.0005 -g exp,power\n",
    "!python going_modular/main.py --scale --seed 35 --zone GoldCoast --missing_rate 0.1,0.2,0.3,0.4,0.5,0.6,0.7,0.8,0.9,0.95 --drop_last --bin 0.0005 -g exp,power\n",
    "!python going_modular/main.py --scale --seed 40 --zone GoldCoast --missing_rate 0.1,0.2,0.3,0.4,0.5,0.6,0.7,0.8,0.9,0.95 --drop_last --bin 0.0005 -g exp,power\n",
    "!python going_modular/main.py --scale --seed 50 --zone GoldCoast --missing_rate 0.1,0.2,0.3,0.4,0.5,0.6,0.7,0.8,0.9,0.95 --drop_last --bin 0.0005 -g exp,power"
   ]
  },
  {
   "cell_type": "code",
   "execution_count": null,
   "id": "e2a78622dde5d89",
   "metadata": {
    "ExecuteTime": {
     "end_time": "2023-09-27T08:17:57.183870300Z",
     "start_time": "2023-09-27T08:17:50.463823600Z"
    },
    "collapsed": false
   },
   "outputs": [],
   "source": [
    "# %%capture\n",
    "!python going_modular/main.py --scale --seed 0 --zone Anaheim --missing_rate 0.95 --bin 0.05 -g exp,power"
   ]
  },
  {
   "cell_type": "code",
   "execution_count": null,
   "id": "e6329fe9f4d34024",
   "metadata": {
    "ExecuteTime": {
     "end_time": "2023-09-26T10:21:56.773624900Z",
     "start_time": "2023-09-26T10:21:50.853624500Z"
    },
    "collapsed": false
   },
   "outputs": [],
   "source": [
    "# %%capture\n",
    "!python going_modular/main.py --scale --seed 0 --zone Chicago_Sketch --missing_rate 0.95 -n 8,512,500,0.0001 --drop_last --new_data --bin 0.005 -g exp,power --new_data"
   ]
  },
  {
   "cell_type": "code",
   "execution_count": null,
   "id": "c725dd1aef2acdce",
   "metadata": {
    "ExecuteTime": {
     "end_time": "2023-10-03T11:33:35.964686900Z",
     "start_time": "2023-10-03T11:33:35.432896700Z"
    },
    "collapsed": false
   },
   "outputs": [],
   "source": [
    "from going_modular import Results_preparation as rp\n",
    "\n",
    "zones = [\"SiouxFalls\", \"Anaheim\", \"Chicago_sketch\", \"GoldCoast\"]\n",
    "zones = [\"GoldCoast\"]\n",
    "ap = [\"exp\", \"power\", \"model\"]\n",
    "\n",
    "ml = [\"NN\", \"GM\"]\n",
    "rand = [0,5,10,15,20,25,30,35,40,50]\n",
    "miss = [0.1,0.2,0.3,0.4,0.5,0.6,0.7,0.8,0.9,0.95,0.97]\n",
    "rp.prepare(zones, ap, ml, rand, miss)"
   ]
  },
  {
   "cell_type": "code",
   "execution_count": null,
   "id": "b746b046529a1f1a",
   "metadata": {
    "ExecuteTime": {
     "end_time": "2023-10-03T11:33:45.833035900Z",
     "start_time": "2023-10-03T11:33:44.941912Z"
    },
    "collapsed": false
   },
   "outputs": [],
   "source": [
    "places = [\"Anaheim\", \"SiouxFalls\", \"Chicago_Sketch\", \"GoldCoast\"]\n",
    "types = [\"GM_exp\", \"GM_power\", \"Neural_Net\", \"Graph_Neural_Net\"]\n",
    "rp.make_excel(places, types, miss)"
   ]
  },
  {
   "cell_type": "code",
   "execution_count": null,
   "id": "bd6da335d707c197",
   "metadata": {
    "collapsed": false
   },
   "outputs": [],
   "source": []
  }
 ],
 "metadata": {
  "kernelspec": {
   "display_name": "Python 3",
   "language": "python",
   "name": "python3"
  },
  "language_info": {
   "codemirror_mode": {
    "name": "ipython",
    "version": 2
   },
   "file_extension": ".py",
   "mimetype": "text/x-python",
   "name": "python",
   "nbconvert_exporter": "python",
   "pygments_lexer": "ipython2",
   "version": "2.7.6"
  }
 },
 "nbformat": 4,
 "nbformat_minor": 5
}
