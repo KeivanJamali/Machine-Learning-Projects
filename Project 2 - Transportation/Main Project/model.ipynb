{
 "cells": [
  {
   "cell_type": "code",
   "execution_count": 3,
   "id": "1b360dfc5f0d1cfd",
   "metadata": {
    "collapsed": false,
    "ExecuteTime": {
     "end_time": "2023-10-16T08:58:37.380363Z",
     "start_time": "2023-10-16T08:58:32.801103Z"
    }
   },
   "outputs": [
    {
     "name": "stdout",
     "output_type": "stream",
     "text": [
      "usage: main.py [-h] [--scale] [--new_data]\n",
      "               [--zone {SiouxFalls,Anaheim,Chicago_Sketch,Chicago_Regional,GoldCoast}]\n",
      "               [--seed SEED] [--missing_rates MISSING_RATES] [--drop_last]\n",
      "               [-g GRAVITY_MODEL] [-n NEURAL_NETWORK] [--bin BIN]\n",
      "\n",
      "options:\n",
      "  -h, --help            show this help message and exit\n",
      "  --scale               if you want your scaled data through model.\n",
      "  --new_data            if you want to model on new random data.\n",
      "  --zone {SiouxFalls,Anaheim,Chicago_Sketch,Chicago_Regional,GoldCoast}\n",
      "                        which zone are you looking at?\n",
      "  --seed SEED           what is the random you want to model on it?\n",
      "  --missing_rates MISSING_RATES\n",
      "                        what are the list for missing rates?\n",
      "  --drop_last           want to drop the last item of batch?\n",
      "  -g GRAVITY_MODEL, --gravity_model GRAVITY_MODEL\n",
      "                        write a list to specify which approach of gravity\n",
      "                        models you want to be done?\n",
      "  -n NEURAL_NETWORK, --neural_network NEURAL_NETWORK\n",
      "                        specify hyper parameters of neural_network in order\n",
      "                        to: hidden_units, batch_size, epochs, learning_rate\n",
      "  --bin BIN             set the scale of histogram.[start, stop, step] you\n",
      "                        only set start.\n"
     ]
    }
   ],
   "source": [
    "!python going_modular/main.py -h"
   ]
  },
  {
   "cell_type": "code",
   "execution_count": null,
   "id": "6549154755c45ffa",
   "metadata": {
    "ExecuteTime": {
     "end_time": "2023-09-24T12:35:21.712954100Z",
     "start_time": "2023-09-24T12:35:21.705010Z"
    },
    "collapsed": false
   },
   "outputs": [],
   "source": [
    "seed = [0, 5, 10, 15, 20, 25, 30, 35, 40, 50]\n",
    "len(seed)"
   ]
  },
  {
   "cell_type": "code",
   "execution_count": 1,
   "id": "53520fb8ecdc5e59",
   "metadata": {
    "collapsed": false,
    "ExecuteTime": {
     "end_time": "2023-10-12T10:36:23.817846900Z",
     "start_time": "2023-10-12T10:31:45.686442600Z"
    }
   },
   "outputs": [],
   "source": [
    "%%capture\n",
    "# !python going_modular/main.py --scale --seed 0 --zone SiouxFalls --missing_rate 0.1,0.2,0.3,0.4,0.5,0.6,0.7,0.8,0.9,0.95,0.97 -n 8,32,500,0.001 -g exp,power --bin 0.5\n",
    "# !python going_modular/main.py --scale --seed 5 --zone SiouxFalls --missing_rate 0.1,0.2,0.3,0.4,0.5,0.6,0.7,0.8,0.9,0.95,0.97 -n 8,32,500,0.001 -g exp,power --bin 0.5\n",
    "!python going_modular/main.py --scale --seed 10 --zone SiouxFalls --missing_rate 0.5 -n 8,32,500,0.001\n",
    "# !python going_modular/main.py --scale --seed 15 --zone SiouxFalls --missing_rate 0.1,0.2,0.3,0.4,0.5,0.6,0.7,0.8,0.9,0.95,0.97 -n 8,32,500,0.001 -g exp,power --bin 0.5\n",
    "# !python going_modular/main.py --scale --seed 20 --zone SiouxFalls --missing_rate 0.1,0.2,0.3,0.4,0.5,0.6,0.7,0.8,0.9,0.95,0.97 -n 8,32,500,0.001 -g exp,power --bin 0.5\n",
    "# !python going_modular/main.py --scale --seed 25 --zone SiouxFalls --missing_rate 0.1,0.2,0.3,0.4,0.5,0.6,0.7,0.8,0.9,0.95,0.97 -n 8,32,500,0.001 -g exp,power --bin 0.5\n",
    "# !python going_modular/main.py --scale --seed 30 --zone SiouxFalls --missing_rate 0.1,0.2,0.3,0.4,0.5,0.6,0.7,0.8,0.9,0.95,0.97 -n 8,32,500,0.001 -g exp,power --bin 0.5\n",
    "# !python going_modular/main.py --scale --seed 35 --zone SiouxFalls --missing_rate 0.1,0.2,0.3,0.4,0.5,0.6,0.7,0.8,0.9,0.95,0.97 -n 8,32,500,0.001 -g exp,power --bin 0.5\n",
    "# !python going_modular/main.py --scale --seed 40 --zone SiouxFalls --missing_rate 0.1,0.2,0.3,0.4,0.5,0.6,0.7,0.8,0.9,0.95,0.97 -n 8,32,500,0.001 -g exp,power --bin 0.5\n",
    "# !python going_modular/main.py --scale --seed 50 --zone SiouxFalls --missing_rate 0.1,0.2,0.3,0.4,0.5,0.6,0.7,0.8,0.9,0.95,0.97 -n 8,32,500,0.001 -g exp,power --bin 0.5"
   ]
  },
  {
   "cell_type": "code",
   "execution_count": 2,
   "id": "607760416719e77a",
   "metadata": {
    "collapsed": false,
    "ExecuteTime": {
     "end_time": "2023-10-12T10:41:15.570852800Z",
     "start_time": "2023-10-12T10:36:23.824854Z"
    }
   },
   "outputs": [],
   "source": [
    "%%capture\n",
    "!python going_modular/main.py --scale --seed 0 --zone Anaheim --missing_rate 0.1,0.2,0.3,0.4,0.5,0.6,0.7,0.8,0.9,0.95,0.97 -n 8,32,500,0.001 -g exp,power --drop_last --bin 0.05\n",
    "!python going_modular/main.py --scale --seed 5 --zone Anaheim --missing_rate 0.1,0.2,0.3,0.4,0.5,0.6,0.7,0.8,0.9,0.95,0.97 -n 8,32,500,0.001 -g exp,power --drop_last --bin 0.05\n",
    "!python going_modular/main.py --scale --seed 10 --zone Anaheim --missing_rate 0.1,0.2,0.3,0.4,0.5,0.6,0.7,0.8,0.9,0.95,0.97 -n 8,32,500,0.001 -g exp,power --drop_last --bin 0.05\n",
    "!python going_modular/main.py --scale --seed 15 --zone Anaheim --missing_rate 0.1,0.2,0.3,0.4,0.5,0.6,0.7,0.8,0.9,0.95,0.97 -n 8,32,500,0.001 -g exp,power --drop_last --bin 0.05\n",
    "!python going_modular/main.py --scale --seed 20 --zone Anaheim --missing_rate 0.1,0.2,0.3,0.4,0.5,0.6,0.7,0.8,0.9,0.95,0.97 -n 8,32,500,0.001 -g exp,power --drop_last --bin 0.05\n",
    "!python going_modular/main.py --scale --seed 25 --zone Anaheim --missing_rate 0.1,0.2,0.3,0.4,0.5,0.6,0.7,0.8,0.9,0.95,0.97 -n 8,32,500,0.001 -g exp,power --drop_last --bin 0.05\n",
    "!python going_modular/main.py --scale --seed 30 --zone Anaheim --missing_rate 0.1,0.2,0.3,0.4,0.5,0.6,0.7,0.8,0.9,0.95,0.97 -n 8,32,500,0.001 -g exp,power --drop_last --bin 0.05\n",
    "!python going_modular/main.py --scale --seed 35 --zone Anaheim --missing_rate 0.1,0.2,0.3,0.4,0.5,0.6,0.7,0.8,0.9,0.95,0.97 -n 8,32,500,0.001 -g exp,power --drop_last --bin 0.05\n",
    "!python going_modular/main.py --scale --seed 40 --zone Anaheim --missing_rate 0.1,0.2,0.3,0.4,0.5,0.6,0.7,0.8,0.9,0.95,0.97 -n 8,32,500,0.001 -g exp,power --drop_last --bin 0.05\n",
    "!python going_modular/main.py --scale --seed 50 --zone Anaheim --missing_rate 0.1,0.2,0.3,0.4,0.5,0.6,0.7,0.8,0.9,0.95,0.97 -n 8,32,500,0.001 -g exp,power --drop_last --bin 0.05"
   ]
  },
  {
   "cell_type": "code",
   "execution_count": 3,
   "id": "62e851f5bd988b94",
   "metadata": {
    "collapsed": false,
    "ExecuteTime": {
     "end_time": "2023-10-12T12:29:27.326504600Z",
     "start_time": "2023-10-12T10:41:15.575872600Z"
    }
   },
   "outputs": [
    {
     "name": "stderr",
     "output_type": "stream",
     "text": [
      "D:\\All Python\\Machine-Learning-Projects\\Project 2 - Transportation\\Main Project\\going_modular\\Gravity_Model_engine.py:277: RuntimeWarning: divide by zero encountered in power\n",
      "  * self.travel_time.values ** -u)\n",
      "D:\\All Python\\Machine-Learning-Projects\\Project 2 - Transportation\\Main Project\\going_modular\\Gravity_Model_engine.py:277: RuntimeWarning: divide by zero encountered in power\n",
      "  * self.travel_time.values ** -u)\n",
      "D:\\All Python\\Machine-Learning-Projects\\Project 2 - Transportation\\Main Project\\going_modular\\Gravity_Model_engine.py:277: RuntimeWarning: divide by zero encountered in power\n",
      "  * self.travel_time.values ** -u)\n",
      "D:\\All Python\\Machine-Learning-Projects\\Project 2 - Transportation\\Main Project\\going_modular\\Gravity_Model_engine.py:277: RuntimeWarning: divide by zero encountered in power\n",
      "  * self.travel_time.values ** -u)\n",
      "D:\\All Python\\Machine-Learning-Projects\\Project 2 - Transportation\\Main Project\\going_modular\\Gravity_Model_engine.py:277: RuntimeWarning: divide by zero encountered in power\n",
      "  * self.travel_time.values ** -u)\n",
      "D:\\All Python\\Machine-Learning-Projects\\Project 2 - Transportation\\Main Project\\going_modular\\Gravity_Model_engine.py:277: RuntimeWarning: divide by zero encountered in power\n",
      "  * self.travel_time.values ** -u)\n",
      "D:\\All Python\\Machine-Learning-Projects\\Project 2 - Transportation\\Main Project\\going_modular\\Gravity_Model_engine.py:277: RuntimeWarning: divide by zero encountered in power\n",
      "  * self.travel_time.values ** -u)\n",
      "D:\\All Python\\Machine-Learning-Projects\\Project 2 - Transportation\\Main Project\\going_modular\\Gravity_Model_engine.py:277: RuntimeWarning: divide by zero encountered in power\n",
      "  * self.travel_time.values ** -u)\n",
      "D:\\All Python\\Machine-Learning-Projects\\Project 2 - Transportation\\Main Project\\going_modular\\Gravity_Model_engine.py:277: RuntimeWarning: divide by zero encountered in power\n",
      "  * self.travel_time.values ** -u)\n",
      "D:\\All Python\\Machine-Learning-Projects\\Project 2 - Transportation\\Main Project\\going_modular\\Gravity_Model_engine.py:277: RuntimeWarning: divide by zero encountered in power\n",
      "  * self.travel_time.values ** -u)\n",
      "D:\\All Python\\Machine-Learning-Projects\\Project 2 - Transportation\\Main Project\\going_modular\\Gravity_Model_engine.py:277: RuntimeWarning: divide by zero encountered in power\n",
      "  * self.travel_time.values ** -u)\n"
     ]
    }
   ],
   "source": [
    "%%capture\n",
    "!python going_modular/main.py --scale --seed 0 --zone Chicago_Sketch --missing_rate 0.1,0.2,0.3,0.4,0.5,0.6,0.7,0.8,0.9,0.95,0.97 -n 8,512,500,0.0001 -g exp,power --drop_last --bin 0.005\n",
    "!python going_modular/main.py --scale --seed 5 --zone Chicago_Sketch --missing_rate 0.1,0.2,0.3,0.4,0.5,0.6,0.7,0.8,0.9,0.95,0.97 -n 8,512,500,0.0001 -g exp,power --drop_last --bin 0.005\n",
    "!python going_modular/main.py --scale --seed 10 --zone Chicago_Sketch --missing_rate 0.1,0.2,0.3,0.4,0.5,0.6,0.7,0.8,0.9,0.95,0.97 -n 8,512,500,0.0001 -g exp,power --drop_last --bin 0.005\n",
    "!python going_modular/main.py --scale --seed 15 --zone Chicago_Sketch --missing_rate 0.1,0.2,0.3,0.4,0.5,0.6,0.7,0.8,0.9,0.95,0.97 -n 8,512,500,0.0001 -g exp,power --drop_last --bin 0.005\n",
    "!python going_modular/main.py --scale --seed 20 --zone Chicago_Sketch --missing_rate 0.1,0.2,0.3,0.4,0.5,0.6,0.7,0.8,0.9,0.95,0.97 -n 8,512,500,0.0001 -g exp,power --drop_last --bin 0.005\n",
    "!python going_modular/main.py --scale --seed 25 --zone Chicago_Sketch --missing_rate 0.1,0.2,0.3,0.4,0.5,0.6,0.7,0.8,0.9,0.95,0.97 -n 8,512,500,0.0001 -g exp,power --drop_last --bin 0.005\n",
    "!python going_modular/main.py --scale --seed 30 --zone Chicago_Sketch --missing_rate 0.1,0.2,0.3,0.4,0.5,0.6,0.7,0.8,0.9,0.95,0.97 -n 8,512,500,0.0001 -g exp,power --drop_last --bin 0.005\n",
    "!python going_modular/main.py --scale --seed 35 --zone Chicago_Sketch --missing_rate 0.1,0.2,0.3,0.4,0.5,0.6,0.7,0.8,0.9,0.95,0.97 -n 8,512,500,0.0001 -g exp,power --drop_last --bin 0.005\n",
    "!python going_modular/main.py --scale --seed 40 --zone Chicago_Sketch --missing_rate 0.1,0.2,0.3,0.4,0.5,0.6,0.7,0.8,0.9,0.95,0.97 -n 8,512,500,0.0001 -g exp,power --drop_last --bin 0.005\n",
    "!python going_modular/main.py --scale --seed 50 --zone Chicago_Sketch --missing_rate 0.1,0.2,0.3,0.4,0.5,0.6,0.7,0.8,0.9,0.95,0.97 -n 8,512,500,0.0001 -g exp,power --drop_last --bin 0.005"
   ]
  },
  {
   "cell_type": "code",
   "execution_count": 4,
   "id": "f88e55110093cf88",
   "metadata": {
    "collapsed": false,
    "ExecuteTime": {
     "end_time": "2023-10-12T16:10:14.482653700Z",
     "start_time": "2023-10-12T12:29:27.326504600Z"
    }
   },
   "outputs": [],
   "source": [
    "%%capture\n",
    "!python going_modular/main.py --scale --seed 0 --zone GoldCoast --missing_rate 0.1,0.2,0.3,0.4,0.5,0.6,0.7,0.8,0.9,0.95,0.97 --drop_last --bin 0.0005 -n 8,512,500,0.0001\n",
    "!python going_modular/main.py --scale --seed 5 --zone GoldCoast --missing_rate 0.1,0.2,0.3,0.4,0.5,0.6,0.7,0.8,0.9,0.95,0.97 --drop_last --bin 0.0005 -n 8,512,500,0.0001\n",
    "!python going_modular/main.py --scale --seed 10 --zone GoldCoast --missing_rate 0.1,0.2,0.3,0.4,0.5,0.6,0.7,0.8,0.9,0.95,0.97 --drop_last --bin 0.0005 -n 8,512,500,0.0001\n",
    "!python going_modular/main.py --scale --seed 15 --zone GoldCoast --missing_rate 0.1,0.2,0.3,0.4,0.5,0.6,0.7,0.8,0.9,0.95,0.97 --drop_last --bin 0.0005 -n 8,512,500,0.0001\n",
    "!python going_modular/main.py --scale --seed 20 --zone GoldCoast --missing_rate 0.1,0.2,0.3,0.4,0.5,0.6,0.7,0.8,0.9,0.95,0.97 --drop_last --bin 0.0005 -n 8,512,500,0.0001\n",
    "!python going_modular/main.py --scale --seed 25 --zone GoldCoast --missing_rate 0.1,0.2,0.3,0.4,0.5,0.6,0.7,0.8,0.9,0.95,0.97 --drop_last --bin 0.0005 -n 8,512,500,0.0001\n",
    "!python going_modular/main.py --scale --seed 30 --zone GoldCoast --missing_rate 0.1,0.2,0.3,0.4,0.5,0.6,0.7,0.8,0.9,0.95,0.97 --drop_last --bin 0.0005 -n 8,512,500,0.0001\n",
    "!python going_modular/main.py --scale --seed 35 --zone GoldCoast --missing_rate 0.1,0.2,0.3,0.4,0.5,0.6,0.7,0.8,0.9,0.95,0.97 --drop_last --bin 0.0005 -n 8,512,500,0.0001\n",
    "!python going_modular/main.py --scale --seed 40 --zone GoldCoast --missing_rate 0.1,0.2,0.3,0.4,0.5,0.6,0.7,0.8,0.9,0.95,0.97 --drop_last --bin 0.0005 -n 8,512,500,0.0001\n",
    "!python going_modular/main.py --scale --seed 50 --zone GoldCoast --missing_rate 0.1,0.2,0.3,0.4,0.5,0.6,0.7,0.8,0.9,0.95,0.97 --drop_last --bin 0.0005 -n 8,512,500,0.0001"
   ]
  },
  {
   "cell_type": "code",
   "execution_count": 5,
   "outputs": [],
   "source": [
    "%%capture\n",
    "!python going_modular/main.py --scale --seed 0 --zone GoldCoast --missing_rate 0.1,0.2,0.3,0.4,0.5,0.6,0.7,0.8,0.9,0.95,0.97 --drop_last --bin 0.0005 -g exp,power\n",
    "!python going_modular/main.py --scale --seed 5 --zone GoldCoast --missing_rate 0.1,0.2,0.3,0.4,0.5,0.6,0.7,0.8,0.9,0.95,0.97 --drop_last --bin 0.0005 -g exp,power\n",
    "!python going_modular/main.py --scale --seed 10 --zone GoldCoast --missing_rate 0.1,0.2,0.3,0.4,0.5,0.6,0.7,0.8,0.9,0.95,0.97 --drop_last --bin 0.0005 -g exp,power\n",
    "!python going_modular/main.py --scale --seed 15 --zone GoldCoast --missing_rate 0.1,0.2,0.3,0.4,0.5,0.6,0.7,0.8,0.9,0.95,0.97 --drop_last --bin 0.0005 -g exp,power\n",
    "!python going_modular/main.py --scale --seed 20 --zone GoldCoast --missing_rate 0.1,0.2,0.3,0.4,0.5,0.6,0.7,0.8,0.9,0.95,0.97 --drop_last --bin 0.0005 -g exp,power\n",
    "!python going_modular/main.py --scale --seed 25 --zone GoldCoast --missing_rate 0.1,0.2,0.3,0.4,0.5,0.6,0.7,0.8,0.9,0.95,0.97 --drop_last --bin 0.0005 -g exp,power\n",
    "!python going_modular/main.py --scale --seed 30 --zone GoldCoast --missing_rate 0.1,0.2,0.3,0.4,0.5,0.6,0.7,0.8,0.9,0.95,0.97 --drop_last --bin 0.0005 -g exp,power\n",
    "!python going_modular/main.py --scale --seed 35 --zone GoldCoast --missing_rate 0.1,0.2,0.3,0.4,0.5,0.6,0.7,0.8,0.9,0.95,0.97 --drop_last --bin 0.0005 -g exp,power\n",
    "!python going_modular/main.py --scale --seed 40 --zone GoldCoast --missing_rate 0.1,0.2,0.3,0.4,0.5,0.6,0.7,0.8,0.9,0.95,0.97 --drop_last --bin 0.0005 -g exp,power\n",
    "!python going_modular/main.py --scale --seed 50 --zone GoldCoast --missing_rate 0.1,0.2,0.3,0.4,0.5,0.6,0.7,0.8,0.9,0.95,0.97 --drop_last --bin 0.0005 -g exp,power"
   ],
   "metadata": {
    "collapsed": false,
    "ExecuteTime": {
     "end_time": "2023-10-12T16:22:21.564860500Z",
     "start_time": "2023-10-12T16:10:14.498261100Z"
    }
   },
   "id": "4f6eb91f5ff33046"
  },
  {
   "cell_type": "code",
   "execution_count": 1,
   "id": "c725dd1aef2acdce",
   "metadata": {
    "collapsed": false,
    "ExecuteTime": {
     "end_time": "2024-02-08T15:25:27.140430200Z",
     "start_time": "2024-02-08T15:25:26.019738900Z"
    }
   },
   "outputs": [
    {
     "name": "stdout",
     "output_type": "stream",
     "text": [
      "we are in SiouxFalls\n",
      "model\n",
      "0\n",
      "1\n",
      "2\n",
      "3\n",
      "4\n",
      "5\n",
      "6\n",
      "7\n",
      "8\n",
      "9\n",
      "we are in Anaheim\n",
      "model\n",
      "0\n",
      "1\n",
      "2\n",
      "3\n",
      "4\n",
      "5\n",
      "6\n",
      "7\n",
      "8\n",
      "9\n",
      "we are in Chicago_sketch\n",
      "model\n",
      "0\n",
      "1\n",
      "2\n",
      "3\n",
      "4\n",
      "5\n",
      "6\n",
      "7\n",
      "8\n",
      "9\n",
      "we are in GoldCoast\n",
      "model\n",
      "0\n",
      "1\n",
      "2\n",
      "3\n",
      "4\n",
      "5\n",
      "6\n",
      "7\n",
      "8\n",
      "9\n",
      "we are in SiouxFalls\n",
      "exp\n",
      "0\n",
      "1\n",
      "2\n",
      "3\n",
      "4\n",
      "5\n",
      "6\n",
      "7\n",
      "8\n",
      "9\n",
      "power\n",
      "0\n",
      "1\n",
      "2\n",
      "3\n",
      "4\n",
      "5\n",
      "6\n",
      "7\n",
      "8\n",
      "9\n",
      "we are in Anaheim\n",
      "exp\n",
      "0\n",
      "1\n",
      "2\n",
      "3\n",
      "4\n",
      "5\n",
      "6\n",
      "7\n",
      "8\n",
      "9\n",
      "power\n",
      "0\n",
      "1\n",
      "2\n",
      "3\n",
      "4\n",
      "5\n",
      "6\n",
      "7\n",
      "8\n",
      "9\n",
      "we are in Chicago_sketch\n",
      "exp\n",
      "0\n",
      "1\n",
      "2\n",
      "3\n",
      "4\n",
      "5\n",
      "6\n",
      "7\n",
      "8\n",
      "9\n",
      "power\n",
      "0\n",
      "1\n",
      "2\n",
      "3\n",
      "4\n",
      "5\n",
      "6\n",
      "7\n",
      "8\n",
      "9\n",
      "we are in GoldCoast\n",
      "exp\n",
      "0\n",
      "1\n",
      "2\n",
      "3\n",
      "4\n",
      "5\n",
      "6\n",
      "7\n",
      "8\n",
      "9\n",
      "power\n",
      "0\n",
      "1\n",
      "2\n",
      "3\n",
      "4\n",
      "5\n",
      "6\n",
      "7\n",
      "8\n",
      "9\n"
     ]
    }
   ],
   "source": [
    "from going_modular import Results_preparation as rp\n",
    "\n",
    "zones = [\"SiouxFalls\", \"Anaheim\", \"Chicago_sketch\", \"GoldCoast\"]\n",
    "ap = [\"exp\", \"power\", \"model\"]\n",
    "\n",
    "ml = [\"NN\", \"GM\"]\n",
    "rand = [0,5,10,15,20,25,30,35,40,50]\n",
    "miss = [0.1,0.2,0.3,0.4,0.5,0.6,0.7,0.8,0.9,0.95,0.97]\n",
    "rp.prepare(zones, ap, ml, rand, miss)"
   ]
  },
  {
   "cell_type": "code",
   "execution_count": 7,
   "id": "b746b046529a1f1a",
   "metadata": {
    "collapsed": false,
    "ExecuteTime": {
     "end_time": "2023-10-12T16:40:02.433396400Z",
     "start_time": "2023-10-12T16:40:01.625105500Z"
    }
   },
   "outputs": [],
   "source": [
    "places = [\"Anaheim\", \"SiouxFalls\", \"Chicago_Sketch\", \"GoldCoast\"]\n",
    "types = [\"GM_exp\", \"GM_power\", \"Neural_Net\", \"Graph_Neural_Net\"]\n",
    "rp.make_excel(places, types, miss)"
   ]
  },
  {
   "cell_type": "code",
   "execution_count": 2,
   "id": "bd6da335d707c197",
   "metadata": {
    "collapsed": false,
    "ExecuteTime": {
     "end_time": "2023-10-16T08:58:34.233503300Z",
     "start_time": "2023-10-16T08:58:09.331052100Z"
    }
   },
   "outputs": [
    {
     "name": "stdout",
     "output_type": "stream",
     "text": [
      "done real_od\n",
      "done production\n",
      "done attraction\n",
      "done travel_time\n",
      "done train 0.10\n",
      "done test 0.1\n",
      "done validation 0.10\n"
     ]
    }
   ],
   "source": [
    "!python going_modular/main.py --seed 0 --zone GoldCoast --missing_rate 0.1 --drop_last --bin 0.0005 --new_data"
   ]
  },
  {
   "cell_type": "code",
   "execution_count": 6,
   "outputs": [
    {
     "name": "stdout",
     "output_type": "stream",
     "text": [
      "GMS\n",
      "NNS\n",
      "___0.310328___0.211547___\n",
      "___0.190496___0.133339___\n",
      "___0.119381___0.086525___\n",
      "___0.075641___0.059617___\n",
      "___0.049893___0.045145___\n",
      "___0.035375___0.038111___\n",
      "___0.027693___0.034521___\n",
      "___0.023395___0.031747___\n",
      "___0.020341___0.029132___\n",
      "___0.017779___0.026678___\n",
      "___0.015560___0.024524___\n",
      "___0.013644___0.022597___\n",
      "___0.011973___0.020907___\n",
      "___0.010534___0.019252___\n",
      "___0.009287___0.017500___\n",
      "___0.008114___0.015056___\n",
      "___0.006885___0.013294___\n",
      "___0.005950___0.012289___\n",
      "___0.005415___0.011388___\n",
      "___0.004998___0.010765___\n",
      "___0.004697___0.010201___\n",
      "___0.004443___0.009668___\n",
      "___0.004209___0.009234___\n",
      "___0.004011___0.008810___\n",
      "___0.003822___0.008448___\n",
      "___0.003654___0.008082___\n",
      "___0.003487___0.007754___\n",
      "___0.003333___0.007425___\n",
      "___0.003189___0.007088___\n",
      "___0.003043___0.006794___\n",
      "___0.002916___0.006472___\n",
      "___0.002779___0.006200___\n",
      "___0.002662___0.005926___\n",
      "___0.002544___0.005669___\n",
      "___0.002435___0.005422___\n",
      "___0.002334___0.005172___\n",
      "___0.002228___0.004958___\n",
      "___0.002148___0.004744___\n",
      "___0.002076___0.004550___\n",
      "___0.002012___0.004370___\n",
      "___0.001952___0.004207___\n",
      "___0.001905___0.004032___\n",
      "___0.001850___0.003900___\n",
      "___0.001808___0.003769___\n",
      "___0.001765___0.003656___\n",
      "___0.001729___0.003547___\n",
      "___0.001693___0.003450___\n",
      "___0.001656___0.003371___\n",
      "___0.001625___0.003289___\n",
      "___0.001597___0.003210___\n",
      "___0.001576___0.003109___\n",
      "___0.001541___0.003050___\n",
      "___0.001523___0.002974___\n",
      "___0.001502___0.002900___\n",
      "___0.001476___0.002850___\n",
      "___0.001465___0.002769___\n",
      "___0.001439___0.002728___\n",
      "___0.001420___0.002695___\n",
      "___0.001411___0.002628___\n",
      "___0.001391___0.002584___\n",
      "___0.001373___0.002545___\n",
      "___0.001363___0.002485___\n",
      "___0.001344___0.002448___\n",
      "___0.001327___0.002427___\n",
      "___0.001320___0.002382___\n",
      "___0.001305___0.002360___\n",
      "___0.001294___0.002335___\n",
      "___0.001284___0.002300___\n",
      "___0.001268___0.002286___\n",
      "___0.001265___0.002235___\n",
      "___0.001249___0.002221___\n",
      "___0.001237___0.002216___\n",
      "___0.001233___0.002180___\n",
      "___0.001215___0.002185___\n",
      "___0.001216___0.002144___\n",
      "___0.001197___0.002149___\n",
      "___0.001194___0.002122___\n",
      "___0.001186___0.002090___\n",
      "___0.001171___0.002096___\n",
      "___0.001165___0.002086___\n",
      "___0.001157___0.002074___\n",
      "___0.001149___0.002062___\n",
      "___0.001142___0.002048___\n",
      "___0.001134___0.002038___\n",
      "___0.001123___0.002071___\n",
      "___0.001126___0.002033___\n",
      "___0.001111___0.002033___\n",
      "___0.001107___0.002016___\n",
      "___0.001099___0.002001___\n",
      "___0.001092___0.001987___\n",
      "___0.001086___0.001971___\n",
      "___0.001079___0.001961___\n",
      "___0.001073___0.001950___\n",
      "___0.001064___0.001957___\n",
      "___0.001063___0.001931___\n",
      "___0.001055___0.001921___\n",
      "___0.001047___0.001925___\n",
      "___0.001048___0.001894___\n",
      "___0.001038___0.001890___\n",
      "___0.001031___0.001894___\n",
      "___0.001032___0.001865___\n",
      "___0.001020___0.001876___\n",
      "___0.001019___0.001864___\n",
      "___0.001017___0.001841___\n",
      "___0.001006___0.001863___\n",
      "___0.001006___0.001850___\n",
      "___0.001004___0.001829___\n",
      "___0.000991___0.001847___\n",
      "___0.000999___0.001816___\n",
      "___0.000986___0.001813___\n",
      "___0.000980___0.001805___\n",
      "___0.000977___0.001774___\n",
      "___0.000964___0.001772___\n",
      "___0.000958___0.001770___\n",
      "___0.000957___0.001754___\n",
      "___0.000947___0.001757___\n",
      "___0.000945___0.001758___\n",
      "___0.000944___0.001746___\n",
      "___0.000942___0.001723___\n",
      "___0.000933___0.001726___\n",
      "___0.000934___0.001718___\n",
      "___0.000927___0.001720___\n",
      "___0.000929___0.001704___\n",
      "___0.000922___0.001706___\n",
      "___0.000916___0.001713___\n",
      "___0.000918___0.001697___\n",
      "___0.000904___0.001717___\n",
      "___0.000910___0.001689___\n",
      "___0.000897___0.001699___\n",
      "___0.000899___0.001681___\n",
      "___0.000890___0.001682___\n",
      "___0.000890___0.001677___\n",
      "___0.000882___0.001676___\n",
      "___0.000876___0.001681___\n",
      "___0.000871___0.001685___\n",
      "___0.000871___0.001679___\n",
      "___0.000867___0.001688___\n",
      "___0.000870___0.001671___\n",
      "___0.000859___0.001693___\n",
      "___0.000867___0.001671___\n",
      "___0.000850___0.001695___\n",
      "___0.000856___0.001690___\n",
      "___0.000852___0.001697___\n",
      "Early_Stop_at_ 142 Epoch\n",
      "R2 is in mis of 0.5 == 0.9440862299037394\n"
     ]
    }
   ],
   "source": [
    "# !python going_modular/main.py --scale --seed 10 --zone SiouxFalls --missing_rate 0.5 -n 8,32,500,0.001\n",
    "!python going_modular/main.py --scale --seed 10 --zone Anaheim --missing_rate 0.5 -n 8,32,500,0.001 --drop_last\n",
    "# !python going_modular/main.py --scale --seed 10 --zone Chicago_Sketch --missing_rate 0.5 -n 8,512,500,0.0001 --drop_last\n"
   ],
   "metadata": {
    "collapsed": false,
    "ExecuteTime": {
     "end_time": "2024-02-09T11:50:23.019312800Z",
     "start_time": "2024-02-09T11:50:14.253626300Z"
    }
   },
   "id": "45be95290f7c6e26"
  },
  {
   "cell_type": "code",
   "outputs": [],
   "source": [],
   "metadata": {
    "collapsed": false
   },
   "id": "ebb72bc88eb224b5"
  }
 ],
 "metadata": {
  "kernelspec": {
   "display_name": "Python 3",
   "language": "python",
   "name": "python3"
  },
  "language_info": {
   "codemirror_mode": {
    "name": "ipython",
    "version": 2
   },
   "file_extension": ".py",
   "mimetype": "text/x-python",
   "name": "python",
   "nbconvert_exporter": "python",
   "pygments_lexer": "ipython2",
   "version": "2.7.6"
  }
 },
 "nbformat": 4,
 "nbformat_minor": 5
}
