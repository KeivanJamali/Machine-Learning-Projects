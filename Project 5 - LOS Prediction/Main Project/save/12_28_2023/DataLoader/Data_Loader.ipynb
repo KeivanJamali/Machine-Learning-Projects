{
 "cells": [
  {
   "cell_type": "code",
   "execution_count": 1,
   "id": "initial_id",
   "metadata": {
    "collapsed": true,
    "ExecuteTime": {
     "end_time": "2023-12-28T14:03:24.474647200Z",
     "start_time": "2023-12-28T14:03:24.296369400Z"
    }
   },
   "outputs": [],
   "source": [
    "%load_ext autoreload\n",
    "%autoreload 2"
   ]
  },
  {
   "cell_type": "code",
   "execution_count": 2,
   "id": "c3bf5bcbffe897a0",
   "metadata": {
    "collapsed": false,
    "ExecuteTime": {
     "end_time": "2023-12-28T14:03:25.963160400Z",
     "start_time": "2023-12-28T14:03:24.386460100Z"
    }
   },
   "outputs": [],
   "source": [
    "import numpy as np\n",
    "import pandas as pd\n",
    "from pathlib import Path"
   ]
  },
  {
   "cell_type": "code",
   "execution_count": 3,
   "id": "ca8afcd405eecca2",
   "metadata": {
    "collapsed": false,
    "ExecuteTime": {
     "end_time": "2023-12-28T14:22:29.848423800Z",
     "start_time": "2023-12-28T14:03:25.966185600Z"
    }
   },
   "outputs": [],
   "source": [
    "raw_data_folder_path = Path(\"D:\\All Python\\All_Big_raw_Data\\LOS prediction\\Traffic Dataset\")\n",
    "data_UTD19 = pd.read_csv(raw_data_folder_path / \"utd19_u.csv\", low_memory=False)\n",
    "data_links = pd.read_csv(raw_data_folder_path / \"links.csv\")\n",
    "data_detectors = pd.read_csv(raw_data_folder_path / \"detectors.csv\")"
   ]
  },
  {
   "cell_type": "code",
   "execution_count": 4,
   "id": "6af532436efa7ba2",
   "metadata": {
    "collapsed": false,
    "ExecuteTime": {
     "end_time": "2023-12-28T14:22:30.708561200Z",
     "start_time": "2023-12-28T14:22:29.848423800Z"
    }
   },
   "outputs": [
    {
     "data": {
      "text/plain": "        name                                           datetime  temp  \\\n0     luzern  2015-01-01 00:00:002015-01-01 00:00:002015-01-...  -3.4   \n1     luzern  2015-01-01 01:00:002015-01-01 01:00:002015-01-...  -3.4   \n2     luzern  2015-01-01 02:00:002015-01-01 02:00:002015-01-...  -3.3   \n3     luzern  2015-01-01 03:00:002015-01-01 03:00:002015-01-...  -3.6   \n4     luzern  2015-01-01 04:00:002015-01-01 04:00:002015-01-...  -3.1   \n...      ...                                                ...   ...   \n8755  Luzern  2015-12-31 19:00:002015-12-31 19:00:002015-12-...   4.4   \n8756  Luzern  2015-12-31 20:00:002015-12-31 20:00:002015-12-...   4.5   \n8757  Luzern  2015-12-31 21:00:002015-12-31 21:00:002015-12-...   4.4   \n8758  Luzern  2015-12-31 22:00:002015-12-31 22:00:002015-12-...   4.5   \n8759  Luzern  2015-12-31 23:00:002015-12-31 23:00:002015-12-...   4.4   \n\n      feelslike  dew  humidity  rainfall  precipprob preciptype  snow  ...  \\\n0          -6.0 -4.8     90.04     0.000           0        NaN   0.0  ...   \n1          -6.7 -4.8     90.06     0.000           0        NaN   0.0  ...   \n2          -3.3 -4.8     89.57     0.000           0        NaN   0.0  ...   \n3          -8.1 -5.0     90.60     0.000           0        NaN   0.0  ...   \n4          -5.1 -4.4     91.14     0.000           0        NaN   0.0  ...   \n...         ...  ...       ...       ...         ...        ...   ...  ...   \n8755        4.4  3.6     94.87     0.097         100       rain   0.0  ...   \n8756        4.5  3.9     95.51     0.111         100       rain   0.0  ...   \n8757        4.4  3.9     96.75     0.399         100       rain   0.0  ...   \n8758        4.5  3.9     95.49     0.396         100       rain   0.0  ...   \n8759        4.4  3.9     96.75     0.100         100       rain   0.0  ...   \n\n      solarradiation  solarenergy  uvindex  severerisk        conditions  \\\n0                0.0          0.0        0         NaN  Partially cloudy   \n1                0.0          0.0        0         NaN  Partially cloudy   \n2                0.0          0.0        0         NaN  Partially cloudy   \n3                0.0          0.0        0         NaN  Partially cloudy   \n4                0.0          0.0        0         NaN  Partially cloudy   \n...              ...          ...      ...         ...               ...   \n8755             0.0          0.0        0         NaN    Rain, Overcast   \n8756             0.0          0.0        0         NaN    Rain, Overcast   \n8757             0.0          0.0        0         NaN    Rain, Overcast   \n8758             0.0          0.0        0         NaN    Rain, Overcast   \n8759             0.0          0.0        0         NaN    Rain, Overcast   \n\n                     icon                                           stations  \\\n0     partly-cloudy-night  66,570,999,990,661,300,000,000,000,000,000,000...   \n1     partly-cloudy-night  66,570,999,990,661,300,000,000,000,000,000,000...   \n2     partly-cloudy-night  66,570,999,990,661,300,000,000,000,000,000,000...   \n3     partly-cloudy-night  66,570,999,990,661,300,000,000,000,000,000,000...   \n4     partly-cloudy-night  66,570,999,990,661,300,000,000,000,000,000,000...   \n...                   ...                                                ...   \n8755                 rain  06657099999,06650099999,06659099999,0667409999...   \n8756                 rain  06657099999,06650099999,06659099999,0667409999...   \n8757                 rain  06657099999,06650099999,06659099999,0667409999...   \n8758                 rain  06657099999,06650099999,06659099999,0667409999...   \n8759                 rain  06657099999,06650099999,06659099999,0667409999...   \n\n            day  rain_intensity  interval  \n0    2015-01-01     Slight rain       0.0  \n1    2015-01-01     Slight rain    3600.0  \n2    2015-01-01     Slight rain    7200.0  \n3    2015-01-01     Slight rain   10800.0  \n4    2015-01-01     Slight rain   14400.0  \n...         ...             ...       ...  \n8755 2015-12-31     Slight rain   68400.0  \n8756 2015-12-31     Slight rain   72000.0  \n8757 2015-12-31     Slight rain   75600.0  \n8758 2015-12-31     Slight rain   79200.0  \n8759 2015-12-31     Slight rain   82800.0  \n\n[8760 rows x 27 columns]",
      "text/html": "<div>\n<style scoped>\n    .dataframe tbody tr th:only-of-type {\n        vertical-align: middle;\n    }\n\n    .dataframe tbody tr th {\n        vertical-align: top;\n    }\n\n    .dataframe thead th {\n        text-align: right;\n    }\n</style>\n<table border=\"1\" class=\"dataframe\">\n  <thead>\n    <tr style=\"text-align: right;\">\n      <th></th>\n      <th>name</th>\n      <th>datetime</th>\n      <th>temp</th>\n      <th>feelslike</th>\n      <th>dew</th>\n      <th>humidity</th>\n      <th>rainfall</th>\n      <th>precipprob</th>\n      <th>preciptype</th>\n      <th>snow</th>\n      <th>...</th>\n      <th>solarradiation</th>\n      <th>solarenergy</th>\n      <th>uvindex</th>\n      <th>severerisk</th>\n      <th>conditions</th>\n      <th>icon</th>\n      <th>stations</th>\n      <th>day</th>\n      <th>rain_intensity</th>\n      <th>interval</th>\n    </tr>\n  </thead>\n  <tbody>\n    <tr>\n      <th>0</th>\n      <td>luzern</td>\n      <td>2015-01-01 00:00:002015-01-01 00:00:002015-01-...</td>\n      <td>-3.4</td>\n      <td>-6.0</td>\n      <td>-4.8</td>\n      <td>90.04</td>\n      <td>0.000</td>\n      <td>0</td>\n      <td>NaN</td>\n      <td>0.0</td>\n      <td>...</td>\n      <td>0.0</td>\n      <td>0.0</td>\n      <td>0</td>\n      <td>NaN</td>\n      <td>Partially cloudy</td>\n      <td>partly-cloudy-night</td>\n      <td>66,570,999,990,661,300,000,000,000,000,000,000...</td>\n      <td>2015-01-01</td>\n      <td>Slight rain</td>\n      <td>0.0</td>\n    </tr>\n    <tr>\n      <th>1</th>\n      <td>luzern</td>\n      <td>2015-01-01 01:00:002015-01-01 01:00:002015-01-...</td>\n      <td>-3.4</td>\n      <td>-6.7</td>\n      <td>-4.8</td>\n      <td>90.06</td>\n      <td>0.000</td>\n      <td>0</td>\n      <td>NaN</td>\n      <td>0.0</td>\n      <td>...</td>\n      <td>0.0</td>\n      <td>0.0</td>\n      <td>0</td>\n      <td>NaN</td>\n      <td>Partially cloudy</td>\n      <td>partly-cloudy-night</td>\n      <td>66,570,999,990,661,300,000,000,000,000,000,000...</td>\n      <td>2015-01-01</td>\n      <td>Slight rain</td>\n      <td>3600.0</td>\n    </tr>\n    <tr>\n      <th>2</th>\n      <td>luzern</td>\n      <td>2015-01-01 02:00:002015-01-01 02:00:002015-01-...</td>\n      <td>-3.3</td>\n      <td>-3.3</td>\n      <td>-4.8</td>\n      <td>89.57</td>\n      <td>0.000</td>\n      <td>0</td>\n      <td>NaN</td>\n      <td>0.0</td>\n      <td>...</td>\n      <td>0.0</td>\n      <td>0.0</td>\n      <td>0</td>\n      <td>NaN</td>\n      <td>Partially cloudy</td>\n      <td>partly-cloudy-night</td>\n      <td>66,570,999,990,661,300,000,000,000,000,000,000...</td>\n      <td>2015-01-01</td>\n      <td>Slight rain</td>\n      <td>7200.0</td>\n    </tr>\n    <tr>\n      <th>3</th>\n      <td>luzern</td>\n      <td>2015-01-01 03:00:002015-01-01 03:00:002015-01-...</td>\n      <td>-3.6</td>\n      <td>-8.1</td>\n      <td>-5.0</td>\n      <td>90.60</td>\n      <td>0.000</td>\n      <td>0</td>\n      <td>NaN</td>\n      <td>0.0</td>\n      <td>...</td>\n      <td>0.0</td>\n      <td>0.0</td>\n      <td>0</td>\n      <td>NaN</td>\n      <td>Partially cloudy</td>\n      <td>partly-cloudy-night</td>\n      <td>66,570,999,990,661,300,000,000,000,000,000,000...</td>\n      <td>2015-01-01</td>\n      <td>Slight rain</td>\n      <td>10800.0</td>\n    </tr>\n    <tr>\n      <th>4</th>\n      <td>luzern</td>\n      <td>2015-01-01 04:00:002015-01-01 04:00:002015-01-...</td>\n      <td>-3.1</td>\n      <td>-5.1</td>\n      <td>-4.4</td>\n      <td>91.14</td>\n      <td>0.000</td>\n      <td>0</td>\n      <td>NaN</td>\n      <td>0.0</td>\n      <td>...</td>\n      <td>0.0</td>\n      <td>0.0</td>\n      <td>0</td>\n      <td>NaN</td>\n      <td>Partially cloudy</td>\n      <td>partly-cloudy-night</td>\n      <td>66,570,999,990,661,300,000,000,000,000,000,000...</td>\n      <td>2015-01-01</td>\n      <td>Slight rain</td>\n      <td>14400.0</td>\n    </tr>\n    <tr>\n      <th>...</th>\n      <td>...</td>\n      <td>...</td>\n      <td>...</td>\n      <td>...</td>\n      <td>...</td>\n      <td>...</td>\n      <td>...</td>\n      <td>...</td>\n      <td>...</td>\n      <td>...</td>\n      <td>...</td>\n      <td>...</td>\n      <td>...</td>\n      <td>...</td>\n      <td>...</td>\n      <td>...</td>\n      <td>...</td>\n      <td>...</td>\n      <td>...</td>\n      <td>...</td>\n      <td>...</td>\n    </tr>\n    <tr>\n      <th>8755</th>\n      <td>Luzern</td>\n      <td>2015-12-31 19:00:002015-12-31 19:00:002015-12-...</td>\n      <td>4.4</td>\n      <td>4.4</td>\n      <td>3.6</td>\n      <td>94.87</td>\n      <td>0.097</td>\n      <td>100</td>\n      <td>rain</td>\n      <td>0.0</td>\n      <td>...</td>\n      <td>0.0</td>\n      <td>0.0</td>\n      <td>0</td>\n      <td>NaN</td>\n      <td>Rain, Overcast</td>\n      <td>rain</td>\n      <td>06657099999,06650099999,06659099999,0667409999...</td>\n      <td>2015-12-31</td>\n      <td>Slight rain</td>\n      <td>68400.0</td>\n    </tr>\n    <tr>\n      <th>8756</th>\n      <td>Luzern</td>\n      <td>2015-12-31 20:00:002015-12-31 20:00:002015-12-...</td>\n      <td>4.5</td>\n      <td>4.5</td>\n      <td>3.9</td>\n      <td>95.51</td>\n      <td>0.111</td>\n      <td>100</td>\n      <td>rain</td>\n      <td>0.0</td>\n      <td>...</td>\n      <td>0.0</td>\n      <td>0.0</td>\n      <td>0</td>\n      <td>NaN</td>\n      <td>Rain, Overcast</td>\n      <td>rain</td>\n      <td>06657099999,06650099999,06659099999,0667409999...</td>\n      <td>2015-12-31</td>\n      <td>Slight rain</td>\n      <td>72000.0</td>\n    </tr>\n    <tr>\n      <th>8757</th>\n      <td>Luzern</td>\n      <td>2015-12-31 21:00:002015-12-31 21:00:002015-12-...</td>\n      <td>4.4</td>\n      <td>4.4</td>\n      <td>3.9</td>\n      <td>96.75</td>\n      <td>0.399</td>\n      <td>100</td>\n      <td>rain</td>\n      <td>0.0</td>\n      <td>...</td>\n      <td>0.0</td>\n      <td>0.0</td>\n      <td>0</td>\n      <td>NaN</td>\n      <td>Rain, Overcast</td>\n      <td>rain</td>\n      <td>06657099999,06650099999,06659099999,0667409999...</td>\n      <td>2015-12-31</td>\n      <td>Slight rain</td>\n      <td>75600.0</td>\n    </tr>\n    <tr>\n      <th>8758</th>\n      <td>Luzern</td>\n      <td>2015-12-31 22:00:002015-12-31 22:00:002015-12-...</td>\n      <td>4.5</td>\n      <td>4.5</td>\n      <td>3.9</td>\n      <td>95.49</td>\n      <td>0.396</td>\n      <td>100</td>\n      <td>rain</td>\n      <td>0.0</td>\n      <td>...</td>\n      <td>0.0</td>\n      <td>0.0</td>\n      <td>0</td>\n      <td>NaN</td>\n      <td>Rain, Overcast</td>\n      <td>rain</td>\n      <td>06657099999,06650099999,06659099999,0667409999...</td>\n      <td>2015-12-31</td>\n      <td>Slight rain</td>\n      <td>79200.0</td>\n    </tr>\n    <tr>\n      <th>8759</th>\n      <td>Luzern</td>\n      <td>2015-12-31 23:00:002015-12-31 23:00:002015-12-...</td>\n      <td>4.4</td>\n      <td>4.4</td>\n      <td>3.9</td>\n      <td>96.75</td>\n      <td>0.100</td>\n      <td>100</td>\n      <td>rain</td>\n      <td>0.0</td>\n      <td>...</td>\n      <td>0.0</td>\n      <td>0.0</td>\n      <td>0</td>\n      <td>NaN</td>\n      <td>Rain, Overcast</td>\n      <td>rain</td>\n      <td>06657099999,06650099999,06659099999,0667409999...</td>\n      <td>2015-12-31</td>\n      <td>Slight rain</td>\n      <td>82800.0</td>\n    </tr>\n  </tbody>\n</table>\n<p>8760 rows × 27 columns</p>\n</div>"
     },
     "execution_count": 4,
     "metadata": {},
     "output_type": "execute_result"
    }
   ],
   "source": [
    "weather = pd.read_csv(\"D:\\All Python\\All_Big_raw_Data\\LOS prediction\\Environment Dataset/all_fields_weather.csv\")\n",
    "# weather = weather.iloc[:, [24, 26, 6]]\n",
    "weather.iloc[:,1] = weather.iloc[:,1]*3600\n",
    "weather.day = pd.to_datetime(weather.day)\n",
    "weather"
   ]
  },
  {
   "cell_type": "code",
   "execution_count": 5,
   "id": "107294fa2f566ed2",
   "metadata": {
    "collapsed": false,
    "ExecuteTime": {
     "end_time": "2023-12-28T14:22:58.175134400Z",
     "start_time": "2023-12-28T14:22:30.598483200Z"
    }
   },
   "outputs": [],
   "source": [
    "import data_preparation\n",
    "dataloader = data_preparation.DataLoader_MultiCity(data=data_UTD19, detectors_data=data_detectors, weather_data=weather)  # london, luzern, hamburg"
   ]
  },
  {
   "cell_type": "code",
   "execution_count": 6,
   "id": "535cbcb3ede36ada",
   "metadata": {
    "collapsed": false,
    "ExecuteTime": {
     "end_time": "2023-12-28T14:23:26.010399900Z",
     "start_time": "2023-12-28T14:22:58.186780700Z"
    }
   },
   "outputs": [
    {
     "name": "stdout",
     "output_type": "stream",
     "text": [
      "[INFO] ['luzern'] was/were picked successfully.\n"
     ]
    }
   ],
   "source": [
    "luzern = dataloader.pick_city([\"luzern\"])"
   ]
  },
  {
   "cell_type": "code",
   "execution_count": 12,
   "id": "c43c74770ed76fe5",
   "metadata": {
    "collapsed": false,
    "ExecuteTime": {
     "end_time": "2023-12-28T14:43:19.242402100Z",
     "start_time": "2023-12-28T14:43:10.885532100Z"
    }
   },
   "outputs": [
    {
     "name": "stdout",
     "output_type": "stream",
     "text": [
      "[INFO] data loaded successfully.\n",
      "[INFO] speed and density produced successfully.\n",
      "[INFO] Data #transformed# successfully.\n",
      "[INFO] Data merged with weather successfully.\n",
      "[INFO] LOS founded and added to data!\n",
      "[INFO] Split successful.\n",
      "[INFO] Saved successfully.\n"
     ]
    }
   ],
   "source": [
    "train_data, val_data, test_data = luzern.fit()"
   ]
  },
  {
   "cell_type": "code",
   "execution_count": 13,
   "id": "6874cccd609e1c6",
   "metadata": {
    "collapsed": false,
    "ExecuteTime": {
     "end_time": "2023-12-28T14:43:20.644206300Z",
     "start_time": "2023-12-28T14:43:20.338439700Z"
    }
   },
   "outputs": [],
   "source": [
    "data = luzern.merged_data\n",
    "data.to_csv(\"D:\\All Python\\All_Big_raw_Data\\LOS prediction\\Traffic Dataset/DataLoader/full_luzern.csv\")"
   ]
  },
  {
   "cell_type": "code",
   "execution_count": 25,
   "id": "cde88edf9456f284",
   "metadata": {
    "collapsed": false,
    "ExecuteTime": {
     "end_time": "2023-12-27T08:04:00.910548900Z",
     "start_time": "2023-12-27T08:04:00.588935600Z"
    }
   },
   "outputs": [
    {
     "data": {
      "text/plain": "<matplotlib.collections.PathCollection at 0x1bed54da810>"
     },
     "execution_count": 25,
     "metadata": {},
     "output_type": "execute_result"
    },
    {
     "data": {
      "text/plain": "<Figure size 640x480 with 1 Axes>",
      "image/png": "[encoded data removed]"
     },
     "metadata": {},
     "output_type": "display_data"
    }
   ],
   "source": [
    "data1 = data[data[\"rainfall\"] > 0]\n",
    "data2 = data[data[\"rainfall\"] == 0]\n",
    "\n",
    "data_monday_rainfall = data1[data1[\"date\"].dt.dayofweek == 0]\n",
    "data_tuesday_rainfall = data1[data1[\"date\"].dt.dayofweek == 1]\n",
    "data_wednesday_rainfall = data1[data1[\"date\"].dt.dayofweek == 2]\n",
    "data_thursday_rainfall = data1[data1[\"date\"].dt.dayofweek == 3]\n",
    "data_friday_rainfall = data1[data1[\"date\"].dt.dayofweek == 4]\n",
    "data_saturday_rainfall = data1[data1[\"date\"].dt.dayofweek == 5]\n",
    "data_sunday_rainfall = data1[data1[\"date\"].dt.dayofweek == 6]\n",
    "\n",
    "data_monday_rainfall_at_9 = data_monday_rainfall[data_monday_rainfall[\"date\"].dt.hour == 9]\n",
    "data_tuesday_rainfall_at_9 = data_tuesday_rainfall[data_tuesday_rainfall[\"date\"].dt.hour == 9]\n",
    "data_wednesday_rainfall_at_9 = data_wednesday_rainfall[data_wednesday_rainfall[\"date\"].dt.hour == 9]\n",
    "data_thursday_rainfall_at_9 = data_thursday_rainfall[data_thursday_rainfall[\"date\"].dt.hour == 9]\n",
    "data_friday_rainfall_at_9 = data_friday_rainfall[data_friday_rainfall[\"date\"].dt.hour == 9]\n",
    "data_saturday_rainfall_at_9 = data_saturday_rainfall[data_saturday_rainfall[\"date\"].dt.hour == 9]\n",
    "data_sunday_rainfall_at_9 = data_sunday_rainfall[data_sunday_rainfall[\"date\"].dt.hour == 9]\n",
    "\n",
    "data_monday_norainfall = data2[data2[\"date\"].dt.dayofweek == 0]\n",
    "data_tuesday_norainfall = data2[data2[\"date\"].dt.dayofweek == 1]\n",
    "data_wednesday_norainfall = data2[data2[\"date\"].dt.dayofweek == 2]\n",
    "data_thursday_norainfall = data2[data2[\"date\"].dt.dayofweek == 3]\n",
    "data_friday_norainfall = data2[data2[\"date\"].dt.dayofweek == 4]\n",
    "data_saturday_norainfall = data2[data2[\"date\"].dt.dayofweek == 5]\n",
    "data_sunday_norainfall = data2[data2[\"date\"].dt.dayofweek == 6]\n",
    "\n",
    "data_monday_norainfall_at_9 = data_monday_norainfall[data_monday_norainfall[\"date\"].dt.hour == 9]\n",
    "data_tuesday_norainfall_at_9 = data_tuesday_norainfall[data_tuesday_norainfall[\"date\"].dt.hour == 9]\n",
    "data_wednesday_norainfall_at_9 = data_wednesday_norainfall[data_wednesday_norainfall[\"date\"].dt.hour == 9]\n",
    "data_thursday_norainfall_at_9 = data_thursday_norainfall[data_thursday_norainfall[\"date\"].dt.hour == 9]\n",
    "data_friday_norainfall_at_9 = data_friday_norainfall[data_friday_norainfall[\"date\"].dt.hour == 9]\n",
    "data_saturday_norainfall_at_9 = data_saturday_norainfall[data_saturday_norainfall[\"date\"].dt.hour == 9]\n",
    "data_sunday_norainfall_at_9 = data_sunday_norainfall[data_sunday_norainfall[\"date\"].dt.hour == 9]\n",
    "\n",
    "# mask1 = data1[\"date\"].dt.dayofweek == 7\n",
    "# mask2 = data2[\"date\"].dt.dayofweek == 7\n",
    "# data1[mask1][\"flow\"].mean(), data2[mask2][\"flow\"].mean()\n",
    "\n",
    "import matplotlib.pyplot as plt\n",
    "\n",
    "plt.scatter(data_monday_rainfall_at_9[\"date\"], data_monday_rainfall_at_9[\"speed\"], c=\"blue\")\n",
    "plt.scatter(data_monday_norainfall_at_9[\"date\"], data_monday_norainfall_at_9[\"speed\"],  c=\"red\")"
   ]
  },
  {
   "cell_type": "code",
   "outputs": [],
   "source": [],
   "metadata": {
    "collapsed": false
   },
   "id": "3366130f709eba9b"
  }
 ],
 "metadata": {
  "kernelspec": {
   "display_name": "Python 3",
   "language": "python",
   "name": "python3"
  },
  "language_info": {
   "codemirror_mode": {
    "name": "ipython",
    "version": 3
   },
   "file_extension": ".py",
   "mimetype": "text/x-python",
   "name": "python",
   "nbconvert_exporter": "python",
   "pygments_lexer": "ipython3",
   "version": "3.11.5"
  }
 },
 "nbformat": 4,
 "nbformat_minor": 5
}
