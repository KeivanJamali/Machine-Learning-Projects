{
 "cells": [
  {
   "cell_type": "code",
   "execution_count": 1,
   "id": "initial_id",
   "metadata": {
    "collapsed": true,
    "ExecuteTime": {
     "end_time": "2023-12-18T05:37:56.522231600Z",
     "start_time": "2023-12-18T05:37:56.443771700Z"
    }
   },
   "outputs": [],
   "source": [
    "%load_ext autoreload\n",
    "%autoreload 2"
   ]
  },
  {
   "cell_type": "code",
   "execution_count": 3,
   "outputs": [],
   "source": [
    "import GreenShield_exp\n",
    "import numpy as np\n",
    "import pandas as pd\n",
    "from pathlib import Path"
   ],
   "metadata": {
    "collapsed": false,
    "ExecuteTime": {
     "end_time": "2023-12-18T05:42:43.236094400Z",
     "start_time": "2023-12-18T05:42:40.793263900Z"
    }
   },
   "id": "cece4e539d5fc0a2"
  },
  {
   "cell_type": "code",
   "execution_count": 4,
   "outputs": [],
   "source": [
    "data_path = Path(\"D:\\All Python\\All_Big_raw_Data\\LOS prediction\\Traffic Dataset\\DataLoader\")\n",
    "train_data = pd.read_csv(data_path / \"traffic_data_luzern_train.csv\")\n",
    "val_data = pd.read_csv(data_path / \"traffic_data_luzern_val.csv\")\n",
    "test_data = pd.read_csv(data_path / \"traffic_data_luzern_test.csv\")"
   ],
   "metadata": {
    "collapsed": false,
    "ExecuteTime": {
     "end_time": "2023-12-18T05:42:43.391502900Z",
     "start_time": "2023-12-18T05:42:43.216849Z"
    }
   },
   "id": "d53753fee15e26e8"
  },
  {
   "cell_type": "code",
   "execution_count": 5,
   "outputs": [],
   "source": [
    "train_data.drop(train_data[train_data[\"speed\"] == 0.0].index, inplace=True)\n",
    "train_data.drop(train_data[train_data[\"density\"] == 0.0].index, inplace=True)\n",
    "train_data.drop(train_data[train_data[\"flow\"] == 0.0].index, inplace=True)\n",
    "train_data.drop(train_data[train_data[\"rainfall\"] == 0.0].index, inplace=True)"
   ],
   "metadata": {
    "collapsed": false,
    "ExecuteTime": {
     "end_time": "2023-12-18T05:43:01.696158300Z",
     "start_time": "2023-12-18T05:43:01.556904Z"
    }
   },
   "id": "350677093071c107"
  },
  {
   "cell_type": "code",
   "execution_count": 6,
   "outputs": [
    {
     "data": {
      "text/plain": "      Unnamed: 0         day  interval   flow       occ   density  \\\n4            584  2015-01-25   30690.0  148.0  0.000025  0.000096   \n8            718  2015-01-30   81090.0  279.0  0.000040  0.000153   \n10           679  2015-01-29   27090.0  857.0  0.000207  0.000785   \n14           322  2015-01-14   37890.0  611.0  0.000103  0.000393   \n25           705  2015-01-30   34290.0  588.0  0.000103  0.000393   \n...          ...         ...       ...    ...       ...       ...   \n1112         385  2015-01-17    5490.0  128.0  0.000014  0.000054   \n1116        1332  2015-02-25   45090.0  736.0  0.000121  0.000460   \n1122         330  2015-01-14   66690.0  847.0  0.000137  0.000521   \n1124         466  2015-01-20   37890.0  629.0  0.000106  0.000403   \n1129        1294  2015-02-23   81090.0  278.0  0.000038  0.000145   \n\n             speed  rainfall  \n4     1.543410e+06     0.495  \n8     1.825238e+06     0.012  \n10    1.091482e+06     1.791  \n14    1.554469e+06     0.519  \n25    1.495953e+06     0.088  \n...            ...       ...  \n1112  2.365245e+06     0.635  \n1116  1.598369e+06     0.002  \n1122  1.624996e+06     0.014  \n1124  1.562521e+06     0.083  \n1129  1.913791e+06     0.174  \n\n[308 rows x 8 columns]",
      "text/html": "<div>\n<style scoped>\n    .dataframe tbody tr th:only-of-type {\n        vertical-align: middle;\n    }\n\n    .dataframe tbody tr th {\n        vertical-align: top;\n    }\n\n    .dataframe thead th {\n        text-align: right;\n    }\n</style>\n<table border=\"1\" class=\"dataframe\">\n  <thead>\n    <tr style=\"text-align: right;\">\n      <th></th>\n      <th>Unnamed: 0</th>\n      <th>day</th>\n      <th>interval</th>\n      <th>flow</th>\n      <th>occ</th>\n      <th>density</th>\n      <th>speed</th>\n      <th>rainfall</th>\n    </tr>\n  </thead>\n  <tbody>\n    <tr>\n      <th>4</th>\n      <td>584</td>\n      <td>2015-01-25</td>\n      <td>30690.0</td>\n      <td>148.0</td>\n      <td>0.000025</td>\n      <td>0.000096</td>\n      <td>1.543410e+06</td>\n      <td>0.495</td>\n    </tr>\n    <tr>\n      <th>8</th>\n      <td>718</td>\n      <td>2015-01-30</td>\n      <td>81090.0</td>\n      <td>279.0</td>\n      <td>0.000040</td>\n      <td>0.000153</td>\n      <td>1.825238e+06</td>\n      <td>0.012</td>\n    </tr>\n    <tr>\n      <th>10</th>\n      <td>679</td>\n      <td>2015-01-29</td>\n      <td>27090.0</td>\n      <td>857.0</td>\n      <td>0.000207</td>\n      <td>0.000785</td>\n      <td>1.091482e+06</td>\n      <td>1.791</td>\n    </tr>\n    <tr>\n      <th>14</th>\n      <td>322</td>\n      <td>2015-01-14</td>\n      <td>37890.0</td>\n      <td>611.0</td>\n      <td>0.000103</td>\n      <td>0.000393</td>\n      <td>1.554469e+06</td>\n      <td>0.519</td>\n    </tr>\n    <tr>\n      <th>25</th>\n      <td>705</td>\n      <td>2015-01-30</td>\n      <td>34290.0</td>\n      <td>588.0</td>\n      <td>0.000103</td>\n      <td>0.000393</td>\n      <td>1.495953e+06</td>\n      <td>0.088</td>\n    </tr>\n    <tr>\n      <th>...</th>\n      <td>...</td>\n      <td>...</td>\n      <td>...</td>\n      <td>...</td>\n      <td>...</td>\n      <td>...</td>\n      <td>...</td>\n      <td>...</td>\n    </tr>\n    <tr>\n      <th>1112</th>\n      <td>385</td>\n      <td>2015-01-17</td>\n      <td>5490.0</td>\n      <td>128.0</td>\n      <td>0.000014</td>\n      <td>0.000054</td>\n      <td>2.365245e+06</td>\n      <td>0.635</td>\n    </tr>\n    <tr>\n      <th>1116</th>\n      <td>1332</td>\n      <td>2015-02-25</td>\n      <td>45090.0</td>\n      <td>736.0</td>\n      <td>0.000121</td>\n      <td>0.000460</td>\n      <td>1.598369e+06</td>\n      <td>0.002</td>\n    </tr>\n    <tr>\n      <th>1122</th>\n      <td>330</td>\n      <td>2015-01-14</td>\n      <td>66690.0</td>\n      <td>847.0</td>\n      <td>0.000137</td>\n      <td>0.000521</td>\n      <td>1.624996e+06</td>\n      <td>0.014</td>\n    </tr>\n    <tr>\n      <th>1124</th>\n      <td>466</td>\n      <td>2015-01-20</td>\n      <td>37890.0</td>\n      <td>629.0</td>\n      <td>0.000106</td>\n      <td>0.000403</td>\n      <td>1.562521e+06</td>\n      <td>0.083</td>\n    </tr>\n    <tr>\n      <th>1129</th>\n      <td>1294</td>\n      <td>2015-02-23</td>\n      <td>81090.0</td>\n      <td>278.0</td>\n      <td>0.000038</td>\n      <td>0.000145</td>\n      <td>1.913791e+06</td>\n      <td>0.174</td>\n    </tr>\n  </tbody>\n</table>\n<p>308 rows × 8 columns</p>\n</div>"
     },
     "execution_count": 6,
     "metadata": {},
     "output_type": "execute_result"
    }
   ],
   "source": [
    "train_data"
   ],
   "metadata": {
    "collapsed": false,
    "ExecuteTime": {
     "end_time": "2023-12-18T05:43:03.268182700Z",
     "start_time": "2023-12-18T05:43:02.785309Z"
    }
   },
   "id": "69002d768896c747"
  },
  {
   "cell_type": "code",
   "execution_count": 8,
   "outputs": [],
   "source": [
    "# k_j_data = [max(train_data[\"density\"]) for i in range(len(train_data))]\n",
    "\n",
    "u_data = train_data[\"speed\"].values\n",
    "r_data = train_data[\"rainfall\"].values\n",
    "q_data = train_data[\"flow\"].values"
   ],
   "metadata": {
    "collapsed": false,
    "ExecuteTime": {
     "end_time": "2023-12-18T05:44:08.903664500Z",
     "start_time": "2023-12-18T05:44:08.826035900Z"
    }
   },
   "id": "c2abcb06db5dbe45"
  },
  {
   "cell_type": "code",
   "execution_count": 9,
   "outputs": [
    {
     "name": "stdout",
     "output_type": "stream",
     "text": [
      "Both actual and predicted relative reductions in the sum of squares\n",
      "  are at most 0.000000\n"
     ]
    },
    {
     "data": {
      "text/plain": "<Figure size 640x480 with 1 Axes>",
      "image/png": "[encoded data removed]"
     },
     "metadata": {},
     "output_type": "display_data"
    },
    {
     "name": "stdout",
     "output_type": "stream",
     "text": [
      "Fitted Parameters:\n",
      "a = 0.024238770726027623  ===  b = 3.0908504203217113  ===  c = 15.862031893932803 === k_j = 0.0002697355461480115\n",
      "____________________________________________________\n",
      "Error Parameters:\n",
      "R2 = -0.43060579503227814  ===  MSE = 104158.70684099717\n"
     ]
    }
   ],
   "source": [
    "model = GreenShield_exp.GreenShield_EXP(None, u_data, r_data, q_data)\n",
    "model.fit([0.5, 0.5, 0.5, 0.5])\n",
    "model.plot()\n",
    "model.error()\n",
    "model.get_results()\n"
   ],
   "metadata": {
    "collapsed": false
   },
   "id": "bea31f477fd959a2"
  },
  {
   "cell_type": "code",
   "execution_count": null,
   "outputs": [],
   "source": [],
   "metadata": {
    "collapsed": false
   },
   "id": "9edb893f5768e153"
  }
 ],
 "metadata": {
  "kernelspec": {
   "display_name": "Python 3",
   "language": "python",
   "name": "python3"
  },
  "language_info": {
   "codemirror_mode": {
    "name": "ipython",
    "version": 2
   },
   "file_extension": ".py",
   "mimetype": "text/x-python",
   "name": "python",
   "nbconvert_exporter": "python",
   "pygments_lexer": "ipython2",
   "version": "2.7.6"
  }
 },
 "nbformat": 4,
 "nbformat_minor": 5
}
