{
 "cells": [
  {
   "cell_type": "code",
   "execution_count": 1,
   "id": "initial_id",
   "metadata": {
    "collapsed": true,
    "ExecuteTime": {
     "end_time": "2023-11-23T13:05:46.803734800Z",
     "start_time": "2023-11-23T13:05:46.343028900Z"
    }
   },
   "outputs": [],
   "source": [
    "%load_ext autoreload\n",
    "%autoreload 2\n",
    "import pandas as pd\n",
    "import numpy as np\n",
    "from pathlib import Path"
   ]
  },
  {
   "cell_type": "code",
   "execution_count": 17,
   "outputs": [
    {
     "data": {
      "text/plain": "     0    1    2    3    4    5    6    7    8    9    ...  313  314  315  \\\n0    1.0  1.0  1.0  1.0  1.0  1.0  1.0  1.0  1.0  1.0  ...  0.0  0.0  0.0   \n1    1.0  1.0  1.0  1.0  1.0  1.0  1.0  1.0  1.0  1.0  ...  0.0  0.0  0.0   \n2    1.0  1.0  1.0  1.0  1.0  1.0  1.0  1.0  1.0  1.0  ...  0.0  0.0  0.0   \n3    1.0  1.0  1.0  1.0  1.0  1.0  1.0  1.0  1.0  1.0  ...  0.0  0.0  0.0   \n4    1.0  1.0  1.0  1.0  1.0  1.0  1.0  1.0  1.0  1.0  ...  0.0  0.0  0.0   \n..   ...  ...  ...  ...  ...  ...  ...  ...  ...  ...  ...  ...  ...  ...   \n318  0.0  0.0  0.0  0.0  0.0  0.0  0.0  0.0  0.0  0.0  ...  1.0  1.0  1.0   \n319  0.0  0.0  0.0  0.0  0.0  0.0  0.0  0.0  0.0  0.0  ...  1.0  1.0  1.0   \n320  0.0  0.0  0.0  0.0  0.0  0.0  0.0  0.0  0.0  0.0  ...  1.0  1.0  1.0   \n321  0.0  0.0  0.0  0.0  0.0  0.0  0.0  0.0  0.0  0.0  ...  1.0  1.0  1.0   \n322  0.0  0.0  0.0  0.0  0.0  0.0  0.0  0.0  0.0  0.0  ...  1.0  1.0  1.0   \n\n     316  317  318  319  320  321  322  \n0    0.0  0.0  0.0  0.0  0.0  0.0  0.0  \n1    0.0  0.0  0.0  0.0  0.0  0.0  0.0  \n2    0.0  0.0  0.0  0.0  0.0  0.0  0.0  \n3    0.0  0.0  0.0  0.0  0.0  0.0  0.0  \n4    0.0  0.0  0.0  0.0  0.0  0.0  0.0  \n..   ...  ...  ...  ...  ...  ...  ...  \n318  1.0  1.0  1.0  1.0  1.0  1.0  1.0  \n319  1.0  1.0  1.0  1.0  1.0  1.0  1.0  \n320  1.0  1.0  1.0  1.0  1.0  1.0  1.0  \n321  1.0  1.0  1.0  1.0  1.0  1.0  1.0  \n322  1.0  1.0  1.0  1.0  1.0  1.0  1.0  \n\n[323 rows x 323 columns]",
      "text/html": "<div>\n<style scoped>\n    .dataframe tbody tr th:only-of-type {\n        vertical-align: middle;\n    }\n\n    .dataframe tbody tr th {\n        vertical-align: top;\n    }\n\n    .dataframe thead th {\n        text-align: right;\n    }\n</style>\n<table border=\"1\" class=\"dataframe\">\n  <thead>\n    <tr style=\"text-align: right;\">\n      <th></th>\n      <th>0</th>\n      <th>1</th>\n      <th>2</th>\n      <th>3</th>\n      <th>4</th>\n      <th>5</th>\n      <th>6</th>\n      <th>7</th>\n      <th>8</th>\n      <th>9</th>\n      <th>...</th>\n      <th>313</th>\n      <th>314</th>\n      <th>315</th>\n      <th>316</th>\n      <th>317</th>\n      <th>318</th>\n      <th>319</th>\n      <th>320</th>\n      <th>321</th>\n      <th>322</th>\n    </tr>\n  </thead>\n  <tbody>\n    <tr>\n      <th>0</th>\n      <td>1.0</td>\n      <td>1.0</td>\n      <td>1.0</td>\n      <td>1.0</td>\n      <td>1.0</td>\n      <td>1.0</td>\n      <td>1.0</td>\n      <td>1.0</td>\n      <td>1.0</td>\n      <td>1.0</td>\n      <td>...</td>\n      <td>0.0</td>\n      <td>0.0</td>\n      <td>0.0</td>\n      <td>0.0</td>\n      <td>0.0</td>\n      <td>0.0</td>\n      <td>0.0</td>\n      <td>0.0</td>\n      <td>0.0</td>\n      <td>0.0</td>\n    </tr>\n    <tr>\n      <th>1</th>\n      <td>1.0</td>\n      <td>1.0</td>\n      <td>1.0</td>\n      <td>1.0</td>\n      <td>1.0</td>\n      <td>1.0</td>\n      <td>1.0</td>\n      <td>1.0</td>\n      <td>1.0</td>\n      <td>1.0</td>\n      <td>...</td>\n      <td>0.0</td>\n      <td>0.0</td>\n      <td>0.0</td>\n      <td>0.0</td>\n      <td>0.0</td>\n      <td>0.0</td>\n      <td>0.0</td>\n      <td>0.0</td>\n      <td>0.0</td>\n      <td>0.0</td>\n    </tr>\n    <tr>\n      <th>2</th>\n      <td>1.0</td>\n      <td>1.0</td>\n      <td>1.0</td>\n      <td>1.0</td>\n      <td>1.0</td>\n      <td>1.0</td>\n      <td>1.0</td>\n      <td>1.0</td>\n      <td>1.0</td>\n      <td>1.0</td>\n      <td>...</td>\n      <td>0.0</td>\n      <td>0.0</td>\n      <td>0.0</td>\n      <td>0.0</td>\n      <td>0.0</td>\n      <td>0.0</td>\n      <td>0.0</td>\n      <td>0.0</td>\n      <td>0.0</td>\n      <td>0.0</td>\n    </tr>\n    <tr>\n      <th>3</th>\n      <td>1.0</td>\n      <td>1.0</td>\n      <td>1.0</td>\n      <td>1.0</td>\n      <td>1.0</td>\n      <td>1.0</td>\n      <td>1.0</td>\n      <td>1.0</td>\n      <td>1.0</td>\n      <td>1.0</td>\n      <td>...</td>\n      <td>0.0</td>\n      <td>0.0</td>\n      <td>0.0</td>\n      <td>0.0</td>\n      <td>0.0</td>\n      <td>0.0</td>\n      <td>0.0</td>\n      <td>0.0</td>\n      <td>0.0</td>\n      <td>0.0</td>\n    </tr>\n    <tr>\n      <th>4</th>\n      <td>1.0</td>\n      <td>1.0</td>\n      <td>1.0</td>\n      <td>1.0</td>\n      <td>1.0</td>\n      <td>1.0</td>\n      <td>1.0</td>\n      <td>1.0</td>\n      <td>1.0</td>\n      <td>1.0</td>\n      <td>...</td>\n      <td>0.0</td>\n      <td>0.0</td>\n      <td>0.0</td>\n      <td>0.0</td>\n      <td>0.0</td>\n      <td>0.0</td>\n      <td>0.0</td>\n      <td>0.0</td>\n      <td>0.0</td>\n      <td>0.0</td>\n    </tr>\n    <tr>\n      <th>...</th>\n      <td>...</td>\n      <td>...</td>\n      <td>...</td>\n      <td>...</td>\n      <td>...</td>\n      <td>...</td>\n      <td>...</td>\n      <td>...</td>\n      <td>...</td>\n      <td>...</td>\n      <td>...</td>\n      <td>...</td>\n      <td>...</td>\n      <td>...</td>\n      <td>...</td>\n      <td>...</td>\n      <td>...</td>\n      <td>...</td>\n      <td>...</td>\n      <td>...</td>\n      <td>...</td>\n    </tr>\n    <tr>\n      <th>318</th>\n      <td>0.0</td>\n      <td>0.0</td>\n      <td>0.0</td>\n      <td>0.0</td>\n      <td>0.0</td>\n      <td>0.0</td>\n      <td>0.0</td>\n      <td>0.0</td>\n      <td>0.0</td>\n      <td>0.0</td>\n      <td>...</td>\n      <td>1.0</td>\n      <td>1.0</td>\n      <td>1.0</td>\n      <td>1.0</td>\n      <td>1.0</td>\n      <td>1.0</td>\n      <td>1.0</td>\n      <td>1.0</td>\n      <td>1.0</td>\n      <td>1.0</td>\n    </tr>\n    <tr>\n      <th>319</th>\n      <td>0.0</td>\n      <td>0.0</td>\n      <td>0.0</td>\n      <td>0.0</td>\n      <td>0.0</td>\n      <td>0.0</td>\n      <td>0.0</td>\n      <td>0.0</td>\n      <td>0.0</td>\n      <td>0.0</td>\n      <td>...</td>\n      <td>1.0</td>\n      <td>1.0</td>\n      <td>1.0</td>\n      <td>1.0</td>\n      <td>1.0</td>\n      <td>1.0</td>\n      <td>1.0</td>\n      <td>1.0</td>\n      <td>1.0</td>\n      <td>1.0</td>\n    </tr>\n    <tr>\n      <th>320</th>\n      <td>0.0</td>\n      <td>0.0</td>\n      <td>0.0</td>\n      <td>0.0</td>\n      <td>0.0</td>\n      <td>0.0</td>\n      <td>0.0</td>\n      <td>0.0</td>\n      <td>0.0</td>\n      <td>0.0</td>\n      <td>...</td>\n      <td>1.0</td>\n      <td>1.0</td>\n      <td>1.0</td>\n      <td>1.0</td>\n      <td>1.0</td>\n      <td>1.0</td>\n      <td>1.0</td>\n      <td>1.0</td>\n      <td>1.0</td>\n      <td>1.0</td>\n    </tr>\n    <tr>\n      <th>321</th>\n      <td>0.0</td>\n      <td>0.0</td>\n      <td>0.0</td>\n      <td>0.0</td>\n      <td>0.0</td>\n      <td>0.0</td>\n      <td>0.0</td>\n      <td>0.0</td>\n      <td>0.0</td>\n      <td>0.0</td>\n      <td>...</td>\n      <td>1.0</td>\n      <td>1.0</td>\n      <td>1.0</td>\n      <td>1.0</td>\n      <td>1.0</td>\n      <td>1.0</td>\n      <td>1.0</td>\n      <td>1.0</td>\n      <td>1.0</td>\n      <td>1.0</td>\n    </tr>\n    <tr>\n      <th>322</th>\n      <td>0.0</td>\n      <td>0.0</td>\n      <td>0.0</td>\n      <td>0.0</td>\n      <td>0.0</td>\n      <td>0.0</td>\n      <td>0.0</td>\n      <td>0.0</td>\n      <td>0.0</td>\n      <td>0.0</td>\n      <td>...</td>\n      <td>1.0</td>\n      <td>1.0</td>\n      <td>1.0</td>\n      <td>1.0</td>\n      <td>1.0</td>\n      <td>1.0</td>\n      <td>1.0</td>\n      <td>1.0</td>\n      <td>1.0</td>\n      <td>1.0</td>\n    </tr>\n  </tbody>\n</table>\n<p>323 rows × 323 columns</p>\n</div>"
     },
     "execution_count": 17,
     "metadata": {},
     "output_type": "execute_result"
    }
   ],
   "source": [
    "seatel_data_path = Path(\"D:/All Python/All_Big_raw_Data/LOS prediction/Seatel Loop\")\n",
    "temp_data = np.load(seatel_data_path/\"Loop_Seattle_2015_A.npy\")\n",
    "data_loop00 = pd.DataFrame(temp_data)\n",
    "data_loop05 = pd.DataFrame(np.load(seatel_data_path/\"Loop_Seattle_2015_reachability_free_flow_5min.npy\"))\n",
    "data_loop10 = pd.DataFrame(np.load(seatel_data_path/\"Loop_Seattle_2015_reachability_free_flow_10min.npy\"))\n",
    "data_loop15 = pd.DataFrame(np.load(seatel_data_path/\"Loop_Seattle_2015_reachability_free_flow_15min.npy\"))\n",
    "data_loop20 = pd.DataFrame(np.load(seatel_data_path/\"Loop_Seattle_2015_reachability_free_flow_20min.npy\"))\n",
    "data_loop10"
   ],
   "metadata": {
    "collapsed": false,
    "ExecuteTime": {
     "end_time": "2023-11-23T13:14:20.509526100Z",
     "start_time": "2023-11-23T13:14:20.419357100Z"
    }
   },
   "id": "5220882e64db5d6b"
  },
  {
   "cell_type": "code",
   "execution_count": 18,
   "outputs": [
    {
     "data": {
      "text/plain": "ID                   d005es15036  d005es15125  d005es15214  d005es15280  \\\nstamp                                                                     \n2015-01-01 00:00:00    61.939138    64.280883    62.077397    60.786423   \n2015-01-01 00:05:00    59.232527    65.082450    64.808345    65.853953   \n2015-01-01 00:10:00    61.991801    65.309123    64.803916    64.266082   \n2015-01-01 00:15:00    62.480655    65.191651    67.206597    63.988427   \n2015-01-01 00:20:00    62.490484    65.287669    67.323285    64.707409   \n...                          ...          ...          ...          ...   \n2015-12-31 23:35:00    64.156852    68.129409    70.269650    65.745934   \n2015-12-31 23:40:00    64.579427    69.304874    68.958945    67.132535   \n2015-12-31 23:45:00    64.493959    67.105173    69.314504    66.137782   \n2015-12-31 23:50:00    62.863525    65.896190    70.686958    68.027645   \n2015-12-31 23:55:00    63.398268    67.317536    67.546623    62.537412   \n\nID                   d005es15315  d005es15348  d005es15410  d005es15465  \\\nstamp                                                                     \n2015-01-01 00:00:00    63.120675    64.448315    63.411123    64.739481   \n2015-01-01 00:05:00    59.206229    62.496716    65.992183    64.718051   \n2015-01-01 00:10:00    62.239202    63.816610    60.196829    65.447790   \n2015-01-01 00:15:00    65.808507    64.757556    62.011448    66.334476   \n2015-01-01 00:20:00    65.708663    65.358370    65.091449    63.095048   \n...                          ...          ...          ...          ...   \n2015-12-31 23:35:00    67.223098    62.803580    66.982529    64.760316   \n2015-12-31 23:40:00    68.702611    66.103100    64.910054    69.135301   \n2015-12-31 23:45:00    67.119293    65.351578    59.830549    72.634073   \n2015-12-31 23:50:00    66.603720    66.855332    60.405790    67.186501   \n2015-12-31 23:55:00    67.010034    63.026756    61.817752    65.207864   \n\nID                   d005es15531  d005es15569  ...  i520es00526  i520es00560  \\\nstamp                                          ...                             \n2015-01-01 00:00:00    63.009918    65.264902  ...    64.092842    60.397897   \n2015-01-01 00:05:00    61.244073    65.608728  ...    64.244069    64.091079   \n2015-01-01 00:10:00    63.797764    66.017157  ...    59.839932    63.624790   \n2015-01-01 00:15:00    61.702734    65.735430  ...    65.230148    66.042141   \n2015-01-01 00:20:00    62.186795    65.097373  ...    66.005431    61.455915   \n...                          ...          ...  ...          ...          ...   \n2015-12-31 23:35:00    62.761144    60.495154  ...    70.066408    63.367942   \n2015-12-31 23:40:00    64.736925    69.439853  ...    65.273425    61.887890   \n2015-12-31 23:45:00    63.414815    67.153952  ...    66.674942    64.887300   \n2015-12-31 23:50:00    66.244453    67.997531  ...    65.818916    63.387145   \n2015-12-31 23:55:00    64.188274    66.913553  ...    69.463937    61.774482   \n\nID                   i520es00624  i520es00684  i520es00714  i520es00746  \\\nstamp                                                                     \n2015-01-01 00:00:00    62.045617    62.099860    63.555292    63.625611   \n2015-01-01 00:05:00    65.082815    59.930435    63.817700    47.836660   \n2015-01-01 00:10:00    57.179902    62.603473    64.117791    58.099941   \n2015-01-01 00:15:00    61.952397    58.193563    55.949144    60.140768   \n2015-01-01 00:20:00    62.117347    63.089581    62.961678    62.849955   \n...                          ...          ...          ...          ...   \n2015-12-31 23:35:00    66.094884    68.065638    62.846860    64.501520   \n2015-12-31 23:40:00    61.133866    59.637602    60.473464    65.427178   \n2015-12-31 23:45:00    66.563737    63.791361    62.694436    64.760695   \n2015-12-31 23:50:00    64.005684    60.924641    63.244347    66.907892   \n2015-12-31 23:55:00    66.429006    65.039638    59.039406    66.012576   \n\nID                   i520es00770  i520es00861  i520es00935  i520es00972  \nstamp                                                                    \n2015-01-01 00:00:00    62.118397    68.112571    66.567829    62.032062  \n2015-01-01 00:05:00    54.307249    59.022999    58.949034    61.212069  \n2015-01-01 00:10:00    58.923199    58.710086    56.671427    57.488732  \n2015-01-01 00:15:00    57.117960    64.368119    57.892398    64.087189  \n2015-01-01 00:20:00    54.681552    62.795588    62.545365    64.567285  \n...                          ...          ...          ...          ...  \n2015-12-31 23:35:00    68.182001    65.238120    67.215485    65.230670  \n2015-12-31 23:40:00    65.831008    60.147810    66.217126    63.406671  \n2015-12-31 23:45:00    64.563787    60.436108    66.263599    64.096277  \n2015-12-31 23:50:00    64.646375    66.139444    63.483638    61.460639  \n2015-12-31 23:55:00    62.289307    64.131104    63.858641    64.382959  \n\n[105120 rows x 323 columns]",
      "text/html": "<div>\n<style scoped>\n    .dataframe tbody tr th:only-of-type {\n        vertical-align: middle;\n    }\n\n    .dataframe tbody tr th {\n        vertical-align: top;\n    }\n\n    .dataframe thead th {\n        text-align: right;\n    }\n</style>\n<table border=\"1\" class=\"dataframe\">\n  <thead>\n    <tr style=\"text-align: right;\">\n      <th>ID</th>\n      <th>d005es15036</th>\n      <th>d005es15125</th>\n      <th>d005es15214</th>\n      <th>d005es15280</th>\n      <th>d005es15315</th>\n      <th>d005es15348</th>\n      <th>d005es15410</th>\n      <th>d005es15465</th>\n      <th>d005es15531</th>\n      <th>d005es15569</th>\n      <th>...</th>\n      <th>i520es00526</th>\n      <th>i520es00560</th>\n      <th>i520es00624</th>\n      <th>i520es00684</th>\n      <th>i520es00714</th>\n      <th>i520es00746</th>\n      <th>i520es00770</th>\n      <th>i520es00861</th>\n      <th>i520es00935</th>\n      <th>i520es00972</th>\n    </tr>\n    <tr>\n      <th>stamp</th>\n      <th></th>\n      <th></th>\n      <th></th>\n      <th></th>\n      <th></th>\n      <th></th>\n      <th></th>\n      <th></th>\n      <th></th>\n      <th></th>\n      <th></th>\n      <th></th>\n      <th></th>\n      <th></th>\n      <th></th>\n      <th></th>\n      <th></th>\n      <th></th>\n      <th></th>\n      <th></th>\n      <th></th>\n    </tr>\n  </thead>\n  <tbody>\n    <tr>\n      <th>2015-01-01 00:00:00</th>\n      <td>61.939138</td>\n      <td>64.280883</td>\n      <td>62.077397</td>\n      <td>60.786423</td>\n      <td>63.120675</td>\n      <td>64.448315</td>\n      <td>63.411123</td>\n      <td>64.739481</td>\n      <td>63.009918</td>\n      <td>65.264902</td>\n      <td>...</td>\n      <td>64.092842</td>\n      <td>60.397897</td>\n      <td>62.045617</td>\n      <td>62.099860</td>\n      <td>63.555292</td>\n      <td>63.625611</td>\n      <td>62.118397</td>\n      <td>68.112571</td>\n      <td>66.567829</td>\n      <td>62.032062</td>\n    </tr>\n    <tr>\n      <th>2015-01-01 00:05:00</th>\n      <td>59.232527</td>\n      <td>65.082450</td>\n      <td>64.808345</td>\n      <td>65.853953</td>\n      <td>59.206229</td>\n      <td>62.496716</td>\n      <td>65.992183</td>\n      <td>64.718051</td>\n      <td>61.244073</td>\n      <td>65.608728</td>\n      <td>...</td>\n      <td>64.244069</td>\n      <td>64.091079</td>\n      <td>65.082815</td>\n      <td>59.930435</td>\n      <td>63.817700</td>\n      <td>47.836660</td>\n      <td>54.307249</td>\n      <td>59.022999</td>\n      <td>58.949034</td>\n      <td>61.212069</td>\n    </tr>\n    <tr>\n      <th>2015-01-01 00:10:00</th>\n      <td>61.991801</td>\n      <td>65.309123</td>\n      <td>64.803916</td>\n      <td>64.266082</td>\n      <td>62.239202</td>\n      <td>63.816610</td>\n      <td>60.196829</td>\n      <td>65.447790</td>\n      <td>63.797764</td>\n      <td>66.017157</td>\n      <td>...</td>\n      <td>59.839932</td>\n      <td>63.624790</td>\n      <td>57.179902</td>\n      <td>62.603473</td>\n      <td>64.117791</td>\n      <td>58.099941</td>\n      <td>58.923199</td>\n      <td>58.710086</td>\n      <td>56.671427</td>\n      <td>57.488732</td>\n    </tr>\n    <tr>\n      <th>2015-01-01 00:15:00</th>\n      <td>62.480655</td>\n      <td>65.191651</td>\n      <td>67.206597</td>\n      <td>63.988427</td>\n      <td>65.808507</td>\n      <td>64.757556</td>\n      <td>62.011448</td>\n      <td>66.334476</td>\n      <td>61.702734</td>\n      <td>65.735430</td>\n      <td>...</td>\n      <td>65.230148</td>\n      <td>66.042141</td>\n      <td>61.952397</td>\n      <td>58.193563</td>\n      <td>55.949144</td>\n      <td>60.140768</td>\n      <td>57.117960</td>\n      <td>64.368119</td>\n      <td>57.892398</td>\n      <td>64.087189</td>\n    </tr>\n    <tr>\n      <th>2015-01-01 00:20:00</th>\n      <td>62.490484</td>\n      <td>65.287669</td>\n      <td>67.323285</td>\n      <td>64.707409</td>\n      <td>65.708663</td>\n      <td>65.358370</td>\n      <td>65.091449</td>\n      <td>63.095048</td>\n      <td>62.186795</td>\n      <td>65.097373</td>\n      <td>...</td>\n      <td>66.005431</td>\n      <td>61.455915</td>\n      <td>62.117347</td>\n      <td>63.089581</td>\n      <td>62.961678</td>\n      <td>62.849955</td>\n      <td>54.681552</td>\n      <td>62.795588</td>\n      <td>62.545365</td>\n      <td>64.567285</td>\n    </tr>\n    <tr>\n      <th>...</th>\n      <td>...</td>\n      <td>...</td>\n      <td>...</td>\n      <td>...</td>\n      <td>...</td>\n      <td>...</td>\n      <td>...</td>\n      <td>...</td>\n      <td>...</td>\n      <td>...</td>\n      <td>...</td>\n      <td>...</td>\n      <td>...</td>\n      <td>...</td>\n      <td>...</td>\n      <td>...</td>\n      <td>...</td>\n      <td>...</td>\n      <td>...</td>\n      <td>...</td>\n      <td>...</td>\n    </tr>\n    <tr>\n      <th>2015-12-31 23:35:00</th>\n      <td>64.156852</td>\n      <td>68.129409</td>\n      <td>70.269650</td>\n      <td>65.745934</td>\n      <td>67.223098</td>\n      <td>62.803580</td>\n      <td>66.982529</td>\n      <td>64.760316</td>\n      <td>62.761144</td>\n      <td>60.495154</td>\n      <td>...</td>\n      <td>70.066408</td>\n      <td>63.367942</td>\n      <td>66.094884</td>\n      <td>68.065638</td>\n      <td>62.846860</td>\n      <td>64.501520</td>\n      <td>68.182001</td>\n      <td>65.238120</td>\n      <td>67.215485</td>\n      <td>65.230670</td>\n    </tr>\n    <tr>\n      <th>2015-12-31 23:40:00</th>\n      <td>64.579427</td>\n      <td>69.304874</td>\n      <td>68.958945</td>\n      <td>67.132535</td>\n      <td>68.702611</td>\n      <td>66.103100</td>\n      <td>64.910054</td>\n      <td>69.135301</td>\n      <td>64.736925</td>\n      <td>69.439853</td>\n      <td>...</td>\n      <td>65.273425</td>\n      <td>61.887890</td>\n      <td>61.133866</td>\n      <td>59.637602</td>\n      <td>60.473464</td>\n      <td>65.427178</td>\n      <td>65.831008</td>\n      <td>60.147810</td>\n      <td>66.217126</td>\n      <td>63.406671</td>\n    </tr>\n    <tr>\n      <th>2015-12-31 23:45:00</th>\n      <td>64.493959</td>\n      <td>67.105173</td>\n      <td>69.314504</td>\n      <td>66.137782</td>\n      <td>67.119293</td>\n      <td>65.351578</td>\n      <td>59.830549</td>\n      <td>72.634073</td>\n      <td>63.414815</td>\n      <td>67.153952</td>\n      <td>...</td>\n      <td>66.674942</td>\n      <td>64.887300</td>\n      <td>66.563737</td>\n      <td>63.791361</td>\n      <td>62.694436</td>\n      <td>64.760695</td>\n      <td>64.563787</td>\n      <td>60.436108</td>\n      <td>66.263599</td>\n      <td>64.096277</td>\n    </tr>\n    <tr>\n      <th>2015-12-31 23:50:00</th>\n      <td>62.863525</td>\n      <td>65.896190</td>\n      <td>70.686958</td>\n      <td>68.027645</td>\n      <td>66.603720</td>\n      <td>66.855332</td>\n      <td>60.405790</td>\n      <td>67.186501</td>\n      <td>66.244453</td>\n      <td>67.997531</td>\n      <td>...</td>\n      <td>65.818916</td>\n      <td>63.387145</td>\n      <td>64.005684</td>\n      <td>60.924641</td>\n      <td>63.244347</td>\n      <td>66.907892</td>\n      <td>64.646375</td>\n      <td>66.139444</td>\n      <td>63.483638</td>\n      <td>61.460639</td>\n    </tr>\n    <tr>\n      <th>2015-12-31 23:55:00</th>\n      <td>63.398268</td>\n      <td>67.317536</td>\n      <td>67.546623</td>\n      <td>62.537412</td>\n      <td>67.010034</td>\n      <td>63.026756</td>\n      <td>61.817752</td>\n      <td>65.207864</td>\n      <td>64.188274</td>\n      <td>66.913553</td>\n      <td>...</td>\n      <td>69.463937</td>\n      <td>61.774482</td>\n      <td>66.429006</td>\n      <td>65.039638</td>\n      <td>59.039406</td>\n      <td>66.012576</td>\n      <td>62.289307</td>\n      <td>64.131104</td>\n      <td>63.858641</td>\n      <td>64.382959</td>\n    </tr>\n  </tbody>\n</table>\n<p>105120 rows × 323 columns</p>\n</div>"
     },
     "execution_count": 18,
     "metadata": {},
     "output_type": "execute_result"
    }
   ],
   "source": [
    "data_speed1 = pd.read_pickle(seatel_data_path/\"speed_matrix_2015\")\n",
    "data_speed2 = pd.read_pickle(seatel_data_path/\"speed_matrix_2015_1mph\")\n",
    "data_speed3 = pd.read_pickle(seatel_data_path/\"speed_matrix_2015_5mph\")\n",
    "data_speed1"
   ],
   "metadata": {
    "collapsed": false,
    "ExecuteTime": {
     "end_time": "2023-11-23T13:14:32.475594Z",
     "start_time": "2023-11-23T13:14:23.274627400Z"
    }
   },
   "id": "de1371a3c97c994b"
  },
  {
   "cell_type": "code",
   "execution_count": 19,
   "outputs": [
    {
     "data": {
      "text/plain": "        CabName        Lat         Lon  Route  Milepost\n0    005es00045  47.609618 -122.331050      5      0.45\n1    005es00066  47.612600 -122.330358      5      0.66\n2    005es00088  47.615682 -122.329174      5      0.88\n3    005es00141  47.622847 -122.328635      5      1.41\n4    005es00182  45.642140 -122.661989      5      1.82\n..          ...        ...         ...    ...       ...\n601  520es01225  47.667266 -122.117566    520     12.25\n602  520es01258  47.667560 -122.110771    520     12.58\n603  520es01265  47.668054 -122.109465    520     12.65\n604  520es01266  47.668141 -122.109293    520     12.66\n605  520es01299  47.669843 -122.107158    520     12.99\n\n[606 rows x 5 columns]",
      "text/html": "<div>\n<style scoped>\n    .dataframe tbody tr th:only-of-type {\n        vertical-align: middle;\n    }\n\n    .dataframe tbody tr th {\n        vertical-align: top;\n    }\n\n    .dataframe thead th {\n        text-align: right;\n    }\n</style>\n<table border=\"1\" class=\"dataframe\">\n  <thead>\n    <tr style=\"text-align: right;\">\n      <th></th>\n      <th>CabName</th>\n      <th>Lat</th>\n      <th>Lon</th>\n      <th>Route</th>\n      <th>Milepost</th>\n    </tr>\n  </thead>\n  <tbody>\n    <tr>\n      <th>0</th>\n      <td>005es00045</td>\n      <td>47.609618</td>\n      <td>-122.331050</td>\n      <td>5</td>\n      <td>0.45</td>\n    </tr>\n    <tr>\n      <th>1</th>\n      <td>005es00066</td>\n      <td>47.612600</td>\n      <td>-122.330358</td>\n      <td>5</td>\n      <td>0.66</td>\n    </tr>\n    <tr>\n      <th>2</th>\n      <td>005es00088</td>\n      <td>47.615682</td>\n      <td>-122.329174</td>\n      <td>5</td>\n      <td>0.88</td>\n    </tr>\n    <tr>\n      <th>3</th>\n      <td>005es00141</td>\n      <td>47.622847</td>\n      <td>-122.328635</td>\n      <td>5</td>\n      <td>1.41</td>\n    </tr>\n    <tr>\n      <th>4</th>\n      <td>005es00182</td>\n      <td>45.642140</td>\n      <td>-122.661989</td>\n      <td>5</td>\n      <td>1.82</td>\n    </tr>\n    <tr>\n      <th>...</th>\n      <td>...</td>\n      <td>...</td>\n      <td>...</td>\n      <td>...</td>\n      <td>...</td>\n    </tr>\n    <tr>\n      <th>601</th>\n      <td>520es01225</td>\n      <td>47.667266</td>\n      <td>-122.117566</td>\n      <td>520</td>\n      <td>12.25</td>\n    </tr>\n    <tr>\n      <th>602</th>\n      <td>520es01258</td>\n      <td>47.667560</td>\n      <td>-122.110771</td>\n      <td>520</td>\n      <td>12.58</td>\n    </tr>\n    <tr>\n      <th>603</th>\n      <td>520es01265</td>\n      <td>47.668054</td>\n      <td>-122.109465</td>\n      <td>520</td>\n      <td>12.65</td>\n    </tr>\n    <tr>\n      <th>604</th>\n      <td>520es01266</td>\n      <td>47.668141</td>\n      <td>-122.109293</td>\n      <td>520</td>\n      <td>12.66</td>\n    </tr>\n    <tr>\n      <th>605</th>\n      <td>520es01299</td>\n      <td>47.669843</td>\n      <td>-122.107158</td>\n      <td>520</td>\n      <td>12.99</td>\n    </tr>\n  </tbody>\n</table>\n<p>606 rows × 5 columns</p>\n</div>"
     },
     "execution_count": 19,
     "metadata": {},
     "output_type": "execute_result"
    }
   ],
   "source": [
    "data_cabinet = pd.read_csv(seatel_data_path/\"Cabinet Location Information.csv\")\n",
    "data_cabinet"
   ],
   "metadata": {
    "collapsed": false,
    "ExecuteTime": {
     "end_time": "2023-11-23T13:14:32.667474Z",
     "start_time": "2023-11-23T13:14:32.455915100Z"
    }
   },
   "id": "2522cb4e00d46407"
  },
  {
   "cell_type": "code",
   "execution_count": 13,
   "outputs": [
    {
     "data": {
      "text/plain": "     Unnamed: 0     milepost\n0             0  d005es15036\n1             1  d005es15125\n2             2  d005es15214\n3             3  d005es15280\n4             4  d005es15315\n..          ...          ...\n318         318  i520es00746\n319         319  i520es00770\n320         320  i520es00861\n321         321  i520es00935\n322         322  i520es00972\n\n[323 rows x 2 columns]",
      "text/html": "<div>\n<style scoped>\n    .dataframe tbody tr th:only-of-type {\n        vertical-align: middle;\n    }\n\n    .dataframe tbody tr th {\n        vertical-align: top;\n    }\n\n    .dataframe thead th {\n        text-align: right;\n    }\n</style>\n<table border=\"1\" class=\"dataframe\">\n  <thead>\n    <tr style=\"text-align: right;\">\n      <th></th>\n      <th>Unnamed: 0</th>\n      <th>milepost</th>\n    </tr>\n  </thead>\n  <tbody>\n    <tr>\n      <th>0</th>\n      <td>0</td>\n      <td>d005es15036</td>\n    </tr>\n    <tr>\n      <th>1</th>\n      <td>1</td>\n      <td>d005es15125</td>\n    </tr>\n    <tr>\n      <th>2</th>\n      <td>2</td>\n      <td>d005es15214</td>\n    </tr>\n    <tr>\n      <th>3</th>\n      <td>3</td>\n      <td>d005es15280</td>\n    </tr>\n    <tr>\n      <th>4</th>\n      <td>4</td>\n      <td>d005es15315</td>\n    </tr>\n    <tr>\n      <th>...</th>\n      <td>...</td>\n      <td>...</td>\n    </tr>\n    <tr>\n      <th>318</th>\n      <td>318</td>\n      <td>i520es00746</td>\n    </tr>\n    <tr>\n      <th>319</th>\n      <td>319</td>\n      <td>i520es00770</td>\n    </tr>\n    <tr>\n      <th>320</th>\n      <td>320</td>\n      <td>i520es00861</td>\n    </tr>\n    <tr>\n      <th>321</th>\n      <td>321</td>\n      <td>i520es00935</td>\n    </tr>\n    <tr>\n      <th>322</th>\n      <td>322</td>\n      <td>i520es00972</td>\n    </tr>\n  </tbody>\n</table>\n<p>323 rows × 2 columns</p>\n</div>"
     },
     "execution_count": 13,
     "metadata": {},
     "output_type": "execute_result"
    }
   ],
   "source": [
    "data_loop_mp = pd.read_csv(seatel_data_path/\"nodes_loop_mp_list.csv\")\n",
    "data_loop_mp"
   ],
   "metadata": {
    "collapsed": false,
    "ExecuteTime": {
     "end_time": "2023-11-23T13:08:53.529471Z",
     "start_time": "2023-11-23T13:08:53.392628300Z"
    }
   },
   "id": "dcc746522d920e28"
  },
  {
   "cell_type": "code",
   "execution_count": 15,
   "outputs": [
    {
     "data": {
      "text/plain": "          2015-01-01 00:00:00.000  005es15036  d  61.9391381891382  20  \\\n0         2015-01-01 00:00:00.000  005es15036  i         63.140194  14   \n1         2015-01-01 00:00:00.000  005es15125  i         62.616388   6   \n2         2015-01-01 00:00:00.000  005es15214  i         62.069070  15   \n3         2015-01-01 00:00:00.000  005es15280  d         60.786423  18   \n4         2015-01-01 00:00:00.000  005es15280  i         61.944099  17   \n...                           ...         ... ..               ...  ..   \n22211418  2015-12-31 23:55:00.000  520es00770  i         62.289307   9   \n22211419  2015-12-31 23:55:00.000  520es00861  d         58.210393  10   \n22211420  2015-12-31 23:55:00.000  520es00861  i         64.131104  11   \n22211421  2015-12-31 23:55:00.000  520es00972  d         55.596192  10   \n22211422  2015-12-31 23:55:00.000  520es00972  i         64.382959   8   \n\n          0.019345  \n0         0.012163  \n1         0.502598  \n2         0.008918  \n3         0.017343  \n4         0.019155  \n...            ...  \n22211418  0.005553  \n22211419  0.005667  \n22211420  0.008863  \n22211421  0.007778  \n22211422  0.004777  \n\n[22211423 rows x 6 columns]",
      "text/html": "<div>\n<style scoped>\n    .dataframe tbody tr th:only-of-type {\n        vertical-align: middle;\n    }\n\n    .dataframe tbody tr th {\n        vertical-align: top;\n    }\n\n    .dataframe thead th {\n        text-align: right;\n    }\n</style>\n<table border=\"1\" class=\"dataframe\">\n  <thead>\n    <tr style=\"text-align: right;\">\n      <th></th>\n      <th>2015-01-01 00:00:00.000</th>\n      <th>005es15036</th>\n      <th>d</th>\n      <th>61.9391381891382</th>\n      <th>20</th>\n      <th>0.019345</th>\n    </tr>\n  </thead>\n  <tbody>\n    <tr>\n      <th>0</th>\n      <td>2015-01-01 00:00:00.000</td>\n      <td>005es15036</td>\n      <td>i</td>\n      <td>63.140194</td>\n      <td>14</td>\n      <td>0.012163</td>\n    </tr>\n    <tr>\n      <th>1</th>\n      <td>2015-01-01 00:00:00.000</td>\n      <td>005es15125</td>\n      <td>i</td>\n      <td>62.616388</td>\n      <td>6</td>\n      <td>0.502598</td>\n    </tr>\n    <tr>\n      <th>2</th>\n      <td>2015-01-01 00:00:00.000</td>\n      <td>005es15214</td>\n      <td>i</td>\n      <td>62.069070</td>\n      <td>15</td>\n      <td>0.008918</td>\n    </tr>\n    <tr>\n      <th>3</th>\n      <td>2015-01-01 00:00:00.000</td>\n      <td>005es15280</td>\n      <td>d</td>\n      <td>60.786423</td>\n      <td>18</td>\n      <td>0.017343</td>\n    </tr>\n    <tr>\n      <th>4</th>\n      <td>2015-01-01 00:00:00.000</td>\n      <td>005es15280</td>\n      <td>i</td>\n      <td>61.944099</td>\n      <td>17</td>\n      <td>0.019155</td>\n    </tr>\n    <tr>\n      <th>...</th>\n      <td>...</td>\n      <td>...</td>\n      <td>...</td>\n      <td>...</td>\n      <td>...</td>\n      <td>...</td>\n    </tr>\n    <tr>\n      <th>22211418</th>\n      <td>2015-12-31 23:55:00.000</td>\n      <td>520es00770</td>\n      <td>i</td>\n      <td>62.289307</td>\n      <td>9</td>\n      <td>0.005553</td>\n    </tr>\n    <tr>\n      <th>22211419</th>\n      <td>2015-12-31 23:55:00.000</td>\n      <td>520es00861</td>\n      <td>d</td>\n      <td>58.210393</td>\n      <td>10</td>\n      <td>0.005667</td>\n    </tr>\n    <tr>\n      <th>22211420</th>\n      <td>2015-12-31 23:55:00.000</td>\n      <td>520es00861</td>\n      <td>i</td>\n      <td>64.131104</td>\n      <td>11</td>\n      <td>0.008863</td>\n    </tr>\n    <tr>\n      <th>22211421</th>\n      <td>2015-12-31 23:55:00.000</td>\n      <td>520es00972</td>\n      <td>d</td>\n      <td>55.596192</td>\n      <td>10</td>\n      <td>0.007778</td>\n    </tr>\n    <tr>\n      <th>22211422</th>\n      <td>2015-12-31 23:55:00.000</td>\n      <td>520es00972</td>\n      <td>i</td>\n      <td>64.382959</td>\n      <td>8</td>\n      <td>0.004777</td>\n    </tr>\n  </tbody>\n</table>\n<p>22211423 rows × 6 columns</p>\n</div>"
     },
     "execution_count": 15,
     "metadata": {},
     "output_type": "execute_result"
    }
   ],
   "source": [
    "data_loop = pd.read_csv(seatel_data_path/\"loop_20150101_20151231.csv\")\n",
    "data_loop"
   ],
   "metadata": {
    "collapsed": false,
    "ExecuteTime": {
     "end_time": "2023-11-23T13:09:54.386734100Z",
     "start_time": "2023-11-23T13:09:34.824338700Z"
    }
   },
   "id": "91ed65e8a299e209"
  },
  {
   "cell_type": "code",
   "execution_count": null,
   "outputs": [],
   "source": [],
   "metadata": {
    "collapsed": false
   },
   "id": "2c2903db7db6d329"
  }
 ],
 "metadata": {
  "kernelspec": {
   "display_name": "Python 3",
   "language": "python",
   "name": "python3"
  },
  "language_info": {
   "codemirror_mode": {
    "name": "ipython",
    "version": 2
   },
   "file_extension": ".py",
   "mimetype": "text/x-python",
   "name": "python",
   "nbconvert_exporter": "python",
   "pygments_lexer": "ipython2",
   "version": "2.7.6"
  }
 },
 "nbformat": 4,
 "nbformat_minor": 5
}
