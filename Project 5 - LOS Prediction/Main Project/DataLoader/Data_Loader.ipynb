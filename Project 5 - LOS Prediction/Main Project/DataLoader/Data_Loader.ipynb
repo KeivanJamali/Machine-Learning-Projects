{
 "cells": [
  {
   "cell_type": "code",
   "execution_count": 1,
   "id": "initial_id",
   "metadata": {
    "collapsed": true,
    "ExecuteTime": {
     "end_time": "2023-12-17T08:48:22.943026600Z",
     "start_time": "2023-12-17T08:48:22.901916800Z"
    }
   },
   "outputs": [],
   "source": [
    "%load_ext autoreload\n",
    "%autoreload 2"
   ]
  },
  {
   "cell_type": "code",
   "execution_count": 2,
   "outputs": [],
   "source": [
    "import numpy as np\n",
    "import pandas as pd\n",
    "from pathlib import Path"
   ],
   "metadata": {
    "collapsed": false,
    "ExecuteTime": {
     "end_time": "2023-12-17T08:48:25.227067300Z",
     "start_time": "2023-12-17T08:48:24.182848200Z"
    }
   },
   "id": "c3bf5bcbffe897a0"
  },
  {
   "cell_type": "code",
   "execution_count": null,
   "outputs": [],
   "source": [
    "raw_data_folder_path = Path(\"D:\\All Python\\All_Big_raw_Data\\LOS prediction\\Traffic Dataset\")\n",
    "data_UTD19 = pd.read_csv(raw_data_folder_path / \"utd19_u.csv\", low_memory=False)\n",
    "data_links = pd.read_csv(raw_data_folder_path / \"links.csv\")\n",
    "data_detectors = pd.read_csv(raw_data_folder_path / \"detectors.csv\")"
   ],
   "metadata": {
    "collapsed": false,
    "is_executing": true,
    "ExecuteTime": {
     "start_time": "2023-12-17T08:48:31.855514Z"
    }
   },
   "id": "ca8afcd405eecca2"
  },
  {
   "cell_type": "code",
   "execution_count": 2,
   "outputs": [
    {
     "ename": "NameError",
     "evalue": "name 'data_UTD19' is not defined",
     "output_type": "error",
     "traceback": [
      "\u001B[1;31m---------------------------------------------------------------------------\u001B[0m",
      "\u001B[1;31mNameError\u001B[0m                                 Traceback (most recent call last)",
      "Cell \u001B[1;32mIn[2], line 2\u001B[0m\n\u001B[0;32m      1\u001B[0m \u001B[38;5;28;01mimport\u001B[39;00m \u001B[38;5;21;01mDataLoader\u001B[39;00m\n\u001B[1;32m----> 2\u001B[0m dataloader \u001B[38;5;241m=\u001B[39m DataLoader\u001B[38;5;241m.\u001B[39mDataLoader_MultiCity(\u001B[43mdata_UTD19\u001B[49m)\n",
      "\u001B[1;31mNameError\u001B[0m: name 'data_UTD19' is not defined"
     ]
    }
   ],
   "source": [
    "import DataLoader\n",
    "dataloader = DataLoader.DataLoader_MultiCity(data_UTD19) # london, luzern, hamburg"
   ],
   "metadata": {
    "collapsed": false,
    "ExecuteTime": {
     "end_time": "2023-12-17T08:26:58.139433500Z",
     "start_time": "2023-12-17T08:26:53.251007100Z"
    }
   },
   "id": "107294fa2f566ed2"
  },
  {
   "cell_type": "code",
   "execution_count": null,
   "outputs": [],
   "source": [],
   "metadata": {
    "collapsed": false
   },
   "id": "535cbcb3ede36ada"
  }
 ],
 "metadata": {
  "kernelspec": {
   "display_name": "Python 3",
   "language": "python",
   "name": "python3"
  },
  "language_info": {
   "codemirror_mode": {
    "name": "ipython",
    "version": 2
   },
   "file_extension": ".py",
   "mimetype": "text/x-python",
   "name": "python",
   "nbconvert_exporter": "python",
   "pygments_lexer": "ipython2",
   "version": "2.7.6"
  }
 },
 "nbformat": 4,
 "nbformat_minor": 5
}
