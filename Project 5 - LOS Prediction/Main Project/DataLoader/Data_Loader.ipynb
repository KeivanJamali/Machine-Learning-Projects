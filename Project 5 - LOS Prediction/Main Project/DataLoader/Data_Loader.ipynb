{
 "cells": [
  {
   "cell_type": "code",
   "execution_count": 1,
   "id": "initial_id",
   "metadata": {
    "collapsed": true,
    "ExecuteTime": {
     "end_time": "2023-12-29T16:39:33.397279900Z",
     "start_time": "2023-12-29T16:39:33.324210100Z"
    }
   },
   "outputs": [],
   "source": [
    "%load_ext autoreload\n",
    "%autoreload 2"
   ]
  },
  {
   "cell_type": "code",
   "execution_count": 2,
   "id": "c3bf5bcbffe897a0",
   "metadata": {
    "collapsed": false,
    "ExecuteTime": {
     "end_time": "2023-12-29T16:39:34.385315400Z",
     "start_time": "2023-12-29T16:39:33.366265900Z"
    }
   },
   "outputs": [],
   "source": [
    "import numpy as np\n",
    "import pandas as pd\n",
    "from pathlib import Path"
   ]
  },
  {
   "cell_type": "code",
   "execution_count": 3,
   "id": "ca8afcd405eecca2",
   "metadata": {
    "collapsed": false,
    "ExecuteTime": {
     "end_time": "2023-12-29T16:59:02.601496600Z",
     "start_time": "2023-12-29T16:39:37.411341800Z"
    }
   },
   "outputs": [],
   "source": [
    "raw_data_folder_path = Path(\"D:\\All Python\\All_Big_raw_Data\\LOS prediction\\Traffic Dataset\")\n",
    "data_UTD19 = pd.read_csv(raw_data_folder_path / \"utd19_u.csv\", low_memory=False)\n",
    "data_links = pd.read_csv(raw_data_folder_path / \"links.csv\")\n",
    "data_detectors = pd.read_csv(raw_data_folder_path / \"detectors.csv\")"
   ]
  },
  {
   "cell_type": "code",
   "execution_count": 28,
   "id": "6af532436efa7ba2",
   "metadata": {
    "collapsed": false,
    "ExecuteTime": {
     "end_time": "2023-12-29T17:35:18.367725300Z",
     "start_time": "2023-12-29T17:35:17.877690800Z"
    }
   },
   "outputs": [],
   "source": [
    "weather = pd.read_csv(\"D:\\All Python\\All_Big_raw_Data\\LOS prediction\\Environment Dataset/all_fields_weather.csv\")\n",
    "# weather = weather.iloc[:, [24, 26, 6]]\n",
    "weather.iloc[:,1] = weather.iloc[:,1]*3600\n",
    "weather.day = pd.to_datetime(weather.day)\n",
    "# weather"
   ]
  },
  {
   "cell_type": "code",
   "execution_count": 88,
   "id": "107294fa2f566ed2",
   "metadata": {
    "collapsed": false,
    "ExecuteTime": {
     "end_time": "2023-12-29T18:30:54.457106700Z",
     "start_time": "2023-12-29T18:30:19.579098900Z"
    }
   },
   "outputs": [],
   "source": [
    "import data_preparation\n",
    "dataloader = data_preparation.DataLoader_MultiCity(data=data_UTD19, detectors_data=data_detectors, weather_data=weather)  # london, luzern, hamburg"
   ]
  },
  {
   "cell_type": "code",
   "execution_count": 89,
   "id": "535cbcb3ede36ada",
   "metadata": {
    "collapsed": false,
    "ExecuteTime": {
     "end_time": "2023-12-29T18:31:23.009712900Z",
     "start_time": "2023-12-29T18:31:00.907786900Z"
    }
   },
   "outputs": [
    {
     "name": "stdout",
     "output_type": "stream",
     "text": [
      "[INFO] ['luzern'] was/were picked successfully.\n"
     ]
    }
   ],
   "source": [
    "luzern = dataloader.pick_city([\"luzern\"])"
   ]
  },
  {
   "cell_type": "code",
   "execution_count": 91,
   "id": "c43c74770ed76fe5",
   "metadata": {
    "collapsed": false,
    "ExecuteTime": {
     "end_time": "2023-12-29T18:32:33.320818500Z",
     "start_time": "2023-12-29T18:32:22.726586800Z"
    }
   },
   "outputs": [
    {
     "name": "stdout",
     "output_type": "stream",
     "text": [
      "[INFO] Take the mean of data in each hour successfully.\n",
      "[INFO] Speed and density produced successfully and added to the dataframe of transform_hourly_data.\n",
      "[INFO] Data merged with weather successfully.\n",
      "[INFO] LOS founded and added to data! we have now columns of 'LOS' and 'LOS_index'.\n",
      "[INFO] Setting of data finished.\n",
      "[INFO] add new features!\n",
      "[INFO] Split successful.\n",
      "[INFO] Saved successfully.\n",
      "number of features: 12\n"
     ]
    }
   ],
   "source": [
    "train_data, val_data, test_data = luzern.fit()"
   ]
  },
  {
   "cell_type": "code",
   "execution_count": 73,
   "id": "6874cccd609e1c6",
   "metadata": {
    "collapsed": false,
    "ExecuteTime": {
     "end_time": "2023-12-29T18:00:36.922038500Z",
     "start_time": "2023-12-29T18:00:36.688014400Z"
    }
   },
   "outputs": [],
   "source": [
    "data = luzern.merged_data\n",
    "data"
   ]
  },
  {
   "cell_type": "code",
   "outputs": [
    {
     "name": "stdout",
     "output_type": "stream",
     "text": [
      "<class 'pandas.core.frame.DataFrame'>\n",
      "RangeIndex: 23626 entries, 0 to 23625\n",
      "Data columns (total 11 columns):\n",
      " #   Column    Non-Null Count  Dtype  \n",
      "---  ------    --------------  -----  \n",
      " 0   detid     23626 non-null  object \n",
      " 1   length    23626 non-null  float64\n",
      " 2   pos       23581 non-null  float64\n",
      " 3   fclass    23626 non-null  object \n",
      " 4   road      22085 non-null  object \n",
      " 5   limit     16994 non-null  object \n",
      " 6   citycode  23626 non-null  object \n",
      " 7   lanes     23622 non-null  float64\n",
      " 8   linkid    23021 non-null  float64\n",
      " 9   long      23626 non-null  float64\n",
      " 10  lat       23626 non-null  float64\n",
      "dtypes: float64(6), object(5)\n",
      "memory usage: 2.0+ MB\n"
     ]
    }
   ],
   "source": [
    "luzern.detectors_data.info()"
   ],
   "metadata": {
    "collapsed": false,
    "ExecuteTime": {
     "end_time": "2023-12-29T18:48:23.791212800Z",
     "start_time": "2023-12-29T18:48:23.675387900Z"
    }
   },
   "id": "952b49ad67e477a2",
   "execution_count": 94
  },
  {
   "cell_type": "code",
   "outputs": [],
   "source": [],
   "metadata": {
    "collapsed": false
   },
   "id": "44a0afc242aa1a4b"
  }
 ],
 "metadata": {
  "kernelspec": {
   "display_name": "Python 3",
   "language": "python",
   "name": "python3"
  },
  "language_info": {
   "codemirror_mode": {
    "name": "ipython",
    "version": 3
   },
   "file_extension": ".py",
   "mimetype": "text/x-python",
   "name": "python",
   "nbconvert_exporter": "python",
   "pygments_lexer": "ipython3",
   "version": "3.11.5"
  }
 },
 "nbformat": 4,
 "nbformat_minor": 5
}
