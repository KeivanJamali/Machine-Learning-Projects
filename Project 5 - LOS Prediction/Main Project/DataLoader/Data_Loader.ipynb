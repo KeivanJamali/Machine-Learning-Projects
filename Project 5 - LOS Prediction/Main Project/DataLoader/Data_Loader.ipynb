{
 "cells": [
  {
   "cell_type": "code",
   "execution_count": 1,
   "id": "initial_id",
   "metadata": {
    "collapsed": true,
    "ExecuteTime": {
     "end_time": "2024-01-23T10:45:37.140465400Z",
     "start_time": "2024-01-23T10:45:37.090133600Z"
    }
   },
   "outputs": [],
   "source": [
    "%load_ext autoreload\n",
    "%autoreload 2"
   ]
  },
  {
   "cell_type": "code",
   "execution_count": 2,
   "id": "c3bf5bcbffe897a0",
   "metadata": {
    "collapsed": false,
    "ExecuteTime": {
     "end_time": "2024-01-23T10:45:38.779477500Z",
     "start_time": "2024-01-23T10:45:37.139457700Z"
    }
   },
   "outputs": [],
   "source": [
    "import numpy as np\n",
    "import pandas as pd\n",
    "from pathlib import Path"
   ]
  },
  {
   "cell_type": "code",
   "execution_count": 3,
   "id": "ca8afcd405eecca2",
   "metadata": {
    "collapsed": false,
    "ExecuteTime": {
     "end_time": "2024-01-23T11:03:12.665673100Z",
     "start_time": "2024-01-23T10:45:38.764958500Z"
    }
   },
   "outputs": [],
   "source": [
    "raw_data_folder_path = Path(\"D:\\All Python\\All_Big_raw_Data\\LOS prediction\\Traffic Dataset\")\n",
    "data_UTD19 = pd.read_csv(raw_data_folder_path / \"utd19_u.csv\", low_memory=False)\n",
    "data_links = pd.read_csv(raw_data_folder_path / \"links.csv\")\n",
    "data_detectors = pd.read_csv(raw_data_folder_path / \"detectors.csv\")"
   ]
  },
  {
   "cell_type": "code",
   "execution_count": 4,
   "id": "6af532436efa7ba2",
   "metadata": {
    "collapsed": false,
    "ExecuteTime": {
     "end_time": "2024-01-23T11:03:13.426949700Z",
     "start_time": "2024-01-23T11:03:12.661658700Z"
    }
   },
   "outputs": [],
   "source": [
    "weather = pd.read_csv(\"D:\\All Python\\All_Big_raw_Data\\LOS prediction\\Environment Dataset/all_fields_weather.csv\")\n",
    "# weather = weather.iloc[:, [24, 26, 6]]\n",
    "weather.iloc[:,1] = weather.iloc[:,1]*3600\n",
    "weather.day = pd.to_datetime(weather.day)\n",
    "# weather"
   ]
  },
  {
   "cell_type": "code",
   "outputs": [
    {
     "name": "stdout",
     "output_type": "stream",
     "text": [
      "<class 'pandas.core.frame.DataFrame'>\n",
      "RangeIndex: 8760 entries, 0 to 8759\n",
      "Data columns (total 27 columns):\n",
      " #   Column            Non-Null Count  Dtype         \n",
      "---  ------            --------------  -----         \n",
      " 0   name              8760 non-null   object        \n",
      " 1   datetime          8760 non-null   object        \n",
      " 2   temp              8760 non-null   float64       \n",
      " 3   feelslike         8760 non-null   float64       \n",
      " 4   dew               8760 non-null   float64       \n",
      " 5   humidity          8760 non-null   float64       \n",
      " 6   rainfall          8760 non-null   float64       \n",
      " 7   precipprob        8760 non-null   int64         \n",
      " 8   preciptype        1946 non-null   object        \n",
      " 9   snow              8758 non-null   float64       \n",
      " 10  snowdepth         8758 non-null   float64       \n",
      " 11  windgust          8722 non-null   float64       \n",
      " 12  windspeed         8760 non-null   float64       \n",
      " 13  winddir           8760 non-null   float64       \n",
      " 14  sealevelpressure  8758 non-null   float64       \n",
      " 15  cloudcover        8760 non-null   float64       \n",
      " 16  visibility        6835 non-null   float64       \n",
      " 17  solarradiation    8760 non-null   float64       \n",
      " 18  solarenergy       8760 non-null   float64       \n",
      " 19  uvindex           8760 non-null   int64         \n",
      " 20  severerisk        0 non-null      float64       \n",
      " 21  conditions        8760 non-null   object        \n",
      " 22  icon              8760 non-null   object        \n",
      " 23  stations          8760 non-null   object        \n",
      " 24  day               8760 non-null   datetime64[ns]\n",
      " 25  rain_intensity    8760 non-null   object        \n",
      " 26  interval          8760 non-null   float64       \n",
      "dtypes: datetime64[ns](1), float64(17), int64(2), object(7)\n",
      "memory usage: 1.8+ MB\n"
     ]
    }
   ],
   "source": [
    "weather.info()"
   ],
   "metadata": {
    "collapsed": false,
    "ExecuteTime": {
     "end_time": "2024-01-23T11:04:24.863491600Z",
     "start_time": "2024-01-23T11:04:24.774986800Z"
    }
   },
   "id": "1059b767c9967f74",
   "execution_count": 10
  },
  {
   "cell_type": "code",
   "execution_count": 5,
   "id": "107294fa2f566ed2",
   "metadata": {
    "collapsed": false,
    "ExecuteTime": {
     "end_time": "2024-01-23T11:03:38.115599700Z",
     "start_time": "2024-01-23T11:03:13.427953700Z"
    }
   },
   "outputs": [],
   "source": [
    "import data_preparation\n",
    "dataloader = data_preparation.DataLoader_MultiCity(data=data_UTD19, detectors_data=data_detectors, weather_data=weather)  # london, luzern, hamburg"
   ]
  },
  {
   "cell_type": "code",
   "execution_count": 6,
   "id": "535cbcb3ede36ada",
   "metadata": {
    "collapsed": false,
    "ExecuteTime": {
     "end_time": "2024-01-23T11:04:05.846717300Z",
     "start_time": "2024-01-23T11:03:38.097944600Z"
    }
   },
   "outputs": [
    {
     "name": "stdout",
     "output_type": "stream",
     "text": [
      "[INFO] ['luzern'] was/were picked successfully.\n"
     ]
    }
   ],
   "source": [
    "luzern = dataloader.pick_city([\"luzern\"])"
   ]
  },
  {
   "cell_type": "code",
   "execution_count": 7,
   "id": "c43c74770ed76fe5",
   "metadata": {
    "collapsed": false,
    "ExecuteTime": {
     "end_time": "2024-01-23T11:04:16.895252600Z",
     "start_time": "2024-01-23T11:04:05.846717300Z"
    }
   },
   "outputs": [
    {
     "name": "stdout",
     "output_type": "stream",
     "text": [
      "[INFO] Take the mean of data in each hour successfully.\n",
      "[INFO] Speed and density produced successfully and added to the dataframe of transform_hourly_data.\n",
      "[INFO] Data merged with weather successfully.\n",
      "[INFO] LOS founded and added to data! we have now columns of 'LOS' and 'LOS_index'.\n",
      "[INFO] Setting of data finished.\n",
      "[INFO] add new features!\n",
      "[INFO] Split successful.\n",
      "[INFO] Saved successfully.\n",
      "number of features: 12\n"
     ]
    }
   ],
   "source": [
    "train_data, val_data, test_data = luzern.fit()"
   ]
  },
  {
   "cell_type": "code",
   "outputs": [
    {
     "data": {
      "text/plain": "              detid    length       pos     fclass               road limit  \\\n12446  ig11FD208_D1  0.258418  0.015821  secondary  Friedentalstrasse    50   \n\n      citycode  lanes  linkid      long        lat  \n12446   luzern    1.0   129.0  8.303541  47.060261  ",
      "text/html": "<div>\n<style scoped>\n    .dataframe tbody tr th:only-of-type {\n        vertical-align: middle;\n    }\n\n    .dataframe tbody tr th {\n        vertical-align: top;\n    }\n\n    .dataframe thead th {\n        text-align: right;\n    }\n</style>\n<table border=\"1\" class=\"dataframe\">\n  <thead>\n    <tr style=\"text-align: right;\">\n      <th></th>\n      <th>detid</th>\n      <th>length</th>\n      <th>pos</th>\n      <th>fclass</th>\n      <th>road</th>\n      <th>limit</th>\n      <th>citycode</th>\n      <th>lanes</th>\n      <th>linkid</th>\n      <th>long</th>\n      <th>lat</th>\n    </tr>\n  </thead>\n  <tbody>\n    <tr>\n      <th>12446</th>\n      <td>ig11FD208_D1</td>\n      <td>0.258418</td>\n      <td>0.015821</td>\n      <td>secondary</td>\n      <td>Friedentalstrasse</td>\n      <td>50</td>\n      <td>luzern</td>\n      <td>1.0</td>\n      <td>129.0</td>\n      <td>8.303541</td>\n      <td>47.060261</td>\n    </tr>\n  </tbody>\n</table>\n</div>"
     },
     "execution_count": 12,
     "metadata": {},
     "output_type": "execute_result"
    }
   ],
   "source": [
    "luzern.detector"
   ],
   "metadata": {
    "collapsed": false,
    "ExecuteTime": {
     "end_time": "2024-01-23T11:52:51.378481Z",
     "start_time": "2024-01-23T11:52:51.214553700Z"
    }
   },
   "id": "cb1d5b1e8f9a10fd",
   "execution_count": 12
  },
  {
   "cell_type": "code",
   "outputs": [],
   "source": [],
   "metadata": {
    "collapsed": false
   },
   "id": "7844528a4a5adf25"
  },
  {
   "cell_type": "code",
   "execution_count": 8,
   "id": "6874cccd609e1c6",
   "metadata": {
    "collapsed": false,
    "ExecuteTime": {
     "end_time": "2024-01-23T11:04:17.132624200Z",
     "start_time": "2024-01-23T11:04:16.883230800Z"
    }
   },
   "outputs": [
    {
     "data": {
      "text/plain": "            flow       occ                date  temp  feelslike  humidity  \\\n0     262.459893  0.045575 2015-01-01 00:00:00  -3.4       -6.0     90.04   \n1     304.639569  0.046836 2015-01-01 01:00:00  -3.4       -6.7     90.06   \n2     240.033234  0.034573 2015-01-01 02:00:00  -3.3       -3.3     89.57   \n3     177.826457  0.023900 2015-01-01 03:00:00  -3.6       -8.1     90.60   \n4     155.366376  0.020704 2015-01-01 04:00:00  -3.1       -5.1     91.14   \n...          ...       ...                 ...   ...        ...       ...   \n9019  190.475398  0.030405 2015-12-31 20:00:00   4.5        4.5     95.51   \n9020  167.095349  0.025052 2015-12-31 21:00:00   4.4        4.4     96.75   \n9021  213.527443  0.033442 2015-12-31 22:00:00   4.5        4.5     95.49   \n9022  222.821848  0.035799 2015-12-31 23:00:00   4.4        4.4     96.75   \n9023  153.033708  0.026798 2016-01-01 00:00:00   NaN        NaN       NaN   \n\n      rainfall  snowdepth  windspeed  sealevelpressure  cloudcover  \\\n0        0.000       8.76        6.4            1037.1        30.0   \n1        0.000       8.07        8.0            1037.1        90.0   \n2        0.000       7.37        4.7            1037.0        50.0   \n3        0.000       6.68       11.6            1037.3        90.0   \n4        0.000       5.99        5.0            1037.2        90.0   \n...        ...        ...        ...               ...         ...   \n9019     0.111       0.00        2.2            1027.5        99.3   \n9020     0.399       0.00        2.1            1027.3        99.5   \n9021     0.396       0.00        2.3            1027.5        99.3   \n9022     0.100       0.00        2.3            1027.6        96.7   \n9023       NaN        NaN        NaN               NaN         NaN   \n\n      solarradiation  solarenergy LOS  LOS_index  month  time_of_raining  \n0                0.0          0.0   A          0      1                0  \n1                0.0          0.0   A          0      1                0  \n2                0.0          0.0   A          0      1                0  \n3                0.0          0.0   A          0      1                0  \n4                0.0          0.0   A          0      1                0  \n...              ...          ...  ..        ...    ...              ...  \n9019             0.0          0.0   A          0     12                7  \n9020             0.0          0.0   A          0     12                8  \n9021             0.0          0.0   A          0     12                9  \n9022             0.0          0.0   A          0     12               10  \n9023             NaN          NaN   A          0      1                0  \n\n[9024 rows x 17 columns]",
      "text/html": "<div>\n<style scoped>\n    .dataframe tbody tr th:only-of-type {\n        vertical-align: middle;\n    }\n\n    .dataframe tbody tr th {\n        vertical-align: top;\n    }\n\n    .dataframe thead th {\n        text-align: right;\n    }\n</style>\n<table border=\"1\" class=\"dataframe\">\n  <thead>\n    <tr style=\"text-align: right;\">\n      <th></th>\n      <th>flow</th>\n      <th>occ</th>\n      <th>date</th>\n      <th>temp</th>\n      <th>feelslike</th>\n      <th>humidity</th>\n      <th>rainfall</th>\n      <th>snowdepth</th>\n      <th>windspeed</th>\n      <th>sealevelpressure</th>\n      <th>cloudcover</th>\n      <th>solarradiation</th>\n      <th>solarenergy</th>\n      <th>LOS</th>\n      <th>LOS_index</th>\n      <th>month</th>\n      <th>time_of_raining</th>\n    </tr>\n  </thead>\n  <tbody>\n    <tr>\n      <th>0</th>\n      <td>262.459893</td>\n      <td>0.045575</td>\n      <td>2015-01-01 00:00:00</td>\n      <td>-3.4</td>\n      <td>-6.0</td>\n      <td>90.04</td>\n      <td>0.000</td>\n      <td>8.76</td>\n      <td>6.4</td>\n      <td>1037.1</td>\n      <td>30.0</td>\n      <td>0.0</td>\n      <td>0.0</td>\n      <td>A</td>\n      <td>0</td>\n      <td>1</td>\n      <td>0</td>\n    </tr>\n    <tr>\n      <th>1</th>\n      <td>304.639569</td>\n      <td>0.046836</td>\n      <td>2015-01-01 01:00:00</td>\n      <td>-3.4</td>\n      <td>-6.7</td>\n      <td>90.06</td>\n      <td>0.000</td>\n      <td>8.07</td>\n      <td>8.0</td>\n      <td>1037.1</td>\n      <td>90.0</td>\n      <td>0.0</td>\n      <td>0.0</td>\n      <td>A</td>\n      <td>0</td>\n      <td>1</td>\n      <td>0</td>\n    </tr>\n    <tr>\n      <th>2</th>\n      <td>240.033234</td>\n      <td>0.034573</td>\n      <td>2015-01-01 02:00:00</td>\n      <td>-3.3</td>\n      <td>-3.3</td>\n      <td>89.57</td>\n      <td>0.000</td>\n      <td>7.37</td>\n      <td>4.7</td>\n      <td>1037.0</td>\n      <td>50.0</td>\n      <td>0.0</td>\n      <td>0.0</td>\n      <td>A</td>\n      <td>0</td>\n      <td>1</td>\n      <td>0</td>\n    </tr>\n    <tr>\n      <th>3</th>\n      <td>177.826457</td>\n      <td>0.023900</td>\n      <td>2015-01-01 03:00:00</td>\n      <td>-3.6</td>\n      <td>-8.1</td>\n      <td>90.60</td>\n      <td>0.000</td>\n      <td>6.68</td>\n      <td>11.6</td>\n      <td>1037.3</td>\n      <td>90.0</td>\n      <td>0.0</td>\n      <td>0.0</td>\n      <td>A</td>\n      <td>0</td>\n      <td>1</td>\n      <td>0</td>\n    </tr>\n    <tr>\n      <th>4</th>\n      <td>155.366376</td>\n      <td>0.020704</td>\n      <td>2015-01-01 04:00:00</td>\n      <td>-3.1</td>\n      <td>-5.1</td>\n      <td>91.14</td>\n      <td>0.000</td>\n      <td>5.99</td>\n      <td>5.0</td>\n      <td>1037.2</td>\n      <td>90.0</td>\n      <td>0.0</td>\n      <td>0.0</td>\n      <td>A</td>\n      <td>0</td>\n      <td>1</td>\n      <td>0</td>\n    </tr>\n    <tr>\n      <th>...</th>\n      <td>...</td>\n      <td>...</td>\n      <td>...</td>\n      <td>...</td>\n      <td>...</td>\n      <td>...</td>\n      <td>...</td>\n      <td>...</td>\n      <td>...</td>\n      <td>...</td>\n      <td>...</td>\n      <td>...</td>\n      <td>...</td>\n      <td>...</td>\n      <td>...</td>\n      <td>...</td>\n      <td>...</td>\n    </tr>\n    <tr>\n      <th>9019</th>\n      <td>190.475398</td>\n      <td>0.030405</td>\n      <td>2015-12-31 20:00:00</td>\n      <td>4.5</td>\n      <td>4.5</td>\n      <td>95.51</td>\n      <td>0.111</td>\n      <td>0.00</td>\n      <td>2.2</td>\n      <td>1027.5</td>\n      <td>99.3</td>\n      <td>0.0</td>\n      <td>0.0</td>\n      <td>A</td>\n      <td>0</td>\n      <td>12</td>\n      <td>7</td>\n    </tr>\n    <tr>\n      <th>9020</th>\n      <td>167.095349</td>\n      <td>0.025052</td>\n      <td>2015-12-31 21:00:00</td>\n      <td>4.4</td>\n      <td>4.4</td>\n      <td>96.75</td>\n      <td>0.399</td>\n      <td>0.00</td>\n      <td>2.1</td>\n      <td>1027.3</td>\n      <td>99.5</td>\n      <td>0.0</td>\n      <td>0.0</td>\n      <td>A</td>\n      <td>0</td>\n      <td>12</td>\n      <td>8</td>\n    </tr>\n    <tr>\n      <th>9021</th>\n      <td>213.527443</td>\n      <td>0.033442</td>\n      <td>2015-12-31 22:00:00</td>\n      <td>4.5</td>\n      <td>4.5</td>\n      <td>95.49</td>\n      <td>0.396</td>\n      <td>0.00</td>\n      <td>2.3</td>\n      <td>1027.5</td>\n      <td>99.3</td>\n      <td>0.0</td>\n      <td>0.0</td>\n      <td>A</td>\n      <td>0</td>\n      <td>12</td>\n      <td>9</td>\n    </tr>\n    <tr>\n      <th>9022</th>\n      <td>222.821848</td>\n      <td>0.035799</td>\n      <td>2015-12-31 23:00:00</td>\n      <td>4.4</td>\n      <td>4.4</td>\n      <td>96.75</td>\n      <td>0.100</td>\n      <td>0.00</td>\n      <td>2.3</td>\n      <td>1027.6</td>\n      <td>96.7</td>\n      <td>0.0</td>\n      <td>0.0</td>\n      <td>A</td>\n      <td>0</td>\n      <td>12</td>\n      <td>10</td>\n    </tr>\n    <tr>\n      <th>9023</th>\n      <td>153.033708</td>\n      <td>0.026798</td>\n      <td>2016-01-01 00:00:00</td>\n      <td>NaN</td>\n      <td>NaN</td>\n      <td>NaN</td>\n      <td>NaN</td>\n      <td>NaN</td>\n      <td>NaN</td>\n      <td>NaN</td>\n      <td>NaN</td>\n      <td>NaN</td>\n      <td>NaN</td>\n      <td>A</td>\n      <td>0</td>\n      <td>1</td>\n      <td>0</td>\n    </tr>\n  </tbody>\n</table>\n<p>9024 rows × 17 columns</p>\n</div>"
     },
     "execution_count": 8,
     "metadata": {},
     "output_type": "execute_result"
    }
   ],
   "source": [
    "data = luzern.merged_data\n",
    "data"
   ]
  },
  {
   "cell_type": "code",
   "outputs": [
    {
     "name": "stdout",
     "output_type": "stream",
     "text": [
      "<class 'pandas.core.frame.DataFrame'>\n",
      "RangeIndex: 23626 entries, 0 to 23625\n",
      "Data columns (total 11 columns):\n",
      " #   Column    Non-Null Count  Dtype  \n",
      "---  ------    --------------  -----  \n",
      " 0   detid     23626 non-null  object \n",
      " 1   length    23626 non-null  float64\n",
      " 2   pos       23581 non-null  float64\n",
      " 3   fclass    23626 non-null  object \n",
      " 4   road      22085 non-null  object \n",
      " 5   limit     16994 non-null  object \n",
      " 6   citycode  23626 non-null  object \n",
      " 7   lanes     23622 non-null  float64\n",
      " 8   linkid    23021 non-null  float64\n",
      " 9   long      23626 non-null  float64\n",
      " 10  lat       23626 non-null  float64\n",
      "dtypes: float64(6), object(5)\n",
      "memory usage: 2.0+ MB\n"
     ]
    }
   ],
   "source": [
    "luzern.detectors_data.info()"
   ],
   "metadata": {
    "collapsed": false,
    "ExecuteTime": {
     "end_time": "2024-01-23T11:04:17.148256100Z",
     "start_time": "2024-01-23T11:04:16.990714600Z"
    }
   },
   "id": "952b49ad67e477a2",
   "execution_count": 9
  },
  {
   "cell_type": "code",
   "outputs": [
    {
     "data": {
      "text/plain": "<data_preparation.DataLoader_MultiCity at 0x27d8391ca90>"
     },
     "execution_count": 15,
     "metadata": {},
     "output_type": "execute_result"
    }
   ],
   "source": [
    "luzern"
   ],
   "metadata": {
    "collapsed": false,
    "ExecuteTime": {
     "end_time": "2024-01-23T12:58:27.352633500Z",
     "start_time": "2024-01-23T12:58:27.207869300Z"
    }
   },
   "id": "44a0afc242aa1a4b",
   "execution_count": 15
  },
  {
   "cell_type": "code",
   "outputs": [],
   "source": [],
   "metadata": {
    "collapsed": false
   },
   "id": "46ff38e76555c5f7"
  }
 ],
 "metadata": {
  "kernelspec": {
   "display_name": "Python 3",
   "language": "python",
   "name": "python3"
  },
  "language_info": {
   "codemirror_mode": {
    "name": "ipython",
    "version": 3
   },
   "file_extension": ".py",
   "mimetype": "text/x-python",
   "name": "python",
   "nbconvert_exporter": "python",
   "pygments_lexer": "ipython3",
   "version": "3.11.5"
  }
 },
 "nbformat": 4,
 "nbformat_minor": 5
}
