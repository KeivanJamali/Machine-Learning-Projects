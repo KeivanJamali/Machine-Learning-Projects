{
 "cells": [
  {
   "cell_type": "code",
   "execution_count": 1,
   "id": "initial_id",
   "metadata": {
    "collapsed": true,
    "ExecuteTime": {
     "end_time": "2023-12-18T10:02:50.382586600Z",
     "start_time": "2023-12-18T10:02:50.163962500Z"
    }
   },
   "outputs": [],
   "source": [
    "%load_ext autoreload\n",
    "%autoreload 2"
   ]
  },
  {
   "cell_type": "code",
   "execution_count": 2,
   "outputs": [],
   "source": [
    "import numpy as np\n",
    "import pandas as pd\n",
    "from pathlib import Path"
   ],
   "metadata": {
    "collapsed": false,
    "ExecuteTime": {
     "end_time": "2023-12-18T10:02:52.995957900Z",
     "start_time": "2023-12-18T10:02:50.592777500Z"
    }
   },
   "id": "c3bf5bcbffe897a0"
  },
  {
   "cell_type": "code",
   "execution_count": 3,
   "outputs": [
    {
     "ename": "ParserError",
     "evalue": "Error tokenizing data. C error: out of memory",
     "output_type": "error",
     "traceback": [
      "\u001B[1;31m---------------------------------------------------------------------------\u001B[0m",
      "\u001B[1;31mParserError\u001B[0m                               Traceback (most recent call last)",
      "Cell \u001B[1;32mIn[3], line 2\u001B[0m\n\u001B[0;32m      1\u001B[0m raw_data_folder_path \u001B[38;5;241m=\u001B[39m Path(\u001B[38;5;124m\"\u001B[39m\u001B[38;5;124mD:\u001B[39m\u001B[38;5;124m\\\u001B[39m\u001B[38;5;124mAll Python\u001B[39m\u001B[38;5;124m\\\u001B[39m\u001B[38;5;124mAll_Big_raw_Data\u001B[39m\u001B[38;5;124m\\\u001B[39m\u001B[38;5;124mLOS prediction\u001B[39m\u001B[38;5;124m\\\u001B[39m\u001B[38;5;124mTraffic Dataset\u001B[39m\u001B[38;5;124m\"\u001B[39m)\n\u001B[1;32m----> 2\u001B[0m data_UTD19 \u001B[38;5;241m=\u001B[39m \u001B[43mpd\u001B[49m\u001B[38;5;241;43m.\u001B[39;49m\u001B[43mread_csv\u001B[49m\u001B[43m(\u001B[49m\u001B[43mraw_data_folder_path\u001B[49m\u001B[43m \u001B[49m\u001B[38;5;241;43m/\u001B[39;49m\u001B[43m \u001B[49m\u001B[38;5;124;43m\"\u001B[39;49m\u001B[38;5;124;43mutd19_u.csv\u001B[39;49m\u001B[38;5;124;43m\"\u001B[39;49m\u001B[43m,\u001B[49m\u001B[43m \u001B[49m\u001B[43mlow_memory\u001B[49m\u001B[38;5;241;43m=\u001B[39;49m\u001B[38;5;28;43;01mFalse\u001B[39;49;00m\u001B[43m)\u001B[49m\n\u001B[0;32m      3\u001B[0m data_links \u001B[38;5;241m=\u001B[39m pd\u001B[38;5;241m.\u001B[39mread_csv(raw_data_folder_path \u001B[38;5;241m/\u001B[39m \u001B[38;5;124m\"\u001B[39m\u001B[38;5;124mlinks.csv\u001B[39m\u001B[38;5;124m\"\u001B[39m)\n\u001B[0;32m      4\u001B[0m data_detectors \u001B[38;5;241m=\u001B[39m pd\u001B[38;5;241m.\u001B[39mread_csv(raw_data_folder_path \u001B[38;5;241m/\u001B[39m \u001B[38;5;124m\"\u001B[39m\u001B[38;5;124mdetectors.csv\u001B[39m\u001B[38;5;124m\"\u001B[39m)\n",
      "File \u001B[1;32mC:\\All Python Projects\\Interpreters\\in_Machine_Learning\\Lib\\site-packages\\pandas\\io\\parsers\\readers.py:912\u001B[0m, in \u001B[0;36mread_csv\u001B[1;34m(filepath_or_buffer, sep, delimiter, header, names, index_col, usecols, dtype, engine, converters, true_values, false_values, skipinitialspace, skiprows, skipfooter, nrows, na_values, keep_default_na, na_filter, verbose, skip_blank_lines, parse_dates, infer_datetime_format, keep_date_col, date_parser, date_format, dayfirst, cache_dates, iterator, chunksize, compression, thousands, decimal, lineterminator, quotechar, quoting, doublequote, escapechar, comment, encoding, encoding_errors, dialect, on_bad_lines, delim_whitespace, low_memory, memory_map, float_precision, storage_options, dtype_backend)\u001B[0m\n\u001B[0;32m    899\u001B[0m kwds_defaults \u001B[38;5;241m=\u001B[39m _refine_defaults_read(\n\u001B[0;32m    900\u001B[0m     dialect,\n\u001B[0;32m    901\u001B[0m     delimiter,\n\u001B[1;32m   (...)\u001B[0m\n\u001B[0;32m    908\u001B[0m     dtype_backend\u001B[38;5;241m=\u001B[39mdtype_backend,\n\u001B[0;32m    909\u001B[0m )\n\u001B[0;32m    910\u001B[0m kwds\u001B[38;5;241m.\u001B[39mupdate(kwds_defaults)\n\u001B[1;32m--> 912\u001B[0m \u001B[38;5;28;01mreturn\u001B[39;00m \u001B[43m_read\u001B[49m\u001B[43m(\u001B[49m\u001B[43mfilepath_or_buffer\u001B[49m\u001B[43m,\u001B[49m\u001B[43m \u001B[49m\u001B[43mkwds\u001B[49m\u001B[43m)\u001B[49m\n",
      "File \u001B[1;32mC:\\All Python Projects\\Interpreters\\in_Machine_Learning\\Lib\\site-packages\\pandas\\io\\parsers\\readers.py:583\u001B[0m, in \u001B[0;36m_read\u001B[1;34m(filepath_or_buffer, kwds)\u001B[0m\n\u001B[0;32m    580\u001B[0m     \u001B[38;5;28;01mreturn\u001B[39;00m parser\n\u001B[0;32m    582\u001B[0m \u001B[38;5;28;01mwith\u001B[39;00m parser:\n\u001B[1;32m--> 583\u001B[0m     \u001B[38;5;28;01mreturn\u001B[39;00m \u001B[43mparser\u001B[49m\u001B[38;5;241;43m.\u001B[39;49m\u001B[43mread\u001B[49m\u001B[43m(\u001B[49m\u001B[43mnrows\u001B[49m\u001B[43m)\u001B[49m\n",
      "File \u001B[1;32mC:\\All Python Projects\\Interpreters\\in_Machine_Learning\\Lib\\site-packages\\pandas\\io\\parsers\\readers.py:1704\u001B[0m, in \u001B[0;36mTextFileReader.read\u001B[1;34m(self, nrows)\u001B[0m\n\u001B[0;32m   1697\u001B[0m nrows \u001B[38;5;241m=\u001B[39m validate_integer(\u001B[38;5;124m\"\u001B[39m\u001B[38;5;124mnrows\u001B[39m\u001B[38;5;124m\"\u001B[39m, nrows)\n\u001B[0;32m   1698\u001B[0m \u001B[38;5;28;01mtry\u001B[39;00m:\n\u001B[0;32m   1699\u001B[0m     \u001B[38;5;66;03m# error: \"ParserBase\" has no attribute \"read\"\u001B[39;00m\n\u001B[0;32m   1700\u001B[0m     (\n\u001B[0;32m   1701\u001B[0m         index,\n\u001B[0;32m   1702\u001B[0m         columns,\n\u001B[0;32m   1703\u001B[0m         col_dict,\n\u001B[1;32m-> 1704\u001B[0m     ) \u001B[38;5;241m=\u001B[39m \u001B[38;5;28;43mself\u001B[39;49m\u001B[38;5;241;43m.\u001B[39;49m\u001B[43m_engine\u001B[49m\u001B[38;5;241;43m.\u001B[39;49m\u001B[43mread\u001B[49m\u001B[43m(\u001B[49m\u001B[43m  \u001B[49m\u001B[38;5;66;43;03m# type: ignore[attr-defined]\u001B[39;49;00m\n\u001B[0;32m   1705\u001B[0m \u001B[43m        \u001B[49m\u001B[43mnrows\u001B[49m\n\u001B[0;32m   1706\u001B[0m \u001B[43m    \u001B[49m\u001B[43m)\u001B[49m\n\u001B[0;32m   1707\u001B[0m \u001B[38;5;28;01mexcept\u001B[39;00m \u001B[38;5;167;01mException\u001B[39;00m:\n\u001B[0;32m   1708\u001B[0m     \u001B[38;5;28mself\u001B[39m\u001B[38;5;241m.\u001B[39mclose()\n",
      "File \u001B[1;32mC:\\All Python Projects\\Interpreters\\in_Machine_Learning\\Lib\\site-packages\\pandas\\io\\parsers\\c_parser_wrapper.py:239\u001B[0m, in \u001B[0;36mCParserWrapper.read\u001B[1;34m(self, nrows)\u001B[0m\n\u001B[0;32m    236\u001B[0m         data \u001B[38;5;241m=\u001B[39m _concatenate_chunks(chunks)\n\u001B[0;32m    238\u001B[0m     \u001B[38;5;28;01melse\u001B[39;00m:\n\u001B[1;32m--> 239\u001B[0m         data \u001B[38;5;241m=\u001B[39m \u001B[38;5;28;43mself\u001B[39;49m\u001B[38;5;241;43m.\u001B[39;49m\u001B[43m_reader\u001B[49m\u001B[38;5;241;43m.\u001B[39;49m\u001B[43mread\u001B[49m\u001B[43m(\u001B[49m\u001B[43mnrows\u001B[49m\u001B[43m)\u001B[49m\n\u001B[0;32m    240\u001B[0m \u001B[38;5;28;01mexcept\u001B[39;00m \u001B[38;5;167;01mStopIteration\u001B[39;00m:\n\u001B[0;32m    241\u001B[0m     \u001B[38;5;28;01mif\u001B[39;00m \u001B[38;5;28mself\u001B[39m\u001B[38;5;241m.\u001B[39m_first_chunk:\n",
      "File \u001B[1;32mC:\\All Python Projects\\Interpreters\\in_Machine_Learning\\Lib\\site-packages\\pandas\\_libs\\parsers.pyx:796\u001B[0m, in \u001B[0;36mpandas._libs.parsers.TextReader.read\u001B[1;34m()\u001B[0m\n",
      "File \u001B[1;32mC:\\All Python Projects\\Interpreters\\in_Machine_Learning\\Lib\\site-packages\\pandas\\_libs\\parsers.pyx:884\u001B[0m, in \u001B[0;36mpandas._libs.parsers.TextReader._read_rows\u001B[1;34m()\u001B[0m\n",
      "File \u001B[1;32mC:\\All Python Projects\\Interpreters\\in_Machine_Learning\\Lib\\site-packages\\pandas\\_libs\\parsers.pyx:861\u001B[0m, in \u001B[0;36mpandas._libs.parsers.TextReader._check_tokenize_status\u001B[1;34m()\u001B[0m\n",
      "File \u001B[1;32mC:\\All Python Projects\\Interpreters\\in_Machine_Learning\\Lib\\site-packages\\pandas\\_libs\\parsers.pyx:2029\u001B[0m, in \u001B[0;36mpandas._libs.parsers.raise_parser_error\u001B[1;34m()\u001B[0m\n",
      "\u001B[1;31mParserError\u001B[0m: Error tokenizing data. C error: out of memory"
     ]
    }
   ],
   "source": [
    "raw_data_folder_path = Path(\"D:\\All Python\\All_Big_raw_Data\\LOS prediction\\Traffic Dataset\")\n",
    "data_UTD19 = pd.read_csv(raw_data_folder_path / \"utd19_u.csv\", low_memory=False)\n",
    "data_links = pd.read_csv(raw_data_folder_path / \"links.csv\")\n",
    "data_detectors = pd.read_csv(raw_data_folder_path / \"detectors.csv\")"
   ],
   "metadata": {
    "collapsed": false,
    "ExecuteTime": {
     "end_time": "2023-12-18T10:07:57.105883200Z",
     "start_time": "2023-12-18T10:02:53.003147800Z"
    }
   },
   "id": "ca8afcd405eecca2"
  },
  {
   "cell_type": "code",
   "execution_count": 5,
   "outputs": [
    {
     "data": {
      "text/plain": "array(['augsburg', 'basel', 'bern', 'birmingham', 'bolton', 'bordeaux',\n       'bremen', 'cagliari', 'constance', 'darmstadt', 'essen',\n       'frankfurt', 'graz', 'groningen', 'hamburg', 'innsbruck', 'kassel',\n       'london', 'losanageles', 'luzern', 'madrid', 'melbourne',\n       'manchester', 'marseille', 'munich', 'paris', 'rotterdam',\n       'santander', 'speyer', 'strasbourg', 'stuttgart', 'taipeh',\n       'tokyo', 'torino', 'toronto', 'toulouse', 'utrecht', 'vilnius',\n       'wolfsburg', 'zurich'], dtype=object)"
     },
     "execution_count": 5,
     "metadata": {},
     "output_type": "execute_result"
    }
   ],
   "source": [
    "data_detectors = pd.read_csv(raw_data_folder_path / \"detectors.csv\")\n",
    "data_detectors[\"citycode\"].unique()"
   ],
   "metadata": {
    "collapsed": false,
    "ExecuteTime": {
     "end_time": "2023-12-18T11:02:18.901280900Z",
     "start_time": "2023-12-18T11:02:18.675510300Z"
    }
   },
   "id": "aa915d785b4a56e5"
  },
  {
   "cell_type": "code",
   "execution_count": null,
   "outputs": [],
   "source": [
    "weather = pd.read_csv(\"my_weather.csv\")\n",
    "weather = weather.iloc[:, [24, 26, 6]]\n",
    "weather.iloc[:,1] = weather.iloc[:,1]*3600\n",
    "weather.day = pd.to_datetime(weather.day)\n",
    "weather"
   ],
   "metadata": {
    "collapsed": false,
    "ExecuteTime": {
     "end_time": "2023-12-18T10:07:57.133921800Z",
     "start_time": "2023-12-18T10:07:57.114574600Z"
    }
   },
   "id": "6af532436efa7ba2"
  },
  {
   "cell_type": "code",
   "execution_count": null,
   "outputs": [],
   "source": [
    "data_UTD19.describe()"
   ],
   "metadata": {
    "collapsed": false,
    "ExecuteTime": {
     "start_time": "2023-12-18T10:07:57.117917200Z"
    }
   },
   "id": "d5ab26a0ded4849d"
  },
  {
   "cell_type": "code",
   "execution_count": 7,
   "outputs": [],
   "source": [
    "import DataLoader\n",
    "dataloader = DataLoader.DataLoader_MultiCity(data=data_UTD19, detectors_data=data_detectors, weather_data=weather)  # london, luzern, hamburg"
   ],
   "metadata": {
    "collapsed": false,
    "ExecuteTime": {
     "end_time": "2023-12-18T06:00:37.461597700Z",
     "start_time": "2023-12-18T06:00:11.574067600Z"
    }
   },
   "id": "107294fa2f566ed2"
  },
  {
   "cell_type": "code",
   "execution_count": 8,
   "outputs": [
    {
     "name": "stdout",
     "output_type": "stream",
     "text": [
      "[INFO] ['luzern'] was/were picked successfully.\n"
     ]
    }
   ],
   "source": [
    "luzern = dataloader.pick_city([\"luzern\"])"
   ],
   "metadata": {
    "collapsed": false,
    "ExecuteTime": {
     "end_time": "2023-12-18T06:16:14.816326900Z",
     "start_time": "2023-12-18T06:15:58.907480800Z"
    }
   },
   "id": "535cbcb3ede36ada"
  },
  {
   "cell_type": "code",
   "execution_count": 9,
   "outputs": [
    {
     "name": "stdout",
     "output_type": "stream",
     "text": [
      "[INFO] data loaded successfully.\n",
      "[INFO] speed and density produced successfully.\n",
      "[INFO] Data #transformed# successfully.\n",
      "[INFO] Data merged with weather successfully.\n",
      "[INFO] Split successful.\n",
      "[INFO] Saved successfully.\n"
     ]
    }
   ],
   "source": [
    "train_data, val_data, test_data = luzern.fit()"
   ],
   "metadata": {
    "collapsed": false,
    "ExecuteTime": {
     "end_time": "2023-12-18T06:20:13.769723800Z",
     "start_time": "2023-12-18T06:17:12.097198800Z"
    }
   },
   "id": "c43c74770ed76fe5"
  },
  {
   "cell_type": "code",
   "execution_count": 12,
   "outputs": [
    {
     "data": {
      "text/plain": "                 day  interval          detid   flow    occ  error    city  \\\n0         2015-01-01       180   ig11FD208_D1   60.0  0.005    NaN  luzern   \n1         2015-01-01       360   ig11FD208_D1   20.0  0.000    1.0  luzern   \n2         2015-01-01       540   ig11FD208_D1  100.0  0.010    NaN  luzern   \n3         2015-01-01       720   ig11FD208_D1  200.0  0.025    NaN  luzern   \n4         2015-01-01       900   ig11FD208_D1  120.0  0.015    NaN  luzern   \n...              ...       ...            ...    ...    ...    ...     ...   \n26878292  2015-12-31     85680  ig11FD120_D21   60.0  0.005    NaN  luzern   \n26878293  2015-12-31     85860  ig11FD120_D21  160.0  0.025    NaN  luzern   \n26878294  2015-12-31     86040  ig11FD120_D21   20.0  0.005    NaN  luzern   \n26878295  2015-12-31     86220  ig11FD120_D21  100.0  0.020    NaN  luzern   \n26878296  2015-12-31     86400  ig11FD120_D21   40.0  0.005    NaN  luzern   \n\n          speed  \n0           NaN  \n1           NaN  \n2           NaN  \n3           NaN  \n4           NaN  \n...         ...  \n26878292    NaN  \n26878293    NaN  \n26878294    NaN  \n26878295    NaN  \n26878296    NaN  \n\n[26878297 rows x 8 columns]",
      "text/html": "<div>\n<style scoped>\n    .dataframe tbody tr th:only-of-type {\n        vertical-align: middle;\n    }\n\n    .dataframe tbody tr th {\n        vertical-align: top;\n    }\n\n    .dataframe thead th {\n        text-align: right;\n    }\n</style>\n<table border=\"1\" class=\"dataframe\">\n  <thead>\n    <tr style=\"text-align: right;\">\n      <th></th>\n      <th>day</th>\n      <th>interval</th>\n      <th>detid</th>\n      <th>flow</th>\n      <th>occ</th>\n      <th>error</th>\n      <th>city</th>\n      <th>speed</th>\n    </tr>\n  </thead>\n  <tbody>\n    <tr>\n      <th>0</th>\n      <td>2015-01-01</td>\n      <td>180</td>\n      <td>ig11FD208_D1</td>\n      <td>60.0</td>\n      <td>0.005</td>\n      <td>NaN</td>\n      <td>luzern</td>\n      <td>NaN</td>\n    </tr>\n    <tr>\n      <th>1</th>\n      <td>2015-01-01</td>\n      <td>360</td>\n      <td>ig11FD208_D1</td>\n      <td>20.0</td>\n      <td>0.000</td>\n      <td>1.0</td>\n      <td>luzern</td>\n      <td>NaN</td>\n    </tr>\n    <tr>\n      <th>2</th>\n      <td>2015-01-01</td>\n      <td>540</td>\n      <td>ig11FD208_D1</td>\n      <td>100.0</td>\n      <td>0.010</td>\n      <td>NaN</td>\n      <td>luzern</td>\n      <td>NaN</td>\n    </tr>\n    <tr>\n      <th>3</th>\n      <td>2015-01-01</td>\n      <td>720</td>\n      <td>ig11FD208_D1</td>\n      <td>200.0</td>\n      <td>0.025</td>\n      <td>NaN</td>\n      <td>luzern</td>\n      <td>NaN</td>\n    </tr>\n    <tr>\n      <th>4</th>\n      <td>2015-01-01</td>\n      <td>900</td>\n      <td>ig11FD208_D1</td>\n      <td>120.0</td>\n      <td>0.015</td>\n      <td>NaN</td>\n      <td>luzern</td>\n      <td>NaN</td>\n    </tr>\n    <tr>\n      <th>...</th>\n      <td>...</td>\n      <td>...</td>\n      <td>...</td>\n      <td>...</td>\n      <td>...</td>\n      <td>...</td>\n      <td>...</td>\n      <td>...</td>\n    </tr>\n    <tr>\n      <th>26878292</th>\n      <td>2015-12-31</td>\n      <td>85680</td>\n      <td>ig11FD120_D21</td>\n      <td>60.0</td>\n      <td>0.005</td>\n      <td>NaN</td>\n      <td>luzern</td>\n      <td>NaN</td>\n    </tr>\n    <tr>\n      <th>26878293</th>\n      <td>2015-12-31</td>\n      <td>85860</td>\n      <td>ig11FD120_D21</td>\n      <td>160.0</td>\n      <td>0.025</td>\n      <td>NaN</td>\n      <td>luzern</td>\n      <td>NaN</td>\n    </tr>\n    <tr>\n      <th>26878294</th>\n      <td>2015-12-31</td>\n      <td>86040</td>\n      <td>ig11FD120_D21</td>\n      <td>20.0</td>\n      <td>0.005</td>\n      <td>NaN</td>\n      <td>luzern</td>\n      <td>NaN</td>\n    </tr>\n    <tr>\n      <th>26878295</th>\n      <td>2015-12-31</td>\n      <td>86220</td>\n      <td>ig11FD120_D21</td>\n      <td>100.0</td>\n      <td>0.020</td>\n      <td>NaN</td>\n      <td>luzern</td>\n      <td>NaN</td>\n    </tr>\n    <tr>\n      <th>26878296</th>\n      <td>2015-12-31</td>\n      <td>86400</td>\n      <td>ig11FD120_D21</td>\n      <td>40.0</td>\n      <td>0.005</td>\n      <td>NaN</td>\n      <td>luzern</td>\n      <td>NaN</td>\n    </tr>\n  </tbody>\n</table>\n<p>26878297 rows × 8 columns</p>\n</div>"
     },
     "execution_count": 12,
     "metadata": {},
     "output_type": "execute_result"
    }
   ],
   "source": [
    "luzern.data"
   ],
   "metadata": {
    "collapsed": false,
    "ExecuteTime": {
     "end_time": "2023-12-18T06:23:02.927673600Z",
     "start_time": "2023-12-18T06:23:02.804415600Z"
    }
   },
   "id": "6874cccd609e1c6"
  },
  {
   "cell_type": "code",
   "execution_count": 10,
   "outputs": [
    {
     "data": {
      "text/plain": "                       day      interval         flow          occ  \\\ncount                 1416   1416.000000  1416.000000  1416.000000   \nmean   2015-01-30 00:00:00  43290.000000   417.933616     0.000068   \nmin    2015-01-01 00:00:00   1890.000000    14.000000     0.000000   \n25%    2015-01-15 00:00:00  22590.000000   149.000000     0.000019   \n50%    2015-01-30 00:00:00  43290.000000   407.000000     0.000061   \n75%    2015-02-14 00:00:00  63990.000000   655.000000     0.000109   \nmax    2015-02-28 00:00:00  84690.000000   990.000000     0.000239   \nstd                    NaN  24928.675642   278.690590     0.000053   \n\n           density         speed     rainfall  \ncount  1416.000000  1.416000e+03  1416.000000  \nmean      0.000260           inf     0.084184  \nmin       0.000000  9.895053e+05     0.000000  \n25%       0.000071  1.581972e+06     0.000000  \n50%       0.000230  1.757365e+06     0.000000  \n75%       0.000414  2.106547e+06     0.001250  \nmax       0.000910           inf     4.256000  \nstd       0.000201           NaN     0.332211  ",
      "text/html": "<div>\n<style scoped>\n    .dataframe tbody tr th:only-of-type {\n        vertical-align: middle;\n    }\n\n    .dataframe tbody tr th {\n        vertical-align: top;\n    }\n\n    .dataframe thead th {\n        text-align: right;\n    }\n</style>\n<table border=\"1\" class=\"dataframe\">\n  <thead>\n    <tr style=\"text-align: right;\">\n      <th></th>\n      <th>day</th>\n      <th>interval</th>\n      <th>flow</th>\n      <th>occ</th>\n      <th>density</th>\n      <th>speed</th>\n      <th>rainfall</th>\n    </tr>\n  </thead>\n  <tbody>\n    <tr>\n      <th>count</th>\n      <td>1416</td>\n      <td>1416.000000</td>\n      <td>1416.000000</td>\n      <td>1416.000000</td>\n      <td>1416.000000</td>\n      <td>1.416000e+03</td>\n      <td>1416.000000</td>\n    </tr>\n    <tr>\n      <th>mean</th>\n      <td>2015-01-30 00:00:00</td>\n      <td>43290.000000</td>\n      <td>417.933616</td>\n      <td>0.000068</td>\n      <td>0.000260</td>\n      <td>inf</td>\n      <td>0.084184</td>\n    </tr>\n    <tr>\n      <th>min</th>\n      <td>2015-01-01 00:00:00</td>\n      <td>1890.000000</td>\n      <td>14.000000</td>\n      <td>0.000000</td>\n      <td>0.000000</td>\n      <td>9.895053e+05</td>\n      <td>0.000000</td>\n    </tr>\n    <tr>\n      <th>25%</th>\n      <td>2015-01-15 00:00:00</td>\n      <td>22590.000000</td>\n      <td>149.000000</td>\n      <td>0.000019</td>\n      <td>0.000071</td>\n      <td>1.581972e+06</td>\n      <td>0.000000</td>\n    </tr>\n    <tr>\n      <th>50%</th>\n      <td>2015-01-30 00:00:00</td>\n      <td>43290.000000</td>\n      <td>407.000000</td>\n      <td>0.000061</td>\n      <td>0.000230</td>\n      <td>1.757365e+06</td>\n      <td>0.000000</td>\n    </tr>\n    <tr>\n      <th>75%</th>\n      <td>2015-02-14 00:00:00</td>\n      <td>63990.000000</td>\n      <td>655.000000</td>\n      <td>0.000109</td>\n      <td>0.000414</td>\n      <td>2.106547e+06</td>\n      <td>0.001250</td>\n    </tr>\n    <tr>\n      <th>max</th>\n      <td>2015-02-28 00:00:00</td>\n      <td>84690.000000</td>\n      <td>990.000000</td>\n      <td>0.000239</td>\n      <td>0.000910</td>\n      <td>inf</td>\n      <td>4.256000</td>\n    </tr>\n    <tr>\n      <th>std</th>\n      <td>NaN</td>\n      <td>24928.675642</td>\n      <td>278.690590</td>\n      <td>0.000053</td>\n      <td>0.000201</td>\n      <td>NaN</td>\n      <td>0.332211</td>\n    </tr>\n  </tbody>\n</table>\n</div>"
     },
     "execution_count": 10,
     "metadata": {},
     "output_type": "execute_result"
    }
   ],
   "source": [
    "luzern.merged_data.describe()"
   ],
   "metadata": {
    "collapsed": false,
    "ExecuteTime": {
     "end_time": "2023-12-18T06:20:24.252516300Z",
     "start_time": "2023-12-18T06:20:24.059899700Z"
    }
   },
   "id": "1ff96b5ea2126c0d"
  },
  {
   "cell_type": "code",
   "execution_count": 11,
   "outputs": [
    {
     "data": {
      "text/plain": "           interval          flow           occ      error  speed\ncount  2.687830e+07  2.687830e+07  2.687830e+07  9065941.0    0.0\nmean   4.330024e+04  7.112527e+02  2.862272e+00        1.0    NaN\nstd    2.494215e+04  6.728367e+03  5.246309e+01        0.0    NaN\nmin    1.800000e+02  0.000000e+00  0.000000e+00        1.0    NaN\n25%    2.178000e+04  4.000000e+01  5.000000e-03        1.0    NaN\n50%    4.338000e+04  1.800000e+02  3.500000e-02        1.0    NaN\n75%    6.498000e+04  3.800000e+02  8.000000e-02        1.0    NaN\nmax    8.640000e+04  9.999900e+04  9.999900e+02        1.0    NaN",
      "text/html": "<div>\n<style scoped>\n    .dataframe tbody tr th:only-of-type {\n        vertical-align: middle;\n    }\n\n    .dataframe tbody tr th {\n        vertical-align: top;\n    }\n\n    .dataframe thead th {\n        text-align: right;\n    }\n</style>\n<table border=\"1\" class=\"dataframe\">\n  <thead>\n    <tr style=\"text-align: right;\">\n      <th></th>\n      <th>interval</th>\n      <th>flow</th>\n      <th>occ</th>\n      <th>error</th>\n      <th>speed</th>\n    </tr>\n  </thead>\n  <tbody>\n    <tr>\n      <th>count</th>\n      <td>2.687830e+07</td>\n      <td>2.687830e+07</td>\n      <td>2.687830e+07</td>\n      <td>9065941.0</td>\n      <td>0.0</td>\n    </tr>\n    <tr>\n      <th>mean</th>\n      <td>4.330024e+04</td>\n      <td>7.112527e+02</td>\n      <td>2.862272e+00</td>\n      <td>1.0</td>\n      <td>NaN</td>\n    </tr>\n    <tr>\n      <th>std</th>\n      <td>2.494215e+04</td>\n      <td>6.728367e+03</td>\n      <td>5.246309e+01</td>\n      <td>0.0</td>\n      <td>NaN</td>\n    </tr>\n    <tr>\n      <th>min</th>\n      <td>1.800000e+02</td>\n      <td>0.000000e+00</td>\n      <td>0.000000e+00</td>\n      <td>1.0</td>\n      <td>NaN</td>\n    </tr>\n    <tr>\n      <th>25%</th>\n      <td>2.178000e+04</td>\n      <td>4.000000e+01</td>\n      <td>5.000000e-03</td>\n      <td>1.0</td>\n      <td>NaN</td>\n    </tr>\n    <tr>\n      <th>50%</th>\n      <td>4.338000e+04</td>\n      <td>1.800000e+02</td>\n      <td>3.500000e-02</td>\n      <td>1.0</td>\n      <td>NaN</td>\n    </tr>\n    <tr>\n      <th>75%</th>\n      <td>6.498000e+04</td>\n      <td>3.800000e+02</td>\n      <td>8.000000e-02</td>\n      <td>1.0</td>\n      <td>NaN</td>\n    </tr>\n    <tr>\n      <th>max</th>\n      <td>8.640000e+04</td>\n      <td>9.999900e+04</td>\n      <td>9.999900e+02</td>\n      <td>1.0</td>\n      <td>NaN</td>\n    </tr>\n  </tbody>\n</table>\n</div>"
     },
     "execution_count": 11,
     "metadata": {},
     "output_type": "execute_result"
    }
   ],
   "source": [
    "luzern.data.describe()"
   ],
   "metadata": {
    "collapsed": false,
    "ExecuteTime": {
     "end_time": "2023-12-18T06:20:56.511010400Z",
     "start_time": "2023-12-18T06:20:49.708506300Z"
    }
   },
   "id": "f55bbf72784825b"
  },
  {
   "cell_type": "code",
   "execution_count": 46,
   "outputs": [],
   "source": [
    "luzern.train_data, luzern.val_data, luzern.test_data = luzern._split_scale(luzern.merged_data, train_size=0.8,\n",
    "                                                                           val_size=0.1, test_size=0.1)"
   ],
   "metadata": {
    "collapsed": false,
    "ExecuteTime": {
     "end_time": "2023-12-17T18:50:13.978537600Z",
     "start_time": "2023-12-17T18:50:13.838066300Z"
    }
   },
   "id": "f4433c286c664272"
  },
  {
   "cell_type": "code",
   "execution_count": 47,
   "outputs": [
    {
     "data": {
      "text/plain": "            day  interval   flow       occ   density         speed  rainfall\n767  2015-02-01   84690.0   89.0  0.000009  0.000033  2.678324e+06     0.000\n486  2015-01-21   23490.0  666.0  0.000109  0.000414  1.608899e+06     0.000\n48   2015-01-03    1890.0  134.0  0.000015  0.000058  2.313748e+06     0.000\n155  2015-01-07   41490.0  715.0  0.000116  0.000441  1.623040e+06     0.000\n584  2015-01-25   30690.0  148.0  0.000025  0.000096  1.543410e+06     0.495\n...         ...       ...    ...       ...       ...           ...       ...\n1095 2015-02-15   55890.0  515.0  0.000077  0.000291  1.772666e+06     0.000\n1130 2015-02-17    9090.0   63.0  0.000006  0.000023  2.764843e+06     0.000\n1294 2015-02-23   81090.0  278.0  0.000038  0.000145  1.913791e+06     0.174\n860  2015-02-05   73890.0  394.0  0.000061  0.000230  1.714834e+06     0.000\n1126 2015-02-16   81090.0  207.0  0.000028  0.000107  1.929448e+06     0.000\n\n[1132 rows x 7 columns]",
      "text/html": "<div>\n<style scoped>\n    .dataframe tbody tr th:only-of-type {\n        vertical-align: middle;\n    }\n\n    .dataframe tbody tr th {\n        vertical-align: top;\n    }\n\n    .dataframe thead th {\n        text-align: right;\n    }\n</style>\n<table border=\"1\" class=\"dataframe\">\n  <thead>\n    <tr style=\"text-align: right;\">\n      <th></th>\n      <th>day</th>\n      <th>interval</th>\n      <th>flow</th>\n      <th>occ</th>\n      <th>density</th>\n      <th>speed</th>\n      <th>rainfall</th>\n    </tr>\n  </thead>\n  <tbody>\n    <tr>\n      <th>767</th>\n      <td>2015-02-01</td>\n      <td>84690.0</td>\n      <td>89.0</td>\n      <td>0.000009</td>\n      <td>0.000033</td>\n      <td>2.678324e+06</td>\n      <td>0.000</td>\n    </tr>\n    <tr>\n      <th>486</th>\n      <td>2015-01-21</td>\n      <td>23490.0</td>\n      <td>666.0</td>\n      <td>0.000109</td>\n      <td>0.000414</td>\n      <td>1.608899e+06</td>\n      <td>0.000</td>\n    </tr>\n    <tr>\n      <th>48</th>\n      <td>2015-01-03</td>\n      <td>1890.0</td>\n      <td>134.0</td>\n      <td>0.000015</td>\n      <td>0.000058</td>\n      <td>2.313748e+06</td>\n      <td>0.000</td>\n    </tr>\n    <tr>\n      <th>155</th>\n      <td>2015-01-07</td>\n      <td>41490.0</td>\n      <td>715.0</td>\n      <td>0.000116</td>\n      <td>0.000441</td>\n      <td>1.623040e+06</td>\n      <td>0.000</td>\n    </tr>\n    <tr>\n      <th>584</th>\n      <td>2015-01-25</td>\n      <td>30690.0</td>\n      <td>148.0</td>\n      <td>0.000025</td>\n      <td>0.000096</td>\n      <td>1.543410e+06</td>\n      <td>0.495</td>\n    </tr>\n    <tr>\n      <th>...</th>\n      <td>...</td>\n      <td>...</td>\n      <td>...</td>\n      <td>...</td>\n      <td>...</td>\n      <td>...</td>\n      <td>...</td>\n    </tr>\n    <tr>\n      <th>1095</th>\n      <td>2015-02-15</td>\n      <td>55890.0</td>\n      <td>515.0</td>\n      <td>0.000077</td>\n      <td>0.000291</td>\n      <td>1.772666e+06</td>\n      <td>0.000</td>\n    </tr>\n    <tr>\n      <th>1130</th>\n      <td>2015-02-17</td>\n      <td>9090.0</td>\n      <td>63.0</td>\n      <td>0.000006</td>\n      <td>0.000023</td>\n      <td>2.764843e+06</td>\n      <td>0.000</td>\n    </tr>\n    <tr>\n      <th>1294</th>\n      <td>2015-02-23</td>\n      <td>81090.0</td>\n      <td>278.0</td>\n      <td>0.000038</td>\n      <td>0.000145</td>\n      <td>1.913791e+06</td>\n      <td>0.174</td>\n    </tr>\n    <tr>\n      <th>860</th>\n      <td>2015-02-05</td>\n      <td>73890.0</td>\n      <td>394.0</td>\n      <td>0.000061</td>\n      <td>0.000230</td>\n      <td>1.714834e+06</td>\n      <td>0.000</td>\n    </tr>\n    <tr>\n      <th>1126</th>\n      <td>2015-02-16</td>\n      <td>81090.0</td>\n      <td>207.0</td>\n      <td>0.000028</td>\n      <td>0.000107</td>\n      <td>1.929448e+06</td>\n      <td>0.000</td>\n    </tr>\n  </tbody>\n</table>\n<p>1132 rows × 7 columns</p>\n</div>"
     },
     "execution_count": 47,
     "metadata": {},
     "output_type": "execute_result"
    }
   ],
   "source": [
    "luzern.train_data"
   ],
   "metadata": {
    "collapsed": false,
    "ExecuteTime": {
     "end_time": "2023-12-17T18:50:15.163397800Z",
     "start_time": "2023-12-17T18:50:15.086092800Z"
    }
   },
   "id": "80d22588640af9ea"
  },
  {
   "cell_type": "code",
   "execution_count": 49,
   "outputs": [],
   "source": [
    "luzern._save()"
   ],
   "metadata": {
    "collapsed": false,
    "ExecuteTime": {
     "end_time": "2023-12-17T18:50:36.875560700Z",
     "start_time": "2023-12-17T18:50:36.799091800Z"
    }
   },
   "id": "ee0909d7c6f2d5f1"
  },
  {
   "cell_type": "code",
   "execution_count": 15,
   "outputs": [
    {
     "data": {
      "text/plain": "            occ   flow  speed\n0         0.005   60.0    NaN\n1         0.000   20.0    NaN\n2         0.010  100.0    NaN\n3         0.025  200.0    NaN\n4         0.015  120.0    NaN\n...         ...    ...    ...\n26878292  0.005   60.0    NaN\n26878293  0.025  160.0    NaN\n26878294  0.005   20.0    NaN\n26878295  0.020  100.0    NaN\n26878296  0.005   40.0    NaN\n\n[26878297 rows x 3 columns]",
      "text/html": "<div>\n<style scoped>\n    .dataframe tbody tr th:only-of-type {\n        vertical-align: middle;\n    }\n\n    .dataframe tbody tr th {\n        vertical-align: top;\n    }\n\n    .dataframe thead th {\n        text-align: right;\n    }\n</style>\n<table border=\"1\" class=\"dataframe\">\n  <thead>\n    <tr style=\"text-align: right;\">\n      <th></th>\n      <th>occ</th>\n      <th>flow</th>\n      <th>speed</th>\n    </tr>\n  </thead>\n  <tbody>\n    <tr>\n      <th>0</th>\n      <td>0.005</td>\n      <td>60.0</td>\n      <td>NaN</td>\n    </tr>\n    <tr>\n      <th>1</th>\n      <td>0.000</td>\n      <td>20.0</td>\n      <td>NaN</td>\n    </tr>\n    <tr>\n      <th>2</th>\n      <td>0.010</td>\n      <td>100.0</td>\n      <td>NaN</td>\n    </tr>\n    <tr>\n      <th>3</th>\n      <td>0.025</td>\n      <td>200.0</td>\n      <td>NaN</td>\n    </tr>\n    <tr>\n      <th>4</th>\n      <td>0.015</td>\n      <td>120.0</td>\n      <td>NaN</td>\n    </tr>\n    <tr>\n      <th>...</th>\n      <td>...</td>\n      <td>...</td>\n      <td>...</td>\n    </tr>\n    <tr>\n      <th>26878292</th>\n      <td>0.005</td>\n      <td>60.0</td>\n      <td>NaN</td>\n    </tr>\n    <tr>\n      <th>26878293</th>\n      <td>0.025</td>\n      <td>160.0</td>\n      <td>NaN</td>\n    </tr>\n    <tr>\n      <th>26878294</th>\n      <td>0.005</td>\n      <td>20.0</td>\n      <td>NaN</td>\n    </tr>\n    <tr>\n      <th>26878295</th>\n      <td>0.020</td>\n      <td>100.0</td>\n      <td>NaN</td>\n    </tr>\n    <tr>\n      <th>26878296</th>\n      <td>0.005</td>\n      <td>40.0</td>\n      <td>NaN</td>\n    </tr>\n  </tbody>\n</table>\n<p>26878297 rows × 3 columns</p>\n</div>"
     },
     "execution_count": 15,
     "metadata": {},
     "output_type": "execute_result"
    }
   ],
   "source": [
    "df = luzern.data[[\"occ\", \"flow\", \"speed\"]].copy()\n",
    "df"
   ],
   "metadata": {
    "collapsed": false,
    "ExecuteTime": {
     "end_time": "2023-12-18T06:38:51.475127400Z",
     "start_time": "2023-12-18T06:38:50.094176200Z"
    }
   },
   "id": "bd1db8fbc0d46fe2"
  },
  {
   "cell_type": "code",
   "execution_count": 17,
   "outputs": [],
   "source": [
    "def calc(ratio):\n",
    "    if ratio <= 0.6:\n",
    "        return 'A'\n",
    "    elif 0.6 < ratio <= 0.7:\n",
    "        return 'B'\n",
    "    elif 0.7 <= ratio < 0.8:\n",
    "        return 'C'\n",
    "    elif 0.8 <= ratio < 0.9:\n",
    "        return 'D'\n",
    "    elif 0.9 <= ratio < 1:\n",
    "        return 'E'\n",
    "    else:\n",
    "        return 'F'\n",
    "    \n",
    "df['ratio'] = df['flow']/df['occ']\n",
    "df['LOS'] = df['ratio'].apply(calc)"
   ],
   "metadata": {
    "collapsed": false,
    "ExecuteTime": {
     "end_time": "2023-12-18T06:39:22.514577800Z",
     "start_time": "2023-12-18T06:39:15.871011900Z"
    }
   },
   "id": "8a40d099eb2f6a7d"
  },
  {
   "cell_type": "code",
   "execution_count": 18,
   "outputs": [
    {
     "data": {
      "text/plain": "            occ   flow  speed    ratio LOS\n0         0.005   60.0    NaN  12000.0   F\n1         0.000   20.0    NaN      inf   F\n2         0.010  100.0    NaN  10000.0   F\n3         0.025  200.0    NaN   8000.0   F\n4         0.015  120.0    NaN   8000.0   F\n...         ...    ...    ...      ...  ..\n26878292  0.005   60.0    NaN  12000.0   F\n26878293  0.025  160.0    NaN   6400.0   F\n26878294  0.005   20.0    NaN   4000.0   F\n26878295  0.020  100.0    NaN   5000.0   F\n26878296  0.005   40.0    NaN   8000.0   F\n\n[26878297 rows x 5 columns]",
      "text/html": "<div>\n<style scoped>\n    .dataframe tbody tr th:only-of-type {\n        vertical-align: middle;\n    }\n\n    .dataframe tbody tr th {\n        vertical-align: top;\n    }\n\n    .dataframe thead th {\n        text-align: right;\n    }\n</style>\n<table border=\"1\" class=\"dataframe\">\n  <thead>\n    <tr style=\"text-align: right;\">\n      <th></th>\n      <th>occ</th>\n      <th>flow</th>\n      <th>speed</th>\n      <th>ratio</th>\n      <th>LOS</th>\n    </tr>\n  </thead>\n  <tbody>\n    <tr>\n      <th>0</th>\n      <td>0.005</td>\n      <td>60.0</td>\n      <td>NaN</td>\n      <td>12000.0</td>\n      <td>F</td>\n    </tr>\n    <tr>\n      <th>1</th>\n      <td>0.000</td>\n      <td>20.0</td>\n      <td>NaN</td>\n      <td>inf</td>\n      <td>F</td>\n    </tr>\n    <tr>\n      <th>2</th>\n      <td>0.010</td>\n      <td>100.0</td>\n      <td>NaN</td>\n      <td>10000.0</td>\n      <td>F</td>\n    </tr>\n    <tr>\n      <th>3</th>\n      <td>0.025</td>\n      <td>200.0</td>\n      <td>NaN</td>\n      <td>8000.0</td>\n      <td>F</td>\n    </tr>\n    <tr>\n      <th>4</th>\n      <td>0.015</td>\n      <td>120.0</td>\n      <td>NaN</td>\n      <td>8000.0</td>\n      <td>F</td>\n    </tr>\n    <tr>\n      <th>...</th>\n      <td>...</td>\n      <td>...</td>\n      <td>...</td>\n      <td>...</td>\n      <td>...</td>\n    </tr>\n    <tr>\n      <th>26878292</th>\n      <td>0.005</td>\n      <td>60.0</td>\n      <td>NaN</td>\n      <td>12000.0</td>\n      <td>F</td>\n    </tr>\n    <tr>\n      <th>26878293</th>\n      <td>0.025</td>\n      <td>160.0</td>\n      <td>NaN</td>\n      <td>6400.0</td>\n      <td>F</td>\n    </tr>\n    <tr>\n      <th>26878294</th>\n      <td>0.005</td>\n      <td>20.0</td>\n      <td>NaN</td>\n      <td>4000.0</td>\n      <td>F</td>\n    </tr>\n    <tr>\n      <th>26878295</th>\n      <td>0.020</td>\n      <td>100.0</td>\n      <td>NaN</td>\n      <td>5000.0</td>\n      <td>F</td>\n    </tr>\n    <tr>\n      <th>26878296</th>\n      <td>0.005</td>\n      <td>40.0</td>\n      <td>NaN</td>\n      <td>8000.0</td>\n      <td>F</td>\n    </tr>\n  </tbody>\n</table>\n<p>26878297 rows × 5 columns</p>\n</div>"
     },
     "execution_count": 18,
     "metadata": {},
     "output_type": "execute_result"
    }
   ],
   "source": [
    "df"
   ],
   "metadata": {
    "collapsed": false,
    "ExecuteTime": {
     "end_time": "2023-12-18T06:39:26.697072800Z",
     "start_time": "2023-12-18T06:39:26.592203600Z"
    }
   },
   "id": "e2087f65ea6934e5"
  },
  {
   "cell_type": "code",
   "execution_count": 20,
   "outputs": [
    {
     "data": {
      "text/plain": "  0%|          | 0/26878297 [00:00<?, ?it/s]",
      "application/vnd.jupyter.widget-view+json": {
       "version_major": 2,
       "version_minor": 0,
       "model_id": "9f3eeac85d34464cb0db0c86790f6be9"
      }
     },
     "metadata": {},
     "output_type": "display_data"
    },
    {
     "name": "stderr",
     "output_type": "stream",
     "text": [
      "C:\\Users\\keipj\\AppData\\Local\\Temp\\ipykernel_16864\\1401304059.py:17: SettingWithCopyWarning: \n",
      "A value is trying to be set on a copy of a slice from a DataFrame\n",
      "\n",
      "See the caveats in the documentation: https://pandas.pydata.org/pandas-docs/stable/user_guide/indexing.html#returning-a-view-versus-a-copy\n",
      "  df['LOS'][i] = 'F'\n",
      "C:\\Users\\keipj\\AppData\\Local\\Temp\\ipykernel_16864\\1401304059.py:5: RuntimeWarning: divide by zero encountered in scalar divide\n",
      "  ratio = df['flow'][i]/df['occ'][i]\n",
      "C:\\Users\\keipj\\AppData\\Local\\Temp\\ipykernel_16864\\1401304059.py:5: RuntimeWarning: invalid value encountered in scalar divide\n",
      "  ratio = df['flow'][i]/df['occ'][i]\n"
     ]
    },
    {
     "ename": "KeyboardInterrupt",
     "evalue": "",
     "output_type": "error",
     "traceback": [
      "\u001B[1;31m---------------------------------------------------------------------------\u001B[0m",
      "\u001B[1;31mKeyboardInterrupt\u001B[0m                         Traceback (most recent call last)",
      "Cell \u001B[1;32mIn[20], line 19\u001B[0m\n\u001B[0;32m     16\u001B[0m         \u001B[38;5;28;01melse\u001B[39;00m:\n\u001B[0;32m     17\u001B[0m             df[\u001B[38;5;124m'\u001B[39m\u001B[38;5;124mLOS\u001B[39m\u001B[38;5;124m'\u001B[39m][i] \u001B[38;5;241m=\u001B[39m \u001B[38;5;124m'\u001B[39m\u001B[38;5;124mF\u001B[39m\u001B[38;5;124m'\u001B[39m\n\u001B[1;32m---> 19\u001B[0m \u001B[43mcalc_LOS\u001B[49m\u001B[43m(\u001B[49m\u001B[43mdf\u001B[49m\u001B[43m)\u001B[49m\n",
      "Cell \u001B[1;32mIn[20], line 5\u001B[0m, in \u001B[0;36mcalc_LOS\u001B[1;34m(df)\u001B[0m\n\u001B[0;32m      3\u001B[0m df[\u001B[38;5;124m'\u001B[39m\u001B[38;5;124mLOS\u001B[39m\u001B[38;5;124m'\u001B[39m] \u001B[38;5;241m=\u001B[39m \u001B[38;5;241m0\u001B[39m\n\u001B[0;32m      4\u001B[0m \u001B[38;5;28;01mfor\u001B[39;00m i \u001B[38;5;129;01min\u001B[39;00m tqdm(\u001B[38;5;28mrange\u001B[39m(Length)):\n\u001B[1;32m----> 5\u001B[0m     ratio \u001B[38;5;241m=\u001B[39m \u001B[43mdf\u001B[49m\u001B[43m[\u001B[49m\u001B[38;5;124;43m'\u001B[39;49m\u001B[38;5;124;43mflow\u001B[39;49m\u001B[38;5;124;43m'\u001B[39;49m\u001B[43m]\u001B[49m\u001B[43m[\u001B[49m\u001B[43mi\u001B[49m\u001B[43m]\u001B[49m\u001B[38;5;241m/\u001B[39mdf[\u001B[38;5;124m'\u001B[39m\u001B[38;5;124mocc\u001B[39m\u001B[38;5;124m'\u001B[39m][i]\n\u001B[0;32m      6\u001B[0m     \u001B[38;5;28;01mif\u001B[39;00m ratio \u001B[38;5;241m<\u001B[39m\u001B[38;5;241m=\u001B[39m \u001B[38;5;241m0.6\u001B[39m:\n\u001B[0;32m      7\u001B[0m         df[\u001B[38;5;124m'\u001B[39m\u001B[38;5;124mLOS\u001B[39m\u001B[38;5;124m'\u001B[39m][i] \u001B[38;5;241m=\u001B[39m \u001B[38;5;124m'\u001B[39m\u001B[38;5;124mA\u001B[39m\u001B[38;5;124m'\u001B[39m\n",
      "File \u001B[1;32mC:\\All Python Projects\\Interpreters\\in_Machine_Learning\\Lib\\site-packages\\pandas\\core\\series.py:1007\u001B[0m, in \u001B[0;36mSeries.__getitem__\u001B[1;34m(self, key)\u001B[0m\n\u001B[0;32m   1004\u001B[0m     \u001B[38;5;28;01mreturn\u001B[39;00m \u001B[38;5;28mself\u001B[39m\u001B[38;5;241m.\u001B[39m_values[key]\n\u001B[0;32m   1006\u001B[0m \u001B[38;5;28;01melif\u001B[39;00m key_is_scalar:\n\u001B[1;32m-> 1007\u001B[0m     \u001B[38;5;28;01mreturn\u001B[39;00m \u001B[38;5;28;43mself\u001B[39;49m\u001B[38;5;241;43m.\u001B[39;49m\u001B[43m_get_value\u001B[49m\u001B[43m(\u001B[49m\u001B[43mkey\u001B[49m\u001B[43m)\u001B[49m\n\u001B[0;32m   1009\u001B[0m \u001B[38;5;28;01mif\u001B[39;00m is_hashable(key):\n\u001B[0;32m   1010\u001B[0m     \u001B[38;5;66;03m# Otherwise index.get_value will raise InvalidIndexError\u001B[39;00m\n\u001B[0;32m   1011\u001B[0m     \u001B[38;5;28;01mtry\u001B[39;00m:\n\u001B[0;32m   1012\u001B[0m         \u001B[38;5;66;03m# For labels that don't resolve as scalars like tuples and frozensets\u001B[39;00m\n",
      "File \u001B[1;32mC:\\All Python Projects\\Interpreters\\in_Machine_Learning\\Lib\\site-packages\\pandas\\core\\series.py:1116\u001B[0m, in \u001B[0;36mSeries._get_value\u001B[1;34m(self, label, takeable)\u001B[0m\n\u001B[0;32m   1113\u001B[0m     \u001B[38;5;28;01mreturn\u001B[39;00m \u001B[38;5;28mself\u001B[39m\u001B[38;5;241m.\u001B[39m_values[label]\n\u001B[0;32m   1115\u001B[0m \u001B[38;5;66;03m# Similar to Index.get_value, but we do not fall back to positional\u001B[39;00m\n\u001B[1;32m-> 1116\u001B[0m loc \u001B[38;5;241m=\u001B[39m \u001B[38;5;28;43mself\u001B[39;49m\u001B[38;5;241;43m.\u001B[39;49m\u001B[43mindex\u001B[49m\u001B[38;5;241;43m.\u001B[39;49m\u001B[43mget_loc\u001B[49m\u001B[43m(\u001B[49m\u001B[43mlabel\u001B[49m\u001B[43m)\u001B[49m\n\u001B[0;32m   1118\u001B[0m \u001B[38;5;28;01mif\u001B[39;00m is_integer(loc):\n\u001B[0;32m   1119\u001B[0m     \u001B[38;5;28;01mreturn\u001B[39;00m \u001B[38;5;28mself\u001B[39m\u001B[38;5;241m.\u001B[39m_values[loc]\n",
      "File \u001B[1;32mC:\\All Python Projects\\Interpreters\\in_Machine_Learning\\Lib\\site-packages\\pandas\\core\\indexes\\range.py:340\u001B[0m, in \u001B[0;36mRangeIndex.get_loc\u001B[1;34m(self, key)\u001B[0m\n\u001B[0;32m    335\u001B[0m     \u001B[38;5;28;01mreturn\u001B[39;00m \u001B[38;5;124m\"\u001B[39m\u001B[38;5;124minteger\u001B[39m\u001B[38;5;124m\"\u001B[39m\n\u001B[0;32m    337\u001B[0m \u001B[38;5;66;03m# --------------------------------------------------------------------\u001B[39;00m\n\u001B[0;32m    338\u001B[0m \u001B[38;5;66;03m# Indexing Methods\u001B[39;00m\n\u001B[1;32m--> 340\u001B[0m \u001B[38;5;129m@doc\u001B[39m(Index\u001B[38;5;241m.\u001B[39mget_loc)\n\u001B[0;32m    341\u001B[0m \u001B[38;5;28;01mdef\u001B[39;00m \u001B[38;5;21mget_loc\u001B[39m(\u001B[38;5;28mself\u001B[39m, key):\n\u001B[0;32m    342\u001B[0m     \u001B[38;5;28;01mif\u001B[39;00m is_integer(key) \u001B[38;5;129;01mor\u001B[39;00m (is_float(key) \u001B[38;5;129;01mand\u001B[39;00m key\u001B[38;5;241m.\u001B[39mis_integer()):\n\u001B[0;32m    343\u001B[0m         new_key \u001B[38;5;241m=\u001B[39m \u001B[38;5;28mint\u001B[39m(key)\n",
      "\u001B[1;31mKeyboardInterrupt\u001B[0m: "
     ]
    }
   ],
   "source": [
    "def calc_LOS(df):\n",
    "    Length = len(df['flow'])\n",
    "    df['LOS'] = 0\n",
    "    for i in tqdm(range(Length)):\n",
    "        ratio = df['flow'][i]/df['occ'][i]\n",
    "        if ratio <= 0.6:\n",
    "            df['LOS'][i] = 'A'\n",
    "        elif 0.6 < ratio <= 0.7:\n",
    "            df['LOS'][i] = 'B'\n",
    "        elif 0.7 <= ratio < 0.8:\n",
    "            df['LOS'][i] = 'C'\n",
    "        elif 0.8 <= ratio < 0.9:\n",
    "            df['LOS'][i] = 'D'\n",
    "        elif 0.9 <= ratio < 1:\n",
    "            df['LOS'][i] = 'E'\n",
    "        else:\n",
    "            df['LOS'][i] = 'F'\n",
    "            \n",
    "calc_LOS(df)"
   ],
   "metadata": {
    "collapsed": false,
    "ExecuteTime": {
     "end_time": "2023-12-18T06:42:12.456243300Z",
     "start_time": "2023-12-18T06:41:52.040124100Z"
    }
   },
   "id": "b2de398b1c4c87be"
  },
  {
   "cell_type": "code",
   "execution_count": null,
   "outputs": [],
   "source": [],
   "metadata": {
    "collapsed": false
   },
   "id": "e3b2844bf6339d42"
  }
 ],
 "metadata": {
  "kernelspec": {
   "display_name": "Python 3",
   "language": "python",
   "name": "python3"
  },
  "language_info": {
   "codemirror_mode": {
    "name": "ipython",
    "version": 2
   },
   "file_extension": ".py",
   "mimetype": "text/x-python",
   "name": "python",
   "nbconvert_exporter": "python",
   "pygments_lexer": "ipython2",
   "version": "2.7.6"
  }
 },
 "nbformat": 4,
 "nbformat_minor": 5
}
