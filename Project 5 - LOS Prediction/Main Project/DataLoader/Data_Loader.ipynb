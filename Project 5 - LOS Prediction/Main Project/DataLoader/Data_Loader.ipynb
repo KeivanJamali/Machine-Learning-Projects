{
 "cells": [
  {
   "cell_type": "code",
   "execution_count": 1,
   "id": "initial_id",
   "metadata": {
    "collapsed": true,
    "ExecuteTime": {
     "end_time": "2023-12-24T15:49:53.746311700Z",
     "start_time": "2023-12-24T15:49:53.687750700Z"
    }
   },
   "outputs": [],
   "source": [
    "%load_ext autoreload\n",
    "%autoreload 2"
   ]
  },
  {
   "cell_type": "code",
   "execution_count": 2,
   "id": "c3bf5bcbffe897a0",
   "metadata": {
    "collapsed": false,
    "ExecuteTime": {
     "end_time": "2023-12-24T15:49:54.702331800Z",
     "start_time": "2023-12-24T15:49:53.728300900Z"
    }
   },
   "outputs": [],
   "source": [
    "import numpy as np\n",
    "import pandas as pd\n",
    "from pathlib import Path"
   ]
  },
  {
   "cell_type": "code",
   "execution_count": 3,
   "id": "ca8afcd405eecca2",
   "metadata": {
    "collapsed": false,
    "ExecuteTime": {
     "end_time": "2023-12-24T16:08:16.048187500Z",
     "start_time": "2023-12-24T15:49:54.704365900Z"
    }
   },
   "outputs": [],
   "source": [
    "raw_data_folder_path = Path(\"D:\\All Python\\All_Big_raw_Data\\LOS prediction\\Traffic Dataset\")\n",
    "data_UTD19 = pd.read_csv(raw_data_folder_path / \"utd19_u.csv\", low_memory=False)\n",
    "data_links = pd.read_csv(raw_data_folder_path / \"links.csv\")\n",
    "data_detectors = pd.read_csv(raw_data_folder_path / \"detectors.csv\")"
   ]
  },
  {
   "cell_type": "code",
   "execution_count": 7,
   "id": "6af532436efa7ba2",
   "metadata": {
    "collapsed": false,
    "ExecuteTime": {
     "end_time": "2023-12-24T16:12:01.285833500Z",
     "start_time": "2023-12-24T16:12:00.548482500Z"
    }
   },
   "outputs": [
    {
     "data": {
      "text/plain": "        name                                           datetime  temp  \\\n0     luzern  2015-01-01 00:00:002015-01-01 00:00:002015-01-...  -3.4   \n1     luzern  2015-01-01 01:00:002015-01-01 01:00:002015-01-...  -3.4   \n2     luzern  2015-01-01 02:00:002015-01-01 02:00:002015-01-...  -3.3   \n3     luzern  2015-01-01 03:00:002015-01-01 03:00:002015-01-...  -3.6   \n4     luzern  2015-01-01 04:00:002015-01-01 04:00:002015-01-...  -3.1   \n...      ...                                                ...   ...   \n8755  Luzern  2015-12-31 19:00:002015-12-31 19:00:002015-12-...   4.4   \n8756  Luzern  2015-12-31 20:00:002015-12-31 20:00:002015-12-...   4.5   \n8757  Luzern  2015-12-31 21:00:002015-12-31 21:00:002015-12-...   4.4   \n8758  Luzern  2015-12-31 22:00:002015-12-31 22:00:002015-12-...   4.5   \n8759  Luzern  2015-12-31 23:00:002015-12-31 23:00:002015-12-...   4.4   \n\n      feelslike  dew  humidity  rainfall  precipprob preciptype  snow  ...  \\\n0          -6.0 -4.8     90.04     0.000           0        NaN   0.0  ...   \n1          -6.7 -4.8     90.06     0.000           0        NaN   0.0  ...   \n2          -3.3 -4.8     89.57     0.000           0        NaN   0.0  ...   \n3          -8.1 -5.0     90.60     0.000           0        NaN   0.0  ...   \n4          -5.1 -4.4     91.14     0.000           0        NaN   0.0  ...   \n...         ...  ...       ...       ...         ...        ...   ...  ...   \n8755        4.4  3.6     94.87     0.097         100       rain   0.0  ...   \n8756        4.5  3.9     95.51     0.111         100       rain   0.0  ...   \n8757        4.4  3.9     96.75     0.399         100       rain   0.0  ...   \n8758        4.5  3.9     95.49     0.396         100       rain   0.0  ...   \n8759        4.4  3.9     96.75     0.100         100       rain   0.0  ...   \n\n      solarradiation  solarenergy  uvindex  severerisk        conditions  \\\n0                0.0          0.0        0         NaN  Partially cloudy   \n1                0.0          0.0        0         NaN  Partially cloudy   \n2                0.0          0.0        0         NaN  Partially cloudy   \n3                0.0          0.0        0         NaN  Partially cloudy   \n4                0.0          0.0        0         NaN  Partially cloudy   \n...              ...          ...      ...         ...               ...   \n8755             0.0          0.0        0         NaN    Rain, Overcast   \n8756             0.0          0.0        0         NaN    Rain, Overcast   \n8757             0.0          0.0        0         NaN    Rain, Overcast   \n8758             0.0          0.0        0         NaN    Rain, Overcast   \n8759             0.0          0.0        0         NaN    Rain, Overcast   \n\n                     icon                                           stations  \\\n0     partly-cloudy-night  66,570,999,990,661,300,000,000,000,000,000,000...   \n1     partly-cloudy-night  66,570,999,990,661,300,000,000,000,000,000,000...   \n2     partly-cloudy-night  66,570,999,990,661,300,000,000,000,000,000,000...   \n3     partly-cloudy-night  66,570,999,990,661,300,000,000,000,000,000,000...   \n4     partly-cloudy-night  66,570,999,990,661,300,000,000,000,000,000,000...   \n...                   ...                                                ...   \n8755                 rain  06657099999,06650099999,06659099999,0667409999...   \n8756                 rain  06657099999,06650099999,06659099999,0667409999...   \n8757                 rain  06657099999,06650099999,06659099999,0667409999...   \n8758                 rain  06657099999,06650099999,06659099999,0667409999...   \n8759                 rain  06657099999,06650099999,06659099999,0667409999...   \n\n            day  rain_intensity  interval  \n0    2015-01-01     Slight rain       0.0  \n1    2015-01-01     Slight rain    3600.0  \n2    2015-01-01     Slight rain    7200.0  \n3    2015-01-01     Slight rain   10800.0  \n4    2015-01-01     Slight rain   14400.0  \n...         ...             ...       ...  \n8755 2015-12-31     Slight rain   68400.0  \n8756 2015-12-31     Slight rain   72000.0  \n8757 2015-12-31     Slight rain   75600.0  \n8758 2015-12-31     Slight rain   79200.0  \n8759 2015-12-31     Slight rain   82800.0  \n\n[8760 rows x 27 columns]",
      "text/html": "<div>\n<style scoped>\n    .dataframe tbody tr th:only-of-type {\n        vertical-align: middle;\n    }\n\n    .dataframe tbody tr th {\n        vertical-align: top;\n    }\n\n    .dataframe thead th {\n        text-align: right;\n    }\n</style>\n<table border=\"1\" class=\"dataframe\">\n  <thead>\n    <tr style=\"text-align: right;\">\n      <th></th>\n      <th>name</th>\n      <th>datetime</th>\n      <th>temp</th>\n      <th>feelslike</th>\n      <th>dew</th>\n      <th>humidity</th>\n      <th>rainfall</th>\n      <th>precipprob</th>\n      <th>preciptype</th>\n      <th>snow</th>\n      <th>...</th>\n      <th>solarradiation</th>\n      <th>solarenergy</th>\n      <th>uvindex</th>\n      <th>severerisk</th>\n      <th>conditions</th>\n      <th>icon</th>\n      <th>stations</th>\n      <th>day</th>\n      <th>rain_intensity</th>\n      <th>interval</th>\n    </tr>\n  </thead>\n  <tbody>\n    <tr>\n      <th>0</th>\n      <td>luzern</td>\n      <td>2015-01-01 00:00:002015-01-01 00:00:002015-01-...</td>\n      <td>-3.4</td>\n      <td>-6.0</td>\n      <td>-4.8</td>\n      <td>90.04</td>\n      <td>0.000</td>\n      <td>0</td>\n      <td>NaN</td>\n      <td>0.0</td>\n      <td>...</td>\n      <td>0.0</td>\n      <td>0.0</td>\n      <td>0</td>\n      <td>NaN</td>\n      <td>Partially cloudy</td>\n      <td>partly-cloudy-night</td>\n      <td>66,570,999,990,661,300,000,000,000,000,000,000...</td>\n      <td>2015-01-01</td>\n      <td>Slight rain</td>\n      <td>0.0</td>\n    </tr>\n    <tr>\n      <th>1</th>\n      <td>luzern</td>\n      <td>2015-01-01 01:00:002015-01-01 01:00:002015-01-...</td>\n      <td>-3.4</td>\n      <td>-6.7</td>\n      <td>-4.8</td>\n      <td>90.06</td>\n      <td>0.000</td>\n      <td>0</td>\n      <td>NaN</td>\n      <td>0.0</td>\n      <td>...</td>\n      <td>0.0</td>\n      <td>0.0</td>\n      <td>0</td>\n      <td>NaN</td>\n      <td>Partially cloudy</td>\n      <td>partly-cloudy-night</td>\n      <td>66,570,999,990,661,300,000,000,000,000,000,000...</td>\n      <td>2015-01-01</td>\n      <td>Slight rain</td>\n      <td>3600.0</td>\n    </tr>\n    <tr>\n      <th>2</th>\n      <td>luzern</td>\n      <td>2015-01-01 02:00:002015-01-01 02:00:002015-01-...</td>\n      <td>-3.3</td>\n      <td>-3.3</td>\n      <td>-4.8</td>\n      <td>89.57</td>\n      <td>0.000</td>\n      <td>0</td>\n      <td>NaN</td>\n      <td>0.0</td>\n      <td>...</td>\n      <td>0.0</td>\n      <td>0.0</td>\n      <td>0</td>\n      <td>NaN</td>\n      <td>Partially cloudy</td>\n      <td>partly-cloudy-night</td>\n      <td>66,570,999,990,661,300,000,000,000,000,000,000...</td>\n      <td>2015-01-01</td>\n      <td>Slight rain</td>\n      <td>7200.0</td>\n    </tr>\n    <tr>\n      <th>3</th>\n      <td>luzern</td>\n      <td>2015-01-01 03:00:002015-01-01 03:00:002015-01-...</td>\n      <td>-3.6</td>\n      <td>-8.1</td>\n      <td>-5.0</td>\n      <td>90.60</td>\n      <td>0.000</td>\n      <td>0</td>\n      <td>NaN</td>\n      <td>0.0</td>\n      <td>...</td>\n      <td>0.0</td>\n      <td>0.0</td>\n      <td>0</td>\n      <td>NaN</td>\n      <td>Partially cloudy</td>\n      <td>partly-cloudy-night</td>\n      <td>66,570,999,990,661,300,000,000,000,000,000,000...</td>\n      <td>2015-01-01</td>\n      <td>Slight rain</td>\n      <td>10800.0</td>\n    </tr>\n    <tr>\n      <th>4</th>\n      <td>luzern</td>\n      <td>2015-01-01 04:00:002015-01-01 04:00:002015-01-...</td>\n      <td>-3.1</td>\n      <td>-5.1</td>\n      <td>-4.4</td>\n      <td>91.14</td>\n      <td>0.000</td>\n      <td>0</td>\n      <td>NaN</td>\n      <td>0.0</td>\n      <td>...</td>\n      <td>0.0</td>\n      <td>0.0</td>\n      <td>0</td>\n      <td>NaN</td>\n      <td>Partially cloudy</td>\n      <td>partly-cloudy-night</td>\n      <td>66,570,999,990,661,300,000,000,000,000,000,000...</td>\n      <td>2015-01-01</td>\n      <td>Slight rain</td>\n      <td>14400.0</td>\n    </tr>\n    <tr>\n      <th>...</th>\n      <td>...</td>\n      <td>...</td>\n      <td>...</td>\n      <td>...</td>\n      <td>...</td>\n      <td>...</td>\n      <td>...</td>\n      <td>...</td>\n      <td>...</td>\n      <td>...</td>\n      <td>...</td>\n      <td>...</td>\n      <td>...</td>\n      <td>...</td>\n      <td>...</td>\n      <td>...</td>\n      <td>...</td>\n      <td>...</td>\n      <td>...</td>\n      <td>...</td>\n      <td>...</td>\n    </tr>\n    <tr>\n      <th>8755</th>\n      <td>Luzern</td>\n      <td>2015-12-31 19:00:002015-12-31 19:00:002015-12-...</td>\n      <td>4.4</td>\n      <td>4.4</td>\n      <td>3.6</td>\n      <td>94.87</td>\n      <td>0.097</td>\n      <td>100</td>\n      <td>rain</td>\n      <td>0.0</td>\n      <td>...</td>\n      <td>0.0</td>\n      <td>0.0</td>\n      <td>0</td>\n      <td>NaN</td>\n      <td>Rain, Overcast</td>\n      <td>rain</td>\n      <td>06657099999,06650099999,06659099999,0667409999...</td>\n      <td>2015-12-31</td>\n      <td>Slight rain</td>\n      <td>68400.0</td>\n    </tr>\n    <tr>\n      <th>8756</th>\n      <td>Luzern</td>\n      <td>2015-12-31 20:00:002015-12-31 20:00:002015-12-...</td>\n      <td>4.5</td>\n      <td>4.5</td>\n      <td>3.9</td>\n      <td>95.51</td>\n      <td>0.111</td>\n      <td>100</td>\n      <td>rain</td>\n      <td>0.0</td>\n      <td>...</td>\n      <td>0.0</td>\n      <td>0.0</td>\n      <td>0</td>\n      <td>NaN</td>\n      <td>Rain, Overcast</td>\n      <td>rain</td>\n      <td>06657099999,06650099999,06659099999,0667409999...</td>\n      <td>2015-12-31</td>\n      <td>Slight rain</td>\n      <td>72000.0</td>\n    </tr>\n    <tr>\n      <th>8757</th>\n      <td>Luzern</td>\n      <td>2015-12-31 21:00:002015-12-31 21:00:002015-12-...</td>\n      <td>4.4</td>\n      <td>4.4</td>\n      <td>3.9</td>\n      <td>96.75</td>\n      <td>0.399</td>\n      <td>100</td>\n      <td>rain</td>\n      <td>0.0</td>\n      <td>...</td>\n      <td>0.0</td>\n      <td>0.0</td>\n      <td>0</td>\n      <td>NaN</td>\n      <td>Rain, Overcast</td>\n      <td>rain</td>\n      <td>06657099999,06650099999,06659099999,0667409999...</td>\n      <td>2015-12-31</td>\n      <td>Slight rain</td>\n      <td>75600.0</td>\n    </tr>\n    <tr>\n      <th>8758</th>\n      <td>Luzern</td>\n      <td>2015-12-31 22:00:002015-12-31 22:00:002015-12-...</td>\n      <td>4.5</td>\n      <td>4.5</td>\n      <td>3.9</td>\n      <td>95.49</td>\n      <td>0.396</td>\n      <td>100</td>\n      <td>rain</td>\n      <td>0.0</td>\n      <td>...</td>\n      <td>0.0</td>\n      <td>0.0</td>\n      <td>0</td>\n      <td>NaN</td>\n      <td>Rain, Overcast</td>\n      <td>rain</td>\n      <td>06657099999,06650099999,06659099999,0667409999...</td>\n      <td>2015-12-31</td>\n      <td>Slight rain</td>\n      <td>79200.0</td>\n    </tr>\n    <tr>\n      <th>8759</th>\n      <td>Luzern</td>\n      <td>2015-12-31 23:00:002015-12-31 23:00:002015-12-...</td>\n      <td>4.4</td>\n      <td>4.4</td>\n      <td>3.9</td>\n      <td>96.75</td>\n      <td>0.100</td>\n      <td>100</td>\n      <td>rain</td>\n      <td>0.0</td>\n      <td>...</td>\n      <td>0.0</td>\n      <td>0.0</td>\n      <td>0</td>\n      <td>NaN</td>\n      <td>Rain, Overcast</td>\n      <td>rain</td>\n      <td>06657099999,06650099999,06659099999,0667409999...</td>\n      <td>2015-12-31</td>\n      <td>Slight rain</td>\n      <td>82800.0</td>\n    </tr>\n  </tbody>\n</table>\n<p>8760 rows × 27 columns</p>\n</div>"
     },
     "execution_count": 7,
     "metadata": {},
     "output_type": "execute_result"
    }
   ],
   "source": [
    "weather = pd.read_csv(\"D:\\All Python\\All_Big_raw_Data\\LOS prediction\\Environment Dataset/all_fields_weather.csv\")\n",
    "# weather = weather.iloc[:, [24, 26, 6]]\n",
    "weather.iloc[:,1] = weather.iloc[:,1]*3600\n",
    "weather.day = pd.to_datetime(weather.day)\n",
    "weather"
   ]
  },
  {
   "cell_type": "code",
   "execution_count": null,
   "id": "d5ab26a0ded4849d",
   "metadata": {
    "ExecuteTime": {
     "start_time": "2023-12-18T10:07:57.117917200Z"
    },
    "collapsed": false
   },
   "outputs": [],
   "source": [
    "data_UTD19.describe()"
   ]
  },
  {
   "cell_type": "code",
   "execution_count": 8,
   "id": "107294fa2f566ed2",
   "metadata": {
    "collapsed": false,
    "ExecuteTime": {
     "end_time": "2023-12-24T16:12:55.893944100Z",
     "start_time": "2023-12-24T16:12:20.218942700Z"
    }
   },
   "outputs": [],
   "source": [
    "import data_preparation\n",
    "dataloader = data_preparation.DataLoader_MultiCity(data=data_UTD19, detectors_data=data_detectors, weather_data=weather)  # london, luzern, hamburg"
   ]
  },
  {
   "cell_type": "code",
   "execution_count": 9,
   "id": "535cbcb3ede36ada",
   "metadata": {
    "collapsed": false,
    "ExecuteTime": {
     "end_time": "2023-12-24T16:13:25.218409500Z",
     "start_time": "2023-12-24T16:13:00.160324700Z"
    }
   },
   "outputs": [
    {
     "name": "stdout",
     "output_type": "stream",
     "text": [
      "[INFO] ['luzern'] was/were picked successfully.\n"
     ]
    }
   ],
   "source": [
    "luzern = dataloader.pick_city([\"luzern\"])"
   ]
  },
  {
   "cell_type": "code",
   "execution_count": 17,
   "id": "c43c74770ed76fe5",
   "metadata": {
    "collapsed": false,
    "ExecuteTime": {
     "end_time": "2023-12-24T17:21:24.554125500Z",
     "start_time": "2023-12-24T17:21:16.680290Z"
    }
   },
   "outputs": [
    {
     "name": "stdout",
     "output_type": "stream",
     "text": [
      "[INFO] data loaded successfully.\n",
      "[INFO] speed and density produced successfully.\n",
      "[INFO] Data #transformed# successfully.\n",
      "[INFO] Data merged with weather successfully.\n",
      "[INFO] LOS founded and added to data!\n",
      "[INFO] Split successful.\n",
      "[INFO] Saved successfully.\n"
     ]
    }
   ],
   "source": [
    "train_data, val_data, test_data = luzern.fit()"
   ]
  },
  {
   "cell_type": "code",
   "execution_count": 18,
   "id": "6874cccd609e1c6",
   "metadata": {
    "collapsed": false,
    "ExecuteTime": {
     "end_time": "2023-12-24T17:26:08.211713Z",
     "start_time": "2023-12-24T17:26:08.120026400Z"
    }
   },
   "outputs": [
    {
     "data": {
      "text/plain": "            flow       occ                date   density        speed  \\\n0     262.459893  0.045575 2015-01-01 00:00:00  0.173079  1516.417052   \n1     304.639569  0.046836 2015-01-01 01:00:00  0.177867  1712.737247   \n2     240.033234  0.034573 2015-01-01 02:00:00  0.131296  1828.181000   \n3     177.826457  0.023900 2015-01-01 03:00:00  0.090764  1959.219797   \n4     155.366376  0.020704 2015-01-01 04:00:00  0.078629  1975.945103   \n...          ...       ...                 ...       ...          ...   \n9019  190.475398  0.030405 2015-12-31 20:00:00  0.115469  1649.582355   \n9020  167.095349  0.025052 2015-12-31 21:00:00  0.095138  1756.340145   \n9021  213.527443  0.033442 2015-12-31 22:00:00  0.127004  1681.266398   \n9022  222.821848  0.035799 2015-12-31 23:00:00  0.135954  1638.953123   \n9023  153.033708  0.026798 2016-01-01 00:00:00  0.101769  1503.729915   \n\n      rainfall  visibility  windspeed  feelslike LOS  LOS_index  \n0        0.000         0.0        6.4       -6.0   A          0  \n1        0.000         0.0        8.0       -6.7   A          0  \n2        0.000         0.0        4.7       -3.3   A          0  \n3        0.000         1.0       11.6       -8.1   A          0  \n4        0.000         0.0        5.0       -5.1   A          0  \n...        ...         ...        ...        ...  ..        ...  \n9019     0.111         NaN        2.2        4.5   A          0  \n9020     0.399         NaN        2.1        4.4   A          0  \n9021     0.396         NaN        2.3        4.5   A          0  \n9022     0.100         NaN        2.3        4.4   A          0  \n9023       NaN         NaN        NaN        NaN   A          0  \n\n[9024 rows x 11 columns]",
      "text/html": "<div>\n<style scoped>\n    .dataframe tbody tr th:only-of-type {\n        vertical-align: middle;\n    }\n\n    .dataframe tbody tr th {\n        vertical-align: top;\n    }\n\n    .dataframe thead th {\n        text-align: right;\n    }\n</style>\n<table border=\"1\" class=\"dataframe\">\n  <thead>\n    <tr style=\"text-align: right;\">\n      <th></th>\n      <th>flow</th>\n      <th>occ</th>\n      <th>date</th>\n      <th>density</th>\n      <th>speed</th>\n      <th>rainfall</th>\n      <th>visibility</th>\n      <th>windspeed</th>\n      <th>feelslike</th>\n      <th>LOS</th>\n      <th>LOS_index</th>\n    </tr>\n  </thead>\n  <tbody>\n    <tr>\n      <th>0</th>\n      <td>262.459893</td>\n      <td>0.045575</td>\n      <td>2015-01-01 00:00:00</td>\n      <td>0.173079</td>\n      <td>1516.417052</td>\n      <td>0.000</td>\n      <td>0.0</td>\n      <td>6.4</td>\n      <td>-6.0</td>\n      <td>A</td>\n      <td>0</td>\n    </tr>\n    <tr>\n      <th>1</th>\n      <td>304.639569</td>\n      <td>0.046836</td>\n      <td>2015-01-01 01:00:00</td>\n      <td>0.177867</td>\n      <td>1712.737247</td>\n      <td>0.000</td>\n      <td>0.0</td>\n      <td>8.0</td>\n      <td>-6.7</td>\n      <td>A</td>\n      <td>0</td>\n    </tr>\n    <tr>\n      <th>2</th>\n      <td>240.033234</td>\n      <td>0.034573</td>\n      <td>2015-01-01 02:00:00</td>\n      <td>0.131296</td>\n      <td>1828.181000</td>\n      <td>0.000</td>\n      <td>0.0</td>\n      <td>4.7</td>\n      <td>-3.3</td>\n      <td>A</td>\n      <td>0</td>\n    </tr>\n    <tr>\n      <th>3</th>\n      <td>177.826457</td>\n      <td>0.023900</td>\n      <td>2015-01-01 03:00:00</td>\n      <td>0.090764</td>\n      <td>1959.219797</td>\n      <td>0.000</td>\n      <td>1.0</td>\n      <td>11.6</td>\n      <td>-8.1</td>\n      <td>A</td>\n      <td>0</td>\n    </tr>\n    <tr>\n      <th>4</th>\n      <td>155.366376</td>\n      <td>0.020704</td>\n      <td>2015-01-01 04:00:00</td>\n      <td>0.078629</td>\n      <td>1975.945103</td>\n      <td>0.000</td>\n      <td>0.0</td>\n      <td>5.0</td>\n      <td>-5.1</td>\n      <td>A</td>\n      <td>0</td>\n    </tr>\n    <tr>\n      <th>...</th>\n      <td>...</td>\n      <td>...</td>\n      <td>...</td>\n      <td>...</td>\n      <td>...</td>\n      <td>...</td>\n      <td>...</td>\n      <td>...</td>\n      <td>...</td>\n      <td>...</td>\n      <td>...</td>\n    </tr>\n    <tr>\n      <th>9019</th>\n      <td>190.475398</td>\n      <td>0.030405</td>\n      <td>2015-12-31 20:00:00</td>\n      <td>0.115469</td>\n      <td>1649.582355</td>\n      <td>0.111</td>\n      <td>NaN</td>\n      <td>2.2</td>\n      <td>4.5</td>\n      <td>A</td>\n      <td>0</td>\n    </tr>\n    <tr>\n      <th>9020</th>\n      <td>167.095349</td>\n      <td>0.025052</td>\n      <td>2015-12-31 21:00:00</td>\n      <td>0.095138</td>\n      <td>1756.340145</td>\n      <td>0.399</td>\n      <td>NaN</td>\n      <td>2.1</td>\n      <td>4.4</td>\n      <td>A</td>\n      <td>0</td>\n    </tr>\n    <tr>\n      <th>9021</th>\n      <td>213.527443</td>\n      <td>0.033442</td>\n      <td>2015-12-31 22:00:00</td>\n      <td>0.127004</td>\n      <td>1681.266398</td>\n      <td>0.396</td>\n      <td>NaN</td>\n      <td>2.3</td>\n      <td>4.5</td>\n      <td>A</td>\n      <td>0</td>\n    </tr>\n    <tr>\n      <th>9022</th>\n      <td>222.821848</td>\n      <td>0.035799</td>\n      <td>2015-12-31 23:00:00</td>\n      <td>0.135954</td>\n      <td>1638.953123</td>\n      <td>0.100</td>\n      <td>NaN</td>\n      <td>2.3</td>\n      <td>4.4</td>\n      <td>A</td>\n      <td>0</td>\n    </tr>\n    <tr>\n      <th>9023</th>\n      <td>153.033708</td>\n      <td>0.026798</td>\n      <td>2016-01-01 00:00:00</td>\n      <td>0.101769</td>\n      <td>1503.729915</td>\n      <td>NaN</td>\n      <td>NaN</td>\n      <td>NaN</td>\n      <td>NaN</td>\n      <td>A</td>\n      <td>0</td>\n    </tr>\n  </tbody>\n</table>\n<p>9024 rows × 11 columns</p>\n</div>"
     },
     "execution_count": 18,
     "metadata": {},
     "output_type": "execute_result"
    }
   ],
   "source": [
    "luzern.merged_data"
   ]
  },
  {
   "cell_type": "code",
   "execution_count": null,
   "id": "cde88edf9456f284",
   "metadata": {
    "collapsed": false
   },
   "outputs": [],
   "source": []
  }
 ],
 "metadata": {
  "kernelspec": {
   "display_name": "Python 3",
   "language": "python",
   "name": "python3"
  },
  "language_info": {
   "codemirror_mode": {
    "name": "ipython",
    "version": 3
   },
   "file_extension": ".py",
   "mimetype": "text/x-python",
   "name": "python",
   "nbconvert_exporter": "python",
   "pygments_lexer": "ipython3",
   "version": "3.11.5"
  }
 },
 "nbformat": 4,
 "nbformat_minor": 5
}
