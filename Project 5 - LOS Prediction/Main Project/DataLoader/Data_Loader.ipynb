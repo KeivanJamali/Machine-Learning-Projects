{
 "cells": [
  {
   "cell_type": "code",
   "execution_count": 1,
   "id": "initial_id",
   "metadata": {
    "collapsed": true,
    "ExecuteTime": {
     "end_time": "2023-12-19T16:12:04.311965Z",
     "start_time": "2023-12-19T16:12:04.250402600Z"
    }
   },
   "outputs": [],
   "source": [
    "%load_ext autoreload\n",
    "%autoreload 2"
   ]
  },
  {
   "cell_type": "code",
   "execution_count": 2,
   "outputs": [],
   "source": [
    "import numpy as np\n",
    "import pandas as pd\n",
    "from pathlib import Path"
   ],
   "metadata": {
    "collapsed": false,
    "ExecuteTime": {
     "end_time": "2023-12-19T16:12:05.450057400Z",
     "start_time": "2023-12-19T16:12:04.309461900Z"
    }
   },
   "id": "c3bf5bcbffe897a0"
  },
  {
   "cell_type": "code",
   "execution_count": 3,
   "outputs": [],
   "source": [
    "raw_data_folder_path = Path(\"D:\\All Python\\All_Big_raw_Data\\LOS prediction\\Traffic Dataset\")\n",
    "data_UTD19 = pd.read_csv(raw_data_folder_path / \"utd19_u.csv\", low_memory=False)\n",
    "data_links = pd.read_csv(raw_data_folder_path / \"links.csv\")\n",
    "data_detectors = pd.read_csv(raw_data_folder_path / \"detectors.csv\")"
   ],
   "metadata": {
    "collapsed": false,
    "ExecuteTime": {
     "end_time": "2023-12-19T16:30:37.758846500Z",
     "start_time": "2023-12-19T16:12:05.454333700Z"
    }
   },
   "id": "ca8afcd405eecca2"
  },
  {
   "cell_type": "code",
   "execution_count": 4,
   "outputs": [
    {
     "data": {
      "text/plain": "            day  interval  rainfall\n0    2015-01-01       0.0       0.0\n1    2015-01-01    3600.0       0.0\n2    2015-01-01    7200.0       0.0\n3    2015-01-01   10800.0       0.0\n4    2015-01-01   14400.0       0.0\n...         ...       ...       ...\n1411 2015-02-28   68400.0       0.0\n1412 2015-02-28   72000.0       0.0\n1413 2015-02-28   75600.0       0.0\n1414 2015-02-28   79200.0       0.0\n1415 2015-02-28   82800.0       0.0\n\n[1416 rows x 3 columns]",
      "text/html": "<div>\n<style scoped>\n    .dataframe tbody tr th:only-of-type {\n        vertical-align: middle;\n    }\n\n    .dataframe tbody tr th {\n        vertical-align: top;\n    }\n\n    .dataframe thead th {\n        text-align: right;\n    }\n</style>\n<table border=\"1\" class=\"dataframe\">\n  <thead>\n    <tr style=\"text-align: right;\">\n      <th></th>\n      <th>day</th>\n      <th>interval</th>\n      <th>rainfall</th>\n    </tr>\n  </thead>\n  <tbody>\n    <tr>\n      <th>0</th>\n      <td>2015-01-01</td>\n      <td>0.0</td>\n      <td>0.0</td>\n    </tr>\n    <tr>\n      <th>1</th>\n      <td>2015-01-01</td>\n      <td>3600.0</td>\n      <td>0.0</td>\n    </tr>\n    <tr>\n      <th>2</th>\n      <td>2015-01-01</td>\n      <td>7200.0</td>\n      <td>0.0</td>\n    </tr>\n    <tr>\n      <th>3</th>\n      <td>2015-01-01</td>\n      <td>10800.0</td>\n      <td>0.0</td>\n    </tr>\n    <tr>\n      <th>4</th>\n      <td>2015-01-01</td>\n      <td>14400.0</td>\n      <td>0.0</td>\n    </tr>\n    <tr>\n      <th>...</th>\n      <td>...</td>\n      <td>...</td>\n      <td>...</td>\n    </tr>\n    <tr>\n      <th>1411</th>\n      <td>2015-02-28</td>\n      <td>68400.0</td>\n      <td>0.0</td>\n    </tr>\n    <tr>\n      <th>1412</th>\n      <td>2015-02-28</td>\n      <td>72000.0</td>\n      <td>0.0</td>\n    </tr>\n    <tr>\n      <th>1413</th>\n      <td>2015-02-28</td>\n      <td>75600.0</td>\n      <td>0.0</td>\n    </tr>\n    <tr>\n      <th>1414</th>\n      <td>2015-02-28</td>\n      <td>79200.0</td>\n      <td>0.0</td>\n    </tr>\n    <tr>\n      <th>1415</th>\n      <td>2015-02-28</td>\n      <td>82800.0</td>\n      <td>0.0</td>\n    </tr>\n  </tbody>\n</table>\n<p>1416 rows × 3 columns</p>\n</div>"
     },
     "execution_count": 4,
     "metadata": {},
     "output_type": "execute_result"
    }
   ],
   "source": [
    "weather = pd.read_csv(\"my_weather.csv\")\n",
    "weather = weather.iloc[:, [24, 26, 6]]\n",
    "weather.iloc[:,1] = weather.iloc[:,1]*3600\n",
    "weather.day = pd.to_datetime(weather.day)\n",
    "weather"
   ],
   "metadata": {
    "collapsed": false,
    "ExecuteTime": {
     "end_time": "2023-12-19T16:32:24.628266100Z",
     "start_time": "2023-12-19T16:32:23.347471700Z"
    }
   },
   "id": "6af532436efa7ba2"
  },
  {
   "cell_type": "code",
   "execution_count": null,
   "outputs": [],
   "source": [
    "data_UTD19.describe()"
   ],
   "metadata": {
    "collapsed": false,
    "ExecuteTime": {
     "start_time": "2023-12-18T10:07:57.117917200Z"
    }
   },
   "id": "d5ab26a0ded4849d"
  },
  {
   "cell_type": "code",
   "execution_count": 6,
   "outputs": [],
   "source": [
    "import DataLoader\n",
    "dataloader = DataLoader.DataLoader_MultiCity(data=data_UTD19, detectors_data=data_detectors, weather_data=weather)  # london, luzern, hamburg"
   ],
   "metadata": {
    "collapsed": false,
    "ExecuteTime": {
     "end_time": "2023-12-19T16:33:29.361005700Z",
     "start_time": "2023-12-19T16:33:02.247805800Z"
    }
   },
   "id": "107294fa2f566ed2"
  },
  {
   "cell_type": "code",
   "execution_count": 7,
   "outputs": [
    {
     "name": "stdout",
     "output_type": "stream",
     "text": [
      "[INFO] ['luzern'] was/were picked successfully.\n"
     ]
    }
   ],
   "source": [
    "luzern = dataloader.pick_city([\"luzern\"])"
   ],
   "metadata": {
    "collapsed": false,
    "ExecuteTime": {
     "end_time": "2023-12-19T16:33:51.451657400Z",
     "start_time": "2023-12-19T16:33:32.546260Z"
    }
   },
   "id": "535cbcb3ede36ada"
  },
  {
   "cell_type": "code",
   "execution_count": 18,
   "outputs": [
    {
     "name": "stdout",
     "output_type": "stream",
     "text": [
      "[INFO] data loaded successfully.\n",
      "[INFO] speed and density produced successfully.\n",
      "[INFO] Data #transformed# successfully.\n",
      "[INFO] Data merged with weather successfully.\n",
      "[INFO] Split successful.\n",
      "[INFO] Saved successfully.\n"
     ]
    }
   ],
   "source": [
    "train_data, val_data, test_data = luzern.fit()"
   ],
   "metadata": {
    "collapsed": false,
    "ExecuteTime": {
     "end_time": "2023-12-19T16:44:51.559920500Z",
     "start_time": "2023-12-19T16:44:44.029794800Z"
    }
   },
   "id": "c43c74770ed76fe5"
  },
  {
   "cell_type": "code",
   "execution_count": 20,
   "outputs": [
    {
     "data": {
      "text/plain": "            flow       occ                date   density        speed  \\\n0     262.459893  0.045575 2015-01-01 00:00:00  0.173079  1516.417052   \n1     304.639569  0.046836 2015-01-01 01:00:00  0.177867  1712.737247   \n2     240.033234  0.034573 2015-01-01 02:00:00  0.131296  1828.181000   \n3     177.826457  0.023900 2015-01-01 03:00:00  0.090764  1959.219797   \n4     155.366376  0.020704 2015-01-01 04:00:00  0.078629  1975.945103   \n...          ...       ...                 ...       ...          ...   \n9018  190.475398  0.030405 2015-12-31 20:00:00  0.115469  1649.582355   \n9019  167.095349  0.025052 2015-12-31 21:00:00  0.095138  1756.340145   \n9020  213.527443  0.033442 2015-12-31 22:00:00  0.127004  1681.266398   \n9021  222.821848  0.035799 2015-12-31 23:00:00  0.135954  1638.953123   \n9022  153.033708  0.026798 2016-01-01 00:00:00  0.101769  1503.729915   \n\n      rainfall  \n0          0.0  \n1          0.0  \n2          0.0  \n3          0.0  \n4          0.0  \n...        ...  \n9018       NaN  \n9019       NaN  \n9020       NaN  \n9021       NaN  \n9022       NaN  \n\n[9023 rows x 6 columns]",
      "text/html": "<div>\n<style scoped>\n    .dataframe tbody tr th:only-of-type {\n        vertical-align: middle;\n    }\n\n    .dataframe tbody tr th {\n        vertical-align: top;\n    }\n\n    .dataframe thead th {\n        text-align: right;\n    }\n</style>\n<table border=\"1\" class=\"dataframe\">\n  <thead>\n    <tr style=\"text-align: right;\">\n      <th></th>\n      <th>flow</th>\n      <th>occ</th>\n      <th>date</th>\n      <th>density</th>\n      <th>speed</th>\n      <th>rainfall</th>\n    </tr>\n  </thead>\n  <tbody>\n    <tr>\n      <th>0</th>\n      <td>262.459893</td>\n      <td>0.045575</td>\n      <td>2015-01-01 00:00:00</td>\n      <td>0.173079</td>\n      <td>1516.417052</td>\n      <td>0.0</td>\n    </tr>\n    <tr>\n      <th>1</th>\n      <td>304.639569</td>\n      <td>0.046836</td>\n      <td>2015-01-01 01:00:00</td>\n      <td>0.177867</td>\n      <td>1712.737247</td>\n      <td>0.0</td>\n    </tr>\n    <tr>\n      <th>2</th>\n      <td>240.033234</td>\n      <td>0.034573</td>\n      <td>2015-01-01 02:00:00</td>\n      <td>0.131296</td>\n      <td>1828.181000</td>\n      <td>0.0</td>\n    </tr>\n    <tr>\n      <th>3</th>\n      <td>177.826457</td>\n      <td>0.023900</td>\n      <td>2015-01-01 03:00:00</td>\n      <td>0.090764</td>\n      <td>1959.219797</td>\n      <td>0.0</td>\n    </tr>\n    <tr>\n      <th>4</th>\n      <td>155.366376</td>\n      <td>0.020704</td>\n      <td>2015-01-01 04:00:00</td>\n      <td>0.078629</td>\n      <td>1975.945103</td>\n      <td>0.0</td>\n    </tr>\n    <tr>\n      <th>...</th>\n      <td>...</td>\n      <td>...</td>\n      <td>...</td>\n      <td>...</td>\n      <td>...</td>\n      <td>...</td>\n    </tr>\n    <tr>\n      <th>9018</th>\n      <td>190.475398</td>\n      <td>0.030405</td>\n      <td>2015-12-31 20:00:00</td>\n      <td>0.115469</td>\n      <td>1649.582355</td>\n      <td>NaN</td>\n    </tr>\n    <tr>\n      <th>9019</th>\n      <td>167.095349</td>\n      <td>0.025052</td>\n      <td>2015-12-31 21:00:00</td>\n      <td>0.095138</td>\n      <td>1756.340145</td>\n      <td>NaN</td>\n    </tr>\n    <tr>\n      <th>9020</th>\n      <td>213.527443</td>\n      <td>0.033442</td>\n      <td>2015-12-31 22:00:00</td>\n      <td>0.127004</td>\n      <td>1681.266398</td>\n      <td>NaN</td>\n    </tr>\n    <tr>\n      <th>9021</th>\n      <td>222.821848</td>\n      <td>0.035799</td>\n      <td>2015-12-31 23:00:00</td>\n      <td>0.135954</td>\n      <td>1638.953123</td>\n      <td>NaN</td>\n    </tr>\n    <tr>\n      <th>9022</th>\n      <td>153.033708</td>\n      <td>0.026798</td>\n      <td>2016-01-01 00:00:00</td>\n      <td>0.101769</td>\n      <td>1503.729915</td>\n      <td>NaN</td>\n    </tr>\n  </tbody>\n</table>\n<p>9023 rows × 6 columns</p>\n</div>"
     },
     "execution_count": 20,
     "metadata": {},
     "output_type": "execute_result"
    }
   ],
   "source": [
    "luzern.merged_data"
   ],
   "metadata": {
    "collapsed": false,
    "ExecuteTime": {
     "end_time": "2023-12-19T16:45:14.071900300Z",
     "start_time": "2023-12-19T16:45:13.972985400Z"
    }
   },
   "id": "6874cccd609e1c6"
  },
  {
   "cell_type": "code",
   "execution_count": 21,
   "outputs": [
    {
     "data": {
      "text/plain": "            flow       occ                date   density        speed  \\\n0     262.459893  0.045575 2015-01-01 00:00:00  0.173079  1516.417052   \n1     304.639569  0.046836 2015-01-01 01:00:00  0.177867  1712.737247   \n2     240.033234  0.034573 2015-01-01 02:00:00  0.131296  1828.181000   \n3     177.826457  0.023900 2015-01-01 03:00:00  0.090764  1959.219797   \n4     155.366376  0.020704 2015-01-01 04:00:00  0.078629  1975.945103   \n...          ...       ...                 ...       ...          ...   \n1469  324.712114  0.055292 2015-02-28 19:00:00  0.209983  1546.374648   \n1470  260.729756  0.040304 2015-02-28 20:00:00  0.153063  1703.415963   \n1471  254.693588  0.038647 2015-02-28 21:00:00  0.146768  1735.353098   \n1472  301.146202  0.048079 2015-02-28 22:00:00  0.182590  1649.302285   \n1473  304.871176  0.048855 2015-02-28 23:00:00  0.185536  1643.187108   \n\n      rainfall  \n0          0.0  \n1          0.0  \n2          0.0  \n3          0.0  \n4          0.0  \n...        ...  \n1469       0.0  \n1470       0.0  \n1471       0.0  \n1472       0.0  \n1473       0.0  \n\n[1449 rows x 6 columns]",
      "text/html": "<div>\n<style scoped>\n    .dataframe tbody tr th:only-of-type {\n        vertical-align: middle;\n    }\n\n    .dataframe tbody tr th {\n        vertical-align: top;\n    }\n\n    .dataframe thead th {\n        text-align: right;\n    }\n</style>\n<table border=\"1\" class=\"dataframe\">\n  <thead>\n    <tr style=\"text-align: right;\">\n      <th></th>\n      <th>flow</th>\n      <th>occ</th>\n      <th>date</th>\n      <th>density</th>\n      <th>speed</th>\n      <th>rainfall</th>\n    </tr>\n  </thead>\n  <tbody>\n    <tr>\n      <th>0</th>\n      <td>262.459893</td>\n      <td>0.045575</td>\n      <td>2015-01-01 00:00:00</td>\n      <td>0.173079</td>\n      <td>1516.417052</td>\n      <td>0.0</td>\n    </tr>\n    <tr>\n      <th>1</th>\n      <td>304.639569</td>\n      <td>0.046836</td>\n      <td>2015-01-01 01:00:00</td>\n      <td>0.177867</td>\n      <td>1712.737247</td>\n      <td>0.0</td>\n    </tr>\n    <tr>\n      <th>2</th>\n      <td>240.033234</td>\n      <td>0.034573</td>\n      <td>2015-01-01 02:00:00</td>\n      <td>0.131296</td>\n      <td>1828.181000</td>\n      <td>0.0</td>\n    </tr>\n    <tr>\n      <th>3</th>\n      <td>177.826457</td>\n      <td>0.023900</td>\n      <td>2015-01-01 03:00:00</td>\n      <td>0.090764</td>\n      <td>1959.219797</td>\n      <td>0.0</td>\n    </tr>\n    <tr>\n      <th>4</th>\n      <td>155.366376</td>\n      <td>0.020704</td>\n      <td>2015-01-01 04:00:00</td>\n      <td>0.078629</td>\n      <td>1975.945103</td>\n      <td>0.0</td>\n    </tr>\n    <tr>\n      <th>...</th>\n      <td>...</td>\n      <td>...</td>\n      <td>...</td>\n      <td>...</td>\n      <td>...</td>\n      <td>...</td>\n    </tr>\n    <tr>\n      <th>1469</th>\n      <td>324.712114</td>\n      <td>0.055292</td>\n      <td>2015-02-28 19:00:00</td>\n      <td>0.209983</td>\n      <td>1546.374648</td>\n      <td>0.0</td>\n    </tr>\n    <tr>\n      <th>1470</th>\n      <td>260.729756</td>\n      <td>0.040304</td>\n      <td>2015-02-28 20:00:00</td>\n      <td>0.153063</td>\n      <td>1703.415963</td>\n      <td>0.0</td>\n    </tr>\n    <tr>\n      <th>1471</th>\n      <td>254.693588</td>\n      <td>0.038647</td>\n      <td>2015-02-28 21:00:00</td>\n      <td>0.146768</td>\n      <td>1735.353098</td>\n      <td>0.0</td>\n    </tr>\n    <tr>\n      <th>1472</th>\n      <td>301.146202</td>\n      <td>0.048079</td>\n      <td>2015-02-28 22:00:00</td>\n      <td>0.182590</td>\n      <td>1649.302285</td>\n      <td>0.0</td>\n    </tr>\n    <tr>\n      <th>1473</th>\n      <td>304.871176</td>\n      <td>0.048855</td>\n      <td>2015-02-28 23:00:00</td>\n      <td>0.185536</td>\n      <td>1643.187108</td>\n      <td>0.0</td>\n    </tr>\n  </tbody>\n</table>\n<p>1449 rows × 6 columns</p>\n</div>"
     },
     "execution_count": 21,
     "metadata": {},
     "output_type": "execute_result"
    }
   ],
   "source": [
    "luzern.merged_data.dropna()"
   ],
   "metadata": {
    "collapsed": false,
    "ExecuteTime": {
     "end_time": "2023-12-19T16:49:44.944437900Z",
     "start_time": "2023-12-19T16:49:44.849232Z"
    }
   },
   "id": "e3b2844bf6339d42"
  },
  {
   "cell_type": "code",
   "execution_count": null,
   "outputs": [],
   "source": [],
   "metadata": {
    "collapsed": false
   },
   "id": "58d67d5753f016bd"
  }
 ],
 "metadata": {
  "kernelspec": {
   "display_name": "Python 3",
   "language": "python",
   "name": "python3"
  },
  "language_info": {
   "codemirror_mode": {
    "name": "ipython",
    "version": 2
   },
   "file_extension": ".py",
   "mimetype": "text/x-python",
   "name": "python",
   "nbconvert_exporter": "python",
   "pygments_lexer": "ipython2",
   "version": "2.7.6"
  }
 },
 "nbformat": 4,
 "nbformat_minor": 5
}
