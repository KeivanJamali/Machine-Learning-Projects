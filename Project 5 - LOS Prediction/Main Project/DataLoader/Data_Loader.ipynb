{
 "cells": [
  {
   "cell_type": "code",
   "execution_count": 1,
   "id": "initial_id",
   "metadata": {
    "collapsed": true,
    "ExecuteTime": {
     "end_time": "2023-12-16T20:17:08.669520600Z",
     "start_time": "2023-12-16T20:17:08.083557100Z"
    }
   },
   "outputs": [],
   "source": [
    "import pandas as pd\n",
    "import numpy as np\n",
    "from pathlib import Path"
   ]
  },
  {
   "cell_type": "code",
   "execution_count": 2,
   "outputs": [],
   "source": [
    "raw_data_folder_path = Path(\"D:\\All Python\\All_Big_raw_Data\\LOS prediction\\Traffic Dataset\")\n",
    "# data_UTD19 = pd.read_csv(raw_data_folder_path / \"UTD19.csv\")\n",
    "data_links = pd.read_csv(raw_data_folder_path / \"links.csv\")\n",
    "data_detectors = pd.read_csv(raw_data_folder_path / \"detectors.csv\")"
   ],
   "metadata": {
    "collapsed": false,
    "ExecuteTime": {
     "end_time": "2023-12-16T20:17:08.924270500Z",
     "start_time": "2023-12-16T20:17:08.672525200Z"
    }
   },
   "id": "b1758e71b222ed40"
  },
  {
   "cell_type": "code",
   "execution_count": 4,
   "outputs": [
    {
     "data": {
      "text/plain": "         detid    length       pos     fclass              road limit  \\\n0       U1-52G  0.196037  0.005512  secondary  Gögginger Straße    50   \n1       U1-51G  0.130039  0.004013  secondary  Gögginger Straße    50   \n2       U1-52L  0.155863  0.022228  secondary  Gögginger Straße    50   \n3       U1-51L  0.197675  0.021889  secondary  Gögginger Straße    50   \n4        U1-62  0.065183  0.024465  secondary     Rosenaustraße    50   \n...        ...       ...       ...        ...               ...   ...   \n23621  K419D17  0.507890  0.073105  secondary        Gutstrasse    50   \n23622  K426D14  0.591131  0.579361    primary  Duttweilerbrücke     0   \n23623  K426D11  0.650268  0.592645    primary  Duttweilerbrücke    50   \n23624  K437D17  0.301829  0.005194   tertiary      Europabrücke    50   \n23625   K38D11  0.176828  0.152222   tertiary    Badenerstrasse    50   \n\n       citycode  lanes  linkid       long        lat  \n0      augsburg    1.0    72.0  10.889553  48.359957  \n1      augsburg    1.0    73.0  10.889601  48.359945  \n2      augsburg    1.0    70.0  10.889356  48.359876  \n3      augsburg    1.0    71.0  10.889396  48.359862  \n4      augsburg    1.0    68.0  10.889361  48.360578  \n...         ...    ...     ...        ...        ...  \n23621    zurich    1.0  1199.0   8.499722  47.376703  \n23622    zurich    1.0  1200.0   8.511575  47.389545  \n23623    zurich    1.0  1201.0   8.511730  47.389532  \n23624    zurich    1.0  1203.0   8.493002  47.393101  \n23625    zurich    1.0  1207.0   8.512525  47.377435  \n\n[23626 rows x 11 columns]",
      "text/html": "<div>\n<style scoped>\n    .dataframe tbody tr th:only-of-type {\n        vertical-align: middle;\n    }\n\n    .dataframe tbody tr th {\n        vertical-align: top;\n    }\n\n    .dataframe thead th {\n        text-align: right;\n    }\n</style>\n<table border=\"1\" class=\"dataframe\">\n  <thead>\n    <tr style=\"text-align: right;\">\n      <th></th>\n      <th>detid</th>\n      <th>length</th>\n      <th>pos</th>\n      <th>fclass</th>\n      <th>road</th>\n      <th>limit</th>\n      <th>citycode</th>\n      <th>lanes</th>\n      <th>linkid</th>\n      <th>long</th>\n      <th>lat</th>\n    </tr>\n  </thead>\n  <tbody>\n    <tr>\n      <th>0</th>\n      <td>U1-52G</td>\n      <td>0.196037</td>\n      <td>0.005512</td>\n      <td>secondary</td>\n      <td>Gögginger Straße</td>\n      <td>50</td>\n      <td>augsburg</td>\n      <td>1.0</td>\n      <td>72.0</td>\n      <td>10.889553</td>\n      <td>48.359957</td>\n    </tr>\n    <tr>\n      <th>1</th>\n      <td>U1-51G</td>\n      <td>0.130039</td>\n      <td>0.004013</td>\n      <td>secondary</td>\n      <td>Gögginger Straße</td>\n      <td>50</td>\n      <td>augsburg</td>\n      <td>1.0</td>\n      <td>73.0</td>\n      <td>10.889601</td>\n      <td>48.359945</td>\n    </tr>\n    <tr>\n      <th>2</th>\n      <td>U1-52L</td>\n      <td>0.155863</td>\n      <td>0.022228</td>\n      <td>secondary</td>\n      <td>Gögginger Straße</td>\n      <td>50</td>\n      <td>augsburg</td>\n      <td>1.0</td>\n      <td>70.0</td>\n      <td>10.889356</td>\n      <td>48.359876</td>\n    </tr>\n    <tr>\n      <th>3</th>\n      <td>U1-51L</td>\n      <td>0.197675</td>\n      <td>0.021889</td>\n      <td>secondary</td>\n      <td>Gögginger Straße</td>\n      <td>50</td>\n      <td>augsburg</td>\n      <td>1.0</td>\n      <td>71.0</td>\n      <td>10.889396</td>\n      <td>48.359862</td>\n    </tr>\n    <tr>\n      <th>4</th>\n      <td>U1-62</td>\n      <td>0.065183</td>\n      <td>0.024465</td>\n      <td>secondary</td>\n      <td>Rosenaustraße</td>\n      <td>50</td>\n      <td>augsburg</td>\n      <td>1.0</td>\n      <td>68.0</td>\n      <td>10.889361</td>\n      <td>48.360578</td>\n    </tr>\n    <tr>\n      <th>...</th>\n      <td>...</td>\n      <td>...</td>\n      <td>...</td>\n      <td>...</td>\n      <td>...</td>\n      <td>...</td>\n      <td>...</td>\n      <td>...</td>\n      <td>...</td>\n      <td>...</td>\n      <td>...</td>\n    </tr>\n    <tr>\n      <th>23621</th>\n      <td>K419D17</td>\n      <td>0.507890</td>\n      <td>0.073105</td>\n      <td>secondary</td>\n      <td>Gutstrasse</td>\n      <td>50</td>\n      <td>zurich</td>\n      <td>1.0</td>\n      <td>1199.0</td>\n      <td>8.499722</td>\n      <td>47.376703</td>\n    </tr>\n    <tr>\n      <th>23622</th>\n      <td>K426D14</td>\n      <td>0.591131</td>\n      <td>0.579361</td>\n      <td>primary</td>\n      <td>Duttweilerbrücke</td>\n      <td>0</td>\n      <td>zurich</td>\n      <td>1.0</td>\n      <td>1200.0</td>\n      <td>8.511575</td>\n      <td>47.389545</td>\n    </tr>\n    <tr>\n      <th>23623</th>\n      <td>K426D11</td>\n      <td>0.650268</td>\n      <td>0.592645</td>\n      <td>primary</td>\n      <td>Duttweilerbrücke</td>\n      <td>50</td>\n      <td>zurich</td>\n      <td>1.0</td>\n      <td>1201.0</td>\n      <td>8.511730</td>\n      <td>47.389532</td>\n    </tr>\n    <tr>\n      <th>23624</th>\n      <td>K437D17</td>\n      <td>0.301829</td>\n      <td>0.005194</td>\n      <td>tertiary</td>\n      <td>Europabrücke</td>\n      <td>50</td>\n      <td>zurich</td>\n      <td>1.0</td>\n      <td>1203.0</td>\n      <td>8.493002</td>\n      <td>47.393101</td>\n    </tr>\n    <tr>\n      <th>23625</th>\n      <td>K38D11</td>\n      <td>0.176828</td>\n      <td>0.152222</td>\n      <td>tertiary</td>\n      <td>Badenerstrasse</td>\n      <td>50</td>\n      <td>zurich</td>\n      <td>1.0</td>\n      <td>1207.0</td>\n      <td>8.512525</td>\n      <td>47.377435</td>\n    </tr>\n  </tbody>\n</table>\n<p>23626 rows × 11 columns</p>\n</div>"
     },
     "execution_count": 4,
     "metadata": {},
     "output_type": "execute_result"
    }
   ],
   "source": [
    "data_detectors"
   ],
   "metadata": {
    "collapsed": false,
    "ExecuteTime": {
     "end_time": "2023-12-16T20:17:17.100992100Z",
     "start_time": "2023-12-16T20:17:17.071492900Z"
    }
   },
   "id": "a6fed7b8efc401b8"
  },
  {
   "cell_type": "code",
   "execution_count": 5,
   "outputs": [
    {
     "data": {
      "text/plain": "             long        lat  order  piece  linkid   group  citycode\n0       10.891016  48.361079      1      1       0     0.1  augsburg\n1       10.890894  48.360993      2      1       0     0.1  augsburg\n2       10.890642  48.360853      3      1       0     0.1  augsburg\n3       10.890404  48.360719      4      1       0     0.1  augsburg\n4       10.889994  48.360497      5      1       0     0.1  augsburg\n...           ...        ...    ...    ...     ...     ...       ...\n140853   8.567437  47.363242     20      1    1224  1224.1    zurich\n140854   8.567520  47.363171     21      1    1224  1224.1    zurich\n140855   8.567633  47.363072     22      1    1224  1224.1    zurich\n140856   8.567745  47.362966     23      1    1224  1224.1    zurich\n140857   8.567812  47.362897     24      1    1224  1224.1    zurich\n\n[140858 rows x 7 columns]",
      "text/html": "<div>\n<style scoped>\n    .dataframe tbody tr th:only-of-type {\n        vertical-align: middle;\n    }\n\n    .dataframe tbody tr th {\n        vertical-align: top;\n    }\n\n    .dataframe thead th {\n        text-align: right;\n    }\n</style>\n<table border=\"1\" class=\"dataframe\">\n  <thead>\n    <tr style=\"text-align: right;\">\n      <th></th>\n      <th>long</th>\n      <th>lat</th>\n      <th>order</th>\n      <th>piece</th>\n      <th>linkid</th>\n      <th>group</th>\n      <th>citycode</th>\n    </tr>\n  </thead>\n  <tbody>\n    <tr>\n      <th>0</th>\n      <td>10.891016</td>\n      <td>48.361079</td>\n      <td>1</td>\n      <td>1</td>\n      <td>0</td>\n      <td>0.1</td>\n      <td>augsburg</td>\n    </tr>\n    <tr>\n      <th>1</th>\n      <td>10.890894</td>\n      <td>48.360993</td>\n      <td>2</td>\n      <td>1</td>\n      <td>0</td>\n      <td>0.1</td>\n      <td>augsburg</td>\n    </tr>\n    <tr>\n      <th>2</th>\n      <td>10.890642</td>\n      <td>48.360853</td>\n      <td>3</td>\n      <td>1</td>\n      <td>0</td>\n      <td>0.1</td>\n      <td>augsburg</td>\n    </tr>\n    <tr>\n      <th>3</th>\n      <td>10.890404</td>\n      <td>48.360719</td>\n      <td>4</td>\n      <td>1</td>\n      <td>0</td>\n      <td>0.1</td>\n      <td>augsburg</td>\n    </tr>\n    <tr>\n      <th>4</th>\n      <td>10.889994</td>\n      <td>48.360497</td>\n      <td>5</td>\n      <td>1</td>\n      <td>0</td>\n      <td>0.1</td>\n      <td>augsburg</td>\n    </tr>\n    <tr>\n      <th>...</th>\n      <td>...</td>\n      <td>...</td>\n      <td>...</td>\n      <td>...</td>\n      <td>...</td>\n      <td>...</td>\n      <td>...</td>\n    </tr>\n    <tr>\n      <th>140853</th>\n      <td>8.567437</td>\n      <td>47.363242</td>\n      <td>20</td>\n      <td>1</td>\n      <td>1224</td>\n      <td>1224.1</td>\n      <td>zurich</td>\n    </tr>\n    <tr>\n      <th>140854</th>\n      <td>8.567520</td>\n      <td>47.363171</td>\n      <td>21</td>\n      <td>1</td>\n      <td>1224</td>\n      <td>1224.1</td>\n      <td>zurich</td>\n    </tr>\n    <tr>\n      <th>140855</th>\n      <td>8.567633</td>\n      <td>47.363072</td>\n      <td>22</td>\n      <td>1</td>\n      <td>1224</td>\n      <td>1224.1</td>\n      <td>zurich</td>\n    </tr>\n    <tr>\n      <th>140856</th>\n      <td>8.567745</td>\n      <td>47.362966</td>\n      <td>23</td>\n      <td>1</td>\n      <td>1224</td>\n      <td>1224.1</td>\n      <td>zurich</td>\n    </tr>\n    <tr>\n      <th>140857</th>\n      <td>8.567812</td>\n      <td>47.362897</td>\n      <td>24</td>\n      <td>1</td>\n      <td>1224</td>\n      <td>1224.1</td>\n      <td>zurich</td>\n    </tr>\n  </tbody>\n</table>\n<p>140858 rows × 7 columns</p>\n</div>"
     },
     "execution_count": 5,
     "metadata": {},
     "output_type": "execute_result"
    }
   ],
   "source": [
    "data_links"
   ],
   "metadata": {
    "collapsed": false,
    "ExecuteTime": {
     "end_time": "2023-12-16T20:17:22.801759Z",
     "start_time": "2023-12-16T20:17:22.674281300Z"
    }
   },
   "id": "4d9da318a0ee1d5d"
  },
  {
   "cell_type": "code",
   "execution_count": 50,
   "outputs": [
    {
     "data": {
      "text/plain": "['augsburg',\n 'basel',\n 'bern',\n 'birmingham',\n 'bolton',\n 'bordeaux',\n 'bremen',\n 'cagliari',\n 'constance',\n 'darmstadt',\n 'essen',\n 'frankfurt',\n 'graz',\n 'groningen',\n 'hamburg',\n 'innsbruck',\n 'kassel',\n 'london',\n 'losanageles',\n 'luzern',\n 'madrid',\n 'manchester',\n 'marseille',\n 'melbourne',\n 'munich',\n 'paris',\n 'rotterdam',\n 'santander',\n 'speyer',\n 'strasbourg',\n 'stuttgart',\n 'taipeh',\n 'tokyo',\n 'torino',\n 'toronto',\n 'toulouse',\n 'utrecht',\n 'vilnius',\n 'wolfsburg',\n 'zurich']"
     },
     "execution_count": 50,
     "metadata": {},
     "output_type": "execute_result"
    }
   ],
   "source": [
    "list(data_detectors.groupby(\"citycode\").grouper)"
   ],
   "metadata": {
    "collapsed": false,
    "ExecuteTime": {
     "end_time": "2023-12-16T20:24:56.095320800Z",
     "start_time": "2023-12-16T20:24:56.075925800Z"
    }
   },
   "id": "7a09d7f1a75a4c4f"
  },
  {
   "cell_type": "code",
   "execution_count": null,
   "outputs": [],
   "source": [],
   "metadata": {
    "collapsed": false
   },
   "id": "d0e38f032752c54a"
  }
 ],
 "metadata": {
  "kernelspec": {
   "display_name": "Python 3",
   "language": "python",
   "name": "python3"
  },
  "language_info": {
   "codemirror_mode": {
    "name": "ipython",
    "version": 2
   },
   "file_extension": ".py",
   "mimetype": "text/x-python",
   "name": "python",
   "nbconvert_exporter": "python",
   "pygments_lexer": "ipython2",
   "version": "2.7.6"
  }
 },
 "nbformat": 4,
 "nbformat_minor": 5
}
