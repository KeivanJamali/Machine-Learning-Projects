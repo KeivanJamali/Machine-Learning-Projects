{
 "cells": [
  {
   "cell_type": "code",
   "execution_count": 25,
   "id": "initial_id",
   "metadata": {
    "collapsed": true,
    "ExecuteTime": {
     "end_time": "2023-12-29T18:03:44.214108Z",
     "start_time": "2023-12-29T18:03:44.045001300Z"
    }
   },
   "outputs": [
    {
     "name": "stdout",
     "output_type": "stream",
     "text": [
      "The autoreload extension is already loaded. To reload it, use:\n",
      "  %reload_ext autoreload\n"
     ]
    }
   ],
   "source": [
    "%load_ext autoreload\n",
    "%autoreload 2"
   ]
  },
  {
   "cell_type": "code",
   "outputs": [],
   "source": [
    "import pandas as pd\n",
    "import matplotlib.pyplot as plt\n",
    "import numpy as np\n",
    "import seaborn as sns\n",
    "from sklearn.ensemble import RandomForestRegressor\n",
    "from pathlib import Path\n",
    "import os"
   ],
   "metadata": {
    "collapsed": false,
    "ExecuteTime": {
     "end_time": "2023-12-29T18:03:44.298594700Z",
     "start_time": "2023-12-29T18:03:44.190517800Z"
    }
   },
   "id": "c689b655b846fe20",
   "execution_count": 26
  },
  {
   "cell_type": "code",
   "outputs": [],
   "source": [
    "save_format = \"png\""
   ],
   "metadata": {
    "collapsed": false,
    "ExecuteTime": {
     "end_time": "2023-12-29T18:03:44.397722800Z",
     "start_time": "2023-12-29T18:03:44.286958400Z"
    }
   },
   "id": "425db4b8f43921fb",
   "execution_count": 27
  },
  {
   "cell_type": "code",
   "outputs": [],
   "source": [
    "\"\"\"severerisk: full nul,\n",
    "\"\"\"\n",
    "\n",
    "luzern = pd.read_csv(\"D:\\All Python\\All_Big_raw_Data\\LOS prediction\\Traffic Dataset/DataLoader/full_luzern.csv\")\n",
    "luzern.index = luzern.iloc[:, 0]\n",
    "luzern = luzern.iloc[:, 1:]\n",
    "luzern[\"date\"] = pd.to_datetime(luzern[\"date\"])\n"
   ],
   "metadata": {
    "collapsed": false,
    "ExecuteTime": {
     "end_time": "2023-12-29T18:03:44.551406Z",
     "start_time": "2023-12-29T18:03:44.390724800Z"
    }
   },
   "id": "cf16c42e0d54b9fe",
   "execution_count": 28
  },
  {
   "cell_type": "code",
   "outputs": [
    {
     "data": {
      "text/plain": "                  flow       occ                date  temp  feelslike  dew  \\\nUnnamed: 0                                                                   \n0           262.459893  0.045575 2015-01-01 00:00:00  -3.4       -6.0 -4.8   \n1           304.639569  0.046836 2015-01-01 01:00:00  -3.4       -6.7 -4.8   \n2           240.033234  0.034573 2015-01-01 02:00:00  -3.3       -3.3 -4.8   \n3           177.826457  0.023900 2015-01-01 03:00:00  -3.6       -8.1 -5.0   \n4           155.366376  0.020704 2015-01-01 04:00:00  -3.1       -5.1 -4.4   \n...                ...       ...                 ...   ...        ...  ...   \n9019        190.475398  0.030405 2015-12-31 20:00:00   4.5        4.5  3.9   \n9020        167.095349  0.025052 2015-12-31 21:00:00   4.4        4.4  3.9   \n9021        213.527443  0.033442 2015-12-31 22:00:00   4.5        4.5  3.9   \n9022        222.821848  0.035799 2015-12-31 23:00:00   4.4        4.4  3.9   \n9023        153.033708  0.026798 2016-01-01 00:00:00   NaN        NaN  NaN   \n\n            humidity  rainfall  precipprob  snow  ...  cloudcover  \\\nUnnamed: 0                                        ...               \n0              90.04     0.000         0.0   0.0  ...        30.0   \n1              90.06     0.000         0.0   0.0  ...        90.0   \n2              89.57     0.000         0.0   0.0  ...        50.0   \n3              90.60     0.000         0.0   0.0  ...        90.0   \n4              91.14     0.000         0.0   0.0  ...        90.0   \n...              ...       ...         ...   ...  ...         ...   \n9019           95.51     0.111       100.0   0.0  ...        99.3   \n9020           96.75     0.399       100.0   0.0  ...        99.5   \n9021           95.49     0.396       100.0   0.0  ...        99.3   \n9022           96.75     0.100       100.0   0.0  ...        96.7   \n9023             NaN       NaN         NaN   NaN  ...         NaN   \n\n            solarradiation  solarenergy  uvindex  conditions  icon  LOS  \\\nUnnamed: 0                                                                \n0                      0.0          0.0      0.0         1.0   0.0    A   \n1                      0.0          0.0      0.0         1.0   0.0    A   \n2                      0.0          0.0      0.0         1.0   0.0    A   \n3                      0.0          0.0      0.0         1.0   0.0    A   \n4                      0.0          0.0      0.0         1.0   0.0    A   \n...                    ...          ...      ...         ...   ...  ...   \n9019                   0.0          0.0      0.0         2.0   1.0    A   \n9020                   0.0          0.0      0.0         2.0   1.0    A   \n9021                   0.0          0.0      0.0         2.0   1.0    A   \n9022                   0.0          0.0      0.0         2.0   1.0    A   \n9023                   NaN          NaN      NaN         NaN   NaN    A   \n\n            LOS_index  month  time_of_raining  \nUnnamed: 0                                     \n0                   0      1                0  \n1                   0      1                0  \n2                   0      1                0  \n3                   0      1                0  \n4                   0      1                0  \n...               ...    ...              ...  \n9019                0     12                7  \n9020                0     12                8  \n9021                0     12                9  \n9022                0     12               10  \n9023                0      1                0  \n\n[9024 rows x 25 columns]",
      "text/html": "<div>\n<style scoped>\n    .dataframe tbody tr th:only-of-type {\n        vertical-align: middle;\n    }\n\n    .dataframe tbody tr th {\n        vertical-align: top;\n    }\n\n    .dataframe thead th {\n        text-align: right;\n    }\n</style>\n<table border=\"1\" class=\"dataframe\">\n  <thead>\n    <tr style=\"text-align: right;\">\n      <th></th>\n      <th>flow</th>\n      <th>occ</th>\n      <th>date</th>\n      <th>temp</th>\n      <th>feelslike</th>\n      <th>dew</th>\n      <th>humidity</th>\n      <th>rainfall</th>\n      <th>precipprob</th>\n      <th>snow</th>\n      <th>...</th>\n      <th>cloudcover</th>\n      <th>solarradiation</th>\n      <th>solarenergy</th>\n      <th>uvindex</th>\n      <th>conditions</th>\n      <th>icon</th>\n      <th>LOS</th>\n      <th>LOS_index</th>\n      <th>month</th>\n      <th>time_of_raining</th>\n    </tr>\n    <tr>\n      <th>Unnamed: 0</th>\n      <th></th>\n      <th></th>\n      <th></th>\n      <th></th>\n      <th></th>\n      <th></th>\n      <th></th>\n      <th></th>\n      <th></th>\n      <th></th>\n      <th></th>\n      <th></th>\n      <th></th>\n      <th></th>\n      <th></th>\n      <th></th>\n      <th></th>\n      <th></th>\n      <th></th>\n      <th></th>\n      <th></th>\n    </tr>\n  </thead>\n  <tbody>\n    <tr>\n      <th>0</th>\n      <td>262.459893</td>\n      <td>0.045575</td>\n      <td>2015-01-01 00:00:00</td>\n      <td>-3.4</td>\n      <td>-6.0</td>\n      <td>-4.8</td>\n      <td>90.04</td>\n      <td>0.000</td>\n      <td>0.0</td>\n      <td>0.0</td>\n      <td>...</td>\n      <td>30.0</td>\n      <td>0.0</td>\n      <td>0.0</td>\n      <td>0.0</td>\n      <td>1.0</td>\n      <td>0.0</td>\n      <td>A</td>\n      <td>0</td>\n      <td>1</td>\n      <td>0</td>\n    </tr>\n    <tr>\n      <th>1</th>\n      <td>304.639569</td>\n      <td>0.046836</td>\n      <td>2015-01-01 01:00:00</td>\n      <td>-3.4</td>\n      <td>-6.7</td>\n      <td>-4.8</td>\n      <td>90.06</td>\n      <td>0.000</td>\n      <td>0.0</td>\n      <td>0.0</td>\n      <td>...</td>\n      <td>90.0</td>\n      <td>0.0</td>\n      <td>0.0</td>\n      <td>0.0</td>\n      <td>1.0</td>\n      <td>0.0</td>\n      <td>A</td>\n      <td>0</td>\n      <td>1</td>\n      <td>0</td>\n    </tr>\n    <tr>\n      <th>2</th>\n      <td>240.033234</td>\n      <td>0.034573</td>\n      <td>2015-01-01 02:00:00</td>\n      <td>-3.3</td>\n      <td>-3.3</td>\n      <td>-4.8</td>\n      <td>89.57</td>\n      <td>0.000</td>\n      <td>0.0</td>\n      <td>0.0</td>\n      <td>...</td>\n      <td>50.0</td>\n      <td>0.0</td>\n      <td>0.0</td>\n      <td>0.0</td>\n      <td>1.0</td>\n      <td>0.0</td>\n      <td>A</td>\n      <td>0</td>\n      <td>1</td>\n      <td>0</td>\n    </tr>\n    <tr>\n      <th>3</th>\n      <td>177.826457</td>\n      <td>0.023900</td>\n      <td>2015-01-01 03:00:00</td>\n      <td>-3.6</td>\n      <td>-8.1</td>\n      <td>-5.0</td>\n      <td>90.60</td>\n      <td>0.000</td>\n      <td>0.0</td>\n      <td>0.0</td>\n      <td>...</td>\n      <td>90.0</td>\n      <td>0.0</td>\n      <td>0.0</td>\n      <td>0.0</td>\n      <td>1.0</td>\n      <td>0.0</td>\n      <td>A</td>\n      <td>0</td>\n      <td>1</td>\n      <td>0</td>\n    </tr>\n    <tr>\n      <th>4</th>\n      <td>155.366376</td>\n      <td>0.020704</td>\n      <td>2015-01-01 04:00:00</td>\n      <td>-3.1</td>\n      <td>-5.1</td>\n      <td>-4.4</td>\n      <td>91.14</td>\n      <td>0.000</td>\n      <td>0.0</td>\n      <td>0.0</td>\n      <td>...</td>\n      <td>90.0</td>\n      <td>0.0</td>\n      <td>0.0</td>\n      <td>0.0</td>\n      <td>1.0</td>\n      <td>0.0</td>\n      <td>A</td>\n      <td>0</td>\n      <td>1</td>\n      <td>0</td>\n    </tr>\n    <tr>\n      <th>...</th>\n      <td>...</td>\n      <td>...</td>\n      <td>...</td>\n      <td>...</td>\n      <td>...</td>\n      <td>...</td>\n      <td>...</td>\n      <td>...</td>\n      <td>...</td>\n      <td>...</td>\n      <td>...</td>\n      <td>...</td>\n      <td>...</td>\n      <td>...</td>\n      <td>...</td>\n      <td>...</td>\n      <td>...</td>\n      <td>...</td>\n      <td>...</td>\n      <td>...</td>\n      <td>...</td>\n    </tr>\n    <tr>\n      <th>9019</th>\n      <td>190.475398</td>\n      <td>0.030405</td>\n      <td>2015-12-31 20:00:00</td>\n      <td>4.5</td>\n      <td>4.5</td>\n      <td>3.9</td>\n      <td>95.51</td>\n      <td>0.111</td>\n      <td>100.0</td>\n      <td>0.0</td>\n      <td>...</td>\n      <td>99.3</td>\n      <td>0.0</td>\n      <td>0.0</td>\n      <td>0.0</td>\n      <td>2.0</td>\n      <td>1.0</td>\n      <td>A</td>\n      <td>0</td>\n      <td>12</td>\n      <td>7</td>\n    </tr>\n    <tr>\n      <th>9020</th>\n      <td>167.095349</td>\n      <td>0.025052</td>\n      <td>2015-12-31 21:00:00</td>\n      <td>4.4</td>\n      <td>4.4</td>\n      <td>3.9</td>\n      <td>96.75</td>\n      <td>0.399</td>\n      <td>100.0</td>\n      <td>0.0</td>\n      <td>...</td>\n      <td>99.5</td>\n      <td>0.0</td>\n      <td>0.0</td>\n      <td>0.0</td>\n      <td>2.0</td>\n      <td>1.0</td>\n      <td>A</td>\n      <td>0</td>\n      <td>12</td>\n      <td>8</td>\n    </tr>\n    <tr>\n      <th>9021</th>\n      <td>213.527443</td>\n      <td>0.033442</td>\n      <td>2015-12-31 22:00:00</td>\n      <td>4.5</td>\n      <td>4.5</td>\n      <td>3.9</td>\n      <td>95.49</td>\n      <td>0.396</td>\n      <td>100.0</td>\n      <td>0.0</td>\n      <td>...</td>\n      <td>99.3</td>\n      <td>0.0</td>\n      <td>0.0</td>\n      <td>0.0</td>\n      <td>2.0</td>\n      <td>1.0</td>\n      <td>A</td>\n      <td>0</td>\n      <td>12</td>\n      <td>9</td>\n    </tr>\n    <tr>\n      <th>9022</th>\n      <td>222.821848</td>\n      <td>0.035799</td>\n      <td>2015-12-31 23:00:00</td>\n      <td>4.4</td>\n      <td>4.4</td>\n      <td>3.9</td>\n      <td>96.75</td>\n      <td>0.100</td>\n      <td>100.0</td>\n      <td>0.0</td>\n      <td>...</td>\n      <td>96.7</td>\n      <td>0.0</td>\n      <td>0.0</td>\n      <td>0.0</td>\n      <td>2.0</td>\n      <td>1.0</td>\n      <td>A</td>\n      <td>0</td>\n      <td>12</td>\n      <td>10</td>\n    </tr>\n    <tr>\n      <th>9023</th>\n      <td>153.033708</td>\n      <td>0.026798</td>\n      <td>2016-01-01 00:00:00</td>\n      <td>NaN</td>\n      <td>NaN</td>\n      <td>NaN</td>\n      <td>NaN</td>\n      <td>NaN</td>\n      <td>NaN</td>\n      <td>NaN</td>\n      <td>...</td>\n      <td>NaN</td>\n      <td>NaN</td>\n      <td>NaN</td>\n      <td>NaN</td>\n      <td>NaN</td>\n      <td>NaN</td>\n      <td>A</td>\n      <td>0</td>\n      <td>1</td>\n      <td>0</td>\n    </tr>\n  </tbody>\n</table>\n<p>9024 rows × 25 columns</p>\n</div>"
     },
     "execution_count": 29,
     "metadata": {},
     "output_type": "execute_result"
    }
   ],
   "source": [
    "luzern"
   ],
   "metadata": {
    "collapsed": false,
    "ExecuteTime": {
     "end_time": "2023-12-29T18:03:44.689095100Z",
     "start_time": "2023-12-29T18:03:44.537809800Z"
    }
   },
   "id": "bbd8d02d1b4d4245",
   "execution_count": 29
  },
  {
   "cell_type": "code",
   "outputs": [],
   "source": [
    "luzern_rain = luzern[luzern[\"rainfall\"] > 0]\n",
    "luzern_dry = luzern[luzern[\"rainfall\"] == 0]"
   ],
   "metadata": {
    "collapsed": false,
    "ExecuteTime": {
     "end_time": "2023-12-29T18:03:44.903624100Z",
     "start_time": "2023-12-29T18:03:44.679566600Z"
    }
   },
   "id": "71e66bb4c0ce13ac",
   "execution_count": 30
  },
  {
   "cell_type": "code",
   "outputs": [],
   "source": [
    "luzern_monday_rainfall = luzern_rain[luzern_rain[\"date\"].dt.dayofweek == 0]\n",
    "luzern_tuesday_rainfall = luzern_rain[luzern_rain[\"date\"].dt.dayofweek == 1]\n",
    "luzern_wednesday_rainfall = luzern_rain[luzern_rain[\"date\"].dt.dayofweek == 2]\n",
    "luzern_thursday_rainfall = luzern_rain[luzern_rain[\"date\"].dt.dayofweek == 3]\n",
    "luzern_friday_rainfall = luzern_rain[luzern_rain[\"date\"].dt.dayofweek == 4]\n",
    "luzern_saturday_rainfall = luzern_rain[luzern_rain[\"date\"].dt.dayofweek == 5]\n",
    "luzern_sunday_rainfall = luzern_rain[luzern_rain[\"date\"].dt.dayofweek == 6]\n",
    "\n",
    "luzern_monday_rainfall_at_9 = luzern_monday_rainfall[luzern_monday_rainfall[\"date\"].dt.hour == 9]\n",
    "luzern_tuesday_rainfall_at_9 = luzern_tuesday_rainfall[luzern_tuesday_rainfall[\"date\"].dt.hour == 9]\n",
    "luzern_wednesday_rainfall_at_9 = luzern_wednesday_rainfall[luzern_wednesday_rainfall[\"date\"].dt.hour == 9]\n",
    "luzern_thursday_rainfall_at_9 = luzern_thursday_rainfall[luzern_thursday_rainfall[\"date\"].dt.hour == 9]\n",
    "luzern_friday_rainfall_at_9 = luzern_friday_rainfall[luzern_friday_rainfall[\"date\"].dt.hour == 9]\n",
    "luzern_saturday_rainfall_at_9 = luzern_saturday_rainfall[luzern_saturday_rainfall[\"date\"].dt.hour == 9]\n",
    "luzern_sunday_rainfall_at_9 = luzern_sunday_rainfall[luzern_sunday_rainfall[\"date\"].dt.hour == 9]\n",
    "\n",
    "luzern_monday_norainfall = luzern_dry[luzern_dry[\"date\"].dt.dayofweek == 0]\n",
    "luzern_tuesday_norainfall = luzern_dry[luzern_dry[\"date\"].dt.dayofweek == 1]\n",
    "luzern_wednesday_norainfall = luzern_dry[luzern_dry[\"date\"].dt.dayofweek == 2]\n",
    "luzern_thursday_norainfall = luzern_dry[luzern_dry[\"date\"].dt.dayofweek == 3]\n",
    "luzern_friday_norainfall = luzern_dry[luzern_dry[\"date\"].dt.dayofweek == 4]\n",
    "luzern_saturday_norainfall = luzern_dry[luzern_dry[\"date\"].dt.dayofweek == 5]\n",
    "luzern_sunday_norainfall = luzern_dry[luzern_dry[\"date\"].dt.dayofweek == 6]\n",
    "\n",
    "luzern_monday_norainfall_at_9 = luzern_monday_norainfall[luzern_monday_norainfall[\"date\"].dt.hour == 9]\n",
    "luzern_tuesday_norainfall_at_9 = luzern_tuesday_norainfall[luzern_tuesday_norainfall[\"date\"].dt.hour == 9]\n",
    "luzern_wednesday_norainfall_at_9 = luzern_wednesday_norainfall[luzern_wednesday_norainfall[\"date\"].dt.hour == 9]\n",
    "luzern_thursday_norainfall_at_9 = luzern_thursday_norainfall[luzern_thursday_norainfall[\"date\"].dt.hour == 9]\n",
    "luzern_friday_norainfall_at_9 = luzern_friday_norainfall[luzern_friday_norainfall[\"date\"].dt.hour == 9]\n",
    "luzern_saturday_norainfall_at_9 = luzern_saturday_norainfall[luzern_saturday_norainfall[\"date\"].dt.hour == 9]\n",
    "luzern_sunday_norainfall_at_9 = luzern_sunday_norainfall[luzern_sunday_norainfall[\"date\"].dt.hour == 9]"
   ],
   "metadata": {
    "collapsed": false,
    "ExecuteTime": {
     "end_time": "2023-12-29T18:03:44.949852600Z",
     "start_time": "2023-12-29T18:03:44.779254700Z"
    }
   },
   "id": "502d0af547c68fb3",
   "execution_count": 31
  },
  {
   "cell_type": "markdown",
   "source": [
    "# Step 1"
   ],
   "metadata": {
    "collapsed": false
   },
   "id": "ef9526d4b92089c7"
  },
  {
   "cell_type": "code",
   "outputs": [
    {
     "name": "stdout",
     "output_type": "stream",
     "text": [
      "figure 1\n",
      "figure 2\n",
      "figure 3\n",
      "figure 4\n",
      "figure 5\n",
      "figure 6\n",
      "figure 7\n",
      "figure 8\n",
      "figure 9\n",
      "figure 10\n",
      "figure 11\n",
      "figure 12\n",
      "figure 13\n",
      "figure 14\n",
      "figure 15\n",
      "figure 16\n",
      "figure 17\n",
      "figure 18\n",
      "figure 19\n",
      "figure 20\n",
      "figure 21\n",
      "figure 22\n",
      "figure 23\n"
     ]
    }
   ],
   "source": [
    "fig_path = Path(\"D:\\All Python\\All_Big_raw_Data\\LOS prediction\\Traffic Dataset\\DataLoader\\Figures\\Full\")\n",
    "if not os.path.exists(fig_path):\n",
    "    os.mkdir(fig_path)\n",
    "\n",
    "v_luzern_rain = luzern_rain.drop(\"date\", axis=1)\n",
    "v_luzern_dry = luzern_dry.drop(\"date\", axis=1)\n",
    "n = len(v_luzern_dry.columns)\n",
    "\n",
    "for i in range(1, n):\n",
    "    mask_dry = ~pd.isna(v_luzern_dry.iloc[:, i])\n",
    "    mask_rain = ~pd.isna(v_luzern_rain.iloc[:, i])\n",
    "    print(f\"figure {i}\")\n",
    "    plt.figure(figsize=(10, 6))\n",
    "    plt.scatter(v_luzern_rain.iloc[:, i][mask_rain], v_luzern_rain['flow'][mask_rain], c=\"b\")\n",
    "    plt.scatter(v_luzern_dry.iloc[:, i][mask_dry], v_luzern_dry['flow'][mask_dry], c=\"r\")\n",
    "    plt.xlabel(v_luzern_dry.columns[i])\n",
    "    plt.ylabel(\"Flow\")\n",
    "    plt.title(f\"Flow vs {v_luzern_dry.columns[i]}\")\n",
    "    plt.savefig(fig_path / f\"Flow vs {v_luzern_dry.columns[i]}.{save_format}\", format=save_format)\n",
    "    plt.close()"
   ],
   "metadata": {
    "collapsed": false,
    "ExecuteTime": {
     "end_time": "2023-12-29T18:03:50.385017800Z",
     "start_time": "2023-12-29T18:03:44.874769500Z"
    }
   },
   "id": "502c300315c564c0",
   "execution_count": 32
  },
  {
   "cell_type": "code",
   "outputs": [
    {
     "name": "stdout",
     "output_type": "stream",
     "text": [
      "figure 1\n",
      "figure 2\n",
      "figure 3\n",
      "figure 4\n",
      "figure 5\n",
      "figure 6\n",
      "figure 7\n",
      "figure 8\n",
      "figure 9\n",
      "figure 10\n",
      "figure 11\n",
      "figure 12\n",
      "figure 13\n",
      "figure 14\n",
      "figure 15\n",
      "figure 16\n",
      "figure 17\n",
      "figure 18\n",
      "figure 19\n",
      "figure 20\n",
      "figure 21\n",
      "figure 22\n",
      "figure 23\n"
     ]
    }
   ],
   "source": [
    "fig_path = Path(\"D:\\All Python\\All_Big_raw_Data\\LOS prediction\\Traffic Dataset\\DataLoader\\Figures\\monday\")\n",
    "if not os.path.exists(fig_path):\n",
    "    os.mkdir(fig_path)\n",
    "\n",
    "v_luzern_rain = luzern_monday_rainfall.drop(\"date\", axis=1)\n",
    "v_luzern_dry = luzern_monday_norainfall.drop(\"date\", axis=1)\n",
    "n = len(v_luzern_dry.columns)\n",
    "\n",
    "for i in range(1, n):\n",
    "    mask_dry = ~pd.isna(v_luzern_dry.iloc[:, i])\n",
    "    mask_rain = ~pd.isna(v_luzern_rain.iloc[:, i])\n",
    "    print(f\"figure {i}\")\n",
    "    plt.figure(figsize=(10, 6))\n",
    "    plt.scatter(v_luzern_rain.iloc[:, i][mask_rain], v_luzern_rain['flow'][mask_rain], c=\"b\")\n",
    "    plt.scatter(v_luzern_dry.iloc[:, i][mask_dry], v_luzern_dry['flow'][mask_dry], c=\"r\")\n",
    "    plt.xlabel(v_luzern_dry.columns[i])\n",
    "    plt.ylabel(\"Flow\")\n",
    "    plt.title(f\"Flow vs {v_luzern_dry.columns[i]}\")\n",
    "    plt.savefig(fig_path / f\"Flow vs {v_luzern_dry.columns[i]}.{save_format}\", format=save_format)\n",
    "    plt.close()"
   ],
   "metadata": {
    "collapsed": false,
    "ExecuteTime": {
     "end_time": "2023-12-29T18:03:54.605512200Z",
     "start_time": "2023-12-29T18:03:50.374145200Z"
    }
   },
   "id": "70a038a28b34343b",
   "execution_count": 33
  },
  {
   "cell_type": "code",
   "outputs": [
    {
     "name": "stdout",
     "output_type": "stream",
     "text": [
      "figure 1\n",
      "figure 2\n",
      "figure 3\n",
      "figure 4\n",
      "figure 5\n",
      "figure 6\n",
      "figure 7\n",
      "figure 8\n",
      "figure 9\n",
      "figure 10\n",
      "figure 11\n",
      "figure 12\n",
      "figure 13\n",
      "figure 14\n",
      "figure 15\n",
      "figure 16\n",
      "figure 17\n",
      "figure 18\n",
      "figure 19\n",
      "figure 20\n",
      "figure 21\n",
      "figure 22\n",
      "figure 23\n"
     ]
    }
   ],
   "source": [
    "fig_path = Path(\"D:\\All Python\\All_Big_raw_Data\\LOS prediction\\Traffic Dataset\\DataLoader\\Figures\\monday_at_9\")\n",
    "if not os.path.exists(fig_path):\n",
    "    os.mkdir(fig_path)\n",
    "\n",
    "v_luzern_rain = luzern_monday_rainfall_at_9.drop(\"date\", axis=1)\n",
    "v_luzern_dry = luzern_monday_norainfall_at_9.drop(\"date\", axis=1)\n",
    "n = len(v_luzern_dry.columns)\n",
    "\n",
    "for i in range(1, n):\n",
    "    mask_dry = ~pd.isna(v_luzern_dry.iloc[:, i])\n",
    "    mask_rain = ~pd.isna(v_luzern_rain.iloc[:, i])\n",
    "    print(f\"figure {i}\")\n",
    "    plt.figure(figsize=(10, 6))\n",
    "    plt.scatter(v_luzern_rain.iloc[:, i][mask_rain], v_luzern_rain['flow'][mask_rain], c=\"b\")\n",
    "    plt.scatter(v_luzern_dry.iloc[:, i][mask_dry], v_luzern_dry['flow'][mask_dry], c=\"r\")\n",
    "    plt.xlabel(v_luzern_dry.columns[i])\n",
    "    plt.ylabel(\"Flow\")\n",
    "    plt.title(f\"Flow vs {v_luzern_dry.columns[i]}\")\n",
    "    plt.savefig(fig_path / f\"Flow vs {v_luzern_dry.columns[i]}.{save_format}\", format=save_format)\n",
    "    plt.close()"
   ],
   "metadata": {
    "collapsed": false,
    "ExecuteTime": {
     "end_time": "2023-12-29T18:03:58.561362500Z",
     "start_time": "2023-12-29T18:03:54.597966500Z"
    }
   },
   "id": "f7ecd3f79e1ea107",
   "execution_count": 34
  },
  {
   "cell_type": "markdown",
   "source": [
    "# Step 2"
   ],
   "metadata": {
    "collapsed": false
   },
   "id": "96087e039fc57f7c"
  },
  {
   "cell_type": "code",
   "outputs": [
    {
     "name": "stdout",
     "output_type": "stream",
     "text": [
      "<class 'pandas.core.frame.DataFrame'>\n",
      "Index: 9024 entries, 0 to 9023\n",
      "Data columns (total 23 columns):\n",
      " #   Column            Non-Null Count  Dtype  \n",
      "---  ------            --------------  -----  \n",
      " 0   flow              9024 non-null   float64\n",
      " 1   occ               9024 non-null   float64\n",
      " 2   temp              8886 non-null   float64\n",
      " 3   feelslike         8886 non-null   float64\n",
      " 4   dew               8886 non-null   float64\n",
      " 5   humidity          8886 non-null   float64\n",
      " 6   rainfall          8886 non-null   float64\n",
      " 7   precipprob        8886 non-null   float64\n",
      " 8   snow              8884 non-null   float64\n",
      " 9   snowdepth         8884 non-null   float64\n",
      " 10  windgust          8847 non-null   float64\n",
      " 11  windspeed         8886 non-null   float64\n",
      " 12  winddir           8886 non-null   float64\n",
      " 13  sealevelpressure  8884 non-null   float64\n",
      " 14  cloudcover        8886 non-null   float64\n",
      " 15  solarradiation    8886 non-null   float64\n",
      " 16  solarenergy       8886 non-null   float64\n",
      " 17  uvindex           8886 non-null   float64\n",
      " 18  conditions        8886 non-null   float64\n",
      " 19  icon              8886 non-null   float64\n",
      " 20  LOS_index         9024 non-null   int64  \n",
      " 21  month             9024 non-null   int64  \n",
      " 22  time_of_raining   9024 non-null   int64  \n",
      "dtypes: float64(20), int64(3)\n",
      "memory usage: 1.7 MB\n"
     ]
    }
   ],
   "source": [
    "luzern_numeric = luzern.drop('date', axis=1)\n",
    "luzern_numeric = luzern_numeric.drop('LOS', axis=1)\n",
    "luzern_numeric.info()"
   ],
   "metadata": {
    "collapsed": false,
    "ExecuteTime": {
     "end_time": "2023-12-29T18:03:58.667107700Z",
     "start_time": "2023-12-29T18:03:58.562490Z"
    }
   },
   "id": "878819d81e065f74",
   "execution_count": 35
  },
  {
   "cell_type": "code",
   "outputs": [],
   "source": [
    "fig_path = Path(\"D:\\All Python\\All_Big_raw_Data\\LOS prediction\\Traffic Dataset\\DataLoader\")\n",
    "luzern_1 = luzern_numeric.dropna(inplace=False)\n",
    "corr_matrix = luzern_1.corr()\n",
    "plt.figure(figsize=(12, 8))\n",
    "sns.heatmap(corr_matrix, annot=True, cmap='coolwarm')\n",
    "plt.title('Correlation Matrix')\n",
    "plt.savefig(fig_path / f\"Correlation Matrix.{save_format}\", format=save_format)\n",
    "plt.close()"
   ],
   "metadata": {
    "collapsed": false,
    "ExecuteTime": {
     "end_time": "2023-12-29T18:04:15.487728900Z",
     "start_time": "2023-12-29T18:04:14.178991700Z"
    }
   },
   "id": "c3f12063ab4bfa05",
   "execution_count": 37
  },
  {
   "cell_type": "markdown",
   "source": [
    "# Step 3"
   ],
   "metadata": {
    "collapsed": false
   },
   "id": "142cb2c71b779c13"
  },
  {
   "cell_type": "code",
   "outputs": [
    {
     "data": {
      "text/plain": "<Figure size 1000x600 with 1 Axes>",
      "image/png": "[encoded data removed]"
     },
     "metadata": {},
     "output_type": "display_data"
    }
   ],
   "source": [
    "plt.figure(figsize=(10, 6))\n",
    "sns.violinplot(x=\"rainfall\", y=\"flow\", data=luzern_monday_norainfall)\n",
    "plt.xlabel('rainfall')\n",
    "plt.ylabel('Flow')\n",
    "plt.title('Flow across Conditions')\n",
    "plt.xticks(rotation=45)\n",
    "plt.show()"
   ],
   "metadata": {
    "collapsed": false,
    "ExecuteTime": {
     "end_time": "2023-12-29T18:05:01.707276200Z",
     "start_time": "2023-12-29T18:05:01.465243900Z"
    }
   },
   "id": "f74987acb752a63d",
   "execution_count": 38
  },
  {
   "cell_type": "markdown",
   "source": [
    "# Step 4"
   ],
   "metadata": {
    "collapsed": false
   },
   "id": "668a0092a25e4efd"
  },
  {
   "cell_type": "code",
   "outputs": [
    {
     "ename": "ModuleNotFoundError",
     "evalue": "No module named 'statsmodels'",
     "output_type": "error",
     "traceback": [
      "\u001B[1;31m---------------------------------------------------------------------------\u001B[0m",
      "\u001B[1;31mModuleNotFoundError\u001B[0m                       Traceback (most recent call last)",
      "Cell \u001B[1;32mIn[39], line 1\u001B[0m\n\u001B[1;32m----> 1\u001B[0m \u001B[38;5;28;01mimport\u001B[39;00m \u001B[38;5;21;01mStatistical_Hypothesis_Tests\u001B[39;00m\n\u001B[0;32m      3\u001B[0m stat \u001B[38;5;241m=\u001B[39m Statistical_Hypothesis_Tests\u001B[38;5;241m.\u001B[39mCorrelation()\n",
      "File \u001B[1;32mD:\\All Python\\Machine-Learning-Projects\\Project 5 - LOS Prediction\\Main Project\\DataLoader\\Statistical_Hypothesis_Tests.py:10\u001B[0m\n\u001B[0;32m      7\u001B[0m \u001B[38;5;28;01mfrom\u001B[39;00m \u001B[38;5;21;01mscipy\u001B[39;00m\u001B[38;5;21;01m.\u001B[39;00m\u001B[38;5;21;01mstats\u001B[39;00m \u001B[38;5;28;01mimport\u001B[39;00m kendalltau\n\u001B[0;32m      8\u001B[0m \u001B[38;5;28;01mfrom\u001B[39;00m \u001B[38;5;21;01mscipy\u001B[39;00m\u001B[38;5;21;01m.\u001B[39;00m\u001B[38;5;21;01mstats\u001B[39;00m \u001B[38;5;28;01mimport\u001B[39;00m chi2_contingency\n\u001B[1;32m---> 10\u001B[0m \u001B[38;5;28;01mfrom\u001B[39;00m \u001B[38;5;21;01mstatsmodels\u001B[39;00m\u001B[38;5;21;01m.\u001B[39;00m\u001B[38;5;21;01mtsa\u001B[39;00m\u001B[38;5;21;01m.\u001B[39;00m\u001B[38;5;21;01mstattools\u001B[39;00m \u001B[38;5;28;01mimport\u001B[39;00m adfuller\n\u001B[0;32m     11\u001B[0m \u001B[38;5;28;01mfrom\u001B[39;00m \u001B[38;5;21;01mstatsmodels\u001B[39;00m\u001B[38;5;21;01m.\u001B[39;00m\u001B[38;5;21;01mtsa\u001B[39;00m\u001B[38;5;21;01m.\u001B[39;00m\u001B[38;5;21;01mstattools\u001B[39;00m \u001B[38;5;28;01mimport\u001B[39;00m kpss\n\u001B[0;32m     13\u001B[0m \u001B[38;5;28;01mfrom\u001B[39;00m \u001B[38;5;21;01mscipy\u001B[39;00m\u001B[38;5;21;01m.\u001B[39;00m\u001B[38;5;21;01mstats\u001B[39;00m \u001B[38;5;28;01mimport\u001B[39;00m ttest_ind\n",
      "\u001B[1;31mModuleNotFoundError\u001B[0m: No module named 'statsmodels'"
     ]
    }
   ],
   "source": [
    "import Statistical_Hypothesis_Tests\n",
    "\n",
    "stat = Statistical_Hypothesis_Tests.Correlation()"
   ],
   "metadata": {
    "collapsed": false,
    "ExecuteTime": {
     "end_time": "2023-12-29T18:05:07.234334600Z",
     "start_time": "2023-12-29T18:05:07.058006900Z"
    }
   },
   "id": "4ab59a64eeeccb9e",
   "execution_count": 39
  },
  {
   "cell_type": "code",
   "outputs": [],
   "source": [
    "data1 = luzern_1[\"flow\"]\n",
    "data2 = luzern_1[\"rainfall\"]\n",
    "data2 = luzern_1[\"LOS_index\"]\n",
    "data2 = luzern_1[\"humidity\"]\n",
    "data2 = luzern_1[\"temp\"]\n"
   ],
   "metadata": {
    "collapsed": false,
    "ExecuteTime": {
     "end_time": "2023-12-29T18:05:07.756849300Z",
     "start_time": "2023-12-29T18:05:07.621480200Z"
    }
   },
   "id": "d751cd5bb1b8f1a2",
   "execution_count": 40
  },
  {
   "cell_type": "code",
   "outputs": [
    {
     "ename": "NameError",
     "evalue": "name 'stat' is not defined",
     "output_type": "error",
     "traceback": [
      "\u001B[1;31m---------------------------------------------------------------------------\u001B[0m",
      "\u001B[1;31mNameError\u001B[0m                                 Traceback (most recent call last)",
      "Cell \u001B[1;32mIn[41], line 1\u001B[0m\n\u001B[1;32m----> 1\u001B[0m \u001B[43mstat\u001B[49m\u001B[38;5;241m.\u001B[39mpearson(data1, data2)\n",
      "\u001B[1;31mNameError\u001B[0m: name 'stat' is not defined"
     ]
    }
   ],
   "source": [
    "stat.pearson(data1, data2)"
   ],
   "metadata": {
    "collapsed": false,
    "ExecuteTime": {
     "end_time": "2023-12-29T18:05:07.886947800Z",
     "start_time": "2023-12-29T18:05:07.762106300Z"
    }
   },
   "id": "5cd7e23ef7b38be1",
   "execution_count": 41
  },
  {
   "cell_type": "code",
   "outputs": [
    {
     "ename": "NameError",
     "evalue": "name 'stat' is not defined",
     "output_type": "error",
     "traceback": [
      "\u001B[1;31m---------------------------------------------------------------------------\u001B[0m",
      "\u001B[1;31mNameError\u001B[0m                                 Traceback (most recent call last)",
      "Cell \u001B[1;32mIn[42], line 1\u001B[0m\n\u001B[1;32m----> 1\u001B[0m \u001B[43mstat\u001B[49m\u001B[38;5;241m.\u001B[39mspearman(data1, data2)\n",
      "\u001B[1;31mNameError\u001B[0m: name 'stat' is not defined"
     ]
    }
   ],
   "source": [
    "stat.spearman(data1, data2)"
   ],
   "metadata": {
    "collapsed": false,
    "ExecuteTime": {
     "end_time": "2023-12-29T18:05:09.914800300Z",
     "start_time": "2023-12-29T18:05:09.805097900Z"
    }
   },
   "id": "2772a6d19ebc17f9",
   "execution_count": 42
  },
  {
   "cell_type": "code",
   "outputs": [],
   "source": [],
   "metadata": {
    "collapsed": false,
    "ExecuteTime": {
     "start_time": "2023-12-29T18:03:58.789677900Z"
    }
   },
   "id": "7729afcc3d6d57c2"
  }
 ],
 "metadata": {
  "kernelspec": {
   "display_name": "Python 3",
   "language": "python",
   "name": "python3"
  },
  "language_info": {
   "codemirror_mode": {
    "name": "ipython",
    "version": 2
   },
   "file_extension": ".py",
   "mimetype": "text/x-python",
   "name": "python",
   "nbconvert_exporter": "python",
   "pygments_lexer": "ipython2",
   "version": "2.7.6"
  }
 },
 "nbformat": 4,
 "nbformat_minor": 5
}
