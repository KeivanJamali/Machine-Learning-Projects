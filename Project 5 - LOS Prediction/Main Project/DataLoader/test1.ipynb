{
 "cells": [
  {
   "cell_type": "code",
   "execution_count": 1,
   "id": "initial_id",
   "metadata": {
    "collapsed": true,
    "ExecuteTime": {
     "end_time": "2023-11-23T12:35:30.654327800Z",
     "start_time": "2023-11-23T12:35:30.020849400Z"
    }
   },
   "outputs": [],
   "source": [
    "%load_ext autoreload\n",
    "%autoreload 2\n",
    "import pandas as pd\n",
    "from pathlib import Path\n",
    "# required to read HDF5 files\n",
    "# import tables\n",
    "# import h5py"
   ]
  },
  {
   "cell_type": "code",
   "execution_count": 2,
   "outputs": [],
   "source": [
    "from pandas import HDFStore\n",
    "import numpy as np\n",
    "store = HDFStore('test.h5')\n",
    "df = pd.DataFrame(np.random.randn(10, 4), columns=['A', 'B', 'C', 'D'])\n",
    "store.put('ddf', df, format='table', data_columns=True)\n",
    "df2 = pd.DataFrame(np.random.randn(5, 4), columns=['A', 'B', 'C', 'D'])\n",
    "store.append('ddf', df2, format='table', data_columns=True)\n",
    "store.close()"
   ],
   "metadata": {
    "collapsed": false,
    "ExecuteTime": {
     "end_time": "2023-11-23T12:35:34.362138400Z",
     "start_time": "2023-11-23T12:35:31.869412500Z"
    }
   },
   "id": "7935faaba6454bed"
  },
  {
   "cell_type": "code",
   "execution_count": 3,
   "outputs": [
    {
     "ename": "ClosedFileError",
     "evalue": "test.h5 file is not open!",
     "output_type": "error",
     "traceback": [
      "\u001B[1;31m---------------------------------------------------------------------------\u001B[0m",
      "\u001B[1;31mClosedFileError\u001B[0m                           Traceback (most recent call last)",
      "Cell \u001B[1;32mIn[3], line 1\u001B[0m\n\u001B[1;32m----> 1\u001B[0m \u001B[43mstore\u001B[49m\u001B[43m[\u001B[49m\u001B[38;5;124;43m\"\u001B[39;49m\u001B[38;5;124;43mddf\u001B[39;49m\u001B[38;5;124;43m\"\u001B[39;49m\u001B[43m]\u001B[49m\n",
      "File \u001B[1;32mC:\\All Python Projects\\Interpreters\\in_Machine_Learning\\Lib\\site-packages\\pandas\\io\\pytables.py:596\u001B[0m, in \u001B[0;36mHDFStore.__getitem__\u001B[1;34m(self, key)\u001B[0m\n\u001B[0;32m    595\u001B[0m \u001B[38;5;28;01mdef\u001B[39;00m \u001B[38;5;21m__getitem__\u001B[39m(\u001B[38;5;28mself\u001B[39m, key: \u001B[38;5;28mstr\u001B[39m):\n\u001B[1;32m--> 596\u001B[0m     \u001B[38;5;28;01mreturn\u001B[39;00m \u001B[38;5;28;43mself\u001B[39;49m\u001B[38;5;241;43m.\u001B[39;49m\u001B[43mget\u001B[49m\u001B[43m(\u001B[49m\u001B[43mkey\u001B[49m\u001B[43m)\u001B[49m\n",
      "File \u001B[1;32mC:\\All Python Projects\\Interpreters\\in_Machine_Learning\\Lib\\site-packages\\pandas\\io\\pytables.py:788\u001B[0m, in \u001B[0;36mHDFStore.get\u001B[1;34m(self, key)\u001B[0m\n\u001B[0;32m    773\u001B[0m \u001B[38;5;250m\u001B[39m\u001B[38;5;124;03m\"\"\"\u001B[39;00m\n\u001B[0;32m    774\u001B[0m \u001B[38;5;124;03mRetrieve pandas object stored in file.\u001B[39;00m\n\u001B[0;32m    775\u001B[0m \n\u001B[1;32m   (...)\u001B[0m\n\u001B[0;32m    783\u001B[0m \u001B[38;5;124;03m    Same type as object stored in file.\u001B[39;00m\n\u001B[0;32m    784\u001B[0m \u001B[38;5;124;03m\"\"\"\u001B[39;00m\n\u001B[0;32m    785\u001B[0m \u001B[38;5;28;01mwith\u001B[39;00m patch_pickle():\n\u001B[0;32m    786\u001B[0m     \u001B[38;5;66;03m# GH#31167 Without this patch, pickle doesn't know how to unpickle\u001B[39;00m\n\u001B[0;32m    787\u001B[0m     \u001B[38;5;66;03m#  old DateOffset objects now that they are cdef classes.\u001B[39;00m\n\u001B[1;32m--> 788\u001B[0m     group \u001B[38;5;241m=\u001B[39m \u001B[38;5;28;43mself\u001B[39;49m\u001B[38;5;241;43m.\u001B[39;49m\u001B[43mget_node\u001B[49m\u001B[43m(\u001B[49m\u001B[43mkey\u001B[49m\u001B[43m)\u001B[49m\n\u001B[0;32m    789\u001B[0m     \u001B[38;5;28;01mif\u001B[39;00m group \u001B[38;5;129;01mis\u001B[39;00m \u001B[38;5;28;01mNone\u001B[39;00m:\n\u001B[0;32m    790\u001B[0m         \u001B[38;5;28;01mraise\u001B[39;00m \u001B[38;5;167;01mKeyError\u001B[39;00m(\u001B[38;5;124mf\u001B[39m\u001B[38;5;124m\"\u001B[39m\u001B[38;5;124mNo object named \u001B[39m\u001B[38;5;132;01m{\u001B[39;00mkey\u001B[38;5;132;01m}\u001B[39;00m\u001B[38;5;124m in the file\u001B[39m\u001B[38;5;124m\"\u001B[39m)\n",
      "File \u001B[1;32mC:\\All Python Projects\\Interpreters\\in_Machine_Learning\\Lib\\site-packages\\pandas\\io\\pytables.py:1493\u001B[0m, in \u001B[0;36mHDFStore.get_node\u001B[1;34m(self, key)\u001B[0m\n\u001B[0;32m   1491\u001B[0m \u001B[38;5;28;01mdef\u001B[39;00m \u001B[38;5;21mget_node\u001B[39m(\u001B[38;5;28mself\u001B[39m, key: \u001B[38;5;28mstr\u001B[39m) \u001B[38;5;241m-\u001B[39m\u001B[38;5;241m>\u001B[39m Node \u001B[38;5;241m|\u001B[39m \u001B[38;5;28;01mNone\u001B[39;00m:\n\u001B[0;32m   1492\u001B[0m \u001B[38;5;250m    \u001B[39m\u001B[38;5;124;03m\"\"\"return the node with the key or None if it does not exist\"\"\"\u001B[39;00m\n\u001B[1;32m-> 1493\u001B[0m     \u001B[38;5;28;43mself\u001B[39;49m\u001B[38;5;241;43m.\u001B[39;49m\u001B[43m_check_if_open\u001B[49m\u001B[43m(\u001B[49m\u001B[43m)\u001B[49m\n\u001B[0;32m   1494\u001B[0m     \u001B[38;5;28;01mif\u001B[39;00m \u001B[38;5;129;01mnot\u001B[39;00m key\u001B[38;5;241m.\u001B[39mstartswith(\u001B[38;5;124m\"\u001B[39m\u001B[38;5;124m/\u001B[39m\u001B[38;5;124m\"\u001B[39m):\n\u001B[0;32m   1495\u001B[0m         key \u001B[38;5;241m=\u001B[39m \u001B[38;5;124m\"\u001B[39m\u001B[38;5;124m/\u001B[39m\u001B[38;5;124m\"\u001B[39m \u001B[38;5;241m+\u001B[39m key\n",
      "File \u001B[1;32mC:\\All Python Projects\\Interpreters\\in_Machine_Learning\\Lib\\site-packages\\pandas\\io\\pytables.py:1620\u001B[0m, in \u001B[0;36mHDFStore._check_if_open\u001B[1;34m(self)\u001B[0m\n\u001B[0;32m   1618\u001B[0m \u001B[38;5;28;01mdef\u001B[39;00m \u001B[38;5;21m_check_if_open\u001B[39m(\u001B[38;5;28mself\u001B[39m):\n\u001B[0;32m   1619\u001B[0m     \u001B[38;5;28;01mif\u001B[39;00m \u001B[38;5;129;01mnot\u001B[39;00m \u001B[38;5;28mself\u001B[39m\u001B[38;5;241m.\u001B[39mis_open:\n\u001B[1;32m-> 1620\u001B[0m         \u001B[38;5;28;01mraise\u001B[39;00m ClosedFileError(\u001B[38;5;124mf\u001B[39m\u001B[38;5;124m\"\u001B[39m\u001B[38;5;132;01m{\u001B[39;00m\u001B[38;5;28mself\u001B[39m\u001B[38;5;241m.\u001B[39m_path\u001B[38;5;132;01m}\u001B[39;00m\u001B[38;5;124m file is not open!\u001B[39m\u001B[38;5;124m\"\u001B[39m)\n",
      "\u001B[1;31mClosedFileError\u001B[0m: test.h5 file is not open!"
     ]
    }
   ],
   "source": [
    "store[\"ddf\"]"
   ],
   "metadata": {
    "collapsed": false,
    "ExecuteTime": {
     "end_time": "2023-11-23T12:35:35.390697700Z",
     "start_time": "2023-11-23T12:35:35.094389400Z"
    }
   },
   "id": "f8aa8b993a5860"
  },
  {
   "cell_type": "code",
   "execution_count": 20,
   "outputs": [],
   "source": [
    "data_folder_path = Path(\"D:\\All Python\\All_Big_raw_Data\\LOS prediction\")\n",
    "store1 = pd.HDFStore(data_folder_path/\"metr-la.h5\")\n",
    "store2 = pd.HDFStore(data_folder_path/\"pems-bay.h5\")\n",
    "data_volume = store1[\"df\"]\n",
    "data_speed = store2[\"speed\"]\n",
    "store1.close()\n",
    "store2.close()"
   ],
   "metadata": {
    "collapsed": false,
    "ExecuteTime": {
     "end_time": "2023-11-23T12:52:17.875743300Z",
     "start_time": "2023-11-23T12:52:17.448312700Z"
    }
   },
   "id": "839797e0baee1a34"
  },
  {
   "cell_type": "code",
   "execution_count": 21,
   "outputs": [
    {
     "data": {
      "text/plain": "                        773869     767541     767542     717447     717446  \\\n2012-03-01 00:00:00  64.375000  67.625000  67.125000  61.500000  66.875000   \n2012-03-01 00:05:00  62.666667  68.555556  65.444444  62.444444  64.444444   \n2012-03-01 00:10:00  64.000000  63.750000  60.000000  59.000000  66.500000   \n2012-03-01 00:15:00   0.000000   0.000000   0.000000   0.000000   0.000000   \n2012-03-01 00:20:00   0.000000   0.000000   0.000000   0.000000   0.000000   \n...                        ...        ...        ...        ...        ...   \n2012-06-27 23:35:00  65.000000  65.888889  68.555556  61.666667   0.000000   \n2012-06-27 23:40:00  61.375000  65.625000  66.500000  62.750000   0.000000   \n2012-06-27 23:45:00  67.000000  59.666667  69.555556  61.000000   0.000000   \n2012-06-27 23:50:00  66.750000  62.250000  66.000000  59.625000   0.000000   \n2012-06-27 23:55:00  65.111111  66.888889  66.777778  61.222222   0.000000   \n\n                        717445     773062     767620     737529     717816  \\\n2012-03-01 00:00:00  68.750000  65.125000  67.125000  59.625000  62.750000   \n2012-03-01 00:05:00  68.111111  65.000000  65.000000  57.444444  63.333333   \n2012-03-01 00:10:00  66.250000  64.500000  64.250000  63.875000  65.375000   \n2012-03-01 00:15:00   0.000000   0.000000   0.000000   0.000000   0.000000   \n2012-03-01 00:20:00   0.000000   0.000000   0.000000   0.000000   0.000000   \n...                        ...        ...        ...        ...        ...   \n2012-06-27 23:35:00  54.555556  62.444444  63.333333  59.222222  65.333333   \n2012-06-27 23:40:00  50.500000  62.000000  67.000000  65.250000  67.125000   \n2012-06-27 23:45:00  44.777778  64.222222  63.777778  59.777778  57.666667   \n2012-06-27 23:50:00  53.000000  64.285714  64.125000  60.875000  66.250000   \n2012-06-27 23:55:00  49.555556  65.777778  65.111111  63.000000  61.666667   \n\n                     ...     772167     769372     774204     769806  \\\n2012-03-01 00:00:00  ...  45.625000  65.500000  64.500000  66.428571   \n2012-03-01 00:05:00  ...  50.666667  69.875000  66.666667  58.555556   \n2012-03-01 00:10:00  ...  44.125000  69.000000  56.500000  59.250000   \n2012-03-01 00:15:00  ...   0.000000   0.000000   0.000000   0.000000   \n2012-03-01 00:20:00  ...   0.000000   0.000000   0.000000   0.000000   \n...                  ...        ...        ...        ...        ...   \n2012-06-27 23:35:00  ...  52.888889  69.000000  65.111111  55.666667   \n2012-06-27 23:40:00  ...  54.000000  69.250000  60.125000  60.500000   \n2012-06-27 23:45:00  ...  51.333333  67.888889  64.333333  57.000000   \n2012-06-27 23:50:00  ...  51.125000  69.375000  61.625000  60.500000   \n2012-06-27 23:55:00  ...  56.000000  67.444444  64.888889  60.888889   \n\n                        717590     717592     717595     772168     718141  \\\n2012-03-01 00:00:00  66.875000  59.375000  69.000000  59.250000  69.000000   \n2012-03-01 00:05:00  62.000000  61.111111  64.444444  55.888889  68.444444   \n2012-03-01 00:10:00  68.125000  62.500000  65.625000  61.375000  69.857143   \n2012-03-01 00:15:00   0.000000   0.000000   0.000000   0.000000   0.000000   \n2012-03-01 00:20:00   0.000000   0.000000   0.000000   0.000000   0.000000   \n...                        ...        ...        ...        ...        ...   \n2012-06-27 23:35:00  66.333333  62.444444  66.777778  64.888889  69.666667   \n2012-06-27 23:40:00  67.250000  59.375000  66.000000  61.250000  69.000000   \n2012-06-27 23:45:00  66.000000  62.666667  68.666667  63.333333  67.444444   \n2012-06-27 23:50:00  65.625000  66.375000  69.500000  63.000000  67.875000   \n2012-06-27 23:55:00  64.222222  66.444444  68.444444  63.555556  68.666667   \n\n                        769373  \n2012-03-01 00:00:00  61.875000  \n2012-03-01 00:05:00  62.875000  \n2012-03-01 00:10:00  62.000000  \n2012-03-01 00:15:00   0.000000  \n2012-03-01 00:20:00   0.000000  \n...                        ...  \n2012-06-27 23:35:00  62.333333  \n2012-06-27 23:40:00  62.000000  \n2012-06-27 23:45:00  61.222222  \n2012-06-27 23:50:00  63.500000  \n2012-06-27 23:55:00  61.777778  \n\n[34272 rows x 207 columns]",
      "text/html": "<div>\n<style scoped>\n    .dataframe tbody tr th:only-of-type {\n        vertical-align: middle;\n    }\n\n    .dataframe tbody tr th {\n        vertical-align: top;\n    }\n\n    .dataframe thead th {\n        text-align: right;\n    }\n</style>\n<table border=\"1\" class=\"dataframe\">\n  <thead>\n    <tr style=\"text-align: right;\">\n      <th></th>\n      <th>773869</th>\n      <th>767541</th>\n      <th>767542</th>\n      <th>717447</th>\n      <th>717446</th>\n      <th>717445</th>\n      <th>773062</th>\n      <th>767620</th>\n      <th>737529</th>\n      <th>717816</th>\n      <th>...</th>\n      <th>772167</th>\n      <th>769372</th>\n      <th>774204</th>\n      <th>769806</th>\n      <th>717590</th>\n      <th>717592</th>\n      <th>717595</th>\n      <th>772168</th>\n      <th>718141</th>\n      <th>769373</th>\n    </tr>\n  </thead>\n  <tbody>\n    <tr>\n      <th>2012-03-01 00:00:00</th>\n      <td>64.375000</td>\n      <td>67.625000</td>\n      <td>67.125000</td>\n      <td>61.500000</td>\n      <td>66.875000</td>\n      <td>68.750000</td>\n      <td>65.125000</td>\n      <td>67.125000</td>\n      <td>59.625000</td>\n      <td>62.750000</td>\n      <td>...</td>\n      <td>45.625000</td>\n      <td>65.500000</td>\n      <td>64.500000</td>\n      <td>66.428571</td>\n      <td>66.875000</td>\n      <td>59.375000</td>\n      <td>69.000000</td>\n      <td>59.250000</td>\n      <td>69.000000</td>\n      <td>61.875000</td>\n    </tr>\n    <tr>\n      <th>2012-03-01 00:05:00</th>\n      <td>62.666667</td>\n      <td>68.555556</td>\n      <td>65.444444</td>\n      <td>62.444444</td>\n      <td>64.444444</td>\n      <td>68.111111</td>\n      <td>65.000000</td>\n      <td>65.000000</td>\n      <td>57.444444</td>\n      <td>63.333333</td>\n      <td>...</td>\n      <td>50.666667</td>\n      <td>69.875000</td>\n      <td>66.666667</td>\n      <td>58.555556</td>\n      <td>62.000000</td>\n      <td>61.111111</td>\n      <td>64.444444</td>\n      <td>55.888889</td>\n      <td>68.444444</td>\n      <td>62.875000</td>\n    </tr>\n    <tr>\n      <th>2012-03-01 00:10:00</th>\n      <td>64.000000</td>\n      <td>63.750000</td>\n      <td>60.000000</td>\n      <td>59.000000</td>\n      <td>66.500000</td>\n      <td>66.250000</td>\n      <td>64.500000</td>\n      <td>64.250000</td>\n      <td>63.875000</td>\n      <td>65.375000</td>\n      <td>...</td>\n      <td>44.125000</td>\n      <td>69.000000</td>\n      <td>56.500000</td>\n      <td>59.250000</td>\n      <td>68.125000</td>\n      <td>62.500000</td>\n      <td>65.625000</td>\n      <td>61.375000</td>\n      <td>69.857143</td>\n      <td>62.000000</td>\n    </tr>\n    <tr>\n      <th>2012-03-01 00:15:00</th>\n      <td>0.000000</td>\n      <td>0.000000</td>\n      <td>0.000000</td>\n      <td>0.000000</td>\n      <td>0.000000</td>\n      <td>0.000000</td>\n      <td>0.000000</td>\n      <td>0.000000</td>\n      <td>0.000000</td>\n      <td>0.000000</td>\n      <td>...</td>\n      <td>0.000000</td>\n      <td>0.000000</td>\n      <td>0.000000</td>\n      <td>0.000000</td>\n      <td>0.000000</td>\n      <td>0.000000</td>\n      <td>0.000000</td>\n      <td>0.000000</td>\n      <td>0.000000</td>\n      <td>0.000000</td>\n    </tr>\n    <tr>\n      <th>2012-03-01 00:20:00</th>\n      <td>0.000000</td>\n      <td>0.000000</td>\n      <td>0.000000</td>\n      <td>0.000000</td>\n      <td>0.000000</td>\n      <td>0.000000</td>\n      <td>0.000000</td>\n      <td>0.000000</td>\n      <td>0.000000</td>\n      <td>0.000000</td>\n      <td>...</td>\n      <td>0.000000</td>\n      <td>0.000000</td>\n      <td>0.000000</td>\n      <td>0.000000</td>\n      <td>0.000000</td>\n      <td>0.000000</td>\n      <td>0.000000</td>\n      <td>0.000000</td>\n      <td>0.000000</td>\n      <td>0.000000</td>\n    </tr>\n    <tr>\n      <th>...</th>\n      <td>...</td>\n      <td>...</td>\n      <td>...</td>\n      <td>...</td>\n      <td>...</td>\n      <td>...</td>\n      <td>...</td>\n      <td>...</td>\n      <td>...</td>\n      <td>...</td>\n      <td>...</td>\n      <td>...</td>\n      <td>...</td>\n      <td>...</td>\n      <td>...</td>\n      <td>...</td>\n      <td>...</td>\n      <td>...</td>\n      <td>...</td>\n      <td>...</td>\n      <td>...</td>\n    </tr>\n    <tr>\n      <th>2012-06-27 23:35:00</th>\n      <td>65.000000</td>\n      <td>65.888889</td>\n      <td>68.555556</td>\n      <td>61.666667</td>\n      <td>0.000000</td>\n      <td>54.555556</td>\n      <td>62.444444</td>\n      <td>63.333333</td>\n      <td>59.222222</td>\n      <td>65.333333</td>\n      <td>...</td>\n      <td>52.888889</td>\n      <td>69.000000</td>\n      <td>65.111111</td>\n      <td>55.666667</td>\n      <td>66.333333</td>\n      <td>62.444444</td>\n      <td>66.777778</td>\n      <td>64.888889</td>\n      <td>69.666667</td>\n      <td>62.333333</td>\n    </tr>\n    <tr>\n      <th>2012-06-27 23:40:00</th>\n      <td>61.375000</td>\n      <td>65.625000</td>\n      <td>66.500000</td>\n      <td>62.750000</td>\n      <td>0.000000</td>\n      <td>50.500000</td>\n      <td>62.000000</td>\n      <td>67.000000</td>\n      <td>65.250000</td>\n      <td>67.125000</td>\n      <td>...</td>\n      <td>54.000000</td>\n      <td>69.250000</td>\n      <td>60.125000</td>\n      <td>60.500000</td>\n      <td>67.250000</td>\n      <td>59.375000</td>\n      <td>66.000000</td>\n      <td>61.250000</td>\n      <td>69.000000</td>\n      <td>62.000000</td>\n    </tr>\n    <tr>\n      <th>2012-06-27 23:45:00</th>\n      <td>67.000000</td>\n      <td>59.666667</td>\n      <td>69.555556</td>\n      <td>61.000000</td>\n      <td>0.000000</td>\n      <td>44.777778</td>\n      <td>64.222222</td>\n      <td>63.777778</td>\n      <td>59.777778</td>\n      <td>57.666667</td>\n      <td>...</td>\n      <td>51.333333</td>\n      <td>67.888889</td>\n      <td>64.333333</td>\n      <td>57.000000</td>\n      <td>66.000000</td>\n      <td>62.666667</td>\n      <td>68.666667</td>\n      <td>63.333333</td>\n      <td>67.444444</td>\n      <td>61.222222</td>\n    </tr>\n    <tr>\n      <th>2012-06-27 23:50:00</th>\n      <td>66.750000</td>\n      <td>62.250000</td>\n      <td>66.000000</td>\n      <td>59.625000</td>\n      <td>0.000000</td>\n      <td>53.000000</td>\n      <td>64.285714</td>\n      <td>64.125000</td>\n      <td>60.875000</td>\n      <td>66.250000</td>\n      <td>...</td>\n      <td>51.125000</td>\n      <td>69.375000</td>\n      <td>61.625000</td>\n      <td>60.500000</td>\n      <td>65.625000</td>\n      <td>66.375000</td>\n      <td>69.500000</td>\n      <td>63.000000</td>\n      <td>67.875000</td>\n      <td>63.500000</td>\n    </tr>\n    <tr>\n      <th>2012-06-27 23:55:00</th>\n      <td>65.111111</td>\n      <td>66.888889</td>\n      <td>66.777778</td>\n      <td>61.222222</td>\n      <td>0.000000</td>\n      <td>49.555556</td>\n      <td>65.777778</td>\n      <td>65.111111</td>\n      <td>63.000000</td>\n      <td>61.666667</td>\n      <td>...</td>\n      <td>56.000000</td>\n      <td>67.444444</td>\n      <td>64.888889</td>\n      <td>60.888889</td>\n      <td>64.222222</td>\n      <td>66.444444</td>\n      <td>68.444444</td>\n      <td>63.555556</td>\n      <td>68.666667</td>\n      <td>61.777778</td>\n    </tr>\n  </tbody>\n</table>\n<p>34272 rows × 207 columns</p>\n</div>"
     },
     "execution_count": 21,
     "metadata": {},
     "output_type": "execute_result"
    }
   ],
   "source": [
    "data_volume"
   ],
   "metadata": {
    "collapsed": false,
    "ExecuteTime": {
     "end_time": "2023-11-23T12:52:21.604689300Z",
     "start_time": "2023-11-23T12:52:21.522065300Z"
    }
   },
   "id": "d06515c59326386a"
  },
  {
   "cell_type": "code",
   "execution_count": 19,
   "outputs": [
    {
     "data": {
      "text/plain": "sensor_id            400001  400017  400030  400040  400045  400052  400057  \\\n2017-01-01 00:00:00    71.4    67.8    70.5    67.4    68.8    66.6    66.8   \n2017-01-01 00:05:00    71.6    67.5    70.6    67.5    68.7    66.6    66.8   \n2017-01-01 00:10:00    71.6    67.6    70.2    67.4    68.7    66.1    66.8   \n2017-01-01 00:15:00    71.1    67.5    70.3    68.0    68.5    66.7    66.6   \n2017-01-01 00:20:00    71.7    67.8    70.2    68.1    68.4    66.9    66.1   \n...                     ...     ...     ...     ...     ...     ...     ...   \n2017-06-30 23:35:00    70.9    66.3    68.4    61.0    61.8    66.9    66.0   \n2017-06-30 23:40:00    71.3    66.6    68.7    60.9    62.0    66.2    66.5   \n2017-06-30 23:45:00    71.4    66.9    68.1    61.1    62.0    66.7    65.8   \n2017-06-30 23:50:00    72.2    66.5    68.0    61.1    62.5    65.8    67.1   \n2017-06-30 23:55:00    71.5    66.2    68.4    61.5    62.8    66.1    67.7   \n\nsensor_id            400059  400065  400069  ...  409525  409526  409528  \\\n2017-01-01 00:00:00    68.0    66.8    69.0  ...    68.8    67.9    68.8   \n2017-01-01 00:05:00    67.8    66.5    68.2  ...    68.4    67.3    68.4   \n2017-01-01 00:10:00    67.8    66.2    67.8  ...    68.4    67.4    68.4   \n2017-01-01 00:15:00    67.7    65.9    67.8  ...    68.5    67.5    68.5   \n2017-01-01 00:20:00    67.7    66.1    67.8  ...    68.5    67.7    68.5   \n...                     ...     ...     ...  ...     ...     ...     ...   \n2017-06-30 23:35:00    67.4    65.4    69.3  ...    64.6    66.8    64.7   \n2017-06-30 23:40:00    68.2    64.9    69.1  ...    65.1    67.3    64.8   \n2017-06-30 23:45:00    68.2    64.2    69.1  ...    64.9    66.5    64.6   \n2017-06-30 23:50:00    68.3    64.0    67.3  ...    64.1    65.9    64.8   \n2017-06-30 23:55:00    68.4    64.9    68.0  ...    64.3    66.5    64.8   \n\nsensor_id            409529  413026  413845  413877  413878  414284  414694  \n2017-01-01 00:00:00    68.0    69.2    68.9    70.4    68.8    71.1    68.0  \n2017-01-01 00:05:00    67.6    70.4    68.8    70.1    68.4    70.8    67.4  \n2017-01-01 00:10:00    67.5    70.2    68.3    69.8    68.4    70.5    67.9  \n2017-01-01 00:15:00    67.5    70.4    68.7    70.2    68.4    70.8    67.6  \n2017-01-01 00:20:00    67.4    69.6    69.1    70.0    68.4    71.0    67.9  \n...                     ...     ...     ...     ...     ...     ...     ...  \n2017-06-30 23:35:00    61.1    68.4    61.4    70.5    68.2    71.6    66.2  \n2017-06-30 23:40:00    60.8    69.8    62.2    69.4    68.6    71.6    68.4  \n2017-06-30 23:45:00    61.3    69.5    63.8    70.6    68.4    71.6    66.6  \n2017-06-30 23:50:00    61.3    69.6    64.2    70.2    68.7    71.6    68.4  \n2017-06-30 23:55:00    60.9    70.9    63.4    70.3    68.7    71.6    68.0  \n\n[52116 rows x 325 columns]",
      "text/html": "<div>\n<style scoped>\n    .dataframe tbody tr th:only-of-type {\n        vertical-align: middle;\n    }\n\n    .dataframe tbody tr th {\n        vertical-align: top;\n    }\n\n    .dataframe thead th {\n        text-align: right;\n    }\n</style>\n<table border=\"1\" class=\"dataframe\">\n  <thead>\n    <tr style=\"text-align: right;\">\n      <th>sensor_id</th>\n      <th>400001</th>\n      <th>400017</th>\n      <th>400030</th>\n      <th>400040</th>\n      <th>400045</th>\n      <th>400052</th>\n      <th>400057</th>\n      <th>400059</th>\n      <th>400065</th>\n      <th>400069</th>\n      <th>...</th>\n      <th>409525</th>\n      <th>409526</th>\n      <th>409528</th>\n      <th>409529</th>\n      <th>413026</th>\n      <th>413845</th>\n      <th>413877</th>\n      <th>413878</th>\n      <th>414284</th>\n      <th>414694</th>\n    </tr>\n  </thead>\n  <tbody>\n    <tr>\n      <th>2017-01-01 00:00:00</th>\n      <td>71.4</td>\n      <td>67.8</td>\n      <td>70.5</td>\n      <td>67.4</td>\n      <td>68.8</td>\n      <td>66.6</td>\n      <td>66.8</td>\n      <td>68.0</td>\n      <td>66.8</td>\n      <td>69.0</td>\n      <td>...</td>\n      <td>68.8</td>\n      <td>67.9</td>\n      <td>68.8</td>\n      <td>68.0</td>\n      <td>69.2</td>\n      <td>68.9</td>\n      <td>70.4</td>\n      <td>68.8</td>\n      <td>71.1</td>\n      <td>68.0</td>\n    </tr>\n    <tr>\n      <th>2017-01-01 00:05:00</th>\n      <td>71.6</td>\n      <td>67.5</td>\n      <td>70.6</td>\n      <td>67.5</td>\n      <td>68.7</td>\n      <td>66.6</td>\n      <td>66.8</td>\n      <td>67.8</td>\n      <td>66.5</td>\n      <td>68.2</td>\n      <td>...</td>\n      <td>68.4</td>\n      <td>67.3</td>\n      <td>68.4</td>\n      <td>67.6</td>\n      <td>70.4</td>\n      <td>68.8</td>\n      <td>70.1</td>\n      <td>68.4</td>\n      <td>70.8</td>\n      <td>67.4</td>\n    </tr>\n    <tr>\n      <th>2017-01-01 00:10:00</th>\n      <td>71.6</td>\n      <td>67.6</td>\n      <td>70.2</td>\n      <td>67.4</td>\n      <td>68.7</td>\n      <td>66.1</td>\n      <td>66.8</td>\n      <td>67.8</td>\n      <td>66.2</td>\n      <td>67.8</td>\n      <td>...</td>\n      <td>68.4</td>\n      <td>67.4</td>\n      <td>68.4</td>\n      <td>67.5</td>\n      <td>70.2</td>\n      <td>68.3</td>\n      <td>69.8</td>\n      <td>68.4</td>\n      <td>70.5</td>\n      <td>67.9</td>\n    </tr>\n    <tr>\n      <th>2017-01-01 00:15:00</th>\n      <td>71.1</td>\n      <td>67.5</td>\n      <td>70.3</td>\n      <td>68.0</td>\n      <td>68.5</td>\n      <td>66.7</td>\n      <td>66.6</td>\n      <td>67.7</td>\n      <td>65.9</td>\n      <td>67.8</td>\n      <td>...</td>\n      <td>68.5</td>\n      <td>67.5</td>\n      <td>68.5</td>\n      <td>67.5</td>\n      <td>70.4</td>\n      <td>68.7</td>\n      <td>70.2</td>\n      <td>68.4</td>\n      <td>70.8</td>\n      <td>67.6</td>\n    </tr>\n    <tr>\n      <th>2017-01-01 00:20:00</th>\n      <td>71.7</td>\n      <td>67.8</td>\n      <td>70.2</td>\n      <td>68.1</td>\n      <td>68.4</td>\n      <td>66.9</td>\n      <td>66.1</td>\n      <td>67.7</td>\n      <td>66.1</td>\n      <td>67.8</td>\n      <td>...</td>\n      <td>68.5</td>\n      <td>67.7</td>\n      <td>68.5</td>\n      <td>67.4</td>\n      <td>69.6</td>\n      <td>69.1</td>\n      <td>70.0</td>\n      <td>68.4</td>\n      <td>71.0</td>\n      <td>67.9</td>\n    </tr>\n    <tr>\n      <th>...</th>\n      <td>...</td>\n      <td>...</td>\n      <td>...</td>\n      <td>...</td>\n      <td>...</td>\n      <td>...</td>\n      <td>...</td>\n      <td>...</td>\n      <td>...</td>\n      <td>...</td>\n      <td>...</td>\n      <td>...</td>\n      <td>...</td>\n      <td>...</td>\n      <td>...</td>\n      <td>...</td>\n      <td>...</td>\n      <td>...</td>\n      <td>...</td>\n      <td>...</td>\n      <td>...</td>\n    </tr>\n    <tr>\n      <th>2017-06-30 23:35:00</th>\n      <td>70.9</td>\n      <td>66.3</td>\n      <td>68.4</td>\n      <td>61.0</td>\n      <td>61.8</td>\n      <td>66.9</td>\n      <td>66.0</td>\n      <td>67.4</td>\n      <td>65.4</td>\n      <td>69.3</td>\n      <td>...</td>\n      <td>64.6</td>\n      <td>66.8</td>\n      <td>64.7</td>\n      <td>61.1</td>\n      <td>68.4</td>\n      <td>61.4</td>\n      <td>70.5</td>\n      <td>68.2</td>\n      <td>71.6</td>\n      <td>66.2</td>\n    </tr>\n    <tr>\n      <th>2017-06-30 23:40:00</th>\n      <td>71.3</td>\n      <td>66.6</td>\n      <td>68.7</td>\n      <td>60.9</td>\n      <td>62.0</td>\n      <td>66.2</td>\n      <td>66.5</td>\n      <td>68.2</td>\n      <td>64.9</td>\n      <td>69.1</td>\n      <td>...</td>\n      <td>65.1</td>\n      <td>67.3</td>\n      <td>64.8</td>\n      <td>60.8</td>\n      <td>69.8</td>\n      <td>62.2</td>\n      <td>69.4</td>\n      <td>68.6</td>\n      <td>71.6</td>\n      <td>68.4</td>\n    </tr>\n    <tr>\n      <th>2017-06-30 23:45:00</th>\n      <td>71.4</td>\n      <td>66.9</td>\n      <td>68.1</td>\n      <td>61.1</td>\n      <td>62.0</td>\n      <td>66.7</td>\n      <td>65.8</td>\n      <td>68.2</td>\n      <td>64.2</td>\n      <td>69.1</td>\n      <td>...</td>\n      <td>64.9</td>\n      <td>66.5</td>\n      <td>64.6</td>\n      <td>61.3</td>\n      <td>69.5</td>\n      <td>63.8</td>\n      <td>70.6</td>\n      <td>68.4</td>\n      <td>71.6</td>\n      <td>66.6</td>\n    </tr>\n    <tr>\n      <th>2017-06-30 23:50:00</th>\n      <td>72.2</td>\n      <td>66.5</td>\n      <td>68.0</td>\n      <td>61.1</td>\n      <td>62.5</td>\n      <td>65.8</td>\n      <td>67.1</td>\n      <td>68.3</td>\n      <td>64.0</td>\n      <td>67.3</td>\n      <td>...</td>\n      <td>64.1</td>\n      <td>65.9</td>\n      <td>64.8</td>\n      <td>61.3</td>\n      <td>69.6</td>\n      <td>64.2</td>\n      <td>70.2</td>\n      <td>68.7</td>\n      <td>71.6</td>\n      <td>68.4</td>\n    </tr>\n    <tr>\n      <th>2017-06-30 23:55:00</th>\n      <td>71.5</td>\n      <td>66.2</td>\n      <td>68.4</td>\n      <td>61.5</td>\n      <td>62.8</td>\n      <td>66.1</td>\n      <td>67.7</td>\n      <td>68.4</td>\n      <td>64.9</td>\n      <td>68.0</td>\n      <td>...</td>\n      <td>64.3</td>\n      <td>66.5</td>\n      <td>64.8</td>\n      <td>60.9</td>\n      <td>70.9</td>\n      <td>63.4</td>\n      <td>70.3</td>\n      <td>68.7</td>\n      <td>71.6</td>\n      <td>68.0</td>\n    </tr>\n  </tbody>\n</table>\n<p>52116 rows × 325 columns</p>\n</div>"
     },
     "execution_count": 19,
     "metadata": {},
     "output_type": "execute_result"
    }
   ],
   "source": [
    "data_speed"
   ],
   "metadata": {
    "collapsed": false,
    "ExecuteTime": {
     "end_time": "2023-11-23T12:50:56.947854900Z",
     "start_time": "2023-11-23T12:50:56.866832300Z"
    }
   },
   "id": "6157c3e12113dea7"
  },
  {
   "cell_type": "code",
   "execution_count": null,
   "outputs": [],
   "source": [],
   "metadata": {
    "collapsed": false
   },
   "id": "7a856f5023a0884"
  }
 ],
 "metadata": {
  "kernelspec": {
   "display_name": "Python 3",
   "language": "python",
   "name": "python3"
  },
  "language_info": {
   "codemirror_mode": {
    "name": "ipython",
    "version": 2
   },
   "file_extension": ".py",
   "mimetype": "text/x-python",
   "name": "python",
   "nbconvert_exporter": "python",
   "pygments_lexer": "ipython2",
   "version": "2.7.6"
  }
 },
 "nbformat": 4,
 "nbformat_minor": 5
}
