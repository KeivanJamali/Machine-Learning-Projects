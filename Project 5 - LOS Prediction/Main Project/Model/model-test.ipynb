{
 "cells": [
  {
   "cell_type": "code",
   "execution_count": 1,
   "id": "initial_id",
   "metadata": {
    "collapsed": true,
    "ExecuteTime": {
     "end_time": "2023-12-24T20:09:22.335356100Z",
     "start_time": "2023-12-24T20:09:22.286788900Z"
    }
   },
   "outputs": [],
   "source": [
    "%load_ext autoreload\n",
    "%autoreload 2"
   ]
  },
  {
   "cell_type": "code",
   "outputs": [],
   "source": [
    "import torch\n",
    "from torch import nn\n",
    "\n",
    "\n",
    "class LOS_Classification_V0(nn.Module):\n",
    "    def __init__(self, in_put, hidden_units, out_put):\n",
    "        super().__init__()\n",
    "        self.layer_1 = nn.Linear(in_put, hidden_units)\n",
    "        self.layer_2 = nn.Linear(hidden_units, hidden_units)\n",
    "        self.layer_3 = nn.Linear(hidden_units, out_put)\n",
    "        self.relu = nn.ReLU()\n",
    "\n",
    "    def forward(self, x):\n",
    "        return self.layer_3(self.relu(self.layer_2(self.relu(self.layer_1(x)))))\n",
    "\n"
   ],
   "metadata": {
    "collapsed": false,
    "ExecuteTime": {
     "end_time": "2023-12-24T20:09:25.208521500Z",
     "start_time": "2023-12-24T20:09:22.549318200Z"
    }
   },
   "id": "4f52610c90bd7cfd",
   "execution_count": 2
  },
  {
   "cell_type": "code",
   "outputs": [],
   "source": [
    "import data_setup\n",
    "from pathlib import Path\n",
    "\n",
    "data_path = Path(\"D:\\All Python\\All_Big_raw_Data\\LOS prediction\\Traffic Dataset\\DataLoader\")\n",
    "BATCH_SIZE = 32\n",
    "city = \"luzern\"\n",
    "luzern_data = data_setup.Dataloader()\n",
    "train_dataloader, val_dataloader, test_dataloader = luzern_data.create_dataloaders(data_dir=data_path,\n",
    "                                                                                   city_code=city,\n",
    "                                                                                   batch_size=BATCH_SIZE)"
   ],
   "metadata": {
    "collapsed": false,
    "ExecuteTime": {
     "end_time": "2023-12-24T20:09:25.846663100Z",
     "start_time": "2023-12-24T20:09:25.211528400Z"
    }
   },
   "id": "b1b906b0f18a47ff",
   "execution_count": 3
  },
  {
   "cell_type": "code",
   "outputs": [
    {
     "data": {
      "text/plain": "6"
     },
     "execution_count": 16,
     "metadata": {},
     "output_type": "execute_result"
    }
   ],
   "source": [
    "len(train_dataloader.dataset[0][0])"
   ],
   "metadata": {
    "collapsed": false,
    "ExecuteTime": {
     "end_time": "2023-12-24T20:11:01.067908900Z",
     "start_time": "2023-12-24T20:11:00.966848200Z"
    }
   },
   "id": "1f0b69ab27966cc3",
   "execution_count": 16
  },
  {
   "cell_type": "code",
   "outputs": [
    {
     "data": {
      "text/plain": "LOS_Classification_V0(\n  (layer_1): Linear(in_features=6, out_features=32, bias=True)\n  (layer_2): Linear(in_features=32, out_features=32, bias=True)\n  (layer_3): Linear(in_features=32, out_features=6, bias=True)\n  (relu): ReLU()\n)"
     },
     "execution_count": 127,
     "metadata": {},
     "output_type": "execute_result"
    }
   ],
   "source": [
    "INPUT_SHAPE = 6\n",
    "HIDDEN_UNITS = 32\n",
    "OUTPUT_SHAPE = len(luzern_data.class_names)\n",
    "\n",
    "model0 = LOS_Classification_V0(INPUT_SHAPE, HIDDEN_UNITS, OUTPUT_SHAPE)\n",
    "model0"
   ],
   "metadata": {
    "collapsed": false,
    "ExecuteTime": {
     "end_time": "2023-12-24T18:08:04.448168900Z",
     "start_time": "2023-12-24T18:08:04.322935900Z"
    }
   },
   "id": "8ee2a61426703426",
   "execution_count": 127
  },
  {
   "cell_type": "code",
   "outputs": [
    {
     "data": {
      "text/plain": "==========================================================================================\nLayer (type:depth-idx)                   Output Shape              Param #\n==========================================================================================\nLOS_Classification_V0                    [1, 6]                    --\n├─Linear: 1-1                            [1, 32]                   224\n├─ReLU: 1-2                              [1, 32]                   --\n├─Linear: 1-3                            [1, 32]                   1,056\n├─ReLU: 1-4                              [1, 32]                   --\n├─Linear: 1-5                            [1, 6]                    198\n==========================================================================================\nTotal params: 1,478\nTrainable params: 1,478\nNon-trainable params: 0\nTotal mult-adds (Units.MEGABYTES): 0.00\n==========================================================================================\nInput size (MB): 0.00\nForward/backward pass size (MB): 0.00\nParams size (MB): 0.01\nEstimated Total Size (MB): 0.01\n=========================================================================================="
     },
     "execution_count": 128,
     "metadata": {},
     "output_type": "execute_result"
    }
   ],
   "source": [
    "from torchinfo import summary\n",
    "\n",
    "summary(model0, input_size=[1, 6])"
   ],
   "metadata": {
    "collapsed": false,
    "ExecuteTime": {
     "end_time": "2023-12-24T18:08:04.551677800Z",
     "start_time": "2023-12-24T18:08:04.439587600Z"
    }
   },
   "id": "6739deee2b7363d6",
   "execution_count": 128
  },
  {
   "cell_type": "code",
   "outputs": [],
   "source": [
    "from sklearn.metrics import accuracy_score\n",
    "\n",
    "\n",
    "def train_step(model: torch.nn.Module,\n",
    "               dataloader: torch.utils.data.DataLoader,\n",
    "               loss_fn: torch.nn.Module,\n",
    "               optimizer: torch.optim.Optimizer,\n",
    "               device: str) -> tuple[float, float]:\n",
    "    model.train()\n",
    "    train_loss, train_acc = 0, 0\n",
    "    for batch, (X, y) in enumerate(dataloader):\n",
    "        X, y = X.to(device), y.to(device)\n",
    "        y_logit = model(X)\n",
    "        loss = loss_fn(y_logit, y)\n",
    "        train_loss += loss.item()\n",
    "        optimizer.zero_grad()\n",
    "        loss.backward()\n",
    "        optimizer.step()\n",
    "        y_pred_class = torch.argmax(torch.softmax(y_logit, dim=1), dim=1)\n",
    "        train_acc += (y_pred_class == y).sum().item() / len(y_logit)\n",
    "\n",
    "    train_loss /= len(dataloader)\n",
    "    train_acc /= len(dataloader)\n",
    "    return train_loss, train_acc\n",
    "\n",
    "\n",
    "def val_step(model: torch.nn.Module,\n",
    "             dataloader: torch.utils.data.DataLoader,\n",
    "             loss_fn: torch.nn.Module,\n",
    "             device: str) -> tuple[float, float]:\n",
    "    model.eval()\n",
    "    val_loss, val_acc = 0, 0\n",
    "    with torch.inference_mode():\n",
    "        for X, y in dataloader:\n",
    "            X, y = X.to(device), y.to(device)\n",
    "            y_logit = model(X)\n",
    "            val_loss += loss_fn(y_logit, y).item()\n",
    "            val_pred_labels = y_logit.argmax(dim=1)\n",
    "            val_acc += ((val_pred_labels == y).sum().item() / len(y_logit))\n",
    "\n",
    "    val_loss /= len(dataloader)\n",
    "    val_acc /= len(dataloader)\n",
    "    return val_loss, val_acc"
   ],
   "metadata": {
    "collapsed": false,
    "ExecuteTime": {
     "end_time": "2023-12-24T18:15:03.590090200Z",
     "start_time": "2023-12-24T18:15:03.480256600Z"
    }
   },
   "id": "1e4a4743201b1838",
   "execution_count": 144
  },
  {
   "cell_type": "code",
   "outputs": [],
   "source": [
    "from tqdm.auto import tqdm\n",
    "\n",
    "\n",
    "def train(model: torch.nn.Module,\n",
    "          train_dataloader: torch.utils.data.DataLoader,\n",
    "          val_dataloader: torch.utils.data.DataLoader,\n",
    "          loss_fn: torch.nn.Module,\n",
    "          optimizer: torch.optim.Optimizer,\n",
    "          epochs: int = 32,\n",
    "          device: str = \"cpu\") -> dict[str, list]:\n",
    "    results = {\"train_loss\": [],\n",
    "               \"train_acc\": [],\n",
    "               \"val_loss\": [],\n",
    "               \"val_acc\": []}\n",
    "    model.to(device)\n",
    "\n",
    "    for epoch in tqdm(range(epochs)):\n",
    "        train_loss, train_acc = train_step(model=model,\n",
    "                                           dataloader=train_dataloader,\n",
    "                                           loss_fn=loss_fn,\n",
    "                                           optimizer=optimizer,\n",
    "                                           device=device)\n",
    "        val_loss, val_acc = val_step(model=model,\n",
    "                                     dataloader=val_dataloader,\n",
    "                                     loss_fn=loss_fn,\n",
    "                                     device=device)\n",
    "\n",
    "        print(\n",
    "            f\"Epoch {epoch} | train: Loss {train_loss:.6f} Accuracy {train_acc:.2f} | validation: Loss {val_loss:.6f} Accuracy {val_acc:.2f}\")\n",
    "\n",
    "        results[\"train_acc\"].append(train_acc)\n",
    "        results[\"train_loss\"].append(train_loss)\n",
    "        results[\"val_acc\"].append(val_acc)\n",
    "        results[\"val_loss\"].append(val_loss)\n",
    "\n",
    "    return results\n"
   ],
   "metadata": {
    "collapsed": false,
    "ExecuteTime": {
     "end_time": "2023-12-24T18:15:04.981362800Z",
     "start_time": "2023-12-24T18:15:04.873979200Z"
    }
   },
   "id": "50f4493ece2facf8",
   "execution_count": 145
  },
  {
   "cell_type": "code",
   "outputs": [
    {
     "data": {
      "text/plain": "  0%|          | 0/5 [00:00<?, ?it/s]",
      "application/vnd.jupyter.widget-view+json": {
       "version_major": 2,
       "version_minor": 0,
       "model_id": "94ffeb35a66b48a5a57852a1ef59fe32"
      }
     },
     "metadata": {},
     "output_type": "display_data"
    },
    {
     "name": "stdout",
     "output_type": "stream",
     "text": [
      "Epoch 0 | train: Loss 7.770748 Accuracy 0.51 | validation: Loss 1.463997 Accuracy 0.53\n",
      "Epoch 1 | train: Loss 1.401297 Accuracy 0.51 | validation: Loss 1.371067 Accuracy 0.51\n",
      "Epoch 2 | train: Loss 1.341635 Accuracy 0.54 | validation: Loss 1.315855 Accuracy 0.58\n",
      "Epoch 3 | train: Loss 1.281819 Accuracy 0.57 | validation: Loss 1.244994 Accuracy 0.58\n",
      "Epoch 4 | train: Loss 1.193157 Accuracy 0.60 | validation: Loss 1.165906 Accuracy 0.58\n"
     ]
    }
   ],
   "source": [
    "torch.manual_seed(42)\n",
    "num_epochs = 5\n",
    "\n",
    "model0 = LOS_Classification_V0(INPUT_SHAPE, HIDDEN_UNITS, OUTPUT_SHAPE)\n",
    "loss_fn = nn.CrossEntropyLoss()\n",
    "optimizer = torch.optim.Adam(params=model0.parameters(),\n",
    "                             lr=0.0001)\n",
    "device = \"cuda\" if torch.cuda.is_available() else \"cpu\"\n",
    "model0_results = train(model=model0,\n",
    "                       train_dataloader=train_dataloader,\n",
    "                       val_dataloader=val_dataloader,\n",
    "                       loss_fn=loss_fn,\n",
    "                       optimizer=optimizer,\n",
    "                       epochs=num_epochs,\n",
    "                       device=device)"
   ],
   "metadata": {
    "collapsed": false,
    "ExecuteTime": {
     "end_time": "2023-12-24T18:14:01.685815200Z",
     "start_time": "2023-12-24T18:13:44.509299500Z"
    }
   },
   "id": "3aefa6ffdddcb73",
   "execution_count": 141
  },
  {
   "cell_type": "code",
   "outputs": [
    {
     "data": {
      "text/plain": "  0%|          | 0/500 [00:00<?, ?it/s]",
      "application/vnd.jupyter.widget-view+json": {
       "version_major": 2,
       "version_minor": 0,
       "model_id": "32f37cd68e984d7893d007cf41eda6bf"
      }
     },
     "metadata": {},
     "output_type": "display_data"
    },
    {
     "name": "stdout",
     "output_type": "stream",
     "text": [
      "Epoch 0 | train: Loss 7.770748 Accuracy 0.51 | validation: Loss 1.463997 Accuracy 0.53\n",
      "Epoch 1 | train: Loss 1.401297 Accuracy 0.51 | validation: Loss 1.371067 Accuracy 0.51\n",
      "Epoch 2 | train: Loss 1.341635 Accuracy 0.54 | validation: Loss 1.315855 Accuracy 0.58\n",
      "Epoch 3 | train: Loss 1.281819 Accuracy 0.57 | validation: Loss 1.244994 Accuracy 0.58\n",
      "Epoch 4 | train: Loss 1.193157 Accuracy 0.60 | validation: Loss 1.165906 Accuracy 0.58\n",
      "Epoch 5 | train: Loss 1.137688 Accuracy 0.60 | validation: Loss 1.110927 Accuracy 0.63\n",
      "Epoch 6 | train: Loss 1.096668 Accuracy 0.62 | validation: Loss 1.072906 Accuracy 0.61\n",
      "Epoch 7 | train: Loss 1.058621 Accuracy 0.62 | validation: Loss 1.042243 Accuracy 0.63\n",
      "Epoch 8 | train: Loss 1.024245 Accuracy 0.63 | validation: Loss 1.014664 Accuracy 0.64\n",
      "Epoch 9 | train: Loss 1.010744 Accuracy 0.62 | validation: Loss 0.990566 Accuracy 0.64\n",
      "Epoch 10 | train: Loss 0.991309 Accuracy 0.63 | validation: Loss 0.989238 Accuracy 0.64\n",
      "Epoch 11 | train: Loss 0.980363 Accuracy 0.63 | validation: Loss 0.973587 Accuracy 0.64\n",
      "Epoch 12 | train: Loss 0.967430 Accuracy 0.64 | validation: Loss 0.962147 Accuracy 0.64\n",
      "Epoch 13 | train: Loss 0.954461 Accuracy 0.64 | validation: Loss 0.950874 Accuracy 0.64\n",
      "Epoch 14 | train: Loss 0.944159 Accuracy 0.64 | validation: Loss 0.947094 Accuracy 0.60\n",
      "Epoch 15 | train: Loss 0.931363 Accuracy 0.65 | validation: Loss 0.932474 Accuracy 0.63\n",
      "Epoch 16 | train: Loss 0.924713 Accuracy 0.64 | validation: Loss 0.922856 Accuracy 0.65\n",
      "Epoch 17 | train: Loss 0.921893 Accuracy 0.64 | validation: Loss 0.903907 Accuracy 0.65\n",
      "Epoch 18 | train: Loss 0.903587 Accuracy 0.65 | validation: Loss 0.903019 Accuracy 0.66\n",
      "Epoch 19 | train: Loss 0.894463 Accuracy 0.65 | validation: Loss 0.891470 Accuracy 0.65\n",
      "Epoch 20 | train: Loss 0.888241 Accuracy 0.66 | validation: Loss 0.892052 Accuracy 0.64\n",
      "Epoch 21 | train: Loss 0.878801 Accuracy 0.65 | validation: Loss 0.890870 Accuracy 0.62\n",
      "Epoch 22 | train: Loss 0.873351 Accuracy 0.66 | validation: Loss 0.871126 Accuracy 0.66\n",
      "Epoch 23 | train: Loss 0.867357 Accuracy 0.66 | validation: Loss 0.889601 Accuracy 0.62\n",
      "Epoch 24 | train: Loss 0.855807 Accuracy 0.66 | validation: Loss 0.864696 Accuracy 0.65\n",
      "Epoch 25 | train: Loss 0.852079 Accuracy 0.66 | validation: Loss 0.852106 Accuracy 0.67\n",
      "Epoch 26 | train: Loss 0.847461 Accuracy 0.66 | validation: Loss 0.868153 Accuracy 0.62\n",
      "Epoch 27 | train: Loss 0.842560 Accuracy 0.66 | validation: Loss 0.842749 Accuracy 0.66\n",
      "Epoch 28 | train: Loss 0.830981 Accuracy 0.67 | validation: Loss 0.840609 Accuracy 0.68\n",
      "Epoch 29 | train: Loss 0.828695 Accuracy 0.67 | validation: Loss 0.829810 Accuracy 0.66\n",
      "Epoch 30 | train: Loss 0.818988 Accuracy 0.68 | validation: Loss 0.824037 Accuracy 0.68\n",
      "Epoch 31 | train: Loss 0.814818 Accuracy 0.67 | validation: Loss 0.814565 Accuracy 0.68\n",
      "Epoch 32 | train: Loss 0.806863 Accuracy 0.68 | validation: Loss 0.818178 Accuracy 0.66\n",
      "Epoch 33 | train: Loss 0.805819 Accuracy 0.68 | validation: Loss 0.803347 Accuracy 0.69\n",
      "Epoch 34 | train: Loss 0.793926 Accuracy 0.69 | validation: Loss 0.799545 Accuracy 0.70\n",
      "Epoch 35 | train: Loss 0.787310 Accuracy 0.68 | validation: Loss 0.795609 Accuracy 0.70\n",
      "Epoch 36 | train: Loss 0.783704 Accuracy 0.68 | validation: Loss 0.785752 Accuracy 0.70\n",
      "Epoch 37 | train: Loss 0.780884 Accuracy 0.69 | validation: Loss 0.791324 Accuracy 0.69\n",
      "Epoch 38 | train: Loss 0.775238 Accuracy 0.69 | validation: Loss 0.787314 Accuracy 0.66\n",
      "Epoch 39 | train: Loss 0.768607 Accuracy 0.69 | validation: Loss 0.779149 Accuracy 0.67\n",
      "Epoch 40 | train: Loss 0.765579 Accuracy 0.70 | validation: Loss 0.772937 Accuracy 0.69\n",
      "Epoch 41 | train: Loss 0.756578 Accuracy 0.70 | validation: Loss 0.759977 Accuracy 0.71\n",
      "Epoch 42 | train: Loss 0.754385 Accuracy 0.70 | validation: Loss 0.757895 Accuracy 0.70\n",
      "Epoch 43 | train: Loss 0.746630 Accuracy 0.70 | validation: Loss 0.762511 Accuracy 0.68\n",
      "Epoch 44 | train: Loss 0.742982 Accuracy 0.71 | validation: Loss 0.755394 Accuracy 0.68\n",
      "Epoch 45 | train: Loss 0.737420 Accuracy 0.70 | validation: Loss 0.752400 Accuracy 0.68\n",
      "Epoch 46 | train: Loss 0.737618 Accuracy 0.70 | validation: Loss 0.740232 Accuracy 0.72\n",
      "Epoch 47 | train: Loss 0.726321 Accuracy 0.71 | validation: Loss 0.733530 Accuracy 0.72\n",
      "Epoch 48 | train: Loss 0.720792 Accuracy 0.71 | validation: Loss 0.727859 Accuracy 0.73\n",
      "Epoch 49 | train: Loss 0.719869 Accuracy 0.72 | validation: Loss 0.723642 Accuracy 0.73\n",
      "Epoch 50 | train: Loss 0.715293 Accuracy 0.72 | validation: Loss 0.727003 Accuracy 0.73\n",
      "Epoch 51 | train: Loss 0.711958 Accuracy 0.72 | validation: Loss 0.719967 Accuracy 0.72\n",
      "Epoch 52 | train: Loss 0.704912 Accuracy 0.72 | validation: Loss 0.722807 Accuracy 0.69\n",
      "Epoch 53 | train: Loss 0.699707 Accuracy 0.72 | validation: Loss 0.709715 Accuracy 0.73\n",
      "Epoch 54 | train: Loss 0.701183 Accuracy 0.72 | validation: Loss 0.698311 Accuracy 0.74\n",
      "Epoch 55 | train: Loss 0.692638 Accuracy 0.72 | validation: Loss 0.700265 Accuracy 0.74\n",
      "Epoch 56 | train: Loss 0.688808 Accuracy 0.73 | validation: Loss 0.696568 Accuracy 0.73\n",
      "Epoch 57 | train: Loss 0.687337 Accuracy 0.73 | validation: Loss 0.695952 Accuracy 0.75\n",
      "Epoch 58 | train: Loss 0.680272 Accuracy 0.73 | validation: Loss 0.697558 Accuracy 0.73\n",
      "Epoch 59 | train: Loss 0.678162 Accuracy 0.73 | validation: Loss 0.688365 Accuracy 0.71\n",
      "Epoch 60 | train: Loss 0.674192 Accuracy 0.73 | validation: Loss 0.676991 Accuracy 0.75\n",
      "Epoch 61 | train: Loss 0.667833 Accuracy 0.74 | validation: Loss 0.698862 Accuracy 0.70\n",
      "Epoch 62 | train: Loss 0.662572 Accuracy 0.74 | validation: Loss 0.675026 Accuracy 0.72\n",
      "Epoch 63 | train: Loss 0.659208 Accuracy 0.75 | validation: Loss 0.666871 Accuracy 0.76\n",
      "Epoch 64 | train: Loss 0.653192 Accuracy 0.75 | validation: Loss 0.657345 Accuracy 0.77\n",
      "Epoch 65 | train: Loss 0.647470 Accuracy 0.75 | validation: Loss 0.660546 Accuracy 0.75\n",
      "Epoch 66 | train: Loss 0.646440 Accuracy 0.75 | validation: Loss 0.654243 Accuracy 0.76\n",
      "Epoch 67 | train: Loss 0.646800 Accuracy 0.74 | validation: Loss 0.652966 Accuracy 0.76\n",
      "Epoch 68 | train: Loss 0.638284 Accuracy 0.75 | validation: Loss 0.664863 Accuracy 0.77\n",
      "Epoch 69 | train: Loss 0.634886 Accuracy 0.76 | validation: Loss 0.635528 Accuracy 0.76\n",
      "Epoch 70 | train: Loss 0.629202 Accuracy 0.76 | validation: Loss 0.649982 Accuracy 0.74\n",
      "Epoch 71 | train: Loss 0.628105 Accuracy 0.76 | validation: Loss 0.632560 Accuracy 0.78\n",
      "Epoch 72 | train: Loss 0.623127 Accuracy 0.76 | validation: Loss 0.627361 Accuracy 0.77\n",
      "Epoch 73 | train: Loss 0.619127 Accuracy 0.76 | validation: Loss 0.616061 Accuracy 0.78\n",
      "Epoch 74 | train: Loss 0.614265 Accuracy 0.76 | validation: Loss 0.627991 Accuracy 0.79\n",
      "Epoch 75 | train: Loss 0.611225 Accuracy 0.77 | validation: Loss 0.616467 Accuracy 0.77\n",
      "Epoch 76 | train: Loss 0.603866 Accuracy 0.77 | validation: Loss 0.679849 Accuracy 0.77\n",
      "Epoch 77 | train: Loss 0.607190 Accuracy 0.76 | validation: Loss 0.607421 Accuracy 0.77\n",
      "Epoch 78 | train: Loss 0.600754 Accuracy 0.77 | validation: Loss 0.611144 Accuracy 0.75\n",
      "Epoch 79 | train: Loss 0.594555 Accuracy 0.78 | validation: Loss 0.620293 Accuracy 0.75\n",
      "Epoch 80 | train: Loss 0.592735 Accuracy 0.78 | validation: Loss 0.592101 Accuracy 0.79\n",
      "Epoch 81 | train: Loss 0.587043 Accuracy 0.78 | validation: Loss 0.596168 Accuracy 0.80\n",
      "Epoch 82 | train: Loss 0.582139 Accuracy 0.78 | validation: Loss 0.589731 Accuracy 0.80\n",
      "Epoch 83 | train: Loss 0.578419 Accuracy 0.78 | validation: Loss 0.579975 Accuracy 0.80\n",
      "Epoch 84 | train: Loss 0.575213 Accuracy 0.79 | validation: Loss 0.586623 Accuracy 0.77\n",
      "Epoch 85 | train: Loss 0.573347 Accuracy 0.78 | validation: Loss 0.572913 Accuracy 0.80\n",
      "Epoch 86 | train: Loss 0.567625 Accuracy 0.78 | validation: Loss 0.569855 Accuracy 0.80\n",
      "Epoch 87 | train: Loss 0.567611 Accuracy 0.78 | validation: Loss 0.570562 Accuracy 0.79\n",
      "Epoch 88 | train: Loss 0.562606 Accuracy 0.79 | validation: Loss 0.584584 Accuracy 0.76\n",
      "Epoch 89 | train: Loss 0.561974 Accuracy 0.79 | validation: Loss 0.567529 Accuracy 0.79\n",
      "Epoch 90 | train: Loss 0.554004 Accuracy 0.79 | validation: Loss 0.558342 Accuracy 0.81\n",
      "Epoch 91 | train: Loss 0.551858 Accuracy 0.80 | validation: Loss 0.554501 Accuracy 0.80\n",
      "Epoch 92 | train: Loss 0.545720 Accuracy 0.79 | validation: Loss 0.562098 Accuracy 0.80\n",
      "Epoch 93 | train: Loss 0.546528 Accuracy 0.79 | validation: Loss 0.552496 Accuracy 0.82\n",
      "Epoch 94 | train: Loss 0.541834 Accuracy 0.80 | validation: Loss 0.565578 Accuracy 0.79\n",
      "Epoch 95 | train: Loss 0.544433 Accuracy 0.80 | validation: Loss 0.543707 Accuracy 0.82\n",
      "Epoch 96 | train: Loss 0.538126 Accuracy 0.80 | validation: Loss 0.543214 Accuracy 0.80\n",
      "Epoch 97 | train: Loss 0.536824 Accuracy 0.80 | validation: Loss 0.549271 Accuracy 0.80\n",
      "Epoch 98 | train: Loss 0.532085 Accuracy 0.80 | validation: Loss 0.554491 Accuracy 0.81\n",
      "Epoch 99 | train: Loss 0.527861 Accuracy 0.80 | validation: Loss 0.537508 Accuracy 0.83\n",
      "Epoch 100 | train: Loss 0.528462 Accuracy 0.80 | validation: Loss 0.530742 Accuracy 0.81\n",
      "Epoch 101 | train: Loss 0.523833 Accuracy 0.80 | validation: Loss 0.531885 Accuracy 0.81\n",
      "Epoch 102 | train: Loss 0.524451 Accuracy 0.80 | validation: Loss 0.532755 Accuracy 0.83\n",
      "Epoch 103 | train: Loss 0.517215 Accuracy 0.80 | validation: Loss 0.523418 Accuracy 0.83\n",
      "Epoch 104 | train: Loss 0.516947 Accuracy 0.80 | validation: Loss 0.520120 Accuracy 0.82\n",
      "Epoch 105 | train: Loss 0.512698 Accuracy 0.81 | validation: Loss 0.521333 Accuracy 0.84\n",
      "Epoch 106 | train: Loss 0.506155 Accuracy 0.82 | validation: Loss 0.516057 Accuracy 0.82\n",
      "Epoch 107 | train: Loss 0.505722 Accuracy 0.81 | validation: Loss 0.520029 Accuracy 0.82\n",
      "Epoch 108 | train: Loss 0.502788 Accuracy 0.82 | validation: Loss 0.512856 Accuracy 0.82\n",
      "Epoch 109 | train: Loss 0.504817 Accuracy 0.81 | validation: Loss 0.500713 Accuracy 0.84\n",
      "Epoch 110 | train: Loss 0.500524 Accuracy 0.81 | validation: Loss 0.537016 Accuracy 0.78\n",
      "Epoch 111 | train: Loss 0.498246 Accuracy 0.81 | validation: Loss 0.502912 Accuracy 0.84\n",
      "Epoch 112 | train: Loss 0.494976 Accuracy 0.82 | validation: Loss 0.513809 Accuracy 0.79\n",
      "Epoch 113 | train: Loss 0.497342 Accuracy 0.81 | validation: Loss 0.514945 Accuracy 0.81\n",
      "Epoch 114 | train: Loss 0.491713 Accuracy 0.82 | validation: Loss 0.503188 Accuracy 0.83\n",
      "Epoch 115 | train: Loss 0.486018 Accuracy 0.82 | validation: Loss 0.504558 Accuracy 0.79\n",
      "Epoch 116 | train: Loss 0.487373 Accuracy 0.82 | validation: Loss 0.496496 Accuracy 0.82\n",
      "Epoch 117 | train: Loss 0.484922 Accuracy 0.82 | validation: Loss 0.495053 Accuracy 0.81\n",
      "Epoch 118 | train: Loss 0.485716 Accuracy 0.82 | validation: Loss 0.491333 Accuracy 0.82\n",
      "Epoch 119 | train: Loss 0.477677 Accuracy 0.82 | validation: Loss 0.500013 Accuracy 0.81\n",
      "Epoch 120 | train: Loss 0.477340 Accuracy 0.82 | validation: Loss 0.486932 Accuracy 0.82\n",
      "Epoch 121 | train: Loss 0.475626 Accuracy 0.83 | validation: Loss 0.480615 Accuracy 0.84\n",
      "Epoch 122 | train: Loss 0.474442 Accuracy 0.82 | validation: Loss 0.486063 Accuracy 0.80\n",
      "Epoch 123 | train: Loss 0.471689 Accuracy 0.82 | validation: Loss 0.480748 Accuracy 0.85\n",
      "Epoch 124 | train: Loss 0.468587 Accuracy 0.83 | validation: Loss 0.492085 Accuracy 0.81\n",
      "Epoch 125 | train: Loss 0.465093 Accuracy 0.83 | validation: Loss 0.473344 Accuracy 0.82\n",
      "Epoch 126 | train: Loss 0.466044 Accuracy 0.83 | validation: Loss 0.472774 Accuracy 0.82\n",
      "Epoch 127 | train: Loss 0.460097 Accuracy 0.83 | validation: Loss 0.474118 Accuracy 0.86\n",
      "Epoch 128 | train: Loss 0.462574 Accuracy 0.83 | validation: Loss 0.487741 Accuracy 0.81\n",
      "Epoch 129 | train: Loss 0.462879 Accuracy 0.83 | validation: Loss 0.466325 Accuracy 0.84\n",
      "Epoch 130 | train: Loss 0.455076 Accuracy 0.83 | validation: Loss 0.474711 Accuracy 0.84\n",
      "Epoch 131 | train: Loss 0.451570 Accuracy 0.83 | validation: Loss 0.477230 Accuracy 0.80\n",
      "Epoch 132 | train: Loss 0.453679 Accuracy 0.83 | validation: Loss 0.457543 Accuracy 0.83\n",
      "Epoch 133 | train: Loss 0.448984 Accuracy 0.83 | validation: Loss 0.457155 Accuracy 0.84\n",
      "Epoch 134 | train: Loss 0.448344 Accuracy 0.83 | validation: Loss 0.469272 Accuracy 0.82\n",
      "Epoch 135 | train: Loss 0.446569 Accuracy 0.84 | validation: Loss 0.454110 Accuracy 0.83\n",
      "Epoch 136 | train: Loss 0.449638 Accuracy 0.83 | validation: Loss 0.446409 Accuracy 0.84\n",
      "Epoch 137 | train: Loss 0.440898 Accuracy 0.83 | validation: Loss 0.454255 Accuracy 0.84\n",
      "Epoch 138 | train: Loss 0.435917 Accuracy 0.85 | validation: Loss 0.465914 Accuracy 0.83\n",
      "Epoch 139 | train: Loss 0.438036 Accuracy 0.84 | validation: Loss 0.443309 Accuracy 0.84\n",
      "Epoch 140 | train: Loss 0.437185 Accuracy 0.84 | validation: Loss 0.442749 Accuracy 0.84\n",
      "Epoch 141 | train: Loss 0.434688 Accuracy 0.85 | validation: Loss 0.443494 Accuracy 0.82\n",
      "Epoch 142 | train: Loss 0.437726 Accuracy 0.84 | validation: Loss 0.441629 Accuracy 0.83\n",
      "Epoch 143 | train: Loss 0.430795 Accuracy 0.85 | validation: Loss 0.443103 Accuracy 0.84\n",
      "Epoch 144 | train: Loss 0.432675 Accuracy 0.84 | validation: Loss 0.433754 Accuracy 0.86\n",
      "Epoch 145 | train: Loss 0.429997 Accuracy 0.84 | validation: Loss 0.455517 Accuracy 0.83\n",
      "Epoch 146 | train: Loss 0.420509 Accuracy 0.85 | validation: Loss 0.428323 Accuracy 0.86\n",
      "Epoch 147 | train: Loss 0.424068 Accuracy 0.85 | validation: Loss 0.424805 Accuracy 0.86\n",
      "Epoch 148 | train: Loss 0.423103 Accuracy 0.85 | validation: Loss 0.426771 Accuracy 0.84\n",
      "Epoch 149 | train: Loss 0.421092 Accuracy 0.85 | validation: Loss 0.423263 Accuracy 0.84\n",
      "Epoch 150 | train: Loss 0.416928 Accuracy 0.85 | validation: Loss 0.432876 Accuracy 0.84\n",
      "Epoch 151 | train: Loss 0.419922 Accuracy 0.85 | validation: Loss 0.436764 Accuracy 0.84\n",
      "Epoch 152 | train: Loss 0.415029 Accuracy 0.85 | validation: Loss 0.422672 Accuracy 0.83\n",
      "Epoch 153 | train: Loss 0.421162 Accuracy 0.85 | validation: Loss 0.428838 Accuracy 0.84\n",
      "Epoch 154 | train: Loss 0.411587 Accuracy 0.85 | validation: Loss 0.423902 Accuracy 0.85\n",
      "Epoch 155 | train: Loss 0.410195 Accuracy 0.85 | validation: Loss 0.417422 Accuracy 0.87\n",
      "Epoch 156 | train: Loss 0.406899 Accuracy 0.86 | validation: Loss 0.412521 Accuracy 0.86\n",
      "Epoch 157 | train: Loss 0.407120 Accuracy 0.86 | validation: Loss 0.411075 Accuracy 0.84\n",
      "Epoch 158 | train: Loss 0.400906 Accuracy 0.86 | validation: Loss 0.406766 Accuracy 0.87\n",
      "Epoch 159 | train: Loss 0.406483 Accuracy 0.85 | validation: Loss 0.409017 Accuracy 0.86\n",
      "Epoch 160 | train: Loss 0.401239 Accuracy 0.87 | validation: Loss 0.406618 Accuracy 0.88\n",
      "Epoch 161 | train: Loss 0.401735 Accuracy 0.86 | validation: Loss 0.405226 Accuracy 0.85\n",
      "Epoch 162 | train: Loss 0.399014 Accuracy 0.86 | validation: Loss 0.407007 Accuracy 0.88\n",
      "Epoch 163 | train: Loss 0.396915 Accuracy 0.86 | validation: Loss 0.398108 Accuracy 0.86\n",
      "Epoch 164 | train: Loss 0.395926 Accuracy 0.86 | validation: Loss 0.401902 Accuracy 0.88\n",
      "Epoch 165 | train: Loss 0.392796 Accuracy 0.87 | validation: Loss 0.398523 Accuracy 0.88\n",
      "Epoch 166 | train: Loss 0.394632 Accuracy 0.86 | validation: Loss 0.392342 Accuracy 0.86\n",
      "Epoch 167 | train: Loss 0.388450 Accuracy 0.87 | validation: Loss 0.393166 Accuracy 0.86\n",
      "Epoch 168 | train: Loss 0.388460 Accuracy 0.87 | validation: Loss 0.392684 Accuracy 0.85\n",
      "Epoch 169 | train: Loss 0.385769 Accuracy 0.87 | validation: Loss 0.385049 Accuracy 0.87\n",
      "Epoch 170 | train: Loss 0.382767 Accuracy 0.87 | validation: Loss 0.388387 Accuracy 0.86\n",
      "Epoch 171 | train: Loss 0.381710 Accuracy 0.86 | validation: Loss 0.412501 Accuracy 0.86\n",
      "Epoch 172 | train: Loss 0.381592 Accuracy 0.87 | validation: Loss 0.394585 Accuracy 0.87\n",
      "Epoch 173 | train: Loss 0.380422 Accuracy 0.87 | validation: Loss 0.389696 Accuracy 0.88\n",
      "Epoch 174 | train: Loss 0.380729 Accuracy 0.86 | validation: Loss 0.388517 Accuracy 0.85\n",
      "Epoch 175 | train: Loss 0.375394 Accuracy 0.87 | validation: Loss 0.384511 Accuracy 0.87\n",
      "Epoch 176 | train: Loss 0.378823 Accuracy 0.87 | validation: Loss 0.396211 Accuracy 0.87\n",
      "Epoch 177 | train: Loss 0.371371 Accuracy 0.88 | validation: Loss 0.374928 Accuracy 0.89\n",
      "Epoch 178 | train: Loss 0.375616 Accuracy 0.87 | validation: Loss 0.386345 Accuracy 0.86\n",
      "Epoch 179 | train: Loss 0.378481 Accuracy 0.87 | validation: Loss 0.382247 Accuracy 0.87\n",
      "Epoch 180 | train: Loss 0.377036 Accuracy 0.87 | validation: Loss 0.385251 Accuracy 0.86\n",
      "Epoch 181 | train: Loss 0.372210 Accuracy 0.87 | validation: Loss 0.383151 Accuracy 0.86\n",
      "Epoch 182 | train: Loss 0.366490 Accuracy 0.87 | validation: Loss 0.370280 Accuracy 0.87\n",
      "Epoch 183 | train: Loss 0.368609 Accuracy 0.87 | validation: Loss 0.374418 Accuracy 0.86\n",
      "Epoch 184 | train: Loss 0.365448 Accuracy 0.87 | validation: Loss 0.368496 Accuracy 0.87\n",
      "Epoch 185 | train: Loss 0.363412 Accuracy 0.88 | validation: Loss 0.382710 Accuracy 0.86\n",
      "Epoch 186 | train: Loss 0.363884 Accuracy 0.87 | validation: Loss 0.383940 Accuracy 0.87\n",
      "Epoch 187 | train: Loss 0.357921 Accuracy 0.88 | validation: Loss 0.368488 Accuracy 0.87\n",
      "Epoch 188 | train: Loss 0.360943 Accuracy 0.88 | validation: Loss 0.367824 Accuracy 0.88\n",
      "Epoch 189 | train: Loss 0.356092 Accuracy 0.88 | validation: Loss 0.357405 Accuracy 0.88\n",
      "Epoch 190 | train: Loss 0.360234 Accuracy 0.87 | validation: Loss 0.362458 Accuracy 0.87\n",
      "Epoch 191 | train: Loss 0.359251 Accuracy 0.87 | validation: Loss 0.356921 Accuracy 0.88\n",
      "Epoch 192 | train: Loss 0.353327 Accuracy 0.88 | validation: Loss 0.358972 Accuracy 0.88\n",
      "Epoch 193 | train: Loss 0.354483 Accuracy 0.88 | validation: Loss 0.363803 Accuracy 0.88\n",
      "Epoch 194 | train: Loss 0.349414 Accuracy 0.88 | validation: Loss 0.361482 Accuracy 0.87\n",
      "Epoch 195 | train: Loss 0.350001 Accuracy 0.88 | validation: Loss 0.352461 Accuracy 0.89\n",
      "Epoch 196 | train: Loss 0.352416 Accuracy 0.88 | validation: Loss 0.349933 Accuracy 0.89\n",
      "Epoch 197 | train: Loss 0.347184 Accuracy 0.88 | validation: Loss 0.361707 Accuracy 0.86\n",
      "Epoch 198 | train: Loss 0.345992 Accuracy 0.88 | validation: Loss 0.354419 Accuracy 0.87\n",
      "Epoch 199 | train: Loss 0.346362 Accuracy 0.88 | validation: Loss 0.370631 Accuracy 0.86\n",
      "Epoch 200 | train: Loss 0.346107 Accuracy 0.88 | validation: Loss 0.345049 Accuracy 0.89\n",
      "Epoch 201 | train: Loss 0.343118 Accuracy 0.88 | validation: Loss 0.394559 Accuracy 0.84\n",
      "Epoch 202 | train: Loss 0.344664 Accuracy 0.88 | validation: Loss 0.378604 Accuracy 0.86\n",
      "Epoch 203 | train: Loss 0.347415 Accuracy 0.88 | validation: Loss 0.346566 Accuracy 0.88\n",
      "Epoch 204 | train: Loss 0.338261 Accuracy 0.88 | validation: Loss 0.348213 Accuracy 0.88\n",
      "Epoch 205 | train: Loss 0.336130 Accuracy 0.88 | validation: Loss 0.349492 Accuracy 0.86\n",
      "Epoch 206 | train: Loss 0.335462 Accuracy 0.88 | validation: Loss 0.344729 Accuracy 0.89\n",
      "Epoch 207 | train: Loss 0.336181 Accuracy 0.88 | validation: Loss 0.352053 Accuracy 0.87\n",
      "Epoch 208 | train: Loss 0.331266 Accuracy 0.89 | validation: Loss 0.343900 Accuracy 0.88\n",
      "Epoch 209 | train: Loss 0.332342 Accuracy 0.89 | validation: Loss 0.356737 Accuracy 0.87\n",
      "Epoch 210 | train: Loss 0.334392 Accuracy 0.88 | validation: Loss 0.345622 Accuracy 0.87\n",
      "Epoch 211 | train: Loss 0.332287 Accuracy 0.89 | validation: Loss 0.341389 Accuracy 0.87\n",
      "Epoch 212 | train: Loss 0.328317 Accuracy 0.89 | validation: Loss 0.339043 Accuracy 0.87\n",
      "Epoch 213 | train: Loss 0.328341 Accuracy 0.88 | validation: Loss 0.338837 Accuracy 0.87\n",
      "Epoch 214 | train: Loss 0.328864 Accuracy 0.88 | validation: Loss 0.330155 Accuracy 0.88\n",
      "Epoch 215 | train: Loss 0.325545 Accuracy 0.89 | validation: Loss 0.329603 Accuracy 0.89\n",
      "Epoch 216 | train: Loss 0.324789 Accuracy 0.89 | validation: Loss 0.327159 Accuracy 0.88\n",
      "Epoch 217 | train: Loss 0.325475 Accuracy 0.89 | validation: Loss 0.343422 Accuracy 0.88\n",
      "Epoch 218 | train: Loss 0.322257 Accuracy 0.89 | validation: Loss 0.346967 Accuracy 0.87\n",
      "Epoch 219 | train: Loss 0.321889 Accuracy 0.89 | validation: Loss 0.332222 Accuracy 0.88\n",
      "Epoch 220 | train: Loss 0.319267 Accuracy 0.88 | validation: Loss 0.327717 Accuracy 0.89\n",
      "Epoch 221 | train: Loss 0.321842 Accuracy 0.89 | validation: Loss 0.341397 Accuracy 0.88\n",
      "Epoch 222 | train: Loss 0.318900 Accuracy 0.89 | validation: Loss 0.326056 Accuracy 0.88\n",
      "Epoch 223 | train: Loss 0.318535 Accuracy 0.89 | validation: Loss 0.332342 Accuracy 0.89\n",
      "Epoch 224 | train: Loss 0.317381 Accuracy 0.89 | validation: Loss 0.317346 Accuracy 0.89\n",
      "Epoch 225 | train: Loss 0.312445 Accuracy 0.89 | validation: Loss 0.313868 Accuracy 0.90\n",
      "Epoch 226 | train: Loss 0.315829 Accuracy 0.89 | validation: Loss 0.345417 Accuracy 0.87\n",
      "Epoch 227 | train: Loss 0.314513 Accuracy 0.89 | validation: Loss 0.338560 Accuracy 0.85\n",
      "Epoch 228 | train: Loss 0.312808 Accuracy 0.89 | validation: Loss 0.319744 Accuracy 0.90\n",
      "Epoch 229 | train: Loss 0.313076 Accuracy 0.89 | validation: Loss 0.314789 Accuracy 0.89\n",
      "Epoch 230 | train: Loss 0.310763 Accuracy 0.89 | validation: Loss 0.308993 Accuracy 0.90\n",
      "Epoch 231 | train: Loss 0.309371 Accuracy 0.89 | validation: Loss 0.322061 Accuracy 0.89\n",
      "Epoch 232 | train: Loss 0.309068 Accuracy 0.89 | validation: Loss 0.318790 Accuracy 0.89\n",
      "Epoch 233 | train: Loss 0.308645 Accuracy 0.89 | validation: Loss 0.305059 Accuracy 0.91\n",
      "Epoch 234 | train: Loss 0.307304 Accuracy 0.89 | validation: Loss 0.321795 Accuracy 0.90\n",
      "Epoch 235 | train: Loss 0.304562 Accuracy 0.89 | validation: Loss 0.311868 Accuracy 0.89\n",
      "Epoch 236 | train: Loss 0.304523 Accuracy 0.89 | validation: Loss 0.321460 Accuracy 0.88\n",
      "Epoch 237 | train: Loss 0.302625 Accuracy 0.90 | validation: Loss 0.308588 Accuracy 0.88\n",
      "Epoch 238 | train: Loss 0.299344 Accuracy 0.90 | validation: Loss 0.305332 Accuracy 0.90\n",
      "Epoch 239 | train: Loss 0.305674 Accuracy 0.89 | validation: Loss 0.303903 Accuracy 0.90\n",
      "Epoch 240 | train: Loss 0.305932 Accuracy 0.89 | validation: Loss 0.301926 Accuracy 0.89\n",
      "Epoch 241 | train: Loss 0.297966 Accuracy 0.90 | validation: Loss 0.307889 Accuracy 0.89\n",
      "Epoch 242 | train: Loss 0.306947 Accuracy 0.89 | validation: Loss 0.302777 Accuracy 0.91\n",
      "Epoch 243 | train: Loss 0.299167 Accuracy 0.89 | validation: Loss 0.303311 Accuracy 0.90\n",
      "Epoch 244 | train: Loss 0.292272 Accuracy 0.90 | validation: Loss 0.304009 Accuracy 0.91\n",
      "Epoch 245 | train: Loss 0.296277 Accuracy 0.90 | validation: Loss 0.328856 Accuracy 0.87\n",
      "Epoch 246 | train: Loss 0.295577 Accuracy 0.89 | validation: Loss 0.298420 Accuracy 0.89\n",
      "Epoch 247 | train: Loss 0.289695 Accuracy 0.90 | validation: Loss 0.319914 Accuracy 0.89\n",
      "Epoch 248 | train: Loss 0.297698 Accuracy 0.89 | validation: Loss 0.330386 Accuracy 0.88\n",
      "Epoch 249 | train: Loss 0.298616 Accuracy 0.89 | validation: Loss 0.340968 Accuracy 0.87\n",
      "Epoch 250 | train: Loss 0.293636 Accuracy 0.90 | validation: Loss 0.315843 Accuracy 0.89\n",
      "Epoch 251 | train: Loss 0.287530 Accuracy 0.90 | validation: Loss 0.300059 Accuracy 0.90\n",
      "Epoch 252 | train: Loss 0.295828 Accuracy 0.89 | validation: Loss 0.302871 Accuracy 0.89\n",
      "Epoch 253 | train: Loss 0.291552 Accuracy 0.89 | validation: Loss 0.294455 Accuracy 0.89\n",
      "Epoch 254 | train: Loss 0.287242 Accuracy 0.90 | validation: Loss 0.287701 Accuracy 0.90\n",
      "Epoch 255 | train: Loss 0.288039 Accuracy 0.90 | validation: Loss 0.306954 Accuracy 0.89\n",
      "Epoch 256 | train: Loss 0.286583 Accuracy 0.90 | validation: Loss 0.301925 Accuracy 0.91\n",
      "Epoch 257 | train: Loss 0.285949 Accuracy 0.90 | validation: Loss 0.295007 Accuracy 0.89\n",
      "Epoch 258 | train: Loss 0.284516 Accuracy 0.90 | validation: Loss 0.283078 Accuracy 0.92\n",
      "Epoch 259 | train: Loss 0.281560 Accuracy 0.90 | validation: Loss 0.282741 Accuracy 0.92\n",
      "Epoch 260 | train: Loss 0.286303 Accuracy 0.90 | validation: Loss 0.286794 Accuracy 0.90\n",
      "Epoch 261 | train: Loss 0.285046 Accuracy 0.90 | validation: Loss 0.289760 Accuracy 0.90\n",
      "Epoch 262 | train: Loss 0.281884 Accuracy 0.90 | validation: Loss 0.282280 Accuracy 0.91\n",
      "Epoch 263 | train: Loss 0.275429 Accuracy 0.90 | validation: Loss 0.298413 Accuracy 0.89\n",
      "Epoch 264 | train: Loss 0.281696 Accuracy 0.90 | validation: Loss 0.275151 Accuracy 0.92\n",
      "Epoch 265 | train: Loss 0.277532 Accuracy 0.90 | validation: Loss 0.283007 Accuracy 0.90\n",
      "Epoch 266 | train: Loss 0.275489 Accuracy 0.90 | validation: Loss 0.296941 Accuracy 0.88\n",
      "Epoch 267 | train: Loss 0.276857 Accuracy 0.90 | validation: Loss 0.284111 Accuracy 0.90\n",
      "Epoch 268 | train: Loss 0.278191 Accuracy 0.90 | validation: Loss 0.283592 Accuracy 0.90\n",
      "Epoch 269 | train: Loss 0.274152 Accuracy 0.90 | validation: Loss 0.285690 Accuracy 0.89\n",
      "Epoch 270 | train: Loss 0.280634 Accuracy 0.89 | validation: Loss 0.309551 Accuracy 0.87\n",
      "Epoch 271 | train: Loss 0.275176 Accuracy 0.90 | validation: Loss 0.291976 Accuracy 0.89\n",
      "Epoch 272 | train: Loss 0.273847 Accuracy 0.90 | validation: Loss 0.316400 Accuracy 0.88\n",
      "Epoch 273 | train: Loss 0.275850 Accuracy 0.90 | validation: Loss 0.284383 Accuracy 0.90\n",
      "Epoch 274 | train: Loss 0.268953 Accuracy 0.91 | validation: Loss 0.277572 Accuracy 0.90\n",
      "Early_Stop_at_ 274 Epoch\n"
     ]
    }
   ],
   "source": [
    "import data_setup, engine, model_architecture\n",
    "from pathlib import Path\n",
    "import torch\n",
    "from torch import nn\n",
    "\n",
    "luzern_data = data_setup.Dataloader()\n",
    "data_path = Path(\"D:\\All Python\\All_Big_raw_Data\\LOS prediction\\Traffic Dataset\\DataLoader\")\n",
    "BATCH_SIZE = 32\n",
    "city = \"luzern\"\n",
    "train_dataloader, val_dataloader, test_dataloader = luzern_data.create_dataloaders(data_dir=data_path, city_code=city,\n",
    "                                                                                   batch_size=BATCH_SIZE)\n",
    "\n",
    "device = \"cuda\" if torch.cuda.is_available() else \"cpu\"\n",
    "torch.manual_seed(42)\n",
    "INPUT_SHAPE = 6\n",
    "HIDDEN_UNITS = 32\n",
    "OUTPUT_SHAPE = len(luzern_data.class_names)\n",
    "NUM_EPOCHS = 500\n",
    "\n",
    "model0 = model_architecture.LOS_Classification_V0(in_put=INPUT_SHAPE, hidden_units=HIDDEN_UNITS, out_put=OUTPUT_SHAPE)\n",
    "\n",
    "loss_fn = nn.CrossEntropyLoss()\n",
    "optimizer = torch.optim.Adam(params=model0.parameters(), lr=0.0001)\n",
    "\n",
    "model0_results = engine.train(model=model0,\n",
    "                              train_dataloader=train_dataloader,\n",
    "                              val_dataloader=val_dataloader,\n",
    "                              loss_fn=loss_fn,\n",
    "                              optimizer=optimizer,\n",
    "                              epochs=NUM_EPOCHS,\n",
    "                              early_stop_patience=10,\n",
    "                              device=device)"
   ],
   "metadata": {
    "collapsed": false,
    "ExecuteTime": {
     "end_time": "2023-12-24T19:20:35.906702500Z",
     "start_time": "2023-12-24T19:07:44.848355900Z"
    }
   },
   "id": "2f26e6d08bf6fe93",
   "execution_count": 3
  },
  {
   "cell_type": "code",
   "outputs": [
    {
     "name": "stdout",
     "output_type": "stream",
     "text": [
      "[INFO] create SummaryWriter saving to runs\\2023-12-24-23\\luzern\\Neural_Net\\20\n"
     ]
    },
    {
     "data": {
      "text/plain": "  0%|          | 0/20 [00:00<?, ?it/s]",
      "application/vnd.jupyter.widget-view+json": {
       "version_major": 2,
       "version_minor": 0,
       "model_id": "720cdb1d3db042bb9118ff9cc198173b"
      }
     },
     "metadata": {},
     "output_type": "display_data"
    },
    {
     "name": "stdout",
     "output_type": "stream",
     "text": [
      "Epoch 0 | train: Loss 7.770748 Accuracy 0.51 | validation: Loss 1.463997 Accuracy 0.53\n",
      "Epoch 1 | train: Loss 1.399654 Accuracy 0.52 | validation: Loss 1.359263 Accuracy 0.52\n",
      "Epoch 2 | train: Loss 1.339121 Accuracy 0.55 | validation: Loss 1.321238 Accuracy 0.51\n",
      "Epoch 3 | train: Loss 1.281425 Accuracy 0.57 | validation: Loss 1.238373 Accuracy 0.56\n",
      "Epoch 4 | train: Loss 1.193089 Accuracy 0.61 | validation: Loss 1.167704 Accuracy 0.61\n",
      "Epoch 5 | train: Loss 1.130246 Accuracy 0.62 | validation: Loss 1.107890 Accuracy 0.62\n",
      "Epoch 6 | train: Loss 1.096060 Accuracy 0.61 | validation: Loss 1.086527 Accuracy 0.62\n",
      "Epoch 7 | train: Loss 1.060004 Accuracy 0.62 | validation: Loss 1.040833 Accuracy 0.62\n",
      "Epoch 8 | train: Loss 1.027882 Accuracy 0.62 | validation: Loss 1.006603 Accuracy 0.64\n",
      "Epoch 9 | train: Loss 1.004187 Accuracy 0.63 | validation: Loss 0.994309 Accuracy 0.64\n",
      "Epoch 10 | train: Loss 0.989944 Accuracy 0.63 | validation: Loss 0.994836 Accuracy 0.63\n",
      "Epoch 11 | train: Loss 0.980709 Accuracy 0.63 | validation: Loss 0.971572 Accuracy 0.61\n",
      "Epoch 12 | train: Loss 0.968566 Accuracy 0.64 | validation: Loss 0.970568 Accuracy 0.61\n",
      "Epoch 13 | train: Loss 0.954615 Accuracy 0.63 | validation: Loss 0.945129 Accuracy 0.64\n",
      "Epoch 14 | train: Loss 0.943479 Accuracy 0.64 | validation: Loss 0.949176 Accuracy 0.66\n",
      "Epoch 15 | train: Loss 0.932791 Accuracy 0.65 | validation: Loss 0.929461 Accuracy 0.64\n",
      "Epoch 16 | train: Loss 0.923877 Accuracy 0.64 | validation: Loss 0.916025 Accuracy 0.64\n",
      "Epoch 17 | train: Loss 0.913651 Accuracy 0.65 | validation: Loss 0.917875 Accuracy 0.64\n",
      "Epoch 18 | train: Loss 0.912577 Accuracy 0.64 | validation: Loss 0.931566 Accuracy 0.61\n",
      "Epoch 19 | train: Loss 0.895737 Accuracy 0.66 | validation: Loss 0.905442 Accuracy 0.64\n"
     ]
    }
   ],
   "source": [
    "import data_setup, engine, model_architecture\n",
    "from pathlib import Path\n",
    "import torch\n",
    "from torch import nn\n",
    "\n",
    "luzern_data = data_setup.Dataloader()\n",
    "data_path = Path(\"D:\\All Python\\All_Big_raw_Data\\LOS prediction\\Traffic Dataset\\DataLoader\")\n",
    "BATCH_SIZE = 32\n",
    "city = \"luzern\"\n",
    "train_dataloader, val_dataloader, test_dataloader = luzern_data.create_dataloaders(data_dir=data_path, city_code=city,\n",
    "                                                                                   batch_size=BATCH_SIZE)\n",
    "\n",
    "device = \"cuda\" if torch.cuda.is_available() else \"cpu\"\n",
    "torch.manual_seed(42)\n",
    "INPUT_SHAPE = 6\n",
    "HIDDEN_UNITS = 32\n",
    "OUTPUT_SHAPE = len(luzern_data.class_names)\n",
    "NUM_EPOCHS = 20\n",
    "\n",
    "model1 = model_architecture.LOS_Classification_V0(in_put=INPUT_SHAPE, hidden_units=HIDDEN_UNITS, out_put=OUTPUT_SHAPE)\n",
    "\n",
    "loss_fn = nn.CrossEntropyLoss()\n",
    "optimizer = torch.optim.Adam(params=model1.parameters(), lr=0.0001)\n",
    "\n",
    "model1_results = engine.train(model=model1,\n",
    "                              train_dataloader=train_dataloader,\n",
    "                              val_dataloader=val_dataloader,\n",
    "                              loss_fn=loss_fn,\n",
    "                              optimizer=optimizer,\n",
    "                              epochs=NUM_EPOCHS,\n",
    "                              experiment_name=\"luzern\",\n",
    "                              model_name=\"Neural_Net\",\n",
    "                              early_stop_patience=None,\n",
    "                              device=device)"
   ],
   "metadata": {
    "collapsed": false,
    "ExecuteTime": {
     "end_time": "2023-12-24T19:48:00.955527500Z",
     "start_time": "2023-12-24T19:46:58.741558900Z"
    }
   },
   "id": "127ac94d7bb26bc1",
   "execution_count": 12
  },
  {
   "cell_type": "code",
   "outputs": [
    {
     "name": "stdout",
     "output_type": "stream",
     "text": [
      "usage: main.py [-h] [--datafolder DATAFOLDER] [--city {luzern}] [--seed SEED]\n",
      "               [-n NEURAL_NETWORK] [--early_stop EARLY_STOP]\n",
      "\n",
      "options:\n",
      "  -h, --help            show this help message and exit\n",
      "  --datafolder DATAFOLDER\n",
      "                        Please write the address of the folder which contains\n",
      "                        data.\n",
      "  --city {luzern}       Choose which city are you looking at.\n",
      "  --seed SEED           What is the random you want to model on it?\n",
      "  -n NEURAL_NETWORK, --neural_network NEURAL_NETWORK\n",
      "                        Specify hyper parameters of neural_network in order\n",
      "                        to: hidden_units, epochs, learning_rate\n",
      "  --early_stop EARLY_STOP\n",
      "                        early_stop count?\n"
     ]
    }
   ],
   "source": [
    "!python Going_Modular/main.py --help"
   ],
   "metadata": {
    "collapsed": false,
    "ExecuteTime": {
     "end_time": "2023-12-24T20:16:48.805826500Z",
     "start_time": "2023-12-24T20:16:45.401259400Z"
    }
   },
   "id": "571334e71b9628e3",
   "execution_count": 19
  },
  {
   "cell_type": "code",
   "outputs": [
    {
     "name": "stdout",
     "output_type": "stream",
     "text": [
      "^C\n"
     ]
    }
   ],
   "source": [
    "!python Going_Modular/main.py --datafolder \"D:\\All Python\\All_Big_raw_Data\\LOS prediction\\Traffic Dataset\\DataLoader\" --city \"luzern\" --seed -379 -n 32,500,0.0001"
   ],
   "metadata": {
    "collapsed": false,
    "ExecuteTime": {
     "end_time": "2023-12-24T20:21:40.586848500Z",
     "start_time": "2023-12-24T20:20:10.719897400Z"
    }
   },
   "id": "ffa6d621bf18dd4a",
   "execution_count": 24
  },
  {
   "cell_type": "code",
   "outputs": [],
   "source": [],
   "metadata": {
    "collapsed": false
   },
   "id": "227e79edd522336b"
  }
 ],
 "metadata": {
  "kernelspec": {
   "display_name": "Python 3",
   "language": "python",
   "name": "python3"
  },
  "language_info": {
   "codemirror_mode": {
    "name": "ipython",
    "version": 2
   },
   "file_extension": ".py",
   "mimetype": "text/x-python",
   "name": "python",
   "nbconvert_exporter": "python",
   "pygments_lexer": "ipython2",
   "version": "2.7.6"
  }
 },
 "nbformat": 4,
 "nbformat_minor": 5
}
