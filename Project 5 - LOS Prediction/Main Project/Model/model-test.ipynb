{
 "cells": [
  {
   "cell_type": "code",
   "execution_count": 1,
   "id": "initial_id",
   "metadata": {
    "collapsed": true,
    "ExecuteTime": {
     "end_time": "2023-12-30T09:20:45.161783600Z",
     "start_time": "2023-12-30T09:20:45.089091500Z"
    }
   },
   "outputs": [],
   "source": [
    "%load_ext autoreload\n",
    "%autoreload 2"
   ]
  },
  {
   "cell_type": "code",
   "execution_count": 4,
   "id": "ff43e18c",
   "metadata": {
    "ExecuteTime": {
     "end_time": "2023-12-30T09:50:23.406877Z",
     "start_time": "2023-12-30T09:42:47.016328700Z"
    }
   },
   "outputs": [
    {
     "name": "stdout",
     "output_type": "stream",
     "text": [
      "[INFO] create SummaryWriter saving to runs\\2023-12-30-13\\luzern_V0_32\\Neural_Net\\100epoch\n"
     ]
    },
    {
     "data": {
      "text/plain": "  0%|          | 0/100 [00:00<?, ?it/s]",
      "application/vnd.jupyter.widget-view+json": {
       "version_major": 2,
       "version_minor": 0,
       "model_id": "63c6b2410c304aed8fd3bf1f42b8ce1d"
      }
     },
     "metadata": {},
     "output_type": "display_data"
    },
    {
     "name": "stdout",
     "output_type": "stream",
     "text": [
      "Epoch 0 | train: Loss 1.112130 Accuracy 0.78 | validation: Loss 0.426028 Accuracy 0.80\n",
      "Epoch 1 | train: Loss 0.269496 Accuracy 0.88 | validation: Loss 0.175006 Accuracy 0.92\n",
      "Epoch 2 | train: Loss 0.252953 Accuracy 0.90 | validation: Loss 0.139561 Accuracy 0.94\n",
      "Epoch 3 | train: Loss 0.218998 Accuracy 0.91 | validation: Loss 0.146773 Accuracy 0.95\n",
      "Epoch 4 | train: Loss 0.187572 Accuracy 0.92 | validation: Loss 0.146332 Accuracy 0.92\n",
      "Epoch 5 | train: Loss 0.199495 Accuracy 0.92 | validation: Loss 0.123184 Accuracy 0.95\n",
      "Epoch 6 | train: Loss 0.166529 Accuracy 0.93 | validation: Loss 0.277114 Accuracy 0.90\n",
      "Epoch 7 | train: Loss 0.187803 Accuracy 0.92 | validation: Loss 0.197175 Accuracy 0.90\n",
      "Epoch 8 | train: Loss 0.150427 Accuracy 0.93 | validation: Loss 0.135943 Accuracy 0.93\n",
      "Epoch 9 | train: Loss 0.142800 Accuracy 0.94 | validation: Loss 0.168833 Accuracy 0.92\n",
      "Epoch 10 | train: Loss 0.165717 Accuracy 0.93 | validation: Loss 0.200972 Accuracy 0.92\n",
      "Epoch 11 | train: Loss 0.143618 Accuracy 0.94 | validation: Loss 0.106607 Accuracy 0.95\n",
      "Epoch 12 | train: Loss 0.191263 Accuracy 0.93 | validation: Loss 0.099847 Accuracy 0.96\n",
      "Epoch 13 | train: Loss 0.159325 Accuracy 0.93 | validation: Loss 0.155900 Accuracy 0.94\n",
      "Epoch 14 | train: Loss 0.136544 Accuracy 0.94 | validation: Loss 0.217133 Accuracy 0.91\n",
      "Epoch 15 | train: Loss 0.133858 Accuracy 0.94 | validation: Loss 0.085747 Accuracy 0.97\n",
      "Epoch 16 | train: Loss 0.136768 Accuracy 0.94 | validation: Loss 0.105543 Accuracy 0.96\n",
      "Epoch 17 | train: Loss 0.119827 Accuracy 0.95 | validation: Loss 0.285303 Accuracy 0.90\n",
      "Epoch 18 | train: Loss 0.136088 Accuracy 0.94 | validation: Loss 0.208594 Accuracy 0.91\n",
      "Epoch 19 | train: Loss 0.161572 Accuracy 0.93 | validation: Loss 0.164130 Accuracy 0.92\n",
      "Epoch 20 | train: Loss 0.148943 Accuracy 0.94 | validation: Loss 0.095068 Accuracy 0.96\n",
      "Epoch 21 | train: Loss 0.118943 Accuracy 0.95 | validation: Loss 0.197903 Accuracy 0.91\n",
      "Epoch 22 | train: Loss 0.156651 Accuracy 0.94 | validation: Loss 0.094127 Accuracy 0.97\n",
      "Epoch 23 | train: Loss 0.132312 Accuracy 0.95 | validation: Loss 0.082470 Accuracy 0.97\n",
      "Epoch 24 | train: Loss 0.117745 Accuracy 0.95 | validation: Loss 0.177622 Accuracy 0.93\n",
      "Epoch 25 | train: Loss 0.142529 Accuracy 0.94 | validation: Loss 0.132567 Accuracy 0.94\n",
      "Epoch 26 | train: Loss 0.112625 Accuracy 0.95 | validation: Loss 0.120743 Accuracy 0.95\n",
      "Epoch 27 | train: Loss 0.139843 Accuracy 0.94 | validation: Loss 0.184514 Accuracy 0.92\n",
      "Epoch 28 | train: Loss 0.124843 Accuracy 0.95 | validation: Loss 0.106527 Accuracy 0.96\n",
      "Epoch 29 | train: Loss 0.130029 Accuracy 0.95 | validation: Loss 0.101530 Accuracy 0.96\n",
      "Epoch 30 | train: Loss 0.131193 Accuracy 0.95 | validation: Loss 0.115328 Accuracy 0.95\n",
      "Epoch 31 | train: Loss 0.160895 Accuracy 0.93 | validation: Loss 0.163286 Accuracy 0.92\n",
      "Epoch 32 | train: Loss 0.116763 Accuracy 0.95 | validation: Loss 0.155676 Accuracy 0.93\n",
      "Epoch 33 | train: Loss 0.117685 Accuracy 0.95 | validation: Loss 0.078604 Accuracy 0.97\n",
      "Epoch 34 | train: Loss 0.135963 Accuracy 0.94 | validation: Loss 0.115017 Accuracy 0.95\n",
      "Epoch 35 | train: Loss 0.135798 Accuracy 0.94 | validation: Loss 0.149167 Accuracy 0.94\n",
      "Epoch 36 | train: Loss 0.118417 Accuracy 0.95 | validation: Loss 0.126735 Accuracy 0.95\n",
      "Epoch 37 | train: Loss 0.114797 Accuracy 0.95 | validation: Loss 0.149271 Accuracy 0.94\n",
      "Epoch 38 | train: Loss 0.147428 Accuracy 0.94 | validation: Loss 0.113848 Accuracy 0.95\n",
      "Epoch 39 | train: Loss 0.125924 Accuracy 0.95 | validation: Loss 0.135311 Accuracy 0.95\n",
      "Epoch 40 | train: Loss 0.113767 Accuracy 0.95 | validation: Loss 0.156167 Accuracy 0.93\n",
      "Epoch 41 | train: Loss 0.156913 Accuracy 0.94 | validation: Loss 0.145634 Accuracy 0.94\n",
      "Epoch 42 | train: Loss 0.117891 Accuracy 0.95 | validation: Loss 0.269072 Accuracy 0.92\n",
      "Epoch 43 | train: Loss 0.130180 Accuracy 0.95 | validation: Loss 0.093620 Accuracy 0.96\n",
      "Epoch 44 | train: Loss 0.127242 Accuracy 0.95 | validation: Loss 0.103579 Accuracy 0.95\n",
      "Epoch 45 | train: Loss 0.128688 Accuracy 0.95 | validation: Loss 0.103402 Accuracy 0.96\n",
      "Epoch 46 | train: Loss 0.117008 Accuracy 0.95 | validation: Loss 0.088120 Accuracy 0.97\n",
      "Epoch 47 | train: Loss 0.101722 Accuracy 0.96 | validation: Loss 0.117663 Accuracy 0.95\n",
      "Epoch 48 | train: Loss 0.145359 Accuracy 0.94 | validation: Loss 0.245269 Accuracy 0.91\n",
      "Epoch 49 | train: Loss 0.120396 Accuracy 0.95 | validation: Loss 0.110073 Accuracy 0.95\n",
      "Epoch 50 | train: Loss 0.151910 Accuracy 0.95 | validation: Loss 0.175842 Accuracy 0.92\n",
      "Epoch 51 | train: Loss 0.109641 Accuracy 0.96 | validation: Loss 0.117466 Accuracy 0.95\n",
      "Epoch 52 | train: Loss 0.133914 Accuracy 0.95 | validation: Loss 0.100428 Accuracy 0.96\n",
      "Epoch 53 | train: Loss 0.108688 Accuracy 0.95 | validation: Loss 0.120448 Accuracy 0.94\n",
      "Epoch 54 | train: Loss 0.105410 Accuracy 0.96 | validation: Loss 0.126867 Accuracy 0.95\n",
      "Epoch 55 | train: Loss 0.121891 Accuracy 0.95 | validation: Loss 0.090616 Accuracy 0.96\n",
      "Epoch 56 | train: Loss 0.117814 Accuracy 0.95 | validation: Loss 0.244954 Accuracy 0.91\n",
      "Epoch 57 | train: Loss 0.146166 Accuracy 0.95 | validation: Loss 0.088924 Accuracy 0.97\n",
      "Epoch 58 | train: Loss 0.103263 Accuracy 0.96 | validation: Loss 0.095520 Accuracy 0.96\n",
      "Epoch 59 | train: Loss 0.123975 Accuracy 0.95 | validation: Loss 0.174661 Accuracy 0.93\n",
      "Epoch 60 | train: Loss 0.152101 Accuracy 0.94 | validation: Loss 0.117678 Accuracy 0.96\n",
      "Epoch 61 | train: Loss 0.100365 Accuracy 0.96 | validation: Loss 0.104241 Accuracy 0.95\n",
      "Epoch 62 | train: Loss 0.113053 Accuracy 0.95 | validation: Loss 0.123684 Accuracy 0.95\n",
      "Epoch 63 | train: Loss 0.215635 Accuracy 0.93 | validation: Loss 0.124729 Accuracy 0.94\n",
      "Epoch 64 | train: Loss 0.106344 Accuracy 0.96 | validation: Loss 0.073298 Accuracy 0.97\n",
      "Epoch 65 | train: Loss 0.113878 Accuracy 0.95 | validation: Loss 0.181451 Accuracy 0.94\n",
      "Epoch 66 | train: Loss 0.130625 Accuracy 0.95 | validation: Loss 0.223196 Accuracy 0.92\n",
      "Epoch 67 | train: Loss 0.129482 Accuracy 0.95 | validation: Loss 0.122436 Accuracy 0.94\n",
      "Epoch 68 | train: Loss 0.094606 Accuracy 0.96 | validation: Loss 0.166722 Accuracy 0.92\n",
      "Epoch 69 | train: Loss 0.134999 Accuracy 0.95 | validation: Loss 0.167417 Accuracy 0.93\n",
      "Epoch 70 | train: Loss 0.143224 Accuracy 0.94 | validation: Loss 0.096209 Accuracy 0.96\n",
      "Epoch 71 | train: Loss 0.112818 Accuracy 0.95 | validation: Loss 0.108880 Accuracy 0.95\n",
      "Epoch 72 | train: Loss 0.094588 Accuracy 0.96 | validation: Loss 0.149435 Accuracy 0.94\n",
      "Epoch 73 | train: Loss 0.124554 Accuracy 0.95 | validation: Loss 0.098324 Accuracy 0.96\n",
      "Epoch 74 | train: Loss 0.118368 Accuracy 0.96 | validation: Loss 0.169897 Accuracy 0.94\n",
      "Epoch 75 | train: Loss 0.136028 Accuracy 0.95 | validation: Loss 0.082567 Accuracy 0.96\n",
      "Epoch 76 | train: Loss 0.115262 Accuracy 0.95 | validation: Loss 0.186774 Accuracy 0.94\n",
      "Epoch 77 | train: Loss 0.140915 Accuracy 0.94 | validation: Loss 0.091658 Accuracy 0.96\n",
      "Epoch 78 | train: Loss 0.109316 Accuracy 0.96 | validation: Loss 0.135661 Accuracy 0.94\n",
      "Epoch 79 | train: Loss 0.145796 Accuracy 0.94 | validation: Loss 0.080173 Accuracy 0.97\n",
      "Epoch 80 | train: Loss 0.096749 Accuracy 0.96 | validation: Loss 0.295190 Accuracy 0.90\n",
      "Epoch 81 | train: Loss 0.101633 Accuracy 0.96 | validation: Loss 0.168918 Accuracy 0.94\n",
      "Epoch 82 | train: Loss 0.103401 Accuracy 0.96 | validation: Loss 0.175024 Accuracy 0.93\n",
      "Epoch 83 | train: Loss 0.108958 Accuracy 0.96 | validation: Loss 0.275528 Accuracy 0.90\n",
      "Epoch 84 | train: Loss 0.157457 Accuracy 0.94 | validation: Loss 0.098544 Accuracy 0.96\n",
      "Epoch 85 | train: Loss 0.106063 Accuracy 0.96 | validation: Loss 0.101560 Accuracy 0.96\n",
      "Epoch 86 | train: Loss 0.114012 Accuracy 0.96 | validation: Loss 0.117210 Accuracy 0.95\n",
      "Epoch 87 | train: Loss 0.101062 Accuracy 0.96 | validation: Loss 0.094196 Accuracy 0.95\n",
      "Epoch 88 | train: Loss 0.160372 Accuracy 0.94 | validation: Loss 0.366864 Accuracy 0.84\n",
      "Epoch 89 | train: Loss 0.110033 Accuracy 0.95 | validation: Loss 0.111329 Accuracy 0.95\n",
      "Epoch 90 | train: Loss 0.109395 Accuracy 0.95 | validation: Loss 0.159379 Accuracy 0.94\n",
      "Epoch 91 | train: Loss 0.114431 Accuracy 0.95 | validation: Loss 0.085426 Accuracy 0.96\n",
      "Epoch 92 | train: Loss 0.114597 Accuracy 0.95 | validation: Loss 0.375957 Accuracy 0.87\n",
      "Epoch 93 | train: Loss 0.118287 Accuracy 0.95 | validation: Loss 0.217806 Accuracy 0.93\n",
      "Epoch 94 | train: Loss 0.141351 Accuracy 0.95 | validation: Loss 0.093695 Accuracy 0.96\n",
      "Epoch 95 | train: Loss 0.119152 Accuracy 0.95 | validation: Loss 0.145644 Accuracy 0.95\n",
      "Epoch 96 | train: Loss 0.093562 Accuracy 0.96 | validation: Loss 0.112167 Accuracy 0.95\n",
      "Epoch 97 | train: Loss 0.111553 Accuracy 0.95 | validation: Loss 0.188371 Accuracy 0.93\n",
      "Epoch 98 | train: Loss 0.130599 Accuracy 0.95 | validation: Loss 0.222824 Accuracy 0.92\n",
      "Epoch 99 | train: Loss 0.102162 Accuracy 0.96 | validation: Loss 0.134847 Accuracy 0.94\n"
     ]
    }
   ],
   "source": [
    "import data_setup, engine, model_architecture\n",
    "from pathlib import Path\n",
    "import torch\n",
    "from torch import nn\n",
    "\n",
    "torch.manual_seed(42)\n",
    "device = \"cuda\" if torch.cuda.is_available() else \"cpu\"\n",
    "city = \"luzern\"\n",
    "\n",
    "model_name = f\"{city}_V0_32\"\n",
    "\n",
    "luzern_data = data_setup.Dataloader()\n",
    "data_path = Path(\"D:\\All Python\\All_Big_raw_Data\\LOS prediction\\Traffic Dataset\\DataLoader\")\n",
    "data_path = data_path / city\n",
    "\n",
    "BATCH_SIZE = 32\n",
    "\n",
    "train_dataloader, val_dataloader, test_dataloader = luzern_data.create_dataloaders(data_dir=data_path, city_code=city,\n",
    "                                                                                   batch_size=BATCH_SIZE)\n",
    "\n",
    "INPUT_SHAPE = 14\n",
    "HIDDEN_UNITS = 32\n",
    "OUTPUT_SHAPE = len(luzern_data.class_names)\n",
    "NUM_EPOCHS = 100\n",
    "\n",
    "model1 = model_architecture.LOS_Classification_V0(in_put=INPUT_SHAPE, hidden_units=HIDDEN_UNITS, out_put=OUTPUT_SHAPE)\n",
    "\n",
    "loss_fn = nn.CrossEntropyLoss()\n",
    "optimizer = torch.optim.Adam(params=model1.parameters(), lr=0.01)\n",
    "\n",
    "model1_results = engine.train(model=model1,\n",
    "                              train_dataloader=train_dataloader,\n",
    "                              val_dataloader=val_dataloader,\n",
    "                              loss_fn=loss_fn,\n",
    "                              optimizer=optimizer,\n",
    "                              epochs=NUM_EPOCHS,\n",
    "                              experiment_name=model_name,\n",
    "                              model_name=\"Neural_Net\",\n",
    "                              early_stop_patience=None,\n",
    "                              device=device)"
   ]
  },
  {
   "cell_type": "code",
   "outputs": [
    {
     "name": "stdout",
     "output_type": "stream",
     "text": [
      "[INFO] create SummaryWriter saving to runs\\2023-12-30-13\\luzern_V1_32\\Neural_Net\\100epoch\n"
     ]
    },
    {
     "data": {
      "text/plain": "  0%|          | 0/100 [00:00<?, ?it/s]",
      "application/vnd.jupyter.widget-view+json": {
       "version_major": 2,
       "version_minor": 0,
       "model_id": "289af3f7bda84a8d96de9d39a0fa5b4b"
      }
     },
     "metadata": {},
     "output_type": "display_data"
    },
    {
     "name": "stdout",
     "output_type": "stream",
     "text": [
      "Epoch 0 | train: Loss 3.664587 Accuracy 0.61 | validation: Loss 0.773476 Accuracy 0.64\n",
      "Epoch 1 | train: Loss 0.624020 Accuracy 0.71 | validation: Loss 0.563658 Accuracy 0.71\n",
      "Epoch 2 | train: Loss 0.409800 Accuracy 0.83 | validation: Loss 0.370545 Accuracy 0.87\n",
      "Epoch 3 | train: Loss 0.318444 Accuracy 0.88 | validation: Loss 0.367653 Accuracy 0.82\n",
      "Epoch 4 | train: Loss 0.249671 Accuracy 0.90 | validation: Loss 0.269984 Accuracy 0.88\n",
      "Epoch 5 | train: Loss 0.236237 Accuracy 0.91 | validation: Loss 0.200630 Accuracy 0.94\n",
      "Epoch 6 | train: Loss 0.237471 Accuracy 0.90 | validation: Loss 0.261115 Accuracy 0.90\n",
      "Epoch 7 | train: Loss 0.250158 Accuracy 0.88 | validation: Loss 0.303266 Accuracy 0.83\n",
      "Epoch 8 | train: Loss 0.220432 Accuracy 0.90 | validation: Loss 0.262749 Accuracy 0.87\n",
      "Epoch 9 | train: Loss 0.176127 Accuracy 0.93 | validation: Loss 0.187145 Accuracy 0.91\n",
      "Epoch 10 | train: Loss 0.163283 Accuracy 0.93 | validation: Loss 0.186510 Accuracy 0.91\n",
      "Epoch 11 | train: Loss 0.160185 Accuracy 0.93 | validation: Loss 0.126541 Accuracy 0.97\n",
      "Epoch 12 | train: Loss 0.141302 Accuracy 0.94 | validation: Loss 0.587969 Accuracy 0.81\n",
      "Epoch 13 | train: Loss 0.322095 Accuracy 0.88 | validation: Loss 0.198799 Accuracy 0.90\n",
      "Epoch 14 | train: Loss 0.235329 Accuracy 0.91 | validation: Loss 0.174091 Accuracy 0.93\n",
      "Epoch 15 | train: Loss 0.214074 Accuracy 0.90 | validation: Loss 0.278155 Accuracy 0.84\n",
      "Epoch 16 | train: Loss 0.149885 Accuracy 0.94 | validation: Loss 0.219450 Accuracy 0.89\n",
      "Epoch 17 | train: Loss 0.140520 Accuracy 0.94 | validation: Loss 0.195797 Accuracy 0.93\n",
      "Epoch 18 | train: Loss 0.159721 Accuracy 0.94 | validation: Loss 0.150749 Accuracy 0.94\n",
      "Epoch 19 | train: Loss 0.210797 Accuracy 0.92 | validation: Loss 0.310468 Accuracy 0.85\n",
      "Epoch 20 | train: Loss 0.161546 Accuracy 0.93 | validation: Loss 0.169490 Accuracy 0.92\n",
      "Epoch 21 | train: Loss 0.149436 Accuracy 0.93 | validation: Loss 0.659624 Accuracy 0.79\n",
      "Epoch 22 | train: Loss 0.320808 Accuracy 0.88 | validation: Loss 0.226084 Accuracy 0.93\n",
      "Epoch 23 | train: Loss 0.127177 Accuracy 0.95 | validation: Loss 0.315190 Accuracy 0.86\n",
      "Epoch 24 | train: Loss 0.161646 Accuracy 0.93 | validation: Loss 0.458616 Accuracy 0.84\n",
      "Epoch 25 | train: Loss 0.212111 Accuracy 0.92 | validation: Loss 0.200424 Accuracy 0.91\n",
      "Epoch 26 | train: Loss 0.182556 Accuracy 0.93 | validation: Loss 0.154453 Accuracy 0.93\n",
      "Epoch 27 | train: Loss 0.150886 Accuracy 0.93 | validation: Loss 0.146145 Accuracy 0.94\n",
      "Epoch 28 | train: Loss 0.128257 Accuracy 0.95 | validation: Loss 0.202223 Accuracy 0.91\n",
      "Epoch 29 | train: Loss 0.255449 Accuracy 0.90 | validation: Loss 0.178798 Accuracy 0.93\n",
      "Epoch 30 | train: Loss 0.195681 Accuracy 0.92 | validation: Loss 0.214804 Accuracy 0.94\n",
      "Epoch 31 | train: Loss 0.140681 Accuracy 0.94 | validation: Loss 0.166174 Accuracy 0.93\n",
      "Epoch 32 | train: Loss 0.222606 Accuracy 0.92 | validation: Loss 0.959777 Accuracy 0.77\n",
      "Epoch 33 | train: Loss 0.251674 Accuracy 0.90 | validation: Loss 0.177931 Accuracy 0.91\n",
      "Epoch 34 | train: Loss 0.162208 Accuracy 0.93 | validation: Loss 0.342058 Accuracy 0.85\n",
      "Epoch 35 | train: Loss 0.168264 Accuracy 0.93 | validation: Loss 0.212566 Accuracy 0.92\n",
      "Epoch 36 | train: Loss 0.112159 Accuracy 0.95 | validation: Loss 0.122029 Accuracy 0.94\n",
      "Epoch 37 | train: Loss 0.138101 Accuracy 0.94 | validation: Loss 0.336672 Accuracy 0.89\n",
      "Epoch 38 | train: Loss 0.224243 Accuracy 0.91 | validation: Loss 0.392997 Accuracy 0.83\n",
      "Epoch 39 | train: Loss 0.141314 Accuracy 0.93 | validation: Loss 0.125629 Accuracy 0.91\n",
      "Epoch 40 | train: Loss 0.138013 Accuracy 0.94 | validation: Loss 0.126368 Accuracy 0.95\n",
      "Epoch 41 | train: Loss 0.164874 Accuracy 0.93 | validation: Loss 0.148964 Accuracy 0.94\n",
      "Epoch 42 | train: Loss 0.329032 Accuracy 0.87 | validation: Loss 0.227729 Accuracy 0.92\n",
      "Epoch 43 | train: Loss 0.154093 Accuracy 0.94 | validation: Loss 0.212364 Accuracy 0.92\n",
      "Epoch 44 | train: Loss 0.170582 Accuracy 0.93 | validation: Loss 0.154763 Accuracy 0.96\n",
      "Epoch 45 | train: Loss 0.149337 Accuracy 0.94 | validation: Loss 0.122172 Accuracy 0.93\n",
      "Epoch 46 | train: Loss 0.168940 Accuracy 0.93 | validation: Loss 0.162235 Accuracy 0.93\n",
      "Epoch 47 | train: Loss 0.205516 Accuracy 0.92 | validation: Loss 0.169689 Accuracy 0.90\n",
      "Epoch 48 | train: Loss 0.131383 Accuracy 0.94 | validation: Loss 0.151921 Accuracy 0.92\n",
      "Epoch 49 | train: Loss 0.099877 Accuracy 0.96 | validation: Loss 0.191938 Accuracy 0.94\n",
      "Epoch 50 | train: Loss 0.155455 Accuracy 0.94 | validation: Loss 0.207875 Accuracy 0.90\n",
      "Epoch 51 | train: Loss 0.119825 Accuracy 0.95 | validation: Loss 0.130917 Accuracy 0.93\n",
      "Epoch 52 | train: Loss 0.150369 Accuracy 0.93 | validation: Loss 0.271904 Accuracy 0.90\n",
      "Epoch 53 | train: Loss 0.131098 Accuracy 0.94 | validation: Loss 0.132709 Accuracy 0.96\n",
      "Epoch 54 | train: Loss 0.172493 Accuracy 0.94 | validation: Loss 0.138654 Accuracy 0.94\n",
      "Epoch 55 | train: Loss 0.093862 Accuracy 0.96 | validation: Loss 0.201587 Accuracy 0.90\n",
      "Epoch 56 | train: Loss 0.191249 Accuracy 0.92 | validation: Loss 0.162321 Accuracy 0.94\n",
      "Epoch 57 | train: Loss 0.145038 Accuracy 0.94 | validation: Loss 0.186765 Accuracy 0.95\n",
      "Epoch 58 | train: Loss 0.092204 Accuracy 0.96 | validation: Loss 0.212596 Accuracy 0.89\n",
      "Epoch 59 | train: Loss 0.182154 Accuracy 0.92 | validation: Loss 0.105324 Accuracy 0.96\n",
      "Epoch 60 | train: Loss 0.106914 Accuracy 0.96 | validation: Loss 0.119806 Accuracy 0.96\n",
      "Epoch 61 | train: Loss 0.147509 Accuracy 0.94 | validation: Loss 0.128166 Accuracy 0.95\n",
      "Epoch 62 | train: Loss 0.140563 Accuracy 0.95 | validation: Loss 0.192965 Accuracy 0.91\n",
      "Epoch 63 | train: Loss 0.117660 Accuracy 0.94 | validation: Loss 0.098555 Accuracy 0.95\n",
      "Epoch 64 | train: Loss 0.085740 Accuracy 0.97 | validation: Loss 0.112220 Accuracy 0.96\n",
      "Epoch 65 | train: Loss 0.124951 Accuracy 0.95 | validation: Loss 0.128286 Accuracy 0.94\n",
      "Epoch 66 | train: Loss 0.168268 Accuracy 0.93 | validation: Loss 0.094695 Accuracy 0.96\n",
      "Epoch 67 | train: Loss 0.123958 Accuracy 0.95 | validation: Loss 0.122942 Accuracy 0.93\n",
      "Epoch 68 | train: Loss 0.112381 Accuracy 0.95 | validation: Loss 0.164133 Accuracy 0.94\n",
      "Epoch 69 | train: Loss 0.163086 Accuracy 0.93 | validation: Loss 0.160416 Accuracy 0.91\n",
      "Epoch 70 | train: Loss 0.087970 Accuracy 0.96 | validation: Loss 0.104954 Accuracy 0.96\n",
      "Epoch 71 | train: Loss 0.082355 Accuracy 0.96 | validation: Loss 0.268237 Accuracy 0.87\n",
      "Epoch 72 | train: Loss 0.214380 Accuracy 0.92 | validation: Loss 0.161521 Accuracy 0.94\n",
      "Epoch 73 | train: Loss 0.144091 Accuracy 0.94 | validation: Loss 0.110606 Accuracy 0.94\n",
      "Epoch 74 | train: Loss 0.158578 Accuracy 0.93 | validation: Loss 0.257063 Accuracy 0.89\n",
      "Epoch 75 | train: Loss 0.190945 Accuracy 0.93 | validation: Loss 0.091023 Accuracy 0.96\n",
      "Epoch 76 | train: Loss 0.096024 Accuracy 0.96 | validation: Loss 0.108202 Accuracy 0.97\n",
      "Epoch 77 | train: Loss 0.086694 Accuracy 0.96 | validation: Loss 0.166636 Accuracy 0.91\n",
      "Epoch 78 | train: Loss 0.129025 Accuracy 0.95 | validation: Loss 0.154906 Accuracy 0.94\n",
      "Epoch 79 | train: Loss 0.137036 Accuracy 0.94 | validation: Loss 0.105706 Accuracy 0.95\n",
      "Epoch 80 | train: Loss 0.106301 Accuracy 0.95 | validation: Loss 0.082050 Accuracy 0.97\n",
      "Epoch 81 | train: Loss 0.170790 Accuracy 0.94 | validation: Loss 0.425267 Accuracy 0.86\n",
      "Epoch 82 | train: Loss 0.136649 Accuracy 0.95 | validation: Loss 0.135316 Accuracy 0.93\n",
      "Epoch 83 | train: Loss 0.162769 Accuracy 0.94 | validation: Loss 0.116324 Accuracy 0.95\n",
      "Epoch 84 | train: Loss 0.120747 Accuracy 0.95 | validation: Loss 0.270365 Accuracy 0.88\n",
      "Epoch 85 | train: Loss 0.229522 Accuracy 0.91 | validation: Loss 0.189987 Accuracy 0.90\n",
      "Epoch 86 | train: Loss 0.184647 Accuracy 0.92 | validation: Loss 0.143504 Accuracy 0.94\n",
      "Epoch 87 | train: Loss 0.118999 Accuracy 0.95 | validation: Loss 0.080961 Accuracy 0.98\n",
      "Epoch 88 | train: Loss 0.086088 Accuracy 0.96 | validation: Loss 0.113469 Accuracy 0.96\n",
      "Epoch 89 | train: Loss 0.125156 Accuracy 0.95 | validation: Loss 0.131998 Accuracy 0.95\n",
      "Epoch 90 | train: Loss 0.104529 Accuracy 0.96 | validation: Loss 0.085013 Accuracy 0.96\n",
      "Epoch 91 | train: Loss 0.124502 Accuracy 0.95 | validation: Loss 0.321653 Accuracy 0.89\n",
      "Epoch 92 | train: Loss 0.191415 Accuracy 0.93 | validation: Loss 0.096977 Accuracy 0.96\n",
      "Epoch 93 | train: Loss 0.153459 Accuracy 0.94 | validation: Loss 0.165639 Accuracy 0.93\n",
      "Epoch 94 | train: Loss 0.113086 Accuracy 0.95 | validation: Loss 0.262541 Accuracy 0.88\n",
      "Epoch 95 | train: Loss 0.219961 Accuracy 0.92 | validation: Loss 0.156344 Accuracy 0.95\n",
      "Epoch 96 | train: Loss 0.111070 Accuracy 0.95 | validation: Loss 0.093335 Accuracy 0.94\n",
      "Epoch 97 | train: Loss 0.106288 Accuracy 0.96 | validation: Loss 0.160165 Accuracy 0.93\n",
      "Epoch 98 | train: Loss 0.092706 Accuracy 0.96 | validation: Loss 0.128802 Accuracy 0.95\n",
      "Epoch 99 | train: Loss 0.123294 Accuracy 0.95 | validation: Loss 0.123120 Accuracy 0.96\n"
     ]
    }
   ],
   "source": [
    "import data_setup, engine, model_architecture\n",
    "from pathlib import Path\n",
    "import torch\n",
    "from torch import nn\n",
    "\n",
    "torch.manual_seed(42)\n",
    "device = \"cuda\" if torch.cuda.is_available() else \"cpu\"\n",
    "city = \"luzern\"\n",
    "\n",
    "model_name = f\"{city}_V1_32\"\n",
    "\n",
    "luzern_data = data_setup.Dataloader()\n",
    "data_path = Path(\"D:\\All Python\\All_Big_raw_Data\\LOS prediction\\Traffic Dataset\\DataLoader\")\n",
    "data_path = data_path / city\n",
    "\n",
    "BATCH_SIZE = 32\n",
    "\n",
    "train_dataloader, val_dataloader, test_dataloader = luzern_data.create_dataloaders(data_dir=data_path, city_code=city,\n",
    "                                                                                   batch_size=BATCH_SIZE)\n",
    "\n",
    "INPUT_SHAPE = 14\n",
    "HIDDEN_UNITS = 32\n",
    "OUTPUT_SHAPE = len(luzern_data.class_names)\n",
    "NUM_EPOCHS = 100\n",
    "\n",
    "model1 = model_architecture.LOS_Classification_V0(in_put=INPUT_SHAPE, hidden_units=HIDDEN_UNITS, out_put=OUTPUT_SHAPE)\n",
    "\n",
    "loss_fn = nn.CrossEntropyLoss()\n",
    "optimizer = torch.optim.Adam(params=model1.parameters(), lr=0.01)\n",
    "\n",
    "model1_results = engine.train(model=model1,\n",
    "                              train_dataloader=train_dataloader,\n",
    "                              val_dataloader=val_dataloader,\n",
    "                              loss_fn=loss_fn,\n",
    "                              optimizer=optimizer,\n",
    "                              epochs=NUM_EPOCHS,\n",
    "                              experiment_name=model_name,\n",
    "                              model_name=\"Neural_Net\",\n",
    "                              early_stop_patience=None,\n",
    "                              device=device)"
   ],
   "metadata": {
    "collapsed": false,
    "ExecuteTime": {
     "end_time": "2023-12-30T09:53:06.453915700Z",
     "start_time": "2023-12-30T09:51:40.835209200Z"
    }
   },
   "id": "2074ef56c01155a6",
   "execution_count": 5
  },
  {
   "cell_type": "code",
   "execution_count": 2,
   "id": "49c945f6",
   "metadata": {
    "ExecuteTime": {
     "end_time": "2023-12-25T10:03:32.185342Z",
     "start_time": "2023-12-25T10:03:28.391514Z"
    }
   },
   "outputs": [
    {
     "name": "stdout",
     "output_type": "stream",
     "text": [
      "usage: main.py [-h] [--datafolder DATAFOLDER] [--city {luzern}] [--seed SEED]\n",
      "               [-n NEURAL_NETWORK] [--early_stop EARLY_STOP]\n",
      "\n",
      "options:\n",
      "  -h, --help            show this help message and exit\n",
      "  --datafolder DATAFOLDER\n",
      "                        Please write the address of the folder which contains\n",
      "                        data.\n",
      "  --city {luzern}       Choose which city are you looking at.\n",
      "  --seed SEED           What is the random you want to model on it?\n",
      "  -n NEURAL_NETWORK, --neural_network NEURAL_NETWORK\n",
      "                        Specify hyper parameters of neural_network in order\n",
      "                        to: hidden_units, epochs, learning_rate\n",
      "  --early_stop EARLY_STOP\n",
      "                        early_stop count?\n"
     ]
    }
   ],
   "source": [
    "import matplotlib.pyplot as plt\n",
    "from sklearn import metrics\n",
    "\n",
    "confusion_matrix = metrics.confusion_matrix(y_true=y_true, y_pred=y_pred)\n",
    "cm_display = metrics.ConfusionMatrixDisplay(confusion_matrix = confusion_matrix, display_labels = [False, True])\n",
    "cm_display.plot()\n",
    "plt.show()\n"
   ]
  },
  {
   "cell_type": "code",
   "outputs": [
    {
     "data": {
      "text/plain": "dict_keys(['train_loss', 'train_acc', 'val_loss', 'val_acc'])"
     },
     "execution_count": 7,
     "metadata": {},
     "output_type": "execute_result"
    }
   ],
   "source": [
    "model1_results.keys()"
   ],
   "metadata": {
    "collapsed": false,
    "ExecuteTime": {
     "end_time": "2023-12-30T09:55:13.501749200Z",
     "start_time": "2023-12-30T09:55:13.391260400Z"
    }
   },
   "id": "6e8c2671a1d0e270",
   "execution_count": 7
  },
  {
   "cell_type": "code",
   "outputs": [],
   "source": [],
   "metadata": {
    "collapsed": false
   },
   "id": "9420fca217ddc3d"
  }
 ],
 "metadata": {
  "kernelspec": {
   "display_name": "Python 3",
   "language": "python",
   "name": "python3"
  },
  "language_info": {
   "codemirror_mode": {
    "name": "ipython",
    "version": 3
   },
   "file_extension": ".py",
   "mimetype": "text/x-python",
   "name": "python",
   "nbconvert_exporter": "python",
   "pygments_lexer": "ipython3",
   "version": "3.11.5"
  }
 },
 "nbformat": 4,
 "nbformat_minor": 5
}
