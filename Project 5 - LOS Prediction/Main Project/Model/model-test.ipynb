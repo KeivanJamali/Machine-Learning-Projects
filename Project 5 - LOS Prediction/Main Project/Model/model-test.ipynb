{
 "cells": [
  {
   "cell_type": "code",
   "execution_count": 4,
   "id": "initial_id",
   "metadata": {
    "collapsed": true,
    "ExecuteTime": {
     "end_time": "2023-12-29T18:24:54.036753700Z",
     "start_time": "2023-12-29T18:24:53.917323Z"
    }
   },
   "outputs": [
    {
     "name": "stdout",
     "output_type": "stream",
     "text": [
      "The autoreload extension is already loaded. To reload it, use:\n",
      "  %reload_ext autoreload\n"
     ]
    }
   ],
   "source": [
    "%load_ext autoreload\n",
    "%autoreload 2"
   ]
  },
  {
   "cell_type": "code",
   "execution_count": 8,
   "id": "ff43e18c",
   "metadata": {
    "ExecuteTime": {
     "end_time": "2023-12-29T18:39:26.039789300Z",
     "start_time": "2023-12-29T18:37:38.602285200Z"
    }
   },
   "outputs": [
    {
     "name": "stdout",
     "output_type": "stream",
     "text": [
      "[INFO] create SummaryWriter saving to runs\\2023-12-29-22\\luzern_V0_32\\Neural_Net\\20epoch\n"
     ]
    },
    {
     "data": {
      "text/plain": "  0%|          | 0/20 [00:00<?, ?it/s]",
      "application/vnd.jupyter.widget-view+json": {
       "version_major": 2,
       "version_minor": 0,
       "model_id": "1d73d0fe074a445289e53268500254ed"
      }
     },
     "metadata": {},
     "output_type": "display_data"
    },
    {
     "name": "stdout",
     "output_type": "stream",
     "text": [
      "Epoch 0 | train: Loss 5.245539 Accuracy 0.56 | validation: Loss 1.561505 Accuracy 0.60\n",
      "Epoch 1 | train: Loss 1.283607 Accuracy 0.62 | validation: Loss 1.181348 Accuracy 0.61\n",
      "Epoch 2 | train: Loss 1.111061 Accuracy 0.63 | validation: Loss 1.092684 Accuracy 0.63\n",
      "Epoch 3 | train: Loss 1.056907 Accuracy 0.64 | validation: Loss 1.067805 Accuracy 0.60\n",
      "Epoch 4 | train: Loss 1.027526 Accuracy 0.64 | validation: Loss 1.032311 Accuracy 0.62\n",
      "Epoch 5 | train: Loss 1.010205 Accuracy 0.64 | validation: Loss 1.002667 Accuracy 0.63\n",
      "Epoch 6 | train: Loss 0.996891 Accuracy 0.64 | validation: Loss 0.991615 Accuracy 0.64\n",
      "Epoch 7 | train: Loss 0.989346 Accuracy 0.64 | validation: Loss 0.967727 Accuracy 0.65\n",
      "Epoch 8 | train: Loss 0.983831 Accuracy 0.64 | validation: Loss 0.969023 Accuracy 0.65\n",
      "Epoch 9 | train: Loss 0.976283 Accuracy 0.64 | validation: Loss 0.989884 Accuracy 0.65\n",
      "Epoch 10 | train: Loss 0.974893 Accuracy 0.65 | validation: Loss 0.984945 Accuracy 0.61\n",
      "Epoch 11 | train: Loss 0.965281 Accuracy 0.65 | validation: Loss 0.957220 Accuracy 0.65\n",
      "Epoch 12 | train: Loss 0.963617 Accuracy 0.65 | validation: Loss 0.947770 Accuracy 0.65\n",
      "Epoch 13 | train: Loss 0.961531 Accuracy 0.65 | validation: Loss 0.940140 Accuracy 0.66\n",
      "Epoch 14 | train: Loss 0.957795 Accuracy 0.64 | validation: Loss 0.957221 Accuracy 0.66\n",
      "Epoch 15 | train: Loss 0.951385 Accuracy 0.65 | validation: Loss 0.969281 Accuracy 0.63\n",
      "Epoch 16 | train: Loss 0.946899 Accuracy 0.65 | validation: Loss 0.980411 Accuracy 0.65\n",
      "Epoch 17 | train: Loss 0.947328 Accuracy 0.64 | validation: Loss 0.947914 Accuracy 0.64\n",
      "Epoch 18 | train: Loss 0.944666 Accuracy 0.65 | validation: Loss 0.924514 Accuracy 0.67\n",
      "Epoch 19 | train: Loss 0.940211 Accuracy 0.65 | validation: Loss 0.951732 Accuracy 0.65\n"
     ]
    }
   ],
   "source": [
    "import data_setup, engine, model_architecture\n",
    "from pathlib import Path\n",
    "import torch\n",
    "from torch import nn\n",
    "\n",
    "torch.manual_seed(42)\n",
    "device = \"cuda\" if torch.cuda.is_available() else \"cpu\"\n",
    "city = \"luzern\"\n",
    "\n",
    "model_name = f\"{city}_V0_32\"\n",
    "\n",
    "luzern_data = data_setup.Dataloader()\n",
    "data_path = Path(\"D:\\All Python\\All_Big_raw_Data\\LOS prediction\\Traffic Dataset\\DataLoader\")\n",
    "data_path = data_path / city\n",
    "\n",
    "train_dataloader, val_dataloader, test_dataloader = luzern_data.create_dataloaders(data_dir=data_path, city_code=city,\n",
    "                                                                                   batch_size=BATCH_SIZE)\n",
    "\n",
    "BATCH_SIZE = 32\n",
    "INPUT_SHAPE = 12\n",
    "HIDDEN_UNITS = 32\n",
    "OUTPUT_SHAPE = len(luzern_data.class_names)\n",
    "NUM_EPOCHS = 20\n",
    "\n",
    "model1 = model_architecture.LOS_Classification_V0(in_put=INPUT_SHAPE, hidden_units=HIDDEN_UNITS, out_put=OUTPUT_SHAPE)\n",
    "\n",
    "loss_fn = nn.CrossEntropyLoss()\n",
    "optimizer = torch.optim.Adam(params=model1.parameters(), lr=0.0001)\n",
    "\n",
    "model1_results = engine.train(model=model1,\n",
    "                              train_dataloader=train_dataloader,\n",
    "                              val_dataloader=val_dataloader,\n",
    "                              loss_fn=loss_fn,\n",
    "                              optimizer=optimizer,\n",
    "                              epochs=NUM_EPOCHS,\n",
    "                              experiment_name=model_name,\n",
    "                              model_name=\"Neural_Net\",\n",
    "                              early_stop_patience=None,\n",
    "                              device=device)"
   ]
  },
  {
   "cell_type": "code",
   "execution_count": 2,
   "id": "49c945f6",
   "metadata": {
    "ExecuteTime": {
     "end_time": "2023-12-25T10:03:32.185342Z",
     "start_time": "2023-12-25T10:03:28.391514Z"
    }
   },
   "outputs": [
    {
     "name": "stdout",
     "output_type": "stream",
     "text": [
      "usage: main.py [-h] [--datafolder DATAFOLDER] [--city {luzern}] [--seed SEED]\n",
      "               [-n NEURAL_NETWORK] [--early_stop EARLY_STOP]\n",
      "\n",
      "options:\n",
      "  -h, --help            show this help message and exit\n",
      "  --datafolder DATAFOLDER\n",
      "                        Please write the address of the folder which contains\n",
      "                        data.\n",
      "  --city {luzern}       Choose which city are you looking at.\n",
      "  --seed SEED           What is the random you want to model on it?\n",
      "  -n NEURAL_NETWORK, --neural_network NEURAL_NETWORK\n",
      "                        Specify hyper parameters of neural_network in order\n",
      "                        to: hidden_units, epochs, learning_rate\n",
      "  --early_stop EARLY_STOP\n",
      "                        early_stop count?\n"
     ]
    }
   ],
   "source": [
    "!python Going_Modular/main.py --help"
   ]
  }
 ],
 "metadata": {
  "kernelspec": {
   "display_name": "Python 3",
   "language": "python",
   "name": "python3"
  },
  "language_info": {
   "codemirror_mode": {
    "name": "ipython",
    "version": 3
   },
   "file_extension": ".py",
   "mimetype": "text/x-python",
   "name": "python",
   "nbconvert_exporter": "python",
   "pygments_lexer": "ipython3",
   "version": "3.11.5"
  }
 },
 "nbformat": 4,
 "nbformat_minor": 5
}
