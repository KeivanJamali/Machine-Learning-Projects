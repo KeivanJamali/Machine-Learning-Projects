{
 "cells": [
  {
   "cell_type": "code",
   "execution_count": 1,
   "id": "initial_id",
   "metadata": {
    "collapsed": true,
    "ExecuteTime": {
     "end_time": "2023-08-26T07:02:44.466872100Z",
     "start_time": "2023-08-26T07:02:34.923896500Z"
    }
   },
   "outputs": [],
   "source": [
    "%load_ext autoreload\n",
    "%autoreload 2\n",
    "import ML\n",
    "import pandas as pd\n",
    "import torch\n",
    "from torch import nn\n",
    "from torch import optim"
   ]
  },
  {
   "cell_type": "markdown",
   "source": [
    "# prepare data split"
   ],
   "metadata": {
    "collapsed": false
   },
   "id": "c0fe50427e976f6c"
  },
  {
   "cell_type": "code",
   "execution_count": 100,
   "outputs": [],
   "source": [
    "data = pd.read_csv(\"Housing.csv\")\n",
    "data.replace(\"yes\", 1, inplace=True)\n",
    "data.replace(\"no\", 0, inplace=True)\n",
    "data.replace(\"furnished\", 1, inplace=True)\n",
    "data.replace(\"semi-furnished\", 0.5, inplace=True)\n",
    "data.replace(\"unfurnished\", 0, inplace=True)"
   ],
   "metadata": {
    "collapsed": false,
    "ExecuteTime": {
     "end_time": "2023-08-10T19:20:58.032116600Z",
     "start_time": "2023-08-10T19:20:57.801915400Z"
    }
   },
   "id": "6b7d96fe2a9c68e2"
  },
  {
   "cell_type": "code",
   "execution_count": 101,
   "outputs": [],
   "source": [
    "data = ML.DataLoader(data)\n",
    "data_train, data_val, data_test, y_train, y_val, y_test = data.preparation()"
   ],
   "metadata": {
    "collapsed": false,
    "ExecuteTime": {
     "end_time": "2023-08-10T19:20:58.768170400Z",
     "start_time": "2023-08-10T19:20:58.549061600Z"
    }
   },
   "id": "d90f5bf25eb13e74"
  },
  {
   "cell_type": "code",
   "execution_count": 102,
   "outputs": [
    {
     "data": {
      "text/plain": "tensor([[0.2852, 0.2000, 0.0000,  ..., 0.0000, 0.0000, 0.5000],\n        [0.2027, 0.6000, 0.0000,  ..., 0.0000, 0.0000, 0.5000],\n        [0.1258, 0.2000, 0.0000,  ..., 0.3333, 0.0000, 0.5000],\n        ...,\n        [0.0340, 0.4000, 0.0000,  ..., 0.0000, 1.0000, 1.0000],\n        [0.1375, 0.4000, 0.0000,  ..., 0.0000, 0.0000, 0.0000],\n        [0.1340, 0.2000, 0.0000,  ..., 0.0000, 0.0000, 0.5000]])"
     },
     "execution_count": 102,
     "metadata": {},
     "output_type": "execute_result"
    }
   ],
   "source": [
    "data_train"
   ],
   "metadata": {
    "collapsed": false,
    "ExecuteTime": {
     "end_time": "2023-08-10T19:21:00.604801Z",
     "start_time": "2023-08-10T19:21:00.402806800Z"
    }
   },
   "id": "cf12a5fbca3eb892"
  },
  {
   "cell_type": "markdown",
   "source": [
    "# modeling"
   ],
   "metadata": {
    "collapsed": false
   },
   "id": "e90b156c383dfa99"
  },
  {
   "cell_type": "code",
   "execution_count": 106,
   "outputs": [
    {
     "name": "stdout",
     "output_type": "stream",
     "text": [
      "Housing_Model(\n",
      "  (hid1): Linear(in_features=12, out_features=8, bias=True)\n",
      "  (act1): ReLU()\n",
      "  (out_layer): Linear(in_features=8, out_features=1, bias=True)\n",
      ")\n"
     ]
    }
   ],
   "source": [
    "input_size = 12\n",
    "hidden_layer = 8\n",
    "n_epochs = 100\n",
    "bach_size = 32\n",
    "learn_rate = 0.001\n",
    "\n",
    "model = ML.Housing_Model(input_size, hidden_layer)\n",
    "print(model)\n",
    "\n",
    "loss_fun = nn.MSELoss()\n",
    "optimizer = optim.Adam(model.parameters(), lr=learn_rate)"
   ],
   "metadata": {
    "collapsed": false,
    "ExecuteTime": {
     "end_time": "2023-08-10T19:22:15.440256400Z",
     "start_time": "2023-08-10T19:22:15.198210800Z"
    }
   },
   "id": "28fa63e69f138c49"
  },
  {
   "cell_type": "code",
   "execution_count": 107,
   "outputs": [
    {
     "name": "stdout",
     "output_type": "stream",
     "text": [
      "Finished epoch 0, latest loss 28191399870464.0\n",
      "Finished epoch 1, latest loss 28191399870464.0\n",
      "Finished epoch 2, latest loss 28191399870464.0\n",
      "Finished epoch 3, latest loss 28191399870464.0\n",
      "Finished epoch 4, latest loss 28191399870464.0\n",
      "Finished epoch 5, latest loss 28191399870464.0\n",
      "Finished epoch 6, latest loss 28191399870464.0\n",
      "Finished epoch 7, latest loss 28191397773312.0\n",
      "Finished epoch 8, latest loss 28191393579008.0\n",
      "Finished epoch 9, latest loss 28191393579008.0\n",
      "Finished epoch 10, latest loss 28191393579008.0\n",
      "Finished epoch 11, latest loss 28191389384704.0\n",
      "Finished epoch 12, latest loss 28191387287552.0\n",
      "Finished epoch 13, latest loss 28191383093248.0\n",
      "Finished epoch 14, latest loss 28191383093248.0\n",
      "Finished epoch 15, latest loss 28191383093248.0\n",
      "Finished epoch 16, latest loss 28191383093248.0\n",
      "Finished epoch 17, latest loss 28191376801792.0\n",
      "Finished epoch 18, latest loss 28191370510336.0\n",
      "Finished epoch 19, latest loss 28191370510336.0\n",
      "Finished epoch 20, latest loss 28191366316032.0\n",
      "Finished epoch 21, latest loss 28191364218880.0\n",
      "Finished epoch 22, latest loss 28191355830272.0\n",
      "Finished epoch 23, latest loss 28191353733120.0\n",
      "Finished epoch 24, latest loss 28191347441664.0\n",
      "Finished epoch 25, latest loss 28191339053056.0\n",
      "Finished epoch 26, latest loss 28191336955904.0\n",
      "Finished epoch 27, latest loss 28191330664448.0\n",
      "Finished epoch 28, latest loss 28191322275840.0\n",
      "Finished epoch 29, latest loss 28191315984384.0\n",
      "Finished epoch 30, latest loss 28191309692928.0\n",
      "Finished epoch 31, latest loss 28191299207168.0\n",
      "Finished epoch 32, latest loss 28191297110016.0\n",
      "Finished epoch 33, latest loss 28191288721408.0\n",
      "Finished epoch 34, latest loss 28191280332800.0\n",
      "Finished epoch 35, latest loss 28191271944192.0\n",
      "Finished epoch 36, latest loss 28191263555584.0\n",
      "Finished epoch 37, latest loss 28191259361280.0\n",
      "Finished epoch 38, latest loss 28191248875520.0\n",
      "Finished epoch 39, latest loss 28191242584064.0\n",
      "Finished epoch 40, latest loss 28191230001152.0\n",
      "Finished epoch 41, latest loss 28191221612544.0\n",
      "Finished epoch 42, latest loss 28191215321088.0\n",
      "Finished epoch 43, latest loss 28191204835328.0\n",
      "Finished epoch 44, latest loss 28191196446720.0\n",
      "Finished epoch 45, latest loss 28191185960960.0\n",
      "Finished epoch 46, latest loss 28191171280896.0\n",
      "Finished epoch 47, latest loss 28191162892288.0\n",
      "Finished epoch 48, latest loss 28191148212224.0\n",
      "Finished epoch 49, latest loss 28191135629312.0\n",
      "Finished epoch 50, latest loss 28191125143552.0\n",
      "Finished epoch 51, latest loss 28191112560640.0\n",
      "Finished epoch 52, latest loss 28191097880576.0\n",
      "Finished epoch 53, latest loss 28191085297664.0\n",
      "Finished epoch 54, latest loss 28191070617600.0\n",
      "Finished epoch 55, latest loss 28191058034688.0\n",
      "Finished epoch 56, latest loss 28191041257472.0\n",
      "Finished epoch 57, latest loss 28191024480256.0\n",
      "Finished epoch 58, latest loss 28191013994496.0\n",
      "Finished epoch 59, latest loss 28190997217280.0\n",
      "Finished epoch 60, latest loss 28190984634368.0\n",
      "Finished epoch 61, latest loss 28190967857152.0\n",
      "Finished epoch 62, latest loss 28190953177088.0\n",
      "Finished epoch 63, latest loss 28190936399872.0\n",
      "Finished epoch 64, latest loss 28190919622656.0\n",
      "Finished epoch 65, latest loss 28190902845440.0\n",
      "Finished epoch 66, latest loss 28190886068224.0\n",
      "Finished epoch 67, latest loss 28190869291008.0\n",
      "Finished epoch 68, latest loss 28190852513792.0\n",
      "Finished epoch 69, latest loss 28190835736576.0\n",
      "Finished epoch 70, latest loss 28190816862208.0\n",
      "Finished epoch 71, latest loss 28190800084992.0\n",
      "Finished epoch 72, latest loss 28190779113472.0\n",
      "Finished epoch 73, latest loss 28190760239104.0\n",
      "Finished epoch 74, latest loss 28190739267584.0\n",
      "Finished epoch 75, latest loss 28190718296064.0\n",
      "Finished epoch 76, latest loss 28190695227392.0\n",
      "Finished epoch 77, latest loss 28190676353024.0\n",
      "Finished epoch 78, latest loss 28190655381504.0\n",
      "Finished epoch 79, latest loss 28190632312832.0\n",
      "Finished epoch 80, latest loss 28190609244160.0\n",
      "Finished epoch 81, latest loss 28190588272640.0\n",
      "Finished epoch 82, latest loss 28190561009664.0\n",
      "Finished epoch 83, latest loss 28190542135296.0\n",
      "Finished epoch 84, latest loss 28190514872320.0\n",
      "Finished epoch 85, latest loss 28190493900800.0\n",
      "Finished epoch 86, latest loss 28190470832128.0\n",
      "Finished epoch 87, latest loss 28190443569152.0\n",
      "Finished epoch 88, latest loss 28190416306176.0\n",
      "Finished epoch 89, latest loss 28190397431808.0\n",
      "Finished epoch 90, latest loss 28190370168832.0\n",
      "Finished epoch 91, latest loss 28190342905856.0\n",
      "Finished epoch 92, latest loss 28190315642880.0\n",
      "Finished epoch 93, latest loss 28190290477056.0\n",
      "Finished epoch 94, latest loss 28190263214080.0\n",
      "Finished epoch 95, latest loss 28190240145408.0\n",
      "Finished epoch 96, latest loss 28190212882432.0\n",
      "Finished epoch 97, latest loss 28190185619456.0\n",
      "Finished epoch 98, latest loss 28190158356480.0\n",
      "Finished epoch 99, latest loss 28190131093504.0\n"
     ]
    }
   ],
   "source": [
    "for epoch in range(n_epochs):\n",
    "    for i in range(0, len(data_train), bach_size):\n",
    "        x_train_bach = data_train[i: i + bach_size]\n",
    "        y_train_bach = y_train[i: i + bach_size]\n",
    "        y_predict = model(x_train_bach)\n",
    "\n",
    "        loss = loss_fun(y_predict, y_train_bach)\n",
    "        optimizer.zero_grad()\n",
    "        loss.backward()\n",
    "        optimizer.step()\n",
    "    print(f\"Finished epoch {epoch}, latest loss {loss}\")"
   ],
   "metadata": {
    "collapsed": false,
    "ExecuteTime": {
     "end_time": "2023-08-10T19:22:16.696278300Z",
     "start_time": "2023-08-10T19:22:15.593437200Z"
    }
   },
   "id": "fe6bd6deaf747b0b"
  },
  {
   "cell_type": "code",
   "execution_count": 110,
   "outputs": [
    {
     "name": "stdout",
     "output_type": "stream",
     "text": [
      "Test Loss: 31534010597376.0\n"
     ]
    }
   ],
   "source": [
    "with torch.no_grad():\n",
    "    model.eval()\n",
    "    val_outputs = model(data_val)\n",
    "    val_loss = loss_fun(val_outputs, y_val)\n",
    "    print(f'Test Loss: {val_loss.item()}')"
   ],
   "metadata": {
    "collapsed": false,
    "ExecuteTime": {
     "end_time": "2023-08-10T19:25:38.134650700Z",
     "start_time": "2023-08-10T19:25:37.933072Z"
    }
   },
   "id": "702f7e67883ed8c5"
  },
  {
   "cell_type": "code",
   "execution_count": 1,
   "outputs": [],
   "source": [
    "import numpy as np"
   ],
   "metadata": {
    "collapsed": false,
    "ExecuteTime": {
     "end_time": "2023-08-28T12:16:33.604660300Z",
     "start_time": "2023-08-28T12:16:33.412374800Z"
    }
   },
   "id": "86cc54c402d75a15"
  },
  {
   "cell_type": "code",
   "execution_count": 2,
   "outputs": [
    {
     "name": "stdout",
     "output_type": "stream",
     "text": [
      "22\n"
     ]
    }
   ],
   "source": [
    "print(22\n",
    "      )"
   ],
   "metadata": {
    "collapsed": false,
    "ExecuteTime": {
     "end_time": "2023-08-28T12:16:39.544415Z",
     "start_time": "2023-08-28T12:16:39.528666600Z"
    }
   },
   "id": "5773412ac37c73"
  },
  {
   "cell_type": "code",
   "execution_count": null,
   "outputs": [],
   "source": [],
   "metadata": {
    "collapsed": false
   },
   "id": "e5a4d073b373cf8"
  }
 ],
 "metadata": {
  "kernelspec": {
   "display_name": "Python 3",
   "language": "python",
   "name": "python3"
  },
  "language_info": {
   "codemirror_mode": {
    "name": "ipython",
    "version": 2
   },
   "file_extension": ".py",
   "mimetype": "text/x-python",
   "name": "python",
   "nbconvert_exporter": "python",
   "pygments_lexer": "ipython2",
   "version": "2.7.6"
  }
 },
 "nbformat": 4,
 "nbformat_minor": 5
}
